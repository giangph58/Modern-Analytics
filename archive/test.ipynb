{
 "cells": [
  {
   "cell_type": "code",
   "execution_count": 10,
   "id": "308bd07b",
   "metadata": {},
   "outputs": [
    {
     "name": "stderr",
     "output_type": "stream",
     "text": [
      "/storage/projects/climate_llm/Modern-Analytics/.venv/lib/python3.10/site-packages/spacy/language.py:2195: FutureWarning: Possible set union at position 6328\n",
      "  deserializers[\"tokenizer\"] = lambda p: self.tokenizer.from_disk(  # type: ignore[union-attr]\n"
     ]
    }
   ],
   "source": [
    "import spacy\n",
    "\n",
    "nlp = spacy.load(\n",
    "    \"/home/gpham/.local/lib/python3.10/site-packages/en_core_sci_lg/en_core_sci_lg-0.5.4\"\n",
    ")\n"
   ]
  },
  {
   "cell_type": "code",
   "execution_count": 14,
   "id": "3ac901ab",
   "metadata": {},
   "outputs": [],
   "source": [
    "import pandas as pd\n",
    "\n",
    "topics_df = pd.read_csv(\"data/processed/topics_df.csv\")\n",
    "docs = topics_df[\"text\"]\n",
    "topics = topics_df[\"topic\"]\n"
   ]
  },
  {
   "cell_type": "code",
   "execution_count": 18,
   "id": "192106a8",
   "metadata": {},
   "outputs": [],
   "source": [
    "from collections import defaultdict, Counter\n",
    "topic_docs = defaultdict(list)\n",
    "for doc, topic in zip(docs, topics):\n",
    "    topic_docs[topic].append(doc)\n",
    "    "
   ]
  },
  {
   "cell_type": "code",
   "execution_count": 19,
   "id": "0bafdbce",
   "metadata": {},
   "outputs": [],
   "source": [
    "# Extract top entities from each topic's documents\n",
    "topic_entity_summary = {}\n"
   ]
  },
  {
   "cell_type": "code",
   "execution_count": 20,
   "id": "16f61e1c",
   "metadata": {},
   "outputs": [
    {
     "name": "stdout",
     "output_type": "stream",
     "text": [
      "Processing Topic 2 with 340 documents...\n",
      "Processing Topic 14 with 125 documents...\n",
      "Processing Topic 7 with 214 documents...\n",
      "Processing Topic 15 with 97 documents...\n",
      "Processing Topic 11 with 128 documents...\n",
      "Processing Topic 16 with 51 documents...\n",
      "Processing Topic 8 with 139 documents...\n",
      "Processing Topic 13 with 140 documents...\n",
      "Processing Topic 0 with 589 documents...\n",
      "Processing Topic 5 with 180 documents...\n",
      "Processing Topic 3 with 216 documents...\n",
      "Processing Topic 1 with 281 documents...\n",
      "Processing Topic 4 with 313 documents...\n",
      "Processing Topic 6 with 195 documents...\n",
      "Processing Topic 12 with 110 documents...\n",
      "Processing Topic 9 with 112 documents...\n",
      "Processing Topic 10 with 103 documents...\n",
      "Processing Topic 17 with 60 documents...\n",
      "Processing Topic 18 with 72 documents...\n"
     ]
    }
   ],
   "source": [
    "for topic_id, doc_list in topic_docs.items():\n",
    "    print(f\"Processing Topic {topic_id} with {len(doc_list)} documents...\")\n",
    "    all_ents = []\n",
    "    for doc in doc_list:\n",
    "        parsed = nlp(doc)\n",
    "        ents = [\n",
    "            ent.text.strip()\n",
    "            for ent in parsed.ents\n",
    "            if 2 <= len(ent.text.split()) <= 5  # Skip very short or very long phrases\n",
    "        ]\n",
    "        all_ents.extend(ents)\n",
    "\n",
    "    entity_counter = Counter(all_ents)\n",
    "    topic_entity_summary[topic_id] = entity_counter.most_common(30)\n"
   ]
  },
  {
   "cell_type": "code",
   "execution_count": 21,
   "id": "5e2266cb",
   "metadata": {},
   "outputs": [
    {
     "name": "stdout",
     "output_type": "stream",
     "text": [
      "✅ Done! Results saved to 'topic_entities_raw.xlsx'\n"
     ]
    }
   ],
   "source": [
    "# Export to Excel\n",
    "with pd.ExcelWriter(\"data/processed/topic_entities_raw.xlsx\") as writer:\n",
    "    for topic_id, entities in topic_entity_summary.items():\n",
    "        df = pd.DataFrame(entities, columns=[\"Entity\", \"Frequency\"])\n",
    "        df.to_excel(writer, sheet_name=f\"Topic_{topic_id}\", index=False)\n",
    "\n",
    "print(\"✅ Done! Results saved to 'topic_entities_raw.xlsx'\")\n"
   ]
  }
 ],
 "metadata": {
  "kernelspec": {
   "display_name": ".venv",
   "language": "python",
   "name": "python3"
  },
  "language_info": {
   "codemirror_mode": {
    "name": "ipython",
    "version": 3
   },
   "file_extension": ".py",
   "mimetype": "text/x-python",
   "name": "python",
   "nbconvert_exporter": "python",
   "pygments_lexer": "ipython3",
   "version": "3.10.12"
  }
 },
 "nbformat": 4,
 "nbformat_minor": 5
}
