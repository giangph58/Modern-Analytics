{
 "cells": [
  {
   "cell_type": "code",
   "execution_count": 12,
   "id": "0d8d6db3",
   "metadata": {},
   "outputs": [],
   "source": [
    "import pandas as pd\n"
   ]
  },
  {
   "cell_type": "code",
   "execution_count": 13,
   "id": "e934aa03",
   "metadata": {},
   "outputs": [],
   "source": [
    "project = pd.read_excel(\"data/raw/project.xlsx\")\n"
   ]
  },
  {
   "cell_type": "code",
   "execution_count": 14,
   "id": "b4c9949a",
   "metadata": {},
   "outputs": [
    {
     "data": {
      "text/plain": [
       "(15341, 20)"
      ]
     },
     "execution_count": 14,
     "metadata": {},
     "output_type": "execute_result"
    }
   ],
   "source": [
    "project.shape\n"
   ]
  },
  {
   "cell_type": "code",
   "execution_count": 15,
   "id": "160e0e2b",
   "metadata": {},
   "outputs": [
    {
     "data": {
      "text/plain": [
       "Index(['id', 'acronym', 'status', 'title', 'startDate', 'endDate', 'totalCost',\n",
       "       'ecMaxContribution', 'legalBasis', 'topics', 'ecSignatureDate',\n",
       "       'frameworkProgramme', 'masterCall', 'subCall', 'fundingScheme',\n",
       "       'nature', 'objective', 'contentUpdateDate', 'rcn', 'grantDoi'],\n",
       "      dtype='object')"
      ]
     },
     "execution_count": 15,
     "metadata": {},
     "output_type": "execute_result"
    }
   ],
   "source": [
    "project.columns\n"
   ]
  },
  {
   "cell_type": "code",
   "execution_count": 16,
   "id": "275f0e25",
   "metadata": {},
   "outputs": [
    {
     "data": {
      "text/html": [
       "<div>\n",
       "<style scoped>\n",
       "    .dataframe tbody tr th:only-of-type {\n",
       "        vertical-align: middle;\n",
       "    }\n",
       "\n",
       "    .dataframe tbody tr th {\n",
       "        vertical-align: top;\n",
       "    }\n",
       "\n",
       "    .dataframe thead th {\n",
       "        text-align: right;\n",
       "    }\n",
       "</style>\n",
       "<table border=\"1\" class=\"dataframe\">\n",
       "  <thead>\n",
       "    <tr style=\"text-align: right;\">\n",
       "      <th></th>\n",
       "      <th>id</th>\n",
       "      <th>acronym</th>\n",
       "      <th>title</th>\n",
       "      <th>objective</th>\n",
       "    </tr>\n",
       "  </thead>\n",
       "  <tbody>\n",
       "    <tr>\n",
       "      <th>0</th>\n",
       "      <td>101116741</td>\n",
       "      <td>DOE</td>\n",
       "      <td>Digitizing Other Economies: A Comparative Appr...</td>\n",
       "      <td>How do longstanding, primarily non-industrial,...</td>\n",
       "    </tr>\n",
       "    <tr>\n",
       "      <th>1</th>\n",
       "      <td>101163161</td>\n",
       "      <td>IRASTRO</td>\n",
       "      <td>MOLECULAR QUANTUM DYNAMICS IN LOW TEMPERATURE ...</td>\n",
       "      <td>The James Webb Space Telescope (JWST) has ushe...</td>\n",
       "    </tr>\n",
       "    <tr>\n",
       "      <th>2</th>\n",
       "      <td>101160499</td>\n",
       "      <td>In-phase</td>\n",
       "      <td>Multiscale modelling of aberrant phase transit...</td>\n",
       "      <td>The spatiotemporal organization of the cell ma...</td>\n",
       "    </tr>\n",
       "    <tr>\n",
       "      <th>3</th>\n",
       "      <td>101166905</td>\n",
       "      <td>mw-atlas</td>\n",
       "      <td>The first comprehensive Atlas of the Milky Way</td>\n",
       "      <td>The Milky Way is the cosmic environment in whi...</td>\n",
       "    </tr>\n",
       "    <tr>\n",
       "      <th>4</th>\n",
       "      <td>101162875</td>\n",
       "      <td>MAtCHLESS</td>\n",
       "      <td>Untapping multiparametric 2D luminescence sens...</td>\n",
       "      <td>Cellular organisms are complex machines whose ...</td>\n",
       "    </tr>\n",
       "  </tbody>\n",
       "</table>\n",
       "</div>"
      ],
      "text/plain": [
       "          id    acronym                                              title  \\\n",
       "0  101116741        DOE  Digitizing Other Economies: A Comparative Appr...   \n",
       "1  101163161    IRASTRO  MOLECULAR QUANTUM DYNAMICS IN LOW TEMPERATURE ...   \n",
       "2  101160499   In-phase  Multiscale modelling of aberrant phase transit...   \n",
       "3  101166905   mw-atlas     The first comprehensive Atlas of the Milky Way   \n",
       "4  101162875  MAtCHLESS  Untapping multiparametric 2D luminescence sens...   \n",
       "\n",
       "                                           objective  \n",
       "0  How do longstanding, primarily non-industrial,...  \n",
       "1  The James Webb Space Telescope (JWST) has ushe...  \n",
       "2  The spatiotemporal organization of the cell ma...  \n",
       "3  The Milky Way is the cosmic environment in whi...  \n",
       "4  Cellular organisms are complex machines whose ...  "
      ]
     },
     "execution_count": 16,
     "metadata": {},
     "output_type": "execute_result"
    }
   ],
   "source": [
    "project[[\"id\", \"acronym\", \"title\", \"objective\"]][:5]\n"
   ]
  },
  {
   "cell_type": "code",
   "execution_count": 17,
   "id": "5423e893",
   "metadata": {},
   "outputs": [
    {
     "data": {
      "text/html": [
       "<div>\n",
       "<style scoped>\n",
       "    .dataframe tbody tr th:only-of-type {\n",
       "        vertical-align: middle;\n",
       "    }\n",
       "\n",
       "    .dataframe tbody tr th {\n",
       "        vertical-align: top;\n",
       "    }\n",
       "\n",
       "    .dataframe thead th {\n",
       "        text-align: right;\n",
       "    }\n",
       "</style>\n",
       "<table border=\"1\" class=\"dataframe\">\n",
       "  <thead>\n",
       "    <tr style=\"text-align: right;\">\n",
       "      <th></th>\n",
       "      <th>id</th>\n",
       "      <th>acronym</th>\n",
       "      <th>status</th>\n",
       "      <th>title</th>\n",
       "      <th>startDate</th>\n",
       "      <th>endDate</th>\n",
       "      <th>totalCost</th>\n",
       "      <th>ecMaxContribution</th>\n",
       "      <th>legalBasis</th>\n",
       "      <th>topics</th>\n",
       "      <th>ecSignatureDate</th>\n",
       "      <th>frameworkProgramme</th>\n",
       "      <th>masterCall</th>\n",
       "      <th>subCall</th>\n",
       "      <th>fundingScheme</th>\n",
       "      <th>nature</th>\n",
       "      <th>objective</th>\n",
       "      <th>contentUpdateDate</th>\n",
       "      <th>rcn</th>\n",
       "      <th>grantDoi</th>\n",
       "    </tr>\n",
       "  </thead>\n",
       "  <tbody>\n",
       "    <tr>\n",
       "      <th>0</th>\n",
       "      <td>101116741</td>\n",
       "      <td>DOE</td>\n",
       "      <td>SIGNED</td>\n",
       "      <td>Digitizing Other Economies: A Comparative Appr...</td>\n",
       "      <td>2024-02-01</td>\n",
       "      <td>2029-01-31</td>\n",
       "      <td>1499998</td>\n",
       "      <td>1499998</td>\n",
       "      <td>HORIZON.1.1</td>\n",
       "      <td>ERC-2023-STG</td>\n",
       "      <td>2023-12-15</td>\n",
       "      <td>HORIZON</td>\n",
       "      <td>ERC-2023-STG</td>\n",
       "      <td>ERC-2023-STG</td>\n",
       "      <td>HORIZON-ERC</td>\n",
       "      <td>NaN</td>\n",
       "      <td>How do longstanding, primarily non-industrial,...</td>\n",
       "      <td>2023-12-26 14:40:12</td>\n",
       "      <td>259247</td>\n",
       "      <td>10.3030/101116741</td>\n",
       "    </tr>\n",
       "    <tr>\n",
       "      <th>1</th>\n",
       "      <td>101163161</td>\n",
       "      <td>IRASTRO</td>\n",
       "      <td>SIGNED</td>\n",
       "      <td>MOLECULAR QUANTUM DYNAMICS IN LOW TEMPERATURE ...</td>\n",
       "      <td>2025-08-01</td>\n",
       "      <td>2031-07-31</td>\n",
       "      <td>12085363</td>\n",
       "      <td>12085363</td>\n",
       "      <td>HORIZON.1.1</td>\n",
       "      <td>ERC-2024-SyG</td>\n",
       "      <td>2025-02-20</td>\n",
       "      <td>HORIZON</td>\n",
       "      <td>ERC-2024-SyG</td>\n",
       "      <td>ERC-2024-SyG</td>\n",
       "      <td>HORIZON-ERC-SYG</td>\n",
       "      <td>NaN</td>\n",
       "      <td>The James Webb Space Telescope (JWST) has ushe...</td>\n",
       "      <td>2025-02-24 17:23:14</td>\n",
       "      <td>268970</td>\n",
       "      <td>10.3030/101163161</td>\n",
       "    </tr>\n",
       "    <tr>\n",
       "      <th>2</th>\n",
       "      <td>101160499</td>\n",
       "      <td>In-phase</td>\n",
       "      <td>SIGNED</td>\n",
       "      <td>Multiscale modelling of aberrant phase transit...</td>\n",
       "      <td>2025-06-01</td>\n",
       "      <td>2030-05-31</td>\n",
       "      <td>1489128</td>\n",
       "      <td>1489128</td>\n",
       "      <td>HORIZON.1.1</td>\n",
       "      <td>ERC-2024-STG</td>\n",
       "      <td>2025-02-19</td>\n",
       "      <td>HORIZON</td>\n",
       "      <td>ERC-2024-STG</td>\n",
       "      <td>ERC-2024-STG</td>\n",
       "      <td>HORIZON-ERC</td>\n",
       "      <td>NaN</td>\n",
       "      <td>The spatiotemporal organization of the cell ma...</td>\n",
       "      <td>2025-02-24 17:23:11</td>\n",
       "      <td>268969</td>\n",
       "      <td>10.3030/101160499</td>\n",
       "    </tr>\n",
       "    <tr>\n",
       "      <th>3</th>\n",
       "      <td>101166905</td>\n",
       "      <td>mw-atlas</td>\n",
       "      <td>SIGNED</td>\n",
       "      <td>The first comprehensive Atlas of the Milky Way</td>\n",
       "      <td>2025-05-01</td>\n",
       "      <td>2031-04-30</td>\n",
       "      <td>9957560</td>\n",
       "      <td>9957560</td>\n",
       "      <td>HORIZON.1.1</td>\n",
       "      <td>ERC-2024-SyG</td>\n",
       "      <td>2025-02-20</td>\n",
       "      <td>HORIZON</td>\n",
       "      <td>ERC-2024-SyG</td>\n",
       "      <td>ERC-2024-SyG</td>\n",
       "      <td>HORIZON-ERC-SYG</td>\n",
       "      <td>NaN</td>\n",
       "      <td>The Milky Way is the cosmic environment in whi...</td>\n",
       "      <td>2025-02-24 17:23:01</td>\n",
       "      <td>268971</td>\n",
       "      <td>10.3030/101166905</td>\n",
       "    </tr>\n",
       "    <tr>\n",
       "      <th>4</th>\n",
       "      <td>101162875</td>\n",
       "      <td>MAtCHLESS</td>\n",
       "      <td>SIGNED</td>\n",
       "      <td>Untapping multiparametric 2D luminescence sens...</td>\n",
       "      <td>2025-03-01</td>\n",
       "      <td>2030-02-28</td>\n",
       "      <td>1500000</td>\n",
       "      <td>1500000</td>\n",
       "      <td>HORIZON.1.1</td>\n",
       "      <td>ERC-2024-STG</td>\n",
       "      <td>2025-02-18</td>\n",
       "      <td>HORIZON</td>\n",
       "      <td>ERC-2024-STG</td>\n",
       "      <td>ERC-2024-STG</td>\n",
       "      <td>HORIZON-ERC</td>\n",
       "      <td>NaN</td>\n",
       "      <td>Cellular organisms are complex machines whose ...</td>\n",
       "      <td>2025-02-24 17:23:12</td>\n",
       "      <td>268966</td>\n",
       "      <td>10.3030/101162875</td>\n",
       "    </tr>\n",
       "  </tbody>\n",
       "</table>\n",
       "</div>"
      ],
      "text/plain": [
       "          id    acronym  status  \\\n",
       "0  101116741        DOE  SIGNED   \n",
       "1  101163161    IRASTRO  SIGNED   \n",
       "2  101160499   In-phase  SIGNED   \n",
       "3  101166905   mw-atlas  SIGNED   \n",
       "4  101162875  MAtCHLESS  SIGNED   \n",
       "\n",
       "                                               title   startDate     endDate  \\\n",
       "0  Digitizing Other Economies: A Comparative Appr...  2024-02-01  2029-01-31   \n",
       "1  MOLECULAR QUANTUM DYNAMICS IN LOW TEMPERATURE ...  2025-08-01  2031-07-31   \n",
       "2  Multiscale modelling of aberrant phase transit...  2025-06-01  2030-05-31   \n",
       "3     The first comprehensive Atlas of the Milky Way  2025-05-01  2031-04-30   \n",
       "4  Untapping multiparametric 2D luminescence sens...  2025-03-01  2030-02-28   \n",
       "\n",
       "  totalCost ecMaxContribution   legalBasis        topics ecSignatureDate  \\\n",
       "0   1499998           1499998  HORIZON.1.1  ERC-2023-STG      2023-12-15   \n",
       "1  12085363          12085363  HORIZON.1.1  ERC-2024-SyG      2025-02-20   \n",
       "2   1489128           1489128  HORIZON.1.1  ERC-2024-STG      2025-02-19   \n",
       "3   9957560           9957560  HORIZON.1.1  ERC-2024-SyG      2025-02-20   \n",
       "4   1500000           1500000  HORIZON.1.1  ERC-2024-STG      2025-02-18   \n",
       "\n",
       "  frameworkProgramme    masterCall       subCall    fundingScheme  nature  \\\n",
       "0            HORIZON  ERC-2023-STG  ERC-2023-STG      HORIZON-ERC     NaN   \n",
       "1            HORIZON  ERC-2024-SyG  ERC-2024-SyG  HORIZON-ERC-SYG     NaN   \n",
       "2            HORIZON  ERC-2024-STG  ERC-2024-STG      HORIZON-ERC     NaN   \n",
       "3            HORIZON  ERC-2024-SyG  ERC-2024-SyG  HORIZON-ERC-SYG     NaN   \n",
       "4            HORIZON  ERC-2024-STG  ERC-2024-STG      HORIZON-ERC     NaN   \n",
       "\n",
       "                                           objective    contentUpdateDate  \\\n",
       "0  How do longstanding, primarily non-industrial,...  2023-12-26 14:40:12   \n",
       "1  The James Webb Space Telescope (JWST) has ushe...  2025-02-24 17:23:14   \n",
       "2  The spatiotemporal organization of the cell ma...  2025-02-24 17:23:11   \n",
       "3  The Milky Way is the cosmic environment in whi...  2025-02-24 17:23:01   \n",
       "4  Cellular organisms are complex machines whose ...  2025-02-24 17:23:12   \n",
       "\n",
       "      rcn           grantDoi  \n",
       "0  259247  10.3030/101116741  \n",
       "1  268970  10.3030/101163161  \n",
       "2  268969  10.3030/101160499  \n",
       "3  268971  10.3030/101166905  \n",
       "4  268966  10.3030/101162875  "
      ]
     },
     "execution_count": 17,
     "metadata": {},
     "output_type": "execute_result"
    }
   ],
   "source": [
    "project.head()\n"
   ]
  },
  {
   "cell_type": "code",
   "execution_count": 24,
   "id": "6538ee6c",
   "metadata": {},
   "outputs": [],
   "source": [
    "def filter_health_projects(df):\n",
    "    \"\"\"\n",
    "    Filter projects related to health based on keywords.\n",
    "    \"\"\"\n",
    "    # Filter by topic (Health category)\n",
    "    df[\"text\"] = df[\"title\"] + \"\\n\" + df[\"objective\"]\n",
    "    health_keywords = [\"health\", \"healthcare\", \"clinical\", \"medicine\", \"medical\", \"biomedical\", \"disease\", \"cancer\", \"pandemic\"]\n",
    "    \n",
    "    # Check if topic or objective contains health-related keywords\n",
    "    mask = df[\"text\"].str.lower().str.contains(\"|\".join(health_keywords), na=False)\n",
    "    health_df = df[mask].copy()\n",
    "    return health_df   \n"
   ]
  },
  {
   "cell_type": "code",
   "execution_count": 25,
   "id": "2df8b5f5",
   "metadata": {},
   "outputs": [
    {
     "data": {
      "text/plain": [
       "(5192, 21)"
      ]
     },
     "execution_count": 25,
     "metadata": {},
     "output_type": "execute_result"
    }
   ],
   "source": [
    "health_df = filter_health_projects(project)\n",
    "health_df.shape\n"
   ]
  },
  {
   "cell_type": "code",
   "execution_count": null,
   "id": "230f8355",
   "metadata": {},
   "outputs": [],
   "source": [
    "for i in health_df[\"text\"][:5]:\n",
    "    print(i)\n",
    "    "
   ]
  },
  {
   "cell_type": "code",
   "execution_count": null,
   "id": "d6f6328d",
   "metadata": {},
   "outputs": [],
   "source": [
    "import matplotlib.pyplot as plt\n",
    "\n",
    "health_df[\"Words Per Abstract\"] = health_df[\"objective\"].str.split().apply(len)\n",
    "health_df.boxplot(\"Words Per Abstract\", grid=False, showfliers=False, color=\"black\")\n",
    "plt.suptitle(\"\")\n",
    "plt.xlabel(\"\")\n",
    "plt.show()\n"
   ]
  },
  {
   "cell_type": "code",
   "execution_count": null,
   "id": "83015e3f",
   "metadata": {},
   "outputs": [],
   "source": [
    "health_df.to_csv(\"data/interim/health.csv\")\n"
   ]
  }
 ],
 "metadata": {
  "kernelspec": {
   "display_name": ".venv",
   "language": "python",
   "name": "python3"
  },
  "language_info": {
   "codemirror_mode": {
    "name": "ipython",
    "version": 3
   },
   "file_extension": ".py",
   "mimetype": "text/x-python",
   "name": "python",
   "nbconvert_exporter": "python",
   "pygments_lexer": "ipython3",
   "version": "3.10.12"
  }
 },
 "nbformat": 4,
 "nbformat_minor": 5
}
