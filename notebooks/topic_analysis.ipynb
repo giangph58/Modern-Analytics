{
 "cells": [
  {
   "cell_type": "code",
   "execution_count": 1,
   "id": "6e38f37d",
   "metadata": {},
   "outputs": [],
   "source": [
    "import pandas as pd\n"
   ]
  },
  {
   "cell_type": "code",
   "execution_count": 27,
   "id": "c5803427",
   "metadata": {},
   "outputs": [],
   "source": [
    "topics_df = pd.read_csv(\"data/processed/topics_df.csv\")\n"
   ]
  },
  {
   "cell_type": "code",
   "execution_count": null,
   "id": "51e8522f",
   "metadata": {},
   "outputs": [
    {
     "data": {
      "application/vnd.jupyter.widget-view+json": {
       "model_id": "b2dc2d02f4fd424d9284cb64afd3c77e",
       "version_major": 2,
       "version_minor": 0
      },
      "text/plain": [
       "modules.json:   0%|          | 0.00/349 [00:00<?, ?B/s]"
      ]
     },
     "metadata": {},
     "output_type": "display_data"
    },
    {
     "data": {
      "application/vnd.jupyter.widget-view+json": {
       "model_id": "2932d6d8c2374f1eb315716044421ec5",
       "version_major": 2,
       "version_minor": 0
      },
      "text/plain": [
       "config_sentence_transformers.json:   0%|          | 0.00/116 [00:00<?, ?B/s]"
      ]
     },
     "metadata": {},
     "output_type": "display_data"
    },
    {
     "data": {
      "application/vnd.jupyter.widget-view+json": {
       "model_id": "117f27b24aa54f68a5de3527315c293a",
       "version_major": 2,
       "version_minor": 0
      },
      "text/plain": [
       "README.md:   0%|          | 0.00/10.4k [00:00<?, ?B/s]"
      ]
     },
     "metadata": {},
     "output_type": "display_data"
    },
    {
     "data": {
      "application/vnd.jupyter.widget-view+json": {
       "model_id": "63ec2e9f7ed5437d9e1240ef7bc681f8",
       "version_major": 2,
       "version_minor": 0
      },
      "text/plain": [
       "sentence_bert_config.json:   0%|          | 0.00/53.0 [00:00<?, ?B/s]"
      ]
     },
     "metadata": {},
     "output_type": "display_data"
    },
    {
     "data": {
      "application/vnd.jupyter.widget-view+json": {
       "model_id": "8e5f035954c04ac9bc4ca80f87bb3034",
       "version_major": 2,
       "version_minor": 0
      },
      "text/plain": [
       "config.json:   0%|          | 0.00/571 [00:00<?, ?B/s]"
      ]
     },
     "metadata": {},
     "output_type": "display_data"
    },
    {
     "data": {
      "application/vnd.jupyter.widget-view+json": {
       "model_id": "57f440a9b8b8497ea608fe2026a1c5fd",
       "version_major": 2,
       "version_minor": 0
      },
      "text/plain": [
       "model.safetensors:   0%|          | 0.00/438M [00:00<?, ?B/s]"
      ]
     },
     "metadata": {},
     "output_type": "display_data"
    },
    {
     "data": {
      "application/vnd.jupyter.widget-view+json": {
       "model_id": "50aaf8789c8b4cedbf40b1f83c26dcbd",
       "version_major": 2,
       "version_minor": 0
      },
      "text/plain": [
       "tokenizer_config.json:   0%|          | 0.00/363 [00:00<?, ?B/s]"
      ]
     },
     "metadata": {},
     "output_type": "display_data"
    },
    {
     "data": {
      "application/vnd.jupyter.widget-view+json": {
       "model_id": "a2468cd8d08c4bd5be5048536876cca7",
       "version_major": 2,
       "version_minor": 0
      },
      "text/plain": [
       "vocab.txt:   0%|          | 0.00/232k [00:00<?, ?B/s]"
      ]
     },
     "metadata": {},
     "output_type": "display_data"
    },
    {
     "data": {
      "application/vnd.jupyter.widget-view+json": {
       "model_id": "444bddc022754f84a091d88f7492793f",
       "version_major": 2,
       "version_minor": 0
      },
      "text/plain": [
       "tokenizer.json:   0%|          | 0.00/466k [00:00<?, ?B/s]"
      ]
     },
     "metadata": {},
     "output_type": "display_data"
    },
    {
     "data": {
      "application/vnd.jupyter.widget-view+json": {
       "model_id": "50125d27308b4faaafcd5493c50b7ee3",
       "version_major": 2,
       "version_minor": 0
      },
      "text/plain": [
       "special_tokens_map.json:   0%|          | 0.00/239 [00:00<?, ?B/s]"
      ]
     },
     "metadata": {},
     "output_type": "display_data"
    },
    {
     "data": {
      "application/vnd.jupyter.widget-view+json": {
       "model_id": "2f68807a0eaf4ecd8d2a580a5a79ab4e",
       "version_major": 2,
       "version_minor": 0
      },
      "text/plain": [
       "config.json:   0%|          | 0.00/190 [00:00<?, ?B/s]"
      ]
     },
     "metadata": {},
     "output_type": "display_data"
    }
   ],
   "source": [
    "from sentence_transformers import SentenceTransformer\n",
    "\n",
    "# Load model (MiniLM is small & fast; mpnet is more accurate)\n",
    "model = SentenceTransformer(\"sentence-transformers/all-mpnet-base-v2\")\n"
   ]
  },
  {
   "cell_type": "code",
   "execution_count": 14,
   "id": "04c97cc5",
   "metadata": {},
   "outputs": [],
   "source": [
    "pos_kws = topics_df[[\"topic\", \"POS\"]].drop_duplicates().sort_values(by=\"topic\").reset_index(drop=True)\n"
   ]
  },
  {
   "cell_type": "code",
   "execution_count": null,
   "id": "1b5a6def",
   "metadata": {},
   "outputs": [
    {
     "data": {
      "text/html": [
       "<div>\n",
       "<style scoped>\n",
       "    .dataframe tbody tr th:only-of-type {\n",
       "        vertical-align: middle;\n",
       "    }\n",
       "\n",
       "    .dataframe tbody tr th {\n",
       "        vertical-align: top;\n",
       "    }\n",
       "\n",
       "    .dataframe thead th {\n",
       "        text-align: right;\n",
       "    }\n",
       "</style>\n",
       "<table border=\"1\" class=\"dataframe\">\n",
       "  <thead>\n",
       "    <tr style=\"text-align: right;\">\n",
       "      <th></th>\n",
       "      <th>topic</th>\n",
       "      <th>euroSciVocTitle</th>\n",
       "    </tr>\n",
       "  </thead>\n",
       "  <tbody>\n",
       "    <tr>\n",
       "      <th>0</th>\n",
       "      <td>0</td>\n",
       "      <td>[planets, sensors, oncology, microbiology, pha...</td>\n",
       "    </tr>\n",
       "    <tr>\n",
       "      <th>1</th>\n",
       "      <td>1</td>\n",
       "      <td>[bacteriology, antibiotics, drug discovery, ma...</td>\n",
       "    </tr>\n",
       "    <tr>\n",
       "      <th>2</th>\n",
       "      <td>2</td>\n",
       "      <td>[pathology, RNA, obesity, entrepreneurship, HI...</td>\n",
       "    </tr>\n",
       "    <tr>\n",
       "      <th>3</th>\n",
       "      <td>3</td>\n",
       "      <td>[reproductive medicine, fertility, business mo...</td>\n",
       "    </tr>\n",
       "    <tr>\n",
       "      <th>4</th>\n",
       "      <td>4</td>\n",
       "      <td>[pharmaceutical drugs, parkinson, neurobiology...</td>\n",
       "    </tr>\n",
       "    <tr>\n",
       "      <th>5</th>\n",
       "      <td>5</td>\n",
       "      <td>[proteins, nutrition, ecosystems, fisheries, m...</td>\n",
       "    </tr>\n",
       "    <tr>\n",
       "      <th>6</th>\n",
       "      <td>6</td>\n",
       "      <td>[proteins, oncology, biochemistry, rheumatolog...</td>\n",
       "    </tr>\n",
       "    <tr>\n",
       "      <th>7</th>\n",
       "      <td>7</td>\n",
       "      <td>[entrepreneurship, antibiotics, bacteriology, ...</td>\n",
       "    </tr>\n",
       "    <tr>\n",
       "      <th>8</th>\n",
       "      <td>8</td>\n",
       "      <td>[proteomics, bacteriology, homeostasis, asthma...</td>\n",
       "    </tr>\n",
       "    <tr>\n",
       "      <th>9</th>\n",
       "      <td>9</td>\n",
       "      <td>[sociology, oilseeds, pathology, ecosystems, m...</td>\n",
       "    </tr>\n",
       "    <tr>\n",
       "      <th>10</th>\n",
       "      <td>10</td>\n",
       "      <td>[epilepsy, sensors, stroke, microscopy, pathol...</td>\n",
       "    </tr>\n",
       "    <tr>\n",
       "      <th>11</th>\n",
       "      <td>11</td>\n",
       "      <td>[surgery, antibiotics, mortality, stroke, bios...</td>\n",
       "    </tr>\n",
       "    <tr>\n",
       "      <th>12</th>\n",
       "      <td>12</td>\n",
       "      <td>[multidrug resistance, paediatrics, eHealth, c...</td>\n",
       "    </tr>\n",
       "    <tr>\n",
       "      <th>13</th>\n",
       "      <td>13</td>\n",
       "      <td>[pathology, physiology, organ on a chip, prote...</td>\n",
       "    </tr>\n",
       "    <tr>\n",
       "      <th>14</th>\n",
       "      <td>14</td>\n",
       "      <td>[proteins, cell biology, hepatology, pathology...</td>\n",
       "    </tr>\n",
       "    <tr>\n",
       "      <th>15</th>\n",
       "      <td>15</td>\n",
       "      <td>[pathophysiology, anxiety disorders, ophthalmo...</td>\n",
       "    </tr>\n",
       "    <tr>\n",
       "      <th>16</th>\n",
       "      <td>16</td>\n",
       "      <td>[diabetes, sensors, epilepsy, immunology, hepa...</td>\n",
       "    </tr>\n",
       "    <tr>\n",
       "      <th>17</th>\n",
       "      <td>17</td>\n",
       "      <td>[pharmaceutical drugs, coronaviruses, enzymes,...</td>\n",
       "    </tr>\n",
       "    <tr>\n",
       "      <th>18</th>\n",
       "      <td>18</td>\n",
       "      <td>[pandemics, ecological restoration, infectious...</td>\n",
       "    </tr>\n",
       "    <tr>\n",
       "      <th>19</th>\n",
       "      <td>19</td>\n",
       "      <td>[software, alzheimer, parkinson, data science,...</td>\n",
       "    </tr>\n",
       "    <tr>\n",
       "      <th>20</th>\n",
       "      <td>20</td>\n",
       "      <td>[drug discovery, ophthalmology, stem cells, bi...</td>\n",
       "    </tr>\n",
       "    <tr>\n",
       "      <th>21</th>\n",
       "      <td>21</td>\n",
       "      <td>[mortality, pandemics, diabetes, obesity, kidn...</td>\n",
       "    </tr>\n",
       "    <tr>\n",
       "      <th>22</th>\n",
       "      <td>22</td>\n",
       "      <td>[subtractive manufacturing, implants, laser ph...</td>\n",
       "    </tr>\n",
       "  </tbody>\n",
       "</table>\n",
       "</div>"
      ],
      "text/plain": [
       "    topic                                    euroSciVocTitle\n",
       "0       0  [planets, sensors, oncology, microbiology, pha...\n",
       "1       1  [bacteriology, antibiotics, drug discovery, ma...\n",
       "2       2  [pathology, RNA, obesity, entrepreneurship, HI...\n",
       "3       3  [reproductive medicine, fertility, business mo...\n",
       "4       4  [pharmaceutical drugs, parkinson, neurobiology...\n",
       "5       5  [proteins, nutrition, ecosystems, fisheries, m...\n",
       "6       6  [proteins, oncology, biochemistry, rheumatolog...\n",
       "7       7  [entrepreneurship, antibiotics, bacteriology, ...\n",
       "8       8  [proteomics, bacteriology, homeostasis, asthma...\n",
       "9       9  [sociology, oilseeds, pathology, ecosystems, m...\n",
       "10     10  [epilepsy, sensors, stroke, microscopy, pathol...\n",
       "11     11  [surgery, antibiotics, mortality, stroke, bios...\n",
       "12     12  [multidrug resistance, paediatrics, eHealth, c...\n",
       "13     13  [pathology, physiology, organ on a chip, prote...\n",
       "14     14  [proteins, cell biology, hepatology, pathology...\n",
       "15     15  [pathophysiology, anxiety disorders, ophthalmo...\n",
       "16     16  [diabetes, sensors, epilepsy, immunology, hepa...\n",
       "17     17  [pharmaceutical drugs, coronaviruses, enzymes,...\n",
       "18     18  [pandemics, ecological restoration, infectious...\n",
       "19     19  [software, alzheimer, parkinson, data science,...\n",
       "20     20  [drug discovery, ophthalmology, stem cells, bi...\n",
       "21     21  [mortality, pandemics, diabetes, obesity, kidn...\n",
       "22     22  [subtractive manufacturing, implants, laser ph..."
      ]
     },
     "execution_count": 61,
     "metadata": {},
     "output_type": "execute_result"
    }
   ],
   "source": [
    "import ast\n",
    "\n",
    "# Function to parse and flatten the string of lists\n",
    "def parse_and_flatten(s):\n",
    "    wrapped = f\"[{s}]\"  # Wrap to parse as list of lists\n",
    "    list_of_lists = ast.literal_eval(wrapped)\n",
    "    return [item for sublist in list_of_lists for item in sublist]\n",
    "\n",
    "\n",
    "# eu_kws = topics_df.copy()\n",
    "# eu_kws[\"euroSciVocTitle\"] = eu_kws[\"euroSciVocTitle\"].apply(\n",
    "    # lambda x: x if isinstance(x, list) else [x]\n",
    "# )\n",
    "# eu_kws = topics_df.groupby(\"topic\", as_index=False).agg({\"euroSciVocTitle\": \", \".join})\n",
    "\n",
    "# Apply the function to column D\n",
    "\n",
    "# eu_kws[\"euroSciVocTitle\"] = eu_kws[\"euroSciVocTitle\"].apply(parse_and_flatten)\n",
    "\n",
    "eu_kws = topics_df.groupby(\"topic\", as_index=False).agg({\"euroSciVocTitle\": \", \".join})\n",
    "eu_kws[\"euroSciVocTitle\"] = eu_kws[\"euroSciVocTitle\"].apply(parse_and_flatten)\n",
    "\n",
    "# Remove duplicates preserving order\n",
    "eu_kws[\"euroSciVocTitle\"] = eu_kws[\"euroSciVocTitle\"].apply(\n",
    "    lambda x: list(dict.fromkeys(x))\n",
    ")\n",
    "eu_kws\n"
   ]
  },
  {
   "cell_type": "code",
   "execution_count": 63,
   "id": "2f1a6b3d",
   "metadata": {},
   "outputs": [],
   "source": [
    "merged_kws = pd.merge(\n",
    "    pos_kws, eu_kws, on=\"topic\"\n",
    ")\n"
   ]
  },
  {
   "cell_type": "code",
   "execution_count": 64,
   "id": "9f2ad797",
   "metadata": {},
   "outputs": [],
   "source": [
    "def embed_keywords(keyword_list):\n",
    "    # Join keywords as a space-separated string\n",
    "    text = \" \".join(keyword_list)\n",
    "    return model.encode(text)\n",
    "\n",
    "# Compute embeddings for each row\n",
    "merged_kws[\"POS_embedding\"] = merged_kws[\"POS\"].apply(embed_keywords)\n",
    "merged_kws[\"euroSciVocTitle_embedding\"] = merged_kws[\"euroSciVocTitle\"].apply(\n",
    "    embed_keywords\n",
    ")\n"
   ]
  },
  {
   "cell_type": "code",
   "execution_count": 65,
   "id": "d2f16665",
   "metadata": {},
   "outputs": [
    {
     "name": "stdout",
     "output_type": "stream",
     "text": [
      "    topic  cosine_similarity\n",
      "0       0           0.217476\n",
      "1       1           0.258500\n",
      "2       2           0.323647\n",
      "3       3           0.230977\n",
      "4       4           0.215596\n",
      "5       5           0.301200\n",
      "6       6           0.231087\n",
      "7       7           0.246912\n",
      "8       8           0.260545\n",
      "9       9           0.242003\n",
      "10     10           0.238915\n",
      "11     11           0.268200\n",
      "12     12           0.296031\n",
      "13     13           0.106812\n",
      "14     14           0.165878\n",
      "15     15           0.247935\n",
      "16     16           0.228096\n",
      "17     17           0.167242\n",
      "18     18           0.264402\n",
      "19     19           0.277445\n",
      "20     20           0.107129\n",
      "21     21           0.127872\n",
      "22     22           0.177383\n"
     ]
    }
   ],
   "source": [
    "from sklearn.metrics.pairwise import cosine_similarity\n",
    "\n",
    "# Compute cosine similarity for each row\n",
    "def cosine_sim(row):\n",
    "    emb1 = row[\"POS_embedding\"].reshape(1, -1)\n",
    "    emb2 = row[\"euroSciVocTitle_embedding\"].reshape(1, -1)\n",
    "    return cosine_similarity(emb1, emb2)[0][0]\n",
    "\n",
    "merged_kws[\"cosine_similarity\"] = merged_kws.apply(cosine_sim, axis=1)\n",
    "\n",
    "# Keep relevant columns\n",
    "result = merged_kws[[\"topic\", \"cosine_similarity\"]]\n",
    "print(result)\n"
   ]
  },
  {
   "cell_type": "code",
   "execution_count": 67,
   "id": "6037773e",
   "metadata": {},
   "outputs": [
    {
     "name": "stdout",
     "output_type": "stream",
     "text": [
      "Topic ID: 20\n",
      "BERTopic Keywords:                       Other Method Keywords:\n",
      "eye                                      drug discovery\n",
      "retinal                                  ophthalmology\n",
      "ocular                                   stem cells\n",
      "retina                                   biomaterials\n",
      "vision                                   entrepreneurship\n",
      "blindness                                pathology\n",
      "diseases                                 cells technologies\n",
      "degeneration                             software\n",
      "macular                                  radiology\n",
      "related macular                          parkinson\n",
      "                                         surgery\n",
      "                                         robotics\n",
      "                                         medical biotechnology\n",
      "                                         physical chemistry\n",
      "                                         physiology\n",
      "                                         gene therapy\n",
      "                                         RNA\n",
      "                                         genomes\n",
      "                                         pharmacokinetics\n",
      "                                         nano-materials\n",
      "                                         spectroscopy\n",
      "                                         mutation\n",
      "                                         pathophysiology\n",
      "                                         immunology\n",
      "                                         glaucoma\n",
      "                                         retinopathy\n",
      "                                         public health\n",
      "                                         machine learning\n",
      "                                         alzheimer\n",
      "                                         histology\n",
      "                                         nucleic acids\n",
      "                                         pharmaceutical drugs\n",
      "                                         nanomedicine\n",
      "                                         surgical procedures\n",
      "                                         virology\n",
      "                                         laser physics\n",
      "                                         proteins\n",
      "                                         developmental biology\n",
      "                                         mathematical model\n",
      "                                         artificial intelligence\n",
      "                                         optics\n",
      "                                         pharmacology and pharmacy\n",
      "                                         optoelectronics\n",
      "                                         implants\n",
      "                                         polymer sciences\n",
      "                                         optical sensors\n",
      "                                         diabetes\n",
      "                                         oncology\n"
     ]
    }
   ],
   "source": [
    "import ast\n",
    "\n",
    "topic_to_compare = 20\n",
    "\n",
    "topic_row = merged_kws[merged_kws[\"topic\"] == topic_to_compare]\n",
    "\n",
    "if topic_row.empty:\n",
    "    print(f\"No topic found with topic = {topic_to_compare}\")\n",
    "else:\n",
    "    POS_keywords = topic_row.iloc[0][\"POS\"]\n",
    "    euroSciVocTitle_keywords = topic_row.iloc[0][\"euroSciVocTitle\"]\n",
    "\n",
    "    # Convert POS_keywords string to list:\n",
    "    if isinstance(POS_keywords, str):\n",
    "        # Try parsing with ast.literal_eval first\n",
    "        try:\n",
    "            POS_keywords = ast.literal_eval(POS_keywords)\n",
    "        except (ValueError, SyntaxError):\n",
    "            # If fails, assume comma-separated string\n",
    "            POS_keywords = [k.strip() for k in POS_keywords.split(\",\")]\n",
    "\n",
    "    print(f\"Topic ID: {topic_to_compare}\")\n",
    "    print(\"BERTopic Keywords:\".ljust(40), \"Other Method Keywords:\")\n",
    "\n",
    "    max_len = max(len(POS_keywords), len(euroSciVocTitle_keywords))\n",
    "    POS_keywords += [\"\"] * (max_len - len(POS_keywords))\n",
    "    euroSciVocTitle_keywords += [\"\"] * (max_len - len(euroSciVocTitle_keywords))\n",
    "\n",
    "    for k1, k2 in zip(POS_keywords, euroSciVocTitle_keywords):\n",
    "        print(f\"{k1.ljust(40)} {k2}\")\n"
   ]
  }
 ],
 "metadata": {
  "kernelspec": {
   "display_name": ".venv",
   "language": "python",
   "name": "python3"
  },
  "language_info": {
   "codemirror_mode": {
    "name": "ipython",
    "version": 3
   },
   "file_extension": ".py",
   "mimetype": "text/x-python",
   "name": "python",
   "nbconvert_exporter": "python",
   "pygments_lexer": "ipython3",
   "version": "3.10.12"
  }
 },
 "nbformat": 4,
 "nbformat_minor": 5
}
