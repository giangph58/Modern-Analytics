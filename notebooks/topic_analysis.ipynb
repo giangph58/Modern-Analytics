{
 "cells": [
  {
   "cell_type": "markdown",
   "id": "cc9825db",
   "metadata": {},
   "source": [
    "# Semantic alignment"
   ]
  },
  {
   "cell_type": "code",
   "execution_count": 1,
   "id": "6e38f37d",
   "metadata": {},
   "outputs": [],
   "source": [
    "import pandas as pd\n"
   ]
  },
  {
   "cell_type": "code",
   "execution_count": 27,
   "id": "c5803427",
   "metadata": {},
   "outputs": [],
   "source": [
    "topics_df = pd.read_csv(\"data/processed/topics_df.csv\")\n"
   ]
  },
  {
   "cell_type": "code",
   "execution_count": null,
   "id": "51e8522f",
   "metadata": {},
   "outputs": [
    {
     "data": {
      "application/vnd.jupyter.widget-view+json": {
       "model_id": "b2dc2d02f4fd424d9284cb64afd3c77e",
       "version_major": 2,
       "version_minor": 0
      },
      "text/plain": [
       "modules.json:   0%|          | 0.00/349 [00:00<?, ?B/s]"
      ]
     },
     "metadata": {},
     "output_type": "display_data"
    },
    {
     "data": {
      "application/vnd.jupyter.widget-view+json": {
       "model_id": "2932d6d8c2374f1eb315716044421ec5",
       "version_major": 2,
       "version_minor": 0
      },
      "text/plain": [
       "config_sentence_transformers.json:   0%|          | 0.00/116 [00:00<?, ?B/s]"
      ]
     },
     "metadata": {},
     "output_type": "display_data"
    },
    {
     "data": {
      "application/vnd.jupyter.widget-view+json": {
       "model_id": "117f27b24aa54f68a5de3527315c293a",
       "version_major": 2,
       "version_minor": 0
      },
      "text/plain": [
       "README.md:   0%|          | 0.00/10.4k [00:00<?, ?B/s]"
      ]
     },
     "metadata": {},
     "output_type": "display_data"
    },
    {
     "data": {
      "application/vnd.jupyter.widget-view+json": {
       "model_id": "63ec2e9f7ed5437d9e1240ef7bc681f8",
       "version_major": 2,
       "version_minor": 0
      },
      "text/plain": [
       "sentence_bert_config.json:   0%|          | 0.00/53.0 [00:00<?, ?B/s]"
      ]
     },
     "metadata": {},
     "output_type": "display_data"
    },
    {
     "data": {
      "application/vnd.jupyter.widget-view+json": {
       "model_id": "8e5f035954c04ac9bc4ca80f87bb3034",
       "version_major": 2,
       "version_minor": 0
      },
      "text/plain": [
       "config.json:   0%|          | 0.00/571 [00:00<?, ?B/s]"
      ]
     },
     "metadata": {},
     "output_type": "display_data"
    },
    {
     "data": {
      "application/vnd.jupyter.widget-view+json": {
       "model_id": "57f440a9b8b8497ea608fe2026a1c5fd",
       "version_major": 2,
       "version_minor": 0
      },
      "text/plain": [
       "model.safetensors:   0%|          | 0.00/438M [00:00<?, ?B/s]"
      ]
     },
     "metadata": {},
     "output_type": "display_data"
    },
    {
     "data": {
      "application/vnd.jupyter.widget-view+json": {
       "model_id": "50aaf8789c8b4cedbf40b1f83c26dcbd",
       "version_major": 2,
       "version_minor": 0
      },
      "text/plain": [
       "tokenizer_config.json:   0%|          | 0.00/363 [00:00<?, ?B/s]"
      ]
     },
     "metadata": {},
     "output_type": "display_data"
    },
    {
     "data": {
      "application/vnd.jupyter.widget-view+json": {
       "model_id": "a2468cd8d08c4bd5be5048536876cca7",
       "version_major": 2,
       "version_minor": 0
      },
      "text/plain": [
       "vocab.txt:   0%|          | 0.00/232k [00:00<?, ?B/s]"
      ]
     },
     "metadata": {},
     "output_type": "display_data"
    },
    {
     "data": {
      "application/vnd.jupyter.widget-view+json": {
       "model_id": "444bddc022754f84a091d88f7492793f",
       "version_major": 2,
       "version_minor": 0
      },
      "text/plain": [
       "tokenizer.json:   0%|          | 0.00/466k [00:00<?, ?B/s]"
      ]
     },
     "metadata": {},
     "output_type": "display_data"
    },
    {
     "data": {
      "application/vnd.jupyter.widget-view+json": {
       "model_id": "50125d27308b4faaafcd5493c50b7ee3",
       "version_major": 2,
       "version_minor": 0
      },
      "text/plain": [
       "special_tokens_map.json:   0%|          | 0.00/239 [00:00<?, ?B/s]"
      ]
     },
     "metadata": {},
     "output_type": "display_data"
    },
    {
     "data": {
      "application/vnd.jupyter.widget-view+json": {
       "model_id": "2f68807a0eaf4ecd8d2a580a5a79ab4e",
       "version_major": 2,
       "version_minor": 0
      },
      "text/plain": [
       "config.json:   0%|          | 0.00/190 [00:00<?, ?B/s]"
      ]
     },
     "metadata": {},
     "output_type": "display_data"
    }
   ],
   "source": [
    "from sentence_transformers import SentenceTransformer\n",
    "\n",
    "# Load model (MiniLM is small & fast; mpnet is more accurate)\n",
    "model = SentenceTransformer(\"sentence-transformers/all-mpnet-base-v2\")\n"
   ]
  },
  {
   "cell_type": "code",
   "execution_count": 14,
   "id": "04c97cc5",
   "metadata": {},
   "outputs": [],
   "source": [
    "pos_kws = topics_df[[\"topic\", \"POS\"]].drop_duplicates().sort_values(by=\"topic\").reset_index(drop=True)\n"
   ]
  },
  {
   "cell_type": "code",
   "execution_count": null,
   "id": "1b5a6def",
   "metadata": {},
   "outputs": [
    {
     "data": {
      "text/html": [
       "<div>\n",
       "<style scoped>\n",
       "    .dataframe tbody tr th:only-of-type {\n",
       "        vertical-align: middle;\n",
       "    }\n",
       "\n",
       "    .dataframe tbody tr th {\n",
       "        vertical-align: top;\n",
       "    }\n",
       "\n",
       "    .dataframe thead th {\n",
       "        text-align: right;\n",
       "    }\n",
       "</style>\n",
       "<table border=\"1\" class=\"dataframe\">\n",
       "  <thead>\n",
       "    <tr style=\"text-align: right;\">\n",
       "      <th></th>\n",
       "      <th>topic</th>\n",
       "      <th>euroSciVocTitle</th>\n",
       "    </tr>\n",
       "  </thead>\n",
       "  <tbody>\n",
       "    <tr>\n",
       "      <th>0</th>\n",
       "      <td>0</td>\n",
       "      <td>[planets, sensors, oncology, microbiology, pha...</td>\n",
       "    </tr>\n",
       "    <tr>\n",
       "      <th>1</th>\n",
       "      <td>1</td>\n",
       "      <td>[bacteriology, antibiotics, drug discovery, ma...</td>\n",
       "    </tr>\n",
       "    <tr>\n",
       "      <th>2</th>\n",
       "      <td>2</td>\n",
       "      <td>[pathology, RNA, obesity, entrepreneurship, HI...</td>\n",
       "    </tr>\n",
       "    <tr>\n",
       "      <th>3</th>\n",
       "      <td>3</td>\n",
       "      <td>[reproductive medicine, fertility, business mo...</td>\n",
       "    </tr>\n",
       "    <tr>\n",
       "      <th>4</th>\n",
       "      <td>4</td>\n",
       "      <td>[pharmaceutical drugs, parkinson, neurobiology...</td>\n",
       "    </tr>\n",
       "    <tr>\n",
       "      <th>5</th>\n",
       "      <td>5</td>\n",
       "      <td>[proteins, nutrition, ecosystems, fisheries, m...</td>\n",
       "    </tr>\n",
       "    <tr>\n",
       "      <th>6</th>\n",
       "      <td>6</td>\n",
       "      <td>[proteins, oncology, biochemistry, rheumatolog...</td>\n",
       "    </tr>\n",
       "    <tr>\n",
       "      <th>7</th>\n",
       "      <td>7</td>\n",
       "      <td>[entrepreneurship, antibiotics, bacteriology, ...</td>\n",
       "    </tr>\n",
       "    <tr>\n",
       "      <th>8</th>\n",
       "      <td>8</td>\n",
       "      <td>[proteomics, bacteriology, homeostasis, asthma...</td>\n",
       "    </tr>\n",
       "    <tr>\n",
       "      <th>9</th>\n",
       "      <td>9</td>\n",
       "      <td>[sociology, oilseeds, pathology, ecosystems, m...</td>\n",
       "    </tr>\n",
       "    <tr>\n",
       "      <th>10</th>\n",
       "      <td>10</td>\n",
       "      <td>[epilepsy, sensors, stroke, microscopy, pathol...</td>\n",
       "    </tr>\n",
       "    <tr>\n",
       "      <th>11</th>\n",
       "      <td>11</td>\n",
       "      <td>[surgery, antibiotics, mortality, stroke, bios...</td>\n",
       "    </tr>\n",
       "    <tr>\n",
       "      <th>12</th>\n",
       "      <td>12</td>\n",
       "      <td>[multidrug resistance, paediatrics, eHealth, c...</td>\n",
       "    </tr>\n",
       "    <tr>\n",
       "      <th>13</th>\n",
       "      <td>13</td>\n",
       "      <td>[pathology, physiology, organ on a chip, prote...</td>\n",
       "    </tr>\n",
       "    <tr>\n",
       "      <th>14</th>\n",
       "      <td>14</td>\n",
       "      <td>[proteins, cell biology, hepatology, pathology...</td>\n",
       "    </tr>\n",
       "    <tr>\n",
       "      <th>15</th>\n",
       "      <td>15</td>\n",
       "      <td>[pathophysiology, anxiety disorders, ophthalmo...</td>\n",
       "    </tr>\n",
       "    <tr>\n",
       "      <th>16</th>\n",
       "      <td>16</td>\n",
       "      <td>[diabetes, sensors, epilepsy, immunology, hepa...</td>\n",
       "    </tr>\n",
       "    <tr>\n",
       "      <th>17</th>\n",
       "      <td>17</td>\n",
       "      <td>[pharmaceutical drugs, coronaviruses, enzymes,...</td>\n",
       "    </tr>\n",
       "    <tr>\n",
       "      <th>18</th>\n",
       "      <td>18</td>\n",
       "      <td>[pandemics, ecological restoration, infectious...</td>\n",
       "    </tr>\n",
       "    <tr>\n",
       "      <th>19</th>\n",
       "      <td>19</td>\n",
       "      <td>[software, alzheimer, parkinson, data science,...</td>\n",
       "    </tr>\n",
       "    <tr>\n",
       "      <th>20</th>\n",
       "      <td>20</td>\n",
       "      <td>[drug discovery, ophthalmology, stem cells, bi...</td>\n",
       "    </tr>\n",
       "    <tr>\n",
       "      <th>21</th>\n",
       "      <td>21</td>\n",
       "      <td>[mortality, pandemics, diabetes, obesity, kidn...</td>\n",
       "    </tr>\n",
       "    <tr>\n",
       "      <th>22</th>\n",
       "      <td>22</td>\n",
       "      <td>[subtractive manufacturing, implants, laser ph...</td>\n",
       "    </tr>\n",
       "  </tbody>\n",
       "</table>\n",
       "</div>"
      ],
      "text/plain": [
       "    topic                                    euroSciVocTitle\n",
       "0       0  [planets, sensors, oncology, microbiology, pha...\n",
       "1       1  [bacteriology, antibiotics, drug discovery, ma...\n",
       "2       2  [pathology, RNA, obesity, entrepreneurship, HI...\n",
       "3       3  [reproductive medicine, fertility, business mo...\n",
       "4       4  [pharmaceutical drugs, parkinson, neurobiology...\n",
       "5       5  [proteins, nutrition, ecosystems, fisheries, m...\n",
       "6       6  [proteins, oncology, biochemistry, rheumatolog...\n",
       "7       7  [entrepreneurship, antibiotics, bacteriology, ...\n",
       "8       8  [proteomics, bacteriology, homeostasis, asthma...\n",
       "9       9  [sociology, oilseeds, pathology, ecosystems, m...\n",
       "10     10  [epilepsy, sensors, stroke, microscopy, pathol...\n",
       "11     11  [surgery, antibiotics, mortality, stroke, bios...\n",
       "12     12  [multidrug resistance, paediatrics, eHealth, c...\n",
       "13     13  [pathology, physiology, organ on a chip, prote...\n",
       "14     14  [proteins, cell biology, hepatology, pathology...\n",
       "15     15  [pathophysiology, anxiety disorders, ophthalmo...\n",
       "16     16  [diabetes, sensors, epilepsy, immunology, hepa...\n",
       "17     17  [pharmaceutical drugs, coronaviruses, enzymes,...\n",
       "18     18  [pandemics, ecological restoration, infectious...\n",
       "19     19  [software, alzheimer, parkinson, data science,...\n",
       "20     20  [drug discovery, ophthalmology, stem cells, bi...\n",
       "21     21  [mortality, pandemics, diabetes, obesity, kidn...\n",
       "22     22  [subtractive manufacturing, implants, laser ph..."
      ]
     },
     "execution_count": 61,
     "metadata": {},
     "output_type": "execute_result"
    }
   ],
   "source": [
    "import ast\n",
    "\n",
    "# Function to parse and flatten the string of lists\n",
    "def parse_and_flatten(s):\n",
    "    wrapped = f\"[{s}]\"  # Wrap to parse as list of lists\n",
    "    list_of_lists = ast.literal_eval(wrapped)\n",
    "    return [item for sublist in list_of_lists for item in sublist]\n",
    "\n",
    "\n",
    "# eu_kws = topics_df.copy()\n",
    "# eu_kws[\"euroSciVocTitle\"] = eu_kws[\"euroSciVocTitle\"].apply(\n",
    "    # lambda x: x if isinstance(x, list) else [x]\n",
    "# )\n",
    "# eu_kws = topics_df.groupby(\"topic\", as_index=False).agg({\"euroSciVocTitle\": \", \".join})\n",
    "\n",
    "# Apply the function to column D\n",
    "\n",
    "# eu_kws[\"euroSciVocTitle\"] = eu_kws[\"euroSciVocTitle\"].apply(parse_and_flatten)\n",
    "\n",
    "eu_kws = topics_df.groupby(\"topic\", as_index=False).agg({\"euroSciVocTitle\": \", \".join})\n",
    "eu_kws[\"euroSciVocTitle\"] = eu_kws[\"euroSciVocTitle\"].apply(parse_and_flatten)\n",
    "\n",
    "# Remove duplicates preserving order\n",
    "eu_kws[\"euroSciVocTitle\"] = eu_kws[\"euroSciVocTitle\"].apply(\n",
    "    lambda x: list(dict.fromkeys(x))\n",
    ")\n",
    "eu_kws\n"
   ]
  },
  {
   "cell_type": "code",
   "execution_count": 63,
   "id": "2f1a6b3d",
   "metadata": {},
   "outputs": [],
   "source": [
    "merged_kws = pd.merge(\n",
    "    pos_kws, eu_kws, on=\"topic\"\n",
    ")\n"
   ]
  },
  {
   "cell_type": "code",
   "execution_count": 64,
   "id": "9f2ad797",
   "metadata": {},
   "outputs": [],
   "source": [
    "def embed_keywords(keyword_list):\n",
    "    # Join keywords as a space-separated string\n",
    "    text = \" \".join(keyword_list)\n",
    "    return model.encode(text)\n",
    "\n",
    "# Compute embeddings for each row\n",
    "merged_kws[\"POS_embedding\"] = merged_kws[\"POS\"].apply(embed_keywords)\n",
    "merged_kws[\"euroSciVocTitle_embedding\"] = merged_kws[\"euroSciVocTitle\"].apply(\n",
    "    embed_keywords\n",
    ")\n"
   ]
  },
  {
   "cell_type": "code",
   "execution_count": 65,
   "id": "d2f16665",
   "metadata": {},
   "outputs": [
    {
     "name": "stdout",
     "output_type": "stream",
     "text": [
      "    topic  cosine_similarity\n",
      "0       0           0.217476\n",
      "1       1           0.258500\n",
      "2       2           0.323647\n",
      "3       3           0.230977\n",
      "4       4           0.215596\n",
      "5       5           0.301200\n",
      "6       6           0.231087\n",
      "7       7           0.246912\n",
      "8       8           0.260545\n",
      "9       9           0.242003\n",
      "10     10           0.238915\n",
      "11     11           0.268200\n",
      "12     12           0.296031\n",
      "13     13           0.106812\n",
      "14     14           0.165878\n",
      "15     15           0.247935\n",
      "16     16           0.228096\n",
      "17     17           0.167242\n",
      "18     18           0.264402\n",
      "19     19           0.277445\n",
      "20     20           0.107129\n",
      "21     21           0.127872\n",
      "22     22           0.177383\n"
     ]
    }
   ],
   "source": [
    "from sklearn.metrics.pairwise import cosine_similarity\n",
    "\n",
    "# Compute cosine similarity for each row\n",
    "def cosine_sim(row):\n",
    "    emb1 = row[\"POS_embedding\"].reshape(1, -1)\n",
    "    emb2 = row[\"euroSciVocTitle_embedding\"].reshape(1, -1)\n",
    "    return cosine_similarity(emb1, emb2)[0][0]\n",
    "\n",
    "merged_kws[\"cosine_similarity\"] = merged_kws.apply(cosine_sim, axis=1)\n",
    "\n",
    "# Keep relevant columns\n",
    "result = merged_kws[[\"topic\", \"cosine_similarity\"]]\n",
    "print(result)\n"
   ]
  },
  {
   "cell_type": "code",
   "execution_count": null,
   "id": "6037773e",
   "metadata": {},
   "outputs": [
    {
     "name": "stdout",
     "output_type": "stream",
     "text": [
      "Topic ID: 20\n",
      "BERTopic Keywords:                       Other Method Keywords:\n",
      "eye                                      drug discovery\n",
      "retinal                                  ophthalmology\n",
      "ocular                                   stem cells\n",
      "retina                                   biomaterials\n",
      "vision                                   entrepreneurship\n",
      "blindness                                pathology\n",
      "diseases                                 cells technologies\n",
      "degeneration                             software\n",
      "macular                                  radiology\n",
      "related macular                          parkinson\n",
      "                                         surgery\n",
      "                                         robotics\n",
      "                                         medical biotechnology\n",
      "                                         physical chemistry\n",
      "                                         physiology\n",
      "                                         gene therapy\n",
      "                                         RNA\n",
      "                                         genomes\n",
      "                                         pharmacokinetics\n",
      "                                         nano-materials\n",
      "                                         spectroscopy\n",
      "                                         mutation\n",
      "                                         pathophysiology\n",
      "                                         immunology\n",
      "                                         glaucoma\n",
      "                                         retinopathy\n",
      "                                         public health\n",
      "                                         machine learning\n",
      "                                         alzheimer\n",
      "                                         histology\n",
      "                                         nucleic acids\n",
      "                                         pharmaceutical drugs\n",
      "                                         nanomedicine\n",
      "                                         surgical procedures\n",
      "                                         virology\n",
      "                                         laser physics\n",
      "                                         proteins\n",
      "                                         developmental biology\n",
      "                                         mathematical model\n",
      "                                         artificial intelligence\n",
      "                                         optics\n",
      "                                         pharmacology and pharmacy\n",
      "                                         optoelectronics\n",
      "                                         implants\n",
      "                                         polymer sciences\n",
      "                                         optical sensors\n",
      "                                         diabetes\n",
      "                                         oncology\n"
     ]
    }
   ],
   "source": [
    "import ast\n",
    "\n",
    "topic_to_compare = 20\n",
    "\n",
    "topic_row = merged_kws[merged_kws[\"topic\"] == topic_to_compare]\n",
    "\n",
    "if topic_row.empty:\n",
    "    print(f\"No topic found with topic = {topic_to_compare}\")\n",
    "else:\n",
    "    POS_keywords = topic_row.iloc[0][\"POS\"]\n",
    "    euroSciVocTitle_keywords = topic_row.iloc[0][\"euroSciVocTitle\"]\n",
    "\n",
    "    # Convert POS_keywords string to list:\n",
    "    if isinstance(POS_keywords, str):\n",
    "        # Try parsing with ast.literal_eval first\n",
    "        try:\n",
    "            POS_keywords = ast.literal_eval(POS_keywords)\n",
    "        except (ValueError, SyntaxError):\n",
    "            # If fails, assume comma-separated string\n",
    "            POS_keywords = [k.strip() for k in POS_keywords.split(\",\")]\n",
    "\n",
    "    print(f\"Topic ID: {topic_to_compare}\")\n",
    "    print(\"BERTopic Keywords:\".ljust(40), \"Other Method Keywords:\")\n",
    "\n",
    "    max_len = max(len(POS_keywords), len(euroSciVocTitle_keywords))\n",
    "    POS_keywords += [\"\"] * (max_len - len(POS_keywords))\n",
    "    euroSciVocTitle_keywords += [\"\"] * (max_len - len(euroSciVocTitle_keywords))\n",
    "\n",
    "    for k1, k2 in zip(POS_keywords, euroSciVocTitle_keywords):\n",
    "        print(f\"{k1.ljust(40)} {k2}\")\n"
   ]
  },
  {
   "cell_type": "markdown",
   "id": "70caa5ba",
   "metadata": {},
   "source": [
    "# Trend in topics"
   ]
  },
  {
   "cell_type": "code",
   "execution_count": 68,
   "id": "2a9ac2fb",
   "metadata": {},
   "outputs": [
    {
     "data": {
      "text/plain": [
       "Index(['projectID', 'title', 'abstract', 'topic', 'euroSciVocTitle',\n",
       "       'ecSignatureDate', 'totalCost', 'ecMaxContribution', 'MMR', 'KeyBERT',\n",
       "       'POS', 'Count'],\n",
       "      dtype='object')"
      ]
     },
     "execution_count": 68,
     "metadata": {},
     "output_type": "execute_result"
    }
   ],
   "source": [
    "topics_df.columns"
   ]
  },
  {
   "cell_type": "code",
   "execution_count": 69,
   "id": "fa71cc3c",
   "metadata": {},
   "outputs": [
    {
     "data": {
      "text/plain": [
       "0       2025-02-18\n",
       "1       2023-05-26\n",
       "2       2023-05-31\n",
       "3       2022-05-24\n",
       "4       2023-06-01\n",
       "           ...    \n",
       "3460    2022-12-22\n",
       "3461    2023-05-31\n",
       "3462    2023-06-07\n",
       "3463    2023-06-02\n",
       "3464    2023-07-30\n",
       "Name: ecSignatureDate, Length: 3465, dtype: object"
      ]
     },
     "execution_count": 69,
     "metadata": {},
     "output_type": "execute_result"
    }
   ],
   "source": [
    "topics_df[\"ecSignatureDate\"]\n"
   ]
  },
  {
   "cell_type": "code",
   "execution_count": 75,
   "id": "293eb589",
   "metadata": {},
   "outputs": [
    {
     "data": {
      "application/vnd.plotly.v1+json": {
       "config": {
        "plotlyServerURL": "https://plot.ly"
       },
       "data": [
        {
         "hovertemplate": "topic=1<br>time_period=%{x}<br>count=%{y}<extra></extra>",
         "legendgroup": "1",
         "line": {
          "color": "#636efa",
          "dash": "solid"
         },
         "marker": {
          "symbol": "circle"
         },
         "mode": "lines+markers",
         "name": "1",
         "orientation": "v",
         "showlegend": true,
         "type": "scatter",
         "x": [
          "2021-11-01T00:00:00",
          "2022-01-01T00:00:00",
          "2022-02-01T00:00:00",
          "2022-03-01T00:00:00",
          "2022-04-01T00:00:00",
          "2022-05-01T00:00:00",
          "2022-06-01T00:00:00",
          "2022-07-01T00:00:00",
          "2022-08-01T00:00:00",
          "2022-09-01T00:00:00",
          "2022-10-01T00:00:00",
          "2022-11-01T00:00:00",
          "2022-12-01T00:00:00",
          "2023-03-01T00:00:00",
          "2023-04-01T00:00:00",
          "2023-05-01T00:00:00",
          "2023-06-01T00:00:00",
          "2023-07-01T00:00:00",
          "2023-08-01T00:00:00",
          "2023-09-01T00:00:00",
          "2023-10-01T00:00:00",
          "2023-11-01T00:00:00",
          "2023-12-01T00:00:00",
          "2024-01-01T00:00:00",
          "2024-02-01T00:00:00",
          "2024-03-01T00:00:00",
          "2024-04-01T00:00:00",
          "2024-05-01T00:00:00",
          "2024-06-01T00:00:00",
          "2024-07-01T00:00:00",
          "2024-08-01T00:00:00",
          "2024-09-01T00:00:00",
          "2024-10-01T00:00:00",
          "2024-11-01T00:00:00",
          "2024-12-01T00:00:00",
          "2025-01-01T00:00:00",
          "2025-02-01T00:00:00"
         ],
         "xaxis": "x",
         "y": {
          "bdata": "BwIBAgMUDgsGCAQEBREODQwJBAgHEBACBA8QCQcICAYJCAsBAg==",
          "dtype": "i1"
         },
         "yaxis": "y"
        },
        {
         "hovertemplate": "topic=18<br>time_period=%{x}<br>count=%{y}<extra></extra>",
         "legendgroup": "18",
         "line": {
          "color": "#EF553B",
          "dash": "solid"
         },
         "marker": {
          "symbol": "circle"
         },
         "mode": "lines+markers",
         "name": "18",
         "orientation": "v",
         "showlegend": true,
         "type": "scatter",
         "x": [
          "2021-11-01T00:00:00",
          "2022-02-01T00:00:00",
          "2022-05-01T00:00:00",
          "2022-06-01T00:00:00",
          "2022-07-01T00:00:00",
          "2022-10-01T00:00:00",
          "2022-11-01T00:00:00",
          "2022-12-01T00:00:00",
          "2023-04-01T00:00:00",
          "2023-05-01T00:00:00",
          "2023-06-01T00:00:00",
          "2023-07-01T00:00:00",
          "2023-09-01T00:00:00",
          "2023-10-01T00:00:00",
          "2023-11-01T00:00:00",
          "2023-12-01T00:00:00",
          "2024-05-01T00:00:00",
          "2024-07-01T00:00:00",
          "2024-10-01T00:00:00",
          "2024-11-01T00:00:00",
          "2024-12-01T00:00:00"
         ],
         "xaxis": "x",
         "y": {
          "bdata": "AgIDBAIEAwEBAwECAwIDAwIBAQEB",
          "dtype": "i1"
         },
         "yaxis": "y"
        },
        {
         "hovertemplate": "topic=0<br>time_period=%{x}<br>count=%{y}<extra></extra>",
         "legendgroup": "0",
         "line": {
          "color": "#00cc96",
          "dash": "solid"
         },
         "marker": {
          "symbol": "circle"
         },
         "mode": "lines+markers",
         "name": "0",
         "orientation": "v",
         "showlegend": true,
         "type": "scatter",
         "x": [
          "2022-01-01T00:00:00",
          "2022-02-01T00:00:00",
          "2022-03-01T00:00:00",
          "2022-04-01T00:00:00",
          "2022-05-01T00:00:00",
          "2022-06-01T00:00:00",
          "2022-07-01T00:00:00",
          "2022-08-01T00:00:00",
          "2022-09-01T00:00:00",
          "2022-10-01T00:00:00",
          "2022-11-01T00:00:00",
          "2022-12-01T00:00:00",
          "2023-01-01T00:00:00",
          "2023-02-01T00:00:00",
          "2023-03-01T00:00:00",
          "2023-04-01T00:00:00",
          "2023-05-01T00:00:00",
          "2023-06-01T00:00:00",
          "2023-07-01T00:00:00",
          "2023-08-01T00:00:00",
          "2023-09-01T00:00:00",
          "2023-10-01T00:00:00",
          "2023-11-01T00:00:00",
          "2023-12-01T00:00:00",
          "2024-01-01T00:00:00",
          "2024-02-01T00:00:00",
          "2024-03-01T00:00:00",
          "2024-04-01T00:00:00",
          "2024-05-01T00:00:00",
          "2024-06-01T00:00:00",
          "2024-07-01T00:00:00",
          "2024-08-01T00:00:00",
          "2024-09-01T00:00:00",
          "2024-10-01T00:00:00",
          "2024-11-01T00:00:00",
          "2024-12-01T00:00:00",
          "2025-02-01T00:00:00"
         ],
         "xaxis": "x",
         "y": {
          "bdata": "AQkUGSAxMRwYFhUXCRE6NyQbHhEWGRocCBciKBwXFgkRFA8HEQ==",
          "dtype": "i1"
         },
         "yaxis": "y"
        },
        {
         "hovertemplate": "topic=8<br>time_period=%{x}<br>count=%{y}<extra></extra>",
         "legendgroup": "8",
         "line": {
          "color": "#ab63fa",
          "dash": "solid"
         },
         "marker": {
          "symbol": "circle"
         },
         "mode": "lines+markers",
         "name": "8",
         "orientation": "v",
         "showlegend": true,
         "type": "scatter",
         "x": [
          "2022-01-01T00:00:00",
          "2022-02-01T00:00:00",
          "2022-03-01T00:00:00",
          "2022-04-01T00:00:00",
          "2022-05-01T00:00:00",
          "2022-06-01T00:00:00",
          "2022-07-01T00:00:00",
          "2022-08-01T00:00:00",
          "2022-09-01T00:00:00",
          "2022-10-01T00:00:00",
          "2022-11-01T00:00:00",
          "2022-12-01T00:00:00",
          "2023-01-01T00:00:00",
          "2023-02-01T00:00:00",
          "2023-03-01T00:00:00",
          "2023-04-01T00:00:00",
          "2023-05-01T00:00:00",
          "2023-06-01T00:00:00",
          "2023-07-01T00:00:00",
          "2023-08-01T00:00:00",
          "2023-09-01T00:00:00",
          "2023-10-01T00:00:00",
          "2023-11-01T00:00:00",
          "2023-12-01T00:00:00",
          "2024-02-01T00:00:00",
          "2024-03-01T00:00:00",
          "2024-04-01T00:00:00",
          "2024-05-01T00:00:00",
          "2024-06-01T00:00:00",
          "2024-07-01T00:00:00",
          "2024-08-01T00:00:00",
          "2024-09-01T00:00:00",
          "2024-10-01T00:00:00",
          "2024-11-01T00:00:00",
          "2024-12-01T00:00:00",
          "2025-01-01T00:00:00"
         ],
         "xaxis": "x",
         "y": {
          "bdata": "AQIEAwUGBAQCAQYFAgEFBgQGBAEDAgICAgYECQYCAQMCAwIB",
          "dtype": "i1"
         },
         "yaxis": "y"
        },
        {
         "hovertemplate": "topic=2<br>time_period=%{x}<br>count=%{y}<extra></extra>",
         "legendgroup": "2",
         "line": {
          "color": "#FFA15A",
          "dash": "solid"
         },
         "marker": {
          "symbol": "circle"
         },
         "mode": "lines+markers",
         "name": "2",
         "orientation": "v",
         "showlegend": true,
         "type": "scatter",
         "x": [
          "2022-02-01T00:00:00",
          "2022-03-01T00:00:00",
          "2022-05-01T00:00:00",
          "2022-06-01T00:00:00",
          "2022-07-01T00:00:00",
          "2022-08-01T00:00:00",
          "2022-09-01T00:00:00",
          "2022-10-01T00:00:00",
          "2022-11-01T00:00:00",
          "2022-12-01T00:00:00",
          "2023-01-01T00:00:00",
          "2023-02-01T00:00:00",
          "2023-03-01T00:00:00",
          "2023-04-01T00:00:00",
          "2023-05-01T00:00:00",
          "2023-06-01T00:00:00",
          "2023-07-01T00:00:00",
          "2023-08-01T00:00:00",
          "2023-09-01T00:00:00",
          "2023-10-01T00:00:00",
          "2023-11-01T00:00:00",
          "2023-12-01T00:00:00",
          "2024-01-01T00:00:00",
          "2024-02-01T00:00:00",
          "2024-03-01T00:00:00",
          "2024-04-01T00:00:00",
          "2024-05-01T00:00:00",
          "2024-06-01T00:00:00",
          "2024-07-01T00:00:00",
          "2024-08-01T00:00:00",
          "2024-09-01T00:00:00",
          "2024-10-01T00:00:00",
          "2024-11-01T00:00:00",
          "2024-12-01T00:00:00"
         ],
         "xaxis": "x",
         "y": {
          "bdata": "AgIQFRMJCQgMDAMFDBAQBwsEBAwNDQIBBxIJBQIGBgkFBQ==",
          "dtype": "i1"
         },
         "yaxis": "y"
        },
        {
         "hovertemplate": "topic=3<br>time_period=%{x}<br>count=%{y}<extra></extra>",
         "legendgroup": "3",
         "line": {
          "color": "#19d3f3",
          "dash": "solid"
         },
         "marker": {
          "symbol": "circle"
         },
         "mode": "lines+markers",
         "name": "3",
         "orientation": "v",
         "showlegend": true,
         "type": "scatter",
         "x": [
          "2022-02-01T00:00:00",
          "2022-03-01T00:00:00",
          "2022-04-01T00:00:00",
          "2022-05-01T00:00:00",
          "2022-06-01T00:00:00",
          "2022-07-01T00:00:00",
          "2022-08-01T00:00:00",
          "2022-09-01T00:00:00",
          "2022-10-01T00:00:00",
          "2022-11-01T00:00:00",
          "2022-12-01T00:00:00",
          "2023-01-01T00:00:00",
          "2023-02-01T00:00:00",
          "2023-03-01T00:00:00",
          "2023-04-01T00:00:00",
          "2023-05-01T00:00:00",
          "2023-06-01T00:00:00",
          "2023-07-01T00:00:00",
          "2023-09-01T00:00:00",
          "2023-10-01T00:00:00",
          "2023-11-01T00:00:00",
          "2023-12-01T00:00:00",
          "2024-01-01T00:00:00",
          "2024-02-01T00:00:00",
          "2024-03-01T00:00:00",
          "2024-04-01T00:00:00",
          "2024-05-01T00:00:00",
          "2024-06-01T00:00:00",
          "2024-07-01T00:00:00",
          "2024-08-01T00:00:00",
          "2024-09-01T00:00:00",
          "2024-10-01T00:00:00",
          "2024-11-01T00:00:00",
          "2024-12-01T00:00:00",
          "2025-01-01T00:00:00",
          "2025-02-01T00:00:00"
         ],
         "xaxis": "x",
         "y": {
          "bdata": "BA8FFRENBwUGDQoBAQ4QCQwOBQYPCQIJBgoICQMEAQUGBgIE",
          "dtype": "i1"
         },
         "yaxis": "y"
        },
        {
         "hovertemplate": "topic=4<br>time_period=%{x}<br>count=%{y}<extra></extra>",
         "legendgroup": "4",
         "line": {
          "color": "#FF6692",
          "dash": "solid"
         },
         "marker": {
          "symbol": "circle"
         },
         "mode": "lines+markers",
         "name": "4",
         "orientation": "v",
         "showlegend": true,
         "type": "scatter",
         "x": [
          "2022-02-01T00:00:00",
          "2022-03-01T00:00:00",
          "2022-04-01T00:00:00",
          "2022-05-01T00:00:00",
          "2022-06-01T00:00:00",
          "2022-07-01T00:00:00",
          "2022-08-01T00:00:00",
          "2022-09-01T00:00:00",
          "2022-10-01T00:00:00",
          "2022-11-01T00:00:00",
          "2022-12-01T00:00:00",
          "2023-02-01T00:00:00",
          "2023-03-01T00:00:00",
          "2023-04-01T00:00:00",
          "2023-05-01T00:00:00",
          "2023-06-01T00:00:00",
          "2023-07-01T00:00:00",
          "2023-09-01T00:00:00",
          "2023-10-01T00:00:00",
          "2023-11-01T00:00:00",
          "2023-12-01T00:00:00",
          "2024-01-01T00:00:00",
          "2024-02-01T00:00:00",
          "2024-03-01T00:00:00",
          "2024-04-01T00:00:00",
          "2024-05-01T00:00:00",
          "2024-06-01T00:00:00",
          "2024-07-01T00:00:00",
          "2024-08-01T00:00:00",
          "2024-09-01T00:00:00",
          "2024-10-01T00:00:00",
          "2024-11-01T00:00:00",
          "2024-12-01T00:00:00",
          "2025-02-01T00:00:00"
         ],
         "xaxis": "x",
         "y": {
          "bdata": "AQIFCBELBgUDBwQDCREMBgUEBAMBAgEKEAcEAwMBAgoBAQ==",
          "dtype": "i1"
         },
         "yaxis": "y"
        },
        {
         "hovertemplate": "topic=5<br>time_period=%{x}<br>count=%{y}<extra></extra>",
         "legendgroup": "5",
         "line": {
          "color": "#B6E880",
          "dash": "solid"
         },
         "marker": {
          "symbol": "circle"
         },
         "mode": "lines+markers",
         "name": "5",
         "orientation": "v",
         "showlegend": true,
         "type": "scatter",
         "x": [
          "2022-02-01T00:00:00",
          "2022-03-01T00:00:00",
          "2022-05-01T00:00:00",
          "2022-06-01T00:00:00",
          "2022-07-01T00:00:00",
          "2022-08-01T00:00:00",
          "2022-09-01T00:00:00",
          "2022-10-01T00:00:00",
          "2022-11-01T00:00:00",
          "2022-12-01T00:00:00",
          "2023-03-01T00:00:00",
          "2023-04-01T00:00:00",
          "2023-05-01T00:00:00",
          "2023-06-01T00:00:00",
          "2023-07-01T00:00:00",
          "2023-08-01T00:00:00",
          "2023-09-01T00:00:00",
          "2023-10-01T00:00:00",
          "2023-11-01T00:00:00",
          "2023-12-01T00:00:00",
          "2024-02-01T00:00:00",
          "2024-03-01T00:00:00",
          "2024-04-01T00:00:00",
          "2024-05-01T00:00:00",
          "2024-06-01T00:00:00",
          "2024-07-01T00:00:00",
          "2024-09-01T00:00:00",
          "2024-10-01T00:00:00",
          "2024-11-01T00:00:00",
          "2024-12-01T00:00:00"
         ],
         "xaxis": "x",
         "y": {
          "bdata": "AQIHCgUDBQoFBAMHBQEDAQIEBgYBBQUDAgICDgEC",
          "dtype": "i1"
         },
         "yaxis": "y"
        },
        {
         "hovertemplate": "topic=6<br>time_period=%{x}<br>count=%{y}<extra></extra>",
         "legendgroup": "6",
         "line": {
          "color": "#FF97FF",
          "dash": "solid"
         },
         "marker": {
          "symbol": "circle"
         },
         "mode": "lines+markers",
         "name": "6",
         "orientation": "v",
         "showlegend": true,
         "type": "scatter",
         "x": [
          "2022-02-01T00:00:00",
          "2022-03-01T00:00:00",
          "2022-04-01T00:00:00",
          "2022-05-01T00:00:00",
          "2022-06-01T00:00:00",
          "2022-07-01T00:00:00",
          "2022-08-01T00:00:00",
          "2022-09-01T00:00:00",
          "2022-10-01T00:00:00",
          "2022-11-01T00:00:00",
          "2022-12-01T00:00:00",
          "2023-01-01T00:00:00",
          "2023-02-01T00:00:00",
          "2023-03-01T00:00:00",
          "2023-04-01T00:00:00",
          "2023-05-01T00:00:00",
          "2023-06-01T00:00:00",
          "2023-07-01T00:00:00",
          "2023-08-01T00:00:00",
          "2023-09-01T00:00:00",
          "2023-10-01T00:00:00",
          "2023-11-01T00:00:00",
          "2023-12-01T00:00:00",
          "2024-01-01T00:00:00",
          "2024-02-01T00:00:00",
          "2024-03-01T00:00:00",
          "2024-04-01T00:00:00",
          "2024-05-01T00:00:00",
          "2024-06-01T00:00:00",
          "2024-07-01T00:00:00",
          "2024-08-01T00:00:00",
          "2024-09-01T00:00:00",
          "2024-10-01T00:00:00",
          "2024-11-01T00:00:00",
          "2024-12-01T00:00:00",
          "2025-02-01T00:00:00"
         ],
         "xaxis": "x",
         "y": {
          "bdata": "AgMBBwUJBAYCBgUGAQMGAgMGAwIBAQIBBgICBQECAgEBBgIB",
          "dtype": "i1"
         },
         "yaxis": "y"
        },
        {
         "hovertemplate": "topic=7<br>time_period=%{x}<br>count=%{y}<extra></extra>",
         "legendgroup": "7",
         "line": {
          "color": "#FECB52",
          "dash": "solid"
         },
         "marker": {
          "symbol": "circle"
         },
         "mode": "lines+markers",
         "name": "7",
         "orientation": "v",
         "showlegend": true,
         "type": "scatter",
         "x": [
          "2022-02-01T00:00:00",
          "2022-03-01T00:00:00",
          "2022-04-01T00:00:00",
          "2022-05-01T00:00:00",
          "2022-06-01T00:00:00",
          "2022-07-01T00:00:00",
          "2022-08-01T00:00:00",
          "2022-09-01T00:00:00",
          "2022-10-01T00:00:00",
          "2022-11-01T00:00:00",
          "2022-12-01T00:00:00",
          "2023-01-01T00:00:00",
          "2023-02-01T00:00:00",
          "2023-03-01T00:00:00",
          "2023-04-01T00:00:00",
          "2023-05-01T00:00:00",
          "2023-06-01T00:00:00",
          "2023-07-01T00:00:00",
          "2023-08-01T00:00:00",
          "2023-09-01T00:00:00",
          "2023-10-01T00:00:00",
          "2023-11-01T00:00:00",
          "2023-12-01T00:00:00",
          "2024-02-01T00:00:00",
          "2024-03-01T00:00:00",
          "2024-04-01T00:00:00",
          "2024-05-01T00:00:00",
          "2024-06-01T00:00:00",
          "2024-07-01T00:00:00",
          "2024-08-01T00:00:00",
          "2024-09-01T00:00:00",
          "2024-10-01T00:00:00",
          "2024-11-01T00:00:00",
          "2024-12-01T00:00:00",
          "2025-02-01T00:00:00"
         ],
         "xaxis": "x",
         "y": {
          "bdata": "AQICBQgGBAMBAQUBAQkKCQUDAgECBAECBwMEAQECAQIDAwE=",
          "dtype": "i1"
         },
         "yaxis": "y"
        },
        {
         "hovertemplate": "topic=9<br>time_period=%{x}<br>count=%{y}<extra></extra>",
         "legendgroup": "9",
         "line": {
          "color": "#636efa",
          "dash": "solid"
         },
         "marker": {
          "symbol": "circle"
         },
         "mode": "lines+markers",
         "name": "9",
         "orientation": "v",
         "showlegend": true,
         "type": "scatter",
         "x": [
          "2022-02-01T00:00:00",
          "2022-05-01T00:00:00",
          "2022-06-01T00:00:00",
          "2022-07-01T00:00:00",
          "2022-08-01T00:00:00",
          "2022-09-01T00:00:00",
          "2022-10-01T00:00:00",
          "2022-11-01T00:00:00",
          "2022-12-01T00:00:00",
          "2023-02-01T00:00:00",
          "2023-03-01T00:00:00",
          "2023-04-01T00:00:00",
          "2023-05-01T00:00:00",
          "2023-06-01T00:00:00",
          "2023-07-01T00:00:00",
          "2023-08-01T00:00:00",
          "2023-10-01T00:00:00",
          "2023-11-01T00:00:00",
          "2024-02-01T00:00:00",
          "2024-03-01T00:00:00",
          "2024-04-01T00:00:00",
          "2024-05-01T00:00:00",
          "2024-06-01T00:00:00",
          "2024-07-01T00:00:00",
          "2024-08-01T00:00:00",
          "2024-09-01T00:00:00",
          "2024-10-01T00:00:00",
          "2024-11-01T00:00:00",
          "2025-02-01T00:00:00"
         ],
         "xaxis": "x",
         "y": {
          "bdata": "AQULAwQCAwEFAQcJBwEEAgIEAQQKBAMDAgEBAQI=",
          "dtype": "i1"
         },
         "yaxis": "y"
        },
        {
         "hovertemplate": "topic=10<br>time_period=%{x}<br>count=%{y}<extra></extra>",
         "legendgroup": "10",
         "line": {
          "color": "#EF553B",
          "dash": "solid"
         },
         "marker": {
          "symbol": "circle"
         },
         "mode": "lines+markers",
         "name": "10",
         "orientation": "v",
         "showlegend": true,
         "type": "scatter",
         "x": [
          "2022-02-01T00:00:00",
          "2022-04-01T00:00:00",
          "2022-05-01T00:00:00",
          "2022-06-01T00:00:00",
          "2022-07-01T00:00:00",
          "2022-08-01T00:00:00",
          "2022-09-01T00:00:00",
          "2022-11-01T00:00:00",
          "2022-12-01T00:00:00",
          "2023-01-01T00:00:00",
          "2023-02-01T00:00:00",
          "2023-03-01T00:00:00",
          "2023-04-01T00:00:00",
          "2023-05-01T00:00:00",
          "2023-06-01T00:00:00",
          "2023-07-01T00:00:00",
          "2023-08-01T00:00:00",
          "2023-09-01T00:00:00",
          "2023-10-01T00:00:00",
          "2023-11-01T00:00:00",
          "2023-12-01T00:00:00",
          "2024-01-01T00:00:00",
          "2024-02-01T00:00:00",
          "2024-03-01T00:00:00",
          "2024-04-01T00:00:00",
          "2024-05-01T00:00:00",
          "2024-06-01T00:00:00",
          "2024-07-01T00:00:00",
          "2024-08-01T00:00:00",
          "2024-09-01T00:00:00",
          "2024-10-01T00:00:00",
          "2024-11-01T00:00:00",
          "2024-12-01T00:00:00",
          "2025-02-01T00:00:00"
         ],
         "xaxis": "x",
         "y": {
          "bdata": "AQIFDQkEAgYDAwUHCAUDAgEGBgYEAgEKBgICAgEBAQEBAg==",
          "dtype": "i1"
         },
         "yaxis": "y"
        },
        {
         "hovertemplate": "topic=12<br>time_period=%{x}<br>count=%{y}<extra></extra>",
         "legendgroup": "12",
         "line": {
          "color": "#00cc96",
          "dash": "solid"
         },
         "marker": {
          "symbol": "circle"
         },
         "mode": "lines+markers",
         "name": "12",
         "orientation": "v",
         "showlegend": true,
         "type": "scatter",
         "x": [
          "2022-02-01T00:00:00",
          "2022-04-01T00:00:00",
          "2022-05-01T00:00:00",
          "2022-06-01T00:00:00",
          "2022-07-01T00:00:00",
          "2022-08-01T00:00:00",
          "2022-09-01T00:00:00",
          "2022-10-01T00:00:00",
          "2022-11-01T00:00:00",
          "2022-12-01T00:00:00",
          "2023-03-01T00:00:00",
          "2023-04-01T00:00:00",
          "2023-05-01T00:00:00",
          "2023-06-01T00:00:00",
          "2023-07-01T00:00:00",
          "2023-09-01T00:00:00",
          "2023-10-01T00:00:00",
          "2023-11-01T00:00:00",
          "2023-12-01T00:00:00",
          "2024-02-01T00:00:00",
          "2024-03-01T00:00:00",
          "2024-04-01T00:00:00",
          "2024-05-01T00:00:00",
          "2024-06-01T00:00:00",
          "2024-07-01T00:00:00",
          "2024-08-01T00:00:00",
          "2024-10-01T00:00:00",
          "2024-11-01T00:00:00",
          "2024-12-01T00:00:00",
          "2025-02-01T00:00:00"
         ],
         "xaxis": "x",
         "y": {
          "bdata": "AQEHBQQCAQYNAwMGAwMCAQcLBQEBAQIEBgMFBwIB",
          "dtype": "i1"
         },
         "yaxis": "y"
        },
        {
         "hovertemplate": "topic=15<br>time_period=%{x}<br>count=%{y}<extra></extra>",
         "legendgroup": "15",
         "line": {
          "color": "#ab63fa",
          "dash": "solid"
         },
         "marker": {
          "symbol": "circle"
         },
         "mode": "lines+markers",
         "name": "15",
         "orientation": "v",
         "showlegend": true,
         "type": "scatter",
         "x": [
          "2022-02-01T00:00:00",
          "2022-05-01T00:00:00",
          "2022-06-01T00:00:00",
          "2022-07-01T00:00:00",
          "2022-08-01T00:00:00",
          "2022-09-01T00:00:00",
          "2022-10-01T00:00:00",
          "2022-11-01T00:00:00",
          "2022-12-01T00:00:00",
          "2023-01-01T00:00:00",
          "2023-02-01T00:00:00",
          "2023-03-01T00:00:00",
          "2023-04-01T00:00:00",
          "2023-05-01T00:00:00",
          "2023-06-01T00:00:00",
          "2023-07-01T00:00:00",
          "2023-10-01T00:00:00",
          "2023-12-01T00:00:00",
          "2024-01-01T00:00:00",
          "2024-02-01T00:00:00",
          "2024-03-01T00:00:00",
          "2024-04-01T00:00:00",
          "2024-05-01T00:00:00",
          "2024-06-01T00:00:00",
          "2024-07-01T00:00:00",
          "2024-08-01T00:00:00",
          "2024-09-01T00:00:00",
          "2024-10-01T00:00:00"
         ],
         "xaxis": "x",
         "y": {
          "bdata": "AgQBBwECAgIBAQMBBAkBAgEBAQIECgEDAgEBBA==",
          "dtype": "i1"
         },
         "yaxis": "y"
        },
        {
         "hovertemplate": "topic=11<br>time_period=%{x}<br>count=%{y}<extra></extra>",
         "legendgroup": "11",
         "line": {
          "color": "#FFA15A",
          "dash": "solid"
         },
         "marker": {
          "symbol": "circle"
         },
         "mode": "lines+markers",
         "name": "11",
         "orientation": "v",
         "showlegend": true,
         "type": "scatter",
         "x": [
          "2022-03-01T00:00:00",
          "2022-04-01T00:00:00",
          "2022-05-01T00:00:00",
          "2022-06-01T00:00:00",
          "2022-07-01T00:00:00",
          "2022-08-01T00:00:00",
          "2022-09-01T00:00:00",
          "2022-10-01T00:00:00",
          "2022-11-01T00:00:00",
          "2022-12-01T00:00:00",
          "2023-01-01T00:00:00",
          "2023-02-01T00:00:00",
          "2023-03-01T00:00:00",
          "2023-04-01T00:00:00",
          "2023-05-01T00:00:00",
          "2023-06-01T00:00:00",
          "2023-07-01T00:00:00",
          "2023-08-01T00:00:00",
          "2023-09-01T00:00:00",
          "2023-10-01T00:00:00",
          "2023-11-01T00:00:00",
          "2023-12-01T00:00:00",
          "2024-01-01T00:00:00",
          "2024-02-01T00:00:00",
          "2024-03-01T00:00:00",
          "2024-04-01T00:00:00",
          "2024-05-01T00:00:00",
          "2024-06-01T00:00:00",
          "2024-07-01T00:00:00",
          "2024-09-01T00:00:00",
          "2024-11-01T00:00:00",
          "2024-12-01T00:00:00"
         ],
         "xaxis": "x",
         "y": {
          "bdata": "AQEEBQYGBAkDBQcCCAoDCQMBAwcHAwIGBAEDAwMDBAI=",
          "dtype": "i1"
         },
         "yaxis": "y"
        },
        {
         "hovertemplate": "topic=13<br>time_period=%{x}<br>count=%{y}<extra></extra>",
         "legendgroup": "13",
         "line": {
          "color": "#19d3f3",
          "dash": "solid"
         },
         "marker": {
          "symbol": "circle"
         },
         "mode": "lines+markers",
         "name": "13",
         "orientation": "v",
         "showlegend": true,
         "type": "scatter",
         "x": [
          "2022-03-01T00:00:00",
          "2022-04-01T00:00:00",
          "2022-05-01T00:00:00",
          "2022-06-01T00:00:00",
          "2022-07-01T00:00:00",
          "2022-08-01T00:00:00",
          "2022-09-01T00:00:00",
          "2022-10-01T00:00:00",
          "2022-11-01T00:00:00",
          "2022-12-01T00:00:00",
          "2023-01-01T00:00:00",
          "2023-03-01T00:00:00",
          "2023-04-01T00:00:00",
          "2023-05-01T00:00:00",
          "2023-06-01T00:00:00",
          "2023-09-01T00:00:00",
          "2023-10-01T00:00:00",
          "2024-02-01T00:00:00",
          "2024-03-01T00:00:00",
          "2024-04-01T00:00:00",
          "2024-05-01T00:00:00",
          "2024-09-01T00:00:00",
          "2024-10-01T00:00:00",
          "2024-11-01T00:00:00"
         ],
         "xaxis": "x",
         "y": {
          "bdata": "BAEEBAICAQECAQECBAIFAQEBAwMDAQIB",
          "dtype": "i1"
         },
         "yaxis": "y"
        },
        {
         "hovertemplate": "topic=14<br>time_period=%{x}<br>count=%{y}<extra></extra>",
         "legendgroup": "14",
         "line": {
          "color": "#FF6692",
          "dash": "solid"
         },
         "marker": {
          "symbol": "circle"
         },
         "mode": "lines+markers",
         "name": "14",
         "orientation": "v",
         "showlegend": true,
         "type": "scatter",
         "x": [
          "2022-03-01T00:00:00",
          "2022-04-01T00:00:00",
          "2022-05-01T00:00:00",
          "2022-06-01T00:00:00",
          "2022-07-01T00:00:00",
          "2022-08-01T00:00:00",
          "2022-09-01T00:00:00",
          "2022-11-01T00:00:00",
          "2022-12-01T00:00:00",
          "2023-03-01T00:00:00",
          "2023-04-01T00:00:00",
          "2023-05-01T00:00:00",
          "2023-06-01T00:00:00",
          "2023-07-01T00:00:00",
          "2023-09-01T00:00:00",
          "2023-10-01T00:00:00",
          "2023-11-01T00:00:00",
          "2023-12-01T00:00:00",
          "2024-02-01T00:00:00",
          "2024-03-01T00:00:00",
          "2024-04-01T00:00:00",
          "2024-05-01T00:00:00",
          "2024-07-01T00:00:00",
          "2024-10-01T00:00:00",
          "2025-02-01T00:00:00"
         ],
         "xaxis": "x",
         "y": {
          "bdata": "AQIEBQICAQIDAwMEAgICAQMCAQQEAgICAg==",
          "dtype": "i1"
         },
         "yaxis": "y"
        },
        {
         "hovertemplate": "topic=16<br>time_period=%{x}<br>count=%{y}<extra></extra>",
         "legendgroup": "16",
         "line": {
          "color": "#B6E880",
          "dash": "solid"
         },
         "marker": {
          "symbol": "circle"
         },
         "mode": "lines+markers",
         "name": "16",
         "orientation": "v",
         "showlegend": true,
         "type": "scatter",
         "x": [
          "2022-03-01T00:00:00",
          "2022-04-01T00:00:00",
          "2022-06-01T00:00:00",
          "2022-07-01T00:00:00",
          "2022-10-01T00:00:00",
          "2022-11-01T00:00:00",
          "2022-12-01T00:00:00",
          "2023-03-01T00:00:00",
          "2023-04-01T00:00:00",
          "2023-05-01T00:00:00",
          "2023-06-01T00:00:00",
          "2023-09-01T00:00:00",
          "2023-10-01T00:00:00",
          "2023-11-01T00:00:00",
          "2023-12-01T00:00:00",
          "2024-02-01T00:00:00",
          "2024-03-01T00:00:00",
          "2024-04-01T00:00:00",
          "2024-05-01T00:00:00",
          "2024-06-01T00:00:00",
          "2024-07-01T00:00:00",
          "2024-10-01T00:00:00",
          "2024-11-01T00:00:00",
          "2024-12-01T00:00:00"
         ],
         "xaxis": "x",
         "y": {
          "bdata": "AQMCAgEBAwIDAgMBAQEDAQICAgMDAQEB",
          "dtype": "i1"
         },
         "yaxis": "y"
        },
        {
         "hovertemplate": "topic=17<br>time_period=%{x}<br>count=%{y}<extra></extra>",
         "legendgroup": "17",
         "line": {
          "color": "#FF97FF",
          "dash": "solid"
         },
         "marker": {
          "symbol": "circle"
         },
         "mode": "lines+markers",
         "name": "17",
         "orientation": "v",
         "showlegend": true,
         "type": "scatter",
         "x": [
          "2022-03-01T00:00:00",
          "2022-04-01T00:00:00",
          "2022-05-01T00:00:00",
          "2022-06-01T00:00:00",
          "2022-07-01T00:00:00",
          "2022-08-01T00:00:00",
          "2022-10-01T00:00:00",
          "2022-11-01T00:00:00",
          "2022-12-01T00:00:00",
          "2023-02-01T00:00:00",
          "2023-03-01T00:00:00",
          "2023-04-01T00:00:00",
          "2023-05-01T00:00:00",
          "2023-06-01T00:00:00",
          "2023-07-01T00:00:00",
          "2023-09-01T00:00:00",
          "2023-11-01T00:00:00",
          "2024-01-01T00:00:00",
          "2024-03-01T00:00:00",
          "2024-04-01T00:00:00",
          "2024-05-01T00:00:00",
          "2024-07-01T00:00:00",
          "2024-09-01T00:00:00",
          "2024-10-01T00:00:00",
          "2025-02-01T00:00:00"
         ],
         "xaxis": "x",
         "y": {
          "bdata": "AQECAgEBAQIBAQICAgEEBAEBAgMCAgEDAg==",
          "dtype": "i1"
         },
         "yaxis": "y"
        },
        {
         "hovertemplate": "topic=20<br>time_period=%{x}<br>count=%{y}<extra></extra>",
         "legendgroup": "20",
         "line": {
          "color": "#FECB52",
          "dash": "solid"
         },
         "marker": {
          "symbol": "circle"
         },
         "mode": "lines+markers",
         "name": "20",
         "orientation": "v",
         "showlegend": true,
         "type": "scatter",
         "x": [
          "2022-03-01T00:00:00",
          "2022-05-01T00:00:00",
          "2022-06-01T00:00:00",
          "2022-07-01T00:00:00",
          "2022-08-01T00:00:00",
          "2022-09-01T00:00:00",
          "2022-12-01T00:00:00",
          "2023-03-01T00:00:00",
          "2023-04-01T00:00:00",
          "2023-05-01T00:00:00",
          "2023-06-01T00:00:00",
          "2023-07-01T00:00:00",
          "2023-09-01T00:00:00",
          "2023-12-01T00:00:00",
          "2024-04-01T00:00:00",
          "2024-05-01T00:00:00",
          "2024-11-01T00:00:00"
         ],
         "xaxis": "x",
         "y": {
          "bdata": "AgUDAQECAgICAQMCAQEBAQI=",
          "dtype": "i1"
         },
         "yaxis": "y"
        },
        {
         "hovertemplate": "topic=21<br>time_period=%{x}<br>count=%{y}<extra></extra>",
         "legendgroup": "21",
         "line": {
          "color": "#636efa",
          "dash": "solid"
         },
         "marker": {
          "symbol": "circle"
         },
         "mode": "lines+markers",
         "name": "21",
         "orientation": "v",
         "showlegend": true,
         "type": "scatter",
         "x": [
          "2022-03-01T00:00:00",
          "2022-05-01T00:00:00",
          "2022-06-01T00:00:00",
          "2022-07-01T00:00:00",
          "2022-11-01T00:00:00",
          "2022-12-01T00:00:00",
          "2023-03-01T00:00:00",
          "2023-05-01T00:00:00",
          "2023-09-01T00:00:00",
          "2024-01-01T00:00:00",
          "2024-04-01T00:00:00",
          "2024-05-01T00:00:00",
          "2024-06-01T00:00:00",
          "2024-07-01T00:00:00",
          "2024-09-01T00:00:00",
          "2024-10-01T00:00:00",
          "2024-11-01T00:00:00",
          "2024-12-01T00:00:00"
         ],
         "xaxis": "x",
         "y": {
          "bdata": "AQECAgECAwEBAQIBAgIBAQEB",
          "dtype": "i1"
         },
         "yaxis": "y"
        },
        {
         "hovertemplate": "topic=22<br>time_period=%{x}<br>count=%{y}<extra></extra>",
         "legendgroup": "22",
         "line": {
          "color": "#EF553B",
          "dash": "solid"
         },
         "marker": {
          "symbol": "circle"
         },
         "mode": "lines+markers",
         "name": "22",
         "orientation": "v",
         "showlegend": true,
         "type": "scatter",
         "x": [
          "2022-03-01T00:00:00",
          "2022-05-01T00:00:00",
          "2022-07-01T00:00:00",
          "2022-08-01T00:00:00",
          "2022-10-01T00:00:00",
          "2022-11-01T00:00:00",
          "2022-12-01T00:00:00",
          "2023-03-01T00:00:00",
          "2023-05-01T00:00:00",
          "2023-06-01T00:00:00",
          "2023-07-01T00:00:00",
          "2023-10-01T00:00:00",
          "2023-11-01T00:00:00",
          "2023-12-01T00:00:00",
          "2024-03-01T00:00:00",
          "2024-04-01T00:00:00",
          "2024-05-01T00:00:00",
          "2024-07-01T00:00:00",
          "2024-09-01T00:00:00",
          "2024-10-01T00:00:00",
          "2024-12-01T00:00:00"
         ],
         "xaxis": "x",
         "y": {
          "bdata": "AwYBAQQCAQECAgIBAQIBAwIBAgEB",
          "dtype": "i1"
         },
         "yaxis": "y"
        },
        {
         "hovertemplate": "topic=19<br>time_period=%{x}<br>count=%{y}<extra></extra>",
         "legendgroup": "19",
         "line": {
          "color": "#00cc96",
          "dash": "solid"
         },
         "marker": {
          "symbol": "circle"
         },
         "mode": "lines+markers",
         "name": "19",
         "orientation": "v",
         "showlegend": true,
         "type": "scatter",
         "x": [
          "2022-05-01T00:00:00",
          "2022-06-01T00:00:00",
          "2022-07-01T00:00:00",
          "2022-10-01T00:00:00",
          "2022-11-01T00:00:00",
          "2022-12-01T00:00:00",
          "2023-04-01T00:00:00",
          "2023-06-01T00:00:00",
          "2023-08-01T00:00:00",
          "2023-11-01T00:00:00",
          "2023-12-01T00:00:00",
          "2024-02-01T00:00:00",
          "2024-04-01T00:00:00",
          "2024-05-01T00:00:00",
          "2024-11-01T00:00:00",
          "2024-12-01T00:00:00"
         ],
         "xaxis": "x",
         "y": {
          "bdata": "DgMCAQIDCwECAgkBAgEBAg==",
          "dtype": "i1"
         },
         "yaxis": "y"
        }
       ],
       "layout": {
        "hovermode": "x unified",
        "legend": {
         "title": {
          "text": "Topic"
         },
         "tracegroupgap": 0
        },
        "template": {
         "data": {
          "bar": [
           {
            "error_x": {
             "color": "#2a3f5f"
            },
            "error_y": {
             "color": "#2a3f5f"
            },
            "marker": {
             "line": {
              "color": "white",
              "width": 0.5
             },
             "pattern": {
              "fillmode": "overlay",
              "size": 10,
              "solidity": 0.2
             }
            },
            "type": "bar"
           }
          ],
          "barpolar": [
           {
            "marker": {
             "line": {
              "color": "white",
              "width": 0.5
             },
             "pattern": {
              "fillmode": "overlay",
              "size": 10,
              "solidity": 0.2
             }
            },
            "type": "barpolar"
           }
          ],
          "carpet": [
           {
            "aaxis": {
             "endlinecolor": "#2a3f5f",
             "gridcolor": "#C8D4E3",
             "linecolor": "#C8D4E3",
             "minorgridcolor": "#C8D4E3",
             "startlinecolor": "#2a3f5f"
            },
            "baxis": {
             "endlinecolor": "#2a3f5f",
             "gridcolor": "#C8D4E3",
             "linecolor": "#C8D4E3",
             "minorgridcolor": "#C8D4E3",
             "startlinecolor": "#2a3f5f"
            },
            "type": "carpet"
           }
          ],
          "choropleth": [
           {
            "colorbar": {
             "outlinewidth": 0,
             "ticks": ""
            },
            "type": "choropleth"
           }
          ],
          "contour": [
           {
            "colorbar": {
             "outlinewidth": 0,
             "ticks": ""
            },
            "colorscale": [
             [
              0,
              "#0d0887"
             ],
             [
              0.1111111111111111,
              "#46039f"
             ],
             [
              0.2222222222222222,
              "#7201a8"
             ],
             [
              0.3333333333333333,
              "#9c179e"
             ],
             [
              0.4444444444444444,
              "#bd3786"
             ],
             [
              0.5555555555555556,
              "#d8576b"
             ],
             [
              0.6666666666666666,
              "#ed7953"
             ],
             [
              0.7777777777777778,
              "#fb9f3a"
             ],
             [
              0.8888888888888888,
              "#fdca26"
             ],
             [
              1,
              "#f0f921"
             ]
            ],
            "type": "contour"
           }
          ],
          "contourcarpet": [
           {
            "colorbar": {
             "outlinewidth": 0,
             "ticks": ""
            },
            "type": "contourcarpet"
           }
          ],
          "heatmap": [
           {
            "colorbar": {
             "outlinewidth": 0,
             "ticks": ""
            },
            "colorscale": [
             [
              0,
              "#0d0887"
             ],
             [
              0.1111111111111111,
              "#46039f"
             ],
             [
              0.2222222222222222,
              "#7201a8"
             ],
             [
              0.3333333333333333,
              "#9c179e"
             ],
             [
              0.4444444444444444,
              "#bd3786"
             ],
             [
              0.5555555555555556,
              "#d8576b"
             ],
             [
              0.6666666666666666,
              "#ed7953"
             ],
             [
              0.7777777777777778,
              "#fb9f3a"
             ],
             [
              0.8888888888888888,
              "#fdca26"
             ],
             [
              1,
              "#f0f921"
             ]
            ],
            "type": "heatmap"
           }
          ],
          "histogram": [
           {
            "marker": {
             "pattern": {
              "fillmode": "overlay",
              "size": 10,
              "solidity": 0.2
             }
            },
            "type": "histogram"
           }
          ],
          "histogram2d": [
           {
            "colorbar": {
             "outlinewidth": 0,
             "ticks": ""
            },
            "colorscale": [
             [
              0,
              "#0d0887"
             ],
             [
              0.1111111111111111,
              "#46039f"
             ],
             [
              0.2222222222222222,
              "#7201a8"
             ],
             [
              0.3333333333333333,
              "#9c179e"
             ],
             [
              0.4444444444444444,
              "#bd3786"
             ],
             [
              0.5555555555555556,
              "#d8576b"
             ],
             [
              0.6666666666666666,
              "#ed7953"
             ],
             [
              0.7777777777777778,
              "#fb9f3a"
             ],
             [
              0.8888888888888888,
              "#fdca26"
             ],
             [
              1,
              "#f0f921"
             ]
            ],
            "type": "histogram2d"
           }
          ],
          "histogram2dcontour": [
           {
            "colorbar": {
             "outlinewidth": 0,
             "ticks": ""
            },
            "colorscale": [
             [
              0,
              "#0d0887"
             ],
             [
              0.1111111111111111,
              "#46039f"
             ],
             [
              0.2222222222222222,
              "#7201a8"
             ],
             [
              0.3333333333333333,
              "#9c179e"
             ],
             [
              0.4444444444444444,
              "#bd3786"
             ],
             [
              0.5555555555555556,
              "#d8576b"
             ],
             [
              0.6666666666666666,
              "#ed7953"
             ],
             [
              0.7777777777777778,
              "#fb9f3a"
             ],
             [
              0.8888888888888888,
              "#fdca26"
             ],
             [
              1,
              "#f0f921"
             ]
            ],
            "type": "histogram2dcontour"
           }
          ],
          "mesh3d": [
           {
            "colorbar": {
             "outlinewidth": 0,
             "ticks": ""
            },
            "type": "mesh3d"
           }
          ],
          "parcoords": [
           {
            "line": {
             "colorbar": {
              "outlinewidth": 0,
              "ticks": ""
             }
            },
            "type": "parcoords"
           }
          ],
          "pie": [
           {
            "automargin": true,
            "type": "pie"
           }
          ],
          "scatter": [
           {
            "fillpattern": {
             "fillmode": "overlay",
             "size": 10,
             "solidity": 0.2
            },
            "type": "scatter"
           }
          ],
          "scatter3d": [
           {
            "line": {
             "colorbar": {
              "outlinewidth": 0,
              "ticks": ""
             }
            },
            "marker": {
             "colorbar": {
              "outlinewidth": 0,
              "ticks": ""
             }
            },
            "type": "scatter3d"
           }
          ],
          "scattercarpet": [
           {
            "marker": {
             "colorbar": {
              "outlinewidth": 0,
              "ticks": ""
             }
            },
            "type": "scattercarpet"
           }
          ],
          "scattergeo": [
           {
            "marker": {
             "colorbar": {
              "outlinewidth": 0,
              "ticks": ""
             }
            },
            "type": "scattergeo"
           }
          ],
          "scattergl": [
           {
            "marker": {
             "colorbar": {
              "outlinewidth": 0,
              "ticks": ""
             }
            },
            "type": "scattergl"
           }
          ],
          "scattermap": [
           {
            "marker": {
             "colorbar": {
              "outlinewidth": 0,
              "ticks": ""
             }
            },
            "type": "scattermap"
           }
          ],
          "scattermapbox": [
           {
            "marker": {
             "colorbar": {
              "outlinewidth": 0,
              "ticks": ""
             }
            },
            "type": "scattermapbox"
           }
          ],
          "scatterpolar": [
           {
            "marker": {
             "colorbar": {
              "outlinewidth": 0,
              "ticks": ""
             }
            },
            "type": "scatterpolar"
           }
          ],
          "scatterpolargl": [
           {
            "marker": {
             "colorbar": {
              "outlinewidth": 0,
              "ticks": ""
             }
            },
            "type": "scatterpolargl"
           }
          ],
          "scatterternary": [
           {
            "marker": {
             "colorbar": {
              "outlinewidth": 0,
              "ticks": ""
             }
            },
            "type": "scatterternary"
           }
          ],
          "surface": [
           {
            "colorbar": {
             "outlinewidth": 0,
             "ticks": ""
            },
            "colorscale": [
             [
              0,
              "#0d0887"
             ],
             [
              0.1111111111111111,
              "#46039f"
             ],
             [
              0.2222222222222222,
              "#7201a8"
             ],
             [
              0.3333333333333333,
              "#9c179e"
             ],
             [
              0.4444444444444444,
              "#bd3786"
             ],
             [
              0.5555555555555556,
              "#d8576b"
             ],
             [
              0.6666666666666666,
              "#ed7953"
             ],
             [
              0.7777777777777778,
              "#fb9f3a"
             ],
             [
              0.8888888888888888,
              "#fdca26"
             ],
             [
              1,
              "#f0f921"
             ]
            ],
            "type": "surface"
           }
          ],
          "table": [
           {
            "cells": {
             "fill": {
              "color": "#EBF0F8"
             },
             "line": {
              "color": "white"
             }
            },
            "header": {
             "fill": {
              "color": "#C8D4E3"
             },
             "line": {
              "color": "white"
             }
            },
            "type": "table"
           }
          ]
         },
         "layout": {
          "annotationdefaults": {
           "arrowcolor": "#2a3f5f",
           "arrowhead": 0,
           "arrowwidth": 1
          },
          "autotypenumbers": "strict",
          "coloraxis": {
           "colorbar": {
            "outlinewidth": 0,
            "ticks": ""
           }
          },
          "colorscale": {
           "diverging": [
            [
             0,
             "#8e0152"
            ],
            [
             0.1,
             "#c51b7d"
            ],
            [
             0.2,
             "#de77ae"
            ],
            [
             0.3,
             "#f1b6da"
            ],
            [
             0.4,
             "#fde0ef"
            ],
            [
             0.5,
             "#f7f7f7"
            ],
            [
             0.6,
             "#e6f5d0"
            ],
            [
             0.7,
             "#b8e186"
            ],
            [
             0.8,
             "#7fbc41"
            ],
            [
             0.9,
             "#4d9221"
            ],
            [
             1,
             "#276419"
            ]
           ],
           "sequential": [
            [
             0,
             "#0d0887"
            ],
            [
             0.1111111111111111,
             "#46039f"
            ],
            [
             0.2222222222222222,
             "#7201a8"
            ],
            [
             0.3333333333333333,
             "#9c179e"
            ],
            [
             0.4444444444444444,
             "#bd3786"
            ],
            [
             0.5555555555555556,
             "#d8576b"
            ],
            [
             0.6666666666666666,
             "#ed7953"
            ],
            [
             0.7777777777777778,
             "#fb9f3a"
            ],
            [
             0.8888888888888888,
             "#fdca26"
            ],
            [
             1,
             "#f0f921"
            ]
           ],
           "sequentialminus": [
            [
             0,
             "#0d0887"
            ],
            [
             0.1111111111111111,
             "#46039f"
            ],
            [
             0.2222222222222222,
             "#7201a8"
            ],
            [
             0.3333333333333333,
             "#9c179e"
            ],
            [
             0.4444444444444444,
             "#bd3786"
            ],
            [
             0.5555555555555556,
             "#d8576b"
            ],
            [
             0.6666666666666666,
             "#ed7953"
            ],
            [
             0.7777777777777778,
             "#fb9f3a"
            ],
            [
             0.8888888888888888,
             "#fdca26"
            ],
            [
             1,
             "#f0f921"
            ]
           ]
          },
          "colorway": [
           "#636efa",
           "#EF553B",
           "#00cc96",
           "#ab63fa",
           "#FFA15A",
           "#19d3f3",
           "#FF6692",
           "#B6E880",
           "#FF97FF",
           "#FECB52"
          ],
          "font": {
           "color": "#2a3f5f"
          },
          "geo": {
           "bgcolor": "white",
           "lakecolor": "white",
           "landcolor": "white",
           "showlakes": true,
           "showland": true,
           "subunitcolor": "#C8D4E3"
          },
          "hoverlabel": {
           "align": "left"
          },
          "hovermode": "closest",
          "mapbox": {
           "style": "light"
          },
          "paper_bgcolor": "white",
          "plot_bgcolor": "white",
          "polar": {
           "angularaxis": {
            "gridcolor": "#EBF0F8",
            "linecolor": "#EBF0F8",
            "ticks": ""
           },
           "bgcolor": "white",
           "radialaxis": {
            "gridcolor": "#EBF0F8",
            "linecolor": "#EBF0F8",
            "ticks": ""
           }
          },
          "scene": {
           "xaxis": {
            "backgroundcolor": "white",
            "gridcolor": "#DFE8F3",
            "gridwidth": 2,
            "linecolor": "#EBF0F8",
            "showbackground": true,
            "ticks": "",
            "zerolinecolor": "#EBF0F8"
           },
           "yaxis": {
            "backgroundcolor": "white",
            "gridcolor": "#DFE8F3",
            "gridwidth": 2,
            "linecolor": "#EBF0F8",
            "showbackground": true,
            "ticks": "",
            "zerolinecolor": "#EBF0F8"
           },
           "zaxis": {
            "backgroundcolor": "white",
            "gridcolor": "#DFE8F3",
            "gridwidth": 2,
            "linecolor": "#EBF0F8",
            "showbackground": true,
            "ticks": "",
            "zerolinecolor": "#EBF0F8"
           }
          },
          "shapedefaults": {
           "line": {
            "color": "#2a3f5f"
           }
          },
          "ternary": {
           "aaxis": {
            "gridcolor": "#DFE8F3",
            "linecolor": "#A2B1C6",
            "ticks": ""
           },
           "baxis": {
            "gridcolor": "#DFE8F3",
            "linecolor": "#A2B1C6",
            "ticks": ""
           },
           "bgcolor": "white",
           "caxis": {
            "gridcolor": "#DFE8F3",
            "linecolor": "#A2B1C6",
            "ticks": ""
           }
          },
          "title": {
           "x": 0.05
          },
          "xaxis": {
           "automargin": true,
           "gridcolor": "#EBF0F8",
           "linecolor": "#EBF0F8",
           "ticks": "",
           "title": {
            "standoff": 15
           },
           "zerolinecolor": "#EBF0F8",
           "zerolinewidth": 2
          },
          "yaxis": {
           "automargin": true,
           "gridcolor": "#EBF0F8",
           "linecolor": "#EBF0F8",
           "ticks": "",
           "title": {
            "standoff": 15
           },
           "zerolinecolor": "#EBF0F8",
           "zerolinewidth": 2
          }
         }
        },
        "title": {
         "text": "Topic Trends Over Time"
        },
        "xaxis": {
         "anchor": "y",
         "domain": [
          0,
          1
         ],
         "title": {
          "text": "Time"
         }
        },
        "yaxis": {
         "anchor": "x",
         "domain": [
          0,
          1
         ],
         "title": {
          "text": "Project Count"
         }
        }
       }
      }
     },
     "metadata": {},
     "output_type": "display_data"
    }
   ],
   "source": [
    "import pandas as pd\n",
    "import plotly.express as px\n",
    "\n",
    "# Ensure the date column is a datetime object\n",
    "topics_df[\"ecSignatureDate\"] = pd.to_datetime(topics_df[\"ecSignatureDate\"])\n",
    "\n",
    "# Optional: group by month or week\n",
    "topics_df[\"time_period\"] = topics_df[\"ecSignatureDate\"].dt.to_period(\"M\").dt.to_timestamp()  # use 'W' for weekly\n",
    "\n",
    "# Count number of documents per topic per time period\n",
    "topic_trend = topics_df.groupby([\"time_period\", \"topic\"]).size().reset_index(name=\"count\")\n",
    "\n",
    "# Plot using Plotly\n",
    "fig = px.line(\n",
    "    topic_trend,\n",
    "    x=\"time_period\",\n",
    "    y=\"count\",\n",
    "    color=\"topic\",\n",
    "    markers=True,\n",
    "    title=\"Topic Trends Over Time\",\n",
    "    template=\"plotly_white\"\n",
    ")\n",
    "\n",
    "fig.update_layout(\n",
    "    xaxis_title=\"Time\",\n",
    "    yaxis_title=\"Project Count\",\n",
    "    legend_title=\"Topic\",\n",
    "    hovermode=\"x unified\",\n",
    ")\n",
    "\n",
    "fig.show()\n"
   ]
  },
  {
   "cell_type": "markdown",
   "id": "25b50240",
   "metadata": {},
   "source": [
    "# Funding allocation"
   ]
  },
  {
   "cell_type": "code",
   "execution_count": 77,
   "id": "11f905e4",
   "metadata": {},
   "outputs": [
    {
     "data": {
      "text/plain": [
       "Index(['projectID', 'title', 'abstract', 'topic', 'euroSciVocTitle',\n",
       "       'ecSignatureDate', 'totalCost', 'ecMaxContribution', 'MMR', 'KeyBERT',\n",
       "       'POS', 'Count', 'time_period'],\n",
       "      dtype='object')"
      ]
     },
     "execution_count": 77,
     "metadata": {},
     "output_type": "execute_result"
    }
   ],
   "source": [
    "topics_df.columns"
   ]
  },
  {
   "cell_type": "code",
   "execution_count": 78,
   "id": "5f0620ee",
   "metadata": {},
   "outputs": [
    {
     "data": {
      "application/vnd.plotly.v1+json": {
       "config": {
        "plotlyServerURL": "https://plot.ly"
       },
       "data": [
        {
         "hovertemplate": "Topic=%{x}<br>Total Funding=%{y}<extra></extra>",
         "legendgroup": "",
         "marker": {
          "color": "#636efa",
          "pattern": {
           "shape": ""
          }
         },
         "name": "",
         "orientation": "h",
         "showlegend": false,
         "textposition": "auto",
         "texttemplate": "%{x:.2s}",
         "type": "bar",
         "x": {
          "bdata": "AAECAwQFBgcICQoLDA0ODxAREhMUFRY=",
          "dtype": "i1"
         },
         "xaxis": "x",
         "y": [
          "15000007500075000750007500075000750007500075000156778,56166278,72172618,5614067762,5169326,72169326,72149575,68149219,52171399,36215773,214003705166278,72157622,42499998,69169326,72172618,56599938180000005998839,755577693,559993406823071,251499317,55486733,755988402,511389958,757232386,258478000150438,7269521108547711,5653200065534729941527,861499512,55605576,251049293,7514130974,753630425,513268022,52728126,61389200164328237375,04209686,881536400191760189687,36181152,96226441,2183600,96189687,36230774,4189687,36215534,4146049,6199694,4188590,08187624,32173847,36165312,96210911,04173847,36181152,96328494,96165312,96165312,96189687,36284179,68199440,96173847,36191760173847,36195914,88191760437000172618,56183600,962585808156778,561917601531800175920211754,88189687,36156778,56211754,88215534,4211754,88195914,88206887,68156778,56199694,42106835,2181152,96189687,36211754,883953988222727,68165312,96181152,96211754,88195914,88173847,36199440,96187624,32206887,682615796897000165312,96181152,96165312,96181152,96165312,96222727,68332506,56175920166278,72173847,367636001656000222727,68222727,68328494,96265647,842557900,8172750,081545600187624,32285140,64173847,36244893,6181152,96190374,32187624,32183600,96261380,643626251,2191760187624,32181152,96211754,88199440,96189687,362603800,8199694,4276864,482630361,6179438,081007400189687,362198700189687,36165312,96222727,68189687,36165312,96187624,32191760202400172750,08217019,44226441,2222727,68203464,32187624,32175920203464,32203464,32307939,68199694,4191760189687,36172750,08173847,36165312,96172750,082618856187624,32206887,68181152,9634324201154600166278,72166278,72189687,36203464,32156778,56189687,36175920203464,321996750200000015000001500002082419230812519972501500002500000243750019994551500000150000150000150000226500019995492499783,751500000149938919922351499943150000015000015000015000020000001500001500001498420150000150000150000150000250000024995942000000149575015000025000001499160149551920000001470851150000200000024998611500001497981150000249907615000001500000342845824992501999495249975015000020000001500001488736150000149775622656842500000248750014977401498581,191500000249035425000001700000149484819999931500001998750150000015000020000001500001499633150000234994310180358149999918000001588710150000248550024999903475660195587515000015000015000014976691985356150000015000020000001500001493711150000150000114177915000019995651500001500001500001488074150000149925015000095464109453750188244015000014995961500001464841,2415000002500000249993325000003163750150000015000015000024993181500002252167,51500001500002795438150000150315519955822368459200000015000015000014876762162383249960025327951500001499948248642934994131500000199931315000014998211500002500000150000149412520000001495288250000028118712499938149973025000001999933200000015000015000017558731497778150000150000015000002955225200000019959211500002500000150000015000015000014887502161246150000152100024993751500001500001500001500001500001500002498943150000150000149755015000001500001500000199962515000019998631499968,75250000015000019114281500001999671150000150000024938751497923,75149974918806151500001499403,29249736420000001993143177519015000015000019421582501154150000150000150000249999914994665000764149993815000029371791496795150000015000015000019995391500009936185159950025000001500001499975200000015000014937501499000249979915000002499241249843519945002498690249989324997961500001500001500002000000150000150000200947415000020000002481640150000150000249967425195001500001500001500002499904222075020000001500000149942015000015000014992501500001500002000000150000150000015000015000021248961500000228499815000015000015000024966251060399419550001499887,7515000014741501500001499884217500019481251500001999796251562524998751500001500000149999920000001499750172875025000001874336149987515000024972981498111150000250000015000024959241500000150000150000150000150000150000149817515000014996932200287149562519997542499783,7514993681997493,751500002500000150000150000019991241999401150000015000024992761999750150000150000249230320000001500000249937515000015000086208351500001500001500001180134733518753928528,81844248206887,6814993752526933,676360019061381759202736849,6882697084775341500004113597,6206887,68165312,96175920181152,96230774,4195914,88235737,6175920183600,96215534,4188590,08211754,88165312,96234530,4206887,68148478,4220908,48189687,36203464,32195914,88191760165312,96183600,96165312,96172750,08172618,56181152,96172750,08165312,96172750,08181152,96173847,36199694,4173847,36172618,56165312,96155559,36187624,32200538,24181152,96230774,4215534,4195914,88156778,56173847,36191760173847,36222727,68206887,68181152,96261380,64181152,96191760212163,84181152,96181152,96265099,2187624,32172750,08283438,8252724,32175920199440,96189687,36189687,36188590,08175920173847,36165312,96173847,36211754,88189687,36165312,96199694,4215534,4284484,48173847,36215534,4524898512859381499101,38235716529414410,829650975211754,8827600010858174124957,442000000805079314996012690092,8196157315000019998382649823,218361412734401,6195914,88195914,8810834795211754,88211754,8814935152682897,5150000211754,889813625195914,88211754,881044200211754,88195914,88211754,882155047173847,36149952625562513971426,54281897,6150000020250001499428150000017281251500000150000016279881499993185132814938501479321149589814983721500000150000014267141499728149995014999231475638,751500000149962514982801812500250000014500002318530149750015000001488762,517685831499900148151313847551499968,7517500001604375150000014951001999021409474824307086,872996153,751999428,7514993814130611,2214934,4187624,322000000214934,4230774,415000002000000214934,41500000214934,42650312,84000132,82717755,2214934,44023756230774,42500000214934,4418104025000002696457,615000002331266,42800864,8214934,4214934,4214934,42000000230774,4230774,4150000230774,4247549119996102785809,629327751999465214934,42637950,43498426750006694438,25172750,0888578139951078,192584461,6172750,08150000172750,08180092611589148,252723263,2197875020000001993875199862519998261999444199125019983341996250299000029937502000000199309419994151949357,52000000261715519999952000000200000019999811842642200000020000002000000199305920000002000000200000019999251917602398219,29999252,58007322,51496578,7518816003516631,24554301,2525000002219087,0525000002499999250000024999993126347,5250000025000002135087166750025000002321677,52495127250000024613751798152,524945042991061,252462533,52500000249750033740415972875,753797562,51364281,2529827922499999249999912987122591050,254406097,53391796,2524999992496375188187524999992499998,930004184387825,75364441817820003759489,52499999249962525000002496112,52499998,752965384,75299887821002382495510,932999835289955324770432733931,2519987502495937,5249607322262802499962,524987502498963,752499998,7528964963617783,752500000333772527406753999225296669521000002434790,332497711,2544205114006599,8524331253443137,182498730,53069321,253798713,7575000",
          "750001499981,35997930,552349504948591156778,56148478,4157622,43125324,2469323087290778,1343719904893418,255297181,256935380,75350000007451043,7560000074395605736729,641811067,55078815,56881714,996549673,6971853613613287,511481804665192,5125000029202553984316,257999838,753500000042340524998433,257949326,254352355981469,252337586,253205161,255499097,5999315,351299993,75514961,255990002252746,2548080653086598,086864578,57666548,757285043,7552999651499996,25453113770545637567787,51263076,251371783,75599637,54999170,25143087512600005191431,44700000001780303,755214140,54846237,68348247,52329503,754062396,231539644,564641691,256999983,25684615767540107755341,2534357757459253,757951515,7524975657678197,75897290071689011599327,55081593,759779211,251004897199027509070134,2515395599,427988724,2549860707471717,56718138,75181152,96229700,2211754,88172618,56173847,36195914,88215534,4230774,4309768,48153486,72173847,36199694,4181152,96172618,562613103,2165312,96173847,36181152,96244893,6203464,32195914,882630239,2199440,96173847,363455308,8206887,68148478,4257600265647,84197800165312,96148488165312,96187624,322626812195914,88203464,32187624,32234530,4188590,082109650,4187858,562726568191760172750,086999194,53999998,25399530047000004887345,131687500233987520000001499808199402421750541500001496978,75150000149958124987501650000274100015000025000001500001500001499525150000150000023963922500000200000014992352857135250000014950001499408237268115000019990001493090150000284913825000001500002499700150000149477411882510249846611429675150000167392515000015000015000025000001500001983531199998314862451499527149989424758082049049179612528673461677858149813019997882000000150000200000099975002499927150000026250005857773,583840366170152,55000063937344170631,2526200003967406,257369448,753826043,751378272,53271990,55185037,59994977,5187624,32310636,32265099,2165312,96211754,88181152,96189687,36211754,88165312,96189687,36203464,32189687,36215534,4199440,96187624,32172750,08165312,96210911,04211754,88211754,88150000195914,88211754,881500007999295195914,88150000584585714997791500002591071,2239609914999282999868,6769128727705321,751500001500002677118,412500007565673,751499265150000021292471499932149650015000005772465,7524203017984441328057275972507952496,257978165,759999995199698652075007280986,2510496136,58185948572738619999351999431199112520000001998008,757136102,683200092,2526839962998788,75250000024999992476106,5249999930000003635772,52499999240275024981253999840289757824999992500000",
          "750007500075000750001500000010000002487491,253295253,57482542,51864789321135432866002773643,752891971,254999693,75153486,722499991,07132638,4166278,72139953,62707496,52667916,256975977,5298250628353442912367998991,0139992502501406,7581312953667023,75736814489252418152256,845680125,944956805,872626566,259377421,253999961,2521867307330589,2574692502774812,564888759038530197739095690187954760100000731777759995521091346,259996777810798079961754701636,253980007,54988687,51780806,745796408,7559673952989758,133299423,066984473189687,361656000127165,2277159,21352400150438,72226751,04215534,4207266,88172750,08172750,08133735,68206641,2199694,4570400172750,08188590,08300441,6165312,96215534,4215534,4199440,96215534,4183600,96186524,41292600283433,76335734,082540651276864,481565275,2268025,28156778,564070023,23823509,6189687,36199694,4165312,96164950,0895880222727,68226751,04280751,52915400883200172750,08172750,08256442,88155559,36288859,216560002489724235737,6187624,32342729,12256442,88164950,08189687,367912008995781226751,0429948872999996,7515000099393291497500249945015000019987501496598200000011967782193224150000020554411499952,5150000229340715000002000000138440319854581500001500000149882820596611500002000000149992314000000199995020399691256107,51497984149998524999711968851203746417308951999966189152924999111999924149952014998531998250149999915000025000002494509150000199856919647101500001500000249547519998651499377,51500001904046991139624991551943750250000020000001500002446001149887014998752707840,860998707856503,75837718817472006970269,745952178,752914873,53998161,2566622234011859,22995562,235416580,3426856255839379,5171521,28211754,88173847,36166278,72191760172750,08113220,6175920181152,96265099,2175920308286,72181152,96175737,12283438,8165312,96172750,08203464,32173847,36188590,081917602999981,531825741159200130609,921677556,89255878,75698797460000002567165172618,561000000095427369998709,98199694,42675527,22871030210911,04170000014975001496821149116615000001486172,5149937915000001499494107750010258608185429,52851586,257999000203464,327997612,773785358,759962573,752892664,8230774,420000002799763,2173080,82795851,25214934,414963944006864,81845291,752389941,699875071,252997062446132336196359488616230774,414398002995026,251500003629488,7529999376998198,75197167119981681999930199542418804309992936,161476432266684,161893340249999924395003209102,57500075000",
          "75000750007500075000750007500075000750007500075000750003493218,754986528,7566645414973683,753999768,04156778,5614505000133735,68161411,521223641,271383723,93150000013750003185792,642744654,754592114,757988082,73176609559996695657806471856636806755,765999764,586043547,196999931,256494092983884046749964509303166278,724973882,512972076599993513516869135424209990566,257150334,2513615935,258370156,7515000006186271,93799993060439354000206,256973122,5165312,961357000234530,4181152,964416001025800133735,68189687,36189687,36172750,08206887,68188590,082096033,4165312,961495000165312,96165312,96165312,961643282656677,62049184,82650190,414848810212001311000268803,361099400157622,4166278,72181152,962822896,8181152,96156778,56791200222727,68150000150000150000150000150000149949815000015000015000025000001500001500001500002491250150000150000150000249928615000019797041500001500001500001999225150000150000199976315000019519311499949150000150000147939915000002000000150000150000149889514987502000000150000150000150000150000158234915000015000019978412984796150000150000150000150000150000198908615000016037501500002595355,22734279,21500005906596,2525000001937138175920181152,96191760192125,76181152,96187624,32181152,96173847,36173847,36166278,72181152,96181152,96172750,08199694,4235737,62046614,41500001500002608819,22146615,224327053913553,7515000002023236211754,8815000015000027269363651638,4226751,0415000002499579149481019552131479262,51499976203464,3215000061890821341998847579582686665,64996749,381500005996818,755704756,25750003982140465079758385767933969,3853782997616426,2529093366521311,5597871629374892206963192732519997483991297249999924991662499000249756825000003315441,252990207,52994244,99249300029993002863733,752499999,99169875027443002934318,753014375,53536935248274524999992492262249999924930002485995,7519873872372318,7531979253046127,52499831,251726876,92084871,252499997,5250000025000002988461,25195000026062503018312,51904544,252499579249999933335132455823,2525000002157637,2324916502664940249987525000002466223,752499000250000024419793584656,7524958503276577,5336082525000002497880,88249987524977502670933,75171840824999992499141171674319947701646117194178224580002499875159075025000002427025279250017280115000075000",
          "750007500075000156778,56169326,72211658,4150438,724939299,5166278,728449326,38120902506071762,57699219,385957949,57928632,839309879,82171399,36203464,32320924,16165312,9690576,48222727,68206887,68265099,2203464,32269418188590,08220845,76206887,68203464,321917602692173,6199440,96195914,88195914,88206887,68214934,4187624,32222727,68266684,16195914,88181152,96203464,32165312,96172750,08199694,4173847,36173847,36209884,88211754,88214934,4215534,43811636,8172750,08175920188590,082397004080420,4193402,26172750,08173847,36206887,681494669150000200000014917501500002500000299993415000015000020000001500000150000150000150000150000233445025000002498824224258019753331498832,514986101499514149999915000001497500219494025000001999318213687514996251499136199900820125001494740250000014949541500002495250199975620000001981593,75150000149907024996862412448249669115000002500000249994315000023004511500001499459149965025000001975000250000020000002500000149415024229732499965,7531828463500000150000150000206887,683946888,8266684,161499140206887,68191760195914,88181152,96237109,2272536,32287152,32169326,72203464,32278571,36199694,4165312,96195914,88206887,68230774,4191760173847,36165312,96199694,4113199291499964211754,88235853,421759202431389,6230774,42160201,67994911,4614988131449750150000012138881500000149978614955577767276,261500000230774,4230774,42530832,3412289572741990,4214934,4214934,4214934,4188590,08172750,081999982,51999006199838920000001995000199375025000003615375250000024998102499721,25250000025000002992203,75",
          "211411004,99750003999937,53991210,6511816305,098999725,764117592,752998444,323999768,7549849952980190,325495682,51816561,25392419560000006498316,755946368,752497500156778,565287014,254841203,332002189,656992053,7511999659,642999312,2511392817,533145294886149300000010427094,2554340005015233,254999393,015077442,51499897,435995286,512554531,75022917,58999998,5110272862,66181152,96211754,88226751,042719468,8249618181152,96242239,2441600210911,04173847,36199440,96195914,88277291,2199694,4187624,321444400211754,88127917014999641500001500000249920515000015885001999684249806014998841500001500001500005999980,5187624,32215534,4211754,88195914,88199694,4188590,08172750,08210174,24172750,082989091,2540418107068391,252642601,64499427,510369172,2539986313928100772800117246404998888,59124528,54593875,2514997911404141137099649897152999913,5527337511303944,7515000039995002000000004499800,88230774,4230774,44830613,757999587,5300046010822804230774,4188590,0814157482,5210815148,251499531,254646002848728,69243215023964572500000244125024508763079962,519826883963836,2518607252500000",
          "75000172618,5674478757459148,7583635557964893,2553875579993416,251446071,251467400745200187624,321444400217309,2165312,96173847,363413325,6203464,321311000226441,2194259,44172750,08249072515000015000025000001528006,251500002430625250000015000024945381500001500001965525150000150000197250015000015000024995392498719150000250000015000019912251498356207500024972461500001500001500001500001500001500007811627,51500007999581,252512687,8215534,4222727,68162499,2181152,96199694,4191760265099,2328494,96302331,36165312,96206887,68150000508346647082191499980187624,322499373,752679933,62578636,82747620,85087742,5166278,7275557501999993199888521096242494687,52458128,7525000002000560250000025000002439377,522200504039541,25285644124956242499035,813890622499402,52287922249999924930002805403,82247975020933314597578,752903862,52499000249999925000002398115249999940433752498600243848824999992882322,53994150",
          "7500075000750004264953,1337316331499945,836348099,881483246,428219842,5211754,88186912,241512000307939,68181152,96172750,082669407,2188590,08189687,362689603,22379736,83533767,24059834,36187624,32188590,08283438,8189687,36158597,76195914,88187624,32276000189687,36172750,08211754,88181152,96173847,36238993,9219948951999913879357914994961500002000000149025015000015000019995732500000150000015000024772503343206150000179212524997851999188150000150000299962515000014998942497334149992614992511500000149375034797161749998165312,96173847,36199694,4254330,4165312,96195914,88188590,08195914,88172750,08165312,96211754,88165312,96175920173847,36165312,96172750,084737523,75195914,88211754,882618488,8195914,88195914,886183822161493,36146936,164675947,75199662519500002747131,25998972,251478373230774,4214934,4214934,42706538,16155793,6199962520000009458801,252499999,993194450250000029970472499143,752494748,992999101,2515007122665564,752500000",
          "155793,6166278,72156778,56172618,566221606,2511000246,7567715719197602,57126243,755623326,46568645010729428,067430426,569978204601215217309,2199694,4222727,68206887,68175674,96199694,4181152,96191760226441,2192865,12165312,96206887,68175920226751,04206887,68215534,4172750,08195914,88173847,36199440,96222727,68293445,625000002500000150000149975524110001999819235574114998161499548249900014996001500001500002186133150000149950315000001999943199990119999911600683203588815000001499894149647915000015000001499980150000150000248783423792661499938,7519936881500001499286187500019975001929674199993424999931038267015000015179207,59376995,25187624,32173847,36195914,88172750,08173847,36175920191760195914,8863832173237962,46648550014995141485413195430814994851750000149998815000001499361149387514987505183000187624,322718489,6214934,414734542394779199978019992652000000249999324368663449447,252156681,63250000023590003943243,753765840,7524999994318432,5",
          "5472484,550327774997682,5156778,56156778,56226441,21399261,255998693,75150438,725126293,75206887,68181152,96165312,96276681,6175920206887,68199440,96175737,12165312,96165312,96181152,961393800189687,36189687,36211754,88211754,88189687,36195914,88237109,2173847,36150438,72161889,6173847,36226441,225432301500000249884514885502811238199948925000002499928171110114999992269196200000025000001500001499961156375015000002094176154750015000019991411500001500001489028199997514999931500000130385,52181152,96230774,4206887,68206887,68210911,04189687,36165312,96165312,96211754,88181152,96181152,96165312,96189687,36155793,6211754,88211754,88165312,96211754,882532686,4195914,88211754,881499965149625014624911499150214934,4230774,41740798,75214934,4214934,4230774,4214934,4142757,76214934,4214934,43996824,73172750,081759202868446,252911722,52909251,252998677,25",
          "750004948592,5172618,562047797,5166278,7211054774380708,25206887,68214934,42462968,8173847,36165312,96211754,88244893,6187624,32215534,4189687,36199694,4195914,88189687,36195914,882666836,8165312,96195914,88181152,96215534,4215534,4211754,88183600,96215534,4215534,4150000015000014952711500001500001499213150000249559419998753499763150000150000150000268447317500001994315199692522295231500001499979149972519982731654850150000150000199998015000019942251498729,75197893514995801500001500001499575250000015000015000015000009927253,751500001500002449676150000150000150000222727,68313118,76195914,88173847,36206887,68172750,08173847,36187624,32172750,08165312,96222727,688048715,252927620,8100000001499625167296814993751999533,7519788752249895249900021580001939875210522824999992457113,752495500250000035541564034074,3163595341499211998347207842824958362494542,529432332998988,75249375029998404428402,52499500280926029877751557877,132996048,7526344852995448,52500000354396724999993784703,752491062,883739723,75298765519456222483327,5",
          "75000750007500075000750007500075000136242065244207008941,251337805759995104093462,510921114,686990668,859181759600663102764406162183,026076437,57276633,54495437,5181152,962667693,6165312,96148478,42141841,6164328187624,32165312,96165312,96149852915000015000024884001499998149831615000015000022259061500002000000200000016219131494536150000015000015000014982951500001500009442595,135910451,2559691258046366,2511998512,638141251,25164328188590,08195914,88211754,88172750,08188590,08105877,441500001500005292785,7552598751879625250000043525229991877,5185243099588335988859222727,682000000189133324977082500000248170125000002299633249999924999992772276249999924619004000000250000024999992099387,5248270924999992500000249900024974692498937,53979006,52500000226931225000002235809,524999994229608,52476343,525000002498816249999923896252500000249611225000003639665,7535053252530269,252500000247817525000003946172,5250000024999992306500249667428855252499051,2524999992499999415861025000002342835,52499999250000025000002490337,5249541515227622500000",
          "75000507684,07750007500075000499210,75998224,894993363499923,7517781258226276,251974387,51498898,13241500024999212467225249249015000000149588012313751500000013072757999972,135603706,252999958,758808922,58499555,5496671672942494208360199999014791678,937532870499875061467251972260,7519992182,846937771,257720615300000774790556984752999679,167676743,758938145506056210313760,579996034508355,45633087,53903826,256198302,511011735,6333045066,755774112,57008798,7539997351243680511998387,214243347,563047501600800358200015180001104000269915,04226751,042564510,471640002582503,2249720014972751421250150000149808914967119998828,754999522,54788833,7574060023032209,61967349088320017591490181152,96230774,4200538,2413500002298261239999858265079,648093945,49651456046402052881036,83384928,83608186,414999906,252738724,78664020514999782,54809449594089477027414968009154002256153213524750146472453985648,7519988653865043,13372258064226352495788,7519666651259375",
          "750005010638189687,36172750,08265647,84191760187624,32172750,08188590,08187624,3214958451500002579608159228125000001500000231877815000024861832499375149970518091401721063179710524999991500000250000019994105824074187624,32172750,08188590,08187624,32188590,081497351149639512093756495815,56230774,4214934,42969219199999919987754137668,757868754546205447594624999992499968434941024994821457500",
          "150438,721601268,756721927,2893650953423240181152,96183600,96181152,96181152,96172750,08175920188590,08187624,32173847,36199694,4173847,36175920203464,32214934,41917601500000150000014995001500001493925150000249928924932752482678150000150000150000195000019999956320857,3175920336006,72165312,96187624,32206887,68285140,64215534,417592020000002406250600000025000001648915,21497287,81214934,415000013854592,756612652,75200000019999447881685,2514035277,2511996753249987535470462498563,75",
          "206887,68175920172750,08206887,68172750,08195914,88998200195914,882446322,4203464,32173847,36226751,04173847,36175920187624,32206641,2203464,32230774,4191760226751,041544651249941119000001497540199997015000022500001996250194181925000001871465250000019990392291855150000014965241500000250000019991381500002455842,5149952124980041500002500000150000199436020000001500000187624,32265099,2189687,36165312,96285140,64217309,2230774,4181152,96173847,36211754,881499639195914,88199295910000000195914,881500000150000015000001500000150000012901801748906230774,425000001998280",
          "750007584852,135808740153486,72206887,68165312,96302331,36222727,6820000001500001500001500000199920115000015000015000015000015000019998382446645714479010744280173847,36206887,68278409,617592025000006998037,5249986425000001659836199791519979691999928,7517592025000003999222,5250000021942103885462,53988206,252997921,25249999925000002500000",
          "162499,225000002499062,5171399,36165312,96165312,96188590,08186720,081595059,2165312,96188590,081498361165125015000019983131500002500000150000014996439272460275000028580201500002499250149982815000001462500250000018745002447299214934,4173847,36195914,88172750,08181152,96195914,88199998426421122660961,614998263872336,4187624,32198705924156252378694,25",
          "4201758,753913203,255840990,754949614,552706416,253999891,25377218,755999360918829433976112122287,51155462,529996006000001498076,694887932,362420929,753674111,25396163930000003999483,759999975,2559999903194560,79181152,96211754,881498987,5149992024956443059281593312,59998517,56653072165312,9614076002657779,2120000004868322,56086392,56993860,499995919,5209986243142137,617042172,162998500",
          "75000144000004483530,55199479,255925462,56135176,256207365595224572350235907679,88477347059973126930111,2549718756069750106073116953003,595842982526618,755998311,7548832297893636,258190468574995029896345916977,56726488,689984080596872559932228013218,5437632002122747,2265099,2165312,9615000015000027682405415012,564190254642249,75447395827253016993396,47537801,256547156,755980347585773590337505801577,59498603,6814866440,5572363778145496602444,874031666,252499999,99",
          "750007500075000750002457203,5150000007999851,752626200172750,08211754,88206641,24116902,4173847,361497873199968125000001500001499351150000150000282168199694,414983642747743,220000003454613,75228987524225192500000249999920102002988434,75",
          "14570009242240,5180462506999998,95173847,36317205,6203464,32226441,2199793520000002500000150000015000020000002500000150000254330,4187624,32214934,4150000017833192671855,27425446,8193450019990633293227,5",
          "4131800,254481812,55392275,724997041,256205434,516035533751806274387059996828,65772800164328181152,96222727,682576002605881,61297200340940115000015000015000015000025000001500001917601500008039600,25206887,688448129148212580786311499950234530,412384507150000327078025000004538156,25867937,524759983078249,75"
         ],
         "yaxis": "y"
        }
       ],
       "layout": {
        "barmode": "relative",
        "hovermode": "x unified",
        "legend": {
         "tracegroupgap": 0
        },
        "template": {
         "data": {
          "bar": [
           {
            "error_x": {
             "color": "#2a3f5f"
            },
            "error_y": {
             "color": "#2a3f5f"
            },
            "marker": {
             "line": {
              "color": "#E5ECF6",
              "width": 0.5
             },
             "pattern": {
              "fillmode": "overlay",
              "size": 10,
              "solidity": 0.2
             }
            },
            "type": "bar"
           }
          ],
          "barpolar": [
           {
            "marker": {
             "line": {
              "color": "#E5ECF6",
              "width": 0.5
             },
             "pattern": {
              "fillmode": "overlay",
              "size": 10,
              "solidity": 0.2
             }
            },
            "type": "barpolar"
           }
          ],
          "carpet": [
           {
            "aaxis": {
             "endlinecolor": "#2a3f5f",
             "gridcolor": "white",
             "linecolor": "white",
             "minorgridcolor": "white",
             "startlinecolor": "#2a3f5f"
            },
            "baxis": {
             "endlinecolor": "#2a3f5f",
             "gridcolor": "white",
             "linecolor": "white",
             "minorgridcolor": "white",
             "startlinecolor": "#2a3f5f"
            },
            "type": "carpet"
           }
          ],
          "choropleth": [
           {
            "colorbar": {
             "outlinewidth": 0,
             "ticks": ""
            },
            "type": "choropleth"
           }
          ],
          "contour": [
           {
            "colorbar": {
             "outlinewidth": 0,
             "ticks": ""
            },
            "colorscale": [
             [
              0,
              "#0d0887"
             ],
             [
              0.1111111111111111,
              "#46039f"
             ],
             [
              0.2222222222222222,
              "#7201a8"
             ],
             [
              0.3333333333333333,
              "#9c179e"
             ],
             [
              0.4444444444444444,
              "#bd3786"
             ],
             [
              0.5555555555555556,
              "#d8576b"
             ],
             [
              0.6666666666666666,
              "#ed7953"
             ],
             [
              0.7777777777777778,
              "#fb9f3a"
             ],
             [
              0.8888888888888888,
              "#fdca26"
             ],
             [
              1,
              "#f0f921"
             ]
            ],
            "type": "contour"
           }
          ],
          "contourcarpet": [
           {
            "colorbar": {
             "outlinewidth": 0,
             "ticks": ""
            },
            "type": "contourcarpet"
           }
          ],
          "heatmap": [
           {
            "colorbar": {
             "outlinewidth": 0,
             "ticks": ""
            },
            "colorscale": [
             [
              0,
              "#0d0887"
             ],
             [
              0.1111111111111111,
              "#46039f"
             ],
             [
              0.2222222222222222,
              "#7201a8"
             ],
             [
              0.3333333333333333,
              "#9c179e"
             ],
             [
              0.4444444444444444,
              "#bd3786"
             ],
             [
              0.5555555555555556,
              "#d8576b"
             ],
             [
              0.6666666666666666,
              "#ed7953"
             ],
             [
              0.7777777777777778,
              "#fb9f3a"
             ],
             [
              0.8888888888888888,
              "#fdca26"
             ],
             [
              1,
              "#f0f921"
             ]
            ],
            "type": "heatmap"
           }
          ],
          "histogram": [
           {
            "marker": {
             "pattern": {
              "fillmode": "overlay",
              "size": 10,
              "solidity": 0.2
             }
            },
            "type": "histogram"
           }
          ],
          "histogram2d": [
           {
            "colorbar": {
             "outlinewidth": 0,
             "ticks": ""
            },
            "colorscale": [
             [
              0,
              "#0d0887"
             ],
             [
              0.1111111111111111,
              "#46039f"
             ],
             [
              0.2222222222222222,
              "#7201a8"
             ],
             [
              0.3333333333333333,
              "#9c179e"
             ],
             [
              0.4444444444444444,
              "#bd3786"
             ],
             [
              0.5555555555555556,
              "#d8576b"
             ],
             [
              0.6666666666666666,
              "#ed7953"
             ],
             [
              0.7777777777777778,
              "#fb9f3a"
             ],
             [
              0.8888888888888888,
              "#fdca26"
             ],
             [
              1,
              "#f0f921"
             ]
            ],
            "type": "histogram2d"
           }
          ],
          "histogram2dcontour": [
           {
            "colorbar": {
             "outlinewidth": 0,
             "ticks": ""
            },
            "colorscale": [
             [
              0,
              "#0d0887"
             ],
             [
              0.1111111111111111,
              "#46039f"
             ],
             [
              0.2222222222222222,
              "#7201a8"
             ],
             [
              0.3333333333333333,
              "#9c179e"
             ],
             [
              0.4444444444444444,
              "#bd3786"
             ],
             [
              0.5555555555555556,
              "#d8576b"
             ],
             [
              0.6666666666666666,
              "#ed7953"
             ],
             [
              0.7777777777777778,
              "#fb9f3a"
             ],
             [
              0.8888888888888888,
              "#fdca26"
             ],
             [
              1,
              "#f0f921"
             ]
            ],
            "type": "histogram2dcontour"
           }
          ],
          "mesh3d": [
           {
            "colorbar": {
             "outlinewidth": 0,
             "ticks": ""
            },
            "type": "mesh3d"
           }
          ],
          "parcoords": [
           {
            "line": {
             "colorbar": {
              "outlinewidth": 0,
              "ticks": ""
             }
            },
            "type": "parcoords"
           }
          ],
          "pie": [
           {
            "automargin": true,
            "type": "pie"
           }
          ],
          "scatter": [
           {
            "fillpattern": {
             "fillmode": "overlay",
             "size": 10,
             "solidity": 0.2
            },
            "type": "scatter"
           }
          ],
          "scatter3d": [
           {
            "line": {
             "colorbar": {
              "outlinewidth": 0,
              "ticks": ""
             }
            },
            "marker": {
             "colorbar": {
              "outlinewidth": 0,
              "ticks": ""
             }
            },
            "type": "scatter3d"
           }
          ],
          "scattercarpet": [
           {
            "marker": {
             "colorbar": {
              "outlinewidth": 0,
              "ticks": ""
             }
            },
            "type": "scattercarpet"
           }
          ],
          "scattergeo": [
           {
            "marker": {
             "colorbar": {
              "outlinewidth": 0,
              "ticks": ""
             }
            },
            "type": "scattergeo"
           }
          ],
          "scattergl": [
           {
            "marker": {
             "colorbar": {
              "outlinewidth": 0,
              "ticks": ""
             }
            },
            "type": "scattergl"
           }
          ],
          "scattermap": [
           {
            "marker": {
             "colorbar": {
              "outlinewidth": 0,
              "ticks": ""
             }
            },
            "type": "scattermap"
           }
          ],
          "scattermapbox": [
           {
            "marker": {
             "colorbar": {
              "outlinewidth": 0,
              "ticks": ""
             }
            },
            "type": "scattermapbox"
           }
          ],
          "scatterpolar": [
           {
            "marker": {
             "colorbar": {
              "outlinewidth": 0,
              "ticks": ""
             }
            },
            "type": "scatterpolar"
           }
          ],
          "scatterpolargl": [
           {
            "marker": {
             "colorbar": {
              "outlinewidth": 0,
              "ticks": ""
             }
            },
            "type": "scatterpolargl"
           }
          ],
          "scatterternary": [
           {
            "marker": {
             "colorbar": {
              "outlinewidth": 0,
              "ticks": ""
             }
            },
            "type": "scatterternary"
           }
          ],
          "surface": [
           {
            "colorbar": {
             "outlinewidth": 0,
             "ticks": ""
            },
            "colorscale": [
             [
              0,
              "#0d0887"
             ],
             [
              0.1111111111111111,
              "#46039f"
             ],
             [
              0.2222222222222222,
              "#7201a8"
             ],
             [
              0.3333333333333333,
              "#9c179e"
             ],
             [
              0.4444444444444444,
              "#bd3786"
             ],
             [
              0.5555555555555556,
              "#d8576b"
             ],
             [
              0.6666666666666666,
              "#ed7953"
             ],
             [
              0.7777777777777778,
              "#fb9f3a"
             ],
             [
              0.8888888888888888,
              "#fdca26"
             ],
             [
              1,
              "#f0f921"
             ]
            ],
            "type": "surface"
           }
          ],
          "table": [
           {
            "cells": {
             "fill": {
              "color": "#EBF0F8"
             },
             "line": {
              "color": "white"
             }
            },
            "header": {
             "fill": {
              "color": "#C8D4E3"
             },
             "line": {
              "color": "white"
             }
            },
            "type": "table"
           }
          ]
         },
         "layout": {
          "annotationdefaults": {
           "arrowcolor": "#2a3f5f",
           "arrowhead": 0,
           "arrowwidth": 1
          },
          "autotypenumbers": "strict",
          "coloraxis": {
           "colorbar": {
            "outlinewidth": 0,
            "ticks": ""
           }
          },
          "colorscale": {
           "diverging": [
            [
             0,
             "#8e0152"
            ],
            [
             0.1,
             "#c51b7d"
            ],
            [
             0.2,
             "#de77ae"
            ],
            [
             0.3,
             "#f1b6da"
            ],
            [
             0.4,
             "#fde0ef"
            ],
            [
             0.5,
             "#f7f7f7"
            ],
            [
             0.6,
             "#e6f5d0"
            ],
            [
             0.7,
             "#b8e186"
            ],
            [
             0.8,
             "#7fbc41"
            ],
            [
             0.9,
             "#4d9221"
            ],
            [
             1,
             "#276419"
            ]
           ],
           "sequential": [
            [
             0,
             "#0d0887"
            ],
            [
             0.1111111111111111,
             "#46039f"
            ],
            [
             0.2222222222222222,
             "#7201a8"
            ],
            [
             0.3333333333333333,
             "#9c179e"
            ],
            [
             0.4444444444444444,
             "#bd3786"
            ],
            [
             0.5555555555555556,
             "#d8576b"
            ],
            [
             0.6666666666666666,
             "#ed7953"
            ],
            [
             0.7777777777777778,
             "#fb9f3a"
            ],
            [
             0.8888888888888888,
             "#fdca26"
            ],
            [
             1,
             "#f0f921"
            ]
           ],
           "sequentialminus": [
            [
             0,
             "#0d0887"
            ],
            [
             0.1111111111111111,
             "#46039f"
            ],
            [
             0.2222222222222222,
             "#7201a8"
            ],
            [
             0.3333333333333333,
             "#9c179e"
            ],
            [
             0.4444444444444444,
             "#bd3786"
            ],
            [
             0.5555555555555556,
             "#d8576b"
            ],
            [
             0.6666666666666666,
             "#ed7953"
            ],
            [
             0.7777777777777778,
             "#fb9f3a"
            ],
            [
             0.8888888888888888,
             "#fdca26"
            ],
            [
             1,
             "#f0f921"
            ]
           ]
          },
          "colorway": [
           "#636efa",
           "#EF553B",
           "#00cc96",
           "#ab63fa",
           "#FFA15A",
           "#19d3f3",
           "#FF6692",
           "#B6E880",
           "#FF97FF",
           "#FECB52"
          ],
          "font": {
           "color": "#2a3f5f"
          },
          "geo": {
           "bgcolor": "white",
           "lakecolor": "white",
           "landcolor": "#E5ECF6",
           "showlakes": true,
           "showland": true,
           "subunitcolor": "white"
          },
          "hoverlabel": {
           "align": "left"
          },
          "hovermode": "closest",
          "mapbox": {
           "style": "light"
          },
          "paper_bgcolor": "white",
          "plot_bgcolor": "#E5ECF6",
          "polar": {
           "angularaxis": {
            "gridcolor": "white",
            "linecolor": "white",
            "ticks": ""
           },
           "bgcolor": "#E5ECF6",
           "radialaxis": {
            "gridcolor": "white",
            "linecolor": "white",
            "ticks": ""
           }
          },
          "scene": {
           "xaxis": {
            "backgroundcolor": "#E5ECF6",
            "gridcolor": "white",
            "gridwidth": 2,
            "linecolor": "white",
            "showbackground": true,
            "ticks": "",
            "zerolinecolor": "white"
           },
           "yaxis": {
            "backgroundcolor": "#E5ECF6",
            "gridcolor": "white",
            "gridwidth": 2,
            "linecolor": "white",
            "showbackground": true,
            "ticks": "",
            "zerolinecolor": "white"
           },
           "zaxis": {
            "backgroundcolor": "#E5ECF6",
            "gridcolor": "white",
            "gridwidth": 2,
            "linecolor": "white",
            "showbackground": true,
            "ticks": "",
            "zerolinecolor": "white"
           }
          },
          "shapedefaults": {
           "line": {
            "color": "#2a3f5f"
           }
          },
          "ternary": {
           "aaxis": {
            "gridcolor": "white",
            "linecolor": "white",
            "ticks": ""
           },
           "baxis": {
            "gridcolor": "white",
            "linecolor": "white",
            "ticks": ""
           },
           "bgcolor": "#E5ECF6",
           "caxis": {
            "gridcolor": "white",
            "linecolor": "white",
            "ticks": ""
           }
          },
          "title": {
           "x": 0.05
          },
          "xaxis": {
           "automargin": true,
           "gridcolor": "white",
           "linecolor": "white",
           "ticks": "",
           "title": {
            "standoff": 15
           },
           "zerolinecolor": "white",
           "zerolinewidth": 2
          },
          "yaxis": {
           "automargin": true,
           "gridcolor": "white",
           "linecolor": "white",
           "ticks": "",
           "title": {
            "standoff": 15
           },
           "zerolinecolor": "white",
           "zerolinewidth": 2
          }
         }
        },
        "title": {
         "text": "Total Funding Allocation by Topic"
        },
        "xaxis": {
         "anchor": "y",
         "domain": [
          0,
          1
         ],
         "title": {
          "text": "Topic"
         },
         "type": "category"
        },
        "yaxis": {
         "anchor": "x",
         "domain": [
          0,
          1
         ],
         "title": {
          "text": "Total Funding"
         }
        }
       }
      }
     },
     "metadata": {},
     "output_type": "display_data"
    }
   ],
   "source": [
    "import plotly.express as px\n",
    "\n",
    "# Aggregate total funding per topic\n",
    "funding_summary = topics_df.groupby(\"topic\")[\"ecMaxContribution\"].sum().reset_index()\n",
    "\n",
    "# Plot bar chart\n",
    "fig = px.bar(\n",
    "    funding_summary,\n",
    "    x=\"topic\",\n",
    "    y=\"ecMaxContribution\",\n",
    "    title=\"Total Funding Allocation by Topic\",\n",
    "    labels={\"ecMaxContribution\": \"Total Funding\", \"topic\": \"Topic\"},\n",
    "    text_auto=\".2s\",\n",
    ")\n",
    "\n",
    "fig.update_layout(\n",
    "    xaxis_title=\"Topic\",\n",
    "    yaxis_title=\"Total Funding\",\n",
    "    xaxis=dict(type=\"category\"),\n",
    "    hovermode=\"x unified\",\n",
    ")\n",
    "\n",
    "fig.show()\n"
   ]
  }
 ],
 "metadata": {
  "kernelspec": {
   "display_name": ".venv",
   "language": "python",
   "name": "python3"
  },
  "language_info": {
   "codemirror_mode": {
    "name": "ipython",
    "version": 3
   },
   "file_extension": ".py",
   "mimetype": "text/x-python",
   "name": "python",
   "nbconvert_exporter": "python",
   "pygments_lexer": "ipython3",
   "version": "3.10.12"
  }
 },
 "nbformat": 4,
 "nbformat_minor": 5
}
