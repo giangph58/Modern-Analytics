{
 "cells": [
  {
   "cell_type": "markdown",
   "id": "cc9825db",
   "metadata": {},
   "source": [
    "# Semantic alignment"
   ]
  },
  {
   "cell_type": "code",
   "execution_count": 1,
   "id": "6e38f37d",
   "metadata": {},
   "outputs": [],
   "source": [
    "import pandas as pd\n"
   ]
  },
  {
   "cell_type": "code",
   "execution_count": 2,
   "id": "c5803427",
   "metadata": {},
   "outputs": [],
   "source": [
    "topics_df = pd.read_csv(\"data/processed/topics_df.csv\")\n",
    "\n",
    "topic_labels = {\n",
    "    22: \"Sustainable Pharmaceutical Manufacturing Technologies\",\n",
    "    21: \"Chronic Kidney Disease and Organoids\",\n",
    "    20: \"Retinal and Ocular Disease Mechanisms and Therapies\",\n",
    "    19: \"Cancer Prevention and Patient-Centered Care\",\n",
    "    18: \"Infectious Disease Dynamics and Pandemic Response\",\n",
    "    17: \"Catalysis and Synthetic Organic Chemistry\",\n",
    "    16: \"Diabetes Monitoring and Hormonal Regulation Methods\",\n",
    "    15: \"Brain Sensory and Cognitive Processing\",\n",
    "    14: \"NAFLD and Translational Liver Research\",\n",
    "    13: \"Regenerative Cardiac Models and Therapeutics\",\n",
    "    12: \"Trustworthy AI and Data Privacy in Digital Health\",\n",
    "    11: \"Next-Generation Cardiovascular Diagnostics and Therapies\",\n",
    "    10: \"Neuromodulation and Neurotechnology Therapies\",\n",
    "    9: \"Molecular and Ecological Plant Adaptation\",\n",
    "    8: \"Precision Medicine and Therapeutics for Gut Microbiome Disorders\",\n",
    "    7: \"Holistic Approaches to Antimicrobial and Antibiotic Resistance\",\n",
    "    6: \"Bone Bioprinting and Regenerative Implant Technologies\",\n",
    "    5: \"Sustainable Food Systems and Nutritional Innovations\",\n",
    "    4: \"Molecular Mechanisms and Innovative Treatments for Neurodegeneration\",\n",
    "    3: \"Multimodal Cancer Imaging and Diagnostics Technologies\",\n",
    "    2: \"Digital, Social, and Policy Innovations in Health\",\n",
    "    1: \"Innovative Vaccines, Antivirals, and Diagnostics Tools\",\n",
    "    0: \"Cancer Immunotherapy and Tumor Biology\",\n",
    "}\n"
   ]
  },
  {
   "cell_type": "code",
   "execution_count": 3,
   "id": "51e8522f",
   "metadata": {},
   "outputs": [],
   "source": [
    "from sentence_transformers import SentenceTransformer\n",
    "\n",
    "# Load model (MiniLM is small & fast; mpnet is more accurate)\n",
    "model = SentenceTransformer(\"sentence-transformers/all-mpnet-base-v2\")\n"
   ]
  },
  {
   "cell_type": "code",
   "execution_count": 32,
   "id": "1b5a6def",
   "metadata": {},
   "outputs": [
    {
     "name": "stdout",
     "output_type": "stream",
     "text": [
      "count    23.000000\n",
      "mean      0.226143\n",
      "std       0.059245\n",
      "min       0.106812\n",
      "25%       0.196490\n",
      "50%       0.238915\n",
      "75%       0.262474\n",
      "max       0.323647\n",
      "Name: cosine_similarity, dtype: float64\n"
     ]
    },
    {
     "name": "stderr",
     "output_type": "stream",
     "text": [
      "/tmp/ipykernel_3670456/2375903132.py:53: SettingWithCopyWarning: \n",
      "A value is trying to be set on a copy of a slice from a DataFrame.\n",
      "Try using .loc[row_indexer,col_indexer] = value instead\n",
      "\n",
      "See the caveats in the documentation: https://pandas.pydata.org/pandas-docs/stable/user_guide/indexing.html#returning-a-view-versus-a-copy\n",
      "  result[\"topic_label\"] = result[\"topic\"].map(topic_labels)\n"
     ]
    },
    {
     "data": {
      "text/html": [
       "<div>\n",
       "<style scoped>\n",
       "    .dataframe tbody tr th:only-of-type {\n",
       "        vertical-align: middle;\n",
       "    }\n",
       "\n",
       "    .dataframe tbody tr th {\n",
       "        vertical-align: top;\n",
       "    }\n",
       "\n",
       "    .dataframe thead th {\n",
       "        text-align: right;\n",
       "    }\n",
       "</style>\n",
       "<table border=\"1\" class=\"dataframe\">\n",
       "  <thead>\n",
       "    <tr style=\"text-align: right;\">\n",
       "      <th></th>\n",
       "      <th>topic</th>\n",
       "      <th>topic_label</th>\n",
       "      <th>cosine_similarity</th>\n",
       "    </tr>\n",
       "  </thead>\n",
       "  <tbody>\n",
       "    <tr>\n",
       "      <th>2</th>\n",
       "      <td>2</td>\n",
       "      <td>Digital, Social, and Policy Innovations in Health</td>\n",
       "      <td>0.323647</td>\n",
       "    </tr>\n",
       "    <tr>\n",
       "      <th>5</th>\n",
       "      <td>5</td>\n",
       "      <td>Sustainable Food Systems and Nutritional Innov...</td>\n",
       "      <td>0.301200</td>\n",
       "    </tr>\n",
       "    <tr>\n",
       "      <th>12</th>\n",
       "      <td>12</td>\n",
       "      <td>Trustworthy AI and Data Privacy in Digital Health</td>\n",
       "      <td>0.296031</td>\n",
       "    </tr>\n",
       "    <tr>\n",
       "      <th>19</th>\n",
       "      <td>19</td>\n",
       "      <td>Cancer Prevention and Patient-Centered Care</td>\n",
       "      <td>0.277445</td>\n",
       "    </tr>\n",
       "    <tr>\n",
       "      <th>11</th>\n",
       "      <td>11</td>\n",
       "      <td>Next-Generation Cardiovascular Diagnostics and...</td>\n",
       "      <td>0.268200</td>\n",
       "    </tr>\n",
       "    <tr>\n",
       "      <th>18</th>\n",
       "      <td>18</td>\n",
       "      <td>Infectious Disease Dynamics and Pandemic Response</td>\n",
       "      <td>0.264402</td>\n",
       "    </tr>\n",
       "    <tr>\n",
       "      <th>8</th>\n",
       "      <td>8</td>\n",
       "      <td>Precision Medicine and Therapeutics for Gut Mi...</td>\n",
       "      <td>0.260545</td>\n",
       "    </tr>\n",
       "    <tr>\n",
       "      <th>1</th>\n",
       "      <td>1</td>\n",
       "      <td>Innovative Vaccines, Antivirals, and Diagnosti...</td>\n",
       "      <td>0.258500</td>\n",
       "    </tr>\n",
       "    <tr>\n",
       "      <th>15</th>\n",
       "      <td>15</td>\n",
       "      <td>Brain Sensory and Cognitive Processing</td>\n",
       "      <td>0.247935</td>\n",
       "    </tr>\n",
       "    <tr>\n",
       "      <th>7</th>\n",
       "      <td>7</td>\n",
       "      <td>Holistic Approaches to Antimicrobial and Antib...</td>\n",
       "      <td>0.246912</td>\n",
       "    </tr>\n",
       "    <tr>\n",
       "      <th>9</th>\n",
       "      <td>9</td>\n",
       "      <td>Molecular and Ecological Plant Adaptation</td>\n",
       "      <td>0.242003</td>\n",
       "    </tr>\n",
       "    <tr>\n",
       "      <th>10</th>\n",
       "      <td>10</td>\n",
       "      <td>Neuromodulation and Neurotechnology Therapies</td>\n",
       "      <td>0.238915</td>\n",
       "    </tr>\n",
       "    <tr>\n",
       "      <th>6</th>\n",
       "      <td>6</td>\n",
       "      <td>Bone Bioprinting and Regenerative Implant Tech...</td>\n",
       "      <td>0.231087</td>\n",
       "    </tr>\n",
       "    <tr>\n",
       "      <th>3</th>\n",
       "      <td>3</td>\n",
       "      <td>Multimodal Cancer Imaging and Diagnostics Tech...</td>\n",
       "      <td>0.230977</td>\n",
       "    </tr>\n",
       "    <tr>\n",
       "      <th>16</th>\n",
       "      <td>16</td>\n",
       "      <td>Diabetes Monitoring and Hormonal Regulation Me...</td>\n",
       "      <td>0.228096</td>\n",
       "    </tr>\n",
       "    <tr>\n",
       "      <th>0</th>\n",
       "      <td>0</td>\n",
       "      <td>Cancer Immunotherapy and Tumor Biology</td>\n",
       "      <td>0.217476</td>\n",
       "    </tr>\n",
       "    <tr>\n",
       "      <th>4</th>\n",
       "      <td>4</td>\n",
       "      <td>Molecular Mechanisms and Innovative Treatments...</td>\n",
       "      <td>0.215596</td>\n",
       "    </tr>\n",
       "    <tr>\n",
       "      <th>22</th>\n",
       "      <td>22</td>\n",
       "      <td>Sustainable Pharmaceutical Manufacturing Techn...</td>\n",
       "      <td>0.177383</td>\n",
       "    </tr>\n",
       "    <tr>\n",
       "      <th>17</th>\n",
       "      <td>17</td>\n",
       "      <td>Catalysis and Synthetic Organic Chemistry</td>\n",
       "      <td>0.167242</td>\n",
       "    </tr>\n",
       "    <tr>\n",
       "      <th>14</th>\n",
       "      <td>14</td>\n",
       "      <td>NAFLD and Translational Liver Research</td>\n",
       "      <td>0.165878</td>\n",
       "    </tr>\n",
       "    <tr>\n",
       "      <th>21</th>\n",
       "      <td>21</td>\n",
       "      <td>Chronic Kidney Disease and Organoids</td>\n",
       "      <td>0.127872</td>\n",
       "    </tr>\n",
       "    <tr>\n",
       "      <th>20</th>\n",
       "      <td>20</td>\n",
       "      <td>Retinal and Ocular Disease Mechanisms and Ther...</td>\n",
       "      <td>0.107129</td>\n",
       "    </tr>\n",
       "    <tr>\n",
       "      <th>13</th>\n",
       "      <td>13</td>\n",
       "      <td>Regenerative Cardiac Models and Therapeutics</td>\n",
       "      <td>0.106812</td>\n",
       "    </tr>\n",
       "  </tbody>\n",
       "</table>\n",
       "</div>"
      ],
      "text/plain": [
       "    topic                                        topic_label  \\\n",
       "2       2  Digital, Social, and Policy Innovations in Health   \n",
       "5       5  Sustainable Food Systems and Nutritional Innov...   \n",
       "12     12  Trustworthy AI and Data Privacy in Digital Health   \n",
       "19     19        Cancer Prevention and Patient-Centered Care   \n",
       "11     11  Next-Generation Cardiovascular Diagnostics and...   \n",
       "18     18  Infectious Disease Dynamics and Pandemic Response   \n",
       "8       8  Precision Medicine and Therapeutics for Gut Mi...   \n",
       "1       1  Innovative Vaccines, Antivirals, and Diagnosti...   \n",
       "15     15             Brain Sensory and Cognitive Processing   \n",
       "7       7  Holistic Approaches to Antimicrobial and Antib...   \n",
       "9       9          Molecular and Ecological Plant Adaptation   \n",
       "10     10      Neuromodulation and Neurotechnology Therapies   \n",
       "6       6  Bone Bioprinting and Regenerative Implant Tech...   \n",
       "3       3  Multimodal Cancer Imaging and Diagnostics Tech...   \n",
       "16     16  Diabetes Monitoring and Hormonal Regulation Me...   \n",
       "0       0             Cancer Immunotherapy and Tumor Biology   \n",
       "4       4  Molecular Mechanisms and Innovative Treatments...   \n",
       "22     22  Sustainable Pharmaceutical Manufacturing Techn...   \n",
       "17     17          Catalysis and Synthetic Organic Chemistry   \n",
       "14     14             NAFLD and Translational Liver Research   \n",
       "21     21               Chronic Kidney Disease and Organoids   \n",
       "20     20  Retinal and Ocular Disease Mechanisms and Ther...   \n",
       "13     13       Regenerative Cardiac Models and Therapeutics   \n",
       "\n",
       "    cosine_similarity  \n",
       "2            0.323647  \n",
       "5            0.301200  \n",
       "12           0.296031  \n",
       "19           0.277445  \n",
       "11           0.268200  \n",
       "18           0.264402  \n",
       "8            0.260545  \n",
       "1            0.258500  \n",
       "15           0.247935  \n",
       "7            0.246912  \n",
       "9            0.242003  \n",
       "10           0.238915  \n",
       "6            0.231087  \n",
       "3            0.230977  \n",
       "16           0.228096  \n",
       "0            0.217476  \n",
       "4            0.215596  \n",
       "22           0.177383  \n",
       "17           0.167242  \n",
       "14           0.165878  \n",
       "21           0.127872  \n",
       "20           0.107129  \n",
       "13           0.106812  "
      ]
     },
     "execution_count": 32,
     "metadata": {},
     "output_type": "execute_result"
    }
   ],
   "source": [
    "import ast\n",
    "from sklearn.metrics.pairwise import cosine_similarity\n",
    "\n",
    "pos_kws = (\n",
    "    topics_df[[\"topic\", \"POS\"]]\n",
    "    .drop_duplicates()\n",
    "    .sort_values(by=\"topic\")\n",
    "    .reset_index(drop=True)\n",
    ")\n",
    "\n",
    "\n",
    "# Function to parse and flatten the string of lists\n",
    "def parse_and_flatten(s):\n",
    "    wrapped = f\"[{s}]\"  # Wrap to parse as list of lists\n",
    "    list_of_lists = ast.literal_eval(wrapped)\n",
    "    return [item for sublist in list_of_lists for item in sublist]\n",
    "\n",
    "eu_kws = topics_df.groupby(\"topic\", as_index=False).agg({\"euroSciVocTitle\": \", \".join})\n",
    "eu_kws[\"euroSciVocTitle\"] = eu_kws[\"euroSciVocTitle\"].apply(parse_and_flatten)\n",
    "\n",
    "# Remove duplicates preserving order\n",
    "eu_kws[\"euroSciVocTitle\"] = eu_kws[\"euroSciVocTitle\"].apply(\n",
    "    lambda x: list(dict.fromkeys(x))\n",
    ")\n",
    "\n",
    "merged_kws = pd.merge(pos_kws, eu_kws, on=\"topic\")\n",
    "\n",
    "def embed_keywords(keyword_list):\n",
    "    # Join keywords as a space-separated string\n",
    "    text = \" \".join(keyword_list)\n",
    "    return model.encode(text)\n",
    "\n",
    "# Compute embeddings for each row\n",
    "merged_kws[\"POS_embedding\"] = merged_kws[\"POS\"].apply(embed_keywords)\n",
    "merged_kws[\"euroSciVocTitle_embedding\"] = merged_kws[\"euroSciVocTitle\"].apply(\n",
    "    embed_keywords\n",
    ")\n",
    "\n",
    "\n",
    "# Compute cosine similarity for each row\n",
    "def cosine_sim(row):\n",
    "    emb1 = row[\"POS_embedding\"].reshape(1, -1)\n",
    "    emb2 = row[\"euroSciVocTitle_embedding\"].reshape(1, -1)\n",
    "    return cosine_similarity(emb1, emb2)[0][0]\n",
    "\n",
    "merged_kws[\"cosine_similarity\"] = merged_kws.apply(cosine_sim, axis=1)\n",
    "\n",
    "# Keep relevant columns\n",
    "result = merged_kws[[\"topic\", \"cosine_similarity\"]]\n",
    "\n",
    "print(result[\"cosine_similarity\"].describe())\n",
    "\n",
    "result[\"topic_label\"] = result[\"topic\"].map(topic_labels)\n",
    "\n",
    "# Reoreder columns topic_label after topic\n",
    "result = result[[\"topic\", \"topic_label\", \"cosine_similarity\"]]\n",
    "temp = result.sort_values(by=\"cosine_similarity\", ascending=False)\n",
    "temp.to_csv(\"data/processed/euscivoc_similarity.csv\", index=False)\n",
    "temp\n"
   ]
  },
  {
   "cell_type": "code",
   "execution_count": 29,
   "id": "6037773e",
   "metadata": {},
   "outputs": [
    {
     "name": "stdout",
     "output_type": "stream",
     "text": [
      "Topic ID: 20\n",
      "BERTopic Keywords:                       euroSciVocTitle Keywords:\n",
      "eye                                      drug discovery\n",
      "retinal                                  ophthalmology\n",
      "ocular                                   stem cells\n",
      "retina                                   biomaterials\n",
      "vision                                   entrepreneurship\n",
      "blindness                                pathology\n",
      "diseases                                 cells technologies\n",
      "degeneration                             software\n",
      "macular                                  radiology\n",
      "related macular                          parkinson\n",
      "                                         surgery\n",
      "                                         robotics\n",
      "                                         medical biotechnology\n",
      "                                         physical chemistry\n",
      "                                         physiology\n",
      "                                         gene therapy\n",
      "                                         RNA\n",
      "                                         genomes\n",
      "                                         pharmacokinetics\n",
      "                                         nano-materials\n",
      "                                         spectroscopy\n",
      "                                         mutation\n",
      "                                         pathophysiology\n",
      "                                         immunology\n",
      "                                         glaucoma\n",
      "                                         retinopathy\n",
      "                                         public health\n",
      "                                         machine learning\n",
      "                                         alzheimer\n",
      "                                         histology\n",
      "                                         nucleic acids\n",
      "                                         pharmaceutical drugs\n",
      "                                         nanomedicine\n",
      "                                         surgical procedures\n",
      "                                         virology\n",
      "                                         laser physics\n",
      "                                         proteins\n",
      "                                         developmental biology\n",
      "                                         mathematical model\n",
      "                                         artificial intelligence\n",
      "                                         optics\n",
      "                                         pharmacology and pharmacy\n",
      "                                         optoelectronics\n",
      "                                         implants\n",
      "                                         polymer sciences\n",
      "                                         optical sensors\n",
      "                                         diabetes\n",
      "                                         oncology\n"
     ]
    }
   ],
   "source": [
    "import ast\n",
    "\n",
    "topic_to_compare = 20\n",
    "\n",
    "topic_row = merged_kws[merged_kws[\"topic\"] == topic_to_compare]\n",
    "\n",
    "if topic_row.empty:\n",
    "    print(f\"No topic found with topic = {topic_to_compare}\")\n",
    "else:\n",
    "    POS_keywords = topic_row.iloc[0][\"POS\"]\n",
    "    euroSciVocTitle_keywords = topic_row.iloc[0][\"euroSciVocTitle\"]\n",
    "\n",
    "    # Convert POS_keywords string to list:\n",
    "    if isinstance(POS_keywords, str):\n",
    "        # Try parsing with ast.literal_eval first\n",
    "        try:\n",
    "            POS_keywords = ast.literal_eval(POS_keywords)\n",
    "        except (ValueError, SyntaxError):\n",
    "            # If fails, assume comma-separated string\n",
    "            POS_keywords = [k.strip() for k in POS_keywords.split(\",\")]\n",
    "\n",
    "    print(f\"Topic ID: {topic_to_compare}\")\n",
    "    print(\"BERTopic Keywords:\".ljust(40), \"euroSciVocTitle Keywords:\")\n",
    "\n",
    "    max_len = max(len(POS_keywords), len(euroSciVocTitle_keywords))\n",
    "    POS_keywords += [\"\"] * (max_len - len(POS_keywords))\n",
    "    euroSciVocTitle_keywords += [\"\"] * (max_len - len(euroSciVocTitle_keywords))\n",
    "\n",
    "    for k1, k2 in zip(POS_keywords, euroSciVocTitle_keywords):\n",
    "        print(f\"{k1.ljust(40)} {k2}\")\n"
   ]
  },
  {
   "cell_type": "markdown",
   "id": "70caa5ba",
   "metadata": {},
   "source": [
    "# Trend in topics"
   ]
  },
  {
   "cell_type": "code",
   "execution_count": 33,
   "id": "812eb1ae",
   "metadata": {},
   "outputs": [],
   "source": [
    "# Set Plotly theme globally\n",
    "import plotly.io as pio\n",
    "\n",
    "pio.templates.default = \"plotly_white\"\n"
   ]
  },
  {
   "cell_type": "code",
   "execution_count": 45,
   "id": "293eb589",
   "metadata": {},
   "outputs": [
    {
     "data": {
      "text/html": [
       "<div>\n",
       "<style scoped>\n",
       "    .dataframe tbody tr th:only-of-type {\n",
       "        vertical-align: middle;\n",
       "    }\n",
       "\n",
       "    .dataframe tbody tr th {\n",
       "        vertical-align: top;\n",
       "    }\n",
       "\n",
       "    .dataframe thead th {\n",
       "        text-align: right;\n",
       "    }\n",
       "</style>\n",
       "<table border=\"1\" class=\"dataframe\">\n",
       "  <thead>\n",
       "    <tr style=\"text-align: right;\">\n",
       "      <th></th>\n",
       "      <th>time_period</th>\n",
       "      <th>topic</th>\n",
       "      <th>count</th>\n",
       "      <th>topic_label</th>\n",
       "    </tr>\n",
       "  </thead>\n",
       "  <tbody>\n",
       "    <tr>\n",
       "      <th>0</th>\n",
       "      <td>2021-01-01</td>\n",
       "      <td>1</td>\n",
       "      <td>7</td>\n",
       "      <td>Innovative Vaccines, Antivirals, and Diagnosti...</td>\n",
       "    </tr>\n",
       "    <tr>\n",
       "      <th>1</th>\n",
       "      <td>2021-01-01</td>\n",
       "      <td>18</td>\n",
       "      <td>2</td>\n",
       "      <td>Infectious Disease Dynamics and Pandemic Response</td>\n",
       "    </tr>\n",
       "    <tr>\n",
       "      <th>2</th>\n",
       "      <td>2022-01-01</td>\n",
       "      <td>0</td>\n",
       "      <td>303</td>\n",
       "      <td>Cancer Immunotherapy and Tumor Biology</td>\n",
       "    </tr>\n",
       "    <tr>\n",
       "      <th>3</th>\n",
       "      <td>2022-01-01</td>\n",
       "      <td>1</td>\n",
       "      <td>80</td>\n",
       "      <td>Innovative Vaccines, Antivirals, and Diagnosti...</td>\n",
       "    </tr>\n",
       "    <tr>\n",
       "      <th>4</th>\n",
       "      <td>2022-01-01</td>\n",
       "      <td>2</td>\n",
       "      <td>110</td>\n",
       "      <td>Digital, Social, and Policy Innovations in Health</td>\n",
       "    </tr>\n",
       "    <tr>\n",
       "      <th>...</th>\n",
       "      <td>...</td>\n",
       "      <td>...</td>\n",
       "      <td>...</td>\n",
       "      <td>...</td>\n",
       "    </tr>\n",
       "    <tr>\n",
       "      <th>78</th>\n",
       "      <td>2025-01-01</td>\n",
       "      <td>9</td>\n",
       "      <td>2</td>\n",
       "      <td>Molecular and Ecological Plant Adaptation</td>\n",
       "    </tr>\n",
       "    <tr>\n",
       "      <th>79</th>\n",
       "      <td>2025-01-01</td>\n",
       "      <td>10</td>\n",
       "      <td>2</td>\n",
       "      <td>Neuromodulation and Neurotechnology Therapies</td>\n",
       "    </tr>\n",
       "    <tr>\n",
       "      <th>80</th>\n",
       "      <td>2025-01-01</td>\n",
       "      <td>12</td>\n",
       "      <td>1</td>\n",
       "      <td>Trustworthy AI and Data Privacy in Digital Health</td>\n",
       "    </tr>\n",
       "    <tr>\n",
       "      <th>81</th>\n",
       "      <td>2025-01-01</td>\n",
       "      <td>14</td>\n",
       "      <td>2</td>\n",
       "      <td>NAFLD and Translational Liver Research</td>\n",
       "    </tr>\n",
       "    <tr>\n",
       "      <th>82</th>\n",
       "      <td>2025-01-01</td>\n",
       "      <td>17</td>\n",
       "      <td>2</td>\n",
       "      <td>Catalysis and Synthetic Organic Chemistry</td>\n",
       "    </tr>\n",
       "  </tbody>\n",
       "</table>\n",
       "<p>83 rows × 4 columns</p>\n",
       "</div>"
      ],
      "text/plain": [
       "   time_period  topic  count  \\\n",
       "0   2021-01-01      1      7   \n",
       "1   2021-01-01     18      2   \n",
       "2   2022-01-01      0    303   \n",
       "3   2022-01-01      1     80   \n",
       "4   2022-01-01      2    110   \n",
       "..         ...    ...    ...   \n",
       "78  2025-01-01      9      2   \n",
       "79  2025-01-01     10      2   \n",
       "80  2025-01-01     12      1   \n",
       "81  2025-01-01     14      2   \n",
       "82  2025-01-01     17      2   \n",
       "\n",
       "                                          topic_label  \n",
       "0   Innovative Vaccines, Antivirals, and Diagnosti...  \n",
       "1   Infectious Disease Dynamics and Pandemic Response  \n",
       "2              Cancer Immunotherapy and Tumor Biology  \n",
       "3   Innovative Vaccines, Antivirals, and Diagnosti...  \n",
       "4   Digital, Social, and Policy Innovations in Health  \n",
       "..                                                ...  \n",
       "78          Molecular and Ecological Plant Adaptation  \n",
       "79      Neuromodulation and Neurotechnology Therapies  \n",
       "80  Trustworthy AI and Data Privacy in Digital Health  \n",
       "81             NAFLD and Translational Liver Research  \n",
       "82          Catalysis and Synthetic Organic Chemistry  \n",
       "\n",
       "[83 rows x 4 columns]"
      ]
     },
     "execution_count": 45,
     "metadata": {},
     "output_type": "execute_result"
    }
   ],
   "source": [
    "import pandas as pd\n",
    "import plotly.express as px\n",
    "\n",
    "# Ensure the date column is a datetime object\n",
    "topics_df[\"ecSignatureDate\"] = pd.to_datetime(topics_df[\"ecSignatureDate\"])\n",
    "\n",
    "# Optional: group by month or week\n",
    "topics_df[\"time_period\"] = topics_df[\"ecSignatureDate\"].dt.to_period(\"Y\").dt.to_timestamp()  # use 'W' for weekly\n",
    "\n",
    "# Count number of documents per topic per time period\n",
    "topic_trend = topics_df.groupby([\"time_period\", \"topic\"]).size().reset_index(name=\"count\")\n",
    "topic_trend[\"topic_label\"] = topic_trend[\"topic\"].map(topic_labels)\n",
    "topic_trend\n"
   ]
  },
  {
   "cell_type": "code",
   "execution_count": 48,
   "id": "6964306d",
   "metadata": {},
   "outputs": [
    {
     "data": {
      "application/vnd.plotly.v1+json": {
       "config": {
        "plotlyServerURL": "https://plot.ly"
       },
       "data": [
        {
         "hovertemplate": "<b>%{hovertext}</b><br><br>topic=1<br>time_period=%{x}<br>count=%{y}<extra></extra>",
         "hovertext": [
          "Innovative Vaccines, Antivirals, and Diagnostics Tools",
          "Innovative Vaccines, Antivirals, and Diagnostics Tools",
          "Innovative Vaccines, Antivirals, and Diagnostics Tools",
          "Innovative Vaccines, Antivirals, and Diagnostics Tools",
          "Innovative Vaccines, Antivirals, and Diagnostics Tools"
         ],
         "legendgroup": "1",
         "line": {
          "color": "#636efa",
          "dash": "solid"
         },
         "marker": {
          "symbol": "circle"
         },
         "mode": "lines+markers",
         "name": "1",
         "orientation": "v",
         "showlegend": true,
         "type": "scatter",
         "x": [
          "2021-01-01T00:00:00.000000000",
          "2022-01-01T00:00:00.000000000",
          "2023-01-01T00:00:00.000000000",
          "2024-01-01T00:00:00.000000000",
          "2025-01-01T00:00:00.000000000"
         ],
         "xaxis": "x",
         "y": {
          "bdata": "B1B0ZwM=",
          "dtype": "i1"
         },
         "yaxis": "y"
        },
        {
         "hovertemplate": "<b>%{hovertext}</b><br><br>topic=18<br>time_period=%{x}<br>count=%{y}<extra></extra>",
         "hovertext": [
          "Infectious Disease Dynamics and Pandemic Response",
          "Infectious Disease Dynamics and Pandemic Response",
          "Infectious Disease Dynamics and Pandemic Response",
          "Infectious Disease Dynamics and Pandemic Response"
         ],
         "legendgroup": "18",
         "line": {
          "color": "#EF553B",
          "dash": "solid"
         },
         "marker": {
          "symbol": "circle"
         },
         "mode": "lines+markers",
         "name": "18",
         "orientation": "v",
         "showlegend": true,
         "type": "scatter",
         "x": [
          "2021-01-01T00:00:00.000000000",
          "2022-01-01T00:00:00.000000000",
          "2023-01-01T00:00:00.000000000",
          "2024-01-01T00:00:00.000000000"
         ],
         "xaxis": "x",
         "y": {
          "bdata": "AhMSBg==",
          "dtype": "i1"
         },
         "yaxis": "y"
        },
        {
         "hovertemplate": "<b>%{hovertext}</b><br><br>topic=0<br>time_period=%{x}<br>count=%{y}<extra></extra>",
         "hovertext": [
          "Cancer Immunotherapy and Tumor Biology",
          "Cancer Immunotherapy and Tumor Biology",
          "Cancer Immunotherapy and Tumor Biology",
          "Cancer Immunotherapy and Tumor Biology"
         ],
         "legendgroup": "0",
         "line": {
          "color": "#00cc96",
          "dash": "solid"
         },
         "marker": {
          "symbol": "circle"
         },
         "mode": "lines+markers",
         "name": "0",
         "orientation": "v",
         "showlegend": true,
         "type": "scatter",
         "x": [
          "2022-01-01T00:00:00.000000000",
          "2023-01-01T00:00:00.000000000",
          "2024-01-01T00:00:00.000000000",
          "2025-01-01T00:00:00.000000000"
         ],
         "xaxis": "x",
         "y": {
          "bdata": "LwFeAfYAEQA=",
          "dtype": "i2"
         },
         "yaxis": "y"
        },
        {
         "hovertemplate": "<b>%{hovertext}</b><br><br>topic=2<br>time_period=%{x}<br>count=%{y}<extra></extra>",
         "hovertext": [
          "Digital, Social, and Policy Innovations in Health",
          "Digital, Social, and Policy Innovations in Health",
          "Digital, Social, and Policy Innovations in Health"
         ],
         "legendgroup": "2",
         "line": {
          "color": "#ab63fa",
          "dash": "solid"
         },
         "marker": {
          "symbol": "circle"
         },
         "mode": "lines+markers",
         "name": "2",
         "orientation": "v",
         "showlegend": true,
         "type": "scatter",
         "x": [
          "2022-01-01T00:00:00.000000000",
          "2023-01-01T00:00:00.000000000",
          "2024-01-01T00:00:00.000000000"
         ],
         "xaxis": "x",
         "y": {
          "bdata": "bnRL",
          "dtype": "i1"
         },
         "yaxis": "y"
        },
        {
         "hovertemplate": "<b>%{hovertext}</b><br><br>topic=3<br>time_period=%{x}<br>count=%{y}<extra></extra>",
         "hovertext": [
          "Multimodal Cancer Imaging and Diagnostics Technologies",
          "Multimodal Cancer Imaging and Diagnostics Technologies",
          "Multimodal Cancer Imaging and Diagnostics Technologies",
          "Multimodal Cancer Imaging and Diagnostics Technologies"
         ],
         "legendgroup": "3",
         "line": {
          "color": "#FFA15A",
          "dash": "solid"
         },
         "marker": {
          "symbol": "circle"
         },
         "mode": "lines+markers",
         "name": "3",
         "orientation": "v",
         "showlegend": true,
         "type": "scatter",
         "x": [
          "2022-01-01T00:00:00.000000000",
          "2023-01-01T00:00:00.000000000",
          "2024-01-01T00:00:00.000000000",
          "2025-01-01T00:00:00.000000000"
         ],
         "xaxis": "x",
         "y": {
          "bdata": "dGZFBg==",
          "dtype": "i1"
         },
         "yaxis": "y"
        },
        {
         "hovertemplate": "<b>%{hovertext}</b><br><br>topic=4<br>time_period=%{x}<br>count=%{y}<extra></extra>",
         "hovertext": [
          "Molecular Mechanisms and Innovative Treatments for Neurodegeneration",
          "Molecular Mechanisms and Innovative Treatments for Neurodegeneration",
          "Molecular Mechanisms and Innovative Treatments for Neurodegeneration",
          "Molecular Mechanisms and Innovative Treatments for Neurodegeneration"
         ],
         "legendgroup": "4",
         "line": {
          "color": "#19d3f3",
          "dash": "solid"
         },
         "marker": {
          "symbol": "circle"
         },
         "mode": "lines+markers",
         "name": "4",
         "orientation": "v",
         "showlegend": true,
         "type": "scatter",
         "x": [
          "2022-01-01T00:00:00.000000000",
          "2023-01-01T00:00:00.000000000",
          "2024-01-01T00:00:00.000000000",
          "2025-01-01T00:00:00.000000000"
         ],
         "xaxis": "x",
         "y": {
          "bdata": "RUA8AQ==",
          "dtype": "i1"
         },
         "yaxis": "y"
        },
        {
         "hovertemplate": "<b>%{hovertext}</b><br><br>topic=5<br>time_period=%{x}<br>count=%{y}<extra></extra>",
         "hovertext": [
          "Sustainable Food Systems and Nutritional Innovations",
          "Sustainable Food Systems and Nutritional Innovations",
          "Sustainable Food Systems and Nutritional Innovations"
         ],
         "legendgroup": "5",
         "line": {
          "color": "#FF6692",
          "dash": "solid"
         },
         "marker": {
          "symbol": "circle"
         },
         "mode": "lines+markers",
         "name": "5",
         "orientation": "v",
         "showlegend": true,
         "type": "scatter",
         "x": [
          "2022-01-01T00:00:00.000000000",
          "2023-01-01T00:00:00.000000000",
          "2024-01-01T00:00:00.000000000"
         ],
         "xaxis": "x",
         "y": {
          "bdata": "NCYl",
          "dtype": "i1"
         },
         "yaxis": "y"
        },
        {
         "hovertemplate": "<b>%{hovertext}</b><br><br>topic=6<br>time_period=%{x}<br>count=%{y}<extra></extra>",
         "hovertext": [
          "Bone Bioprinting and Regenerative Implant Technologies",
          "Bone Bioprinting and Regenerative Implant Technologies",
          "Bone Bioprinting and Regenerative Implant Technologies",
          "Bone Bioprinting and Regenerative Implant Technologies"
         ],
         "legendgroup": "6",
         "line": {
          "color": "#B6E880",
          "dash": "solid"
         },
         "marker": {
          "symbol": "circle"
         },
         "mode": "lines+markers",
         "name": "6",
         "orientation": "v",
         "showlegend": true,
         "type": "scatter",
         "x": [
          "2022-01-01T00:00:00.000000000",
          "2023-01-01T00:00:00.000000000",
          "2024-01-01T00:00:00.000000000",
          "2025-01-01T00:00:00.000000000"
         ],
         "xaxis": "x",
         "y": {
          "bdata": "MiQfAQ==",
          "dtype": "i1"
         },
         "yaxis": "y"
        },
        {
         "hovertemplate": "<b>%{hovertext}</b><br><br>topic=7<br>time_period=%{x}<br>count=%{y}<extra></extra>",
         "hovertext": [
          "Holistic Approaches to Antimicrobial and Antibiotic Resistance",
          "Holistic Approaches to Antimicrobial and Antibiotic Resistance",
          "Holistic Approaches to Antimicrobial and Antibiotic Resistance",
          "Holistic Approaches to Antimicrobial and Antibiotic Resistance"
         ],
         "legendgroup": "7",
         "line": {
          "color": "#FF97FF",
          "dash": "solid"
         },
         "marker": {
          "symbol": "circle"
         },
         "mode": "lines+markers",
         "name": "7",
         "orientation": "v",
         "showlegend": true,
         "type": "scatter",
         "x": [
          "2022-01-01T00:00:00.000000000",
          "2023-01-01T00:00:00.000000000",
          "2024-01-01T00:00:00.000000000",
          "2025-01-01T00:00:00.000000000"
         ],
         "xaxis": "x",
         "y": {
          "bdata": "JjAdAQ==",
          "dtype": "i1"
         },
         "yaxis": "y"
        },
        {
         "hovertemplate": "<b>%{hovertext}</b><br><br>topic=8<br>time_period=%{x}<br>count=%{y}<extra></extra>",
         "hovertext": [
          "Precision Medicine and Therapeutics for Gut Microbiome Disorders",
          "Precision Medicine and Therapeutics for Gut Microbiome Disorders",
          "Precision Medicine and Therapeutics for Gut Microbiome Disorders",
          "Precision Medicine and Therapeutics for Gut Microbiome Disorders"
         ],
         "legendgroup": "8",
         "line": {
          "color": "#FECB52",
          "dash": "solid"
         },
         "marker": {
          "symbol": "circle"
         },
         "mode": "lines+markers",
         "name": "8",
         "orientation": "v",
         "showlegend": true,
         "type": "scatter",
         "x": [
          "2022-01-01T00:00:00.000000000",
          "2023-01-01T00:00:00.000000000",
          "2024-01-01T00:00:00.000000000",
          "2025-01-01T00:00:00.000000000"
         ],
         "xaxis": "x",
         "y": {
          "bdata": "KyYoAQ==",
          "dtype": "i1"
         },
         "yaxis": "y"
        },
        {
         "hovertemplate": "<b>%{hovertext}</b><br><br>topic=9<br>time_period=%{x}<br>count=%{y}<extra></extra>",
         "hovertext": [
          "Molecular and Ecological Plant Adaptation",
          "Molecular and Ecological Plant Adaptation",
          "Molecular and Ecological Plant Adaptation",
          "Molecular and Ecological Plant Adaptation"
         ],
         "legendgroup": "9",
         "line": {
          "color": "#636efa",
          "dash": "solid"
         },
         "marker": {
          "symbol": "circle"
         },
         "mode": "lines+markers",
         "name": "9",
         "orientation": "v",
         "showlegend": true,
         "type": "scatter",
         "x": [
          "2022-01-01T00:00:00.000000000",
          "2023-01-01T00:00:00.000000000",
          "2024-01-01T00:00:00.000000000",
          "2025-01-01T00:00:00.000000000"
         ],
         "xaxis": "x",
         "y": {
          "bdata": "IyUeAg==",
          "dtype": "i1"
         },
         "yaxis": "y"
        },
        {
         "hovertemplate": "<b>%{hovertext}</b><br><br>topic=10<br>time_period=%{x}<br>count=%{y}<extra></extra>",
         "hovertext": [
          "Neuromodulation and Neurotechnology Therapies",
          "Neuromodulation and Neurotechnology Therapies",
          "Neuromodulation and Neurotechnology Therapies",
          "Neuromodulation and Neurotechnology Therapies"
         ],
         "legendgroup": "10",
         "line": {
          "color": "#EF553B",
          "dash": "solid"
         },
         "marker": {
          "symbol": "circle"
         },
         "mode": "lines+markers",
         "name": "10",
         "orientation": "v",
         "showlegend": true,
         "type": "scatter",
         "x": [
          "2022-01-01T00:00:00.000000000",
          "2023-01-01T00:00:00.000000000",
          "2024-01-01T00:00:00.000000000",
          "2025-01-01T00:00:00.000000000"
         ],
         "xaxis": "x",
         "y": {
          "bdata": "LTgeAg==",
          "dtype": "i1"
         },
         "yaxis": "y"
        },
        {
         "hovertemplate": "<b>%{hovertext}</b><br><br>topic=11<br>time_period=%{x}<br>count=%{y}<extra></extra>",
         "hovertext": [
          "Next-Generation Cardiovascular Diagnostics and Therapies",
          "Next-Generation Cardiovascular Diagnostics and Therapies",
          "Next-Generation Cardiovascular Diagnostics and Therapies"
         ],
         "legendgroup": "11",
         "line": {
          "color": "#00cc96",
          "dash": "solid"
         },
         "marker": {
          "symbol": "circle"
         },
         "mode": "lines+markers",
         "name": "11",
         "orientation": "v",
         "showlegend": true,
         "type": "scatter",
         "x": [
          "2022-01-01T00:00:00.000000000",
          "2023-01-01T00:00:00.000000000",
          "2024-01-01T00:00:00.000000000"
         ],
         "xaxis": "x",
         "y": {
          "bdata": "LD8f",
          "dtype": "i1"
         },
         "yaxis": "y"
        },
        {
         "hovertemplate": "<b>%{hovertext}</b><br><br>topic=12<br>time_period=%{x}<br>count=%{y}<extra></extra>",
         "hovertext": [
          "Trustworthy AI and Data Privacy in Digital Health",
          "Trustworthy AI and Data Privacy in Digital Health",
          "Trustworthy AI and Data Privacy in Digital Health",
          "Trustworthy AI and Data Privacy in Digital Health"
         ],
         "legendgroup": "12",
         "line": {
          "color": "#ab63fa",
          "dash": "solid"
         },
         "marker": {
          "symbol": "circle"
         },
         "mode": "lines+markers",
         "name": "12",
         "orientation": "v",
         "showlegend": true,
         "type": "scatter",
         "x": [
          "2022-01-01T00:00:00.000000000",
          "2023-01-01T00:00:00.000000000",
          "2024-01-01T00:00:00.000000000",
          "2025-01-01T00:00:00.000000000"
         ],
         "xaxis": "x",
         "y": {
          "bdata": "KykgAQ==",
          "dtype": "i1"
         },
         "yaxis": "y"
        },
        {
         "hovertemplate": "<b>%{hovertext}</b><br><br>topic=13<br>time_period=%{x}<br>count=%{y}<extra></extra>",
         "hovertext": [
          "Regenerative Cardiac Models and Therapeutics",
          "Regenerative Cardiac Models and Therapeutics",
          "Regenerative Cardiac Models and Therapeutics"
         ],
         "legendgroup": "13",
         "line": {
          "color": "#FFA15A",
          "dash": "solid"
         },
         "marker": {
          "symbol": "circle"
         },
         "mode": "lines+markers",
         "name": "13",
         "orientation": "v",
         "showlegend": true,
         "type": "scatter",
         "x": [
          "2022-01-01T00:00:00.000000000",
          "2023-01-01T00:00:00.000000000",
          "2024-01-01T00:00:00.000000000"
         ],
         "xaxis": "x",
         "y": {
          "bdata": "FhAO",
          "dtype": "i1"
         },
         "yaxis": "y"
        },
        {
         "hovertemplate": "<b>%{hovertext}</b><br><br>topic=14<br>time_period=%{x}<br>count=%{y}<extra></extra>",
         "hovertext": [
          "NAFLD and Translational Liver Research",
          "NAFLD and Translational Liver Research",
          "NAFLD and Translational Liver Research",
          "NAFLD and Translational Liver Research"
         ],
         "legendgroup": "14",
         "line": {
          "color": "#19d3f3",
          "dash": "solid"
         },
         "marker": {
          "symbol": "circle"
         },
         "mode": "lines+markers",
         "name": "14",
         "orientation": "v",
         "showlegend": true,
         "type": "scatter",
         "x": [
          "2022-01-01T00:00:00.000000000",
          "2023-01-01T00:00:00.000000000",
          "2024-01-01T00:00:00.000000000",
          "2025-01-01T00:00:00.000000000"
         ],
         "xaxis": "x",
         "y": {
          "bdata": "FhYPAg==",
          "dtype": "i1"
         },
         "yaxis": "y"
        },
        {
         "hovertemplate": "<b>%{hovertext}</b><br><br>topic=15<br>time_period=%{x}<br>count=%{y}<extra></extra>",
         "hovertext": [
          "Brain Sensory and Cognitive Processing",
          "Brain Sensory and Cognitive Processing",
          "Brain Sensory and Cognitive Processing"
         ],
         "legendgroup": "15",
         "line": {
          "color": "#FF6692",
          "dash": "solid"
         },
         "marker": {
          "symbol": "circle"
         },
         "mode": "lines+markers",
         "name": "15",
         "orientation": "v",
         "showlegend": true,
         "type": "scatter",
         "x": [
          "2022-01-01T00:00:00.000000000",
          "2023-01-01T00:00:00.000000000",
          "2024-01-01T00:00:00.000000000"
         ],
         "xaxis": "x",
         "y": {
          "bdata": "Fhcd",
          "dtype": "i1"
         },
         "yaxis": "y"
        },
        {
         "hovertemplate": "<b>%{hovertext}</b><br><br>topic=16<br>time_period=%{x}<br>count=%{y}<extra></extra>",
         "hovertext": [
          "Diabetes Monitoring and Hormonal Regulation Methods",
          "Diabetes Monitoring and Hormonal Regulation Methods",
          "Diabetes Monitoring and Hormonal Regulation Methods"
         ],
         "legendgroup": "16",
         "line": {
          "color": "#B6E880",
          "dash": "solid"
         },
         "marker": {
          "symbol": "circle"
         },
         "mode": "lines+markers",
         "name": "16",
         "orientation": "v",
         "showlegend": true,
         "type": "scatter",
         "x": [
          "2022-01-01T00:00:00.000000000",
          "2023-01-01T00:00:00.000000000",
          "2024-01-01T00:00:00.000000000"
         ],
         "xaxis": "x",
         "y": {
          "bdata": "DRAQ",
          "dtype": "i1"
         },
         "yaxis": "y"
        },
        {
         "hovertemplate": "<b>%{hovertext}</b><br><br>topic=17<br>time_period=%{x}<br>count=%{y}<extra></extra>",
         "hovertext": [
          "Catalysis and Synthetic Organic Chemistry",
          "Catalysis and Synthetic Organic Chemistry",
          "Catalysis and Synthetic Organic Chemistry",
          "Catalysis and Synthetic Organic Chemistry"
         ],
         "legendgroup": "17",
         "line": {
          "color": "#FF97FF",
          "dash": "solid"
         },
         "marker": {
          "symbol": "circle"
         },
         "mode": "lines+markers",
         "name": "17",
         "orientation": "v",
         "showlegend": true,
         "type": "scatter",
         "x": [
          "2022-01-01T00:00:00.000000000",
          "2023-01-01T00:00:00.000000000",
          "2024-01-01T00:00:00.000000000",
          "2025-01-01T00:00:00.000000000"
         ],
         "xaxis": "x",
         "y": {
          "bdata": "DBEOAg==",
          "dtype": "i1"
         },
         "yaxis": "y"
        },
        {
         "hovertemplate": "<b>%{hovertext}</b><br><br>topic=19<br>time_period=%{x}<br>count=%{y}<extra></extra>",
         "hovertext": [
          "Cancer Prevention and Patient-Centered Care",
          "Cancer Prevention and Patient-Centered Care",
          "Cancer Prevention and Patient-Centered Care"
         ],
         "legendgroup": "19",
         "line": {
          "color": "#FECB52",
          "dash": "solid"
         },
         "marker": {
          "symbol": "circle"
         },
         "mode": "lines+markers",
         "name": "19",
         "orientation": "v",
         "showlegend": true,
         "type": "scatter",
         "x": [
          "2022-01-01T00:00:00.000000000",
          "2023-01-01T00:00:00.000000000",
          "2024-01-01T00:00:00.000000000"
         ],
         "xaxis": "x",
         "y": {
          "bdata": "GRkH",
          "dtype": "i1"
         },
         "yaxis": "y"
        },
        {
         "hovertemplate": "<b>%{hovertext}</b><br><br>topic=20<br>time_period=%{x}<br>count=%{y}<extra></extra>",
         "hovertext": [
          "Retinal and Ocular Disease Mechanisms and Therapies",
          "Retinal and Ocular Disease Mechanisms and Therapies",
          "Retinal and Ocular Disease Mechanisms and Therapies"
         ],
         "legendgroup": "20",
         "line": {
          "color": "#636efa",
          "dash": "solid"
         },
         "marker": {
          "symbol": "circle"
         },
         "mode": "lines+markers",
         "name": "20",
         "orientation": "v",
         "showlegend": true,
         "type": "scatter",
         "x": [
          "2022-01-01T00:00:00.000000000",
          "2023-01-01T00:00:00.000000000",
          "2024-01-01T00:00:00.000000000"
         ],
         "xaxis": "x",
         "y": {
          "bdata": "EAwE",
          "dtype": "i1"
         },
         "yaxis": "y"
        },
        {
         "hovertemplate": "<b>%{hovertext}</b><br><br>topic=21<br>time_period=%{x}<br>count=%{y}<extra></extra>",
         "hovertext": [
          "Chronic Kidney Disease and Organoids",
          "Chronic Kidney Disease and Organoids",
          "Chronic Kidney Disease and Organoids"
         ],
         "legendgroup": "21",
         "line": {
          "color": "#EF553B",
          "dash": "solid"
         },
         "marker": {
          "symbol": "circle"
         },
         "mode": "lines+markers",
         "name": "21",
         "orientation": "v",
         "showlegend": true,
         "type": "scatter",
         "x": [
          "2022-01-01T00:00:00.000000000",
          "2023-01-01T00:00:00.000000000",
          "2024-01-01T00:00:00.000000000"
         ],
         "xaxis": "x",
         "y": {
          "bdata": "CQUM",
          "dtype": "i1"
         },
         "yaxis": "y"
        },
        {
         "hovertemplate": "<b>%{hovertext}</b><br><br>topic=22<br>time_period=%{x}<br>count=%{y}<extra></extra>",
         "hovertext": [
          "Sustainable Pharmaceutical Manufacturing Technologies",
          "Sustainable Pharmaceutical Manufacturing Technologies",
          "Sustainable Pharmaceutical Manufacturing Technologies"
         ],
         "legendgroup": "22",
         "line": {
          "color": "#00cc96",
          "dash": "solid"
         },
         "marker": {
          "symbol": "circle"
         },
         "mode": "lines+markers",
         "name": "22",
         "orientation": "v",
         "showlegend": true,
         "type": "scatter",
         "x": [
          "2022-01-01T00:00:00.000000000",
          "2023-01-01T00:00:00.000000000",
          "2024-01-01T00:00:00.000000000"
         ],
         "xaxis": "x",
         "y": {
          "bdata": "EgsL",
          "dtype": "i1"
         },
         "yaxis": "y"
        }
       ],
       "layout": {
        "hovermode": "x unified",
        "legend": {
         "title": {
          "text": "Topic"
         },
         "tracegroupgap": 0
        },
        "template": {
         "data": {
          "bar": [
           {
            "error_x": {
             "color": "#2a3f5f"
            },
            "error_y": {
             "color": "#2a3f5f"
            },
            "marker": {
             "line": {
              "color": "white",
              "width": 0.5
             },
             "pattern": {
              "fillmode": "overlay",
              "size": 10,
              "solidity": 0.2
             }
            },
            "type": "bar"
           }
          ],
          "barpolar": [
           {
            "marker": {
             "line": {
              "color": "white",
              "width": 0.5
             },
             "pattern": {
              "fillmode": "overlay",
              "size": 10,
              "solidity": 0.2
             }
            },
            "type": "barpolar"
           }
          ],
          "carpet": [
           {
            "aaxis": {
             "endlinecolor": "#2a3f5f",
             "gridcolor": "#C8D4E3",
             "linecolor": "#C8D4E3",
             "minorgridcolor": "#C8D4E3",
             "startlinecolor": "#2a3f5f"
            },
            "baxis": {
             "endlinecolor": "#2a3f5f",
             "gridcolor": "#C8D4E3",
             "linecolor": "#C8D4E3",
             "minorgridcolor": "#C8D4E3",
             "startlinecolor": "#2a3f5f"
            },
            "type": "carpet"
           }
          ],
          "choropleth": [
           {
            "colorbar": {
             "outlinewidth": 0,
             "ticks": ""
            },
            "type": "choropleth"
           }
          ],
          "contour": [
           {
            "colorbar": {
             "outlinewidth": 0,
             "ticks": ""
            },
            "colorscale": [
             [
              0,
              "#0d0887"
             ],
             [
              0.1111111111111111,
              "#46039f"
             ],
             [
              0.2222222222222222,
              "#7201a8"
             ],
             [
              0.3333333333333333,
              "#9c179e"
             ],
             [
              0.4444444444444444,
              "#bd3786"
             ],
             [
              0.5555555555555556,
              "#d8576b"
             ],
             [
              0.6666666666666666,
              "#ed7953"
             ],
             [
              0.7777777777777778,
              "#fb9f3a"
             ],
             [
              0.8888888888888888,
              "#fdca26"
             ],
             [
              1,
              "#f0f921"
             ]
            ],
            "type": "contour"
           }
          ],
          "contourcarpet": [
           {
            "colorbar": {
             "outlinewidth": 0,
             "ticks": ""
            },
            "type": "contourcarpet"
           }
          ],
          "heatmap": [
           {
            "colorbar": {
             "outlinewidth": 0,
             "ticks": ""
            },
            "colorscale": [
             [
              0,
              "#0d0887"
             ],
             [
              0.1111111111111111,
              "#46039f"
             ],
             [
              0.2222222222222222,
              "#7201a8"
             ],
             [
              0.3333333333333333,
              "#9c179e"
             ],
             [
              0.4444444444444444,
              "#bd3786"
             ],
             [
              0.5555555555555556,
              "#d8576b"
             ],
             [
              0.6666666666666666,
              "#ed7953"
             ],
             [
              0.7777777777777778,
              "#fb9f3a"
             ],
             [
              0.8888888888888888,
              "#fdca26"
             ],
             [
              1,
              "#f0f921"
             ]
            ],
            "type": "heatmap"
           }
          ],
          "histogram": [
           {
            "marker": {
             "pattern": {
              "fillmode": "overlay",
              "size": 10,
              "solidity": 0.2
             }
            },
            "type": "histogram"
           }
          ],
          "histogram2d": [
           {
            "colorbar": {
             "outlinewidth": 0,
             "ticks": ""
            },
            "colorscale": [
             [
              0,
              "#0d0887"
             ],
             [
              0.1111111111111111,
              "#46039f"
             ],
             [
              0.2222222222222222,
              "#7201a8"
             ],
             [
              0.3333333333333333,
              "#9c179e"
             ],
             [
              0.4444444444444444,
              "#bd3786"
             ],
             [
              0.5555555555555556,
              "#d8576b"
             ],
             [
              0.6666666666666666,
              "#ed7953"
             ],
             [
              0.7777777777777778,
              "#fb9f3a"
             ],
             [
              0.8888888888888888,
              "#fdca26"
             ],
             [
              1,
              "#f0f921"
             ]
            ],
            "type": "histogram2d"
           }
          ],
          "histogram2dcontour": [
           {
            "colorbar": {
             "outlinewidth": 0,
             "ticks": ""
            },
            "colorscale": [
             [
              0,
              "#0d0887"
             ],
             [
              0.1111111111111111,
              "#46039f"
             ],
             [
              0.2222222222222222,
              "#7201a8"
             ],
             [
              0.3333333333333333,
              "#9c179e"
             ],
             [
              0.4444444444444444,
              "#bd3786"
             ],
             [
              0.5555555555555556,
              "#d8576b"
             ],
             [
              0.6666666666666666,
              "#ed7953"
             ],
             [
              0.7777777777777778,
              "#fb9f3a"
             ],
             [
              0.8888888888888888,
              "#fdca26"
             ],
             [
              1,
              "#f0f921"
             ]
            ],
            "type": "histogram2dcontour"
           }
          ],
          "mesh3d": [
           {
            "colorbar": {
             "outlinewidth": 0,
             "ticks": ""
            },
            "type": "mesh3d"
           }
          ],
          "parcoords": [
           {
            "line": {
             "colorbar": {
              "outlinewidth": 0,
              "ticks": ""
             }
            },
            "type": "parcoords"
           }
          ],
          "pie": [
           {
            "automargin": true,
            "type": "pie"
           }
          ],
          "scatter": [
           {
            "fillpattern": {
             "fillmode": "overlay",
             "size": 10,
             "solidity": 0.2
            },
            "type": "scatter"
           }
          ],
          "scatter3d": [
           {
            "line": {
             "colorbar": {
              "outlinewidth": 0,
              "ticks": ""
             }
            },
            "marker": {
             "colorbar": {
              "outlinewidth": 0,
              "ticks": ""
             }
            },
            "type": "scatter3d"
           }
          ],
          "scattercarpet": [
           {
            "marker": {
             "colorbar": {
              "outlinewidth": 0,
              "ticks": ""
             }
            },
            "type": "scattercarpet"
           }
          ],
          "scattergeo": [
           {
            "marker": {
             "colorbar": {
              "outlinewidth": 0,
              "ticks": ""
             }
            },
            "type": "scattergeo"
           }
          ],
          "scattergl": [
           {
            "marker": {
             "colorbar": {
              "outlinewidth": 0,
              "ticks": ""
             }
            },
            "type": "scattergl"
           }
          ],
          "scattermap": [
           {
            "marker": {
             "colorbar": {
              "outlinewidth": 0,
              "ticks": ""
             }
            },
            "type": "scattermap"
           }
          ],
          "scattermapbox": [
           {
            "marker": {
             "colorbar": {
              "outlinewidth": 0,
              "ticks": ""
             }
            },
            "type": "scattermapbox"
           }
          ],
          "scatterpolar": [
           {
            "marker": {
             "colorbar": {
              "outlinewidth": 0,
              "ticks": ""
             }
            },
            "type": "scatterpolar"
           }
          ],
          "scatterpolargl": [
           {
            "marker": {
             "colorbar": {
              "outlinewidth": 0,
              "ticks": ""
             }
            },
            "type": "scatterpolargl"
           }
          ],
          "scatterternary": [
           {
            "marker": {
             "colorbar": {
              "outlinewidth": 0,
              "ticks": ""
             }
            },
            "type": "scatterternary"
           }
          ],
          "surface": [
           {
            "colorbar": {
             "outlinewidth": 0,
             "ticks": ""
            },
            "colorscale": [
             [
              0,
              "#0d0887"
             ],
             [
              0.1111111111111111,
              "#46039f"
             ],
             [
              0.2222222222222222,
              "#7201a8"
             ],
             [
              0.3333333333333333,
              "#9c179e"
             ],
             [
              0.4444444444444444,
              "#bd3786"
             ],
             [
              0.5555555555555556,
              "#d8576b"
             ],
             [
              0.6666666666666666,
              "#ed7953"
             ],
             [
              0.7777777777777778,
              "#fb9f3a"
             ],
             [
              0.8888888888888888,
              "#fdca26"
             ],
             [
              1,
              "#f0f921"
             ]
            ],
            "type": "surface"
           }
          ],
          "table": [
           {
            "cells": {
             "fill": {
              "color": "#EBF0F8"
             },
             "line": {
              "color": "white"
             }
            },
            "header": {
             "fill": {
              "color": "#C8D4E3"
             },
             "line": {
              "color": "white"
             }
            },
            "type": "table"
           }
          ]
         },
         "layout": {
          "annotationdefaults": {
           "arrowcolor": "#2a3f5f",
           "arrowhead": 0,
           "arrowwidth": 1
          },
          "autotypenumbers": "strict",
          "coloraxis": {
           "colorbar": {
            "outlinewidth": 0,
            "ticks": ""
           }
          },
          "colorscale": {
           "diverging": [
            [
             0,
             "#8e0152"
            ],
            [
             0.1,
             "#c51b7d"
            ],
            [
             0.2,
             "#de77ae"
            ],
            [
             0.3,
             "#f1b6da"
            ],
            [
             0.4,
             "#fde0ef"
            ],
            [
             0.5,
             "#f7f7f7"
            ],
            [
             0.6,
             "#e6f5d0"
            ],
            [
             0.7,
             "#b8e186"
            ],
            [
             0.8,
             "#7fbc41"
            ],
            [
             0.9,
             "#4d9221"
            ],
            [
             1,
             "#276419"
            ]
           ],
           "sequential": [
            [
             0,
             "#0d0887"
            ],
            [
             0.1111111111111111,
             "#46039f"
            ],
            [
             0.2222222222222222,
             "#7201a8"
            ],
            [
             0.3333333333333333,
             "#9c179e"
            ],
            [
             0.4444444444444444,
             "#bd3786"
            ],
            [
             0.5555555555555556,
             "#d8576b"
            ],
            [
             0.6666666666666666,
             "#ed7953"
            ],
            [
             0.7777777777777778,
             "#fb9f3a"
            ],
            [
             0.8888888888888888,
             "#fdca26"
            ],
            [
             1,
             "#f0f921"
            ]
           ],
           "sequentialminus": [
            [
             0,
             "#0d0887"
            ],
            [
             0.1111111111111111,
             "#46039f"
            ],
            [
             0.2222222222222222,
             "#7201a8"
            ],
            [
             0.3333333333333333,
             "#9c179e"
            ],
            [
             0.4444444444444444,
             "#bd3786"
            ],
            [
             0.5555555555555556,
             "#d8576b"
            ],
            [
             0.6666666666666666,
             "#ed7953"
            ],
            [
             0.7777777777777778,
             "#fb9f3a"
            ],
            [
             0.8888888888888888,
             "#fdca26"
            ],
            [
             1,
             "#f0f921"
            ]
           ]
          },
          "colorway": [
           "#636efa",
           "#EF553B",
           "#00cc96",
           "#ab63fa",
           "#FFA15A",
           "#19d3f3",
           "#FF6692",
           "#B6E880",
           "#FF97FF",
           "#FECB52"
          ],
          "font": {
           "color": "#2a3f5f"
          },
          "geo": {
           "bgcolor": "white",
           "lakecolor": "white",
           "landcolor": "white",
           "showlakes": true,
           "showland": true,
           "subunitcolor": "#C8D4E3"
          },
          "hoverlabel": {
           "align": "left"
          },
          "hovermode": "closest",
          "mapbox": {
           "style": "light"
          },
          "paper_bgcolor": "white",
          "plot_bgcolor": "white",
          "polar": {
           "angularaxis": {
            "gridcolor": "#EBF0F8",
            "linecolor": "#EBF0F8",
            "ticks": ""
           },
           "bgcolor": "white",
           "radialaxis": {
            "gridcolor": "#EBF0F8",
            "linecolor": "#EBF0F8",
            "ticks": ""
           }
          },
          "scene": {
           "xaxis": {
            "backgroundcolor": "white",
            "gridcolor": "#DFE8F3",
            "gridwidth": 2,
            "linecolor": "#EBF0F8",
            "showbackground": true,
            "ticks": "",
            "zerolinecolor": "#EBF0F8"
           },
           "yaxis": {
            "backgroundcolor": "white",
            "gridcolor": "#DFE8F3",
            "gridwidth": 2,
            "linecolor": "#EBF0F8",
            "showbackground": true,
            "ticks": "",
            "zerolinecolor": "#EBF0F8"
           },
           "zaxis": {
            "backgroundcolor": "white",
            "gridcolor": "#DFE8F3",
            "gridwidth": 2,
            "linecolor": "#EBF0F8",
            "showbackground": true,
            "ticks": "",
            "zerolinecolor": "#EBF0F8"
           }
          },
          "shapedefaults": {
           "line": {
            "color": "#2a3f5f"
           }
          },
          "ternary": {
           "aaxis": {
            "gridcolor": "#DFE8F3",
            "linecolor": "#A2B1C6",
            "ticks": ""
           },
           "baxis": {
            "gridcolor": "#DFE8F3",
            "linecolor": "#A2B1C6",
            "ticks": ""
           },
           "bgcolor": "white",
           "caxis": {
            "gridcolor": "#DFE8F3",
            "linecolor": "#A2B1C6",
            "ticks": ""
           }
          },
          "title": {
           "x": 0.05
          },
          "xaxis": {
           "automargin": true,
           "gridcolor": "#EBF0F8",
           "linecolor": "#EBF0F8",
           "ticks": "",
           "title": {
            "standoff": 15
           },
           "zerolinecolor": "#EBF0F8",
           "zerolinewidth": 2
          },
          "yaxis": {
           "automargin": true,
           "gridcolor": "#EBF0F8",
           "linecolor": "#EBF0F8",
           "ticks": "",
           "title": {
            "standoff": 15
           },
           "zerolinecolor": "#EBF0F8",
           "zerolinewidth": 2
          }
         }
        },
        "title": {
         "text": "Topic Trends Over Time"
        },
        "xaxis": {
         "anchor": "y",
         "domain": [
          0,
          1
         ],
         "tickformat": "%Y",
         "ticklabelmode": "period",
         "title": {
          "text": "Time"
         }
        },
        "yaxis": {
         "anchor": "x",
         "domain": [
          0,
          1
         ],
         "title": {
          "text": "Project Count"
         }
        }
       }
      }
     },
     "metadata": {},
     "output_type": "display_data"
    }
   ],
   "source": [
    "# Plot using Plotly\n",
    "fig = px.line(\n",
    "    topic_trend,\n",
    "    x=\"time_period\",\n",
    "    y=\"count\",\n",
    "    color=\"topic\",\n",
    "    markers=True,\n",
    "    title=\"Topic Trends Over Time\",\n",
    "    hover_name=\"topic_label\",\n",
    ")\n",
    "\n",
    "fig.update_layout(\n",
    "    xaxis_title=\"Time\",\n",
    "    yaxis_title=\"Project Count\",\n",
    "    legend_title=\"Topic\",\n",
    "    xaxis=dict(tickformat=\"%Y\", ticklabelmode=\"period\"),\n",
    "    hovermode=\"x unified\",\n",
    ")\n",
    "\n",
    "fig.show()\n"
   ]
  },
  {
   "cell_type": "markdown",
   "id": "25b50240",
   "metadata": {},
   "source": [
    "# Funding allocation"
   ]
  },
  {
   "cell_type": "code",
   "execution_count": null,
   "id": "11f905e4",
   "metadata": {},
   "outputs": [],
   "source": [
    "topics_df.columns\n"
   ]
  },
  {
   "cell_type": "code",
   "execution_count": null,
   "id": "6b1ea29e",
   "metadata": {},
   "outputs": [],
   "source": [
    "topics_df[\"ecMaxContribution\"] = (\n",
    "    topics_df[\"ecMaxContribution\"].str.replace(\",\", \".\", regex=False).astype(float)\n",
    ")\n",
    "\n",
    "funding_by_topic = topics_df.groupby(\"topic\")[\"ecMaxContribution\"].sum().reset_index()\n",
    "funding_by_topic[\"topic_label\"] = funding_by_topic[\"topic\"].map(topic_labels)\n"
   ]
  },
  {
   "cell_type": "code",
   "execution_count": null,
   "id": "5f0620ee",
   "metadata": {},
   "outputs": [],
   "source": [
    "# Plot bar chart\n",
    "fig = px.bar(\n",
    "    funding_by_topic,\n",
    "    x=\"topic\",\n",
    "    y=\"ecMaxContribution\",\n",
    "    title=\"Total Funding Allocation by Topic\",\n",
    "    labels={\"ecMaxContribution\": \"Total EC Contribution\", \"topic\": \"Topic\"},\n",
    "    hover_name=\"topic_label\",\n",
    ")\n",
    "\n",
    "fig.update_layout(\n",
    "    xaxis_title=\"Topic\",\n",
    "    yaxis_title=\"Total EC Contribution (€)\",\n",
    "    xaxis=dict(type=\"category\"),\n",
    "    hovermode=\"x unified\",\n",
    ")\n",
    "\n",
    "fig.show()\n"
   ]
  },
  {
   "cell_type": "code",
   "execution_count": null,
   "id": "2bbd2c09",
   "metadata": {},
   "outputs": [],
   "source": [
    "avg_funding_by_topic = topics_df.groupby(\"topic\")[\"ecMaxContribution\"].mean().reset_index()\n",
    "avg_funding_by_topic[\"topic_label\"] = funding_by_topic[\"topic\"].map(topic_labels)\n"
   ]
  },
  {
   "cell_type": "code",
   "execution_count": null,
   "id": "bb59945e",
   "metadata": {},
   "outputs": [],
   "source": [
    "fig = px.bar(\n",
    "    avg_funding_by_topic,\n",
    "    x=\"topic\",\n",
    "    y=\"ecMaxContribution\",\n",
    "    title=\"Average Funding Per Project by Topic\",\n",
    "    labels={\"ecMaxContribution\": \"Average EC Contribution Per Project\", \"topic\": \"Topic\"},\n",
    "    hover_name=\"topic_label\",\n",
    ")\n",
    "\n",
    "fig.update_layout(\n",
    "    xaxis_title=\"Topic\",\n",
    "    yaxis_title=\"Average EC Contribution Per Project (€)\",\n",
    "    xaxis=dict(type=\"category\"),\n",
    "    hovermode=\"x unified\",\n",
    ")\n",
    "\n",
    "fig.show()\n"
   ]
  },
  {
   "cell_type": "markdown",
   "id": "da9df23d",
   "metadata": {},
   "source": [
    "# Publication Outcome"
   ]
  },
  {
   "cell_type": "code",
   "execution_count": null,
   "id": "8885cffa",
   "metadata": {},
   "outputs": [],
   "source": [
    "pub = pd.read_excel(\"data/raw/projectPublications.xlsx\")\n",
    "pub_count = pub.groupby(\"projectID\").size().reset_index(name=\"publication_count\")\n",
    "topics_df = topics_df.merge(pub_count, on=\"projectID\", how=\"left\")\n"
   ]
  },
  {
   "cell_type": "code",
   "execution_count": null,
   "id": "2a8a9495",
   "metadata": {},
   "outputs": [],
   "source": [
    "topics_df.columns\n"
   ]
  },
  {
   "cell_type": "code",
   "execution_count": null,
   "id": "059f7724",
   "metadata": {},
   "outputs": [],
   "source": [
    "pub_by_topic = topics_df.groupby(\"topic\")[\"publication_count\"].sum().reset_index()\n",
    "pub_by_topic[\"topic_label\"] = pub_by_topic[\"topic\"].map(topic_labels)\n"
   ]
  },
  {
   "cell_type": "code",
   "execution_count": null,
   "id": "45076c4f",
   "metadata": {},
   "outputs": [],
   "source": [
    "fig = px.bar(\n",
    "    pub_by_topic,\n",
    "    x=\"topic\",\n",
    "    y=\"publication_count\",\n",
    "    title=\"Average Funding Per Project by Topic\",\n",
    "    labels={\n",
    "        \"publication_count\": \"Total Publications\",\n",
    "        \"topic\": \"Topic\",\n",
    "    },\n",
    "    hover_name=\"topic_label\",\n",
    ")\n",
    "\n",
    "fig.update_layout(\n",
    "    xaxis_title=\"Topic\",\n",
    "    yaxis_title=\"Number of Publications\",\n",
    "    xaxis=dict(type=\"category\"),\n",
    "    hovermode=\"x unified\",\n",
    ")\n",
    "\n",
    "fig.show()\n"
   ]
  },
  {
   "cell_type": "code",
   "execution_count": null,
   "id": "3d117771",
   "metadata": {},
   "outputs": [],
   "source": [
    "avg_pub_by_topic = topics_df.groupby(\"topic\")[\"publication_count\"].mean().reset_index()\n",
    "avg_pub_by_topic[\"topic_label\"] = avg_pub_by_topic[\"topic\"].map(topic_labels)\n"
   ]
  },
  {
   "cell_type": "code",
   "execution_count": null,
   "id": "5db0020a",
   "metadata": {},
   "outputs": [],
   "source": [
    "fig = px.bar(\n",
    "    avg_pub_by_topic,\n",
    "    x=\"topic\",\n",
    "    y=\"publication_count\",\n",
    "    title=\"Average Publication Count Per Project by Topic\",\n",
    "    labels={\n",
    "        \"publication_count\": \"Total Publications\",\n",
    "        \"topic\": \"Topic\",\n",
    "    },\n",
    "    hover_name=\"topic_label\",\n",
    ")\n",
    "\n",
    "fig.update_layout(\n",
    "    xaxis_title=\"Topic\",\n",
    "    yaxis_title=\"Number of Publications Per Project\",\n",
    "    xaxis=dict(type=\"category\"),\n",
    "    hovermode=\"x unified\",\n",
    ")\n",
    "\n",
    "fig.show()\n"
   ]
  }
 ],
 "metadata": {
  "kernelspec": {
   "display_name": ".venv",
   "language": "python",
   "name": "python3"
  },
  "language_info": {
   "codemirror_mode": {
    "name": "ipython",
    "version": 3
   },
   "file_extension": ".py",
   "mimetype": "text/x-python",
   "name": "python",
   "nbconvert_exporter": "python",
   "pygments_lexer": "ipython3",
   "version": "3.10.12"
  }
 },
 "nbformat": 4,
 "nbformat_minor": 5
}
