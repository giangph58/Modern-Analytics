{
 "cells": [
  {
   "cell_type": "code",
   "execution_count": 4,
   "id": "4fcf8a1b",
   "metadata": {},
   "outputs": [],
   "source": [
    "import pandas as pd\n",
    "\n",
    "test = pd.read_csv(\"data/processed/FundsGDPhealth_export.csv\")\n"
   ]
  },
  {
   "cell_type": "code",
   "execution_count": 5,
   "id": "adcf9f49",
   "metadata": {},
   "outputs": [
    {
     "data": {
      "text/plain": [
       "country                  object\n",
       "TotalFundsPerCountry    float64\n",
       "TIME                     object\n",
       "GDP2013                 float64\n",
       "GDP2014                 float64\n",
       "GDP2015                 float64\n",
       "GDP2016                 float64\n",
       "GDP2017                 float64\n",
       "GDP2018                 float64\n",
       "GDP2019                 float64\n",
       "GDP2020                 float64\n",
       "GDP2021                 float64\n",
       "GDP2022                 float64\n",
       "GDP2023                 float64\n",
       "GDP2024                 float64\n",
       "GDPM2124                float64\n",
       "HLY2011                 float64\n",
       "HLY2012                  object\n",
       "HLY2013                  object\n",
       "HLY2014                 float64\n",
       "HLY2015                 float64\n",
       "HLY2016                 float64\n",
       "HLY2017                 float64\n",
       "HLY2018                 float64\n",
       "HLY2019                 float64\n",
       "HLY2020                 float64\n",
       "HLY2021                  object\n",
       "HLY2022                 float64\n",
       "HLY1922                 float64\n",
       "HLY2122                 float64\n",
       "dtype: object"
      ]
     },
     "execution_count": 5,
     "metadata": {},
     "output_type": "execute_result"
    }
   ],
   "source": [
    "test.dtypes"
   ]
  },
  {
   "cell_type": "code",
   "execution_count": 3,
   "id": "1d4f85d3",
   "metadata": {},
   "outputs": [
    {
     "data": {
      "text/plain": [
       "0       <class 'str'>\n",
       "1       <class 'str'>\n",
       "2       <class 'str'>\n",
       "3       <class 'str'>\n",
       "4       <class 'str'>\n",
       "5       <class 'str'>\n",
       "6       <class 'str'>\n",
       "7       <class 'str'>\n",
       "8       <class 'str'>\n",
       "9       <class 'str'>\n",
       "10      <class 'str'>\n",
       "11      <class 'str'>\n",
       "12      <class 'str'>\n",
       "13      <class 'str'>\n",
       "14      <class 'str'>\n",
       "15      <class 'str'>\n",
       "16      <class 'str'>\n",
       "17      <class 'str'>\n",
       "18      <class 'str'>\n",
       "19    <class 'float'>\n",
       "20      <class 'str'>\n",
       "21      <class 'str'>\n",
       "22      <class 'str'>\n",
       "23      <class 'str'>\n",
       "24      <class 'str'>\n",
       "25      <class 'str'>\n",
       "26    <class 'float'>\n",
       "27      <class 'str'>\n",
       "28      <class 'str'>\n",
       "29      <class 'str'>\n",
       "30      <class 'str'>\n",
       "31    <class 'float'>\n",
       "32    <class 'float'>\n",
       "33    <class 'float'>\n",
       "34    <class 'float'>\n",
       "35    <class 'float'>\n",
       "Name: HLY2012, dtype: object"
      ]
     },
     "execution_count": 3,
     "metadata": {},
     "output_type": "execute_result"
    }
   ],
   "source": [
    "test[\"HLY2012\"].apply(type)\n"
   ]
  }
 ],
 "metadata": {
  "kernelspec": {
   "display_name": ".venv",
   "language": "python",
   "name": "python3"
  },
  "language_info": {
   "codemirror_mode": {
    "name": "ipython",
    "version": 3
   },
   "file_extension": ".py",
   "mimetype": "text/x-python",
   "name": "python",
   "nbconvert_exporter": "python",
   "pygments_lexer": "ipython3",
   "version": "3.10.12"
  }
 },
 "nbformat": 4,
 "nbformat_minor": 5
}
