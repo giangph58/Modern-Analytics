{
 "cells": [
  {
   "cell_type": "code",
   "execution_count": 1,
   "id": "931fca49",
   "metadata": {},
   "outputs": [],
   "source": [
    "import pandas as pd\n"
   ]
  },
  {
   "cell_type": "code",
   "execution_count": 8,
   "id": "4e6e4daa",
   "metadata": {},
   "outputs": [],
   "source": [
    "health_df = pd.read_csv(\"data/interim/health.csv\")\n",
    "org_df = pd.read_excel(\"data/raw/organization.xlsx\")\n",
    "out_df = pd.read_excel(\"data/external/GDPandHealth_clean.xlsx\")\n"
   ]
  },
  {
   "cell_type": "code",
   "execution_count": null,
   "id": "c6aa711c",
   "metadata": {},
   "outputs": [
    {
     "data": {
      "text/plain": [
       "(100249, 25)"
      ]
     },
     "execution_count": 10,
     "metadata": {},
     "output_type": "execute_result"
    }
   ],
   "source": [
    "org_df.shape\n"
   ]
  },
  {
   "cell_type": "code",
   "execution_count": 9,
   "id": "3e392112",
   "metadata": {},
   "outputs": [
    {
     "data": {
      "text/plain": [
       "Index(['projectID', 'projectAcronym', 'organisationID', 'vatNumber', 'name',\n",
       "       'shortName', 'SME', 'activityType', 'street', 'postCode', 'city',\n",
       "       'country', 'nutsCode', 'geolocation', 'organizationURL', 'contactForm',\n",
       "       'contentUpdateDate', 'rcn', 'order', 'role', 'ecContribution',\n",
       "       'netEcContribution', 'totalCost', 'endOfParticipation', 'active'],\n",
       "      dtype='object')"
      ]
     },
     "execution_count": 9,
     "metadata": {},
     "output_type": "execute_result"
    }
   ],
   "source": [
    "org_df.columns\n"
   ]
  },
  {
   "cell_type": "code",
   "execution_count": null,
   "id": "f951db90",
   "metadata": {},
   "outputs": [],
   "source": [
    "org_grouped = (\n",
    "    org_df.groupby(\"projectID\")[\n",
    "        [\"country\"]\n",
    "    ]\n",
    "    .agg(list)\n",
    "    .reset_index()\n",
    ")\n"
   ]
  }
 ],
 "metadata": {
  "kernelspec": {
   "display_name": ".venv",
   "language": "python",
   "name": "python3"
  },
  "language_info": {
   "codemirror_mode": {
    "name": "ipython",
    "version": 3
   },
   "file_extension": ".py",
   "mimetype": "text/x-python",
   "name": "python",
   "nbconvert_exporter": "python",
   "pygments_lexer": "ipython3",
   "version": "3.10.12"
  }
 },
 "nbformat": 4,
 "nbformat_minor": 5
}
