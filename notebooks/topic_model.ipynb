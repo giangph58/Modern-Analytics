{
 "cells": [
  {
   "cell_type": "code",
   "execution_count": 1,
   "id": "61536661",
   "metadata": {},
   "outputs": [],
   "source": [
    "import pandas as pd\n"
   ]
  },
  {
   "cell_type": "code",
   "execution_count": 2,
   "id": "0eeb01ec",
   "metadata": {},
   "outputs": [
    {
     "data": {
      "text/plain": [
       "(3465, 26)"
      ]
     },
     "execution_count": 2,
     "metadata": {},
     "output_type": "execute_result"
    }
   ],
   "source": [
    "health_df = pd.read_csv(\"data/interim/health.csv\")\n",
    "health_df = health_df[health_df[\"status\"] != \"TERMINATED\"]\n",
    "health_df.shape\n"
   ]
  },
  {
   "cell_type": "code",
   "execution_count": 3,
   "id": "42c5e33b",
   "metadata": {},
   "outputs": [],
   "source": [
    "# Extract metadata\n",
    "abstracts = health_df[\"objective\"].to_numpy()\n",
    "titles = health_df[\"title\"].to_numpy()\n",
    "text = titles + \"\\n\" + abstracts\n"
   ]
  },
  {
   "cell_type": "code",
   "execution_count": 4,
   "id": "5796990e",
   "metadata": {},
   "outputs": [
    {
     "name": "stderr",
     "output_type": "stream",
     "text": [
      "Some weights of the model checkpoint at NovaSearch/stella_en_400M_v5 were not used when initializing NewModel: ['pooler.dense.bias', 'pooler.dense.weight']\n",
      "- This IS expected if you are initializing NewModel from the checkpoint of a model trained on another task or with another architecture (e.g. initializing a BertForSequenceClassification model from a BertForPreTraining model).\n",
      "- This IS NOT expected if you are initializing NewModel from the checkpoint of a model that you expect to be exactly identical (initializing a BertForSequenceClassification model from a BertForSequenceClassification model).\n"
     ]
    },
    {
     "data": {
      "application/vnd.jupyter.widget-view+json": {
       "model_id": "2e5002dc02b04c3f8cef32223b8420c6",
       "version_major": 2,
       "version_minor": 0
      },
      "text/plain": [
       "Batches:   0%|          | 0/109 [00:00<?, ?it/s]"
      ]
     },
     "metadata": {},
     "output_type": "display_data"
    }
   ],
   "source": [
    "from sentence_transformers import SentenceTransformer\n",
    "\n",
    "# Create an embedding for each abstract\n",
    "embedding_model = SentenceTransformer(\"NovaSearch/stella_en_400M_v5\", trust_remote_code=True)\n",
    "embeddings = embedding_model.encode(text, show_progress_bar=True)\n"
   ]
  },
  {
   "cell_type": "code",
   "execution_count": 6,
   "id": "0869ed9a",
   "metadata": {},
   "outputs": [
    {
     "data": {
      "text/plain": [
       "(3465, 1024)"
      ]
     },
     "execution_count": 6,
     "metadata": {},
     "output_type": "execute_result"
    }
   ],
   "source": [
    "embeddings.shape\n"
   ]
  },
  {
   "cell_type": "code",
   "execution_count": 7,
   "id": "affc754e",
   "metadata": {},
   "outputs": [
    {
     "name": "stderr",
     "output_type": "stream",
     "text": [
      "/storage/projects/climate_llm/Modern-Analytics/.venv/lib/python3.10/site-packages/sklearn/utils/deprecation.py:151: FutureWarning: 'force_all_finite' was renamed to 'ensure_all_finite' in 1.6 and will be removed in 1.8.\n",
      "  warnings.warn(\n",
      "/storage/projects/climate_llm/Modern-Analytics/.venv/lib/python3.10/site-packages/umap/umap_.py:1952: UserWarning: n_jobs value 1 overridden to 1 by setting random_state. Use no seed for parallelism.\n",
      "  warn(\n",
      "/storage/projects/climate_llm/Modern-Analytics/.venv/lib/python3.10/site-packages/numba/np/ufunc/parallel.py:371: NumbaWarning: The TBB threading layer requires TBB version 2021 update 6 or later i.e., TBB_INTERFACE_VERSION >= 12060. Found TBB_INTERFACE_VERSION = 12050. The TBB threading layer is disabled.\n",
      "  warnings.warn(problem)\n"
     ]
    }
   ],
   "source": [
    "from umap import UMAP\n",
    "\n",
    "# We reduce the input embeddings from 384 dimensions to 5 dimensions\n",
    "umap_model = UMAP(\n",
    "    n_neighbors=15, n_components=5, min_dist=0.0, metric='cosine', random_state=42\n",
    "    )\n",
    "reduced_embeddings = umap_model.fit_transform(embeddings)\n"
   ]
  },
  {
   "cell_type": "code",
   "execution_count": 23,
   "id": "6acb5efb",
   "metadata": {},
   "outputs": [
    {
     "data": {
      "text/plain": [
       "24"
      ]
     },
     "execution_count": 23,
     "metadata": {},
     "output_type": "execute_result"
    }
   ],
   "source": [
    "from hdbscan import HDBSCAN\n",
    "\n",
    "# We fit the model and extract the clusters\n",
    "hdbscan_model = HDBSCAN(\n",
    "    min_cluster_size=25,\n",
    "    metric=\"euclidean\",\n",
    "    cluster_selection_method=\"eom\",\n",
    "    # min_samples=15,\n",
    ").fit(reduced_embeddings)\n",
    "\n",
    "clusters = hdbscan_model.labels_\n",
    "\n",
    "# How many clusters did we generate?\n",
    "len(set(clusters))\n"
   ]
  },
  {
   "cell_type": "code",
   "execution_count": 140,
   "id": "63994348",
   "metadata": {},
   "outputs": [
    {
     "name": "stdout",
     "output_type": "stream",
     "text": [
      "In-vitro Fertilization (IVF) is a well-known fertility treatment used for infertile couples, single mothers and women in same-sex relationships. Of the nearly a million IVF cycles done in Europe annually (3 million globally), only 40% result in pregnancy. Low IVF success makes the process long, expe... \n",
      "\n",
      "SWEETHY will develop an advanced technology for direct seawater electrolysis that will be able to produce H2 and O2 under intermittent conditions accounting for the coupling to renewable power sources (especially wind, PV).  The electrolyser will be based on an anion exchange membrane (AEM) operatin... \n",
      "\n",
      "The project aims at the development of an innovative RES-based system for heat and electricity supply in order to achieve an almost energy autonomous multi-family building with regard to heating and electricity consumption as well as electro-mobility. This shall be achieved by integrating a novel hi... \n",
      "\n"
     ]
    }
   ],
   "source": [
    "import numpy as np\n",
    "# Print first three documents in cluster 0\n",
    "cluster = 0\n",
    "\n",
    "for index in np.where(clusters==cluster)[0][:3]:\n",
    "    print(abstracts[index][:300] + \"... \\n\")\n",
    "    "
   ]
  },
  {
   "cell_type": "code",
   "execution_count": null,
   "id": "6ebb2e6d",
   "metadata": {},
   "outputs": [
    {
     "name": "stderr",
     "output_type": "stream",
     "text": [
      "/storage/projects/climate_llm/Modern-Analytics/.venv/lib/python3.10/site-packages/sklearn/utils/deprecation.py:151: FutureWarning: 'force_all_finite' was renamed to 'ensure_all_finite' in 1.6 and will be removed in 1.8.\n",
      "  warnings.warn(\n",
      "/storage/projects/climate_llm/Modern-Analytics/.venv/lib/python3.10/site-packages/umap/umap_.py:1952: UserWarning: n_jobs value 1 overridden to 1 by setting random_state. Use no seed for parallelism.\n",
      "  warn(\n"
     ]
    },
    {
     "name": "stdout",
     "output_type": "stream",
     "text": [
      "(2494, 4)\n",
      "(971, 4)\n"
     ]
    },
    {
     "data": {
      "text/plain": [
       "(np.float64(3.638433575630188),\n",
       " np.float64(12.471729636192322),\n",
       " np.float64(1.5548464417457581),\n",
       " np.float64(10.685571277141571))"
      ]
     },
     "execution_count": 10,
     "metadata": {},
     "output_type": "execute_result"
    },
    {
     "data": {
      "image/png": "[encoded data removed]",
      "text/plain": [
       "<Figure size 640x480 with 1 Axes>"
      ]
     },
     "metadata": {},
     "output_type": "display_data"
    }
   ],
   "source": [
    "# Check clusters\n",
    "# import pandas as pd\n",
    "# import matplotlib.pyplot as plt\n",
    "\n",
    "# Reduce 384-dimensional embeddings to two dimensions for easier visualization\n",
    "# reduced_embeddings = UMAP(\n",
    "#     n_components=2, min_dist=0.0, metric=\"cosine\", random_state=42\n",
    "# ).fit_transform(embeddings)\n",
    "\n",
    "# Create dataframe\n",
    "# df = pd.DataFrame(reduced_embeddings, columns=[\"x\", \"y\"])\n",
    "# df[\"title\"] = titles\n",
    "# df[\"cluster\"] = [str(c) for c in clusters]\n",
    "\n",
    "# Select outliers and non-outliers (clusters)\n",
    "# to_plot = df.loc[df.cluster != \"-1\", :]\n",
    "# outliers = df.loc[df.cluster == \"-1\", :]\n",
    "\n",
    "# print(to_plot.shape)\n",
    "# print(outliers.shape)\n",
    "\n",
    "# Plot outliers and non-outliers separately\n",
    "# plt.scatter(outliers.x, outliers.y, alpha=0.05, s=2, c=\"grey\")\n",
    "# plt.scatter(to_plot.x, to_plot.y, c=to_plot.cluster.astype(int),\n",
    "            # alpha=0.6, s=2, cmap=\"tab20b\"\n",
    "# )\n",
    "# plt.axis(\"off\")\n"
   ]
  },
  {
   "cell_type": "code",
   "execution_count": 12,
   "id": "9de081b5",
   "metadata": {},
   "outputs": [],
   "source": [
    "from sklearn.feature_extraction.text import CountVectorizer\n",
    "from nltk.corpus import stopwords\n",
    "\n",
    "stopwords = list(stopwords.words(\"english\")) + [\"project\", \"health\", \"research\", \"medical\"]\n",
    "vectorizer_model = CountVectorizer(stop_words=stopwords, min_df=2, ngram_range=(1, 2))\n"
   ]
  },
  {
   "cell_type": "code",
   "execution_count": 14,
   "id": "4228ec8f",
   "metadata": {},
   "outputs": [
    {
     "name": "stderr",
     "output_type": "stream",
     "text": [
      "Device set to use cuda:0\n"
     ]
    }
   ],
   "source": [
    "from transformers import pipeline\n",
    "from bertopic.representation import TextGeneration\n",
    "from bertopic.representation import KeyBERTInspired, MaximalMarginalRelevance, PartOfSpeech\n",
    "# from spacy.cli import download\n",
    "\n",
    "# KeyBERT\n",
    "keybert_model = KeyBERTInspired()\n",
    "\n",
    "# Part-of-Speech\n",
    "# download(\"en_core_web_sm\")\n",
    "pos_model = PartOfSpeech(\n",
    "    \"/home/gpham/.local/lib/python3.10/site-packages/en_core_sci_lg/en_core_sci_lg-0.5.4\"\n",
    "    )\n",
    "\n",
    "# MMR\n",
    "mmr_model = MaximalMarginalRelevance(diversity=0.2)\n",
    "\n",
    "# Flan-t5\n",
    "prompt = \"\"\"\n",
    "I have a topic that contains the following documents:\n",
    "[DOCUMENTS]\n",
    "The topic is described by the following keywords: [KEYWORDS]\n",
    "\n",
    "Based on the information above, extract a short but highly descriptive topic label of at most 5 words. Make sure it is in the following format:\n",
    "topic: <topic label>\n",
    "\"\"\"\n",
    "# Update our topic representations using Flan-T5\n",
    "generator = pipeline(\"text2text-generation\", model=\"google/flan-t5-small\")\n",
    "flant5_model = TextGeneration(\n",
    "    generator, prompt=prompt, doc_length=350, tokenizer=\"whitespace\"\n",
    ")\n",
    "\n",
    "# All representation models\n",
    "representation_model = {\n",
    "    \"KeyBERT\": keybert_model,\n",
    "    # \"Flan-t5\": flant5_model,\n",
    "    \"MMR\": mmr_model,\n",
    "    \"POS\": pos_model,\n",
    "}\n"
   ]
  },
  {
   "cell_type": "code",
   "execution_count": 24,
   "id": "38fb4803",
   "metadata": {},
   "outputs": [
    {
     "name": "stderr",
     "output_type": "stream",
     "text": [
      "2025-05-26 07:09:23,300 - BERTopic - Dimensionality - Fitting the dimensionality reduction algorithm\n",
      "2025-05-26 07:09:43,182 - BERTopic - Dimensionality - Completed ✓\n",
      "2025-05-26 07:09:43,184 - BERTopic - Cluster - Start clustering the reduced embeddings\n",
      "2025-05-26 07:09:43,252 - BERTopic - Cluster - Completed ✓\n",
      "2025-05-26 07:09:43,256 - BERTopic - Representation - Fine-tuning topics using representation models.\n",
      "2025-05-26 07:10:05,534 - BERTopic - Representation - Completed ✓\n"
     ]
    }
   ],
   "source": [
    "from bertopic import BERTopic\n",
    "\n",
    "# Train our model with our previously defined models\n",
    "# topic_model = BERTopic(\n",
    "#     embedding_model=embedding_model,\n",
    "#     umap_model=umap_model,\n",
    "#     hdbscan_model=hdbscan_model,\n",
    "#     verbose=True\n",
    "# ).fit(abstracts, embeddings)\n",
    "\n",
    "topic_model = BERTopic(\n",
    "  # Pipeline models\n",
    "  embedding_model=embedding_model,\n",
    "  umap_model=umap_model,\n",
    "  hdbscan_model=hdbscan_model,\n",
    "  vectorizer_model=vectorizer_model,\n",
    "  representation_model=representation_model,\n",
    "\n",
    "  # Hyperparameters\n",
    "  top_n_words=10,\n",
    "  verbose=True,\n",
    "  language=\"english\"\n",
    ")\n",
    "\n",
    "topics, probs = topic_model.fit_transform(text, embeddings)\n"
   ]
  },
  {
   "cell_type": "code",
   "execution_count": 25,
   "id": "afb69ea0",
   "metadata": {},
   "outputs": [
    {
     "data": {
      "text/html": [
       "<div>\n",
       "<style scoped>\n",
       "    .dataframe tbody tr th:only-of-type {\n",
       "        vertical-align: middle;\n",
       "    }\n",
       "\n",
       "    .dataframe tbody tr th {\n",
       "        vertical-align: top;\n",
       "    }\n",
       "\n",
       "    .dataframe thead th {\n",
       "        text-align: right;\n",
       "    }\n",
       "</style>\n",
       "<table border=\"1\" class=\"dataframe\">\n",
       "  <thead>\n",
       "    <tr style=\"text-align: right;\">\n",
       "      <th></th>\n",
       "      <th>Topic</th>\n",
       "      <th>Count</th>\n",
       "      <th>Name</th>\n",
       "      <th>Representation</th>\n",
       "      <th>KeyBERT</th>\n",
       "      <th>MMR</th>\n",
       "      <th>POS</th>\n",
       "      <th>Representative_Docs</th>\n",
       "    </tr>\n",
       "  </thead>\n",
       "  <tbody>\n",
       "    <tr>\n",
       "      <th>0</th>\n",
       "      <td>-1</td>\n",
       "      <td>949</td>\n",
       "      <td>-1_new_data_based_brain</td>\n",
       "      <td>[new, data, based, brain, development, human, ...</td>\n",
       "      <td>[ai, brain, approaches, clinical, patients, ai...</td>\n",
       "      <td>[new, data, brain, disease, develop, clinical,...</td>\n",
       "      <td>[new, data, brain, development, human, high, d...</td>\n",
       "      <td>[Virtual Brain Twin for personalised treatment...</td>\n",
       "    </tr>\n",
       "    <tr>\n",
       "      <th>1</th>\n",
       "      <td>0</td>\n",
       "      <td>694</td>\n",
       "      <td>0_cancer_cell_cells_tumor</td>\n",
       "      <td>[cancer, cell, cells, tumor, therapy, immune, ...</td>\n",
       "      <td>[cancer cells, immunotherapy, tumours, tumors,...</td>\n",
       "      <td>[cancer, cell, cells, tumor, tumour, therapies...</td>\n",
       "      <td>[cancer, cell, cells, tumor, therapy, immune, ...</td>\n",
       "      <td>[Cancer cell plasticity on targeted therapy\\nN...</td>\n",
       "    </tr>\n",
       "    <tr>\n",
       "      <th>2</th>\n",
       "      <td>1</td>\n",
       "      <td>258</td>\n",
       "      <td>1_viral_virus_malaria_vaccine</td>\n",
       "      <td>[viral, virus, malaria, vaccine, viruses, infe...</td>\n",
       "      <td>[sars cov, antiviral, sars, vaccines, vaccine,...</td>\n",
       "      <td>[virus, malaria, vaccine, viruses, antiviral, ...</td>\n",
       "      <td>[viral, virus, malaria, vaccine, viruses, infe...</td>\n",
       "      <td>[Respiratory Host-Pathogen Interaction\\nLower ...</td>\n",
       "    </tr>\n",
       "    <tr>\n",
       "      <th>3</th>\n",
       "      <td>2</td>\n",
       "      <td>195</td>\n",
       "      <td>2_social_policy_pandemic_political</td>\n",
       "      <td>[social, policy, pandemic, political, mental, ...</td>\n",
       "      <td>[19 pandemic, covid 19, covid, eu, pandemic, i...</td>\n",
       "      <td>[social, policy, pandemic, eu, public, covid, ...</td>\n",
       "      <td>[social, policy, pandemic, political, mental, ...</td>\n",
       "      <td>[VET PARTICIPATION, RETENTION, AND EDUCATIONAL...</td>\n",
       "    </tr>\n",
       "    <tr>\n",
       "      <th>4</th>\n",
       "      <td>3</td>\n",
       "      <td>167</td>\n",
       "      <td>3_cancer_imaging_ai_breast</td>\n",
       "      <td>[cancer, imaging, ai, breast, detection, time,...</td>\n",
       "      <td>[breast cancer, biopsy, diagnostics, imaging, ...</td>\n",
       "      <td>[cancer, imaging, ai, breast, detection, bioma...</td>\n",
       "      <td>[cancer, imaging, breast, detection, time, dia...</td>\n",
       "      <td>[Surface-enhanced Raman spectroscopy in liquid...</td>\n",
       "    </tr>\n",
       "    <tr>\n",
       "      <th>5</th>\n",
       "      <td>4</td>\n",
       "      <td>144</td>\n",
       "      <td>4_ad_disease_brain_protein</td>\n",
       "      <td>[ad, disease, brain, protein, alzheimer, micro...</td>\n",
       "      <td>[microglia, neuroinflammation, neurodegenerati...</td>\n",
       "      <td>[alzheimer, microglia, neurodegenerative, alzh...</td>\n",
       "      <td>[disease, brain, protein, microglia, neurodege...</td>\n",
       "      <td>[Deciphering the microglia-neuron interactions...</td>\n",
       "    </tr>\n",
       "    <tr>\n",
       "      <th>6</th>\n",
       "      <td>5</td>\n",
       "      <td>106</td>\n",
       "      <td>5_food_sustainable_production_aquaculture</td>\n",
       "      <td>[food, sustainable, production, aquaculture, c...</td>\n",
       "      <td>[food systems, food system, sustainable food, ...</td>\n",
       "      <td>[food, sustainable, aquaculture, food systems,...</td>\n",
       "      <td>[food, sustainable, production, aquaculture, c...</td>\n",
       "      <td>[On a Quest for Data-Driven Innovations to fue...</td>\n",
       "    </tr>\n",
       "    <tr>\n",
       "      <th>7</th>\n",
       "      <td>6</td>\n",
       "      <td>94</td>\n",
       "      <td>6_bone_tissue_pain_bioprinting</td>\n",
       "      <td>[bone, tissue, pain, bioprinting, oa, 3d, impl...</td>\n",
       "      <td>[bone regeneration, 3d bioprinting, bioprintin...</td>\n",
       "      <td>[bone, bioprinting, oa, implants, cartilage, r...</td>\n",
       "      <td>[bone, tissue, pain, bioprinting, implants, re...</td>\n",
       "      <td>[Drug solution for bone fracture nonunions\\nBo...</td>\n",
       "    </tr>\n",
       "    <tr>\n",
       "      <th>8</th>\n",
       "      <td>7</td>\n",
       "      <td>90</td>\n",
       "      <td>7_bacteria_antibiotics_bacterial_resistance</td>\n",
       "      <td>[bacteria, antibiotics, bacterial, resistance,...</td>\n",
       "      <td>[antimicrobial resistance, antibiotic resistan...</td>\n",
       "      <td>[bacteria, antibiotics, bacterial, antibiotic,...</td>\n",
       "      <td>[bacteria, antibiotics, bacterial, resistance,...</td>\n",
       "      <td>[Advanced Multidisciplinary Research for Antim...</td>\n",
       "    </tr>\n",
       "    <tr>\n",
       "      <th>9</th>\n",
       "      <td>8</td>\n",
       "      <td>89</td>\n",
       "      <td>8_gut_ibd_microbiome_microbiota</td>\n",
       "      <td>[gut, ibd, microbiome, microbiota, intestinal,...</td>\n",
       "      <td>[gut microbiome, gut microbiota, microbiome, g...</td>\n",
       "      <td>[gut, ibd, microbiome, microbiota, intestinal,...</td>\n",
       "      <td>[gut, microbiome, microbiota, intestinal, host...</td>\n",
       "      <td>[Mechanistic study of gut microbial biotransfo...</td>\n",
       "    </tr>\n",
       "    <tr>\n",
       "      <th>10</th>\n",
       "      <td>9</td>\n",
       "      <td>87</td>\n",
       "      <td>9_plant_plants_crop_climate</td>\n",
       "      <td>[plant, plants, crop, climate, drought, specie...</td>\n",
       "      <td>[arabidopsis, plant, plants, crop, crops, seed...</td>\n",
       "      <td>[plant, plants, crop, drought, species, climat...</td>\n",
       "      <td>[plant, plants, crop, climate, drought, specie...</td>\n",
       "      <td>[From wild to crop: unravelling the impact of ...</td>\n",
       "    </tr>\n",
       "    <tr>\n",
       "      <th>11</th>\n",
       "      <td>10</td>\n",
       "      <td>83</td>\n",
       "      <td>10_brain_epilepsy_stimulation_neural</td>\n",
       "      <td>[brain, epilepsy, stimulation, neural, invasiv...</td>\n",
       "      <td>[brain stimulation, neuromodulation, eeg, elec...</td>\n",
       "      <td>[epilepsy, stimulation, neural, neurological, ...</td>\n",
       "      <td>[brain, epilepsy, stimulation, neural, invasiv...</td>\n",
       "      <td>[AEGEUS - A Novel EEG Ultrasound Device for Fu...</td>\n",
       "    </tr>\n",
       "    <tr>\n",
       "      <th>12</th>\n",
       "      <td>11</td>\n",
       "      <td>82</td>\n",
       "      <td>11_heart_patients_stroke_clinical</td>\n",
       "      <td>[heart, patients, stroke, clinical, treatment,...</td>\n",
       "      <td>[heart failure, atrial fibrillation, cardiovas...</td>\n",
       "      <td>[heart, patients, stroke, cardiac, cardiovascu...</td>\n",
       "      <td>[heart, patients, stroke, clinical, treatment,...</td>\n",
       "      <td>[Health virtual twins for the personalised man...</td>\n",
       "    </tr>\n",
       "    <tr>\n",
       "      <th>13</th>\n",
       "      <td>12</td>\n",
       "      <td>53</td>\n",
       "      <td>12_data_privacy_european_ai</td>\n",
       "      <td>[data, privacy, european, ai, healthcare, digi...</td>\n",
       "      <td>[ai, healthcare, eu, data, federated, framewor...</td>\n",
       "      <td>[data, privacy, ai, healthcare, digital, eu, c...</td>\n",
       "      <td>[data, privacy, healthcare, digital, use, inno...</td>\n",
       "      <td>[Federate Learning and mUlti-party computation...</td>\n",
       "    </tr>\n",
       "    <tr>\n",
       "      <th>14</th>\n",
       "      <td>13</td>\n",
       "      <td>51</td>\n",
       "      <td>13_cardiac_heart_human_cardiomyocytes</td>\n",
       "      <td>[cardiac, heart, human, cardiomyocytes, hf, ti...</td>\n",
       "      <td>[cardiac regeneration, cardiomyocytes, cardiac...</td>\n",
       "      <td>[cardiac, heart, cardiomyocytes, heart failure...</td>\n",
       "      <td>[cardiac, heart, human, cardiomyocytes, tissue...</td>\n",
       "      <td>[Surgical optogenetic bioprinting of engineere...</td>\n",
       "    </tr>\n",
       "    <tr>\n",
       "      <th>15</th>\n",
       "      <td>14</td>\n",
       "      <td>48</td>\n",
       "      <td>14_liver_nafld_metabolic_liver disease</td>\n",
       "      <td>[liver, nafld, metabolic, liver disease, disea...</td>\n",
       "      <td>[nafld, disease nafld, liver fibrosis, fatty l...</td>\n",
       "      <td>[liver, nafld, metabolic, liver disease, hepat...</td>\n",
       "      <td>[liver, metabolic, disease, fatty, hepatic, fa...</td>\n",
       "      <td>[Understanding Metabolic Activation of Dendrit...</td>\n",
       "    </tr>\n",
       "    <tr>\n",
       "      <th>16</th>\n",
       "      <td>15</td>\n",
       "      <td>47</td>\n",
       "      <td>15_neural_visual_brain_sensory</td>\n",
       "      <td>[neural, visual, brain, sensory, circuits, dec...</td>\n",
       "      <td>[neural circuits, neural activity, cortex, cor...</td>\n",
       "      <td>[neural, brain, sensory, perception, stimuli, ...</td>\n",
       "      <td>[neural, visual, brain, sensory, circuits, dec...</td>\n",
       "      <td>[Correcting for self: The impact of head motio...</td>\n",
       "    </tr>\n",
       "    <tr>\n",
       "      <th>17</th>\n",
       "      <td>16</td>\n",
       "      <td>39</td>\n",
       "      <td>16_diabetes_insulin_glucose_t2d</td>\n",
       "      <td>[diabetes, insulin, glucose, t2d, cell, type d...</td>\n",
       "      <td>[insulin, t1d, insulin resistance, glucagon, i...</td>\n",
       "      <td>[diabetes, insulin, glucose, t2d, type diabete...</td>\n",
       "      <td>[diabetes, insulin, glucose, cell, type, cells...</td>\n",
       "      <td>[Unobtrusive Continuous Multi-Metabolite Monit...</td>\n",
       "    </tr>\n",
       "    <tr>\n",
       "      <th>18</th>\n",
       "      <td>17</td>\n",
       "      <td>39</td>\n",
       "      <td>17_synthesis_reactions_molecules_chemistry</td>\n",
       "      <td>[synthesis, reactions, molecules, chemistry, c...</td>\n",
       "      <td>[synthetic chemistry, catalysis, catalysts, en...</td>\n",
       "      <td>[synthesis, reactions, molecules, chemistry, c...</td>\n",
       "      <td>[synthesis, reactions, molecules, chemistry, c...</td>\n",
       "      <td>[New late-stage functionalization reagents for...</td>\n",
       "    </tr>\n",
       "    <tr>\n",
       "      <th>19</th>\n",
       "      <td>18</td>\n",
       "      <td>35</td>\n",
       "      <td>18_pandemic_preparedness_biodiversity_diseases</td>\n",
       "      <td>[pandemic, preparedness, biodiversity, disease...</td>\n",
       "      <td>[pandemic preparedness, emerging infectious, p...</td>\n",
       "      <td>[pandemic, preparedness, epidemic, covid, zoon...</td>\n",
       "      <td>[pandemic, preparedness, biodiversity, disease...</td>\n",
       "      <td>[Pandemic literacy and viral zoonotic spillove...</td>\n",
       "    </tr>\n",
       "    <tr>\n",
       "      <th>20</th>\n",
       "      <td>19</td>\n",
       "      <td>34</td>\n",
       "      <td>19_cancer_care_prevention_patients</td>\n",
       "      <td>[cancer, care, prevention, patients, implement...</td>\n",
       "      <td>[european cancer, cancer mission, cancer care,...</td>\n",
       "      <td>[cancer, prevention, palliative, cancer patien...</td>\n",
       "      <td>[cancer, care, prevention, patients, implement...</td>\n",
       "      <td>[A European-wide foundation to accelerate Data...</td>\n",
       "    </tr>\n",
       "    <tr>\n",
       "      <th>21</th>\n",
       "      <td>20</td>\n",
       "      <td>30</td>\n",
       "      <td>20_eye_retinal_ocular_retina</td>\n",
       "      <td>[eye, retinal, ocular, retina, vision, blindne...</td>\n",
       "      <td>[retinal diseases, macular degeneration, retin...</td>\n",
       "      <td>[eye, retinal, ocular, retina, blindness, macu...</td>\n",
       "      <td>[eye, retinal, ocular, retina, vision, blindne...</td>\n",
       "      <td>[I(eye)-SCREEN: A real-world AI-based infrastr...</td>\n",
       "    </tr>\n",
       "    <tr>\n",
       "      <th>22</th>\n",
       "      <td>21</td>\n",
       "      <td>26</td>\n",
       "      <td>21_kidney_ckd_renal_kidney disease</td>\n",
       "      <td>[kidney, ckd, renal, kidney disease, disease, ...</td>\n",
       "      <td>[kidney organoids, disease ckd, chronic kidney...</td>\n",
       "      <td>[kidney, ckd, renal, kidney disease, chronic k...</td>\n",
       "      <td>[kidney, renal, disease, chronic kidney, chron...</td>\n",
       "      <td>[Dissecting renal metabolic reprogramming hete...</td>\n",
       "    </tr>\n",
       "    <tr>\n",
       "      <th>23</th>\n",
       "      <td>22</td>\n",
       "      <td>25</td>\n",
       "      <td>22_pharmaceutical_sustainable_pharmaceuticals_...</td>\n",
       "      <td>[pharmaceutical, sustainable, pharmaceuticals,...</td>\n",
       "      <td>[pharma, pharmaceutical industry, pharmaceutic...</td>\n",
       "      <td>[pharmaceutical, sustainable, pharmaceuticals,...</td>\n",
       "      <td>[pharmaceutical, sustainable, pharmaceuticals,...</td>\n",
       "      <td>[Innovative Mechanochemical Processes to synth...</td>\n",
       "    </tr>\n",
       "  </tbody>\n",
       "</table>\n",
       "</div>"
      ],
      "text/plain": [
       "    Topic  Count                                               Name  \\\n",
       "0      -1    949                            -1_new_data_based_brain   \n",
       "1       0    694                          0_cancer_cell_cells_tumor   \n",
       "2       1    258                      1_viral_virus_malaria_vaccine   \n",
       "3       2    195                 2_social_policy_pandemic_political   \n",
       "4       3    167                         3_cancer_imaging_ai_breast   \n",
       "5       4    144                         4_ad_disease_brain_protein   \n",
       "6       5    106          5_food_sustainable_production_aquaculture   \n",
       "7       6     94                     6_bone_tissue_pain_bioprinting   \n",
       "8       7     90        7_bacteria_antibiotics_bacterial_resistance   \n",
       "9       8     89                    8_gut_ibd_microbiome_microbiota   \n",
       "10      9     87                        9_plant_plants_crop_climate   \n",
       "11     10     83               10_brain_epilepsy_stimulation_neural   \n",
       "12     11     82                  11_heart_patients_stroke_clinical   \n",
       "13     12     53                        12_data_privacy_european_ai   \n",
       "14     13     51              13_cardiac_heart_human_cardiomyocytes   \n",
       "15     14     48             14_liver_nafld_metabolic_liver disease   \n",
       "16     15     47                     15_neural_visual_brain_sensory   \n",
       "17     16     39                    16_diabetes_insulin_glucose_t2d   \n",
       "18     17     39         17_synthesis_reactions_molecules_chemistry   \n",
       "19     18     35     18_pandemic_preparedness_biodiversity_diseases   \n",
       "20     19     34                 19_cancer_care_prevention_patients   \n",
       "21     20     30                       20_eye_retinal_ocular_retina   \n",
       "22     21     26                 21_kidney_ckd_renal_kidney disease   \n",
       "23     22     25  22_pharmaceutical_sustainable_pharmaceuticals_...   \n",
       "\n",
       "                                       Representation  \\\n",
       "0   [new, data, based, brain, development, human, ...   \n",
       "1   [cancer, cell, cells, tumor, therapy, immune, ...   \n",
       "2   [viral, virus, malaria, vaccine, viruses, infe...   \n",
       "3   [social, policy, pandemic, political, mental, ...   \n",
       "4   [cancer, imaging, ai, breast, detection, time,...   \n",
       "5   [ad, disease, brain, protein, alzheimer, micro...   \n",
       "6   [food, sustainable, production, aquaculture, c...   \n",
       "7   [bone, tissue, pain, bioprinting, oa, 3d, impl...   \n",
       "8   [bacteria, antibiotics, bacterial, resistance,...   \n",
       "9   [gut, ibd, microbiome, microbiota, intestinal,...   \n",
       "10  [plant, plants, crop, climate, drought, specie...   \n",
       "11  [brain, epilepsy, stimulation, neural, invasiv...   \n",
       "12  [heart, patients, stroke, clinical, treatment,...   \n",
       "13  [data, privacy, european, ai, healthcare, digi...   \n",
       "14  [cardiac, heart, human, cardiomyocytes, hf, ti...   \n",
       "15  [liver, nafld, metabolic, liver disease, disea...   \n",
       "16  [neural, visual, brain, sensory, circuits, dec...   \n",
       "17  [diabetes, insulin, glucose, t2d, cell, type d...   \n",
       "18  [synthesis, reactions, molecules, chemistry, c...   \n",
       "19  [pandemic, preparedness, biodiversity, disease...   \n",
       "20  [cancer, care, prevention, patients, implement...   \n",
       "21  [eye, retinal, ocular, retina, vision, blindne...   \n",
       "22  [kidney, ckd, renal, kidney disease, disease, ...   \n",
       "23  [pharmaceutical, sustainable, pharmaceuticals,...   \n",
       "\n",
       "                                              KeyBERT  \\\n",
       "0   [ai, brain, approaches, clinical, patients, ai...   \n",
       "1   [cancer cells, immunotherapy, tumours, tumors,...   \n",
       "2   [sars cov, antiviral, sars, vaccines, vaccine,...   \n",
       "3   [19 pandemic, covid 19, covid, eu, pandemic, i...   \n",
       "4   [breast cancer, biopsy, diagnostics, imaging, ...   \n",
       "5   [microglia, neuroinflammation, neurodegenerati...   \n",
       "6   [food systems, food system, sustainable food, ...   \n",
       "7   [bone regeneration, 3d bioprinting, bioprintin...   \n",
       "8   [antimicrobial resistance, antibiotic resistan...   \n",
       "9   [gut microbiome, gut microbiota, microbiome, g...   \n",
       "10  [arabidopsis, plant, plants, crop, crops, seed...   \n",
       "11  [brain stimulation, neuromodulation, eeg, elec...   \n",
       "12  [heart failure, atrial fibrillation, cardiovas...   \n",
       "13  [ai, healthcare, eu, data, federated, framewor...   \n",
       "14  [cardiac regeneration, cardiomyocytes, cardiac...   \n",
       "15  [nafld, disease nafld, liver fibrosis, fatty l...   \n",
       "16  [neural circuits, neural activity, cortex, cor...   \n",
       "17  [insulin, t1d, insulin resistance, glucagon, i...   \n",
       "18  [synthetic chemistry, catalysis, catalysts, en...   \n",
       "19  [pandemic preparedness, emerging infectious, p...   \n",
       "20  [european cancer, cancer mission, cancer care,...   \n",
       "21  [retinal diseases, macular degeneration, retin...   \n",
       "22  [kidney organoids, disease ckd, chronic kidney...   \n",
       "23  [pharma, pharmaceutical industry, pharmaceutic...   \n",
       "\n",
       "                                                  MMR  \\\n",
       "0   [new, data, brain, disease, develop, clinical,...   \n",
       "1   [cancer, cell, cells, tumor, tumour, therapies...   \n",
       "2   [virus, malaria, vaccine, viruses, antiviral, ...   \n",
       "3   [social, policy, pandemic, eu, public, covid, ...   \n",
       "4   [cancer, imaging, ai, breast, detection, bioma...   \n",
       "5   [alzheimer, microglia, neurodegenerative, alzh...   \n",
       "6   [food, sustainable, aquaculture, food systems,...   \n",
       "7   [bone, bioprinting, oa, implants, cartilage, r...   \n",
       "8   [bacteria, antibiotics, bacterial, antibiotic,...   \n",
       "9   [gut, ibd, microbiome, microbiota, intestinal,...   \n",
       "10  [plant, plants, crop, drought, species, climat...   \n",
       "11  [epilepsy, stimulation, neural, neurological, ...   \n",
       "12  [heart, patients, stroke, cardiac, cardiovascu...   \n",
       "13  [data, privacy, ai, healthcare, digital, eu, c...   \n",
       "14  [cardiac, heart, cardiomyocytes, heart failure...   \n",
       "15  [liver, nafld, metabolic, liver disease, hepat...   \n",
       "16  [neural, brain, sensory, perception, stimuli, ...   \n",
       "17  [diabetes, insulin, glucose, t2d, type diabete...   \n",
       "18  [synthesis, reactions, molecules, chemistry, c...   \n",
       "19  [pandemic, preparedness, epidemic, covid, zoon...   \n",
       "20  [cancer, prevention, palliative, cancer patien...   \n",
       "21  [eye, retinal, ocular, retina, blindness, macu...   \n",
       "22  [kidney, ckd, renal, kidney disease, chronic k...   \n",
       "23  [pharmaceutical, sustainable, pharmaceuticals,...   \n",
       "\n",
       "                                                  POS  \\\n",
       "0   [new, data, brain, development, human, high, d...   \n",
       "1   [cancer, cell, cells, tumor, therapy, immune, ...   \n",
       "2   [viral, virus, malaria, vaccine, viruses, infe...   \n",
       "3   [social, policy, pandemic, political, mental, ...   \n",
       "4   [cancer, imaging, breast, detection, time, dia...   \n",
       "5   [disease, brain, protein, microglia, neurodege...   \n",
       "6   [food, sustainable, production, aquaculture, c...   \n",
       "7   [bone, tissue, pain, bioprinting, implants, re...   \n",
       "8   [bacteria, antibiotics, bacterial, resistance,...   \n",
       "9   [gut, microbiome, microbiota, intestinal, host...   \n",
       "10  [plant, plants, crop, climate, drought, specie...   \n",
       "11  [brain, epilepsy, stimulation, neural, invasiv...   \n",
       "12  [heart, patients, stroke, clinical, treatment,...   \n",
       "13  [data, privacy, healthcare, digital, use, inno...   \n",
       "14  [cardiac, heart, human, cardiomyocytes, tissue...   \n",
       "15  [liver, metabolic, disease, fatty, hepatic, fa...   \n",
       "16  [neural, visual, brain, sensory, circuits, dec...   \n",
       "17  [diabetes, insulin, glucose, cell, type, cells...   \n",
       "18  [synthesis, reactions, molecules, chemistry, c...   \n",
       "19  [pandemic, preparedness, biodiversity, disease...   \n",
       "20  [cancer, care, prevention, patients, implement...   \n",
       "21  [eye, retinal, ocular, retina, vision, blindne...   \n",
       "22  [kidney, renal, disease, chronic kidney, chron...   \n",
       "23  [pharmaceutical, sustainable, pharmaceuticals,...   \n",
       "\n",
       "                                  Representative_Docs  \n",
       "0   [Virtual Brain Twin for personalised treatment...  \n",
       "1   [Cancer cell plasticity on targeted therapy\\nN...  \n",
       "2   [Respiratory Host-Pathogen Interaction\\nLower ...  \n",
       "3   [VET PARTICIPATION, RETENTION, AND EDUCATIONAL...  \n",
       "4   [Surface-enhanced Raman spectroscopy in liquid...  \n",
       "5   [Deciphering the microglia-neuron interactions...  \n",
       "6   [On a Quest for Data-Driven Innovations to fue...  \n",
       "7   [Drug solution for bone fracture nonunions\\nBo...  \n",
       "8   [Advanced Multidisciplinary Research for Antim...  \n",
       "9   [Mechanistic study of gut microbial biotransfo...  \n",
       "10  [From wild to crop: unravelling the impact of ...  \n",
       "11  [AEGEUS - A Novel EEG Ultrasound Device for Fu...  \n",
       "12  [Health virtual twins for the personalised man...  \n",
       "13  [Federate Learning and mUlti-party computation...  \n",
       "14  [Surgical optogenetic bioprinting of engineere...  \n",
       "15  [Understanding Metabolic Activation of Dendrit...  \n",
       "16  [Correcting for self: The impact of head motio...  \n",
       "17  [Unobtrusive Continuous Multi-Metabolite Monit...  \n",
       "18  [New late-stage functionalization reagents for...  \n",
       "19  [Pandemic literacy and viral zoonotic spillove...  \n",
       "20  [A European-wide foundation to accelerate Data...  \n",
       "21  [I(eye)-SCREEN: A real-world AI-based infrastr...  \n",
       "22  [Dissecting renal metabolic reprogramming hete...  \n",
       "23  [Innovative Mechanochemical Processes to synth...  "
      ]
     },
     "execution_count": 25,
     "metadata": {},
     "output_type": "execute_result"
    }
   ],
   "source": [
    "topic_model.get_topic_info()\n"
   ]
  },
  {
   "cell_type": "code",
   "execution_count": 26,
   "id": "bca64adc",
   "metadata": {},
   "outputs": [
    {
     "data": {
      "application/vnd.plotly.v1+json": {
       "config": {
        "plotlyServerURL": "https://plot.ly"
       },
       "data": [
        {
         "hoverinfo": "text",
         "marker": {
          "color": "#CFD8DC",
          "opacity": 0.5,
          "size": 5
         },
         "mode": "markers+text",
         "name": "other",
         "showlegend": false,
         "type": "scattergl",
         "x": {
          "bdata": "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",
          "dtype": "f4"
         },
         "y": {
          "bdata": "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",
          "dtype": "f4"
         }
        },
        {
         "hoverinfo": "text",
         "marker": {
          "opacity": 0.5,
          "size": 5
         },
         "mode": "markers+text",
         "name": "0_cancer_cell_cells",
         "text": [
          "",
          "",
          "",
          "",
          "",
          "",
          "",
          "",
          "",
          "",
          "",
          "",
          "",
          "",
          "",
          "",
          "",
          "",
          "",
          "",
          "",
          "",
          "",
          "",
          "",
          "",
          "",
          "",
          "",
          "",
          "",
          "",
          "",
          "",
          "",
          "",
          "",
          "",
          "",
          "",
          "",
          "",
          "",
          "",
          "",
          "",
          "",
          "",
          "",
          "",
          "",
          "",
          "",
          "",
          "",
          "",
          "",
          "",
          "",
          "",
          "",
          "",
          "",
          "",
          "",
          "",
          "",
          "",
          "",
          "",
          "",
          "",
          "",
          "",
          "",
          "",
          "",
          "",
          "",
          "",
          "",
          "",
          "",
          "",
          "",
          "",
          "",
          "",
          "",
          "",
          "",
          "",
          "",
          "",
          "",
          "",
          "",
          "",
          "",
          "",
          "",
          "",
          "",
          "",
          "",
          "",
          "",
          "",
          "",
          "",
          "",
          "",
          "",
          "",
          "",
          "",
          "",
          "",
          "",
          "",
          "",
          "",
          "",
          "",
          "",
          "",
          "",
          "",
          "",
          "",
          "",
          "",
          "",
          "",
          "",
          "",
          "",
          "",
          "",
          "",
          "",
          "",
          "",
          "",
          "",
          "",
          "",
          "",
          "",
          "",
          "",
          "",
          "",
          "",
          "",
          "",
          "",
          "",
          "",
          "",
          "",
          "",
          "",
          "",
          "",
          "",
          "",
          "",
          "",
          "",
          "",
          "",
          "",
          "",
          "",
          "",
          "",
          "",
          "",
          "",
          "",
          "",
          "",
          "",
          "",
          "",
          "",
          "",
          "",
          "",
          "",
          "",
          "",
          "",
          "",
          "",
          "",
          "",
          "",
          "",
          "",
          "",
          "",
          "",
          "",
          "",
          "",
          "",
          "",
          "",
          "",
          "",
          "",
          "",
          "",
          "",
          "",
          "",
          "",
          "",
          "",
          "",
          "",
          "",
          "",
          "",
          "",
          "",
          "",
          "",
          "",
          "",
          "",
          "",
          "",
          "",
          "",
          "",
          "",
          "",
          "",
          "",
          "",
          "",
          "",
          "",
          "",
          "",
          "",
          "",
          "",
          "",
          "",
          "",
          "",
          "",
          "",
          "",
          "",
          "",
          "",
          "",
          "",
          "",
          "",
          "",
          "",
          "",
          "",
          "",
          "",
          "",
          "",
          "",
          "",
          "",
          "",
          "",
          "",
          "",
          "",
          "",
          "",
          "",
          "",
          "",
          "",
          "",
          "",
          "",
          "",
          "",
          "",
          "",
          "",
          "",
          "",
          "",
          "",
          "",
          "",
          "",
          "",
          "",
          "",
          "",
          "",
          "",
          "",
          "",
          "",
          "",
          "",
          "",
          "",
          "",
          "",
          "",
          "",
          "",
          "",
          "",
          "",
          "",
          "",
          "",
          "",
          "",
          "",
          "",
          "",
          "",
          "",
          "",
          "",
          "",
          "",
          "",
          "",
          "",
          "",
          "",
          "",
          "",
          "",
          "",
          "",
          "",
          "",
          "",
          "",
          "",
          "",
          "",
          "",
          "",
          "",
          "",
          "",
          "",
          "",
          "",
          "",
          "",
          "",
          "",
          "",
          "",
          "",
          "",
          "",
          "",
          "",
          "",
          "",
          "",
          "",
          "",
          "",
          "",
          "",
          "",
          "",
          "",
          "",
          "",
          "",
          "",
          "",
          "",
          "",
          "",
          "",
          "",
          "",
          "",
          "",
          "",
          "",
          "",
          "",
          "",
          "",
          "",
          "",
          "",
          "",
          "",
          "",
          "",
          "",
          "",
          "",
          "",
          "",
          "",
          "",
          "",
          "",
          "",
          "",
          "",
          "",
          "",
          "",
          "",
          "",
          "",
          "",
          "",
          "",
          "",
          "",
          "",
          "",
          "",
          "",
          "",
          "",
          "",
          "",
          "",
          "",
          "",
          "",
          "",
          "",
          "",
          "",
          "",
          "",
          "",
          "",
          "",
          "",
          "",
          "",
          "",
          "",
          "",
          "",
          "",
          "",
          "",
          "",
          "",
          "",
          "",
          "",
          "",
          "",
          "",
          "",
          "",
          "",
          "",
          "",
          "",
          "",
          "",
          "",
          "",
          "",
          "",
          "",
          "",
          "",
          "",
          "",
          "",
          "",
          "",
          "",
          "",
          "",
          "",
          "",
          "",
          "",
          "",
          "",
          "",
          "",
          "",
          "",
          "",
          "",
          "",
          "",
          "",
          "",
          "",
          "",
          "",
          "",
          "",
          "",
          "",
          "",
          "",
          "",
          "",
          "",
          "",
          "",
          "",
          "",
          "",
          "",
          "",
          "",
          "",
          "",
          "",
          "",
          "",
          "",
          "",
          "",
          "",
          "",
          "",
          "",
          "",
          "",
          "",
          "",
          "",
          "",
          "",
          "",
          "",
          "",
          "",
          "",
          "",
          "",
          "",
          "",
          "",
          "",
          "",
          "",
          "",
          "",
          "",
          "",
          "",
          "",
          "",
          "",
          "",
          "",
          "",
          "",
          "",
          "",
          "",
          "",
          "",
          "",
          "",
          "",
          "",
          "",
          "",
          "",
          "",
          "",
          "",
          "",
          "",
          "",
          "",
          "",
          "",
          "",
          "",
          "",
          "",
          "",
          "",
          "",
          "",
          "",
          "",
          "",
          "",
          "",
          "",
          "",
          "",
          "",
          "",
          "",
          "",
          "",
          "",
          "",
          "",
          "",
          "",
          "",
          "",
          "",
          "",
          "",
          "",
          "",
          "",
          "",
          "",
          "",
          "",
          "",
          "",
          "",
          "",
          "",
          "",
          "",
          "",
          "",
          "",
          "",
          "",
          "",
          "",
          "",
          "",
          "",
          "",
          "",
          "",
          "",
          "",
          "",
          "",
          "",
          "",
          "",
          "",
          "",
          "",
          "",
          "",
          "",
          "",
          "",
          "",
          "",
          "",
          "",
          "",
          "",
          "",
          "",
          "",
          "",
          "",
          "",
          "",
          "",
          "",
          "",
          "",
          "",
          "",
          "",
          "",
          "",
          "",
          "",
          ""
         ],
         "textfont": {
          "size": 12
         },
         "type": "scattergl",
         "x": {
          "bdata": "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",
          "dtype": "f4"
         },
         "y": {
          "bdata": "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",
          "dtype": "f4"
         }
        },
        {
         "hoverinfo": "text",
         "marker": {
          "opacity": 0.5,
          "size": 5
         },
         "mode": "markers+text",
         "name": "1_viral_virus_malaria",
         "text": [
          "",
          "",
          "",
          "",
          "",
          "",
          "",
          "",
          "",
          "",
          "",
          "",
          "",
          "",
          "",
          "",
          "",
          "",
          "",
          "",
          "",
          "",
          "",
          "",
          "",
          "",
          "",
          "",
          "",
          "",
          "",
          "",
          "",
          "",
          "",
          "",
          "",
          "",
          "",
          "",
          "",
          "",
          "",
          "",
          "",
          "",
          "",
          "",
          "",
          "",
          "",
          "",
          "",
          "",
          "",
          "",
          "",
          "",
          "",
          "",
          "",
          "",
          "",
          "",
          "",
          "",
          "",
          "",
          "",
          "",
          "",
          "",
          "",
          "",
          "",
          "",
          "",
          "",
          "",
          "",
          "",
          "",
          "",
          "",
          "",
          "",
          "",
          "",
          "",
          "",
          "",
          "",
          "",
          "",
          "",
          "",
          "",
          "",
          "",
          "",
          "",
          "",
          "",
          "",
          "",
          "",
          "",
          "",
          "",
          "",
          "",
          "",
          "",
          "",
          "",
          "",
          "",
          "",
          "",
          "",
          "",
          "",
          "",
          "",
          "",
          "",
          "",
          "",
          "",
          "",
          "",
          "",
          "",
          "",
          "",
          "",
          "",
          "",
          "",
          "",
          "",
          "",
          "",
          "",
          "",
          "",
          "",
          "",
          "",
          "",
          "",
          "",
          "",
          "",
          "",
          "",
          "",
          "",
          "",
          "",
          "",
          "",
          "",
          "",
          "",
          "",
          "",
          "",
          "",
          "",
          "",
          "",
          "",
          "",
          "",
          "",
          "",
          "",
          "",
          "",
          "",
          "",
          "",
          "",
          "",
          "",
          "",
          "",
          "",
          "",
          "",
          "",
          "",
          "",
          "",
          "",
          "",
          "",
          "",
          "",
          "",
          "",
          "",
          "",
          "",
          "",
          "",
          "",
          "",
          "",
          "",
          "",
          "",
          "",
          "",
          "",
          "",
          "",
          "",
          "",
          "",
          "",
          "",
          "",
          "",
          "",
          "",
          "",
          "",
          "",
          "",
          "",
          "",
          "",
          "",
          "",
          "",
          "",
          "",
          "",
          "",
          "",
          "",
          "",
          "",
          "",
          "",
          "",
          "",
          "",
          "",
          "",
          "",
          "",
          "",
          "",
          "",
          ""
         ],
         "textfont": {
          "size": 12
         },
         "type": "scattergl",
         "x": {
          "bdata": "8+DeQM/3/0BJDPFARt64QNrWtUBso8NAUa2tQC8Z6EDoEepAPrLZQCkk9kDa3ulAHk7oQCH/3kAvRrRAAafmQJ8LsUDzW7RARHm8QIWB60ANstpAi9LAQAfU7UDXJ+xATYS8QPbw+UBI9cpAzcuvQPE2tECuG/dATCqyQG7g2UAe/LNACYvqQB1o3UCIVcRARa28QDOT8UAqw7dAdNnFQB1P1EAsd/RAmkjnQMpny0Ba695AgODbQF8DqEAYc+NAvry5QCe75EDYXfZAeQTdQO2ep0BCs95AbH6zQG/73EBlosJAVEKzQIWXxEBXONZAPfvnQFd9uUDpwMdA0zvfQG0zw0CdYvpA746nQPPVxkBFTcZAgF/DQGnNxEDb5PtA+xvVQAp63kDQBuZAHgHqQEqbtEDVO+FAPXa9QKY410BCtbJAMvu1QLl160AuC99AYTW4QCqA50DCb8FAGXDoQJ+350CKR+lATtrEQPJ27kDZzMVANGa4QEZ+4UAeq9hAa+DfQCf97kB5DMhAFqy0QByCrECmDdlANS/oQOCw10AynrNA06qsQPyK5EB2ib1ABBOxQHYaukBXILtAf1W8QIbv10B0FMdAndLTQLHqwkDp/9dAu26zQI0ov0Cd7tlAF1rEQISns0AJvctAm3+5QGOC3kDECOtAVPLHQHmTp0C1zOFAVqTnQDfPx0CEqLRAZ8zsQPD5ykADibNAl/PnQCsY3kC6KcNAIyvaQDPIx0Dj5LRAhV0AQRd2x0AWJOtAPe/IQNwKzEAxIPpAElnHQLR8s0CZ3thA69jTQC0pxEDtT+dASIPYQHokv0Cv4stAbiWsQGMk6kA9cLlA6xa0QPCos0AdB9VAjnSwQJEW6UB/m71AXm25QPIt5EAu9LBAymveQIInrUB4sKxAXpLTQK+s2UBtW+hANZ6wQBXr5kBZVt5A/86zQORzs0Ab7+tAderqQMVDuUC54LRAILC5QNH810BUBbFAMqnLQA6vp0CliuhALefoQA6W50BQ5bFA/m/EQC4B9kCkKbpAE4j4QMrCp0BtVrNAwyDpQEZe6UAr1rRAq+m0QNLhyECVb6xA1cG7QIdc4UAPKu1AsTXtQDLj1EAGSqpABJH6QOgs+kDJ/7FAT365QOQQx0Cck7FAxAbeQMgt1kBpWsZAiBKyQBHFs0A8rflAfd+8QDyl20B3VQBBrRi9QKQDwEAWCchAOor4QBd3tkDkkK1AvmLpQNZZ3EBLnwBB0uT5QNebuUCcb+hAWDfgQOhWy0AKwthAG5jFQAYb2UCvmdlAoWm1QEI6tECG38NA3qnEQAb46EATEOhAaYrLQOq+3kBPrbxABOPeQEKNtUB2HLlAhqW+QKby6EB/S+1A",
          "dtype": "f4"
         },
         "y": {
          "bdata": "MkkNQfzJA0H4AAVB5uUKQe/xAUFurPpAHjwBQcxQBUFyjQRBuNYLQTn6BEGh/gJB4yINQVMlDUHuUQNBtIn+QPh1AkG0AANBxVkAQc99A0H2cAtB9SUJQUcDCkHR9AlB/+EHQUyUBEEloQdBCkYCQcmYBkEjHQVB9cMDQXuRC0FpTgRB4YgCQQXQDEGue/pAfjsJQXa4BEGU8QFBvuYIQTrRCkHu3QRBkz8NQeghCUGUag1BUhcGQYsHAEGIUwpBnhABQekKBEH0JgVBdsQKQV4RAEF/Cw1B938HQfykDEGMZflALHAEQeFX/EBOpwhBFgcNQc3bCkEAPvpAhwMNQeJO/UCPhwJBKQAAQYNQBUEqy/hAzov6QAIm+kDurwBBtUEIQUAsDEFcjAZBUU8IQb+0BkFSFg1BXGkIQZ/wCEFSVgRBnA8CQZM0CEGFCgxBARUIQQ9xDUGUTAJBvkMBQYAKDUG5oARBXPQEQVu3BkG41QVB5wcJQe3mC0Fs4QtBcyMJQYb4A0Gk2QNBJLICQeTJ/0Cz/wtBhE8NQdrwCUHoXQdBUCMAQQ2DDUHqrQhBlhIDQWEfB0EIxv9ABr4HQQi8C0GTGAVBJigIQe+4+0BBVwlB2LAGQWWgCEHmhwxBlj36QFJ/B0Gp9wdBONYKQTO5DUFtMwhBcicEQeXE/0D/bANBeFsNQfBI+UCi5QRBCdEBQTU6+0ClpgVB1e0LQYGhC0Gwk/tAfD8MQb68CEGQ4wJBqRUDQTD4CEFqgAJBfDoEQcYnBUHejgBBAhP6QGfpA0Gj+AtBkFwKQcYc+kAkqgZBuZYKQWNs/0A98wdB9+T/QAZKA0F6JwhB8fAFQRxQB0HPtAhBh6kCQZf2AEHApQhBdPAKQZ3wAkFv7wJBbp8LQXG7AUH8KgBBSv8HQXdWDEGNPAdB93wCQXvBB0FlZAxBcsQDQdlNB0ET8ABBo9sHQWAtC0EV5wJBKKsKQX6BDEHByQJBFGEIQVrj/0Bbiv5Azm0DQa3tA0GNiAFB8Gr6QEQxBUEdbwpBTNwAQWYoAEH1EwNBC+ABQbpQBUFnxwJBpikHQa+D+kBasf9AiSEIQdjUC0FUPABBM2QEQfmhBkHAewBBUeQAQcYAAUEw4gNB6wMLQdWCCEHp7AJB0EQNQZ6BCkGOrvlAo4YDQVobBEENxwBBvQcKQRKDCkFDhQRBTasIQXHGCEFOK/lAATgBQaUDB0G1PABB52v+QENBCkE3igNBgjEAQeroCkHbmQ1BH9YLQTYf+EBtFAtBcaYEQbYIDEEgowxBpKECQZLGBkEapfpA+OMEQZP1B0HnpARBSCD8QMFQDUF54QJBOjgNQScuAkFmIgtB2poIQazyBkFxOghB",
          "dtype": "f4"
         }
        },
        {
         "hoverinfo": "text",
         "marker": {
          "opacity": 0.5,
          "size": 5
         },
         "mode": "markers+text",
         "name": "2_social_policy_pandemic",
         "text": [
          "",
          "",
          "",
          "",
          "",
          "",
          "",
          "",
          "",
          "",
          "",
          "",
          "",
          "",
          "",
          "",
          "",
          "",
          "",
          "",
          "",
          "",
          "",
          "",
          "",
          "",
          "",
          "",
          "",
          "",
          "",
          "",
          "",
          "",
          "",
          "",
          "",
          "",
          "",
          "",
          "",
          "",
          "",
          "",
          "",
          "",
          "",
          "",
          "",
          "",
          "",
          "",
          "",
          "",
          "",
          "",
          "",
          "",
          "",
          "",
          "",
          "",
          "",
          "",
          "",
          "",
          "",
          "",
          "",
          "",
          "",
          "",
          "",
          "",
          "",
          "",
          "",
          "",
          "",
          "",
          "",
          "",
          "",
          "",
          "",
          "",
          "",
          "",
          "",
          "",
          "",
          "",
          "",
          "",
          "",
          "",
          "",
          "",
          "",
          "",
          "",
          "",
          "",
          "",
          "",
          "",
          "",
          "",
          "",
          "",
          "",
          "",
          "",
          "",
          "",
          "",
          "",
          "",
          "",
          "",
          "",
          "",
          "",
          "",
          "",
          "",
          "",
          "",
          "",
          "",
          "",
          "",
          "",
          "",
          "",
          "",
          "",
          "",
          "",
          "",
          "",
          "",
          "",
          "",
          "",
          "",
          "",
          "",
          "",
          "",
          "",
          "",
          "",
          "",
          "",
          "",
          "",
          "",
          "",
          "",
          "",
          "",
          "",
          "",
          "",
          "",
          "",
          "",
          "",
          "",
          "",
          "",
          "",
          "",
          "",
          "",
          "",
          "",
          "",
          "",
          "",
          "",
          "",
          "",
          "",
          "",
          "",
          "",
          "",
          "",
          "",
          "",
          "",
          "",
          ""
         ],
         "textfont": {
          "size": 12
         },
         "type": "scattergl",
         "x": {
          "bdata": "0JS2QIYVv0CdSbdAiKa7QEhqyEDRj91A5hO2QAliyUAZw9dA8Z7FQE1aukBxkMhA3KG9QCUpx0A1gcVAK07JQD7vukApzd5APlLKQFrtwUCdh8ZA9EvdQKy/30AhmcpA/B63QGLC00CZVL1AUB3cQE52ykAuS8tAzELKQK2o1kDAEcVAUpDUQJ+5xUCCkMZA4avLQHqsykAtnbpAWlfIQOEl5EAWlcpA5UbXQGdQy0BdLL1AYYTEQDrN10CTi7hAWF/JQBb3ukAP9clAjFnWQMIcvEDGerhAlxG+QLGpyEDi671AIIvYQFOXxUAypchAicu5QO+p2EDwm8ZA/fPGQJPGy0Djg7ZAICvIQOu0uEC+6LtA+we6QDSzxEDr8MRAugHXQL6XuUBlzLhAiH/GQPDCuEB2UNhA5R/VQDgGtkBhfrVAhnK/QO9Q40CuFs1AFybFQG2nxUDjD9tArNnWQGj910CxSc9AVG/ZQCSZyEDMMcdAfPm/QBRh0EDh1LZAQJa8QLqSt0DVXtBAvmu+QMKJwkAUg8dAMzbHQFi9tkD14LlAnuLEQAOj2EC/t7dAPZfKQHLxu0BZVsRANErJQCuI2EDs4LpAyLDFQF8xt0DyysJAHVi8QIYvz0AvrsZAA83XQHpq2ED4h8RAMlnbQOXMx0AY9bpAe1e2QCgby0DnL8hA9YnFQKbvu0A2tdVAWobVQFnj0UCU0dxA74XKQFs4x0Cr+rpAO8vHQKDzuEA5lb9AgYrCQFSpuEBpXbtA7fLaQOSXwUCIIrhAWYbHQNBxx0CprrdAjYPYQNXHuEBSILpAJAG8QAH8yEAIn9pAFHu7QMI/0kBucrlA/RXYQG7q1EDHb71ACay1QA2l1UD9CcdATyrLQOvCvUB9bsVAnh3bQCC+2kBs27tARUjGQLU4wEApF7hA6Ba5QLjHvEAgdblAWuW4QHFsv0D4NLhA27O8QLcqvEBghMdARaK4QIFx30CsRLtAu9/YQP+XtUAjPrhAiBq7QBGnyEDxhM1AGju4QFGbuEC9YLxA",
          "dtype": "f4"
         },
         "y": {
          "bdata": "4CihQO3vqEBIu6BAJUKcQNc0xEBPa5xATzqhQNWpmEBN/rRAz3bCQECxnEA8xqVAYuOcQAomnkA7EsFAJye+QE73m0AElp1A0N+kQPFppkB+yZ1AKkydQNc4nEAG1Z5AuNOgQKLGuECQyZxAiiyfQE0lt0C3RblAXUG3QBv+sUC9GalALUajQE+elkAejsJAjYubQFjeokC98Z5AmEeeQLQemkAeyp9AJAO0QLsBmUCs/ahA2u+pQM1eoUC8h5hAmszAQABjnkCZ3bpAcHuvQBthnUCeYJxAFpGbQHuMnECrkqFAeGmhQM4bqUBz06BADTqbQBFOtkAosp1ABqeeQHAmvkCVnqBApkWeQPwTmEB/Rp1A/z+fQFOllkDT08JAGeW1QPD9qkDjxJlAp1S/QKuomED1G7ZAcbKpQNDPoEAfcaFAgBKdQIfjmUAd4pxAUtLCQCmnqECoT59A/QCjQBEntUCJhJ5AnPOfQO3Qv0BQm5xA0PecQEzYnUC1V6BAS0GcQE2tmUDb4bpAH/GdQEIBmUAo+55AdRanQLiOn0DDsaNAYWqfQBe9tkDkWJlARqXAQMP5m0BEr55A+/eeQMP8nkB/UpxA0DfCQC6rn0B78JpALpSYQMQotkByk5dAO/i1QIWDoUCmIZ5ABoCcQBUankAxyJpAZKOgQORXt0AatqRAuL3BQO3CmEAY451ArGK2QN0jnkBWQZ1A9iu3QE48pEAdd5xAK22cQEpno0CqNZ1AjemeQNfzmUDiaZxATlagQCXHmEDTrZlAuUGdQEDHoEDgcJlAJQC2QDDRmkDr6p5Am6+fQPtcn0BqTZ5AhcibQLeYnUBSGplAMxO2QA1Dp0CKjZpAHQahQPWenUAswZ5AK2ehQPRqtkAEtqhAjOqfQGWzn0B1zplA7tmXQGJAoUDyq55A9oWaQGCTnECvAZtA/5SaQApAmEArM55AiRCcQAX+nEBCSL9ACueZQBaBm0C9SZ5A5DW2QOLQoEBF+5pAHiimQFhpwUA6Y7ZAjmObQH7ImkDTxZxA",
          "dtype": "f4"
         }
        },
        {
         "hoverinfo": "text",
         "marker": {
          "opacity": 0.5,
          "size": 5
         },
         "mode": "markers+text",
         "name": "3_cancer_imaging_ai",
         "text": [
          "",
          "",
          "",
          "",
          "",
          "",
          "",
          "",
          "",
          "",
          "",
          "",
          "",
          "",
          "",
          "",
          "",
          "",
          "",
          "",
          "",
          "",
          "",
          "",
          "",
          "",
          "",
          "",
          "",
          "",
          "",
          "",
          "",
          "",
          "",
          "",
          "",
          "",
          "",
          "",
          "",
          "",
          "",
          "",
          "",
          "",
          "",
          "",
          "",
          "",
          "",
          "",
          "",
          "",
          "",
          "",
          "",
          "",
          "",
          "",
          "",
          "",
          "",
          "",
          "",
          "",
          "",
          "",
          "",
          "",
          "",
          "",
          "",
          "",
          "",
          "",
          "",
          "",
          "",
          "",
          "",
          "",
          "",
          "",
          "",
          "",
          "",
          "",
          "",
          "",
          "",
          "",
          "",
          "",
          "",
          "",
          "",
          "",
          "",
          "",
          "",
          "",
          "",
          "",
          "",
          "",
          "",
          "",
          "",
          "",
          "",
          "",
          "",
          "",
          "",
          "",
          "",
          "",
          "",
          "",
          "",
          "",
          "",
          "",
          "",
          "",
          "",
          "",
          "",
          "",
          "",
          "",
          "",
          "",
          "",
          "",
          "",
          "",
          "",
          "",
          "",
          "",
          "",
          "",
          "",
          "",
          "",
          "",
          "",
          "",
          "",
          "",
          "",
          "",
          "",
          "",
          "",
          "",
          "",
          "",
          "",
          "",
          "",
          "",
          "",
          "",
          ""
         ],
         "textfont": {
          "size": 12
         },
         "type": "scattergl",
         "x": {
          "bdata": "GTQJQZc4CUGvKA5B4mkKQbllDEHvKgxBqzMKQUs1C0EM2ApB71YNQfWuC0GLbQ5B2CwJQSD8CEEHFAtBNTsLQfNNC0GNNw1BmvkNQdxeDEGiOg1Bph4LQbKEDkGKHApBQnsJQX1JCkFvggtBLkcJQXiCCkEhvQ9BpokGQSk+DkFFYw5B5C8LQeDdC0Ec6whBNX0NQWKyCUEWWAxBJbQMQW0wDEHR4wlBxyAIQYh1DUFUDQhB2CgKQargCkGcrwpBQNILQfLZCUEo9wtBIQsKQeBkDEFMIwpBfuULQTYRD0FMwQlBZwsGQeHJCUHZ0w1B7kYJQZvVCkGY+gtBiE8LQWwQD0HahwdBxV4IQR1ADEGDJAhB0y8JQdwcD0H6mg1B3woKQcaPCEG5yQtBN+kMQVO8DUFO0gxBwgMPQaBpDkEPPg5BRfELQdLcDEFbmwlBrGgOQVapC0Hc8AhBXM8LQTBSD0HtAQ5BOkkKQQh9DEEhkAtBP/cLQR1jD0E20wlBtKkIQUVhCUGGIghBy98KQRBmD0G9xQxBTBkMQRPLDkGT4wxBhQ8NQfAiDEGuYwhBiyYOQdd2CkGPPw1B8wMJQZ8VD0GragpBhRUOQQyIDEGgcAxBF4cOQZ+kB0FN/AxBp2YHQQlZC0H3uwxBV5wLQRkmDEEcSAVBn1kIQeDpCkG/SQhBpv8JQaJUDkG+qwhB2jYOQWTXDkH7eAtBtxEOQXxUC0HpTwxBjHkLQcAzDEHHlAxB2TkNQYPRDUFS7wlBdToJQZ7rDEGvagpB2UYIQTwGDUGdlAhBu14LQTiKCUFnmwxBVQ0NQSFDD0FOMQ1BKwkIQR/XC0F34wtBqGIJQdNeCUHeLwlBObYMQU8FC0HEggtB2toNQTteC0E=",
          "dtype": "f4"
         },
         "y": {
          "bdata": "4eTCQHqg3kAl8cJAMkS/QIwfzECTEcxALKfoQHk+wECcjM5A+sHEQP33ykA/q8hAKMXiQDsC5EAt8NFAsI3BQMcCwEADa8NAP5HJQLzyykDfnc5Aj57pQKotxEB8XL1ALIflQPzzzUBmn8FABzzfQHx2zkAV7rpAf0vuQFFlyUB6ledAC9jcQI+pzEBJRMNAnPy9QCJm3kDx7c1AypTMQBzYzUCALL1Alj/vQH6nuUBU/uRAHPu9QEvs30AhmeRA2TrOQOd2vkAKk81AOczfQNkOzEC277xAJNK9QDmOwEAX8LlASCPsQO185UDGQL5AQGbfQGU80EBLWcxAPGzJQNvhv0AlfONAQbHmQAWM0UA2SuZAPt/mQFpDwECszcFA/x7RQOYgu0AY/c1ANKPEQA5Rw0B0wc5AXTO8QGP+u0Afeb9Ac2PLQEIcy0B42OtAaR2+QLrsvkCjZ+VAQvbNQJaAwEDwi8dAM/+8QOjfz0ByW+ZA0hLlQGQpv0CQq+xA+v3oQPeQ5kDTNe5Atha+QFQ2wUC788xARIm+QBUpxECjEM9AN2/QQECuyUC9M+5A2CbAQD4Dv0AtWM9AnTLnQA0AwUDNwe1AYzu+QC6dzkArT85A+1nEQK7H6EBVWc9A6pPnQMICyECsGc5AjEbRQE9HyEBzBe9AJ7rkQMJnvUBRKOZAkrW9QBLJwUAehO9AaHrBQBUsxkDiv71AncHBQKc/10CjZ85AZX/cQHCuzEDbMcNAlM7NQM2by0CtksFA6eXkQBh3xUCxdudAwELmQIOmuUBDHeRAYFHBQOFW5kCDs8tAnqzPQCSvvkD1Us9AVRHpQKWezUBC38BA+MHhQCgD5kCwW+ZAB5DPQFXLu0AT8NlASCPGQHqAzkA=",
          "dtype": "f4"
         }
        },
        {
         "hoverinfo": "text",
         "marker": {
          "opacity": 0.5,
          "size": 5
         },
         "mode": "markers+text",
         "name": "4_ad_disease_brain",
         "text": [
          "",
          "",
          "",
          "",
          "",
          "",
          "",
          "",
          "",
          "",
          "",
          "",
          "",
          "",
          "",
          "",
          "",
          "",
          "",
          "",
          "",
          "",
          "",
          "",
          "",
          "",
          "",
          "",
          "",
          "",
          "",
          "",
          "",
          "",
          "",
          "",
          "",
          "",
          "",
          "",
          "",
          "",
          "",
          "",
          "",
          "",
          "",
          "",
          "",
          "",
          "",
          "",
          "",
          "",
          "",
          "",
          "",
          "",
          "",
          "",
          "",
          "",
          "",
          "",
          "",
          "",
          "",
          "",
          "",
          "",
          "",
          "",
          "",
          "",
          "",
          "",
          "",
          "",
          "",
          "",
          "",
          "",
          "",
          "",
          "",
          "",
          "",
          "",
          "",
          "",
          "",
          "",
          "",
          "",
          "",
          "",
          "",
          "",
          "",
          "",
          "",
          "",
          "",
          "",
          "",
          "",
          "",
          "",
          "",
          "",
          "",
          "",
          "",
          "",
          "",
          "",
          "",
          "",
          "",
          "",
          "",
          "",
          "",
          "",
          "",
          "",
          "",
          "",
          "",
          "",
          "",
          "",
          "",
          "",
          "",
          "",
          "",
          "",
          "",
          "",
          "",
          "",
          "",
          ""
         ],
         "textfont": {
          "size": 12
         },
         "type": "scattergl",
         "x": {
          "bdata": "zcMaQeFDFUEM+xpB0HsTQd0pF0HX4BdBQugbQUySEUFYBxpBqpEbQYJ0GUGAwhZBNDIYQfEPEEHiqhlBgDsWQWSXHEGa8xdB0pwbQTSKGkHGIRJBFocVQef9FUFAaBpB/iIXQQSeFUEn/hdBriEZQbEgFkHudhdBOqsXQRXmF0GZ0A9Bbc8UQYOSHEExVRpBF8sZQRX3FkE3ihlB6ZMaQf3QGEGVlxpBqokQQcSZHEF4uhZBBe8WQaFlEUF5ChFBdQ8SQZylF0GxsRZBaIQWQbfcGEHwAhtBaKkYQc+tF0GCZBFBfTISQXqsGkFy7RlBtmobQY1YGEENFRJBHKscQcgSEEG3mxJBbAkcQdAlGEGg0BdBqyUXQb14GUFs8htBPXwTQUhVGEH6whpBKnkXQRL7GEEvORpBos0ZQeluF0FVmxpB67sXQfUEGkGAxxVBWssXQViUGkEZthZBMJMYQdH3E0GOnxZBMa0cQRKvFUFqvRBBMpIWQeWdGkElwBVBYKUVQW6TGkFhFB1BRYMcQfTWG0GFdRdBzssXQTcAGkGzCBxBGsAXQSXRFUG+LRhBaSsXQVNXF0GvChhBQaIYQendEEGXHhJByBoRQUSeEUFNdhVBZC4ZQY7qGUGyMxpB88gZQRbiGEHJtBtBR7IVQdOfFkEgdBpBsDkXQSSjGkE4NhRB4WUWQfxKGkEdqhBBzBsTQUp4EUH7fhtBNgocQTxKGEFo3BpBE6UZQetYGkGNyBJBuIUVQQHUG0H1DhRB",
          "dtype": "f4"
         },
         "y": {
          "bdata": "qXy8QHIsrUADJsxA+mCoQKnRpkAZ1q1AK5vHQHLxpED+5MFAhBi+QOsJzECiDK5AoHCxQO1lpkAgh81Afd6tQEMtxEA/ea1AFP3LQK4NukDIA6VAUSWwQDGiqEDh5sJAmX+mQD5FqEBFFq9A8pK1QCauqUBVBK1AnY+tQDxfr0AB0aJAje+tQKCvyUCxNshAvFm3QKfErkC4E7lATHHHQHkRs0CauLxAR12jQNfVykB6B6ZA53SsQBJmpEB5JqRAc8ihQF4GrUBLEa1Af76vQDYTs0A707tA8KqxQAFnrUDNYaVASZylQGICxUDTfbZArB7DQOlgr0Ae86VAKPHLQJ3sokCxPaVAsoDLQPm2sUAvvK1A2UGsQLmUuECWPstAVpamQGL3q0BeK8tAfymvQIWmtkB4C8BAdf66QCH/rECDnslArKStQOEcvkCHgqZABkiuQDgkvEA4rqVA/pyvQGAtqkBiR69AOlPJQADTsEALcqNA+AuvQLLpvEDQvq1AnfmvQNieuEBkssVAzX3JQMoux0A4ZKxANdmuQMzoy0CJ9cVAt06tQGIWr0AOo69A1damQEtSp0Bh0a9AYS2wQNb1o0AjeaBAxC6kQEZcoEAwH6pAgyO4QLCiuECAFMFAWU63QNYvsECDzMpAtX6tQPQ3q0BhdblA+ZWtQGFcyECAP6VAfxCpQLTduEDpo6NA+mWlQG/vn0Ap4L9A70HHQLTAxUC998xAlgi2QAQGw0BhUadArCiwQHZiy0DJNapA",
          "dtype": "f4"
         }
        },
        {
         "hoverinfo": "text",
         "marker": {
          "opacity": 0.5,
          "size": 5
         },
         "mode": "markers+text",
         "name": "5_food_sustainable_production",
         "text": [
          "",
          "",
          "",
          "",
          "",
          "",
          "",
          "",
          "",
          "",
          "",
          "",
          "",
          "",
          "",
          "",
          "",
          "",
          "",
          "",
          "",
          "",
          "",
          "",
          "",
          "",
          "",
          "",
          "",
          "",
          "",
          "",
          "",
          "",
          "",
          "",
          "",
          "",
          "",
          "",
          "",
          "",
          "",
          "",
          "",
          "",
          "",
          "",
          "",
          "",
          "",
          "",
          "",
          "",
          "",
          "",
          "",
          "",
          "",
          "",
          "",
          "",
          "",
          "",
          "",
          "",
          "",
          "",
          "",
          "",
          "",
          "",
          "",
          "",
          "",
          "",
          "",
          "",
          "",
          "",
          "",
          "",
          "",
          "",
          "",
          "",
          "",
          "",
          "",
          "",
          "",
          "",
          "",
          "",
          "",
          "",
          "",
          "",
          "",
          "",
          "",
          "",
          "",
          "",
          "",
          ""
         ],
         "textfont": {
          "size": 12
         },
         "type": "scattergl",
         "x": {
          "bdata": "YLyvQPK4r0CQM69Ag1mwQETVq0BMprBAwOexQIasskBJ3q1ApAO4QGvxrECFRrhAVkGvQIx3s0Dsw6tAl0+0QPxMsUDVVLNAa/OxQBj4uUBUzq1AW/e0QPpcr0CijrFAEbezQPyEs0CX8rVAylSvQFEBukAoBbRAXgyyQIqAskDbOK5ALPazQPdmr0B+hbBAgGCsQBRQsECN861AQiC0QE3Pq0Bbuq5ABV6vQI7TrEDXx69A+aewQCdftEA347NABEi3QKp+r0AEubFA4QOtQAUUtkBnK69AnSSyQNHHsUBBhK9AveSvQLONr0Dnma5A5fKzQBaPrEAtdbVAvBGxQBxutUCcja1A+rOxQEc3r0Am8LNABN62QCKPrUCczLBATqiyQND3sEBOybpAdU6vQMo9rEBzQq1A2EixQJHXsECKIa1AJtOrQAUnsEDN4a5AeR6xQAtkrUDlLK9AzumwQHPJr0CzDrBAeg20QJbTrkDnWrZAo4+xQLTIrkDCuLdAkG2vQAdYsEBsBrJAHfGtQO5Cr0DWO65AWTyuQOm8q0A4+7NAn+ewQA==",
          "dtype": "f4"
         },
         "y": {
          "bdata": "bb7TQJasx0AHgMtArca+QEevvUDqCb1AmOPIQFrj00BRD79AKKLiQEfnvkDadM5Ab5XRQM9BxkCFeL1A3BTHQBAWyUCNQb9A1ErJQIfWyUB+kcBAmjfYQAI/ykCJa8lAgf/LQOb810DWE9VAnpC+QNKOyUD8JtRAuJTJQI6uyUBT2sNAPP65QG2uv0Dyt8hAQw/EQPjmzkD248BAg7vEQN9QvkB+edBA1fnNQPOovkCAIL9Azyi+QA1+xUCCftRAcErLQAX9v0BXndFAatu9QJUCv0DY/s1AP1DBQPwSyUAfSsdAM2fTQC8500DdbMpA4bbGQElRvUCn8tJAO1u9QBm5xUDzw79AIVS6QGwL0EDuXclAInbMQFbYwkBTZcxALC/RQLjWyEB8RMdAS4rKQMFkvUDyQ8dAymLHQBLUvUCr6L5Apsq8QCE6v0Bc1LlAM+fPQH8rzEAGFNFAg2/IQKaQ0UA5I9BA7H68QBkqwUBb1NdAqHrIQADNzECp0shAwRnHQBD9yUCDdc9ACSXHQJ5bzEAy5r9AmgPAQDQNvUAlir9A/wjIQA==",
          "dtype": "f4"
         }
        },
        {
         "hoverinfo": "text",
         "marker": {
          "opacity": 0.5,
          "size": 5
         },
         "mode": "markers+text",
         "name": "6_bone_tissue_pain",
         "text": [
          "",
          "",
          "",
          "",
          "",
          "",
          "",
          "",
          "",
          "",
          "",
          "",
          "",
          "",
          "",
          "",
          "",
          "",
          "",
          "",
          "",
          "",
          "",
          "",
          "",
          "",
          "",
          "",
          "",
          "",
          "",
          "",
          "",
          "",
          "",
          "",
          "",
          "",
          "",
          "",
          "",
          "",
          "",
          "",
          "",
          "",
          "",
          "",
          "",
          "",
          "",
          "",
          "",
          "",
          "",
          "",
          "",
          "",
          "",
          "",
          "",
          "",
          "",
          "",
          "",
          "",
          "",
          "",
          "",
          "",
          "",
          "",
          "",
          "",
          "",
          "",
          "",
          "",
          "",
          "",
          "",
          "",
          "",
          "",
          "",
          "",
          "",
          "",
          "",
          "",
          "",
          "",
          "",
          ""
         ],
         "textfont": {
          "size": 12
         },
         "type": "scattergl",
         "x": {
          "bdata": "nsUUQbk6FEFWbhVBQ0kUQZ0QEEG5fBRBKj4TQcWAD0FIYRRBFqoUQSN1EkH82RVBo8QTQboDFUH2xBJBQR0UQc+UE0HebhNBZu0TQb+3FEEdCxRBB7oUQeJxFEFiPBRBO8sUQURyFEFHMBVB0fcTQdUBFEFXmBFBS1MUQS5cFEF9whBBAGgQQeUYE0F0VBRBZXcUQX1HFUGyExRBKugVQSAwFEFJqxBBJOIUQVf0FkEnORRBmVgUQYq7FEFltRRBpNcUQW/SE0E5ZxFBECQUQTAHFUHhUBNBgQkRQUnAEkFUVhVBPYIUQUmcD0HWzBRBCWEVQSbfFEGN5RRBqZcVQVRFFUFrThRBnxwUQX5TFEH+WxRBr6ITQWMdFEG1mxRB9V8UQbxlFEFTZhVBGi4UQdeGFEHaLBRBwsgUQYxDFkFx8g9BK50UQTXTFEG0+RNBpbwUQXYGFEFpLxJBIK8UQSkeFUHQGRRB2b4UQe9GFEFH9BJBGXsUQQ==",
          "dtype": "f4"
         },
         "y": {
          "bdata": "1GiwQA9ZrkBJaMJAOMa0QPJCuUDdqLNA0Ju1QOtXuUCvJLRA2wKuQGTNtkAwjLtAxCqxQHg5vkBfZ7RANcWzQDqKtkAPgrVAtV67QDnTsED0QLRAVIOwQPYLuEC257dAy4iwQLw3tEC5UbpA0YO1QCTOuUBSnbhA9Wi1QBykuEDSWLlAmYu4QNYPuECpIbFA0LWtQElwwUAYcbdAjmm6QL7ht0B3abZAu0+wQG7ovUByPbJAuPe3QIG4sEBLyrFADaa3QP1GuEAgJLlAjuy3QH81t0C1NbZAOTO4QJZZuUAs07RAYTCzQIicukCiCrBAU4HCQKq8uUAef7FA6tS1QKwitkAdjK5AvwauQNdDskBTOrtA1hGzQKoNtECcArVAYIC3QPLsrUBZqsJAbKO4QPGqsUBql7VAe3G3QOlJvkC7OrlAD5GtQNobsEBQS7RAvHe2QA8etUDm/7dA3D+yQH1ys0A+y7JAFj2vQAReuUBL/7dAgwCuQA==",
          "dtype": "f4"
         }
        },
        {
         "hoverinfo": "text",
         "marker": {
          "opacity": 0.5,
          "size": 5
         },
         "mode": "markers+text",
         "name": "7_bacteria_antibiotics_bacterial",
         "text": [
          "",
          "",
          "",
          "",
          "",
          "",
          "",
          "",
          "",
          "",
          "",
          "",
          "",
          "",
          "",
          "",
          "",
          "",
          "",
          "",
          "",
          "",
          "",
          "",
          "",
          "",
          "",
          "",
          "",
          "",
          "",
          "",
          "",
          "",
          "",
          "",
          "",
          "",
          "",
          "",
          "",
          "",
          "",
          "",
          "",
          "",
          "",
          "",
          "",
          "",
          "",
          "",
          "",
          "",
          "",
          "",
          "",
          "",
          "",
          "",
          "",
          "",
          "",
          "",
          "",
          "",
          "",
          "",
          "",
          "",
          "",
          "",
          "",
          "",
          "",
          "",
          "",
          "",
          "",
          "",
          "",
          "",
          "",
          "",
          "",
          "",
          "",
          "",
          "",
          ""
         ],
         "textfont": {
          "size": 12
         },
         "type": "scattergl",
         "x": {
          "bdata": "tvXOQIKCw0DMEMdA6I3EQNjoxEAmu8tATuPFQEXaxkAlu8NAE6jJQC5pxEBE48RAI9TFQOqMxEBDRsVAuG/DQFlD0kDnqshAvlzHQAa1xUC4+sBALQfFQEc6zUC2C8hA8ofHQOaAxkAi8sJAEAHHQL6CxUA4EMZABjvFQKh6yUBQd8pA/qXJQMWSw0BMHM1AYQzIQCG0x0AUT8pAsk7CQOYMxkDb6cVA0ynOQJ9WxkD70sJABKfIQDCmyUAaO8JAbDfGQHhhx0C5/8RAyP3FQATxx0AftcZAN27GQBSgxUA/OsRAy8HFQIoWxUCfAMxAKb7GQINWwkAWEMdAeN3FQKQMyEDf+cVAWh/IQHK70kBy+sJASl/LQEo1ykAfWsRAX6zDQJFyxUAI4cRAPuzFQIdXzUDEtMRAWhXFQHAS0EBmtsdAhTHFQIE5zED+NMNArO/FQOoyxkCw2cZAUIbFQIIKxEDgucVA",
          "dtype": "f4"
         },
         "y": {
          "bdata": "h+YAQemF/0APqQRBqAsBQffBAUHT6/ZAXacCQZSK+UD2SQFBMLQBQdeTAEGFJgFBjscBQUST/ED+HQFBjw/9QEhQ/kDk6P9AyBwEQauM+0AvO/dA81wAQYZ8A0GbxgBBtcD3QIDEA0HO+PtACpoAQeLxAEESLwFBLT4AQWnxAEGLJgNB2ZYAQYs//UDEtAFBICgAQQEq/0DgOAFBpeX6QNQC/ECVpwRBVlMAQbZH+kC0NvxANXj5QJH3BEEw0vlAO/ACQeMLAkF2cfxAjVIFQSGFAEHl6QRBfQ0AQTy1AUEiQf5A0SQAQV0r/EBl7wBBMpD4QOMY+0Cmsv5AvMIEQUU+AUHUcgFBFt8CQfuv/UDqhPtAhi8BQWpK+kBaJ/tAx5D6QK4lBUFN4v1Aj6wAQftXAEGaWgBBMvkAQeWNA0FgmgFBOfEAQWUjAkHqwf9An+AEQRLvAUEADgRBxYMBQcxJAEEiaP1A",
          "dtype": "f4"
         }
        },
        {
         "hoverinfo": "text",
         "marker": {
          "opacity": 0.5,
          "size": 5
         },
         "mode": "markers+text",
         "name": "8_gut_ibd_microbiome",
         "text": [
          "",
          "",
          "",
          "",
          "",
          "",
          "",
          "",
          "",
          "",
          "",
          "",
          "",
          "",
          "",
          "",
          "",
          "",
          "",
          "",
          "",
          "",
          "",
          "",
          "",
          "",
          "",
          "",
          "",
          "",
          "",
          "",
          "",
          "",
          "",
          "",
          "",
          "",
          "",
          "",
          "",
          "",
          "",
          "",
          "",
          "",
          "",
          "",
          "",
          "",
          "",
          "",
          "",
          "",
          "",
          "",
          "",
          "",
          "",
          "",
          "",
          "",
          "",
          "",
          "",
          "",
          "",
          "",
          "",
          "",
          "",
          "",
          "",
          "",
          "",
          "",
          "",
          "",
          "",
          "",
          "",
          "",
          "",
          "",
          "",
          "",
          "",
          "",
          ""
         ],
         "textfont": {
          "size": 12
         },
         "type": "scattergl",
         "x": {
          "bdata": "jsvuQIoI7UD5duBABKjuQKCS50CN+epAT7/sQInf5EBAxuxAhA7tQJ0g4EACte1A7pDdQOLg6ECWp9tAfM7eQPzo60Btb+JAFFndQF0q4ECRb+lAVMXsQKtc6kCS2+xAPGzsQC9h3EDGJu5AuePsQJfg4kD2vulA6sjhQIiX8EBzhOlASh7wQDDo7EArmedAzYDuQAGx7EBNy91AiQPuQEjX8ED0Bd5AGjriQJde60B9Y+1A/UXeQAdy4kBHI+hAAknuQF176UDkL91A96nwQDkc3ECzb/BAdh7kQPQa70Df0/BAmB/gQCSE5kBp0eRAv5PoQFlR20BFGtxAz4XvQO2Z3kBobd1AjtfqQIig3UB5o9tAM0TrQIwz4kCdCO1AuQfdQFWn7UDNfvFA2SDmQAdj3UApEeJAohHrQG7s7ECemOxAo5LwQJfO60D3XeJA3+zrQA3T50AH9d1Aep7dQAIB30A=",
          "dtype": "f4"
         },
         "y": {
          "bdata": "B4vmQB9Y/EBkifRA/Rv5QGus9kAUrutAquDuQLFh5EABU+5A3K/3QOEv30Avb/BAwEfmQJKa8ECq8u1AkmHhQGe08EC54fNA6X3sQOPU5UDwmfFAQwfyQOa79kAu/OpAxwPsQEQh7UCwEe1AiJfuQGLS8UBCh/JAYLDvQJfJ5EC/GfhApujpQBLN7kDOKPZAJnDxQF5a6UCaNe9ALUD6QCmX40B6OOlAGELwQC/q+EDHSe9ATwjnQHGf40DptvZA4ibrQKKN8EBuCuxA5SrkQE3j60BeleVAV030QGKr70C0DehAlrzxQLQE70AqsvJAz0DqQNnR70CEn+tAxT/lQKnz6EDtHONAZxLvQJIY7UCwPPFA5wDyQL3x6UCVoe9AyJLvQFii7EDvGONAHePnQJKv4EAcLPFAX3XxQIon70BtOvhABsfkQCdE9kA82uFAZB/wQAc89UAIRepANdPsQHUC8kA=",
          "dtype": "f4"
         }
        },
        {
         "hoverinfo": "text",
         "marker": {
          "opacity": 0.5,
          "size": 5
         },
         "mode": "markers+text",
         "name": "9_plant_plants_crop",
         "text": [
          "",
          "",
          "",
          "",
          "",
          "",
          "",
          "",
          "",
          "",
          "",
          "",
          "",
          "",
          "",
          "",
          "",
          "",
          "",
          "",
          "",
          "",
          "",
          "",
          "",
          "",
          "",
          "",
          "",
          "",
          "",
          "",
          "",
          "",
          "",
          "",
          "",
          "",
          "",
          "",
          "",
          "",
          "",
          "",
          "",
          "",
          "",
          "",
          "",
          "",
          "",
          "",
          "",
          "",
          "",
          "",
          "",
          "",
          "",
          "",
          "",
          "",
          "",
          "",
          "",
          "",
          "",
          "",
          "",
          "",
          "",
          "",
          "",
          "",
          "",
          "",
          "",
          "",
          "",
          "",
          "",
          "",
          "",
          "",
          "",
          "",
          ""
         ],
         "textfont": {
          "size": 12
         },
         "type": "scattergl",
         "x": {
          "bdata": "08utQM1au0CVqr1AzIOyQCTdrEAebqxAjTezQOxorUBuX7xAG5qoQDDht0AudKhAQ227QMzNr0BR3qpA3d+sQBSDtUB+365A7/G3QLN5qkCnkahA6pasQG7KtEBSkqhAVWqwQJ0UtUDAHK1AoNiqQDmtqUDlg7NAb9SsQFWerEA8qrVA8i+1QC4PvkB2ObdAW1iyQNPLrECDwKpAdhKoQMtnr0CRtrpA4C+tQJWIrUD8pKhA0vG1QJXyr0CVubNAMtKrQFZWvUD2f7VAmIysQO4DrEDH4KpAutiqQOzMqECDu6xA4EqsQL2RqkAYNq5A9n6zQHZXqUAfVatAoQ+tQGJQr0BUD6tAzu68QLjor0BsV7BAlnupQHR7skCfhqxAq2OrQGC9tEBdeK9A3ROpQLR1r0AOu6hAfl21QK7ZtEDgp7tAhR+rQEbxrkAzI6lALyO3QNJhsUDPOalA",
          "dtype": "f4"
         },
         "y": {
          "bdata": "5FvuQHMd6UBAxelAmkfsQDnT4UAv/+1AMTjpQG4F70AR2ulAGrrjQJj+50CtVOJA1U3mQCJ950DHIOdAoJfuQDYq6UC+1OpAoorpQDjA5EAA2eNA5S7uQEaO6ECZcuNAKE7pQD/E5kAPl+5Adz7kQCXr4kC7H+pAVr3rQBTk7kDooetAZG3oQEBO70A9fu5A8yTlQLHt4UAG3uhAyYbjQLcG7EBf/+pAeX3lQByV60AyiuBAhg3pQGm87EBP0ulA7oznQGZ250AsnuhA9fLnQNaY5kDOB+hADtTlQPTl5UDN++tAcPfiQHGA5kB0xe1AOwzoQG7h5EB6VORArIzuQEnq6kCo5uNAmcPpQOcj7UBbPetAFQLmQPxi60Av9O1AH6TtQKGu50Ae9etAxkPmQHp06kBXluBAYvPnQPf950CLxOhAsCLgQMOV6UCpwORAOJXsQLJX6kBdxt9A",
          "dtype": "f4"
         }
        },
        {
         "hoverinfo": "text",
         "marker": {
          "opacity": 0.5,
          "size": 5
         },
         "mode": "markers+text",
         "name": "10_brain_epilepsy_stimulation",
         "text": [
          "",
          "",
          "",
          "",
          "",
          "",
          "",
          "",
          "",
          "",
          "",
          "",
          "",
          "",
          "",
          "",
          "",
          "",
          "",
          "",
          "",
          "",
          "",
          "",
          "",
          "",
          "",
          "",
          "",
          "",
          "",
          "",
          "",
          "",
          "",
          "",
          "",
          "",
          "",
          "",
          "",
          "",
          "",
          "",
          "",
          "",
          "",
          "",
          "",
          "",
          "",
          "",
          "",
          "",
          "",
          "",
          "",
          "",
          "",
          "",
          "",
          "",
          "",
          "",
          "",
          "",
          "",
          "",
          "",
          "",
          "",
          "",
          "",
          "",
          "",
          "",
          "",
          "",
          "",
          "",
          "",
          "",
          ""
         ],
         "textfont": {
          "size": 12
         },
         "type": "scattergl",
         "x": {
          "bdata": "4CIOQRg7F0ELBg9BRngQQQQwEEF7FRFBSQoXQTQ7F0F07BNBb0URQb0JFkH3RRBBxbcTQbaaDEFFsBZBPggRQZciEEETugxB3gkQQbztD0FWCA1BfkoSQVBZEkGW0RNBN9UPQQGIFkGn8RRBzCERQbP9FEEd1RBBsMYSQThYD0EVmw9Bz7IOQR4cF0EiZQ9BGT0TQVeGEUFuORRB0SkPQXM1EUGQlxFBzhsQQSbyD0HNWA9BeewWQfDzEEHv8w9Bz9APQe3YFEGuMBBB2G8WQYCKE0ET1BBBBKkMQWJ/EEFieRFB+8kMQcerE0EN7Q5B0Q0QQQs8EkFjwxBB0ZIRQfZvEUGjnBRBA7EQQUkCDUFolhNBE6kQQc5qEkENoxJBYTYXQWZ2DEGphRNBI9wMQYrMDEEwKRFBTAERQXi6D0F/ZhNBikgRQaTkE0E=",
          "dtype": "f4"
         },
         "y": {
          "bdata": "PyyMQFi7ikCjTYxAxHCPQCOmkEA7QZJA9xuLQBndikDUmYdALyWOQJs/ikBJ4o9AwvyIQCV1iUA1NopAXBCNQOX3jEBz4IhA5R6RQC52jEBZ5olAua+MQJ+1iUDXXYhANg+RQBo9ikCk0oxAcFKOQCuxikDG+I5AepuIQK7pj0BmiI5AzoSLQPEHi0AHcZJABLaLQAlej0AUoYtAYqaMQKTXkkCxTIpAwQCMQKFvkUCEYotAeL6JQJLdkUBTtotAXBuQQBWdiEArBo9Ax0OLQLx7iEBHfpFA9iiKQOGejkCyh5FAbL6JQBLviEBjhI1ADcuNQDKZiED13I5AEoeLQIeLkUCsQolAxyaSQNfcikDfColAOYiNQMVwk0DTLYpADyOLQI5CiUCaV4hAKCSLQKJsiEDTfopAx4OJQIY4jkBLlolANMSNQEb2iUA=",
          "dtype": "f4"
         }
        },
        {
         "hoverinfo": "text",
         "marker": {
          "opacity": 0.5,
          "size": 5
         },
         "mode": "markers+text",
         "name": "11_heart_patients_stroke",
         "text": [
          "",
          "",
          "",
          "",
          "",
          "",
          "",
          "",
          "",
          "",
          "",
          "",
          "",
          "",
          "",
          "",
          "",
          "",
          "",
          "",
          "",
          "",
          "",
          "",
          "",
          "",
          "",
          "",
          "",
          "",
          "",
          "",
          "",
          "",
          "",
          "",
          "",
          "",
          "",
          "",
          "",
          "",
          "",
          "",
          "",
          "",
          "",
          "",
          "",
          "",
          "",
          "",
          "",
          "",
          "",
          "",
          "",
          "",
          "",
          "",
          "",
          "",
          "",
          "",
          "",
          "",
          "",
          "",
          "",
          "",
          "",
          "",
          "",
          "",
          "",
          "",
          "",
          "",
          "",
          "",
          "",
          ""
         ],
         "textfont": {
          "size": 12
         },
         "type": "scattergl",
         "x": {
          "bdata": "nDQQQdh0EEGKhQxBX0kKQdhACEFcgw1BKpgTQT6KEkFzTQ1BJbQRQZJ5C0GWsQ9B5wMNQdIaEUGYlgxBn8gSQUbUEkEI9A5BTt4QQesxE0Gpzg9B+/kQQSF2D0FgdglBPEARQW+0D0HuYA1B2foPQfVgDkG8MBBBtT4SQahFEEEwWRNBLsgOQaFJEEE1cRBBnPMSQZW0CUGKVQ9BR2oPQde7CEETIQhBfqUSQX/5EUEfDxNBEmcPQfggE0HaIRFBAzIPQZxXD0EfXQdBghASQbYREEHBYQ5B5qsMQT8vEEHquBBBcRoSQR3ZD0HolAxBfTYMQYfIDkFsNBFB9DwQQf45EkFaBRJBcKQLQS9kEUGaUhFBMk8OQaQVCUFfkQxBzcsMQXVWEEEb9w9BB0UKQXj+DUF3ngxBY6MPQUq8D0HfdRBBSYAQQQ==",
          "dtype": "f4"
         },
         "y": {
          "bdata": "FUSkQKvKn0BCLZ5AbEqfQNVBoUBPxqFAc0SkQKWYokCdUqJAwrWlQIk0nkC336RA2ESXQANdmECqv6FAciaiQLUCokDWmKRAlw2iQCfYokAc455Am3mjQNhGoEA7LKFALamfQJ9YoUBojalArGSjQJjoqUBocJVA2W2mQCxqk0A7FqNAr1edQCMopEAa/ZNAQsqiQNd6n0DlTJNAj2ygQJJgo0BokJ5Ah+ShQAfoqEBvrqJA26SdQDylokC8QJ9AWrWfQEPKoEA7dJ5AXLuiQJbroECY359AHoyZQCWGokA5jKBAyGuhQKtPnkBxl59Ay1miQK4tl0Ctx5lA7F2fQJido0Bym6FA7rycQFcfnUDlc6BAPrihQKBYo0AmEZdAYrmkQPUZo0D85Z9AiS2hQGBGoUALJJ5ARfqgQGs+oEB7IKBAXfyTQA==",
          "dtype": "f4"
         }
        },
        {
         "hoverinfo": "text",
         "marker": {
          "opacity": 0.5,
          "size": 5
         },
         "mode": "markers+text",
         "name": "12_data_privacy_european",
         "text": [
          "",
          "",
          "",
          "",
          "",
          "",
          "",
          "",
          "",
          "",
          "",
          "",
          "",
          "",
          "",
          "",
          "",
          "",
          "",
          "",
          "",
          "",
          "",
          "",
          "",
          "",
          "",
          "",
          "",
          "",
          "",
          "",
          "",
          "",
          "",
          "",
          "",
          "",
          "",
          "",
          "",
          "",
          "",
          "",
          "",
          "",
          "",
          "",
          "",
          "",
          "",
          "",
          ""
         ],
         "textfont": {
          "size": 12
         },
         "type": "scattergl",
         "x": {
          "bdata": "cirvQEC7+0AK2OdAhhjnQLee60DvwfxAJ0X5QHY390B44vJAm8nuQJhx8UChKPZA7RfmQNad8EA5BOdAe7H2QHBW+kDwC/BAnkrnQIef+UCv8+1AmyX6QAg38EBXvPJARlD2QIC8+kB/zuxADf3oQHYM8EB0o+1Aqr/uQHVM+kBksutAUKPrQAbB9EDWO+pAzP/tQB9f9UB+3e9AzjrqQFKg7UCjs+1AyNbuQCwQ7UD7lftAZ04EQZGy9kDVbPFApVjxQHx7+kAtuu9AHRfwQPhL9UA=",
          "dtype": "f4"
         },
         "y": {
          "bdata": "kKypQBX6pEARX7JAdfWyQF+ztUA9yqJA31ujQI9DqEC+H6pAss26QJn0qUCv8aNAmEm0QGuoqEBWs7hAyvmrQAPPo0Bs8LJAhgKxQLWnpUD4h6tAT6uiQI88qEAKzKlA7YmjQDSzo0AwKLtA0vCwQNq2o0C+M6pAQ5KsQI8Co0DEl7RA+127QNfTsUDQw7dAUl29QP3Hq0AMM6hAhfS8QAkstkAgmbtAUcepQD+iu0AExqBA4kWdQOw7o0ATwqRAr8WpQDHtoEDIgKhAhjyoQJ+rsUA=",
          "dtype": "f4"
         }
        },
        {
         "hoverinfo": "text",
         "marker": {
          "opacity": 0.5,
          "size": 5
         },
         "mode": "markers+text",
         "name": "13_cardiac_heart_human",
         "text": [
          "",
          "",
          "",
          "",
          "",
          "",
          "",
          "",
          "",
          "",
          "",
          "",
          "",
          "",
          "",
          "",
          "",
          "",
          "",
          "",
          "",
          "",
          "",
          "",
          "",
          "",
          "",
          "",
          "",
          "",
          "",
          "",
          "",
          "",
          "",
          "",
          "",
          "",
          "",
          "",
          "",
          "",
          "",
          "",
          "",
          "",
          "",
          "",
          "",
          "",
          ""
         ],
         "textfont": {
          "size": 12
         },
         "type": "scattergl",
         "x": {
          "bdata": "aygbQTluGkEUTBlBgYsZQeA2GkGiFRpBzUIZQVuOGUHEnhlB0d8ZQZuHGUH3NRlB16YYQeveGkEQuxlBQtIYQU12GUEFQhlBGJYbQZyCG0G50RlBX1QaQR0QGUH7CRlBwJ8YQWBmGkGBuRlBH4kZQTFhG0FG1hlBPPwYQVyOGUGryBpBHS8ZQR0OGUHHMBxBXH8aQY99GUG35RlB7EQaQYh3GUGsbBpB0ogZQR3yGEH0VhpBmLEZQWfcGkHdRRpB7woaQZaPGUFbhhlB",
          "dtype": "f4"
         },
         "y": {
          "bdata": "w2i0QAZks0BXRq9AaRyvQBL7s0A4grFAn8KxQBomsEBCr7NAzcq0QMaItEA6O7BAZPatQHVAtEB/drVAc1uyQNisr0D0ga9AbmS2QNPntEBPSrBAGAOyQG5Zs0BaNrFApLexQHyYs0B7TbRA/n2zQAbXtEB1gbJAfduyQE+CskDlobNA8DS4QMm9rUBE07hAwVmzQLU3s0DGSLNAFky0QFxBskD7OrNAa1eyQAOwsUBT8rNAoTS1QN5TtEBW/7RA5RKzQFuEr0CRZq9A",
          "dtype": "f4"
         }
        },
        {
         "hoverinfo": "text",
         "marker": {
          "opacity": 0.5,
          "size": 5
         },
         "mode": "markers+text",
         "name": "14_liver_nafld_metabolic",
         "text": [
          "",
          "",
          "",
          "",
          "",
          "",
          "",
          "",
          "",
          "",
          "",
          "",
          "",
          "",
          "",
          "",
          "",
          "",
          "",
          "",
          "",
          "",
          "",
          "",
          "",
          "",
          "",
          "",
          "",
          "",
          "",
          "",
          "",
          "",
          "",
          "",
          "",
          "",
          "",
          "",
          "",
          "",
          "",
          "",
          "",
          "",
          "",
          ""
         ],
         "textfont": {
          "size": 12
         },
         "type": "scattergl",
         "x": {
          "bdata": "au0QQcyvEEFMeQ5BxRgSQdFwD0GLfxFBjnQPQaP3DkFoWgxBdkAQQUXuDkEQ7g5BK6kQQRjOD0FjrxRBebMQQSI6EEGRWw5BsNkOQfIoEEFUFg9BRcUTQfppD0EWaA9BwKEOQfB+DkEcyw5BXAcQQa8SD0Ew1A9BKDMQQaoKD0HrrRBBW0YPQcVHEEEafxBBS5kQQWKwDkFTCRBBXbIPQcYbD0FrHBBB8jYOQdycEUFLuw5BKewPQX4LEEH2KxBB",
          "dtype": "f4"
         },
         "y": {
          "bdata": "S37yQPcx8kBsge5AI/fkQGf87UCo+/NASNbzQGIm4EAh9fdAd7HrQCl83EAzUOBAz+rsQIIP7EBnJuRAuMbpQDUq6ECB9d5AKJnpQFl+5kAvEOhAumThQMJG5EC0++hAJFrrQIbj5kDCNuBAFgXoQO5e4UDAee5ALevnQBsS7kD3WOZAg+PtQFxV5EDl6/NA86HzQHWO20BGDe1A9k3oQIG14EDlUuxAvL/dQImP5UCL/t9Ac1TsQAx08ECBT+5A",
          "dtype": "f4"
         }
        },
        {
         "hoverinfo": "text",
         "marker": {
          "opacity": 0.5,
          "size": 5
         },
         "mode": "markers+text",
         "name": "15_neural_visual_brain",
         "text": [
          "",
          "",
          "",
          "",
          "",
          "",
          "",
          "",
          "",
          "",
          "",
          "",
          "",
          "",
          "",
          "",
          "",
          "",
          "",
          "",
          "",
          "",
          "",
          "",
          "",
          "",
          "",
          "",
          "",
          "",
          "",
          "",
          "",
          "",
          "",
          "",
          "",
          "",
          "",
          "",
          "",
          "",
          "",
          "",
          "",
          "",
          ""
         ],
         "textfont": {
          "size": 12
         },
         "type": "scattergl",
         "x": {
          "bdata": "SSwIQW9BCkG8XghBlKAIQbenCUH+/AdBrr4JQeRqCUEJQApByvQFQSqYCUE7DAxBlJ4IQbQSDEE5HghByBEEQRGoCkH0GwpBRrUCQe7PCUFJfAdBN8AIQcPcB0H7EgpBDQwIQcFqCEGCfwZB+AUFQT7cCUGyNgxBLkoGQRoZB0EgqgpB5EMKQSmBB0GxPghB/8kJQeD9CEHrMghBrbAJQe7WCUEM7QlBV3UIQQYzBkHjDQ1Bym4JQQ3TCEE=",
          "dtype": "f4"
         },
         "y": {
          "bdata": "+pqHQE2vgUAXq4NATwSEQJMDgkDkxYlAayKBQDvHgUBfYYFA/QWDQFEIgkBZioVAQNOGQHnehECyNYRAbgSDQNGwg0C7lIJA+9mEQLLZgkCb84VAuKOKQAhYhUC2OYJAr0yEQD1BgkDRNINABQ6HQKNJgkAB54RA5EaJQI3HgkAFJ4NAz5eBQKZiiUClFYRADJaBQE1UgkAMUIJAHfKBQD+9gUBsQYJAO5OCQDoOiUD1p4VA3iqCQLsxg0A=",
          "dtype": "f4"
         }
        },
        {
         "hoverinfo": "text",
         "marker": {
          "opacity": 0.5,
          "size": 5
         },
         "mode": "markers+text",
         "name": "16_diabetes_insulin_glucose",
         "text": [
          "",
          "",
          "",
          "",
          "",
          "",
          "",
          "",
          "",
          "",
          "",
          "",
          "",
          "",
          "",
          "",
          "",
          "",
          "",
          "",
          "",
          "",
          "",
          "",
          "",
          "",
          "",
          "",
          "",
          "",
          "",
          "",
          "",
          "",
          "",
          "",
          "",
          "",
          ""
         ],
         "textfont": {
          "size": 12
         },
         "type": "scattergl",
         "x": {
          "bdata": "VuAIQYWlB0EcNwZBQycGQcJYCkGz3ghBCFgKQdLBB0EAzwVBNoMGQWMFCkHWZQhBTsAGQeK2BUH0pAdBPcwHQT5DBkG14QZBXv4HQWuKCkG68wdBMEMIQRaDB0GOgQlB8bYHQdfMB0FI7wZBZrsGQSGjCUGJagpB/wAIQcDLB0G/FAdBGwYJQVkkCUFULwhBrK4JQUKVCUFtvQlB",
          "dtype": "f4"
         },
         "y": {
          "bdata": "Xtq1QMsptUAx/rZAag23QOiAtkA/dLZAkG+2QL/Wt0BNdrhAgeO4QAahtkCGK7ZAFbi4QByKt0Das7RAVCO0QO9ut0D+vbZARIWzQK7AuECGSbNADPi2QMlCtUA52LZAvle0QK1TtEBA6LdAE3S3QJTvtkBI57dArEG1QMR6tEC7MLlA7Zq2QGoxt0Dgw7JAsM62QOPctkDK0bZA",
          "dtype": "f4"
         }
        },
        {
         "hoverinfo": "text",
         "marker": {
          "opacity": 0.5,
          "size": 5
         },
         "mode": "markers+text",
         "name": "17_synthesis_reactions_molecules",
         "text": [
          "",
          "",
          "",
          "",
          "",
          "",
          "",
          "",
          "",
          "",
          "",
          "",
          "",
          "",
          "",
          "",
          "",
          "",
          "",
          "",
          "",
          "",
          "",
          "",
          "",
          "",
          "",
          "",
          "",
          "",
          "",
          "",
          "",
          "",
          "",
          "",
          "",
          "",
          ""
         ],
         "textfont": {
          "size": 12
         },
         "type": "scattergl",
         "x": {
          "bdata": "7A/ZQCVb2UBlD9tAY8fZQESj2EAuMNlAQP/aQCai10CmJ9xAm9zZQAXK40Aa+NhAARXaQKXY2UDvxdlATYvbQJzF2kDgYN9ALL7aQFtY3kDQldlAbH/aQAIO2EDcKdlA7arYQGM+2ECEFdpA9+rXQHFA3EA1CdpAB3TZQF4j2UA2bNlAaVXmQICR10DVqtpANzPaQN3t2UCEHt9A",
          "dtype": "f4"
         },
         "y": {
          "bdata": "6THQQE3sz0BIcM5A4SjPQApRz0B0SNFASDnMQPad0kCvCtBA9G3RQIftzEDsos9AUlnRQNx0z0DS989AMmXQQEBV0EC8rM1AKF7PQNMP0UDV8s9AMabQQFJ60UCqa9BAEkDRQJtV0ECP6M9AhSPOQGN10UBqB9BAyODRQNxN0EAPr9BAp/TKQMaF0ECTns9A+HTPQI9/z0D+StFA",
          "dtype": "f4"
         }
        },
        {
         "hoverinfo": "text",
         "marker": {
          "opacity": 0.5,
          "size": 5
         },
         "mode": "markers+text",
         "name": "18_pandemic_preparedness_biodiversity",
         "text": [
          "",
          "",
          "",
          "",
          "",
          "",
          "",
          "",
          "",
          "",
          "",
          "",
          "",
          "",
          "",
          "",
          "",
          "",
          "",
          "",
          "",
          "",
          "",
          "",
          "",
          "",
          "",
          "",
          "",
          "",
          "",
          "",
          "",
          "",
          ""
         ],
         "textfont": {
          "size": 12
         },
         "type": "scattergl",
         "x": {
          "bdata": "/Xy3QFrmt0Ca6bhAsPK4QJgptkBRNLpAZl+1QNePvkBIV7tA3Mu2QGkCukDzM7xAJgW5QDLKtUBirrpAs3i6QMu/ukCwnbZAlVK2QL3pu0AnJLZAN3q6QLJ7tUB7j7ZAwvK+QNmOtUD+WbZAg0W6QI/6ukBturhAHBa7QATevEAZ5rlACzy2QG1ZukA=",
          "dtype": "f4"
         },
         "y": {
          "bdata": "ceLoQBBW5kBHTe9AkUThQNDx5kBC3+lAfe/nQL5W8EAvmupAwMTnQKE75UD1GO5Ay2TwQIGt50DSCOpAJhvqQPgJ6kBdoe1A5vPmQO0N7UAkI+dA9UDqQE8E50COc+pAzav2QGua6UCjYOdA1/3uQKiF60D1xvFARH3qQDWC7kASC+pAnzbnQPo/6UA=",
          "dtype": "f4"
         }
        },
        {
         "hoverinfo": "text",
         "marker": {
          "opacity": 0.5,
          "size": 5
         },
         "mode": "markers+text",
         "name": "19_cancer_care_prevention",
         "text": [
          "",
          "",
          "",
          "",
          "",
          "",
          "",
          "",
          "",
          "",
          "",
          "",
          "",
          "",
          "",
          "",
          "",
          "",
          "",
          "",
          "",
          "",
          "",
          "",
          "",
          "",
          "",
          "",
          "",
          "",
          "",
          "",
          "",
          ""
         ],
         "textfont": {
          "size": 12
         },
         "type": "scattergl",
         "x": {
          "bdata": "Dsn/QAdV/UCxswBBsyACQcWWAEFhRgFB5t7+QJEwAEEpKABBJnwAQUkhAUEJUgBBfZYHQSG6/0Aj4QJB6B4AQV5vAkE7Mv9A5zz/QDtvAEFWMABB9boAQRNrA0GlXf9A+qH+QIfZ/0Ck7ABBSvz+QGkNAUHuhQBBzkUAQYDn/0B0TQBBOXT/QA==",
          "dtype": "f4"
         },
         "y": {
          "bdata": "FiuyQI7TvUChQbdAEum7QI4Qt0DsbLtAfLi7QH5wuUDft7NAcDy6QGVbuECt57lAcSrEQLogs0DUUb5AG9m0QF/OvEB1XbtA9payQDV5vkCzhbhAuGO5QHfZvkA3sLFAIY+7QHmKu0Dk7bpA4027QAqvuEARFrdALeq2QMVeukCJaLRAzpi7QA==",
          "dtype": "f4"
         }
        },
        {
         "hoverinfo": "text",
         "marker": {
          "opacity": 0.5,
          "size": 5
         },
         "mode": "markers+text",
         "name": "20_eye_retinal_ocular",
         "text": [
          "",
          "",
          "",
          "",
          "",
          "",
          "",
          "",
          "",
          "",
          "",
          "",
          "",
          "",
          "",
          "",
          "",
          "",
          "",
          "",
          "",
          "",
          "",
          "",
          "",
          "",
          "",
          "",
          "",
          ""
         ],
         "textfont": {
          "size": 12
         },
         "type": "scattergl",
         "x": {
          "bdata": "haoOQaOrDkF9eQ5BQhsPQVxfDkG04w5BtlUOQV5eDkGRvw5B3oUOQU11DkFGug5BBWAOQeh+DkHEpQ5Bjl4OQRmcDkFbVA5BMDkOQRk9DkEmwA5BqpgOQQSADkF87A5BHo8OQeRFDkGgvw5BGZEOQRF0DkEMgQ5B",
          "dtype": "f4"
         },
         "y": {
          "bdata": "GCeKQArwikDZTI9AmSuLQF4jjkBkBIxAeMyPQIPUkEDwloxAkOaMQKABj0B4joxATSaPQPADjUD+1IxARkWOQJ7QjEBrBo9AYBaNQEUxjkAn/45AwTqMQOAhjUDj2ItAnTOLQMyjj0BJjIxA6YKMQEPzjUDFXI9A",
          "dtype": "f4"
         }
        },
        {
         "hoverinfo": "text",
         "marker": {
          "opacity": 0.5,
          "size": 5
         },
         "mode": "markers+text",
         "name": "21_kidney_ckd_renal",
         "text": [
          "",
          "",
          "",
          "",
          "",
          "",
          "",
          "",
          "",
          "",
          "",
          "",
          "",
          "",
          "",
          "",
          "",
          "",
          "",
          "",
          "",
          "",
          "",
          "",
          "",
          ""
         ],
         "textfont": {
          "size": 12
         },
         "type": "scattergl",
         "x": {
          "bdata": "tgYaQcSFGUFiAxhBVu0ZQe1hGUFRkRlBP0QZQT9fGUFngxlBRGoZQamSGUHZghlBnJEZQQ2zGEE6nhlB6oIZQY4xGUFhsBhBmIsZQed0GUEyqhlBlncZQeN/FUFYnBlBa4YZQdk6GUE=",
          "dtype": "f4"
         },
         "y": {
          "bdata": "06+yQHXsskDvvrFATBu0QKHNskBDG7NA0nazQBF6skCZxrJAk6uyQOPJskBRw7JA5eOyQP1qsUDtvbVA1CKzQMaBskA5t7FAWduyQOTCskCzHbNA8MWyQAmcsECl/rJAnj6zQKsnskA=",
          "dtype": "f4"
         }
        },
        {
         "hoverinfo": "text",
         "marker": {
          "opacity": 0.5,
          "size": 5
         },
         "mode": "markers+text",
         "name": "22_pharmaceutical_sustainable_pharmaceuticals",
         "text": [
          "",
          "",
          "",
          "",
          "",
          "",
          "",
          "",
          "",
          "",
          "",
          "",
          "",
          "",
          "",
          "",
          "",
          "",
          "",
          "",
          "",
          "",
          "",
          "",
          ""
         ],
         "textfont": {
          "size": 12
         },
         "type": "scattergl",
         "x": {
          "bdata": "MdHXQHI0zEAbFtRAuUvVQP8i3kAIk9xAQtzWQDcs0kD6v9FAHb/MQIt+2ECxbddAqYDaQAfoy0C9sNRAgRbTQMgg3kBrBNJAzTzUQHQC00Bvm8tA92DSQGn1y0DhSstABSbTQA==",
          "dtype": "f4"
         },
         "y": {
          "bdata": "az7QQPr81EDzudBAaZnTQBNwzkCvJM9APH7PQHLq0UDVlNJAnDDUQNj60kAkqNBAvRDPQGF+1UAcFcJAZBXRQFW+zUBvzNFAmSnRQKt10UBeLNRAmD/TQLju1EBuL9VAZ3zRQA==",
          "dtype": "f4"
         }
        }
       ],
       "layout": {
        "annotations": [
         {
          "showarrow": false,
          "text": "D1",
          "x": 4.414118766784668,
          "y": 6.955172860622406,
          "yshift": 10
         },
         {
          "showarrow": false,
          "text": "D2",
          "x": 8.285939931869507,
          "xshift": 10,
          "y": 10.480212020874024
         }
        ],
        "height": 750,
        "shapes": [
         {
          "line": {
           "color": "#CFD8DC",
           "width": 2
          },
          "type": "line",
          "x0": 8.285939931869507,
          "x1": 8.285939931869507,
          "y0": 3.4301337003707886,
          "y1": 10.480212020874024
         },
         {
          "line": {
           "color": "#9E9E9E",
           "width": 2
          },
          "type": "line",
          "x0": 4.414118766784668,
          "x1": 12.157761096954346,
          "y0": 6.955172860622406,
          "y1": 6.955172860622406
         }
        ],
        "template": {
         "data": {
          "bar": [
           {
            "error_x": {
             "color": "rgb(36,36,36)"
            },
            "error_y": {
             "color": "rgb(36,36,36)"
            },
            "marker": {
             "line": {
              "color": "white",
              "width": 0.5
             },
             "pattern": {
              "fillmode": "overlay",
              "size": 10,
              "solidity": 0.2
             }
            },
            "type": "bar"
           }
          ],
          "barpolar": [
           {
            "marker": {
             "line": {
              "color": "white",
              "width": 0.5
             },
             "pattern": {
              "fillmode": "overlay",
              "size": 10,
              "solidity": 0.2
             }
            },
            "type": "barpolar"
           }
          ],
          "carpet": [
           {
            "aaxis": {
             "endlinecolor": "rgb(36,36,36)",
             "gridcolor": "white",
             "linecolor": "white",
             "minorgridcolor": "white",
             "startlinecolor": "rgb(36,36,36)"
            },
            "baxis": {
             "endlinecolor": "rgb(36,36,36)",
             "gridcolor": "white",
             "linecolor": "white",
             "minorgridcolor": "white",
             "startlinecolor": "rgb(36,36,36)"
            },
            "type": "carpet"
           }
          ],
          "choropleth": [
           {
            "colorbar": {
             "outlinewidth": 1,
             "tickcolor": "rgb(36,36,36)",
             "ticks": "outside"
            },
            "type": "choropleth"
           }
          ],
          "contour": [
           {
            "colorbar": {
             "outlinewidth": 1,
             "tickcolor": "rgb(36,36,36)",
             "ticks": "outside"
            },
            "colorscale": [
             [
              0,
              "#440154"
             ],
             [
              0.1111111111111111,
              "#482878"
             ],
             [
              0.2222222222222222,
              "#3e4989"
             ],
             [
              0.3333333333333333,
              "#31688e"
             ],
             [
              0.4444444444444444,
              "#26828e"
             ],
             [
              0.5555555555555556,
              "#1f9e89"
             ],
             [
              0.6666666666666666,
              "#35b779"
             ],
             [
              0.7777777777777778,
              "#6ece58"
             ],
             [
              0.8888888888888888,
              "#b5de2b"
             ],
             [
              1,
              "#fde725"
             ]
            ],
            "type": "contour"
           }
          ],
          "contourcarpet": [
           {
            "colorbar": {
             "outlinewidth": 1,
             "tickcolor": "rgb(36,36,36)",
             "ticks": "outside"
            },
            "type": "contourcarpet"
           }
          ],
          "heatmap": [
           {
            "colorbar": {
             "outlinewidth": 1,
             "tickcolor": "rgb(36,36,36)",
             "ticks": "outside"
            },
            "colorscale": [
             [
              0,
              "#440154"
             ],
             [
              0.1111111111111111,
              "#482878"
             ],
             [
              0.2222222222222222,
              "#3e4989"
             ],
             [
              0.3333333333333333,
              "#31688e"
             ],
             [
              0.4444444444444444,
              "#26828e"
             ],
             [
              0.5555555555555556,
              "#1f9e89"
             ],
             [
              0.6666666666666666,
              "#35b779"
             ],
             [
              0.7777777777777778,
              "#6ece58"
             ],
             [
              0.8888888888888888,
              "#b5de2b"
             ],
             [
              1,
              "#fde725"
             ]
            ],
            "type": "heatmap"
           }
          ],
          "histogram": [
           {
            "marker": {
             "line": {
              "color": "white",
              "width": 0.6
             }
            },
            "type": "histogram"
           }
          ],
          "histogram2d": [
           {
            "colorbar": {
             "outlinewidth": 1,
             "tickcolor": "rgb(36,36,36)",
             "ticks": "outside"
            },
            "colorscale": [
             [
              0,
              "#440154"
             ],
             [
              0.1111111111111111,
              "#482878"
             ],
             [
              0.2222222222222222,
              "#3e4989"
             ],
             [
              0.3333333333333333,
              "#31688e"
             ],
             [
              0.4444444444444444,
              "#26828e"
             ],
             [
              0.5555555555555556,
              "#1f9e89"
             ],
             [
              0.6666666666666666,
              "#35b779"
             ],
             [
              0.7777777777777778,
              "#6ece58"
             ],
             [
              0.8888888888888888,
              "#b5de2b"
             ],
             [
              1,
              "#fde725"
             ]
            ],
            "type": "histogram2d"
           }
          ],
          "histogram2dcontour": [
           {
            "colorbar": {
             "outlinewidth": 1,
             "tickcolor": "rgb(36,36,36)",
             "ticks": "outside"
            },
            "colorscale": [
             [
              0,
              "#440154"
             ],
             [
              0.1111111111111111,
              "#482878"
             ],
             [
              0.2222222222222222,
              "#3e4989"
             ],
             [
              0.3333333333333333,
              "#31688e"
             ],
             [
              0.4444444444444444,
              "#26828e"
             ],
             [
              0.5555555555555556,
              "#1f9e89"
             ],
             [
              0.6666666666666666,
              "#35b779"
             ],
             [
              0.7777777777777778,
              "#6ece58"
             ],
             [
              0.8888888888888888,
              "#b5de2b"
             ],
             [
              1,
              "#fde725"
             ]
            ],
            "type": "histogram2dcontour"
           }
          ],
          "mesh3d": [
           {
            "colorbar": {
             "outlinewidth": 1,
             "tickcolor": "rgb(36,36,36)",
             "ticks": "outside"
            },
            "type": "mesh3d"
           }
          ],
          "parcoords": [
           {
            "line": {
             "colorbar": {
              "outlinewidth": 1,
              "tickcolor": "rgb(36,36,36)",
              "ticks": "outside"
             }
            },
            "type": "parcoords"
           }
          ],
          "pie": [
           {
            "automargin": true,
            "type": "pie"
           }
          ],
          "scatter": [
           {
            "fillpattern": {
             "fillmode": "overlay",
             "size": 10,
             "solidity": 0.2
            },
            "type": "scatter"
           }
          ],
          "scatter3d": [
           {
            "line": {
             "colorbar": {
              "outlinewidth": 1,
              "tickcolor": "rgb(36,36,36)",
              "ticks": "outside"
             }
            },
            "marker": {
             "colorbar": {
              "outlinewidth": 1,
              "tickcolor": "rgb(36,36,36)",
              "ticks": "outside"
             }
            },
            "type": "scatter3d"
           }
          ],
          "scattercarpet": [
           {
            "marker": {
             "colorbar": {
              "outlinewidth": 1,
              "tickcolor": "rgb(36,36,36)",
              "ticks": "outside"
             }
            },
            "type": "scattercarpet"
           }
          ],
          "scattergeo": [
           {
            "marker": {
             "colorbar": {
              "outlinewidth": 1,
              "tickcolor": "rgb(36,36,36)",
              "ticks": "outside"
             }
            },
            "type": "scattergeo"
           }
          ],
          "scattergl": [
           {
            "marker": {
             "colorbar": {
              "outlinewidth": 1,
              "tickcolor": "rgb(36,36,36)",
              "ticks": "outside"
             }
            },
            "type": "scattergl"
           }
          ],
          "scattermap": [
           {
            "marker": {
             "colorbar": {
              "outlinewidth": 1,
              "tickcolor": "rgb(36,36,36)",
              "ticks": "outside"
             }
            },
            "type": "scattermap"
           }
          ],
          "scattermapbox": [
           {
            "marker": {
             "colorbar": {
              "outlinewidth": 1,
              "tickcolor": "rgb(36,36,36)",
              "ticks": "outside"
             }
            },
            "type": "scattermapbox"
           }
          ],
          "scatterpolar": [
           {
            "marker": {
             "colorbar": {
              "outlinewidth": 1,
              "tickcolor": "rgb(36,36,36)",
              "ticks": "outside"
             }
            },
            "type": "scatterpolar"
           }
          ],
          "scatterpolargl": [
           {
            "marker": {
             "colorbar": {
              "outlinewidth": 1,
              "tickcolor": "rgb(36,36,36)",
              "ticks": "outside"
             }
            },
            "type": "scatterpolargl"
           }
          ],
          "scatterternary": [
           {
            "marker": {
             "colorbar": {
              "outlinewidth": 1,
              "tickcolor": "rgb(36,36,36)",
              "ticks": "outside"
             }
            },
            "type": "scatterternary"
           }
          ],
          "surface": [
           {
            "colorbar": {
             "outlinewidth": 1,
             "tickcolor": "rgb(36,36,36)",
             "ticks": "outside"
            },
            "colorscale": [
             [
              0,
              "#440154"
             ],
             [
              0.1111111111111111,
              "#482878"
             ],
             [
              0.2222222222222222,
              "#3e4989"
             ],
             [
              0.3333333333333333,
              "#31688e"
             ],
             [
              0.4444444444444444,
              "#26828e"
             ],
             [
              0.5555555555555556,
              "#1f9e89"
             ],
             [
              0.6666666666666666,
              "#35b779"
             ],
             [
              0.7777777777777778,
              "#6ece58"
             ],
             [
              0.8888888888888888,
              "#b5de2b"
             ],
             [
              1,
              "#fde725"
             ]
            ],
            "type": "surface"
           }
          ],
          "table": [
           {
            "cells": {
             "fill": {
              "color": "rgb(237,237,237)"
             },
             "line": {
              "color": "white"
             }
            },
            "header": {
             "fill": {
              "color": "rgb(217,217,217)"
             },
             "line": {
              "color": "white"
             }
            },
            "type": "table"
           }
          ]
         },
         "layout": {
          "annotationdefaults": {
           "arrowhead": 0,
           "arrowwidth": 1
          },
          "autotypenumbers": "strict",
          "coloraxis": {
           "colorbar": {
            "outlinewidth": 1,
            "tickcolor": "rgb(36,36,36)",
            "ticks": "outside"
           }
          },
          "colorscale": {
           "diverging": [
            [
             0,
             "rgb(103,0,31)"
            ],
            [
             0.1,
             "rgb(178,24,43)"
            ],
            [
             0.2,
             "rgb(214,96,77)"
            ],
            [
             0.3,
             "rgb(244,165,130)"
            ],
            [
             0.4,
             "rgb(253,219,199)"
            ],
            [
             0.5,
             "rgb(247,247,247)"
            ],
            [
             0.6,
             "rgb(209,229,240)"
            ],
            [
             0.7,
             "rgb(146,197,222)"
            ],
            [
             0.8,
             "rgb(67,147,195)"
            ],
            [
             0.9,
             "rgb(33,102,172)"
            ],
            [
             1,
             "rgb(5,48,97)"
            ]
           ],
           "sequential": [
            [
             0,
             "#440154"
            ],
            [
             0.1111111111111111,
             "#482878"
            ],
            [
             0.2222222222222222,
             "#3e4989"
            ],
            [
             0.3333333333333333,
             "#31688e"
            ],
            [
             0.4444444444444444,
             "#26828e"
            ],
            [
             0.5555555555555556,
             "#1f9e89"
            ],
            [
             0.6666666666666666,
             "#35b779"
            ],
            [
             0.7777777777777778,
             "#6ece58"
            ],
            [
             0.8888888888888888,
             "#b5de2b"
            ],
            [
             1,
             "#fde725"
            ]
           ],
           "sequentialminus": [
            [
             0,
             "#440154"
            ],
            [
             0.1111111111111111,
             "#482878"
            ],
            [
             0.2222222222222222,
             "#3e4989"
            ],
            [
             0.3333333333333333,
             "#31688e"
            ],
            [
             0.4444444444444444,
             "#26828e"
            ],
            [
             0.5555555555555556,
             "#1f9e89"
            ],
            [
             0.6666666666666666,
             "#35b779"
            ],
            [
             0.7777777777777778,
             "#6ece58"
            ],
            [
             0.8888888888888888,
             "#b5de2b"
            ],
            [
             1,
             "#fde725"
            ]
           ]
          },
          "colorway": [
           "#1F77B4",
           "#FF7F0E",
           "#2CA02C",
           "#D62728",
           "#9467BD",
           "#8C564B",
           "#E377C2",
           "#7F7F7F",
           "#BCBD22",
           "#17BECF"
          ],
          "font": {
           "color": "rgb(36,36,36)"
          },
          "geo": {
           "bgcolor": "white",
           "lakecolor": "white",
           "landcolor": "white",
           "showlakes": true,
           "showland": true,
           "subunitcolor": "white"
          },
          "hoverlabel": {
           "align": "left"
          },
          "hovermode": "closest",
          "mapbox": {
           "style": "light"
          },
          "paper_bgcolor": "white",
          "plot_bgcolor": "white",
          "polar": {
           "angularaxis": {
            "gridcolor": "rgb(232,232,232)",
            "linecolor": "rgb(36,36,36)",
            "showgrid": false,
            "showline": true,
            "ticks": "outside"
           },
           "bgcolor": "white",
           "radialaxis": {
            "gridcolor": "rgb(232,232,232)",
            "linecolor": "rgb(36,36,36)",
            "showgrid": false,
            "showline": true,
            "ticks": "outside"
           }
          },
          "scene": {
           "xaxis": {
            "backgroundcolor": "white",
            "gridcolor": "rgb(232,232,232)",
            "gridwidth": 2,
            "linecolor": "rgb(36,36,36)",
            "showbackground": true,
            "showgrid": false,
            "showline": true,
            "ticks": "outside",
            "zeroline": false,
            "zerolinecolor": "rgb(36,36,36)"
           },
           "yaxis": {
            "backgroundcolor": "white",
            "gridcolor": "rgb(232,232,232)",
            "gridwidth": 2,
            "linecolor": "rgb(36,36,36)",
            "showbackground": true,
            "showgrid": false,
            "showline": true,
            "ticks": "outside",
            "zeroline": false,
            "zerolinecolor": "rgb(36,36,36)"
           },
           "zaxis": {
            "backgroundcolor": "white",
            "gridcolor": "rgb(232,232,232)",
            "gridwidth": 2,
            "linecolor": "rgb(36,36,36)",
            "showbackground": true,
            "showgrid": false,
            "showline": true,
            "ticks": "outside",
            "zeroline": false,
            "zerolinecolor": "rgb(36,36,36)"
           }
          },
          "shapedefaults": {
           "fillcolor": "black",
           "line": {
            "width": 0
           },
           "opacity": 0.3
          },
          "ternary": {
           "aaxis": {
            "gridcolor": "rgb(232,232,232)",
            "linecolor": "rgb(36,36,36)",
            "showgrid": false,
            "showline": true,
            "ticks": "outside"
           },
           "baxis": {
            "gridcolor": "rgb(232,232,232)",
            "linecolor": "rgb(36,36,36)",
            "showgrid": false,
            "showline": true,
            "ticks": "outside"
           },
           "bgcolor": "white",
           "caxis": {
            "gridcolor": "rgb(232,232,232)",
            "linecolor": "rgb(36,36,36)",
            "showgrid": false,
            "showline": true,
            "ticks": "outside"
           }
          },
          "title": {
           "x": 0.05
          },
          "xaxis": {
           "automargin": true,
           "gridcolor": "rgb(232,232,232)",
           "linecolor": "rgb(36,36,36)",
           "showgrid": false,
           "showline": true,
           "ticks": "outside",
           "title": {
            "standoff": 15
           },
           "zeroline": false,
           "zerolinecolor": "rgb(36,36,36)"
          },
          "yaxis": {
           "automargin": true,
           "gridcolor": "rgb(232,232,232)",
           "linecolor": "rgb(36,36,36)",
           "showgrid": false,
           "showline": true,
           "ticks": "outside",
           "title": {
            "standoff": 15
           },
           "zeroline": false,
           "zerolinecolor": "rgb(36,36,36)"
          }
         }
        },
        "title": {
         "font": {
          "color": "Black",
          "size": 22
         },
         "text": "<b>Documents and Topics</b>",
         "x": 0.5,
         "xanchor": "center",
         "yanchor": "top"
        },
        "width": 1200,
        "xaxis": {
         "visible": false
        },
        "yaxis": {
         "visible": false
        }
       }
      }
     },
     "metadata": {},
     "output_type": "display_data"
    }
   ],
   "source": [
    "topic_model.visualize_documents(\n",
    "    text,\n",
    "    reduced_embeddings=reduced_embeddings,\n",
    "    hide_document_hover=True,\n",
    "    hide_annotations=True,\n",
    ")\n"
   ]
  },
  {
   "cell_type": "code",
   "execution_count": 29,
   "id": "baa95788",
   "metadata": {},
   "outputs": [
    {
     "name": "stderr",
     "output_type": "stream",
     "text": [
      "2025-05-26 07:12:32,572 - BERTopic - WARNING: Using a custom list of topic assignments may lead to errors if topic reduction techniques are used afterwards. Make sure that manually assigning topics is the last step in the pipeline.Note that topic embeddings will also be created through weightedc-TF-IDF embeddings instead of centroid embeddings.\n"
     ]
    }
   ],
   "source": [
    "new_topics = topic_model.reduce_outliers(\n",
    "    text, topics, strategy=\"c-tf-idf\", threshold=0.2\n",
    ")\n",
    "\n",
    "topic_model.update_topics(text, topics=new_topics)\n"
   ]
  },
  {
   "cell_type": "code",
   "execution_count": 30,
   "id": "2b21f4a7",
   "metadata": {},
   "outputs": [
    {
     "data": {
      "text/html": [
       "<div>\n",
       "<style scoped>\n",
       "    .dataframe tbody tr th:only-of-type {\n",
       "        vertical-align: middle;\n",
       "    }\n",
       "\n",
       "    .dataframe tbody tr th {\n",
       "        vertical-align: top;\n",
       "    }\n",
       "\n",
       "    .dataframe thead th {\n",
       "        text-align: right;\n",
       "    }\n",
       "</style>\n",
       "<table border=\"1\" class=\"dataframe\">\n",
       "  <thead>\n",
       "    <tr style=\"text-align: right;\">\n",
       "      <th></th>\n",
       "      <th>Topic</th>\n",
       "      <th>Count</th>\n",
       "      <th>Name</th>\n",
       "      <th>Representation</th>\n",
       "      <th>KeyBERT</th>\n",
       "      <th>MMR</th>\n",
       "      <th>POS</th>\n",
       "      <th>Representative_Docs</th>\n",
       "    </tr>\n",
       "  </thead>\n",
       "  <tbody>\n",
       "    <tr>\n",
       "      <th>0</th>\n",
       "      <td>-1</td>\n",
       "      <td>96</td>\n",
       "      <td>-1_and_the_of_to</td>\n",
       "      <td>[and, the, of, to, in, for, is, will, by, with]</td>\n",
       "      <td>[ai, brain, approaches, clinical, patients, ai...</td>\n",
       "      <td>[new, data, brain, disease, develop, clinical,...</td>\n",
       "      <td>[new, data, brain, development, human, high, d...</td>\n",
       "      <td>[Virtual Brain Twin for personalised treatment...</td>\n",
       "    </tr>\n",
       "    <tr>\n",
       "      <th>1</th>\n",
       "      <td>0</td>\n",
       "      <td>881</td>\n",
       "      <td>0_the_of_to_and</td>\n",
       "      <td>[the, of, to, and, in, cancer, cell, will, cel...</td>\n",
       "      <td>[cancer cells, immunotherapy, tumours, tumors,...</td>\n",
       "      <td>[cancer, cell, cells, tumor, tumour, therapies...</td>\n",
       "      <td>[cancer, cell, cells, tumor, therapy, immune, ...</td>\n",
       "      <td>[Cancer cell plasticity on targeted therapy\\nN...</td>\n",
       "    </tr>\n",
       "    <tr>\n",
       "      <th>2</th>\n",
       "      <td>1</td>\n",
       "      <td>308</td>\n",
       "      <td>1_the_and_of_to</td>\n",
       "      <td>[the, and, of, to, in, will, for, viral, with,...</td>\n",
       "      <td>[sars cov, antiviral, sars, vaccines, vaccine,...</td>\n",
       "      <td>[virus, malaria, vaccine, viruses, antiviral, ...</td>\n",
       "      <td>[viral, virus, malaria, vaccine, viruses, infe...</td>\n",
       "      <td>[Respiratory Host-Pathogen Interaction\\nLower ...</td>\n",
       "    </tr>\n",
       "    <tr>\n",
       "      <th>3</th>\n",
       "      <td>2</td>\n",
       "      <td>284</td>\n",
       "      <td>2_and_the_of_to</td>\n",
       "      <td>[and, the, of, to, health, in, social, on, wil...</td>\n",
       "      <td>[19 pandemic, covid 19, covid, eu, pandemic, i...</td>\n",
       "      <td>[social, policy, pandemic, eu, public, covid, ...</td>\n",
       "      <td>[social, policy, pandemic, political, mental, ...</td>\n",
       "      <td>[VET PARTICIPATION, RETENTION, AND EDUCATIONAL...</td>\n",
       "    </tr>\n",
       "    <tr>\n",
       "      <th>4</th>\n",
       "      <td>3</td>\n",
       "      <td>287</td>\n",
       "      <td>3_the_and_of_to</td>\n",
       "      <td>[the, and, of, to, for, in, cancer, is, with, ...</td>\n",
       "      <td>[breast cancer, biopsy, diagnostics, imaging, ...</td>\n",
       "      <td>[cancer, imaging, ai, breast, detection, bioma...</td>\n",
       "      <td>[cancer, imaging, breast, detection, time, dia...</td>\n",
       "      <td>[Surface-enhanced Raman spectroscopy in liquid...</td>\n",
       "    </tr>\n",
       "    <tr>\n",
       "      <th>5</th>\n",
       "      <td>4</td>\n",
       "      <td>194</td>\n",
       "      <td>4_the_of_in_ad</td>\n",
       "      <td>[the, of, in, ad, and, to, brain, disease, wil...</td>\n",
       "      <td>[microglia, neuroinflammation, neurodegenerati...</td>\n",
       "      <td>[alzheimer, microglia, neurodegenerative, alzh...</td>\n",
       "      <td>[disease, brain, protein, microglia, neurodege...</td>\n",
       "      <td>[Deciphering the microglia-neuron interactions...</td>\n",
       "    </tr>\n",
       "    <tr>\n",
       "      <th>6</th>\n",
       "      <td>5</td>\n",
       "      <td>130</td>\n",
       "      <td>5_food_and_the_of</td>\n",
       "      <td>[food, and, the, of, to, sustainable, will, fo...</td>\n",
       "      <td>[food systems, food system, sustainable food, ...</td>\n",
       "      <td>[food, sustainable, aquaculture, food systems,...</td>\n",
       "      <td>[food, sustainable, production, aquaculture, c...</td>\n",
       "      <td>[On a Quest for Data-Driven Innovations to fue...</td>\n",
       "    </tr>\n",
       "    <tr>\n",
       "      <th>7</th>\n",
       "      <td>6</td>\n",
       "      <td>114</td>\n",
       "      <td>6_bone_the_and_of</td>\n",
       "      <td>[bone, the, and, of, to, for, tissue, in, will...</td>\n",
       "      <td>[bone regeneration, 3d bioprinting, bioprintin...</td>\n",
       "      <td>[bone, bioprinting, oa, implants, cartilage, r...</td>\n",
       "      <td>[bone, tissue, pain, bioprinting, implants, re...</td>\n",
       "      <td>[Drug solution for bone fracture nonunions\\nBo...</td>\n",
       "    </tr>\n",
       "    <tr>\n",
       "      <th>8</th>\n",
       "      <td>7</td>\n",
       "      <td>116</td>\n",
       "      <td>7_the_of_to_antibiotic</td>\n",
       "      <td>[the, of, to, antibiotic, and, bacteria, antib...</td>\n",
       "      <td>[antimicrobial resistance, antibiotic resistan...</td>\n",
       "      <td>[bacteria, antibiotics, bacterial, antibiotic,...</td>\n",
       "      <td>[bacteria, antibiotics, bacterial, resistance,...</td>\n",
       "      <td>[Advanced Multidisciplinary Research for Antim...</td>\n",
       "    </tr>\n",
       "    <tr>\n",
       "      <th>9</th>\n",
       "      <td>8</td>\n",
       "      <td>122</td>\n",
       "      <td>8_gut_and_the_of</td>\n",
       "      <td>[gut, and, the, of, in, microbiome, to, microb...</td>\n",
       "      <td>[gut microbiome, gut microbiota, microbiome, g...</td>\n",
       "      <td>[gut, ibd, microbiome, microbiota, intestinal,...</td>\n",
       "      <td>[gut, microbiome, microbiota, intestinal, host...</td>\n",
       "      <td>[Mechanistic study of gut microbial biotransfo...</td>\n",
       "    </tr>\n",
       "    <tr>\n",
       "      <th>10</th>\n",
       "      <td>9</td>\n",
       "      <td>102</td>\n",
       "      <td>9_plant_the_of_and</td>\n",
       "      <td>[plant, the, of, and, to, in, plants, will, cr...</td>\n",
       "      <td>[arabidopsis, plant, plants, crop, crops, seed...</td>\n",
       "      <td>[plant, plants, crop, drought, species, climat...</td>\n",
       "      <td>[plant, plants, crop, climate, drought, specie...</td>\n",
       "      <td>[From wild to crop: unravelling the impact of ...</td>\n",
       "    </tr>\n",
       "    <tr>\n",
       "      <th>11</th>\n",
       "      <td>10</td>\n",
       "      <td>128</td>\n",
       "      <td>10_brain_the_and_of</td>\n",
       "      <td>[brain, the, and, of, to, stimulation, in, epi...</td>\n",
       "      <td>[brain stimulation, neuromodulation, eeg, elec...</td>\n",
       "      <td>[epilepsy, stimulation, neural, neurological, ...</td>\n",
       "      <td>[brain, epilepsy, stimulation, neural, invasiv...</td>\n",
       "      <td>[AEGEUS - A Novel EEG Ultrasound Device for Fu...</td>\n",
       "    </tr>\n",
       "    <tr>\n",
       "      <th>12</th>\n",
       "      <td>11</td>\n",
       "      <td>133</td>\n",
       "      <td>11_the_and_of_to</td>\n",
       "      <td>[the, and, of, to, patients, for, in, is, stro...</td>\n",
       "      <td>[heart failure, atrial fibrillation, cardiovas...</td>\n",
       "      <td>[heart, patients, stroke, cardiac, cardiovascu...</td>\n",
       "      <td>[heart, patients, stroke, clinical, treatment,...</td>\n",
       "      <td>[Health virtual twins for the personalised man...</td>\n",
       "    </tr>\n",
       "    <tr>\n",
       "      <th>13</th>\n",
       "      <td>12</td>\n",
       "      <td>107</td>\n",
       "      <td>12_data_and_the_of</td>\n",
       "      <td>[data, and, the, of, to, for, will, in, health...</td>\n",
       "      <td>[ai, healthcare, eu, data, federated, framewor...</td>\n",
       "      <td>[data, privacy, ai, healthcare, digital, eu, c...</td>\n",
       "      <td>[data, privacy, healthcare, digital, use, inno...</td>\n",
       "      <td>[Federate Learning and mUlti-party computation...</td>\n",
       "    </tr>\n",
       "    <tr>\n",
       "      <th>14</th>\n",
       "      <td>13</td>\n",
       "      <td>53</td>\n",
       "      <td>13_cardiac_heart_the_of</td>\n",
       "      <td>[cardiac, heart, the, of, and, to, in, will, h...</td>\n",
       "      <td>[cardiac regeneration, cardiomyocytes, cardiac...</td>\n",
       "      <td>[cardiac, heart, cardiomyocytes, heart failure...</td>\n",
       "      <td>[cardiac, heart, human, cardiomyocytes, tissue...</td>\n",
       "      <td>[Surgical optogenetic bioprinting of engineere...</td>\n",
       "    </tr>\n",
       "    <tr>\n",
       "      <th>15</th>\n",
       "      <td>14</td>\n",
       "      <td>60</td>\n",
       "      <td>14_liver_in_the_and</td>\n",
       "      <td>[liver, in, the, and, of, metabolic, to, nafld...</td>\n",
       "      <td>[nafld, disease nafld, liver fibrosis, fatty l...</td>\n",
       "      <td>[liver, nafld, metabolic, liver disease, hepat...</td>\n",
       "      <td>[liver, metabolic, disease, fatty, hepatic, fa...</td>\n",
       "      <td>[Understanding Metabolic Activation of Dendrit...</td>\n",
       "    </tr>\n",
       "    <tr>\n",
       "      <th>16</th>\n",
       "      <td>15</td>\n",
       "      <td>72</td>\n",
       "      <td>15_the_of_in_to</td>\n",
       "      <td>[the, of, in, to, and, brain, visual, neural, ...</td>\n",
       "      <td>[neural circuits, neural activity, cortex, cor...</td>\n",
       "      <td>[neural, brain, sensory, perception, stimuli, ...</td>\n",
       "      <td>[neural, visual, brain, sensory, circuits, dec...</td>\n",
       "      <td>[Correcting for self: The impact of head motio...</td>\n",
       "    </tr>\n",
       "    <tr>\n",
       "      <th>17</th>\n",
       "      <td>16</td>\n",
       "      <td>43</td>\n",
       "      <td>16_diabetes_insulin_glucose_t2d</td>\n",
       "      <td>[diabetes, insulin, glucose, t2d, the, of, and...</td>\n",
       "      <td>[insulin, t1d, insulin resistance, glucagon, i...</td>\n",
       "      <td>[diabetes, insulin, glucose, t2d, type diabete...</td>\n",
       "      <td>[diabetes, insulin, glucose, cell, type, cells...</td>\n",
       "      <td>[Unobtrusive Continuous Multi-Metabolite Monit...</td>\n",
       "    </tr>\n",
       "    <tr>\n",
       "      <th>18</th>\n",
       "      <td>17</td>\n",
       "      <td>46</td>\n",
       "      <td>17_synthesis_the_of_chiral</td>\n",
       "      <td>[synthesis, the, of, chiral, to, and, molecule...</td>\n",
       "      <td>[synthetic chemistry, catalysis, catalysts, en...</td>\n",
       "      <td>[synthesis, reactions, molecules, chemistry, c...</td>\n",
       "      <td>[synthesis, reactions, molecules, chemistry, c...</td>\n",
       "      <td>[New late-stage functionalization reagents for...</td>\n",
       "    </tr>\n",
       "    <tr>\n",
       "      <th>19</th>\n",
       "      <td>18</td>\n",
       "      <td>44</td>\n",
       "      <td>18_and_to_the_of</td>\n",
       "      <td>[and, to, the, of, health, for, will, prepared...</td>\n",
       "      <td>[pandemic preparedness, emerging infectious, p...</td>\n",
       "      <td>[pandemic, preparedness, epidemic, covid, zoon...</td>\n",
       "      <td>[pandemic, preparedness, biodiversity, disease...</td>\n",
       "      <td>[Pandemic literacy and viral zoonotic spillove...</td>\n",
       "    </tr>\n",
       "    <tr>\n",
       "      <th>20</th>\n",
       "      <td>19</td>\n",
       "      <td>45</td>\n",
       "      <td>19_care_cancer_and_the</td>\n",
       "      <td>[care, cancer, and, the, of, patients, to, hea...</td>\n",
       "      <td>[european cancer, cancer mission, cancer care,...</td>\n",
       "      <td>[cancer, prevention, palliative, cancer patien...</td>\n",
       "      <td>[cancer, care, prevention, patients, implement...</td>\n",
       "      <td>[A European-wide foundation to accelerate Data...</td>\n",
       "    </tr>\n",
       "    <tr>\n",
       "      <th>21</th>\n",
       "      <td>20</td>\n",
       "      <td>32</td>\n",
       "      <td>20_retinal_eye_the_retina</td>\n",
       "      <td>[retinal, eye, the, retina, of, and, ocular, i...</td>\n",
       "      <td>[retinal diseases, macular degeneration, retin...</td>\n",
       "      <td>[eye, retinal, ocular, retina, blindness, macu...</td>\n",
       "      <td>[eye, retinal, ocular, retina, vision, blindne...</td>\n",
       "      <td>[I(eye)-SCREEN: A real-world AI-based infrastr...</td>\n",
       "    </tr>\n",
       "    <tr>\n",
       "      <th>22</th>\n",
       "      <td>21</td>\n",
       "      <td>26</td>\n",
       "      <td>21_kidney_ckd_renal_of</td>\n",
       "      <td>[kidney, ckd, renal, of, and, the, in, disease...</td>\n",
       "      <td>[kidney organoids, disease ckd, chronic kidney...</td>\n",
       "      <td>[kidney, ckd, renal, kidney disease, chronic k...</td>\n",
       "      <td>[kidney, renal, disease, chronic kidney, chron...</td>\n",
       "      <td>[Dissecting renal metabolic reprogramming hete...</td>\n",
       "    </tr>\n",
       "    <tr>\n",
       "      <th>23</th>\n",
       "      <td>22</td>\n",
       "      <td>42</td>\n",
       "      <td>22_and_the_of_to</td>\n",
       "      <td>[and, the, of, to, for, pharmaceutical, manufa...</td>\n",
       "      <td>[pharma, pharmaceutical industry, pharmaceutic...</td>\n",
       "      <td>[pharmaceutical, sustainable, pharmaceuticals,...</td>\n",
       "      <td>[pharmaceutical, sustainable, pharmaceuticals,...</td>\n",
       "      <td>[Innovative Mechanochemical Processes to synth...</td>\n",
       "    </tr>\n",
       "  </tbody>\n",
       "</table>\n",
       "</div>"
      ],
      "text/plain": [
       "    Topic  Count                             Name  \\\n",
       "0      -1     96                 -1_and_the_of_to   \n",
       "1       0    881                  0_the_of_to_and   \n",
       "2       1    308                  1_the_and_of_to   \n",
       "3       2    284                  2_and_the_of_to   \n",
       "4       3    287                  3_the_and_of_to   \n",
       "5       4    194                   4_the_of_in_ad   \n",
       "6       5    130                5_food_and_the_of   \n",
       "7       6    114                6_bone_the_and_of   \n",
       "8       7    116           7_the_of_to_antibiotic   \n",
       "9       8    122                 8_gut_and_the_of   \n",
       "10      9    102               9_plant_the_of_and   \n",
       "11     10    128              10_brain_the_and_of   \n",
       "12     11    133                 11_the_and_of_to   \n",
       "13     12    107               12_data_and_the_of   \n",
       "14     13     53          13_cardiac_heart_the_of   \n",
       "15     14     60              14_liver_in_the_and   \n",
       "16     15     72                  15_the_of_in_to   \n",
       "17     16     43  16_diabetes_insulin_glucose_t2d   \n",
       "18     17     46       17_synthesis_the_of_chiral   \n",
       "19     18     44                 18_and_to_the_of   \n",
       "20     19     45           19_care_cancer_and_the   \n",
       "21     20     32        20_retinal_eye_the_retina   \n",
       "22     21     26           21_kidney_ckd_renal_of   \n",
       "23     22     42                 22_and_the_of_to   \n",
       "\n",
       "                                       Representation  \\\n",
       "0     [and, the, of, to, in, for, is, will, by, with]   \n",
       "1   [the, of, to, and, in, cancer, cell, will, cel...   \n",
       "2   [the, and, of, to, in, will, for, viral, with,...   \n",
       "3   [and, the, of, to, health, in, social, on, wil...   \n",
       "4   [the, and, of, to, for, in, cancer, is, with, ...   \n",
       "5   [the, of, in, ad, and, to, brain, disease, wil...   \n",
       "6   [food, and, the, of, to, sustainable, will, fo...   \n",
       "7   [bone, the, and, of, to, for, tissue, in, will...   \n",
       "8   [the, of, to, antibiotic, and, bacteria, antib...   \n",
       "9   [gut, and, the, of, in, microbiome, to, microb...   \n",
       "10  [plant, the, of, and, to, in, plants, will, cr...   \n",
       "11  [brain, the, and, of, to, stimulation, in, epi...   \n",
       "12  [the, and, of, to, patients, for, in, is, stro...   \n",
       "13  [data, and, the, of, to, for, will, in, health...   \n",
       "14  [cardiac, heart, the, of, and, to, in, will, h...   \n",
       "15  [liver, in, the, and, of, metabolic, to, nafld...   \n",
       "16  [the, of, in, to, and, brain, visual, neural, ...   \n",
       "17  [diabetes, insulin, glucose, t2d, the, of, and...   \n",
       "18  [synthesis, the, of, chiral, to, and, molecule...   \n",
       "19  [and, to, the, of, health, for, will, prepared...   \n",
       "20  [care, cancer, and, the, of, patients, to, hea...   \n",
       "21  [retinal, eye, the, retina, of, and, ocular, i...   \n",
       "22  [kidney, ckd, renal, of, and, the, in, disease...   \n",
       "23  [and, the, of, to, for, pharmaceutical, manufa...   \n",
       "\n",
       "                                              KeyBERT  \\\n",
       "0   [ai, brain, approaches, clinical, patients, ai...   \n",
       "1   [cancer cells, immunotherapy, tumours, tumors,...   \n",
       "2   [sars cov, antiviral, sars, vaccines, vaccine,...   \n",
       "3   [19 pandemic, covid 19, covid, eu, pandemic, i...   \n",
       "4   [breast cancer, biopsy, diagnostics, imaging, ...   \n",
       "5   [microglia, neuroinflammation, neurodegenerati...   \n",
       "6   [food systems, food system, sustainable food, ...   \n",
       "7   [bone regeneration, 3d bioprinting, bioprintin...   \n",
       "8   [antimicrobial resistance, antibiotic resistan...   \n",
       "9   [gut microbiome, gut microbiota, microbiome, g...   \n",
       "10  [arabidopsis, plant, plants, crop, crops, seed...   \n",
       "11  [brain stimulation, neuromodulation, eeg, elec...   \n",
       "12  [heart failure, atrial fibrillation, cardiovas...   \n",
       "13  [ai, healthcare, eu, data, federated, framewor...   \n",
       "14  [cardiac regeneration, cardiomyocytes, cardiac...   \n",
       "15  [nafld, disease nafld, liver fibrosis, fatty l...   \n",
       "16  [neural circuits, neural activity, cortex, cor...   \n",
       "17  [insulin, t1d, insulin resistance, glucagon, i...   \n",
       "18  [synthetic chemistry, catalysis, catalysts, en...   \n",
       "19  [pandemic preparedness, emerging infectious, p...   \n",
       "20  [european cancer, cancer mission, cancer care,...   \n",
       "21  [retinal diseases, macular degeneration, retin...   \n",
       "22  [kidney organoids, disease ckd, chronic kidney...   \n",
       "23  [pharma, pharmaceutical industry, pharmaceutic...   \n",
       "\n",
       "                                                  MMR  \\\n",
       "0   [new, data, brain, disease, develop, clinical,...   \n",
       "1   [cancer, cell, cells, tumor, tumour, therapies...   \n",
       "2   [virus, malaria, vaccine, viruses, antiviral, ...   \n",
       "3   [social, policy, pandemic, eu, public, covid, ...   \n",
       "4   [cancer, imaging, ai, breast, detection, bioma...   \n",
       "5   [alzheimer, microglia, neurodegenerative, alzh...   \n",
       "6   [food, sustainable, aquaculture, food systems,...   \n",
       "7   [bone, bioprinting, oa, implants, cartilage, r...   \n",
       "8   [bacteria, antibiotics, bacterial, antibiotic,...   \n",
       "9   [gut, ibd, microbiome, microbiota, intestinal,...   \n",
       "10  [plant, plants, crop, drought, species, climat...   \n",
       "11  [epilepsy, stimulation, neural, neurological, ...   \n",
       "12  [heart, patients, stroke, cardiac, cardiovascu...   \n",
       "13  [data, privacy, ai, healthcare, digital, eu, c...   \n",
       "14  [cardiac, heart, cardiomyocytes, heart failure...   \n",
       "15  [liver, nafld, metabolic, liver disease, hepat...   \n",
       "16  [neural, brain, sensory, perception, stimuli, ...   \n",
       "17  [diabetes, insulin, glucose, t2d, type diabete...   \n",
       "18  [synthesis, reactions, molecules, chemistry, c...   \n",
       "19  [pandemic, preparedness, epidemic, covid, zoon...   \n",
       "20  [cancer, prevention, palliative, cancer patien...   \n",
       "21  [eye, retinal, ocular, retina, blindness, macu...   \n",
       "22  [kidney, ckd, renal, kidney disease, chronic k...   \n",
       "23  [pharmaceutical, sustainable, pharmaceuticals,...   \n",
       "\n",
       "                                                  POS  \\\n",
       "0   [new, data, brain, development, human, high, d...   \n",
       "1   [cancer, cell, cells, tumor, therapy, immune, ...   \n",
       "2   [viral, virus, malaria, vaccine, viruses, infe...   \n",
       "3   [social, policy, pandemic, political, mental, ...   \n",
       "4   [cancer, imaging, breast, detection, time, dia...   \n",
       "5   [disease, brain, protein, microglia, neurodege...   \n",
       "6   [food, sustainable, production, aquaculture, c...   \n",
       "7   [bone, tissue, pain, bioprinting, implants, re...   \n",
       "8   [bacteria, antibiotics, bacterial, resistance,...   \n",
       "9   [gut, microbiome, microbiota, intestinal, host...   \n",
       "10  [plant, plants, crop, climate, drought, specie...   \n",
       "11  [brain, epilepsy, stimulation, neural, invasiv...   \n",
       "12  [heart, patients, stroke, clinical, treatment,...   \n",
       "13  [data, privacy, healthcare, digital, use, inno...   \n",
       "14  [cardiac, heart, human, cardiomyocytes, tissue...   \n",
       "15  [liver, metabolic, disease, fatty, hepatic, fa...   \n",
       "16  [neural, visual, brain, sensory, circuits, dec...   \n",
       "17  [diabetes, insulin, glucose, cell, type, cells...   \n",
       "18  [synthesis, reactions, molecules, chemistry, c...   \n",
       "19  [pandemic, preparedness, biodiversity, disease...   \n",
       "20  [cancer, care, prevention, patients, implement...   \n",
       "21  [eye, retinal, ocular, retina, vision, blindne...   \n",
       "22  [kidney, renal, disease, chronic kidney, chron...   \n",
       "23  [pharmaceutical, sustainable, pharmaceuticals,...   \n",
       "\n",
       "                                  Representative_Docs  \n",
       "0   [Virtual Brain Twin for personalised treatment...  \n",
       "1   [Cancer cell plasticity on targeted therapy\\nN...  \n",
       "2   [Respiratory Host-Pathogen Interaction\\nLower ...  \n",
       "3   [VET PARTICIPATION, RETENTION, AND EDUCATIONAL...  \n",
       "4   [Surface-enhanced Raman spectroscopy in liquid...  \n",
       "5   [Deciphering the microglia-neuron interactions...  \n",
       "6   [On a Quest for Data-Driven Innovations to fue...  \n",
       "7   [Drug solution for bone fracture nonunions\\nBo...  \n",
       "8   [Advanced Multidisciplinary Research for Antim...  \n",
       "9   [Mechanistic study of gut microbial biotransfo...  \n",
       "10  [From wild to crop: unravelling the impact of ...  \n",
       "11  [AEGEUS - A Novel EEG Ultrasound Device for Fu...  \n",
       "12  [Health virtual twins for the personalised man...  \n",
       "13  [Federate Learning and mUlti-party computation...  \n",
       "14  [Surgical optogenetic bioprinting of engineere...  \n",
       "15  [Understanding Metabolic Activation of Dendrit...  \n",
       "16  [Correcting for self: The impact of head motio...  \n",
       "17  [Unobtrusive Continuous Multi-Metabolite Monit...  \n",
       "18  [New late-stage functionalization reagents for...  \n",
       "19  [Pandemic literacy and viral zoonotic spillove...  \n",
       "20  [A European-wide foundation to accelerate Data...  \n",
       "21  [I(eye)-SCREEN: A real-world AI-based infrastr...  \n",
       "22  [Dissecting renal metabolic reprogramming hete...  \n",
       "23  [Innovative Mechanochemical Processes to synth...  "
      ]
     },
     "execution_count": 30,
     "metadata": {},
     "output_type": "execute_result"
    }
   ],
   "source": [
    "topic_model.get_topic_info()\n"
   ]
  },
  {
   "cell_type": "code",
   "execution_count": 31,
   "id": "5c7dfc6b",
   "metadata": {},
   "outputs": [
    {
     "data": {
      "application/vnd.plotly.v1+json": {
       "config": {
        "plotlyServerURL": "https://plot.ly"
       },
       "data": [
        {
         "hoverinfo": "text",
         "marker": {
          "color": "#CFD8DC",
          "opacity": 0.5,
          "size": 5
         },
         "mode": "markers+text",
         "name": "other",
         "showlegend": false,
         "type": "scattergl",
         "x": {
          "bdata": "5IQJQX/l/kAHUvxAh/kJQdbXEEFRm/tAUJsBQaYiC0HUegxBekz2QEebAEEAm/5ARWcJQff6D0Fwmf5AFesMQSoGBkFR/AVBYqP8QKo+EEE6PBBBL/IEQfY57kB6NwhBI2/vQID/vkDrJhBBnAToQKb9DkF2TMdAaUwNQWPC9UCBSRFBVhUYQSk7FkFDOfBAGe4CQQzrzkBZnhFBZaIMQZs+CEGQAbdAWhACQaJbCEHko+BAptALQdecDkEp5flAKCoTQaTSDEGX7AxBZToSQWerD0GS5ulAho3PQOPtzUAPkAtBGX8hQTbV3UAieO1AFbumQKXR50DGLw9BxWkSQbgMHEEd8/hA1xHLQC7yDEEqYbxAU4LUQDLCCUE8p/pAib0HQQBkEkFbZg1BQcQWQZxzB0FoaNBAckoQQQpfFUHpPQhBB9MOQd1Q+UAPVA5BNZ0HQSHj0UBeJf5A3aASQVYWF0E39Q9BZggQQSmh40An5Q9BYVcJQZ6iC0FNOgRBymkDQQ==",
          "dtype": "f4"
         },
         "y": {
          "bdata": "FDyRQHR+kUAo57JA3hj9QEX2k0DKA8xA+WqEQHNMz0CpBLRAN4LLQLQWnkD6joJAsmCnQL+K8EDniYNATJLnQHhYh0B9golAKQ+gQDz+r0BI0phA45KfQJpuvkA8g7JAMXzFQIOHrUCJabBA+ZUJQUvYoEAvruBA5X2pQL/MtkB7Ia9Aj2MJQRN7jkAdVatACV6VQDDc90B+qrVAArW4QCmxAEEMeOFA+gf9QFENrkBOm8FAwU/PQJLTu0A2d9FA40G4QI/Em0DdU5RAyZqyQG+I8kDOzspAITW8QAwryEAg6YtAzoLxQHGY0kD/fqtAMUjVQOakxkB7NfBA2n+0QPh0v0CUqt5A9qnIQALuukBBLOdA4S3FQPi+j0DoVNdA+BSOQAUym0D4LLtAK5gEQQ71gUCMh/dA/AKRQP8L10Aoj7BA+cr5QKqBqkCasLJAWKuBQP+39kASE9lAch+3QK7swUDmOLhAA/K4QJgeDEF0YLdAT1K6QJ9xukBjB59AzN69QA==",
          "dtype": "f4"
         }
        },
        {
         "hoverinfo": "text",
         "marker": {
          "opacity": 0.5,
          "size": 5
         },
         "mode": "markers+text",
         "name": "0_the_of_to",
         "text": [
          "",
          "",
          "",
          "",
          "",
          "",
          "",
          "",
          "",
          "",
          "",
          "",
          "",
          "",
          "",
          "",
          "",
          "",
          "",
          "",
          "",
          "",
          "",
          "",
          "",
          "",
          "",
          "",
          "",
          "",
          "",
          "",
          "",
          "",
          "",
          "",
          "",
          "",
          "",
          "",
          "",
          "",
          "",
          "",
          "",
          "",
          "",
          "",
          "",
          "",
          "",
          "",
          "",
          "",
          "",
          "",
          "",
          "",
          "",
          "",
          "",
          "",
          "",
          "",
          "",
          "",
          "",
          "",
          "",
          "",
          "",
          "",
          "",
          "",
          "",
          "",
          "",
          "",
          "",
          "",
          "",
          "",
          "",
          "",
          "",
          "",
          "",
          "",
          "",
          "",
          "",
          "",
          "",
          "",
          "",
          "",
          "",
          "",
          "",
          "",
          "",
          "",
          "",
          "",
          "",
          "",
          "",
          "",
          "",
          "",
          "",
          "",
          "",
          "",
          "",
          "",
          "",
          "",
          "",
          "",
          "",
          "",
          "",
          "",
          "",
          "",
          "",
          "",
          "",
          "",
          "",
          "",
          "",
          "",
          "",
          "",
          "",
          "",
          "",
          "",
          "",
          "",
          "",
          "",
          "",
          "",
          "",
          "",
          "",
          "",
          "",
          "",
          "",
          "",
          "",
          "",
          "",
          "",
          "",
          "",
          "",
          "",
          "",
          "",
          "",
          "",
          "",
          "",
          "",
          "",
          "",
          "",
          "",
          "",
          "",
          "",
          "",
          "",
          "",
          "",
          "",
          "",
          "",
          "",
          "",
          "",
          "",
          "",
          "",
          "",
          "",
          "",
          "",
          "",
          "",
          "",
          "",
          "",
          "",
          "",
          "",
          "",
          "",
          "",
          "",
          "",
          "",
          "",
          "",
          "",
          "",
          "",
          "",
          "",
          "",
          "",
          "",
          "",
          "",
          "",
          "",
          "",
          "",
          "",
          "",
          "",
          "",
          "",
          "",
          "",
          "",
          "",
          "",
          "",
          "",
          "",
          "",
          "",
          "",
          "",
          "",
          "",
          "",
          "",
          "",
          "",
          "",
          "",
          "",
          "",
          "",
          "",
          "",
          "",
          "",
          "",
          "",
          "",
          "",
          "",
          "",
          "",
          "",
          "",
          "",
          "",
          "",
          "",
          "",
          "",
          "",
          "",
          "",
          "",
          "",
          "",
          "",
          "",
          "",
          "",
          "",
          "",
          "",
          "",
          "",
          "",
          "",
          "",
          "",
          "",
          "",
          "",
          "",
          "",
          "",
          "",
          "",
          "",
          "",
          "",
          "",
          "",
          "",
          "",
          "",
          "",
          "",
          "",
          "",
          "",
          "",
          "",
          "",
          "",
          "",
          "",
          "",
          "",
          "",
          "",
          "",
          "",
          "",
          "",
          "",
          "",
          "",
          "",
          "",
          "",
          "",
          "",
          "",
          "",
          "",
          "",
          "",
          "",
          "",
          "",
          "",
          "",
          "",
          "",
          "",
          "",
          "",
          "",
          "",
          "",
          "",
          "",
          "",
          "",
          "",
          "",
          "",
          "",
          "",
          "",
          "",
          "",
          "",
          "",
          "",
          "",
          "",
          "",
          "",
          "",
          "",
          "",
          "",
          "",
          "",
          "",
          "",
          "",
          "",
          "",
          "",
          "",
          "",
          "",
          "",
          "",
          "",
          "",
          "",
          "",
          "",
          "",
          "",
          "",
          "",
          "",
          "",
          "",
          "",
          "",
          "",
          "",
          "",
          "",
          "",
          "",
          "",
          "",
          "",
          "",
          "",
          "",
          "",
          "",
          "",
          "",
          "",
          "",
          "",
          "",
          "",
          "",
          "",
          "",
          "",
          "",
          "",
          "",
          "",
          "",
          "",
          "",
          "",
          "",
          "",
          "",
          "",
          "",
          "",
          "",
          "",
          "",
          "",
          "",
          "",
          "",
          "",
          "",
          "",
          "",
          "",
          "",
          "",
          "",
          "",
          "",
          "",
          "",
          "",
          "",
          "",
          "",
          "",
          "",
          "",
          "",
          "",
          "",
          "",
          "",
          "",
          "",
          "",
          "",
          "",
          "",
          "",
          "",
          "",
          "",
          "",
          "",
          "",
          "",
          "",
          "",
          "",
          "",
          "",
          "",
          "",
          "",
          "",
          "",
          "",
          "",
          "",
          "",
          "",
          "",
          "",
          "",
          "",
          "",
          "",
          "",
          "",
          "",
          "",
          "",
          "",
          "",
          "",
          "",
          "",
          "",
          "",
          "",
          "",
          "",
          "",
          "",
          "",
          "",
          "",
          "",
          "",
          "",
          "",
          "",
          "",
          "",
          "",
          "",
          "",
          "",
          "",
          "",
          "",
          "",
          "",
          "",
          "",
          "",
          "",
          "",
          "",
          "",
          "",
          "",
          "",
          "",
          "",
          "",
          "",
          "",
          "",
          "",
          "",
          "",
          "",
          "",
          "",
          "",
          "",
          "",
          "",
          "",
          "",
          "",
          "",
          "",
          "",
          "",
          "",
          "",
          "",
          "",
          "",
          "",
          "",
          "",
          "",
          "",
          "",
          "",
          "",
          "",
          "",
          "",
          "",
          "",
          "",
          "",
          "",
          "",
          "",
          "",
          "",
          "",
          "",
          "",
          "",
          "",
          "",
          "",
          "",
          "",
          "",
          "",
          "",
          "",
          "",
          "",
          "",
          "",
          "",
          "",
          "",
          "",
          "",
          "",
          "",
          "",
          "",
          "",
          "",
          "",
          "",
          "",
          "",
          "",
          "",
          "",
          "",
          "",
          "",
          "",
          "",
          "",
          "",
          "",
          "",
          "",
          "",
          "",
          "",
          "",
          "",
          "",
          "",
          "",
          "",
          "",
          "",
          "",
          "",
          "",
          "",
          "",
          "",
          "",
          "",
          "",
          "",
          "",
          "",
          "",
          "",
          "",
          "",
          "",
          "",
          "",
          "",
          "",
          "",
          "",
          "",
          "",
          "",
          "",
          "",
          "",
          "",
          "",
          "",
          "",
          "",
          "",
          "",
          "",
          "",
          "",
          "",
          "",
          "",
          "",
          "",
          "",
          "",
          "",
          "",
          "",
          "",
          "",
          "",
          "",
          "",
          "",
          "",
          "",
          "",
          "",
          "",
          "",
          "",
          "",
          "",
          "",
          "",
          "",
          "",
          "",
          "",
          "",
          "",
          "",
          "",
          "",
          "",
          "",
          "",
          "",
          "",
          "",
          "",
          "",
          "",
          "",
          "",
          "",
          "",
          "",
          "",
          "",
          "",
          "",
          "",
          "",
          "",
          "",
          "",
          "",
          "",
          "",
          "",
          "",
          "",
          "",
          "",
          "",
          "",
          "",
          "",
          "",
          "",
          "",
          "",
          "",
          "",
          "",
          "",
          "",
          "",
          "",
          "",
          "",
          "",
          "",
          "",
          "",
          "",
          "",
          "",
          "",
          "",
          "",
          "",
          "",
          "",
          "",
          "",
          "",
          "",
          "",
          "",
          "",
          "",
          "",
          "",
          "",
          "",
          "",
          "",
          "",
          "",
          "",
          "",
          "",
          "",
          "",
          "",
          "",
          "",
          "",
          "",
          "",
          "",
          "",
          "",
          "",
          "",
          "",
          "",
          "",
          "",
          "",
          "",
          "",
          "",
          "",
          "",
          "",
          "",
          "",
          "",
          "",
          "",
          "",
          "",
          "",
          "",
          "",
          "",
          "",
          "",
          "",
          "",
          "",
          "",
          "",
          "",
          "",
          "",
          "",
          "",
          "",
          "",
          "",
          "",
          "",
          "",
          "",
          "",
          "",
          "",
          "",
          "",
          "",
          "",
          "",
          "",
          "",
          "",
          "",
          "",
          "",
          "",
          "",
          ""
         ],
         "textfont": {
          "size": 12
         },
         "type": "scattergl",
         "x": {
          "bdata": "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",
          "dtype": "f4"
         },
         "y": {
          "bdata": "7hQBQT+JAEFsmQNBFb8BQTW7AUG5N/xAQj4BQbll/0ADEwBBJQgLQZg2A0GWZQRBjFIAQZ3xlUAPqwJBXf8FQdbbC0FOWwZBLOTvQBShBEG6v9ZA2QH4QFRBAUFxSAxBhrsAQdgr2EARIhBBgw79QCdQCkHeO7tAJubbQL+2CEG+hAJBovL3QFmmAEGta89AIs8CQYdR10Chnf5ADrD5QMCA/0CsCwFB/V0EQc6MAUGWNf5AA0gOQRGvv0BJ6/lAO2oOQZizz0CuQwRBCVjMQCrK7UCY3hBBOUC+QIFe+0DLzg1BytEGQd7FBEFf1O9AEOH8QC33qUACr+1AKW0FQX4PCkEVSvtAIBUDQYth+UAhdwFB+iAOQc5MBEFvse1AodLlQI7A+ECSBwRBe5EEQStaBUEOi/FALs7kQPFV5EAzEq5Aq0HqQDmT7UBRQwlBeEoFQZAjCEHkcwpBqwMEQSeUBUGTaAFB8RH6QBFC70DV0wJBap8DQVYKD0Fh1gBBl9bXQAml4UBOif9A4Ff+QFxFsEAoIwFBrHXPQE4tAkGSagBBmi7WQA+Er0Ce0wFBxZ/+QA8J/ED6TgtBIUj+QH4LokBakv1AafjCQFRPAkEjiOpAShAJQeOxoEAwJ+dAhqQBQfHa10DELQFBUasQQcKWlkCpvg5BTC/VQFHbBEGtoQRBYV4OQUksC0FQzfVA1sL2QKWJ+kC0j9RALavVQBu510B6kwtBj6DqQOQb1EBEtQpBpxkKQbeOD0FRUQFBpDbyQHY4AkEg6w5BA7wAQZHTAUEwpPlAwqADQf5J80C2fgNBArkCQc9N1UB3SgNBlf33QCo6A0HjdAFBBUkAQTFoDEH+LYJA87gNQRlzAUHlYxBBxRUCQb16+0DNqQ1BFK34QCXR+EB+OhBBuR8EQYAOBUFNSN1AwkQPQfAo/UClzQ5BW2fWQLlhjUDR0wtBv9zaQLkXBUG6yf9AwZz/QB/G9EDaz/JAnvr+QC8s/kB44fpAEybMQHXMDEGfIw1B1JQNQUj0AUEq8t1AUYIBQY+KAEHUD+tAwDQQQWtxA0E6aQRBi5OvQDPm/EDHxw1B3XX8QO/0DEG1m8ZA51wMQStpDkFggQJBpdkEQY8MBkHmKPBAJX4AQVPwkkCYOxBBJCLDQFp+BkH4CwtB9pf/QCP4/0CEOANBzQjwQAm870BqJfVA6XzUQLu68UDlc9NAy3LvQDPtAEEvyQBB4DEOQTuuBEETHNBAXnsHQYJUvUAm+wJBt9oLQUvrAUEaig9B9/XXQKWPEEEIggpBXGDkQO3H/UDWCthAEhYDQQGY2kCrmPZAU9/cQGmr7kAuPuRAMY64QE/nAEFFCNtAsWIFQUcKDUG3cgtBg2cDQT57EUE8RgZBrY4KQRHbD0F7i/9AI28MQUOqAUGc8ftASjj7QPI6C0E5JPdAm7buQG2bBUFv6gVBwwDXQMpRC0G6rv9AxZn9QFLl0EDJGg1BeaECQbN9wUCaqtlAkbwEQXQizkBPSQNBFkgAQY0WAkF71L5ArDcOQSva/EATNgxBAGkIQYSn4kCZVdRAvS8RQe4i2EBTNepAtZ8AQW9hAkGSLhFBcMEDQeoFDEH5f/tA0VYBQd9R/0Bk6wZBTB0LQT9aAUFakvlAnfYEQTiT/kCK0QtBaJj9QO2nA0EPveBAN3DXQF1m00DWxvtAR/TxQI77+0DC7dBA/+EOQcxi0UCeXQpBzBoMQal9rEAO8RBBysUCQfI79UDpFAlBj3ENQbrTBEFTkQlBWTQCQXWSBEEkaANBGmfQQJi4D0FI2v1A7I0CQULoAEFKJQBBrZvPQG+d1UBqOvZA9zgLQQiIEEEcm5ZAYbPpQK+SAUH2AQZB1fUCQVdlAEE3zQ5BKloAQZfjAkGmd9JANVgMQb5mBUFDdwBBY97GQDvQA0GMc+FAC3cBQe9Z/UA0YgxBHOwEQafDA0HRZQlBwEEOQXX98UDEjwxBS0MRQaSZBUH2IAVBSBD8QNwg+0D1/NZA9bD5QMPZDUG4qeFAOaL0QEluAkFgHwBBQJEOQf2m9kC4yuxAEC0LQV5P+kD8Jv1A6XW9QDF0CUGx0PdArfAFQSxJEUHkLgFB+lb9QA0K/EDUVRBBvf7jQKqICEHVFtdAVi0PQUGvCUG+oAVBrsj1QDPQ+0AWq/tAlL4OQVUaEEHQT/dAJggLQUl1C0HJEr5ALRcDQeDZwUCk2elADwP9QPlj/kA6wQJBaBEDQWWp/0Cm1fZAlpMHQUltokD6gv9AS9YNQXoYwECPTANB+w3vQB8CBUF+vQtBgEUBQdvN+UDU2PdAWqILQRyw+ED1hgNB1Kr7QC4qC0GBYAVBSMbyQAli/UCSmQdBKYb9QJHU/UClL/hAwCQCQc9GskBXLQ9BZsjuQGgg6kBz47xAKIb2QPV8wUC2AcFAIEP2QJ4WAUFaCtRArFDVQMf7zkAukepAIiwOQdFz7ECpGPVAxdH+QOEAAkEx/PVA/0HRQIZE3kCvjtZAuP4JQTiiDEHkLcxAH6ADQYQJ1EBodpRAzoMEQVcz3kBHSwtBZMXFQLdOC0HAmgRBygUPQSUD90BkqgVBBcHzQHCb4kB/txBBM2H9QIyiBUGRV+xAv3YDQelLEUFFJgRBg5P5QBv1EEFr2QJB+4oEQbtj+0AQBvBAtkAAQS1MCEHsDQ5BC3uvQH6+/0BzfNRAkQjFQC2sAkEeI/xATeECQTF8CEFWIvhAQCn9QMfX7UC06vdAyh4FQSTRAUEVo/BAeIzWQGoF2UCKUw5B98T+QEu780BJjwVBrM0OQaaKA0HSAK5A2/j/QPuNAkHxOvRATvbUQApO9kAGCNhA44f/QJFUvkDKR+xAl9wLQcit0UA4oudAU4wDQVaP7UDVhv1AcJv9QFtN/kA/2L1AWuMEQWnFD0EroQhBpibRQMrfAkHVps1AOKEBQe6SA0EanJZABv8EQdxNDkG66ApBrhMNQQOJw0DqgQpB/NLUQM9L8kAFWAxBWD8KQRgh+kCUQQBBi7+uQHy7/ECKPOBAJDcQQR9UDUFa5wxBwubVQHjcC0E6BQ1Boi7XQJFC2UDhhwRBI+r+QEgDDEEXYwZBNCmtQFxk9kDoxPlAkDkDQemVpEBEXwJBDQUOQe10/UAuRABBQrQAQdjCAEFfgAFBVlkFQRUS6kCbse9A+OvTQD2W/0AWef5AumrvQGjo4EBFHQlBa+bTQIDJ6kColclAx7MEQTwW+ECQPNRAth27QPJ/7UCB7vxA5Mb/QJPV7kDTHPtAh84FQR5U7EAssQBBx6IQQTcS+0BpI9NAtBjbQCCY/0C9fQFBYJz9QLpC1UCt6QFBKgHtQO4yAkFejgFBuS8AQUtL+0CqOQZB8WAJQWbqCkGprhBB9xkCQfMIBkFaqO9AVDABQbeK8UBiqfBADxWCQFDL0EBLYApB/ZoKQUJyCkF7sflAvkLcQEIm8UCR8dVAXqEBQaRrAUFwpg5B6G7UQLI0BkFgpgRB3uzkQBgvCUHtCttA8ZD+QBaS/EDvsRBBQnsKQRcqvkBaBgJBdqbUQCiAwUD8khFBLBvuQP3F7kCxNQdBBiv+QG4ODEGGqwpB3BMPQQMLD0FGowdBGkz/QHydqEA6UN1AEFrpQDO69kAdxQJB59X6QAdn0EDE2QFB6ZcNQbXSAEFDbBBBHowBQeBLCEFdoQlBEUHiQAa9BkFB29tAY8UDQQFnAUGxc7VAMwgMQW9R/EDEtuxAG+ELQYoK7EAPzcNAYjD6QK7mCUG1z/lAj+oFQYd+6UDiDw9BOhMQQZgeDEFSvAFB6kgBQWGP0UDFSANBxkYBQUVn8kBwhP9Ac8QMQdrj/UBIJeRAT1MHQTp5z0DSwARBRWDxQAyC9EB859NANBgGQfWIAEG/iRBBRQvjQKv2CEFWAtNAq5L9QMW4AUHqj9RACYcEQaf3BEHkWgRBO2r8QKpFCEFyBftAUd0AQXSYA0HDOA1BjKQRQZ/FC0EexflA/5jVQCYI+kBIRwZB2j0KQURbwEAM5P1A/mcAQYSv/ED0g/9AJ4ELQcNm8UB+SP5AeS8CQVZdC0H4XupAodv0QPBT/EBdAwZBFf8CQbQ71EAnLQFBDlIOQf/PDUG5KwFBjG78QAE+DkED2AtB3dwNQbM9AEFRKQVBkDzUQEh8EUH2IwpBzM7RQOVCDkHnN75AgLMAQdg3CkG2mgNBtGv/QCOjBUFNKPlA2+j6QOJ890CtuQRBnBTbQJ131EB2Ff9ACyPmQAG5DkH/QgJBSSTXQNhMx0BC3wBB6ikQQZNzAkFcOgZBkOWwQPTB1ECgwfFAgOv0QM6TBEF77+NASWILQZ0BCEHy5PhA78IPQcjPEUGknepALiq/QBzTr0CtjghBnSnwQCXWj0CU0O1AGPbsQNqO7UB6YAFB8rgEQbBa7EAvTOtAnGgLQd3TBEGw7QBBu80JQexs10B5UwBBFokBQcIJ3kAEMe5A5+rsQHkAA0HpPAFB3EH7QL1oAkG2ktVA5sngQFZnAUFhFAVBAaL+QLtsB0EFQNVApW4JQWfvAUH3uf5AglLWQD4YBkFPvdpA7ZTYQFOvCUHnr/FAUewAQeex+EC/2vlAIyUDQTjHwUDjEA9B578OQeUNAEFCddVAOe7MQDoJBkHIW9VAeZj7QAL0C0FOLgdBuYMAQWrL20D/lvVAYwQCQUq8BEE=",
          "dtype": "f4"
         }
        },
        {
         "hoverinfo": "text",
         "marker": {
          "opacity": 0.5,
          "size": 5
         },
         "mode": "markers+text",
         "name": "1_the_and_of",
         "text": [
          "",
          "",
          "",
          "",
          "",
          "",
          "",
          "",
          "",
          "",
          "",
          "",
          "",
          "",
          "",
          "",
          "",
          "",
          "",
          "",
          "",
          "",
          "",
          "",
          "",
          "",
          "",
          "",
          "",
          "",
          "",
          "",
          "",
          "",
          "",
          "",
          "",
          "",
          "",
          "",
          "",
          "",
          "",
          "",
          "",
          "",
          "",
          "",
          "",
          "",
          "",
          "",
          "",
          "",
          "",
          "",
          "",
          "",
          "",
          "",
          "",
          "",
          "",
          "",
          "",
          "",
          "",
          "",
          "",
          "",
          "",
          "",
          "",
          "",
          "",
          "",
          "",
          "",
          "",
          "",
          "",
          "",
          "",
          "",
          "",
          "",
          "",
          "",
          "",
          "",
          "",
          "",
          "",
          "",
          "",
          "",
          "",
          "",
          "",
          "",
          "",
          "",
          "",
          "",
          "",
          "",
          "",
          "",
          "",
          "",
          "",
          "",
          "",
          "",
          "",
          "",
          "",
          "",
          "",
          "",
          "",
          "",
          "",
          "",
          "",
          "",
          "",
          "",
          "",
          "",
          "",
          "",
          "",
          "",
          "",
          "",
          "",
          "",
          "",
          "",
          "",
          "",
          "",
          "",
          "",
          "",
          "",
          "",
          "",
          "",
          "",
          "",
          "",
          "",
          "",
          "",
          "",
          "",
          "",
          "",
          "",
          "",
          "",
          "",
          "",
          "",
          "",
          "",
          "",
          "",
          "",
          "",
          "",
          "",
          "",
          "",
          "",
          "",
          "",
          "",
          "",
          "",
          "",
          "",
          "",
          "",
          "",
          "",
          "",
          "",
          "",
          "",
          "",
          "",
          "",
          "",
          "",
          "",
          "",
          "",
          "",
          "",
          "",
          "",
          "",
          "",
          "",
          "",
          "",
          "",
          "",
          "",
          "",
          "",
          "",
          "",
          "",
          "",
          "",
          "",
          "",
          "",
          "",
          "",
          "",
          "",
          "",
          "",
          "",
          "",
          "",
          "",
          "",
          "",
          "",
          "",
          "",
          "",
          "",
          "",
          "",
          "",
          "",
          "",
          "",
          "",
          "",
          "",
          "",
          "",
          "",
          "",
          "",
          "",
          "",
          "",
          "",
          "",
          "",
          "",
          "",
          "",
          "",
          "",
          "",
          "",
          "",
          "",
          "",
          "",
          "",
          "",
          "",
          "",
          "",
          "",
          "",
          "",
          "",
          "",
          "",
          "",
          "",
          "",
          "",
          "",
          "",
          "",
          "",
          "",
          "",
          "",
          "",
          "",
          "",
          "",
          "",
          "",
          "",
          "",
          "",
          "",
          "",
          "",
          "",
          "",
          "",
          ""
         ],
         "textfont": {
          "size": 12
         },
         "type": "scattergl",
         "x": {
          "bdata": "V325QGlaxkDj5LRA9vD5QEiD2EC0fLNAVPLHQC8Z6EBO2sRAMp6zQDPIx0DcCsxAMSD6QBKav0B6JL9A2CzmQF5tuUAgsLlAZ5i/QPE2tECvmdlApjjXQI0ov0DYXfZAkRbpQOwGqEC+YulAKoDnQNAG5kCkA8BA5BDHQFcgu0BhNbhALijIQNvk+0B5DMhASQzxQOnAx0DeqcRAmd7YQAm9y0DkkK1AyC3WQK0YvUAEE7FA6BHqQApc3kAuAfZAOor4QHYaukDXJ+xAFiTrQOzpE0FvA8hAdBTHQDfPx0BCs95AAafmQHkE3UAeTuhALefoQNrWtUBtW+hAPXC5QG2IDEHz1cZA5HOzQA2y2kAEkfpAEcWzQEZe6UByvN5AKsO3QFRCs0Cd7tlAWuG4QMQG3kAb7+tABkqqQG0zw0C54LRAExDoQIvSwECIVcRAXwOoQMQI60ChabVA1lncQGx+s0AkMcBAUOWxQBd3tkDa3ulAhKi0QD6y2UCliuhAolKpQAmL6kCxNe1AjnSwQIVdAEGA4NtAVqTnQG7g2UDP9/9AMvu1QK/iy0DKwqdAVzjWQGvg30CPXshACsLYQHiwrEAnu+RAHWjdQAb46EBLnwBBFqy0QJfz50BRra1AQrWyQCsY3kAHRRpB2czFQL68uUB22uFAe03jQLf76UDS5PlArhv3QKK4/EBCOrRAderqQIgSskBtVrNAHQfVQH3fvED8iuRAm3+5QGdLp0CdYvpAh1zhQNXBu0DHKeBAB9TtQDKpy0BI9cpAbtMWQaYN2UB2HLlAhZfEQEKNtUAKet5ARa28QBm26EDrFrRA0zvfQG4lrEBNhLxAFevmQLtus0AkpBNBY4LeQCf97kBRSwpBtczhQIWB60CEp7NATCqyQGjBD0F/m71AT365QKvptED+b8RAgietQPsb1UAh/95APXa9QPNbtEAE495AYyTqQPCos0DR/NdAFgnIQBhz40BGfuFAf1W8QMJvwUAy49RAKST2QOhWy0BektNAWo7IQDyt+UBG3rhAmkjnQIz7wECcb+hAzIDYQA6W50CuPgxBza/HQMOhEEFKm7RABhvZQP/Os0DNy69ANDgKQVlW3kDp/9dA69jTQDUv6EB03rlAdNnFQA6vp0CunNlANrPBQD3vyECvrNlALvSwQMpny0AdT9RAK9a0QEVNxkAXWsRAuinDQGfM7EC8IuFA3B3OQJyTsUDXm7lAhqW+QER5vEA+3wtB6Cz6QGnNxECm8uhAWDfgQIbfw0Ba695AA4mzQHaJvUDVO+FA8nbuQMVDuUCG79dAwyDpQKQpukB7v85AL0a0QC4L30Ae/LNAnwuxQGyjw0A0ZrhAHqvYQBlw6EDvjqdAIyvaQFQFsUDyLeRAT628QJVvrEAbmMVAgF/DQDyl20B3VQBBAtynQByCrEAYwcdAdvDzQDOT8UA1nrBA7Z6nQOCw10AEUvxAf0vtQIpH6UCft+dALHf0QNLhyEBrDrdAE4j4QAmXpkDz4N5AZaLCQOq+3kBteeNAaYrLQBEHx0A9++dAElnHQBd2x0DtT+dA8PnKQMn/sUC5detAserCQH7Gw0AeAepAb/vcQNOqrEB5k6dAymveQA8q7UAtKcRAndLTQD8O50A=",
          "dtype": "f4"
         },
         "y": {
          "bdata": "zdsKQY6u+UCQ4wJBTJQEQbmWCkFn6QNBcicEQcxQBUFc9ARB6F0HQb68CEHGJwVB3o4AQZTp/EBjbP9AFUsMQXTwCkEoqwpBtl7wQMmYBkEgowxBn/AIQWWgCEH0JgVBl/YAQX3v3EDna/5AD3ENQVyMBkFxxghB1YIIQQjG/0ABFQhB98wDQe6vAEGk2QNB+AAFQQA++kD44wRBo/gLQan3B0G1PABBnoEKQU2rCEGWEgNBco0EQWvk00BEMQVBATgBQWEfB0HR9AlBaoACQafHskCH0gNBkxgFQfBI+UB/Cw1BtIn+QHbECkHjIg1Bzm0DQe/xAUGNPAdBeicIQdzftECDUAVB2U0HQfZwC0FR5ABBWhsEQbpQBUEltANBlPEBQSxwBEHmhwxB3cjtQNBEDUET8ABBwHsAQeJO/UAV5wJB56QEQfUlCUGue/pAiwcAQW0zCEGkoQJBQ0EKQfd/B0FqKfpAjYgBQaUDB0Gh/gJBouUEQbjWC0Fbiv5Az8beQOGIAkEzZARBh6kCQakVA0FSFwZBeFsNQXuRC0H8yQNBnA8CQT3zB0FmKABBTqcIQXMjCUGnFwNBbRQLQfwqAEHpCgRBBdAMQZP1B0E3igNBJLICQdXtC0EePAFBUlYEQYGhC0HEq9BAuNUFQZ4QAUHAQ81Aw+bRQO26DEGCMQBBIx0FQeST/kCSxgZBo9sHQaOGA0H1EwNBz7QIQb0HCkENgw1BONYKQbHK20CPhwJB2NQLQYkhCEHEPAZBRwMKQRRhCEEloQdBO4bVQLP/C0FmIgtB4Vf8QCcuAkFALAxBfjsJQU65CUHx8AVBhwMNQffk/0D/4QdBe8EHQdiwBkGVna1AM7kNQYb4A0GDzqBA/2wDQc99A0FSfwdB9cMDQXp5vEDApQhB6wMLQaYpB0HwavpAcbsBQbVBCEFTJQ1BXGkIQbQAA0E6OA1BBkoDQRxQB0F+gQxBTiv5QIhTCkHt5gtBBr4HQZRMAkH5oQZBOfoEQTYf+EBK/wdBsJEDQQ3HAEHm5QpBkz8NQWaBAEHbmQ1B3OcFQa3tA0EyVQNBh6LpQGarvUC/tAZBtggMQXLEA0EKRgJBAXifQGVkDEFBVwlBkFwKQYRPDUH2zfdAvuYIQVrj/0DBZAdBbosBQXw6BEF3VgxBb+8CQeghCUE60QpBZ8cCQSrL+ECWPfpAsJP7QAnRAUF9VwpBgsn4QOnsAkHq6ApB2poIQcVZAEFtF7xAxgABQQIm+kCs8gZBH9YLQRql+kCUag1BpaYFQeqtCEFSFg1BW7cGQWAtC0EIvAtBC+ABQR1vCkH4D/lA7lEDQYUKDEFpTgRB+HUCQW6s+kDnBwlBbOELQb5DAUEpAABBfD8MQcHJAkGd8AJBeeECQVqx/0BxpgRBzov6QBKDCkFDhQRBn37dQOTJ/0CZ7whB9XrUQHa4BEH3fAJBXhEAQdrwCUF0w/hAcToIQbmgBEGACg1B7t0EQa+D+kA0u+FATNwAQSs9/0AySQ1BjGX5QMFQDUF1LQxBSCD8QAos6kAWBw1BAhP6QDD4CEEkqgZBNTr7QDDiA0GTNAhB77j7QNR9AUFRTwhB/KQMQVAjAEHlxP9Abp8LQVQ8AEHGHPpAJigIQesHDEE=",
          "dtype": "f4"
         }
        },
        {
         "hoverinfo": "text",
         "marker": {
          "opacity": 0.5,
          "size": 5
         },
         "mode": "markers+text",
         "name": "2_and_the_of",
         "text": [
          "",
          "",
          "",
          "",
          "",
          "",
          "",
          "",
          "",
          "",
          "",
          "",
          "",
          "",
          "",
          "",
          "",
          "",
          "",
          "",
          "",
          "",
          "",
          "",
          "",
          "",
          "",
          "",
          "",
          "",
          "",
          "",
          "",
          "",
          "",
          "",
          "",
          "",
          "",
          "",
          "",
          "",
          "",
          "",
          "",
          "",
          "",
          "",
          "",
          "",
          "",
          "",
          "",
          "",
          "",
          "",
          "",
          "",
          "",
          "",
          "",
          "",
          "",
          "",
          "",
          "",
          "",
          "",
          "",
          "",
          "",
          "",
          "",
          "",
          "",
          "",
          "",
          "",
          "",
          "",
          "",
          "",
          "",
          "",
          "",
          "",
          "",
          "",
          "",
          "",
          "",
          "",
          "",
          "",
          "",
          "",
          "",
          "",
          "",
          "",
          "",
          "",
          "",
          "",
          "",
          "",
          "",
          "",
          "",
          "",
          "",
          "",
          "",
          "",
          "",
          "",
          "",
          "",
          "",
          "",
          "",
          "",
          "",
          "",
          "",
          "",
          "",
          "",
          "",
          "",
          "",
          "",
          "",
          "",
          "",
          "",
          "",
          "",
          "",
          "",
          "",
          "",
          "",
          "",
          "",
          "",
          "",
          "",
          "",
          "",
          "",
          "",
          "",
          "",
          "",
          "",
          "",
          "",
          "",
          "",
          "",
          "",
          "",
          "",
          "",
          "",
          "",
          "",
          "",
          "",
          "",
          "",
          "",
          "",
          "",
          "",
          "",
          "",
          "",
          "",
          "",
          "",
          "",
          "",
          "",
          "",
          "",
          "",
          "",
          "",
          "",
          "",
          "",
          "",
          "",
          "",
          "",
          "",
          "",
          "",
          "",
          "",
          "",
          "",
          "",
          "",
          "",
          "",
          "",
          "",
          "",
          "",
          "",
          "",
          "",
          "",
          "",
          "",
          "",
          "",
          "",
          "",
          "",
          "",
          "",
          "",
          "",
          "",
          "",
          "",
          "",
          "",
          "",
          "",
          "",
          "",
          "",
          "",
          "",
          "",
          "",
          "",
          "",
          "",
          "",
          "",
          "",
          "",
          "",
          "",
          "",
          "",
          "",
          "",
          "",
          "",
          "",
          "",
          "",
          "",
          "",
          "",
          "",
          "",
          "",
          "",
          "",
          "",
          "",
          "",
          "",
          "",
          "",
          "",
          "",
          "",
          "",
          "",
          "",
          "",
          "",
          "",
          "",
          ""
         ],
         "textfont": {
          "size": 12
         },
         "type": "scattergl",
         "x": {
          "bdata": "OZW/QL6XuUCIIrhAU5fFQOLrvUD8HrdAbafFQFIgukBZhsdAZD7bQK41ukAUe7tAgQL/QIgau0A2tdVAGcPXQI/V30D14LlA8srCQIwY8kAjPrhAGbr+QHN3sUCU0dxARUjGQFouzEB2l/9AVKm4QCkXuEBdYPlAaP3XQJlUvUBVvP1Ak8bLQP2DxUD4h8RAhx7+QC3i/kCtuPtA9EvdQLBKBkHh1LZA4w/bQHFsv0BForhAsmruQA1SukBu6tRA/QnHQOgWuUAJrLVA0Y/dQM6L6kBy8btAh/67QM0iAEHlzMdAFIPHQFlWxEDAEcVAYYTEQO+X+UCpY7lAbYkHQVpWp0BiDglBps3FQA/b1EAhmcpAOs3XQOGry0CIprtABVP4QAAnxkDVXtBAs2fjQA5540BucrlA1ce4QKRhCEF7V7ZAiH/GQP3zxkCr+rpA9YnFQBo7uEAZWc5AfPm/QP0V2EA7y8dA4SXkQMwxx0D22ehAyMHhQI1q1UAUYdBATLYMQdphvkAenb1A5UbXQJ1Jt0DnL8hAUZu4QKzZ1kANpdVAlxG+QD2XykC+6LtA5hO2QNT+u0Cpg6dASGrIQGdQy0DJ3gJBsUnPQOHwpkAkmchAicu5QJ7ixECg87hAsikCQS5Ly0DCHLxAtTjAQFpXyEBhfrVAD/XJQCuI2EBQHdxAxFXqQMxCykBlzLhAwdH7QKmut0DvqdhAA6PYQC+uxkCMWdZAgYrCQAif2kC6krdAeqzKQBkYA0Epzd5AyTLZQKdVAkGeHdtAA83XQG31s0C/t7dAgh3JQHZQ2EBUb9lAvmu+QCQBvEBdLL1AMzbHQK2o1kDrwr1A6/DEQHZh/kCTi7hAWirUQE1aukCfucVANLPEQE52ykBSkNRAFybFQH1uxUBpXbtAMlnbQLvf2ECGL89A8YTNQKy/30CCkMZA0ZYJQeVLp0Dcob1AWuW4QFhfyUCdh8ZAWtHqQP+XtUCsE7xAesPrQEsiB0EYhLVAvWC8QPCbxkCuFs1ANErJQIYVv0Ba7cFATyrLQGCEx0BfMbdAPu+6QD5SykBiwtNAbNu7QKbvu0DHb71AsanIQAH8yEDvhcpAuMe8QEw9xEAkyaZA0HHHQIEuz0D7B7pA7OC6QHGQyEDxnsVAek73QKxEu0CcFsBA0JS2QCAryEDbs7xAINvHQOSXwUAJYslAWL22QCB1uUCFLbpALdbpQECWvEDjg7ZAd77HQO3y2kAlKcdAwonCQOu0uECBcd9Awj/SQCtOyUAoG8tA71DjQLMwHEGyIgVBxnq4QFqG1UBFwP5AKL7/QNZ8p0B6athAFpXKQIZyv0A1gcVAIIvYQBj1ukAW97pAMqXIQOUf1UARp8hA6R/UQCC+2kDmCgVB5VvhQLoB10AEQ91AOAa2QMiwxUCq++tA23n6QFs4x0BfBOtA8MK4QJIc40DShv9ALZ26QC9OukCNg9hAtyq8QHb4s0AdWLxAnYCnQFnj0UD4NLhAJuIIQSocA0E=",
          "dtype": "f4"
         },
         "y": {
          "bdata": "qjWdQPD9qkDTrZlAzhupQKuSoUC406BAKaeoQOvqnkC5QZ1ALR+5QMalrECFyJtAnSSDQB4opkAY451ATf60QC4qz0DDsaNAe/CaQLoir0BF+5pAq2iOQBbYtkBWQZ1A7tmXQLog+ECzVp9A1/OZQPKrnkAFt6hAESe1QJDJnEDFfPtAcCa+QJ+QrUCmIZ5AH+KDQD6RkkB2qddAKkydQNRvgkC1V6BAqE+fQApAmEAK55lA2fadQKA+rEANQ6dALMGeQPaFmkAdBqFAT2ucQLvQz0DD+ZtAVnK5QC/lkkAVGp5AKPueQESvnkC9GalA2u+pQKnYpkAR3q1A8rKBQPza1kC5B55Argm8QMwEnkAG1Z5AzV6hQI2Lm0AlQpxAl+uWQKI+rEDb4bpAA+bRQDzc0UBSGplAMNGaQE8RkEBko6BAp1S/QAannkAdd5xAuL3BQI5jm0Bf5bFA0PecQDMTtkArbZxAtB6aQFCbnEDYadFAm/etQAP9wEBM2J1A3AfEQC8OrUBrWLFAJAO0QEi7oEAatqRAfsiaQP0Ao0D1np1AFpGbQEalwEB/Rp1ATzqhQD3/xkATv9NA1zTEQLsBmUBKAqFAiYSeQIS6/UDt0L9ADTqbQGFqn0BKZ6NA4IGFQLdFuUAbYZ1AYkChQJhHnkAfcaFAmd26QMP8nkCKLJ9A2QSZQF1Bt0DjxJlA5DuwQOBwmUARTrZAF722QHKTl0Bwe69AjemeQGpNnkBNrZlAWN6iQOQCiUAElp1AzQW3QLBxiUCM6p9AO/i1QCgGtEDkWJlAhfW3QPUbtkCc859AH/GdQJuvn0Cs/ahAdRanQBv+sUD0arZA09PCQJHxjUC8h5hAIAS5QECxnEBPnpZAU6WWQE0lt0AtRqNAUtLCQAS2qEDiaZxABoCcQOQ1tkDEKLZAOmO2QNc4nEAejsJANF+6QGk510Bi45xA/5SaQJrMwEB+yZ1A3HiZQOLQoEDo+d9AAYSZQHH6gUAZeuJA08WcQCiynUAd4pxA+/eeQO3vqEDxaaZAK2ehQEJIv0Auq59ATvebQNDfpECixrhAdc6ZQO3CmECKjZpAe4ycQPtcn0D2K7dAYJOcQHCxrEBgLNZAQMegQOdwsUD/P59Af1KcQDzGpUDPdsJAW4rVQL1JnkAFw65A4CihQKZFnkCJEJxAiCnGQCXHmEDVqZhAuI6fQK8Bm0BpaKxAf2SaQEtBnECVnqBAVB7EQE5WoEAKJp5AQgGZQPwTmEAWgZtAt5idQCcnvkDkV7dAh+OZQBbj1UAMPqBAnmCcQKxitkAzZoRAYq6DQGtC10CFg6FAHsqfQIASnUA7EsFAeGmhQDHImkAAY55Ac9OgQHGyqUBYacFAMbe4QGWzn0BESIJAXo3PQBnltUBDHL9A0M+gQNA3wkDNnJpAvOPHQE48pEBD05lAq6iYQBbF0UAZRoNAvfGeQCus2UAlALZABf6cQIV+y0AulJhAGE/XQN0jnkArM55A1daXQHMDoUA=",
          "dtype": "f4"
         }
        },
        {
         "hoverinfo": "text",
         "marker": {
          "opacity": 0.5,
          "size": 5
         },
         "mode": "markers+text",
         "name": "3_the_and_of",
         "text": [
          "",
          "",
          "",
          "",
          "",
          "",
          "",
          "",
          "",
          "",
          "",
          "",
          "",
          "",
          "",
          "",
          "",
          "",
          "",
          "",
          "",
          "",
          "",
          "",
          "",
          "",
          "",
          "",
          "",
          "",
          "",
          "",
          "",
          "",
          "",
          "",
          "",
          "",
          "",
          "",
          "",
          "",
          "",
          "",
          "",
          "",
          "",
          "",
          "",
          "",
          "",
          "",
          "",
          "",
          "",
          "",
          "",
          "",
          "",
          "",
          "",
          "",
          "",
          "",
          "",
          "",
          "",
          "",
          "",
          "",
          "",
          "",
          "",
          "",
          "",
          "",
          "",
          "",
          "",
          "",
          "",
          "",
          "",
          "",
          "",
          "",
          "",
          "",
          "",
          "",
          "",
          "",
          "",
          "",
          "",
          "",
          "",
          "",
          "",
          "",
          "",
          "",
          "",
          "",
          "",
          "",
          "",
          "",
          "",
          "",
          "",
          "",
          "",
          "",
          "",
          "",
          "",
          "",
          "",
          "",
          "",
          "",
          "",
          "",
          "",
          "",
          "",
          "",
          "",
          "",
          "",
          "",
          "",
          "",
          "",
          "",
          "",
          "",
          "",
          "",
          "",
          "",
          "",
          "",
          "",
          "",
          "",
          "",
          "",
          "",
          "",
          "",
          "",
          "",
          "",
          "",
          "",
          "",
          "",
          "",
          "",
          "",
          "",
          "",
          "",
          "",
          "",
          "",
          "",
          "",
          "",
          "",
          "",
          "",
          "",
          "",
          "",
          "",
          "",
          "",
          "",
          "",
          "",
          "",
          "",
          "",
          "",
          "",
          "",
          "",
          "",
          "",
          "",
          "",
          "",
          "",
          "",
          "",
          "",
          "",
          "",
          "",
          "",
          "",
          "",
          "",
          "",
          "",
          "",
          "",
          "",
          "",
          "",
          "",
          "",
          "",
          "",
          "",
          "",
          "",
          "",
          "",
          "",
          "",
          "",
          "",
          "",
          "",
          "",
          "",
          "",
          "",
          "",
          "",
          "",
          "",
          "",
          "",
          "",
          "",
          "",
          "",
          "",
          "",
          "",
          "",
          "",
          "",
          "",
          "",
          "",
          "",
          "",
          "",
          "",
          "",
          "",
          "",
          "",
          "",
          "",
          "",
          "",
          "",
          "",
          "",
          "",
          "",
          "",
          "",
          "",
          "",
          "",
          "",
          "",
          "",
          "",
          "",
          "",
          "",
          "",
          "",
          "",
          "",
          "",
          "",
          ""
         ],
         "textfont": {
          "size": 12
         },
         "type": "scattergl",
         "x": {
          "bdata": "dRUFQaJUDkHujg1BmXYBQc3JEkFnCwZBqzMKQfSFBUFtMAxBp2YHQTV9DUFjQPpArGgOQQuSC0GbpQdBtzQPQYNLEkHhyQlBph4LQdHjCUG5ZQxB7kYJQaopF0HReARBu14LQahiCUFTthBB800LQTfpDEFxGe9AU7wNQdLcDEHHlAxBOkkKQYIoEkGragpBy98KQdldCEGuYwhBTjENQY03DUGxhwJB3woKQeDpCkHlEwRBquAKQRB4EUFnmwxBpQSnQA8+DkFMwQlBS5r6QJc4CUF+5QtBgBQUQVlb0UDz+gxB8AsMQaBwDEFCGe1A4j8FQUwjCkFMhuRAnK8KQdraDUGd+gZBHEgFQfEBBEFLNQtB4XAAQdgoCkGucQxBwDMMQQujD0GLbQ5BHUAMQZ+kB0HvKgxBiE8LQalVCUECzQ1BqZ8LQT/3C0Hxdw9B3BwPQVLvCUFbmwlBOIoJQQ6KA0Hy2QlBb4ILQUVjDkFPBQtBIgsPQSeR/EBlShJBUV4RQSW0DEHTXglB7g4FQSELCkHH7g1BH9cLQTpmE0FF8QtB0y8JQbidB0HaNg5BjEISQeDlCUHZ0w1B+3gLQQzYCkGvKA5BihwKQVSZyUDiaQpB2QjQQKlVBUGWowhBauEOQcaPCEGT4wxB3PAIQRPLDkGPPw1BF5P9QL3FDEHXTwpBnbcHQTBSD0FHlwVBygAJQebrD0GwTglBltkPQelPDEHhm/1ACVkLQcVeCEEpPg5BYU0BQXfjC0EXhw5BHWMPQZWgDEErCQhB9csJQUji80DZRghBjHkLQUVhCUHg3QtBTBkMQYYdC0H+vRNBlw0SQYUVDkHYLAlBVQ0NQWKyCUFGkA1B9a4LQWd+yEC9MwRBTBwMQSj3C0GvagpBNtMJQRZYDEGiIwZBQNILQdd2CkE7XgtBPlgTQVamCUGe6wxBXM8LQXgV6UC+qwhBiyYOQbnJC0GJQAFBLNYMQWTXDkFsEA9Bpv8JQWKCB0HwIgxB71YNQbJG+kCdaRFBg4bpQB+ZC0EZJgxBTS4WQdxeDEGDJAhBGTQJQc4A8EDahwdB4GQMQQSBAkG0qQhBsoQOQSFDD0HIDQhBtxEOQQh9DEG7KQhBVA0IQXiCCkFBCN9AF/INQUu56EDZOQ1B7QEOQdIaBkGmiQZB3i8JQTwGDUHzAwlB6BEQQTm2DEGb1QpB5C8LQbIbFUEuRwlB8hUYQZr5DUHb6ARBTtIMQXxUC0EMiAxB5cIGQcSCC0GvVBFBmPoLQYh1DUErOwpBOn0OQfe7DEGPhBFBM+sJQRBmD0H6mg1BTksLQTU7C0GgaQ5BV5wLQXU6CUGdWQ9BNhEPQZwlC0HIAgVBfUkKQcfFDUEs6Q5BSq8EQRK76EA0qP1A31cPQYPRDUG/SQhBnxUPQYUPDUEHFAtBgiwQQYZk9UAhvQ9Bn1kIQSz69UAhkAtBRgMPQRma8kA9iQhBHOsIQcIDD0FN/AxBQnsJQSD8CEFWqQtBZ8gEQYYiCEGdlAhBojoNQccgCEE=",
          "dtype": "f4"
         },
         "y": {
          "bdata": "0FijQBLJwUA7gZhASQjkQK5b7EBII+xALKfoQAfol0Ac2M1A6pPnQJz8vUDcqcpAaR2+QHKnzUB7yoJAJEW9QJhM5kDtfOVAj57pQIAsvUCMH8xAQGbfQHnfwkAKYaNAYFHBQPjB4UD9gc5AxwLAQDSjxEBiSsVADlHDQEIcy0DbMcNAM/+8QIrQ5EDNwe1Atha+QD1F6UC9M+5A9VLPQANrw0DXM7BA/x7RQMJnvUCPfJNAS+zfQMHAmUCDs8tAGLbXQB95v0AX8LlAw4vMQHqg3kAk0r1A4CPOQCyK90Cu3s5AguOvQCtPzkD4YdBAgGvYQLbvvECltNJAIZnkQEgjxkAdX5BAcwXvQLaAn0B5PsBA8cCSQBz7vUAn1Z9AcK7MQI1FokA/q8hABYzRQK7H6ECTEcxAPGzJQFqk3ECzeMxAqBqeQNIS5UAP67lAWkPAQK2SwUB42OtA4VbmQH3zkUDndr5AZp/BQHqV50BVy7tAAXWPQCaqx0CD6ulA1OzdQMqUzEAoA+ZAi3fvQDnM30C+cphApZ7NQCmlpUBzY8tAPt/mQKW6gUBoesFA/CbsQEMLjUDGQL5A4r+9QJyMzkAl8cJAfFy9QOTe+UAyRL9APp33QGLDpEBHpYNAzki9QOYgu0CjEM9Ao2flQBUpxEAtWM9AXJbGQLvzzECEDs5AxnSNQJaAwEDROI9AZQSEQOXjpEBtn7hApmPvQKNnzkAgZrNAwgLIQEGx5kBRZclAxoKdQELfwED7WcRAZCm/QHNNzUBVEelAaizCQOkc0UDAQuZAZX/cQPeQ5kCPqcxARIm+QNp5zEDbt89AP4G3QGM7vkAoxeJAnqzPQCJm3kD4dc9A/ffKQIzv+kD0xvBAexKhQAqTzUCxdudAkKvsQPHtzUCjSMFA2TrOQD4Dv0B6gM5AZrbOQKzIj0AYd8VAQvbNQM7B0EAehO9A2CbAQBj9zUBDm+NAsfbxQBUsxkDb4b9AkrW9QGnbkkBArslA+sHEQEchy0DW45lAJmDQQH6M2UBPR8hAfOrGQLzyykA2SuZA4eTCQFCPwkAlfONA2Q7MQDCr5UD6/ehAqi3EQCSvvkDRbI5AncHBQOjfz0DJveNAVP7kQHx2zkDMwc5AURfdQOBKxUCUzs1A8IvHQIpMDkF/S+5AsFvmQIOmuUCdMudAljvoQAeQz0BlPNBAC9jcQKAWr0AHPN9A7dTUQD+RyUCIxaJAdMHOQKc/10Aunc5ADVvBQBPw2UAT9+dAS1nMQH6nuUBPCrdAGgrSQKwZzkAkPOJAlzWfQFQ2wUCszcFAogzZQLCNwUBj/rtAjEbRQOnl5EAxTb1AOY7AQOhOz0DeoddA/PPNQEVu0EAOYLtA43cNQaKz0UDGGJZATHviQM2by0BRKOZADQDBQDdv0EAt8NFAy8GxQCHhtkAV7rpAJ7rkQPeTy0ByW+ZAurvqQNd440DegrBASUTDQF0zvEBVWc9ALIflQDsC5EC67L5AZLGnQNM17kBDHeRA353OQJY/70A=",
          "dtype": "f4"
         }
        },
        {
         "hoverinfo": "text",
         "marker": {
          "opacity": 0.5,
          "size": 5
         },
         "mode": "markers+text",
         "name": "4_the_of_in",
         "text": [
          "",
          "",
          "",
          "",
          "",
          "",
          "",
          "",
          "",
          "",
          "",
          "",
          "",
          "",
          "",
          "",
          "",
          "",
          "",
          "",
          "",
          "",
          "",
          "",
          "",
          "",
          "",
          "",
          "",
          "",
          "",
          "",
          "",
          "",
          "",
          "",
          "",
          "",
          "",
          "",
          "",
          "",
          "",
          "",
          "",
          "",
          "",
          "",
          "",
          "",
          "",
          "",
          "",
          "",
          "",
          "",
          "",
          "",
          "",
          "",
          "",
          "",
          "",
          "",
          "",
          "",
          "",
          "",
          "",
          "",
          "",
          "",
          "",
          "",
          "",
          "",
          "",
          "",
          "",
          "",
          "",
          "",
          "",
          "",
          "",
          "",
          "",
          "",
          "",
          "",
          "",
          "",
          "",
          "",
          "",
          "",
          "",
          "",
          "",
          "",
          "",
          "",
          "",
          "",
          "",
          "",
          "",
          "",
          "",
          "",
          "",
          "",
          "",
          "",
          "",
          "",
          "",
          "",
          "",
          "",
          "",
          "",
          "",
          "",
          "",
          "",
          "",
          "",
          "",
          "",
          "",
          "",
          "",
          "",
          "",
          "",
          "",
          "",
          "",
          "",
          "",
          "",
          "",
          "",
          "",
          "",
          "",
          "",
          "",
          "",
          "",
          "",
          "",
          "",
          "",
          "",
          "",
          "",
          "",
          "",
          "",
          "",
          "",
          "",
          "",
          "",
          "",
          "",
          "",
          "",
          "",
          "",
          "",
          "",
          "",
          "",
          "",
          "",
          "",
          "",
          "",
          "",
          "",
          "",
          "",
          "",
          "",
          "",
          "",
          "",
          "",
          "",
          "",
          ""
         ],
         "textfont": {
          "size": 12
         },
         "type": "scattergl",
         "x": {
          "bdata": "61gaQQE1D0GH6BNBSngRQYDCFkHPrRdBUSP9QNWFEUGd6xFBTJIRQbZqG0E2ChxBjVgYQaqRG0ElwBVB/iIXQfEPEEGAxxVBjuoZQf3QGEFukxpBWCIVQRaHFUHpbhdBIs0QQUSeEUHZEvxA0l4VQVgHGkFAaBpBeLoWQc21GEGqiRBBJ6DxQOToFUFJZhZBLYUYQULoG0G33BhBTXYVQcwbE0GdKBxB9NYbQbIzGkE/cA9B8fMUQROlGUF9MhJB/EoaQSf+F0GFdRdBswgcQeWdGkFVmxpBxiESQeKqGUHTnxZBeqwaQWClFUGhZRFBHaoQQUeyFUH1BBpBgmQRQW3FFUGdt/xASFUYQcgaEUEB1BtBMVUaQWipGEGizRlBW3IRQeFDFUHEmRxBFeYXQYnDEUFFrAZB0HsTQeFlFkHNwxpBGH0SQSEdGEGNyBJBGbYWQZrzF0EAwRBB1gcRQdfgF0HzyBlBbc8UQSbbGEHdKRdB6ZMaQSB0GkFTVxdBDRUSQY6fFkF5ChFBFuIYQSYUE0EkoxpBPEoYQQSeFUESrxVBmdAPQRugEEFy7RlBaDITQWq9EEE4NhRBsDkXQTCTGEEXyxlBGsAXQT18E0FohBZBMpIWQb14GUFayxdBdQ8SQWQuGUGXHhJBDPsaQWwJHEFs8htBRs0dQU1KEEEUohFBn0YPQWSXHEEvORpBsbEWQcm0G0FFgxxBuIUVQSV9FUE6qxdBNDIYQZE1FkG3mxJBo0AYQXxhE0E0kslAriEZQQXvFkGDkhxBaSsXQUOXFUF0J/5A2AADQSXRFUHruxdBaNwaQZylF0HQJRhBN4oZQZWXGkH6whpBWJQaQTGtHEHudhdBrwoYQTeIFEHp3RBBEvsYQft+G0GxIBZBQaIYQRJMFEHn/RVBKnkXQYJ0GUEcqxxBqyUXQcgSEEHs8OVANIoaQfACG0GAOxZB0HcTQWEUHUGdvhNBNwAaQfUOFEEV9xZB0pwbQc7LF0GI5AZBufITQaDQF0Et9hRBvi0YQdH3E0E=",
          "dtype": "f4"
         },
         "y": {
          "bdata": "BAbDQP6plUAth51Ab++fQKIMrkABZ61A1mGWQGeWr0CPl5xAcvGkQKwew0DvQcdA6WCvQIQYvkDQvq1AmX+mQO1lpkCHgqZAsKK4QHkRs0DYnrhAksCxQFElsEAh/6xAwjykQEZcoEBw55VAL/yqQP7kwUDh5sJAegemQGBBzEBHXaNAJHfjQE+EsED8HaZA9wnUQCubx0A2E7NAMB+qQPplpUDwA8BAyi7HQIAUwUA7wpdA/eSjQJYItkBJnKVAtN24QEUWr0A4ZKxAifXFQLLpvECDnslAyAOlQCCHzUD0N6tAYgLFQJ35r0ASZqRA6aOjQLV+rUDhHL5AzWGlQOnLskBYIZVAYverQMQupEB2YstAsTbIQPCqsUB1/rpAH9KcQHIsrUDX1cpAPF+vQKKxnEC2wopA+mCoQH8QqUCpfLxAtk+aQPQCqkBhUadAOK6lQD95rUBIG61AHQiNQBnWrUBZTrdAje+tQPONsUCp0aZATHHHQGF1uUBLUqdAHvOlQGJHr0B5JqRA1i+wQIMjoEBhXMhAtMDFQD5FqEAA07BAAdGiQG74rEDTfbZACVqdQAtyo0CAP6VA+ZWtQP6cr0C8WbdAt06tQFaWpkB/vq9A+AuvQLmUuEAGSK5Ac8ihQIMjuEAjeaBAAybMQLKAy0CWPstA1Rz7QBwNjkCvv5pAcIiVQEMtxEB4C8BASxGtQIPMykDNfclArCiwQGmzsUCdj61AoHCxQGleqECxPaVA7Q+pQOYCn0Ca0ddA8pK1QOd0rECgr8lA1damQLnYsUBSVJdAAwcBQWIWr0CspK1AvffMQF4GrUD5trFAuBO5QJq4vEBeK8tAOCS8QDpTyUBVBK1AYdGvQH0TpUDW9aNAhaa2QCngv0AmrqlAYS2wQMGookAxoqhAfymvQOsJzEAo8ctA2UGsQJ3sokD2BwRBrg26QDvTu0B93q1AkpKeQGSyxUDL0KFAzOjLQMk1qkCnxK5AFP3LQDXZrkAQA4pA+eecQC+8rUDlrrFADqOvQGAtqkA=",
          "dtype": "f4"
         }
        },
        {
         "hoverinfo": "text",
         "marker": {
          "opacity": 0.5,
          "size": 5
         },
         "mode": "markers+text",
         "name": "5_food_and_the",
         "text": [
          "",
          "",
          "",
          "",
          "",
          "",
          "",
          "",
          "",
          "",
          "",
          "",
          "",
          "",
          "",
          "",
          "",
          "",
          "",
          "",
          "",
          "",
          "",
          "",
          "",
          "",
          "",
          "",
          "",
          "",
          "",
          "",
          "",
          "",
          "",
          "",
          "",
          "",
          "",
          "",
          "",
          "",
          "",
          "",
          "",
          "",
          "",
          "",
          "",
          "",
          "",
          "",
          "",
          "",
          "",
          "",
          "",
          "",
          "",
          "",
          "",
          "",
          "",
          "",
          "",
          "",
          "",
          "",
          "",
          "",
          "",
          "",
          "",
          "",
          "",
          "",
          "",
          "",
          "",
          "",
          "",
          "",
          "",
          "",
          "",
          "",
          "",
          "",
          "",
          "",
          "",
          "",
          "",
          "",
          "",
          "",
          "",
          "",
          "",
          "",
          "",
          "",
          "",
          "",
          "",
          "",
          "",
          "",
          "",
          "",
          "",
          "",
          "",
          "",
          "",
          "",
          "",
          "",
          "",
          "",
          "",
          "",
          "",
          "",
          "",
          "",
          "",
          "",
          "",
          ""
         ],
         "textfont": {
          "size": 12
         },
         "type": "scattergl",
         "x": {
          "bdata": "c0KtQO5Cr0AtdbVATc+rQJAzr0Br87FAVM6tQBj4uUDyuK9AveSvQIx3s0BJdsVA9haoQHoNtEAFXq9ABN62QNY7rkB2/NNAhqyyQPmnsEAm8LNAQYSvQEhb3UBr8axAsw6wQKOPsUBzya9AVkGvQCgFtEBeDLJA/EyxQJyNrUDCuLdAItTTQJfytUBb97RAfoWwQMpUr0Am06tA51q2QPqzsUDTYv1ADTy3QJ9aCEEFJ7BAdsLUQLV69EARt7NA1VSzQI3zrUDnma5AzsaqQKQ3q0DbOK5AsE+oQJBtr0CT8NZA0cexQJ0kskCKgLJAYLyvQE7JukBE1atAHG61QINZsEBOqLJAkdewQEbO1EC0yK5AzumwQENk2ECcJ6pAB1iwQKp+r0Ad8a1ATKawQCdftEAUULBAIo+tQND3sEDhA61ABgHxQIohrUAEubFAN+OzQGwGskCkA7hAZyuvQKIPy0BZPK5AwOexQFu6rkBHN69AltOuQLKB0UALZK1An+ewQPFUs0As9rNAvBGxQHkesUB1Tq9As42vQPyEs0AESLdA+lyvQDj7s0DXx69AnMywQEdB3kAxcNVAUQG6QI7TrEDKPaxAFo+sQIBgrEDlLK9Al0+0QEnerUBCILRA92avQOXys0CFRrhA6CWqQOzDq0DYSLFAoo6xQOm8q0DN4a5ABRS2QA==",
          "dtype": "f4"
         },
         "y": {
          "bdata": "8kPHQJ5bzECn8tJA31C+QAeAy0DUSslAfpHAQIfWyUCWrMdAM2fTQM9BxkD8cMdAHhHUQOx+vEDV+c1AInbMQDLmv0CjJLlAWuPTQM8ovkDuXclAH0rHQFD1vEBH575AOSPQQKh6yECmkNFAb5XRQPwm1EC4lMlAEBbJQPPDv0Cp0shAmdu5QNYT1UCaN9hA8rfIQJ6QvkCmyrxAW9TXQCFUukCyfdlAf9nhQDJ5CEEhOr9All72QOmIyECB/8tAjUG/QPbjwEDdbMpALuDVQIM/20BT2sNABLHVQMEZx0DUj8VA/BLJQD9QwUCOrslAbb7TQHxEx0BHr71AGbnFQK3GvkAsL9FAEtS9QHIjxEAAzcxAg2/IQKJV9EC7/tNAEP3JQAX9v0AJJcdA6gm9QA1+xUD45s5AVtjCQLjWyEBq271AxD3HQKvovkBXndFAgn7UQIN1z0AoouJA2P7NQLHX00CaA8BAmOPIQH550EBsC9BAGSrBQJ9t1UB/K8xA/wjIQL0z6kA8/rlAO1u9QDPnz0BLispALznTQOb810BwSstAAj/KQCWKv0CAIL9AU2XMQBq72EAok8NA0o7JQPOovkDBZL1ASVG9QEMPxEAGFNFA3BTHQFEPv0CDu8RAba6/QOG2xkDadM5AohHVQIV4vUDKYsdAiWvJQDQNvUBc1LlAlQK/QA==",
          "dtype": "f4"
         }
        },
        {
         "hoverinfo": "text",
         "marker": {
          "opacity": 0.5,
          "size": 5
         },
         "mode": "markers+text",
         "name": "6_bone_the_and",
         "text": [
          "",
          "",
          "",
          "",
          "",
          "",
          "",
          "",
          "",
          "",
          "",
          "",
          "",
          "",
          "",
          "",
          "",
          "",
          "",
          "",
          "",
          "",
          "",
          "",
          "",
          "",
          "",
          "",
          "",
          "",
          "",
          "",
          "",
          "",
          "",
          "",
          "",
          "",
          "",
          "",
          "",
          "",
          "",
          "",
          "",
          "",
          "",
          "",
          "",
          "",
          "",
          "",
          "",
          "",
          "",
          "",
          "",
          "",
          "",
          "",
          "",
          "",
          "",
          "",
          "",
          "",
          "",
          "",
          "",
          "",
          "",
          "",
          "",
          "",
          "",
          "",
          "",
          "",
          "",
          "",
          "",
          "",
          "",
          "",
          "",
          "",
          "",
          "",
          "",
          "",
          "",
          "",
          "",
          "",
          "",
          "",
          "",
          "",
          "",
          "",
          "",
          "",
          "",
          "",
          "",
          "",
          "",
          "",
          "",
          "",
          "",
          "",
          "",
          ""
         ],
         "textfont": {
          "size": 12
         },
         "type": "scattergl",
         "x": {
          "bdata": "SasQQZ8cFEFBHRRBLlwUQdeGFEEk4hRBOWcRQVZuFUH1XxRBv7cUQdUBFEEWqhRBb9ITQZlYFEEgMBRBKOASQUf0EkFJnA9BjeUUQfbEEkFpLxJBGxYQQc5UF0G0vg9B/lsUQdH3E0FX9BZB0BkUQbWbFEGk1xRBo8QTQZTMCUF9RxVBMAcVQe9GFEFHMBVBScASQeqnF0FXmBFBNdMUQbITFEGdEBBBJzkUQR0LFEFx8g9BIK8UQURyFEEgpApBU2YVQfzZFUFltRRBuToUQamXFUFIVBJBJt8UQZ2bCUF9whBBI3USQRouFEF2BhRBQ0kUQRAkFEGPXxJBjEMWQdm+FEEZexRBZXcUQQBoEEF+UxRBYjwUQVRFFUHhUBNBcof4QIEJEUHFgA9BugMVQeOoFUFUVhVBO8sUQSkeFUHCyBRBPYIUQSC1DUHicRRBvGUUQSroFUHWzBRBsLsTQQlhFUH5jQ9BS1MUQdd6DkEHuhRB2iwUQSo+E0GKuxRBr6ITQd5uE0HsneBAVVcZQbl8FEFrThRB5RgTQeTECUFIYRRBYx0UQXRUFEFm7RNB3EYUQc+UE0GlvBRBtPkTQZ7FFEErnRRB",
          "dtype": "f4"
         },
         "y": {
          "bdata": "d2m2QL8GrkA1xbNAHKS4QPGqsUC7T7BAICS5QElowkBggLdAOdOwQCTOuUDbAq5A/Ua4QLj3t0C+4bdA7Fi4QEv/t0CInLpAHn+xQF9ntEDm/7dAD8W0QDDbwkAZjLBAUzq7QNGDtUBu6L1APsuyQJwCtUANprdAxCqxQL0TukBJcMFAfzW3QAReuUC5UbpAllm5QAPHw0BSnbhA2huwQBhxt0DyQrlAcj2yQPRAtEC7OrlA3D+yQLw3tEDTP7tAWarCQDCMu0BLyrFAD1muQOrUtUBMRMpAqry5QAxcukDSWLlAZM22QGyjuEAPHrVAOMa0QI7st0DwybJA6Um+QBY9r0CDAK5A0LWtQJmLuEDXQ7JAtue3QKwitkC1NbZAoHLVQDkzuEDrV7lAeDm+QDKOxkAs07RAy4iwQH1ys0B7cbdAYTCzQLEotED2C7hA8uytQI5pukCiCrBAxIfOQFOBwkCBNbdA9Wi1QPDetUBUg7BAape1QNCbtUCBuLBA1hGzQA+CtUBFiM5A9vfFQN2os0AdjK5A1g+4QNCMukCvJLRAqg20QKkhsUC1XrtA57OvQDqKtkC8d7ZAUEu0QNRosEAPka1A",
          "dtype": "f4"
         }
        },
        {
         "hoverinfo": "text",
         "marker": {
          "opacity": 0.5,
          "size": 5
         },
         "mode": "markers+text",
         "name": "7_the_of_to",
         "text": [
          "",
          "",
          "",
          "",
          "",
          "",
          "",
          "",
          "",
          "",
          "",
          "",
          "",
          "",
          "",
          "",
          "",
          "",
          "",
          "",
          "",
          "",
          "",
          "",
          "",
          "",
          "",
          "",
          "",
          "",
          "",
          "",
          "",
          "",
          "",
          "",
          "",
          "",
          "",
          "",
          "",
          "",
          "",
          "",
          "",
          "",
          "",
          "",
          "",
          "",
          "",
          "",
          "",
          "",
          "",
          "",
          "",
          "",
          "",
          "",
          "",
          "",
          "",
          "",
          "",
          "",
          "",
          "",
          "",
          "",
          "",
          "",
          "",
          "",
          "",
          "",
          "",
          "",
          "",
          "",
          "",
          "",
          "",
          "",
          "",
          "",
          "",
          "",
          "",
          "",
          "",
          "",
          "",
          "",
          "",
          "",
          "",
          "",
          "",
          "",
          "",
          "",
          "",
          "",
          "",
          "",
          "",
          "",
          "",
          "",
          "",
          "",
          "",
          "",
          "",
          ""
         ],
         "textfont": {
          "size": 12
         },
         "type": "scattergl",
         "x": {
          "bdata": "PuzFQAY7xUC2C8hAYQzIQFCGxUAE8cdAj5zGQId2xkBKX8tAsk7CQLn/xEAQAcdAvoLFQMvBxUBE48RAJwrHQFofyECNmr1AKb7GQAjhxEA4EMZAg1bCQFoVxUDTKc5ADzsPQcOjyUAiw8ZAtvXOQOl/HEHmgMZAkXLFQHL6wkD70sJAUHfKQFhGx0CfVsZAN27GQOD5HEEvRwpB2OjEQGa2x0CvacdALR69QJ8AzEAEp8hAvlzHQEc6zUCBOcxAH1rEQE/5vEDb6cVAIvLCQBYQx0Byu9JAcBLQQEo1ykBO48VATBzNQBOoyUDMEMdA3/nFQCa7y0CCCsRAGjvCQFK8zEDgucVAuPrAQDCmyUCw2cZAeGHHQMS0xECCA8hA6I3EQMWSw0DmDMZA8ofHQP40w0DqjMRAQ0bFQB+1xkAqxf9AyP3FQGw3xkBfrMNARdrGQBRPykAUoMVApAzIQIoWxUAj1MVAg73lQD86xECCgsNAcl4KQSG0x0AtB8VAh1fNQAZaBEGFMcVA/qXJQC+uykAlu8NABrXFQEf8G0GysghBrO/FQOeqyEAE2rlAuG/DQC5pxECoeslA6jLGQAqKykB43cVAtMPIQFlD0kA=",
          "dtype": "f4"
         },
         "y": {
          "bdata": "j6wAQS0+AEGbxgBBICgAQcWDAUEhhQBBUr7oQCdm6kCGLwFBpeX6QHZx/EAKmgBB4vEAQdEkAEGFJgFBAPvpQBbfAkEzKO9AMpD4QE3i/UASLwFB4xj7QDL5AEFWUwBBa027QFeB2UA3GO5Ah+YAQeZK/UCAxANBriUFQeqE+0C0NvxAiyYDQbly+0C2R/pAfQ0AQWet/kCzorpA98EBQWCaAUEja/tAMAjvQGXvAEE1ePlAyBwEQYZ8A0FlIwJBWif7QLXy7UCVpwRBzvj7QKay/kD7r/1A5Y0DQWpK+kBdpwJBxLQBQTC0AUEPqQRB1HIBQdPr9kDMSQBBMNL5QGg4+EAiaP1ALzv3QJH3BEEADgRB4wsCQZpaAEHm3ftAqAsBQYs//UDUAvxAtcD3QOrB/0BEk/xA/h0BQeXpBEHqLANBjVIFQTvwAkHHkPpAlIr5QOA4AUE8tQFBRT4BQV0r/ECOxwFBUc8LQSJB/kDphf9AxHm6QAEq/0DzXABB+1cAQd+3o0A58QBB2ZYAQayh+ED2SQFBq4z7QNre/UDtfbBAn+AEQeTo/0C7gOdAjw/9QNeTAEFp8QBBEu8BQQAE+UC8wgRB1NnnQEhQ/kA=",
          "dtype": "f4"
         }
        },
        {
         "hoverinfo": "text",
         "marker": {
          "opacity": 0.5,
          "size": 5
         },
         "mode": "markers+text",
         "name": "8_gut_and_the",
         "text": [
          "",
          "",
          "",
          "",
          "",
          "",
          "",
          "",
          "",
          "",
          "",
          "",
          "",
          "",
          "",
          "",
          "",
          "",
          "",
          "",
          "",
          "",
          "",
          "",
          "",
          "",
          "",
          "",
          "",
          "",
          "",
          "",
          "",
          "",
          "",
          "",
          "",
          "",
          "",
          "",
          "",
          "",
          "",
          "",
          "",
          "",
          "",
          "",
          "",
          "",
          "",
          "",
          "",
          "",
          "",
          "",
          "",
          "",
          "",
          "",
          "",
          "",
          "",
          "",
          "",
          "",
          "",
          "",
          "",
          "",
          "",
          "",
          "",
          "",
          "",
          "",
          "",
          "",
          "",
          "",
          "",
          "",
          "",
          "",
          "",
          "",
          "",
          "",
          "",
          "",
          "",
          "",
          "",
          "",
          "",
          "",
          "",
          "",
          "",
          "",
          "",
          "",
          "",
          "",
          "",
          "",
          "",
          "",
          "",
          "",
          "",
          "",
          "",
          "",
          "",
          "",
          "",
          "",
          "",
          "",
          "",
          ""
         ],
         "textfont": {
          "size": 12
         },
         "type": "scattergl",
         "x": {
          "bdata": "zbgZQXYe5EBVp+1AfM7eQKOS8ED0Gu9A4uDoQM+F70D3XeJAJITmQIkD7kCXXutAohHrQK1yv0Dtmd5AVMW+QPzo60D2vulAv5PoQBpJEkGHTwpBuePsQGnR5EArmedAYTwQQXpzCUGXIuFAXXvpQAK17UCOjftAVSLmQHqe3UDZIOZAoJLnQDxs7EDZYRFB3+zrQJan20AHY91AT7/sQEjX8EBUxexAbGLsQPl24ECIoN1AjfnqQHBszUB9Y+1A96nwQLkH3UCn9QlB3ZG/QPD1C0GIl/BA/kDVQIdz5kBu7OxAL2HcQIoI7UDkL91AkW/pQAIB30Bobd1AjsvuQBXqtkBdKuBAQMbsQLNv8EBKHvBAFFndQE3L3UDukN1A28O/QC2fEEFHI+hAnQjtQInf5EBK9PlAnpjsQA1XEUENkQ9BnSDgQMYm7kBisRFBq1zqQPQF3kAw6OxAAbHsQCkR4kACSe5AM0TrQM1+8UCT4OFAjtfqQEUa3ECYBeBAwwu/QASo7kCYH+BAWVHbQAf13UB5o9tAjDPiQHOE6UAN0+dAc5bhQJfO60A5HNxAUZvkQNLU40Btb+JA/UXeQP7J5kCEDu1Al+DiQJLb7EDqyOFA4NTgQAdy4kDNgO5A39PwQBo64kA=",
          "dtype": "f4"
         },
         "y": {
          "bdata": "IVrTQFdN9EBYouxAkmHhQAbH5EBiq+9AkprwQMU/5UA82uFAtATvQC1A+kAv6vhAX3XxQJlh7ECp8+hAyiXrQGe08EBCh/JAz0DqQCcYq0BDDv1AiJfuQCqy8kDOKPZAC7CsQPnZ/UASPcVAoo3wQC9v8EB02wJBlvnbQDXT7EAd4+dAa6z2QMcD7ECT5qpAZB/wQKry7UCSr+BAquDuQCmX40BDB/JAbzX9QGSJ9ECSGO1AFK7rQHCs9kDHSe9A5SrkQMiS70BdXv1AV/3qQJbW0ECXyeRAFzXuQOf3/UCKJ+9ARCHtQB9Y/EBuCuxA8JnxQHUC8kDtHONAB4vmQDvR2UDj1OVAAVPuQF6V5UCm6OlA6X3sQJo170DAR+ZApcnqQEZimkDptvZAlaHvQLFh5EAQW9JAbTr4QGhonED7F8dA4S/fQLAR7UCi2qlA5rv2QHo46UASze5AXlrpQBws8UDiJutA5wDyQO8Y40DM7s9AZxLvQISf60BMkthAIazqQP0b+UCWvPFA2dHvQAhF6kCwPPFAvfHpQL8Z+EAHPPVA/ezZQCdE9kBN4+tAY+XUQBE/yEC54fNATwjnQOzHCEHcr/dAYtLxQC786kBgsO9Ak7TPQHGf40AmcPFAtA3oQBhC8EA=",
          "dtype": "f4"
         }
        },
        {
         "hoverinfo": "text",
         "marker": {
          "opacity": 0.5,
          "size": 5
         },
         "mode": "markers+text",
         "name": "9_plant_the_of",
         "text": [
          "",
          "",
          "",
          "",
          "",
          "",
          "",
          "",
          "",
          "",
          "",
          "",
          "",
          "",
          "",
          "",
          "",
          "",
          "",
          "",
          "",
          "",
          "",
          "",
          "",
          "",
          "",
          "",
          "",
          "",
          "",
          "",
          "",
          "",
          "",
          "",
          "",
          "",
          "",
          "",
          "",
          "",
          "",
          "",
          "",
          "",
          "",
          "",
          "",
          "",
          "",
          "",
          "",
          "",
          "",
          "",
          "",
          "",
          "",
          "",
          "",
          "",
          "",
          "",
          "",
          "",
          "",
          "",
          "",
          "",
          "",
          "",
          "",
          "",
          "",
          "",
          "",
          "",
          "",
          "",
          "",
          "",
          "",
          "",
          "",
          "",
          "",
          "",
          "",
          "",
          "",
          "",
          "",
          "",
          "",
          "",
          "",
          "",
          "",
          "",
          "",
          ""
         ],
         "textfont": {
          "size": 12
         },
         "type": "scattergl",
         "x": {
          "bdata": "MOG3QJVzvEDPOalAYlCvQFHeqkCg2KpALnSoQHZXqUC62KpAvCynQG/UrEDLZ69AlfKvQLR1r0B2ObdARvGuQBg2rkBUD6tAp5GoQOAvrUBVarBAn4asQFKSqEC9kapAaeivQNPLrUB+XbVAXXivQOWDs0B0e7JADruoQJW5s0BgvbRA9n+1QIO7rEB2EqhAOa2pQNPLrECzeapA/KSoQC8jt0CfTKdA/vu/QH7frkDdE6lAbsq0QOqWrEChD61AjTezQM1au0CMnbdAbFewQMfgqkAfVatAJN2sQJiMrEBbWLJAuOivQMzNr0DgSqxAq2OrQLgtpkCDwKpA6cCnQDyqtUDuA6xAhR+rQPIvtUCWe6lAFIO1QOCnu0CViK1ALg++QENtu0Dv8bdAfqm7QEest0AZj6dAbl+8QK7ZtECqEsRA7MyoQFWerEAebqxAzIOyQN3frEBWVr1A9n6zQNLxtUDSYbFAG5qoQJWqvUAGg6pA7GitQM7uvECdFLVAB4a5QJG2ukAzI6lAMtKrQPUCtUDAHK1A",
          "dtype": "f4"
         },
         "y": {
          "bdata": "mP7nQEK530Bdxt9ASerqQMcg50B3PuRArVTiQG7h5EAO1OVA6cfWQFa960C3BuxAabzsQHp06kA9fu5Aw5XpQHTF7UCo5uNAANnjQHl95UAoTulAL/TtQJly40BxgOZAxNTXQORb7kBi8+dAHvXrQLsf6kD8YutAV5bgQE/S6UChrudALJ7oQM3760DJhuNAJeviQLHt4UA4wORAMorgQDiV7ECZNNVAUd3rQL7U6kDGQ+ZARo7oQOUu7kCsjO5AMTjpQHMd6UCWOuJAWz3rQM4H6EB6VORAOdPhQPXy50DzJOVA5yPtQCJ950Bw9+JAH6TtQGDa1UAG3uhAy6LXQOih60DWmOZAsCLgQGRt6EAVAuZANirpQIvE6EAcletAQE7vQNVN5kCiiulA6knbQE1H70DjAtRAEdrpQPf950BZs+hA9OXlQBTk7kAv/+1AmkfsQKCX7kBmdudAOwzoQIYN6UCyV+pAGrrjQEDF6UBQZ8xAbgXvQJnD6UA/xOZAj0vVQF//6kCpwORA7oznQHk910APl+5A",
          "dtype": "f4"
         }
        },
        {
         "hoverinfo": "text",
         "marker": {
          "opacity": 0.5,
          "size": 5
         },
         "mode": "markers+text",
         "name": "10_brain_the_and",
         "text": [
          "",
          "",
          "",
          "",
          "",
          "",
          "",
          "",
          "",
          "",
          "",
          "",
          "",
          "",
          "",
          "",
          "",
          "",
          "",
          "",
          "",
          "",
          "",
          "",
          "",
          "",
          "",
          "",
          "",
          "",
          "",
          "",
          "",
          "",
          "",
          "",
          "",
          "",
          "",
          "",
          "",
          "",
          "",
          "",
          "",
          "",
          "",
          "",
          "",
          "",
          "",
          "",
          "",
          "",
          "",
          "",
          "",
          "",
          "",
          "",
          "",
          "",
          "",
          "",
          "",
          "",
          "",
          "",
          "",
          "",
          "",
          "",
          "",
          "",
          "",
          "",
          "",
          "",
          "",
          "",
          "",
          "",
          "",
          "",
          "",
          "",
          "",
          "",
          "",
          "",
          "",
          "",
          "",
          "",
          "",
          "",
          "",
          "",
          "",
          "",
          "",
          "",
          "",
          "",
          "",
          "",
          "",
          "",
          "",
          "",
          "",
          "",
          "",
          "",
          "",
          "",
          "",
          "",
          "",
          "",
          "",
          "",
          "",
          "",
          "",
          "",
          "",
          ""
         ],
         "textfont": {
          "size": 12
         },
         "type": "scattergl",
         "x": {
          "bdata": "SQINQRWbD0GQlxFBe/YHQQSpDEEeHBdB0ZIRQRk9E0FKDxFB2G8WQXTsE0E/qw5BiswMQeCbD0EtaAhBJvIPQWJ5EUEd1RBBCwYPQUWwFkE4chBBzaEQQcW3E0Eg1xFBf2YTQTB9DkEEMBBBMCkRQWiWE0HOXwhBrjAQQWPDEEHPsg5BeLoPQdMhDkEwIPVAN9UPQSPcDEHWnxBBzCERQc/QD0F57BZBDc4OQW9FEUHhzQ9B0Q0QQV6XD0GAihNBsMYSQafxFEFXhhFB0SkPQUQJD0Hv8w9B3gkQQaQZEUE0OxdBs3L9QBwqCUEiZQ9BDe0OQUbpDkEZFwpBRngQQQGIFkG2mgxBIa4RQXM1EUFWCA1BwcsVQVBZEkE7RRFBMzYSQUZNF0G9CRZBOFgPQfdFEEGOdhFBdPURQWbdEEET1BBBE00LQaldF0H0ugdBDaMSQe+yCUHOahJBYTYXQbP9FEFmdgxB1Z8IQXc2F0HIkwpBexURQWJ/EEFuORRBltETQeAiDkHOGxBBSQoXQROpEEG87Q9BpOQTQfZvEUGXIhBBA7EQQc1YD0ETugxBPggRQfvJDEFicQpBqYUTQcSqEEHHqxNB8PMQQaOcFEEYOxdB+8kQQe5HBUEZkg1BCzwSQVvcB0FMARFBy+8OQe3YFEGKSBFB5w4RQX5KEkE=",
          "dtype": "f4"
         },
         "y": {
          "bdata": "19yKQGaIjkCxTIpA57qgQPYoikDxB4tAEoeLQAS2i0CWapFAx0OLQNSZh0BQmJRAomyIQBnBjkAy64JAoW+RQLKHkUDG+I5Ao02MQDU2ikCyPq5AzgycQML8iEAEgJhAS5aJQDeDi0AjppBA036KQN8KiUCLoIJAKwaPQPXcjkDOhItAhjiOQA9qikBiMJpANg+RQCgki0DLxJNAcFKOQFwbkEB4volAvIGVQC8ljkA70JFADcuNQDjtk0C8e4hAepuIQKTSjEAJXo9AYqaMQH3jkEBTtotA5R6RQHwOlkAZ3YpATamVQFj6jUAHcZJAY4SNQGjhlEAE2qdAxHCPQBo9ikAldYlAaDObQKTXkkBZ5olAOSgEQZ+1iUDrIo1AX2SZQFh/jECbP4pArumPQEnij0DMippA+76aQEtHmEBHfpFASaWKQNj9ikBwOIJA0y2KQPLXjUDFcJNADyOLQCuxikCOQolAo12NQGEojECUVpBAO0GSQOGejkAUoYtA112IQD8sjEDBAIxA9xuLQDmIjUAudoxARvaJQIeLkUDl94xAxyaSQIRii0Bz4IhAXBCNQGy+iUDVzIxAmleIQD4PlEAS74hAkt2RQKxCiUBYu4pAfEeQQP2bn0AsE49AMpmIQOwqgkDHg4lAFX2eQBWdiEA0xI1AqDCWQLmvjEA=",
          "dtype": "f4"
         }
        },
        {
         "hoverinfo": "text",
         "marker": {
          "opacity": 0.5,
          "size": 5
         },
         "mode": "markers+text",
         "name": "11_the_and_of",
         "text": [
          "",
          "",
          "",
          "",
          "",
          "",
          "",
          "",
          "",
          "",
          "",
          "",
          "",
          "",
          "",
          "",
          "",
          "",
          "",
          "",
          "",
          "",
          "",
          "",
          "",
          "",
          "",
          "",
          "",
          "",
          "",
          "",
          "",
          "",
          "",
          "",
          "",
          "",
          "",
          "",
          "",
          "",
          "",
          "",
          "",
          "",
          "",
          "",
          "",
          "",
          "",
          "",
          "",
          "",
          "",
          "",
          "",
          "",
          "",
          "",
          "",
          "",
          "",
          "",
          "",
          "",
          "",
          "",
          "",
          "",
          "",
          "",
          "",
          "",
          "",
          "",
          "",
          "",
          "",
          "",
          "",
          "",
          "",
          "",
          "",
          "",
          "",
          "",
          "",
          "",
          "",
          "",
          "",
          "",
          "",
          "",
          "",
          "",
          "",
          "",
          "",
          "",
          "",
          "",
          "",
          "",
          "",
          "",
          "",
          "",
          "",
          "",
          "",
          "",
          "",
          "",
          "",
          "",
          "",
          "",
          "",
          "",
          "",
          "",
          "",
          "",
          "",
          "",
          "",
          "",
          "",
          "",
          ""
         ],
         "textfont": {
          "size": 12
         },
         "type": "scattergl",
         "x": {
          "bdata": "9WAOQZpSEUFDdwhB+/kQQXCkC0HYdBBB5wMNQdohEUFWXPpAb7QPQV6ZEEGHyA5BMkUGQRJnD0HliuFAYeIJQU7eEEHxnP9AlcoEQdIaEUH4IBNBXIMNQR3ZD0HrMRNBH10HQXVWEEGLNA1BknkLQf45EkGfyBJBayITQT1bCUGRiQ9BioUMQe5gDUE9jxFBPy8QQQdFCkHZBhNBAzIPQZaxD0G1PhJBFpIPQX02DEFYUQtBGhgAQT2UBEFaBRJBnDQQQQlUEUGcVw9BR4kPQXj+DUGkFQlBNSEQQSW0EUGUYARBlLELQS7IDkGoRRBBthEQQS9kEUHBYQ5BSYAQQZGND0GYlgxBilUPQeiUDEFfkQxBzcsMQanOD0E18QdBX0kKQXEaEkHYQAhBVDUKQVxJEUHJWwdBghASQdn6D0EyTw5BC3gIQehRD0HeuQxBNXEQQX/5EUFgdglBSrwPQaFJEEEqmBNBNUcIQbZQCkHXuwhBq8YJQdPzE0EKw/pAEyEIQdZuE0F8nghBmEUFQXzeDEEsnwlBMFkTQfQ8EEEoCgdBnPMSQVzzD0HfdRBBbDQRQUdqD0GgWg9BEA4FQeq4EEFG1BJBCPQOQVYEE0G8MBBBnWkHQT6KEkGowwRBc00NQRVgD0HmqwxBfqUSQSF2D0F3ngxBlbQJQTxAEUHp9ABBY6MPQZiUBkEfDxNBG/cPQQ==",
          "dtype": "f4"
         },
         "y": {
          "bdata": "mOipQOVzoEAy3ZJAm3mjQO68nECryp9A2ESXQLxAn0AIGJZAn1ihQJsdvUCuLZdANr68QNuknUCG0b5ARBuoQJcNokBUupJAt0KjQANdmEA8paJAT8ahQKtPnkAn2KJAO3SeQPUZo0Bjy49AiTSeQJido0ByJqJAsEm0QIUwukB0QZFAQi2eQGiNqUBUVr9AJYaiQIktoUAs/6BAWrWfQLffpEDZbaZAfbC6QMtZokCQgrJA26iSQI51oUBym6FAFUSkQLJ9wUBDyqBArvK5QGBGoUCgWKNAY8CVQMK1pUCz5KpA1KymQK9XnUAsapNAluugQFcfnUCY359AXfyTQAA1kkCqv6FA5UyTQHGXn0AmEZdAYrmkQBzjnkBICJZAbEqfQMhroUDVQaFAAaWyQPeSvkCjJ5ZAXLuiQKxko0A+uKFAVHqsQKkrkkAxKZxAGv2TQAfoqEA7LKFAaz6gQCMopEBzRKRA12WuQEOYp0CSYKNAVt6nQGmawEDGLpVAaJCeQALytUDCR7tAGvOeQFZXpUBJn4xAOxajQOxdn0BXMKFAQsqiQNqnkkB7IKBArceZQI9soECbPrpA2pahQDmMoEC1AqJA1pikQPtHn0BocJVAzWiQQKWYokDlcqJAnVKiQBTMkUAejJlAh+ShQNhGoEALJJ5A13qfQC2pn0CFXZNARfqgQHYRlUBvrqJA/OWfQA==",
          "dtype": "f4"
         }
        },
        {
         "hoverinfo": "text",
         "marker": {
          "opacity": 0.5,
          "size": 5
         },
         "mode": "markers+text",
         "name": "12_data_and_the",
         "text": [
          "",
          "",
          "",
          "",
          "",
          "",
          "",
          "",
          "",
          "",
          "",
          "",
          "",
          "",
          "",
          "",
          "",
          "",
          "",
          "",
          "",
          "",
          "",
          "",
          "",
          "",
          "",
          "",
          "",
          "",
          "",
          "",
          "",
          "",
          "",
          "",
          "",
          "",
          "",
          "",
          "",
          "",
          "",
          "",
          "",
          "",
          "",
          "",
          "",
          "",
          "",
          "",
          "",
          "",
          "",
          "",
          "",
          "",
          "",
          "",
          "",
          "",
          "",
          "",
          "",
          "",
          "",
          "",
          "",
          "",
          "",
          "",
          "",
          "",
          "",
          "",
          "",
          "",
          "",
          "",
          "",
          "",
          "",
          "",
          "",
          "",
          "",
          "",
          "",
          "",
          "",
          "",
          "",
          "",
          "",
          "",
          "",
          "",
          "",
          "",
          "",
          "",
          "",
          "",
          "",
          "",
          ""
         ],
         "textfont": {
          "size": 12
         },
         "type": "scattergl",
         "x": {
          "bdata": "UqDtQBEaAkH4S/VAcirvQGBqCEGEzAZBBsH0QHY390AAbhJBRdTuQI9aDEG3nutAnkrnQJTJ0EB/zuxATrUEQWf2AEGskQRBN07uQO0X5kCtk+pA1jvqQHVM+kAnRflAl5gNQRINAEHVdQRBpVjxQEBL6kBvOe9AgRoEQXtj2kB8e/pAUKPrQOm2BUFHCQpBNPPrQF/bB0GGegNBCtjnQHji8kDgePVAhJzrQPuV+0B/wAdBhhjnQKNIA0GSsfJAcFb6QA7X+kAf7+tAdb3vQMjW7kDVbPFAOQTnQO5p/UBi6hJBUdkHQXOr6kBQhe1AdgzwQFe88kCv8+1AQLv7QGSy60AY7QZBmHHxQB9f9UAeXO9AWkr0QPAL8EAsEO1Am8nuQKEo9kB7sfZA7PMIQdIW60A/TLtAft3vQHSj7UCjs+1Ag9cGQarSAUGFAfVAh5/5QNad8EAtuu9ARlD2QEfh7kCH7vRAzjrqQJK3B0GAvPpANbQYQYD0DkFSxARB78H8QGdOBEFRjwNBkbL2QKq/7kAN/ehA8Tm0QAg38EAdF/BAmyX6QMz/7UA=",
          "dtype": "f4"
         },
         "y": {
          "bdata": "CSy2QGeRlUCfq7FAkKypQHy5lEAvsZBA19OxQI9DqEDW3KdAPn28QBGStUBfs7VAhgKxQCDarEAwKLtAve6hQFIWn0AxnKFA19W/QJhJtED3ar5A0MO3QI8Co0DfW6NAdGrJQG/Vj0ApX6FAr8WpQBUa0UBDvL9AkBShQIBOrEAx7aBA+127QLVPnUBI4J5A9kTCQPKSnUA7kKBAEV+yQL4fqkBbc8lArr20QATGoEDRL6xAdfWyQPhnpUD/2sZAA8+jQHz6sUD7v75AB6PBQFHHqUATwqRAVrO4QFCGn0BQC6RA2reiQJl80EB5ugtB2rajQArMqUD4h6tAFfqkQMSXtECXnJRAmfSpQP3Hq0As08VA+sO0QGzwskA/ortAss26QK/xo0DK+atAO9KUQEPgxECg1KxADDOoQL4zqkAgmbtA+7uVQDBilkB4dMJAtaelQGuoqEDIgKhA7YmjQI4HrEDv9LZAhfS8QD0ykkA0s6NAdNLVQFHHoUAPb5xAPcqiQOJFnUCJAZ9A7DujQEOSrEDS8LBASZ7ZQI88qECGPKhAT6uiQFJdvUA=",
          "dtype": "f4"
         }
        },
        {
         "hoverinfo": "text",
         "marker": {
          "opacity": 0.5,
          "size": 5
         },
         "mode": "markers+text",
         "name": "13_cardiac_heart_the",
         "text": [
          "",
          "",
          "",
          "",
          "",
          "",
          "",
          "",
          "",
          "",
          "",
          "",
          "",
          "",
          "",
          "",
          "",
          "",
          "",
          "",
          "",
          "",
          "",
          "",
          "",
          "",
          "",
          "",
          "",
          "",
          "",
          "",
          "",
          "",
          "",
          "",
          "",
          "",
          "",
          "",
          "",
          "",
          "",
          "",
          "",
          "",
          "",
          "",
          "",
          "",
          "",
          "",
          ""
         ],
         "textfont": {
          "size": 12
         },
         "type": "scattergl",
         "x": {
          "bdata": "W4YZQWBmGkEd8hhBwJ8YQZuHGUEdEBlBgYsZQY99GUEfiRlBFY8QQRC7GUH3NRlBMWEbQd1FGkEUTBlBq8gaQULSGEGBuRlBohUaQR0vGUFrKBtBW44ZQdemGEGWjxlB4DYaQRiWG0GIdxlBD30QQc1CGUFcfxpB7woaQWfcGkHEnhlBOW4aQZixGUEFQhlBt+UZQfsJGUHsRBpB0d8ZQR0OGUE8/BhB9FYaQeveGkG50RlBrGwaQccwHEFNdhlBRtYZQdKIGUGcghtBX1QaQVyOGUE=",
          "dtype": "f4"
         },
         "y": {
          "bdata": "kWavQHyYs0ADsLFApLexQMaItEBuWbNAaRyvQLU3s0D+fbNAgfm7QH92tUA6O7BABte0QFb/tEBXRq9A5aGzQHNbskB7TbRAOIKxQPA0uEDDaLRAGiawQGT2rUBbhK9AEvuzQG5ktkBcQbJAwi+9QJ/CsUDBWbNA5RKzQN5TtEBCr7NABmSzQKE0tUD0ga9AxkizQFo2sUAWTLRAzcq0QMm9rUB927JAU/KzQHVAtEBPSrBA+zqzQETTuEDYrK9AdYGyQGtXskDT57RAGAOyQE+CskA=",
          "dtype": "f4"
         }
        },
        {
         "hoverinfo": "text",
         "marker": {
          "opacity": 0.5,
          "size": 5
         },
         "mode": "markers+text",
         "name": "14_liver_in_the",
         "text": [
          "",
          "",
          "",
          "",
          "",
          "",
          "",
          "",
          "",
          "",
          "",
          "",
          "",
          "",
          "",
          "",
          "",
          "",
          "",
          "",
          "",
          "",
          "",
          "",
          "",
          "",
          "",
          "",
          "",
          "",
          "",
          "",
          "",
          "",
          "",
          "",
          "",
          "",
          "",
          "",
          "",
          "",
          "",
          "",
          "",
          "",
          "",
          "",
          "",
          "",
          "",
          "",
          "",
          "",
          "",
          "",
          "",
          "",
          "",
          ""
         ],
         "textfont": {
          "size": 12
         },
         "type": "scattergl",
         "x": {
          "bdata": "FmgPQUuZEEHyKBBBCMkIQZFbDkEp7A9BrxIPQWOvFEGqCg9BxhsPQfI2DkFI4BFBYrAOQSI6EEEjvuNA7e8VQWhaDEFMeQ5BUwkQQcChDkF2QBBBaxwQQYt/EUH6aQ9Bo/cOQTDUD0FLuw5BW0YPQdFwD0EoMxBBzK8QQWeQ40Cw2Q5B9isQQeutEEHFGBJBGM4PQV2yD0Hwfg5BXAcQQUXFE0G63hBB/jsXQRp/EEFFu99AebMQQRzLDkGOdA9BVBYPQSupEEG6LOBA3JwRQcVHEEF+CxBB5q0MQWrtEEEQ7g5BzrcQQagbEUFF7g5B",
          "dtype": "f4"
         },
         "y": {
          "bdata": "tPvoQPOh80BZfuZA6HXmQIH13kBzVOxA7l7hQGcm5EAbEu5AgbXgQLy/3UD0obBAdY7bQDUq6EDGmcJAnOyxQCH190Bsge5ARg3tQCRa60B3setA5VLsQKj780DCRuRAYibgQMB57kCL/t9Ag+PtQGf87UAt6+dA9zHyQJTD0UAomelAgU/uQPdY5kAj9+RAgg/sQPZN6ECG4+ZAFgXoQLpk4UAoH8lAtHfJQOXr80AtqtJAuMbpQMI24EBI1vNALxDoQM/q7EDuptFAiY/lQFxV5EAMdPBAb5PdQEt+8kAzUOBAJZuxQNjdsUApfNxA",
          "dtype": "f4"
         }
        },
        {
         "hoverinfo": "text",
         "marker": {
          "opacity": 0.5,
          "size": 5
         },
         "mode": "markers+text",
         "name": "15_the_of_in",
         "text": [
          "",
          "",
          "",
          "",
          "",
          "",
          "",
          "",
          "",
          "",
          "",
          "",
          "",
          "",
          "",
          "",
          "",
          "",
          "",
          "",
          "",
          "",
          "",
          "",
          "",
          "",
          "",
          "",
          "",
          "",
          "",
          "",
          "",
          "",
          "",
          "",
          "",
          "",
          "",
          "",
          "",
          "",
          "",
          "",
          "",
          "",
          "",
          "",
          "",
          "",
          "",
          "",
          "",
          "",
          "",
          "",
          "",
          "",
          "",
          "",
          "",
          "",
          "",
          "",
          "",
          "",
          "",
          "",
          "",
          "",
          "",
          ""
         ],
         "textfont": {
          "size": 12
         },
         "type": "scattergl",
         "x": {
          "bdata": "/vwHQYreCUGxPghByBEEQXZDDkH4BQVBw9wHQe7PCUHrMghBDO0JQQrFDkG0EgxBSXwHQZSeCEEOwwpBzvELQQw6D0H0ygZB7tYJQaqUEEFvQQpBcMYQQcr0BUFrPg9BDdMIQbenCUEpgQdBsjYMQW32BkEuSgZBV3UIQYJ/BkE7DAxBi64HQQlACkG8XghBPtwJQTkeCEHsbQ5BlKAIQf/JCUHazhVBxIgFQeRDCkE/Ew5BrbAJQQYzBkEjkg5BIKoKQa6+CUHkaglBwWoIQeMNDUH0GwpBk4EiQSqYCUGArwtBOuYVQTfACEH7EgpB4P0IQbU5EEEaGQdBSSwIQcX3/0BGtQJBym4JQZNsDkETlA5BEagKQQ0MCEFcCBBB",
          "dtype": "f4"
         },
         "y": {
          "bdata": "5MWJQGB3iUClFYRAbgSDQHCJiEAFDodACFiFQLLZgkAMUIJAbEGCQKRdi0B53oRAm/OFQEDThkBIQ4pALMeGQNswjkAGvohAP72BQFYxl0BNr4FApk2vQP0Fg0BmzKtAuzGDQJMDgkCmYolAAeeEQPz8iUDkRolAO5OCQNE0g0BZioVAcvGBQF9hgUAXq4NAo0mCQLI1hEDs3otATwSEQAyWgUB5OqRAoOOJQM+XgUCh7ohAHfKBQDoOiUDjUItABSeDQGsigUA7x4FAPUGCQPWnhUC7lIJAqWDVQFEIgkCGfYVAjA6lQLijikC2OYJATVSCQCcWkUCNx4JA+pqHQNQ2jUD72YRA3iqCQJGuk0B9/pRA0bCDQK9MhEDvCaRA",
          "dtype": "f4"
         }
        },
        {
         "hoverinfo": "text",
         "marker": {
          "opacity": 0.5,
          "size": 5
         },
         "mode": "markers+text",
         "name": "16_diabetes_insulin_glucose",
         "text": [
          "",
          "",
          "",
          "",
          "",
          "",
          "",
          "",
          "",
          "",
          "",
          "",
          "",
          "",
          "",
          "",
          "",
          "",
          "",
          "",
          "",
          "",
          "",
          "",
          "",
          "",
          "",
          "",
          "",
          "",
          "",
          "",
          "",
          "",
          "",
          "",
          "",
          "",
          "",
          "",
          "",
          "",
          ""
         ],
         "textfont": {
          "size": 12
         },
         "type": "scattergl",
         "x": {
          "bdata": "9KQHQf8ACEFtvQlBNoMGQQhYCkEcNwZBhaUHQSNQC0FULwhBSO8GQdZlCEGz3ghBQpUJQRaDB0FOwAZBuWoPQQDPBUG1Kv5A4rYFQbXhBkGJagpBvxQHQVkkCUG68wdBPcwHQWuKCkHxtgdBPkMGQTkdD0EwQwhBrK4JQWMFCkEhowlB18wHQVbgCEHCWApBGwYJQV7+B0FDJwZBjoEJQdLBB0HAywdBZrsGQQ==",
          "dtype": "f4"
         },
         "y": {
          "bdata": "2rO0QKxBtUDK0bZAgeO4QJBvtkAx/rZAyym1QO6zpkDgw7JAQOi3QIYrtkA/dLZA49y2QMlCtUAVuLhA9WmwQE12uECbl/tAHIq3QP69tkBI57dAuzC5QGoxt0CGSbNAVCO0QK7AuEC+V7RA7263QI1mr0AM+LZAsM62QAahtkCU77ZArVO0QF7atUDogLZA7Zq2QESFs0BqDbdAOdi2QL/Wt0DEerRAE3S3QA==",
          "dtype": "f4"
         }
        },
        {
         "hoverinfo": "text",
         "marker": {
          "opacity": 0.5,
          "size": 5
         },
         "mode": "markers+text",
         "name": "17_synthesis_the_of",
         "text": [
          "",
          "",
          "",
          "",
          "",
          "",
          "",
          "",
          "",
          "",
          "",
          "",
          "",
          "",
          "",
          "",
          "",
          "",
          "",
          "",
          "",
          "",
          "",
          "",
          "",
          "",
          "",
          "",
          "",
          "",
          "",
          "",
          "",
          "",
          "",
          "",
          "",
          "",
          "",
          "",
          "",
          "",
          "",
          "",
          "",
          ""
         ],
         "textfont": {
          "size": 12
         },
         "type": "scattergl",
         "x": {
          "bdata": "LL7aQF4j2UBlD9tA1araQJzF2kCb3NlANmzZQGM+2EBjx9lAQP/aQObnFUG3LA5BrQT3QNwp2UDZROhA0JXZQMd66kDtqthAGvjYQO/F2UAuMNlA9aP2QOBg30BNi9tANzPaQGx/2kAnOvNAJVvZQESj2EBpVeZAJqLXQIQV2kD36tdAcUDcQN3t2UABFdpAB3TZQICR10A1CdpApifcQFtY3kCEHt9ABcrjQKXY2UDsD9lAAg7YQA==",
          "dtype": "f4"
         },
         "y": {
          "bdata": "KF7PQNxN0EBIcM5Ak57PQEBV0ED0bdFAD6/QQJtV0EDhKM9ASDnMQFRn10CglqBAIu/MQKpr0EBQx81A1fLPQGGM0EASQNFA7KLPQNL3z0B0SNFAXwLPQLyszUAyZdBA+HTPQDGm0EBuB9FATezPQApRz0Cn9MpA9p3SQI/oz0CFI85AY3XRQI9/z0BSWdFAyODRQMaF0EBqB9BArwrQQNMP0UD+StFAh+3MQNx0z0DpMdBAUnrRQA==",
          "dtype": "f4"
         }
        },
        {
         "hoverinfo": "text",
         "marker": {
          "opacity": 0.5,
          "size": 5
         },
         "mode": "markers+text",
         "name": "18_and_to_the",
         "text": [
          "",
          "",
          "",
          "",
          "",
          "",
          "",
          "",
          "",
          "",
          "",
          "",
          "",
          "",
          "",
          "",
          "",
          "",
          "",
          "",
          "",
          "",
          "",
          "",
          "",
          "",
          "",
          "",
          "",
          "",
          "",
          "",
          "",
          "",
          "",
          "",
          "",
          "",
          "",
          "",
          "",
          "",
          "",
          ""
         ],
         "textfont": {
          "size": 12
         },
         "type": "scattergl",
         "x": {
          "bdata": "SFe7QP5ZtkAnJLZAHBa7QFUUukBturhAj/q6QDrJvEAn3bdAYq66QG1ZukAjF8RAWua3QIF5p0C96btABN68QPMzvED9fLdACzy2QDd6ukCYKbZAsPK4QDLKtUCwnbZAe4+2QCYFuUDFg7xA3Mu2QFE0ukBL4rhA652nQINFukBpArpAIQy8QBnmuUCa6bhA2Y61QGZftUCzeLpAlVK2QNePvkDC8r5Ay7+6QLJ7tUA=",
          "dtype": "f4"
         },
         "y": {
          "bdata": "L5rqQKNg50AkI+dARH3qQCV38kD1xvFAqIXrQCpq8UDpzeFA0gjqQPo/6UBHwAFBEFbmQHCq/0DtDe1ANYLuQPUY7kBx4uhAnzbnQPVA6kDQ8eZAkUThQIGt50Bdoe1AjnPqQMtk8EAruPBAwMTnQELf6UCbj+VALCfbQNf97kChO+VA2QHeQBIL6kBHTe9Aa5rpQH3v50AmG+pA5vPmQL5W8EDNq/ZA+AnqQE8E50A=",
          "dtype": "f4"
         }
        },
        {
         "hoverinfo": "text",
         "marker": {
          "opacity": 0.5,
          "size": 5
         },
         "mode": "markers+text",
         "name": "19_care_cancer_and",
         "text": [
          "",
          "",
          "",
          "",
          "",
          "",
          "",
          "",
          "",
          "",
          "",
          "",
          "",
          "",
          "",
          "",
          "",
          "",
          "",
          "",
          "",
          "",
          "",
          "",
          "",
          "",
          "",
          "",
          "",
          "",
          "",
          "",
          "",
          "",
          "",
          "",
          "",
          "",
          "",
          "",
          "",
          "",
          "",
          "",
          ""
         ],
         "textfont": {
          "size": 12
         },
         "type": "scattergl",
         "x": {
          "bdata": "6B4AQTtvAEHRav9Ah9n/QKTsAEGzIAJBS0oCQcZo/EDcy9VA+4bQQH2WB0EC0vxAb2MSQbGzAEHqwQVBOXT/QCkoAEFJIQFBzkUAQS50BUEmfABBkTAAQTsy/0DnPP9ADsn/QAlSAEH1ugBB7oUAQRNrA0H6of5AB1X9QCG6/0DFlgBBdE0AQVO1/0ClXf9AaQ0BQV5vAkFWMABBSvz+QCPhAkGrjfxA5t7+QIDn/0BhRgFB",
          "dtype": "f4"
         },
         "y": {
          "bdata": "G9m0QDV5vkDQ4LBAeYq7QOTtukAS6btAG+ihQM05rED60J1AhCytQHEqxEB4caxAoPnqQKFBt0Dmr8BAzpi7QN+3s0BlW7hALeq2QHRkwEBwPLpAfnC5QHVdu0D2lrJAFiuyQK3nuUC4Y7lAERa3QHfZvkAhj7tAjtO9QLogs0COELdAiWi0QL4zr0A3sLFACq+4QF/OvECzhbhA4027QNRRvkDWLqxAfLi7QMVeukDsbLtA",
          "dtype": "f4"
         }
        },
        {
         "hoverinfo": "text",
         "marker": {
          "opacity": 0.5,
          "size": 5
         },
         "mode": "markers+text",
         "name": "20_retinal_eye_the",
         "text": [
          "",
          "",
          "",
          "",
          "",
          "",
          "",
          "",
          "",
          "",
          "",
          "",
          "",
          "",
          "",
          "",
          "",
          "",
          "",
          "",
          "",
          "",
          "",
          "",
          "",
          "",
          "",
          "",
          "",
          "",
          "",
          ""
         ],
         "textfont": {
          "size": 12
         },
         "type": "scattergl",
         "x": {
          "bdata": "jl4OQd6FDkFeXg5BBWAOQQyBDkHEpQ5BtOMOQeRFDkFGug5BXF8OQU11DkEwOQ5BtlUOQaC/DkFbVA5BfXkOQeh+DkERdA5Bo6sOQXzsDkGRvw5BhaoOQRmRDkEmwA5BGT0OQb/fDkFo3w5BQhsPQaqYDkEZnA5BHo8OQQSADkE=",
          "dtype": "f4"
         },
         "y": {
          "bdata": "RkWOQJDmjECD1JBATSaPQMVcj0D+1IxAZASMQMyjj0B4joxAXiOOQKABj0BgFo1AeMyPQEmMjEBrBo9A2UyPQPADjUBD841ACvCKQOPYi0DwloxAGCeKQOmCjEAn/45ARTGOQI5LjUDb9YxAmSuLQME6jECe0IxAnTOLQOAhjUA=",
          "dtype": "f4"
         }
        },
        {
         "hoverinfo": "text",
         "marker": {
          "opacity": 0.5,
          "size": 5
         },
         "mode": "markers+text",
         "name": "21_kidney_ckd_renal",
         "text": [
          "",
          "",
          "",
          "",
          "",
          "",
          "",
          "",
          "",
          "",
          "",
          "",
          "",
          "",
          "",
          "",
          "",
          "",
          "",
          "",
          "",
          "",
          "",
          "",
          "",
          ""
         ],
         "textfont": {
          "size": 12
         },
         "type": "scattergl",
         "x": {
          "bdata": "DbMYQURqGUGpkhlBP0QZQZZ3GUFRkRlBYgMYQWeDGUHEhRlBYbAYQTKqGUHZghlB53QZQTqeGUE/XxlBtgYaQeqCGUFrhhlBnJEZQVicGUHtYRlB2ToZQeN/FUGOMRlBVu0ZQZiLGUE=",
          "dtype": "f4"
         },
         "y": {
          "bdata": "/WqxQJOrskDjybJA0nazQPDFskBDG7NA776xQJnGskB17LJAObexQLMds0BRw7JA5MKyQO29tUARerJA06+yQNQis0CePrNA5eOyQKX+skChzbJAqyeyQAmcsEDGgbJATBu0QFnbskA=",
          "dtype": "f4"
         }
        },
        {
         "hoverinfo": "text",
         "marker": {
          "opacity": 0.5,
          "size": 5
         },
         "mode": "markers+text",
         "name": "22_and_the_of",
         "text": [
          "",
          "",
          "",
          "",
          "",
          "",
          "",
          "",
          "",
          "",
          "",
          "",
          "",
          "",
          "",
          "",
          "",
          "",
          "",
          "",
          "",
          "",
          "",
          "",
          "",
          "",
          "",
          "",
          "",
          "",
          "",
          "",
          "",
          "",
          "",
          "",
          "",
          "",
          "",
          "",
          "",
          ""
         ],
         "textfont": {
          "size": 12
         },
         "type": "scattergl",
         "x": {
          "bdata": "yUK+QGdC00DbuslAFygLQb2w1EAIk9xAMybkQP8i3kBp9ctABSbTQPdg0kBanNNAtue4QBNk1EAx0ddAVdq7QLFt10DIIN5AJRjfQORD10D6v9FAQtzWQALC+kBrBNJAR2e8QIEW00CpgNpAB+jLQB2/zECmwNVA4UrLQH8v6kDNPNRAuUvVQIt+2EAbFtRANyzSQCko7EB3i8lAb5vLQHQC00ByNMxA",
          "dtype": "f4"
         },
         "y": {
          "bdata": "SrTdQJ20u0Cg0tNANiEDQRwVwkCvJM9Aol/TQBNwzkC47tRAZ3zRQJg/00CO3rpAYmnZQKEpwEBrPtBAfjTYQCSo0EBVvs1AOd/EQNoVu0DVlNJAPH7PQJLO3kBvzNFAogvdQGQV0UC9EM9AYX7VQJww1EAhJLtAbi/VQHDhykCZKdFAaZnTQNj60kDzudBAcurRQFx/z0Beo9RAXizUQKt10UD6/NRA",
          "dtype": "f4"
         }
        }
       ],
       "layout": {
        "annotations": [
         {
          "showarrow": false,
          "text": "D1",
          "x": 4.414118766784668,
          "y": 6.955172860622406,
          "yshift": 10
         },
         {
          "showarrow": false,
          "text": "D2",
          "x": 8.285939931869507,
          "xshift": 10,
          "y": 10.480212020874024
         }
        ],
        "height": 750,
        "shapes": [
         {
          "line": {
           "color": "#CFD8DC",
           "width": 2
          },
          "type": "line",
          "x0": 8.285939931869507,
          "x1": 8.285939931869507,
          "y0": 3.4301337003707886,
          "y1": 10.480212020874024
         },
         {
          "line": {
           "color": "#9E9E9E",
           "width": 2
          },
          "type": "line",
          "x0": 4.414118766784668,
          "x1": 12.157761096954346,
          "y0": 6.955172860622406,
          "y1": 6.955172860622406
         }
        ],
        "template": {
         "data": {
          "bar": [
           {
            "error_x": {
             "color": "rgb(36,36,36)"
            },
            "error_y": {
             "color": "rgb(36,36,36)"
            },
            "marker": {
             "line": {
              "color": "white",
              "width": 0.5
             },
             "pattern": {
              "fillmode": "overlay",
              "size": 10,
              "solidity": 0.2
             }
            },
            "type": "bar"
           }
          ],
          "barpolar": [
           {
            "marker": {
             "line": {
              "color": "white",
              "width": 0.5
             },
             "pattern": {
              "fillmode": "overlay",
              "size": 10,
              "solidity": 0.2
             }
            },
            "type": "barpolar"
           }
          ],
          "carpet": [
           {
            "aaxis": {
             "endlinecolor": "rgb(36,36,36)",
             "gridcolor": "white",
             "linecolor": "white",
             "minorgridcolor": "white",
             "startlinecolor": "rgb(36,36,36)"
            },
            "baxis": {
             "endlinecolor": "rgb(36,36,36)",
             "gridcolor": "white",
             "linecolor": "white",
             "minorgridcolor": "white",
             "startlinecolor": "rgb(36,36,36)"
            },
            "type": "carpet"
           }
          ],
          "choropleth": [
           {
            "colorbar": {
             "outlinewidth": 1,
             "tickcolor": "rgb(36,36,36)",
             "ticks": "outside"
            },
            "type": "choropleth"
           }
          ],
          "contour": [
           {
            "colorbar": {
             "outlinewidth": 1,
             "tickcolor": "rgb(36,36,36)",
             "ticks": "outside"
            },
            "colorscale": [
             [
              0,
              "#440154"
             ],
             [
              0.1111111111111111,
              "#482878"
             ],
             [
              0.2222222222222222,
              "#3e4989"
             ],
             [
              0.3333333333333333,
              "#31688e"
             ],
             [
              0.4444444444444444,
              "#26828e"
             ],
             [
              0.5555555555555556,
              "#1f9e89"
             ],
             [
              0.6666666666666666,
              "#35b779"
             ],
             [
              0.7777777777777778,
              "#6ece58"
             ],
             [
              0.8888888888888888,
              "#b5de2b"
             ],
             [
              1,
              "#fde725"
             ]
            ],
            "type": "contour"
           }
          ],
          "contourcarpet": [
           {
            "colorbar": {
             "outlinewidth": 1,
             "tickcolor": "rgb(36,36,36)",
             "ticks": "outside"
            },
            "type": "contourcarpet"
           }
          ],
          "heatmap": [
           {
            "colorbar": {
             "outlinewidth": 1,
             "tickcolor": "rgb(36,36,36)",
             "ticks": "outside"
            },
            "colorscale": [
             [
              0,
              "#440154"
             ],
             [
              0.1111111111111111,
              "#482878"
             ],
             [
              0.2222222222222222,
              "#3e4989"
             ],
             [
              0.3333333333333333,
              "#31688e"
             ],
             [
              0.4444444444444444,
              "#26828e"
             ],
             [
              0.5555555555555556,
              "#1f9e89"
             ],
             [
              0.6666666666666666,
              "#35b779"
             ],
             [
              0.7777777777777778,
              "#6ece58"
             ],
             [
              0.8888888888888888,
              "#b5de2b"
             ],
             [
              1,
              "#fde725"
             ]
            ],
            "type": "heatmap"
           }
          ],
          "histogram": [
           {
            "marker": {
             "line": {
              "color": "white",
              "width": 0.6
             }
            },
            "type": "histogram"
           }
          ],
          "histogram2d": [
           {
            "colorbar": {
             "outlinewidth": 1,
             "tickcolor": "rgb(36,36,36)",
             "ticks": "outside"
            },
            "colorscale": [
             [
              0,
              "#440154"
             ],
             [
              0.1111111111111111,
              "#482878"
             ],
             [
              0.2222222222222222,
              "#3e4989"
             ],
             [
              0.3333333333333333,
              "#31688e"
             ],
             [
              0.4444444444444444,
              "#26828e"
             ],
             [
              0.5555555555555556,
              "#1f9e89"
             ],
             [
              0.6666666666666666,
              "#35b779"
             ],
             [
              0.7777777777777778,
              "#6ece58"
             ],
             [
              0.8888888888888888,
              "#b5de2b"
             ],
             [
              1,
              "#fde725"
             ]
            ],
            "type": "histogram2d"
           }
          ],
          "histogram2dcontour": [
           {
            "colorbar": {
             "outlinewidth": 1,
             "tickcolor": "rgb(36,36,36)",
             "ticks": "outside"
            },
            "colorscale": [
             [
              0,
              "#440154"
             ],
             [
              0.1111111111111111,
              "#482878"
             ],
             [
              0.2222222222222222,
              "#3e4989"
             ],
             [
              0.3333333333333333,
              "#31688e"
             ],
             [
              0.4444444444444444,
              "#26828e"
             ],
             [
              0.5555555555555556,
              "#1f9e89"
             ],
             [
              0.6666666666666666,
              "#35b779"
             ],
             [
              0.7777777777777778,
              "#6ece58"
             ],
             [
              0.8888888888888888,
              "#b5de2b"
             ],
             [
              1,
              "#fde725"
             ]
            ],
            "type": "histogram2dcontour"
           }
          ],
          "mesh3d": [
           {
            "colorbar": {
             "outlinewidth": 1,
             "tickcolor": "rgb(36,36,36)",
             "ticks": "outside"
            },
            "type": "mesh3d"
           }
          ],
          "parcoords": [
           {
            "line": {
             "colorbar": {
              "outlinewidth": 1,
              "tickcolor": "rgb(36,36,36)",
              "ticks": "outside"
             }
            },
            "type": "parcoords"
           }
          ],
          "pie": [
           {
            "automargin": true,
            "type": "pie"
           }
          ],
          "scatter": [
           {
            "fillpattern": {
             "fillmode": "overlay",
             "size": 10,
             "solidity": 0.2
            },
            "type": "scatter"
           }
          ],
          "scatter3d": [
           {
            "line": {
             "colorbar": {
              "outlinewidth": 1,
              "tickcolor": "rgb(36,36,36)",
              "ticks": "outside"
             }
            },
            "marker": {
             "colorbar": {
              "outlinewidth": 1,
              "tickcolor": "rgb(36,36,36)",
              "ticks": "outside"
             }
            },
            "type": "scatter3d"
           }
          ],
          "scattercarpet": [
           {
            "marker": {
             "colorbar": {
              "outlinewidth": 1,
              "tickcolor": "rgb(36,36,36)",
              "ticks": "outside"
             }
            },
            "type": "scattercarpet"
           }
          ],
          "scattergeo": [
           {
            "marker": {
             "colorbar": {
              "outlinewidth": 1,
              "tickcolor": "rgb(36,36,36)",
              "ticks": "outside"
             }
            },
            "type": "scattergeo"
           }
          ],
          "scattergl": [
           {
            "marker": {
             "colorbar": {
              "outlinewidth": 1,
              "tickcolor": "rgb(36,36,36)",
              "ticks": "outside"
             }
            },
            "type": "scattergl"
           }
          ],
          "scattermap": [
           {
            "marker": {
             "colorbar": {
              "outlinewidth": 1,
              "tickcolor": "rgb(36,36,36)",
              "ticks": "outside"
             }
            },
            "type": "scattermap"
           }
          ],
          "scattermapbox": [
           {
            "marker": {
             "colorbar": {
              "outlinewidth": 1,
              "tickcolor": "rgb(36,36,36)",
              "ticks": "outside"
             }
            },
            "type": "scattermapbox"
           }
          ],
          "scatterpolar": [
           {
            "marker": {
             "colorbar": {
              "outlinewidth": 1,
              "tickcolor": "rgb(36,36,36)",
              "ticks": "outside"
             }
            },
            "type": "scatterpolar"
           }
          ],
          "scatterpolargl": [
           {
            "marker": {
             "colorbar": {
              "outlinewidth": 1,
              "tickcolor": "rgb(36,36,36)",
              "ticks": "outside"
             }
            },
            "type": "scatterpolargl"
           }
          ],
          "scatterternary": [
           {
            "marker": {
             "colorbar": {
              "outlinewidth": 1,
              "tickcolor": "rgb(36,36,36)",
              "ticks": "outside"
             }
            },
            "type": "scatterternary"
           }
          ],
          "surface": [
           {
            "colorbar": {
             "outlinewidth": 1,
             "tickcolor": "rgb(36,36,36)",
             "ticks": "outside"
            },
            "colorscale": [
             [
              0,
              "#440154"
             ],
             [
              0.1111111111111111,
              "#482878"
             ],
             [
              0.2222222222222222,
              "#3e4989"
             ],
             [
              0.3333333333333333,
              "#31688e"
             ],
             [
              0.4444444444444444,
              "#26828e"
             ],
             [
              0.5555555555555556,
              "#1f9e89"
             ],
             [
              0.6666666666666666,
              "#35b779"
             ],
             [
              0.7777777777777778,
              "#6ece58"
             ],
             [
              0.8888888888888888,
              "#b5de2b"
             ],
             [
              1,
              "#fde725"
             ]
            ],
            "type": "surface"
           }
          ],
          "table": [
           {
            "cells": {
             "fill": {
              "color": "rgb(237,237,237)"
             },
             "line": {
              "color": "white"
             }
            },
            "header": {
             "fill": {
              "color": "rgb(217,217,217)"
             },
             "line": {
              "color": "white"
             }
            },
            "type": "table"
           }
          ]
         },
         "layout": {
          "annotationdefaults": {
           "arrowhead": 0,
           "arrowwidth": 1
          },
          "autotypenumbers": "strict",
          "coloraxis": {
           "colorbar": {
            "outlinewidth": 1,
            "tickcolor": "rgb(36,36,36)",
            "ticks": "outside"
           }
          },
          "colorscale": {
           "diverging": [
            [
             0,
             "rgb(103,0,31)"
            ],
            [
             0.1,
             "rgb(178,24,43)"
            ],
            [
             0.2,
             "rgb(214,96,77)"
            ],
            [
             0.3,
             "rgb(244,165,130)"
            ],
            [
             0.4,
             "rgb(253,219,199)"
            ],
            [
             0.5,
             "rgb(247,247,247)"
            ],
            [
             0.6,
             "rgb(209,229,240)"
            ],
            [
             0.7,
             "rgb(146,197,222)"
            ],
            [
             0.8,
             "rgb(67,147,195)"
            ],
            [
             0.9,
             "rgb(33,102,172)"
            ],
            [
             1,
             "rgb(5,48,97)"
            ]
           ],
           "sequential": [
            [
             0,
             "#440154"
            ],
            [
             0.1111111111111111,
             "#482878"
            ],
            [
             0.2222222222222222,
             "#3e4989"
            ],
            [
             0.3333333333333333,
             "#31688e"
            ],
            [
             0.4444444444444444,
             "#26828e"
            ],
            [
             0.5555555555555556,
             "#1f9e89"
            ],
            [
             0.6666666666666666,
             "#35b779"
            ],
            [
             0.7777777777777778,
             "#6ece58"
            ],
            [
             0.8888888888888888,
             "#b5de2b"
            ],
            [
             1,
             "#fde725"
            ]
           ],
           "sequentialminus": [
            [
             0,
             "#440154"
            ],
            [
             0.1111111111111111,
             "#482878"
            ],
            [
             0.2222222222222222,
             "#3e4989"
            ],
            [
             0.3333333333333333,
             "#31688e"
            ],
            [
             0.4444444444444444,
             "#26828e"
            ],
            [
             0.5555555555555556,
             "#1f9e89"
            ],
            [
             0.6666666666666666,
             "#35b779"
            ],
            [
             0.7777777777777778,
             "#6ece58"
            ],
            [
             0.8888888888888888,
             "#b5de2b"
            ],
            [
             1,
             "#fde725"
            ]
           ]
          },
          "colorway": [
           "#1F77B4",
           "#FF7F0E",
           "#2CA02C",
           "#D62728",
           "#9467BD",
           "#8C564B",
           "#E377C2",
           "#7F7F7F",
           "#BCBD22",
           "#17BECF"
          ],
          "font": {
           "color": "rgb(36,36,36)"
          },
          "geo": {
           "bgcolor": "white",
           "lakecolor": "white",
           "landcolor": "white",
           "showlakes": true,
           "showland": true,
           "subunitcolor": "white"
          },
          "hoverlabel": {
           "align": "left"
          },
          "hovermode": "closest",
          "mapbox": {
           "style": "light"
          },
          "paper_bgcolor": "white",
          "plot_bgcolor": "white",
          "polar": {
           "angularaxis": {
            "gridcolor": "rgb(232,232,232)",
            "linecolor": "rgb(36,36,36)",
            "showgrid": false,
            "showline": true,
            "ticks": "outside"
           },
           "bgcolor": "white",
           "radialaxis": {
            "gridcolor": "rgb(232,232,232)",
            "linecolor": "rgb(36,36,36)",
            "showgrid": false,
            "showline": true,
            "ticks": "outside"
           }
          },
          "scene": {
           "xaxis": {
            "backgroundcolor": "white",
            "gridcolor": "rgb(232,232,232)",
            "gridwidth": 2,
            "linecolor": "rgb(36,36,36)",
            "showbackground": true,
            "showgrid": false,
            "showline": true,
            "ticks": "outside",
            "zeroline": false,
            "zerolinecolor": "rgb(36,36,36)"
           },
           "yaxis": {
            "backgroundcolor": "white",
            "gridcolor": "rgb(232,232,232)",
            "gridwidth": 2,
            "linecolor": "rgb(36,36,36)",
            "showbackground": true,
            "showgrid": false,
            "showline": true,
            "ticks": "outside",
            "zeroline": false,
            "zerolinecolor": "rgb(36,36,36)"
           },
           "zaxis": {
            "backgroundcolor": "white",
            "gridcolor": "rgb(232,232,232)",
            "gridwidth": 2,
            "linecolor": "rgb(36,36,36)",
            "showbackground": true,
            "showgrid": false,
            "showline": true,
            "ticks": "outside",
            "zeroline": false,
            "zerolinecolor": "rgb(36,36,36)"
           }
          },
          "shapedefaults": {
           "fillcolor": "black",
           "line": {
            "width": 0
           },
           "opacity": 0.3
          },
          "ternary": {
           "aaxis": {
            "gridcolor": "rgb(232,232,232)",
            "linecolor": "rgb(36,36,36)",
            "showgrid": false,
            "showline": true,
            "ticks": "outside"
           },
           "baxis": {
            "gridcolor": "rgb(232,232,232)",
            "linecolor": "rgb(36,36,36)",
            "showgrid": false,
            "showline": true,
            "ticks": "outside"
           },
           "bgcolor": "white",
           "caxis": {
            "gridcolor": "rgb(232,232,232)",
            "linecolor": "rgb(36,36,36)",
            "showgrid": false,
            "showline": true,
            "ticks": "outside"
           }
          },
          "title": {
           "x": 0.05
          },
          "xaxis": {
           "automargin": true,
           "gridcolor": "rgb(232,232,232)",
           "linecolor": "rgb(36,36,36)",
           "showgrid": false,
           "showline": true,
           "ticks": "outside",
           "title": {
            "standoff": 15
           },
           "zeroline": false,
           "zerolinecolor": "rgb(36,36,36)"
          },
          "yaxis": {
           "automargin": true,
           "gridcolor": "rgb(232,232,232)",
           "linecolor": "rgb(36,36,36)",
           "showgrid": false,
           "showline": true,
           "ticks": "outside",
           "title": {
            "standoff": 15
           },
           "zeroline": false,
           "zerolinecolor": "rgb(36,36,36)"
          }
         }
        },
        "title": {
         "font": {
          "color": "Black",
          "size": 22
         },
         "text": "<b>Documents and Topics</b>",
         "x": 0.5,
         "xanchor": "center",
         "yanchor": "top"
        },
        "width": 1200,
        "xaxis": {
         "visible": false
        },
        "yaxis": {
         "visible": false
        }
       }
      }
     },
     "metadata": {},
     "output_type": "display_data"
    }
   ],
   "source": [
    "topic_model.visualize_documents(\n",
    "    text,\n",
    "    reduced_embeddings=reduced_embeddings,\n",
    "    hide_document_hover=True,\n",
    "    hide_annotations=True,\n",
    ")\n"
   ]
  },
  {
   "cell_type": "code",
   "execution_count": 32,
   "id": "13961ae0",
   "metadata": {},
   "outputs": [
    {
     "name": "stderr",
     "output_type": "stream",
     "text": [
      "100%|██████████| 1/1 [00:01<00:00,  1.84s/it]\n"
     ]
    }
   ],
   "source": [
    "# Reduce outliers using the `probabilities` strategy\n",
    "new_topics = topic_model.reduce_outliers(\n",
    "    text, topics, probabilities=probs, strategy=\"distributions\"\n",
    ")\n"
   ]
  },
  {
   "cell_type": "code",
   "execution_count": 33,
   "id": "92021960",
   "metadata": {},
   "outputs": [
    {
     "name": "stderr",
     "output_type": "stream",
     "text": [
      "2025-05-26 07:13:01,032 - BERTopic - WARNING: Using a custom list of topic assignments may lead to errors if topic reduction techniques are used afterwards. Make sure that manually assigning topics is the last step in the pipeline.Note that topic embeddings will also be created through weightedc-TF-IDF embeddings instead of centroid embeddings.\n"
     ]
    }
   ],
   "source": [
    "topic_model.update_topics(text, topics=new_topics)\n"
   ]
  },
  {
   "cell_type": "code",
   "execution_count": 34,
   "id": "68909d1f",
   "metadata": {},
   "outputs": [
    {
     "data": {
      "text/html": [
       "<div>\n",
       "<style scoped>\n",
       "    .dataframe tbody tr th:only-of-type {\n",
       "        vertical-align: middle;\n",
       "    }\n",
       "\n",
       "    .dataframe tbody tr th {\n",
       "        vertical-align: top;\n",
       "    }\n",
       "\n",
       "    .dataframe thead th {\n",
       "        text-align: right;\n",
       "    }\n",
       "</style>\n",
       "<table border=\"1\" class=\"dataframe\">\n",
       "  <thead>\n",
       "    <tr style=\"text-align: right;\">\n",
       "      <th></th>\n",
       "      <th>Topic</th>\n",
       "      <th>Count</th>\n",
       "      <th>Name</th>\n",
       "      <th>Representation</th>\n",
       "      <th>KeyBERT</th>\n",
       "      <th>MMR</th>\n",
       "      <th>POS</th>\n",
       "      <th>Representative_Docs</th>\n",
       "    </tr>\n",
       "  </thead>\n",
       "  <tbody>\n",
       "    <tr>\n",
       "      <th>0</th>\n",
       "      <td>0</td>\n",
       "      <td>882</td>\n",
       "      <td>0_the_of_to_and</td>\n",
       "      <td>[the, of, to, and, in, cell, cancer, will, cel...</td>\n",
       "      <td>[cancer cells, immunotherapy, tumours, tumors,...</td>\n",
       "      <td>[cancer, cell, cells, tumor, tumour, therapies...</td>\n",
       "      <td>[cancer, cell, cells, tumor, therapy, immune, ...</td>\n",
       "      <td>[Cancer cell plasticity on targeted therapy\\nN...</td>\n",
       "    </tr>\n",
       "    <tr>\n",
       "      <th>1</th>\n",
       "      <td>1</td>\n",
       "      <td>308</td>\n",
       "      <td>1_the_and_of_to</td>\n",
       "      <td>[the, and, of, to, in, will, for, viral, with,...</td>\n",
       "      <td>[sars cov, antiviral, sars, vaccines, vaccine,...</td>\n",
       "      <td>[virus, malaria, vaccine, viruses, antiviral, ...</td>\n",
       "      <td>[viral, virus, malaria, vaccine, viruses, infe...</td>\n",
       "      <td>[Respiratory Host-Pathogen Interaction\\nLower ...</td>\n",
       "    </tr>\n",
       "    <tr>\n",
       "      <th>2</th>\n",
       "      <td>2</td>\n",
       "      <td>294</td>\n",
       "      <td>2_and_the_of_to</td>\n",
       "      <td>[and, the, of, to, in, health, social, on, wil...</td>\n",
       "      <td>[19 pandemic, covid 19, covid, eu, pandemic, i...</td>\n",
       "      <td>[social, policy, pandemic, eu, public, covid, ...</td>\n",
       "      <td>[social, policy, pandemic, political, mental, ...</td>\n",
       "      <td>[VET PARTICIPATION, RETENTION, AND EDUCATIONAL...</td>\n",
       "    </tr>\n",
       "    <tr>\n",
       "      <th>3</th>\n",
       "      <td>3</td>\n",
       "      <td>315</td>\n",
       "      <td>3_the_and_of_to</td>\n",
       "      <td>[the, and, of, to, for, in, is, cancer, with, ...</td>\n",
       "      <td>[breast cancer, biopsy, diagnostics, imaging, ...</td>\n",
       "      <td>[cancer, imaging, ai, breast, detection, bioma...</td>\n",
       "      <td>[cancer, imaging, breast, detection, time, dia...</td>\n",
       "      <td>[Surface-enhanced Raman spectroscopy in liquid...</td>\n",
       "    </tr>\n",
       "    <tr>\n",
       "      <th>4</th>\n",
       "      <td>4</td>\n",
       "      <td>194</td>\n",
       "      <td>4_the_of_in_and</td>\n",
       "      <td>[the, of, in, and, ad, to, brain, disease, wil...</td>\n",
       "      <td>[microglia, neuroinflammation, neurodegenerati...</td>\n",
       "      <td>[alzheimer, microglia, neurodegenerative, alzh...</td>\n",
       "      <td>[disease, brain, protein, microglia, neurodege...</td>\n",
       "      <td>[Deciphering the microglia-neuron interactions...</td>\n",
       "    </tr>\n",
       "    <tr>\n",
       "      <th>5</th>\n",
       "      <td>5</td>\n",
       "      <td>130</td>\n",
       "      <td>5_food_and_the_of</td>\n",
       "      <td>[food, and, the, of, to, sustainable, for, wil...</td>\n",
       "      <td>[food systems, food system, sustainable food, ...</td>\n",
       "      <td>[food, sustainable, aquaculture, food systems,...</td>\n",
       "      <td>[food, sustainable, production, aquaculture, c...</td>\n",
       "      <td>[On a Quest for Data-Driven Innovations to fue...</td>\n",
       "    </tr>\n",
       "    <tr>\n",
       "      <th>6</th>\n",
       "      <td>6</td>\n",
       "      <td>119</td>\n",
       "      <td>6_bone_the_and_of</td>\n",
       "      <td>[bone, the, and, of, to, for, tissue, in, will...</td>\n",
       "      <td>[bone regeneration, 3d bioprinting, bioprintin...</td>\n",
       "      <td>[bone, bioprinting, oa, implants, cartilage, r...</td>\n",
       "      <td>[bone, tissue, pain, bioprinting, implants, re...</td>\n",
       "      <td>[Drug solution for bone fracture nonunions\\nBo...</td>\n",
       "    </tr>\n",
       "    <tr>\n",
       "      <th>7</th>\n",
       "      <td>7</td>\n",
       "      <td>117</td>\n",
       "      <td>7_the_of_to_and</td>\n",
       "      <td>[the, of, to, and, antibiotic, bacteria, bacte...</td>\n",
       "      <td>[antimicrobial resistance, antibiotic resistan...</td>\n",
       "      <td>[bacteria, antibiotics, bacterial, antibiotic,...</td>\n",
       "      <td>[bacteria, antibiotics, bacterial, resistance,...</td>\n",
       "      <td>[Advanced Multidisciplinary Research for Antim...</td>\n",
       "    </tr>\n",
       "    <tr>\n",
       "      <th>8</th>\n",
       "      <td>8</td>\n",
       "      <td>125</td>\n",
       "      <td>8_gut_and_the_of</td>\n",
       "      <td>[gut, and, the, of, in, microbiome, to, microb...</td>\n",
       "      <td>[gut microbiome, gut microbiota, microbiome, g...</td>\n",
       "      <td>[gut, ibd, microbiome, microbiota, intestinal,...</td>\n",
       "      <td>[gut, microbiome, microbiota, intestinal, host...</td>\n",
       "      <td>[Mechanistic study of gut microbial biotransfo...</td>\n",
       "    </tr>\n",
       "    <tr>\n",
       "      <th>9</th>\n",
       "      <td>9</td>\n",
       "      <td>103</td>\n",
       "      <td>9_plant_the_of_and</td>\n",
       "      <td>[plant, the, of, and, to, in, plants, will, cr...</td>\n",
       "      <td>[arabidopsis, plant, plants, crop, crops, seed...</td>\n",
       "      <td>[plant, plants, crop, drought, species, climat...</td>\n",
       "      <td>[plant, plants, crop, climate, drought, specie...</td>\n",
       "      <td>[From wild to crop: unravelling the impact of ...</td>\n",
       "    </tr>\n",
       "    <tr>\n",
       "      <th>10</th>\n",
       "      <td>10</td>\n",
       "      <td>134</td>\n",
       "      <td>10_brain_the_and_of</td>\n",
       "      <td>[brain, the, and, of, to, in, stimulation, epi...</td>\n",
       "      <td>[brain stimulation, neuromodulation, eeg, elec...</td>\n",
       "      <td>[epilepsy, stimulation, neural, neurological, ...</td>\n",
       "      <td>[brain, epilepsy, stimulation, neural, invasiv...</td>\n",
       "      <td>[AEGEUS - A Novel EEG Ultrasound Device for Fu...</td>\n",
       "    </tr>\n",
       "    <tr>\n",
       "      <th>11</th>\n",
       "      <td>11</td>\n",
       "      <td>146</td>\n",
       "      <td>11_the_and_of_to</td>\n",
       "      <td>[the, and, of, to, patients, for, in, is, stro...</td>\n",
       "      <td>[heart failure, atrial fibrillation, cardiovas...</td>\n",
       "      <td>[heart, patients, stroke, cardiac, cardiovascu...</td>\n",
       "      <td>[heart, patients, stroke, clinical, treatment,...</td>\n",
       "      <td>[Health virtual twins for the personalised man...</td>\n",
       "    </tr>\n",
       "    <tr>\n",
       "      <th>12</th>\n",
       "      <td>12</td>\n",
       "      <td>121</td>\n",
       "      <td>12_and_data_the_of</td>\n",
       "      <td>[and, data, the, of, to, for, in, will, resear...</td>\n",
       "      <td>[ai, healthcare, eu, data, federated, framewor...</td>\n",
       "      <td>[data, privacy, ai, healthcare, digital, eu, c...</td>\n",
       "      <td>[data, privacy, healthcare, digital, use, inno...</td>\n",
       "      <td>[Federate Learning and mUlti-party computation...</td>\n",
       "    </tr>\n",
       "    <tr>\n",
       "      <th>13</th>\n",
       "      <td>13</td>\n",
       "      <td>53</td>\n",
       "      <td>13_cardiac_heart_the_of</td>\n",
       "      <td>[cardiac, heart, the, of, and, to, in, will, f...</td>\n",
       "      <td>[cardiac regeneration, cardiomyocytes, cardiac...</td>\n",
       "      <td>[cardiac, heart, cardiomyocytes, heart failure...</td>\n",
       "      <td>[cardiac, heart, human, cardiomyocytes, tissue...</td>\n",
       "      <td>[Surgical optogenetic bioprinting of engineere...</td>\n",
       "    </tr>\n",
       "    <tr>\n",
       "      <th>14</th>\n",
       "      <td>14</td>\n",
       "      <td>60</td>\n",
       "      <td>14_liver_in_the_and</td>\n",
       "      <td>[liver, in, the, and, of, to, metabolic, nafld...</td>\n",
       "      <td>[nafld, disease nafld, liver fibrosis, fatty l...</td>\n",
       "      <td>[liver, nafld, metabolic, liver disease, hepat...</td>\n",
       "      <td>[liver, metabolic, disease, fatty, hepatic, fa...</td>\n",
       "      <td>[Understanding Metabolic Activation of Dendrit...</td>\n",
       "    </tr>\n",
       "    <tr>\n",
       "      <th>15</th>\n",
       "      <td>15</td>\n",
       "      <td>75</td>\n",
       "      <td>15_the_of_in_to</td>\n",
       "      <td>[the, of, in, to, and, brain, visual, neural, ...</td>\n",
       "      <td>[neural circuits, neural activity, cortex, cor...</td>\n",
       "      <td>[neural, brain, sensory, perception, stimuli, ...</td>\n",
       "      <td>[neural, visual, brain, sensory, circuits, dec...</td>\n",
       "      <td>[Correcting for self: The impact of head motio...</td>\n",
       "    </tr>\n",
       "    <tr>\n",
       "      <th>16</th>\n",
       "      <td>16</td>\n",
       "      <td>44</td>\n",
       "      <td>16_diabetes_insulin_glucose_and</td>\n",
       "      <td>[diabetes, insulin, glucose, and, of, the, t2d...</td>\n",
       "      <td>[insulin, t1d, insulin resistance, glucagon, i...</td>\n",
       "      <td>[diabetes, insulin, glucose, t2d, type diabete...</td>\n",
       "      <td>[diabetes, insulin, glucose, cell, type, cells...</td>\n",
       "      <td>[Unobtrusive Continuous Multi-Metabolite Monit...</td>\n",
       "    </tr>\n",
       "    <tr>\n",
       "      <th>17</th>\n",
       "      <td>17</td>\n",
       "      <td>46</td>\n",
       "      <td>17_the_synthesis_of_chiral</td>\n",
       "      <td>[the, synthesis, of, chiral, to, and, molecule...</td>\n",
       "      <td>[synthetic chemistry, catalysis, catalysts, en...</td>\n",
       "      <td>[synthesis, reactions, molecules, chemistry, c...</td>\n",
       "      <td>[synthesis, reactions, molecules, chemistry, c...</td>\n",
       "      <td>[New late-stage functionalization reagents for...</td>\n",
       "    </tr>\n",
       "    <tr>\n",
       "      <th>18</th>\n",
       "      <td>18</td>\n",
       "      <td>46</td>\n",
       "      <td>18_and_the_to_of</td>\n",
       "      <td>[and, the, to, of, health, for, will, prepared...</td>\n",
       "      <td>[pandemic preparedness, emerging infectious, p...</td>\n",
       "      <td>[pandemic, preparedness, epidemic, covid, zoon...</td>\n",
       "      <td>[pandemic, preparedness, biodiversity, disease...</td>\n",
       "      <td>[Pandemic literacy and viral zoonotic spillove...</td>\n",
       "    </tr>\n",
       "    <tr>\n",
       "      <th>19</th>\n",
       "      <td>19</td>\n",
       "      <td>47</td>\n",
       "      <td>19_care_cancer_and_of</td>\n",
       "      <td>[care, cancer, and, of, the, to, patients, hea...</td>\n",
       "      <td>[european cancer, cancer mission, cancer care,...</td>\n",
       "      <td>[cancer, prevention, palliative, cancer patien...</td>\n",
       "      <td>[cancer, care, prevention, patients, implement...</td>\n",
       "      <td>[A European-wide foundation to accelerate Data...</td>\n",
       "    </tr>\n",
       "    <tr>\n",
       "      <th>20</th>\n",
       "      <td>20</td>\n",
       "      <td>32</td>\n",
       "      <td>20_retinal_eye_the_retina</td>\n",
       "      <td>[retinal, eye, the, retina, of, and, ocular, i...</td>\n",
       "      <td>[retinal diseases, macular degeneration, retin...</td>\n",
       "      <td>[eye, retinal, ocular, retina, blindness, macu...</td>\n",
       "      <td>[eye, retinal, ocular, retina, vision, blindne...</td>\n",
       "      <td>[I(eye)-SCREEN: A real-world AI-based infrastr...</td>\n",
       "    </tr>\n",
       "    <tr>\n",
       "      <th>21</th>\n",
       "      <td>21</td>\n",
       "      <td>26</td>\n",
       "      <td>21_kidney_ckd_renal_of</td>\n",
       "      <td>[kidney, ckd, renal, of, and, the, in, disease...</td>\n",
       "      <td>[kidney organoids, disease ckd, chronic kidney...</td>\n",
       "      <td>[kidney, ckd, renal, kidney disease, chronic k...</td>\n",
       "      <td>[kidney, renal, disease, chronic kidney, chron...</td>\n",
       "      <td>[Dissecting renal metabolic reprogramming hete...</td>\n",
       "    </tr>\n",
       "    <tr>\n",
       "      <th>22</th>\n",
       "      <td>22</td>\n",
       "      <td>48</td>\n",
       "      <td>22_and_the_to_of</td>\n",
       "      <td>[and, the, to, of, for, production, manufactur...</td>\n",
       "      <td>[pharma, pharmaceutical industry, pharmaceutic...</td>\n",
       "      <td>[pharmaceutical, sustainable, pharmaceuticals,...</td>\n",
       "      <td>[pharmaceutical, sustainable, pharmaceuticals,...</td>\n",
       "      <td>[Innovative Mechanochemical Processes to synth...</td>\n",
       "    </tr>\n",
       "  </tbody>\n",
       "</table>\n",
       "</div>"
      ],
      "text/plain": [
       "    Topic  Count                             Name  \\\n",
       "0       0    882                  0_the_of_to_and   \n",
       "1       1    308                  1_the_and_of_to   \n",
       "2       2    294                  2_and_the_of_to   \n",
       "3       3    315                  3_the_and_of_to   \n",
       "4       4    194                  4_the_of_in_and   \n",
       "5       5    130                5_food_and_the_of   \n",
       "6       6    119                6_bone_the_and_of   \n",
       "7       7    117                  7_the_of_to_and   \n",
       "8       8    125                 8_gut_and_the_of   \n",
       "9       9    103               9_plant_the_of_and   \n",
       "10     10    134              10_brain_the_and_of   \n",
       "11     11    146                 11_the_and_of_to   \n",
       "12     12    121               12_and_data_the_of   \n",
       "13     13     53          13_cardiac_heart_the_of   \n",
       "14     14     60              14_liver_in_the_and   \n",
       "15     15     75                  15_the_of_in_to   \n",
       "16     16     44  16_diabetes_insulin_glucose_and   \n",
       "17     17     46       17_the_synthesis_of_chiral   \n",
       "18     18     46                 18_and_the_to_of   \n",
       "19     19     47            19_care_cancer_and_of   \n",
       "20     20     32        20_retinal_eye_the_retina   \n",
       "21     21     26           21_kidney_ckd_renal_of   \n",
       "22     22     48                 22_and_the_to_of   \n",
       "\n",
       "                                       Representation  \\\n",
       "0   [the, of, to, and, in, cell, cancer, will, cel...   \n",
       "1   [the, and, of, to, in, will, for, viral, with,...   \n",
       "2   [and, the, of, to, in, health, social, on, wil...   \n",
       "3   [the, and, of, to, for, in, is, cancer, with, ...   \n",
       "4   [the, of, in, and, ad, to, brain, disease, wil...   \n",
       "5   [food, and, the, of, to, sustainable, for, wil...   \n",
       "6   [bone, the, and, of, to, for, tissue, in, will...   \n",
       "7   [the, of, to, and, antibiotic, bacteria, bacte...   \n",
       "8   [gut, and, the, of, in, microbiome, to, microb...   \n",
       "9   [plant, the, of, and, to, in, plants, will, cr...   \n",
       "10  [brain, the, and, of, to, in, stimulation, epi...   \n",
       "11  [the, and, of, to, patients, for, in, is, stro...   \n",
       "12  [and, data, the, of, to, for, in, will, resear...   \n",
       "13  [cardiac, heart, the, of, and, to, in, will, f...   \n",
       "14  [liver, in, the, and, of, to, metabolic, nafld...   \n",
       "15  [the, of, in, to, and, brain, visual, neural, ...   \n",
       "16  [diabetes, insulin, glucose, and, of, the, t2d...   \n",
       "17  [the, synthesis, of, chiral, to, and, molecule...   \n",
       "18  [and, the, to, of, health, for, will, prepared...   \n",
       "19  [care, cancer, and, of, the, to, patients, hea...   \n",
       "20  [retinal, eye, the, retina, of, and, ocular, i...   \n",
       "21  [kidney, ckd, renal, of, and, the, in, disease...   \n",
       "22  [and, the, to, of, for, production, manufactur...   \n",
       "\n",
       "                                              KeyBERT  \\\n",
       "0   [cancer cells, immunotherapy, tumours, tumors,...   \n",
       "1   [sars cov, antiviral, sars, vaccines, vaccine,...   \n",
       "2   [19 pandemic, covid 19, covid, eu, pandemic, i...   \n",
       "3   [breast cancer, biopsy, diagnostics, imaging, ...   \n",
       "4   [microglia, neuroinflammation, neurodegenerati...   \n",
       "5   [food systems, food system, sustainable food, ...   \n",
       "6   [bone regeneration, 3d bioprinting, bioprintin...   \n",
       "7   [antimicrobial resistance, antibiotic resistan...   \n",
       "8   [gut microbiome, gut microbiota, microbiome, g...   \n",
       "9   [arabidopsis, plant, plants, crop, crops, seed...   \n",
       "10  [brain stimulation, neuromodulation, eeg, elec...   \n",
       "11  [heart failure, atrial fibrillation, cardiovas...   \n",
       "12  [ai, healthcare, eu, data, federated, framewor...   \n",
       "13  [cardiac regeneration, cardiomyocytes, cardiac...   \n",
       "14  [nafld, disease nafld, liver fibrosis, fatty l...   \n",
       "15  [neural circuits, neural activity, cortex, cor...   \n",
       "16  [insulin, t1d, insulin resistance, glucagon, i...   \n",
       "17  [synthetic chemistry, catalysis, catalysts, en...   \n",
       "18  [pandemic preparedness, emerging infectious, p...   \n",
       "19  [european cancer, cancer mission, cancer care,...   \n",
       "20  [retinal diseases, macular degeneration, retin...   \n",
       "21  [kidney organoids, disease ckd, chronic kidney...   \n",
       "22  [pharma, pharmaceutical industry, pharmaceutic...   \n",
       "\n",
       "                                                  MMR  \\\n",
       "0   [cancer, cell, cells, tumor, tumour, therapies...   \n",
       "1   [virus, malaria, vaccine, viruses, antiviral, ...   \n",
       "2   [social, policy, pandemic, eu, public, covid, ...   \n",
       "3   [cancer, imaging, ai, breast, detection, bioma...   \n",
       "4   [alzheimer, microglia, neurodegenerative, alzh...   \n",
       "5   [food, sustainable, aquaculture, food systems,...   \n",
       "6   [bone, bioprinting, oa, implants, cartilage, r...   \n",
       "7   [bacteria, antibiotics, bacterial, antibiotic,...   \n",
       "8   [gut, ibd, microbiome, microbiota, intestinal,...   \n",
       "9   [plant, plants, crop, drought, species, climat...   \n",
       "10  [epilepsy, stimulation, neural, neurological, ...   \n",
       "11  [heart, patients, stroke, cardiac, cardiovascu...   \n",
       "12  [data, privacy, ai, healthcare, digital, eu, c...   \n",
       "13  [cardiac, heart, cardiomyocytes, heart failure...   \n",
       "14  [liver, nafld, metabolic, liver disease, hepat...   \n",
       "15  [neural, brain, sensory, perception, stimuli, ...   \n",
       "16  [diabetes, insulin, glucose, t2d, type diabete...   \n",
       "17  [synthesis, reactions, molecules, chemistry, c...   \n",
       "18  [pandemic, preparedness, epidemic, covid, zoon...   \n",
       "19  [cancer, prevention, palliative, cancer patien...   \n",
       "20  [eye, retinal, ocular, retina, blindness, macu...   \n",
       "21  [kidney, ckd, renal, kidney disease, chronic k...   \n",
       "22  [pharmaceutical, sustainable, pharmaceuticals,...   \n",
       "\n",
       "                                                  POS  \\\n",
       "0   [cancer, cell, cells, tumor, therapy, immune, ...   \n",
       "1   [viral, virus, malaria, vaccine, viruses, infe...   \n",
       "2   [social, policy, pandemic, political, mental, ...   \n",
       "3   [cancer, imaging, breast, detection, time, dia...   \n",
       "4   [disease, brain, protein, microglia, neurodege...   \n",
       "5   [food, sustainable, production, aquaculture, c...   \n",
       "6   [bone, tissue, pain, bioprinting, implants, re...   \n",
       "7   [bacteria, antibiotics, bacterial, resistance,...   \n",
       "8   [gut, microbiome, microbiota, intestinal, host...   \n",
       "9   [plant, plants, crop, climate, drought, specie...   \n",
       "10  [brain, epilepsy, stimulation, neural, invasiv...   \n",
       "11  [heart, patients, stroke, clinical, treatment,...   \n",
       "12  [data, privacy, healthcare, digital, use, inno...   \n",
       "13  [cardiac, heart, human, cardiomyocytes, tissue...   \n",
       "14  [liver, metabolic, disease, fatty, hepatic, fa...   \n",
       "15  [neural, visual, brain, sensory, circuits, dec...   \n",
       "16  [diabetes, insulin, glucose, cell, type, cells...   \n",
       "17  [synthesis, reactions, molecules, chemistry, c...   \n",
       "18  [pandemic, preparedness, biodiversity, disease...   \n",
       "19  [cancer, care, prevention, patients, implement...   \n",
       "20  [eye, retinal, ocular, retina, vision, blindne...   \n",
       "21  [kidney, renal, disease, chronic kidney, chron...   \n",
       "22  [pharmaceutical, sustainable, pharmaceuticals,...   \n",
       "\n",
       "                                  Representative_Docs  \n",
       "0   [Cancer cell plasticity on targeted therapy\\nN...  \n",
       "1   [Respiratory Host-Pathogen Interaction\\nLower ...  \n",
       "2   [VET PARTICIPATION, RETENTION, AND EDUCATIONAL...  \n",
       "3   [Surface-enhanced Raman spectroscopy in liquid...  \n",
       "4   [Deciphering the microglia-neuron interactions...  \n",
       "5   [On a Quest for Data-Driven Innovations to fue...  \n",
       "6   [Drug solution for bone fracture nonunions\\nBo...  \n",
       "7   [Advanced Multidisciplinary Research for Antim...  \n",
       "8   [Mechanistic study of gut microbial biotransfo...  \n",
       "9   [From wild to crop: unravelling the impact of ...  \n",
       "10  [AEGEUS - A Novel EEG Ultrasound Device for Fu...  \n",
       "11  [Health virtual twins for the personalised man...  \n",
       "12  [Federate Learning and mUlti-party computation...  \n",
       "13  [Surgical optogenetic bioprinting of engineere...  \n",
       "14  [Understanding Metabolic Activation of Dendrit...  \n",
       "15  [Correcting for self: The impact of head motio...  \n",
       "16  [Unobtrusive Continuous Multi-Metabolite Monit...  \n",
       "17  [New late-stage functionalization reagents for...  \n",
       "18  [Pandemic literacy and viral zoonotic spillove...  \n",
       "19  [A European-wide foundation to accelerate Data...  \n",
       "20  [I(eye)-SCREEN: A real-world AI-based infrastr...  \n",
       "21  [Dissecting renal metabolic reprogramming hete...  \n",
       "22  [Innovative Mechanochemical Processes to synth...  "
      ]
     },
     "execution_count": 34,
     "metadata": {},
     "output_type": "execute_result"
    }
   ],
   "source": [
    "topic_model.get_topic_info()\n"
   ]
  },
  {
   "cell_type": "code",
   "execution_count": 35,
   "id": "1fbbb45d",
   "metadata": {},
   "outputs": [
    {
     "data": {
      "application/vnd.plotly.v1+json": {
       "config": {
        "plotlyServerURL": "https://plot.ly"
       },
       "data": [
        {
         "hoverinfo": "text",
         "marker": {
          "color": "#CFD8DC",
          "opacity": 0.5,
          "size": 5
         },
         "mode": "markers+text",
         "name": "other",
         "showlegend": false,
         "type": "scattergl",
         "x": {
          "bdata": "AADAfw==",
          "dtype": "f4"
         },
         "y": {
          "bdata": "AADAfw==",
          "dtype": "f4"
         }
        },
        {
         "hoverinfo": "text",
         "marker": {
          "opacity": 0.5,
          "size": 5
         },
         "mode": "markers+text",
         "name": "0_the_of_to",
         "text": [
          "",
          "",
          "",
          "",
          "",
          "",
          "",
          "",
          "",
          "",
          "",
          "",
          "",
          "",
          "",
          "",
          "",
          "",
          "",
          "",
          "",
          "",
          "",
          "",
          "",
          "",
          "",
          "",
          "",
          "",
          "",
          "",
          "",
          "",
          "",
          "",
          "",
          "",
          "",
          "",
          "",
          "",
          "",
          "",
          "",
          "",
          "",
          "",
          "",
          "",
          "",
          "",
          "",
          "",
          "",
          "",
          "",
          "",
          "",
          "",
          "",
          "",
          "",
          "",
          "",
          "",
          "",
          "",
          "",
          "",
          "",
          "",
          "",
          "",
          "",
          "",
          "",
          "",
          "",
          "",
          "",
          "",
          "",
          "",
          "",
          "",
          "",
          "",
          "",
          "",
          "",
          "",
          "",
          "",
          "",
          "",
          "",
          "",
          "",
          "",
          "",
          "",
          "",
          "",
          "",
          "",
          "",
          "",
          "",
          "",
          "",
          "",
          "",
          "",
          "",
          "",
          "",
          "",
          "",
          "",
          "",
          "",
          "",
          "",
          "",
          "",
          "",
          "",
          "",
          "",
          "",
          "",
          "",
          "",
          "",
          "",
          "",
          "",
          "",
          "",
          "",
          "",
          "",
          "",
          "",
          "",
          "",
          "",
          "",
          "",
          "",
          "",
          "",
          "",
          "",
          "",
          "",
          "",
          "",
          "",
          "",
          "",
          "",
          "",
          "",
          "",
          "",
          "",
          "",
          "",
          "",
          "",
          "",
          "",
          "",
          "",
          "",
          "",
          "",
          "",
          "",
          "",
          "",
          "",
          "",
          "",
          "",
          "",
          "",
          "",
          "",
          "",
          "",
          "",
          "",
          "",
          "",
          "",
          "",
          "",
          "",
          "",
          "",
          "",
          "",
          "",
          "",
          "",
          "",
          "",
          "",
          "",
          "",
          "",
          "",
          "",
          "",
          "",
          "",
          "",
          "",
          "",
          "",
          "",
          "",
          "",
          "",
          "",
          "",
          "",
          "",
          "",
          "",
          "",
          "",
          "",
          "",
          "",
          "",
          "",
          "",
          "",
          "",
          "",
          "",
          "",
          "",
          "",
          "",
          "",
          "",
          "",
          "",
          "",
          "",
          "",
          "",
          "",
          "",
          "",
          "",
          "",
          "",
          "",
          "",
          "",
          "",
          "",
          "",
          "",
          "",
          "",
          "",
          "",
          "",
          "",
          "",
          "",
          "",
          "",
          "",
          "",
          "",
          "",
          "",
          "",
          "",
          "",
          "",
          "",
          "",
          "",
          "",
          "",
          "",
          "",
          "",
          "",
          "",
          "",
          "",
          "",
          "",
          "",
          "",
          "",
          "",
          "",
          "",
          "",
          "",
          "",
          "",
          "",
          "",
          "",
          "",
          "",
          "",
          "",
          "",
          "",
          "",
          "",
          "",
          "",
          "",
          "",
          "",
          "",
          "",
          "",
          "",
          "",
          "",
          "",
          "",
          "",
          "",
          "",
          "",
          "",
          "",
          "",
          "",
          "",
          "",
          "",
          "",
          "",
          "",
          "",
          "",
          "",
          "",
          "",
          "",
          "",
          "",
          "",
          "",
          "",
          "",
          "",
          "",
          "",
          "",
          "",
          "",
          "",
          "",
          "",
          "",
          "",
          "",
          "",
          "",
          "",
          "",
          "",
          "",
          "",
          "",
          "",
          "",
          "",
          "",
          "",
          "",
          "",
          "",
          "",
          "",
          "",
          "",
          "",
          "",
          "",
          "",
          "",
          "",
          "",
          "",
          "",
          "",
          "",
          "",
          "",
          "",
          "",
          "",
          "",
          "",
          "",
          "",
          "",
          "",
          "",
          "",
          "",
          "",
          "",
          "",
          "",
          "",
          "",
          "",
          "",
          "",
          "",
          "",
          "",
          "",
          "",
          "",
          "",
          "",
          "",
          "",
          "",
          "",
          "",
          "",
          "",
          "",
          "",
          "",
          "",
          "",
          "",
          "",
          "",
          "",
          "",
          "",
          "",
          "",
          "",
          "",
          "",
          "",
          "",
          "",
          "",
          "",
          "",
          "",
          "",
          "",
          "",
          "",
          "",
          "",
          "",
          "",
          "",
          "",
          "",
          "",
          "",
          "",
          "",
          "",
          "",
          "",
          "",
          "",
          "",
          "",
          "",
          "",
          "",
          "",
          "",
          "",
          "",
          "",
          "",
          "",
          "",
          "",
          "",
          "",
          "",
          "",
          "",
          "",
          "",
          "",
          "",
          "",
          "",
          "",
          "",
          "",
          "",
          "",
          "",
          "",
          "",
          "",
          "",
          "",
          "",
          "",
          "",
          "",
          "",
          "",
          "",
          "",
          "",
          "",
          "",
          "",
          "",
          "",
          "",
          "",
          "",
          "",
          "",
          "",
          "",
          "",
          "",
          "",
          "",
          "",
          "",
          "",
          "",
          "",
          "",
          "",
          "",
          "",
          "",
          "",
          "",
          "",
          "",
          "",
          "",
          "",
          "",
          "",
          "",
          "",
          "",
          "",
          "",
          "",
          "",
          "",
          "",
          "",
          "",
          "",
          "",
          "",
          "",
          "",
          "",
          "",
          "",
          "",
          "",
          "",
          "",
          "",
          "",
          "",
          "",
          "",
          "",
          "",
          "",
          "",
          "",
          "",
          "",
          "",
          "",
          "",
          "",
          "",
          "",
          "",
          "",
          "",
          "",
          "",
          "",
          "",
          "",
          "",
          "",
          "",
          "",
          "",
          "",
          "",
          "",
          "",
          "",
          "",
          "",
          "",
          "",
          "",
          "",
          "",
          "",
          "",
          "",
          "",
          "",
          "",
          "",
          "",
          "",
          "",
          "",
          "",
          "",
          "",
          "",
          "",
          "",
          "",
          "",
          "",
          "",
          "",
          "",
          "",
          "",
          "",
          "",
          "",
          "",
          "",
          "",
          "",
          "",
          "",
          "",
          "",
          "",
          "",
          "",
          "",
          "",
          "",
          "",
          "",
          "",
          "",
          "",
          "",
          "",
          "",
          "",
          "",
          "",
          "",
          "",
          "",
          "",
          "",
          "",
          "",
          "",
          "",
          "",
          "",
          "",
          "",
          "",
          "",
          "",
          "",
          "",
          "",
          "",
          "",
          "",
          "",
          "",
          "",
          "",
          "",
          "",
          "",
          "",
          "",
          "",
          "",
          "",
          "",
          "",
          "",
          "",
          "",
          "",
          "",
          "",
          "",
          "",
          "",
          "",
          "",
          "",
          "",
          "",
          "",
          "",
          "",
          "",
          "",
          "",
          "",
          "",
          "",
          "",
          "",
          "",
          "",
          "",
          "",
          "",
          "",
          "",
          "",
          "",
          "",
          "",
          "",
          "",
          "",
          "",
          "",
          "",
          "",
          "",
          "",
          "",
          "",
          "",
          "",
          "",
          "",
          "",
          "",
          "",
          "",
          "",
          "",
          "",
          "",
          "",
          "",
          "",
          "",
          "",
          "",
          "",
          "",
          "",
          "",
          "",
          "",
          "",
          "",
          "",
          "",
          "",
          "",
          "",
          "",
          "",
          "",
          "",
          "",
          "",
          "",
          "",
          "",
          "",
          "",
          "",
          "",
          "",
          "",
          "",
          "",
          "",
          "",
          "",
          "",
          "",
          "",
          "",
          "",
          "",
          "",
          "",
          "",
          "",
          "",
          "",
          "",
          "",
          "",
          "",
          "",
          "",
          "",
          "",
          "",
          "",
          "",
          "",
          "",
          "",
          "",
          "",
          "",
          "",
          "",
          "",
          "",
          "",
          "",
          "",
          "",
          "",
          "",
          "",
          "",
          "",
          "",
          "",
          "",
          "",
          "",
          "",
          "",
          "",
          "",
          "",
          "",
          "",
          "",
          "",
          "",
          "",
          "",
          "",
          "",
          ""
         ],
         "textfont": {
          "size": 12
         },
         "type": "scattergl",
         "x": {
          "bdata": "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",
          "dtype": "f4"
         },
         "y": {
          "bdata": "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",
          "dtype": "f4"
         }
        },
        {
         "hoverinfo": "text",
         "marker": {
          "opacity": 0.5,
          "size": 5
         },
         "mode": "markers+text",
         "name": "1_the_and_of",
         "text": [
          "",
          "",
          "",
          "",
          "",
          "",
          "",
          "",
          "",
          "",
          "",
          "",
          "",
          "",
          "",
          "",
          "",
          "",
          "",
          "",
          "",
          "",
          "",
          "",
          "",
          "",
          "",
          "",
          "",
          "",
          "",
          "",
          "",
          "",
          "",
          "",
          "",
          "",
          "",
          "",
          "",
          "",
          "",
          "",
          "",
          "",
          "",
          "",
          "",
          "",
          "",
          "",
          "",
          "",
          "",
          "",
          "",
          "",
          "",
          "",
          "",
          "",
          "",
          "",
          "",
          "",
          "",
          "",
          "",
          "",
          "",
          "",
          "",
          "",
          "",
          "",
          "",
          "",
          "",
          "",
          "",
          "",
          "",
          "",
          "",
          "",
          "",
          "",
          "",
          "",
          "",
          "",
          "",
          "",
          "",
          "",
          "",
          "",
          "",
          "",
          "",
          "",
          "",
          "",
          "",
          "",
          "",
          "",
          "",
          "",
          "",
          "",
          "",
          "",
          "",
          "",
          "",
          "",
          "",
          "",
          "",
          "",
          "",
          "",
          "",
          "",
          "",
          "",
          "",
          "",
          "",
          "",
          "",
          "",
          "",
          "",
          "",
          "",
          "",
          "",
          "",
          "",
          "",
          "",
          "",
          "",
          "",
          "",
          "",
          "",
          "",
          "",
          "",
          "",
          "",
          "",
          "",
          "",
          "",
          "",
          "",
          "",
          "",
          "",
          "",
          "",
          "",
          "",
          "",
          "",
          "",
          "",
          "",
          "",
          "",
          "",
          "",
          "",
          "",
          "",
          "",
          "",
          "",
          "",
          "",
          "",
          "",
          "",
          "",
          "",
          "",
          "",
          "",
          "",
          "",
          "",
          "",
          "",
          "",
          "",
          "",
          "",
          "",
          "",
          "",
          "",
          "",
          "",
          "",
          "",
          "",
          "",
          "",
          "",
          "",
          "",
          "",
          "",
          "",
          "",
          "",
          "",
          "",
          "",
          "",
          "",
          "",
          "",
          "",
          "",
          "",
          "",
          "",
          "",
          "",
          "",
          "",
          "",
          "",
          "",
          "",
          "",
          "",
          "",
          "",
          "",
          "",
          "",
          "",
          "",
          "",
          "",
          "",
          "",
          "",
          "",
          "",
          "",
          "",
          "",
          "",
          "",
          "",
          "",
          "",
          "",
          "",
          "",
          "",
          "",
          "",
          "",
          "",
          "",
          "",
          "",
          "",
          "",
          "",
          "",
          "",
          "",
          "",
          "",
          "",
          "",
          "",
          "",
          "",
          "",
          "",
          "",
          "",
          "",
          "",
          "",
          "",
          "",
          "",
          "",
          "",
          "",
          "",
          "",
          "",
          "",
          "",
          ""
         ],
         "textfont": {
          "size": 12
         },
         "type": "scattergl",
         "x": {
          "bdata": "derqQCf97kCL0sBAbuDZQEiD2EDxNrRAVEKzQFqOyEAXWsRA2CzmQIWB60A0ZrhAbH6zQHaJvUAeTuhARU3GQP/Os0DsBqhAu26zQLHqwkBnS6dA4LDXQG1540AkpBNBt/vpQNZZ3ECdYvpAWuG4QNcn7ED7G9VAXwOoQNnMxUBU8sdAKsO3QM2vx0DTqqxALSnEQD6y2UAG+OhAHqvYQEqbtEDpwMdAFqy0QG/73EA3z8dAmkjnQGmKy0ABp+ZAS58AQSe75EDoLPpAQrWyQC9GtEBGXulAtczhQC4L30AOr6dAikfpQNwKzEAKwthAwyDpQLE17UCIErJAVAWxQKQDwEDXm7lAeQTdQJxv6EDQBuZAjPvAQOsWtECCJ61AvmLpQHu/zkB4sKxAWVbeQLl160AEUvxAxAbeQHTeuUB2GrpAxUO5QGnNxEC54LRANZ6wQPD5ykBa695AOor4QG2IDEEyqctA3B3OQE+tvEAH1O1A2F32QBYk60AkMcBAKaHjQBvv60BI9cpAMuPUQJ8LsUAEE7FA746nQD7fC0GX8+dAuinDQDyl20Cr6bRA/m/EQATj3kDydu5Ar+LLQG1b6EC+vLlAIf/eQPIt5EDTO99AnJOxQG1Ws0CEp7NAUOWxQDUv6EAJvctAGbboQBYJyEBjgt5AkRbpQHdVAEFNhLxAUa2tQLwi4UCEqLRA69jTQIDg20A2s8FAPXC5QMn/sUC0fLNAbwPIQOhWy0CiUqlAbiWsQA2y2kCHXOFAHgHqQCqA50Dz1cZAXpLTQDEg+kBXfblAGMHHQHmTp0DwqLNALijIQGvg30BMKrJAPfvnQCMr2kCiuPxAysKnQK+Z2UBrDrdA0fzXQFcgu0A0OApBRHm8QMQI60DzW7RA3qnEQCx39ECmDdlAYyTqQMcp4EDMgNhAXm25QDOT8UDP9/9A2t7pQB0H1UAr1rRAB0UaQYWXxECZ3thAQo21QI9eyEB/VbxADpbnQB1P1EAKXN5AVqTnQBd3tkAZcOhATtrEQBMQ6EDkkK1AcrzeQHokv0BpWsZAymfLQI50sEDS5PlAnAToQPPg3kARB8dAf5u9QPyK5EBRSwpBpvLoQC8Z6EBowQ9BjSi/QHQUx0AbmMVA3VD5QOn/10B22uFAVzjWQH9L7UAPKu1APw7nQC70sEB5DMhARn7hQG0zw0BFrbxA7OkTQa4b90BPfrlA6r7eQHTZxUAGSqpAZaLCQEKz3kCliuhAfd+8QO1P50ARxbNAyC3WQEbeuECG38NA6BHqQC4B9kAJi+pA2+T7QBd2x0CGpb5A9vD5QJ+350ATiPhAiFXEQNrWtUBYN+BAne7ZQBKav0AC3KdAr6zZQIbv10AzyMdAMvu1QK6c2UBu0xZBZ8zsQB1o3UDkc7NA0uHIQDyt+UAynrNAGHPjQD3vyEDtnqdAKxjeQEkM8UBnmL9AFevmQASR+kB7TeNA5BDHQAYb2UChabVAElnHQK0YvUDVwbtAdhy5QD12vUDVO+FAymveQIVdAEFCOrRAbKPDQMJvwUCmONdAHIKsQAp63kAgsLlA4+S0QAOJs0Cbf7lAndLTQGE1uEDNy69Aw6EQQZVvrEAe/LNApCm6QC3n6ECAX8NAfsbDQCkk9kA=",
          "dtype": "f4"
         },
         "y": {
          "bdata": "o9sHQYb4A0H1JQlBe5ELQbmWCkHJmAZBLHAEQbCRA0GWPfpAFUsMQc99A0HnBwlB938HQeqtCEHjIg1BKsv4QHLEA0F979xA2LAGQe+4+0CxyttA2vAJQXUtDEGVna1A7boMQUNBCkGPhwJB3cjtQNH0CUG1QQhBiwcAQbjVBUFyJwRBlPEBQYei6UBQIwBBxhz6QLjWC0GT9QdBbOELQb+0BkEAPvpAJLICQfykDEHwSPlAkz8NQUgg/EC0if5AN4oDQekKBEHGAAFBUlYEQe5RA0G6UAVB/2wDQYUKDEFa4/9AuaAEQcYnBUFtFAtBC+ABQTNkBEGjhgNBwckCQXHGCEHq6ApBdsQKQduZDUFcjAZBZoEAQfHwBUFxuwFB52v+QPgP+UD8KgBBZWQMQZM0CEF0w/hA0EQNQfbN90BhHwdBYC0LQQIm+kAV5wJB93wCQTU6+0CUag1BATgBQdzftEAUYQhBgsn4QHnhAkFHAwpB9CYFQWqAAkFqKfpAmB4MQRPwAEEloQdB+aEGQfh1AkGWEgNBKQAAQW0XvEDV7QtBsJP7QBKDCkGmKQdB8Gr6QDo4DUFbtwZBPfMHQY08B0GeEAFBUyUNQZ3wAkGHAw1B6ewCQfUTA0FSfwdBjYgBQYRPDUGp9wdBTrkJQU4r+UAzuQ1Bl/YAQUOFBEH/4QdBHjwBQX1XCkGi5QRBkFwKQVIXBkFuiwFBeicIQTDiA0Fn6QNBh9IDQTYf+EDPxt5A9+T/QPZwC0HY1AtBUU8IQQ9xDUGDUAVBSv8HQd6OAEHN2wpBme8IQeXE/0AcUAdB98wDQXMjCUH1wwNBFgcNQXw/DEHkk/5AZigAQSCjDEE0u+FAfoEMQQjG/0ABeJ9AxVkAQW0zCEG0AANB+OMEQe7dBEGz/wtBBkoDQcQ8BkHc5wVBdPAKQXa4BEH8yQNBof4CQc+0CEFnxwJBxKvQQOFX/ECj+AtBJy4CQacXA0EGvgdBre0DQTrRCkFr5NNAeFsNQaUDB0G+QwFBXPQEQeekBEG1PABBJbQDQWNs/0COrvlA6CEJQYepAkGCMQBB+ZUJQTJJDUEKLOpAwKUIQQ2DDUGDzqBArPIGQcxQBUF6ebxAZaAIQZMYBUFxpgRBqoGqQEFXCUHAQ81ATqcIQXE6CEFUPABB6wcMQW/vAkGk2QNB7eYLQeJO/UB+OwlBp8eyQCMdBUHrAwtBwVANQb7mCEHAewBBjGX5QH8LDUFbiv5AvQcKQSSqBkFaGwRBnoEKQeblCkEapfpAco0EQUQxBUHhiAJB7q8AQTD4CEHamghBTJQEQYAKDUFM3ABBrnv6QO/xAUEf1gtB5ocMQZTp/ECfft1Ad1YMQQi8C0G+vAhBnA8CQcFkB0E7htVACdEBQQXQDEHZTQdBr4P6QA3HAEHoXQdBiFMKQXw6BEFeEQBBgaELQfgABUG2XvBAe8EHQVHkAEHD5tFA1YIIQbYIDEGkoQJBAhP6QE2rCEGJIQhBZiILQVxpCEFSFg1Bbp8LQakVA0GSxgZBbqz6QJRMAkGf8AhB5Mn/QEAsDEEoqwpBkOMCQaWmBUE41gpBJigIQQEVCEEKRgJBZqu9QFqx/0BpTgRBHW8KQc5tA0HOi/pA1H0BQTn6BEE=",
          "dtype": "f4"
         }
        },
        {
         "hoverinfo": "text",
         "marker": {
          "opacity": 0.5,
          "size": 5
         },
         "mode": "markers+text",
         "name": "2_and_the_of",
         "text": [
          "",
          "",
          "",
          "",
          "",
          "",
          "",
          "",
          "",
          "",
          "",
          "",
          "",
          "",
          "",
          "",
          "",
          "",
          "",
          "",
          "",
          "",
          "",
          "",
          "",
          "",
          "",
          "",
          "",
          "",
          "",
          "",
          "",
          "",
          "",
          "",
          "",
          "",
          "",
          "",
          "",
          "",
          "",
          "",
          "",
          "",
          "",
          "",
          "",
          "",
          "",
          "",
          "",
          "",
          "",
          "",
          "",
          "",
          "",
          "",
          "",
          "",
          "",
          "",
          "",
          "",
          "",
          "",
          "",
          "",
          "",
          "",
          "",
          "",
          "",
          "",
          "",
          "",
          "",
          "",
          "",
          "",
          "",
          "",
          "",
          "",
          "",
          "",
          "",
          "",
          "",
          "",
          "",
          "",
          "",
          "",
          "",
          "",
          "",
          "",
          "",
          "",
          "",
          "",
          "",
          "",
          "",
          "",
          "",
          "",
          "",
          "",
          "",
          "",
          "",
          "",
          "",
          "",
          "",
          "",
          "",
          "",
          "",
          "",
          "",
          "",
          "",
          "",
          "",
          "",
          "",
          "",
          "",
          "",
          "",
          "",
          "",
          "",
          "",
          "",
          "",
          "",
          "",
          "",
          "",
          "",
          "",
          "",
          "",
          "",
          "",
          "",
          "",
          "",
          "",
          "",
          "",
          "",
          "",
          "",
          "",
          "",
          "",
          "",
          "",
          "",
          "",
          "",
          "",
          "",
          "",
          "",
          "",
          "",
          "",
          "",
          "",
          "",
          "",
          "",
          "",
          "",
          "",
          "",
          "",
          "",
          "",
          "",
          "",
          "",
          "",
          "",
          "",
          "",
          "",
          "",
          "",
          "",
          "",
          "",
          "",
          "",
          "",
          "",
          "",
          "",
          "",
          "",
          "",
          "",
          "",
          "",
          "",
          "",
          "",
          "",
          "",
          "",
          "",
          "",
          "",
          "",
          "",
          "",
          "",
          "",
          "",
          "",
          "",
          "",
          "",
          "",
          "",
          "",
          "",
          "",
          "",
          "",
          "",
          "",
          "",
          "",
          "",
          "",
          "",
          "",
          "",
          "",
          "",
          "",
          "",
          "",
          "",
          "",
          "",
          "",
          "",
          "",
          "",
          "",
          "",
          "",
          "",
          "",
          "",
          "",
          "",
          "",
          "",
          "",
          "",
          "",
          "",
          "",
          "",
          "",
          "",
          "",
          "",
          "",
          "",
          "",
          "",
          "",
          "",
          "",
          "",
          "",
          "",
          "",
          "",
          "",
          "",
          ""
         ],
         "textfont": {
          "size": 12
         },
         "type": "scattergl",
         "x": {
          "bdata": "nuLEQIKQxkDNIgBBiH/GQCUpx0BfMbdAnHMHQaDzuEBQmwFBtyq8QBm6/kAzNsdAyd4CQSuI2EDMMcdAh/67QFAd3EBghMdA7OC6QC3W6UAenb1AsiIFQa24+0DQccdA71DjQHpq2EBzd7FAMlnbQOHwpkDQlLZAnUm3QL7ou0BxkMhA5UunQLGpyEDvqdhAbNu7QPg0uEAP29RAL67GQPsHukBpXbtAKBvLQG2JB0Fa7cFAPZfKQFSpuEBaLsxAfW7FQOYTtkDh1LZAhhW/QBkYA0F2+LNAxFXqQPGEzUC6krdAu9/YQMxCykDIweFAWtHqQJ+5xUCYRfRACWLJQPRL3UDyysJAqvvrQMHR+0CdgKdAVbz9QAOj2ECZVL1A9eC5QFIgukB8+b9AWzjHQEXA/kC6AddATVq6QK4WzUDbs7xAtTjAQCi+/0Cpg6dAOs3XQFrluEBy8btA2mG+QIGKwkD9FdhAsUnPQI2D2EB2l/9AWlfIQIZyv0CwSgZB3KG9QK41ukDCP9JADnnjQCkXuEA+UspA68K9QCTJpkAAJ8ZAFybFQE8qy0CkYQhBrES7QF1g+UCNatVAwonCQFOXxUAgvtpAgS7PQGLC00DHb71AiKa7QMiwxUBOdspANErJQGj910BkPttAkAG3QDgGtkA+77pAdlDYQCM+uECr+rpA/fPGQNZ8p0AvTrpA44O2QIgau0DxnsVAlNHcQGdQy0CXEb5A1V7QQBiEtUAn5Q9BzovqQBW7pkB6w+tA74XKQIUtukAPkAtB1ce4QNKG/0AUe7tAwhy8QAPN10D1icVAWePRQAmstUAhmcpApu+7QGGExEBaKtRAicu5QLJq7kA2tdVATD3EQKbNxUDvl/lAp1UCQVGbuEDwwrhAjFnWQNt5+kBSkNRAvWC8QKwTvEDoFrlA6/DEQFi9tkCdh8ZAYX61QJOLuEBYX8lA/QnHQECWvED22ehAXwTrQMky2UD9g8VAhx7+QIYvz0Dkl8FAburUQDWBxUBucrlABVP4QIFx30Dhq8tAMqXIQOVG10BaVqdAIIvYQH/l/kCtqNZAINvHQKljuUAieO1Aj9XfQLjHvEDwm8ZAJAG8QC2dukDmCgVBYg4JQSnN3kCzMBxBbfWzQLNn40Am4ghB1P67QJPGy0DlW+FArNnWQKy/30C+l7lA/B63QKmut0AuS8tAsikCQXCZ/kAqHANBek73QCAryEBxbL9Ae1e2QIEC/0A0s8RAVG/ZQMZ6uEDt8tpAeqzKQEhqyEDRj91A+IfEQBnD10BZVsRAvmu+QF0svUCSHONAjBjyQBaVykDlH9VAiCK4QC3i/kBFSMZADaXVQOkf1EAgdblA4w/bQA1SukAW97pAd77HQDvLx0Btp8VAnh3bQCSZyEBZhsdARaK4QOLrvUDrtLhAgh3JQARD3UBahtVAv7e3QCtOyUAUg8dA5y/IQOSj4EDhJeRAdmH+QAif2kBlzLhAEafIQACb/kAdWLxAGPW6QAH8yEBLIgdB5czHQA/1yUBHmwBB/5e1QBlZzkAaO7hAFGHQQDmVv0DAEcVA",
          "dtype": "f4"
         },
         "y": {
          "bdata": "YWqfQB6OwkAv5ZJAp1S/QAomnkAuq59ADvWBQEpno0D5aoRABf6cQKtojkB1FqdASgKhQMP8nkBQm5xAVnK5QIosn0BCSL9Af1KcQH9kmkBrWLFADD6gQHap10BAx6BAh+OZQIWDoUAW2LZABoCcQIS6/UDgKKFASLugQH9GnUA8xqVAaTnXQHuMnEARTrZAdc6ZQCsznkDMBJ5AcpOXQP8/n0DiaZxA5Fe3QPKygUDxaaZARqXAQNfzmUC6IPhABLaoQE86oUC1V6BA7e+oQOQCiUCFfstA2QSZQDpjtkBNrZlA5DW2QF1Bt0Cb961A3HiZQE+elkAcm5ZA1amYQCpMnUB78JpAzZyaQOQ7sEAYT9dAxXz7QBe9tkCQyZxAw7GjQOvqnkDQ95xATjykQDNmhEAZ5bVAQLGcQB3inECJEJxAYkChQGKug0ATv9NAzV6hQP+UmkDD+ZtALw6tQI3pnkAzE7ZAiYSeQCUAtkCzVp9AmEeeQIASnUDUb4JAYuOcQMalrEC3mJ1APNzRQPKrnkDQ36RA9Gq2QGAs1kCiPqxAUtLCQCtnoUBPEZBAvUmeQAW3qEAD/cBAQgGZQM4bqUBls59A53CxQKLGuECKjZpAJUKcQNA3wkBNJbdA+/eeQBEntUAtH7lADHjhQNDPoEBO95tA9Ru2QEX7mkAdd5xABqeeQGtC10ArrNlAlZ6gQB4opkDPdsJAVkGdQLsBmUAWkZtA2+G6QBl64kB0YLdAu9DPQDFI1UABhJlA9iu3QGlorEAg6YtAMNGaQBlGg0CFyJtAG2GdQDv4tUC4vcFA3SOeQB0GoUAG1Z5A7cKYQNrvqUAgBLlADTqbQNn2nUAY451AcLGsQK4JvECp2KZAsHGJQH7ImkCrqJhAcHuvQLzjx0AtRqNA08WcQOj530D2hZpA09PCQLiOn0B+yZ1AH3GhQLyHmECazMBALMGeQEtBnEDYadFAQ9OZQM0Ft0CfkK1AH+KDQMQotkAlx5hADUOnQDsSwUBSGplAl+uWQBaBm0CNi5tAc9OgQCQDtED82tZAeGmhQHR+kUAb/rFAiCnGQBHerUD/fqtALirPQGCTnEAosp1Am6+fQL3xnkBESIJAuQeeQASWnUAW49VAKAa0QAPm0UDV1pdAPf/GQHAmvkBejc9A/QCjQNc4nEDw/apAuNOgQOBwmUC3RblA4IGFQOeJg0BzA6FAW4rVQKZFnkAKQJhAZKOgQJ0kg0BTpZZAnPOfQJ5gnEBOVqBAWN6iQNc0xEBPa5xApiGeQE3+tEBEr55AH/GdQKz9qEAWxdFAuiKvQB7Kn0BxsqlA062ZQD6RkkDu2ZdA9Z6dQDG3uECvAZtAqE+fQKA+rEAAY55AVB7EQCttnEApp6hAjOqfQO3Qv0C5QZ1ACueZQKuSoUD8E5hAhfW3QEMcv0CsYrZA5FiZQCcnvkAo+55AGrakQE6bwUC0HppAkfGNQGpNnkDjxJlAWGnBQPqOgkAulJhAMciaQPtcn0Bx+oFAFRqeQJndukC0Fp5A4tCgQF/lsUCOY5tATNidQKo1nUC9GalA",
          "dtype": "f4"
         }
        },
        {
         "hoverinfo": "text",
         "marker": {
          "opacity": 0.5,
          "size": 5
         },
         "mode": "markers+text",
         "name": "3_the_and_of",
         "text": [
          "",
          "",
          "",
          "",
          "",
          "",
          "",
          "",
          "",
          "",
          "",
          "",
          "",
          "",
          "",
          "",
          "",
          "",
          "",
          "",
          "",
          "",
          "",
          "",
          "",
          "",
          "",
          "",
          "",
          "",
          "",
          "",
          "",
          "",
          "",
          "",
          "",
          "",
          "",
          "",
          "",
          "",
          "",
          "",
          "",
          "",
          "",
          "",
          "",
          "",
          "",
          "",
          "",
          "",
          "",
          "",
          "",
          "",
          "",
          "",
          "",
          "",
          "",
          "",
          "",
          "",
          "",
          "",
          "",
          "",
          "",
          "",
          "",
          "",
          "",
          "",
          "",
          "",
          "",
          "",
          "",
          "",
          "",
          "",
          "",
          "",
          "",
          "",
          "",
          "",
          "",
          "",
          "",
          "",
          "",
          "",
          "",
          "",
          "",
          "",
          "",
          "",
          "",
          "",
          "",
          "",
          "",
          "",
          "",
          "",
          "",
          "",
          "",
          "",
          "",
          "",
          "",
          "",
          "",
          "",
          "",
          "",
          "",
          "",
          "",
          "",
          "",
          "",
          "",
          "",
          "",
          "",
          "",
          "",
          "",
          "",
          "",
          "",
          "",
          "",
          "",
          "",
          "",
          "",
          "",
          "",
          "",
          "",
          "",
          "",
          "",
          "",
          "",
          "",
          "",
          "",
          "",
          "",
          "",
          "",
          "",
          "",
          "",
          "",
          "",
          "",
          "",
          "",
          "",
          "",
          "",
          "",
          "",
          "",
          "",
          "",
          "",
          "",
          "",
          "",
          "",
          "",
          "",
          "",
          "",
          "",
          "",
          "",
          "",
          "",
          "",
          "",
          "",
          "",
          "",
          "",
          "",
          "",
          "",
          "",
          "",
          "",
          "",
          "",
          "",
          "",
          "",
          "",
          "",
          "",
          "",
          "",
          "",
          "",
          "",
          "",
          "",
          "",
          "",
          "",
          "",
          "",
          "",
          "",
          "",
          "",
          "",
          "",
          "",
          "",
          "",
          "",
          "",
          "",
          "",
          "",
          "",
          "",
          "",
          "",
          "",
          "",
          "",
          "",
          "",
          "",
          "",
          "",
          "",
          "",
          "",
          "",
          "",
          "",
          "",
          "",
          "",
          "",
          "",
          "",
          "",
          "",
          "",
          "",
          "",
          "",
          "",
          "",
          "",
          "",
          "",
          "",
          "",
          "",
          "",
          "",
          "",
          "",
          "",
          "",
          "",
          "",
          "",
          "",
          "",
          "",
          "",
          "",
          "",
          "",
          "",
          "",
          "",
          "",
          "",
          "",
          "",
          "",
          "",
          "",
          "",
          "",
          "",
          "",
          "",
          "",
          "",
          "",
          "",
          "",
          "",
          "",
          "",
          "",
          ""
         ],
         "textfont": {
          "size": 12
         },
         "type": "scattergl",
         "x": {
          "bdata": "n1kIQdraDUHGjwhBHOsIQamfC0EMiAxBwDMMQUEaEEFI4vNAEYnvQBeHDkH1ywlBCVkLQZ6iC0GdtwdBHEgFQU38DEFXnAtB4OUJQZl2AUGDSxJBsoQOQXfjC0FRm/tAnVkPQb0zBEGgcAxBSq8EQdqHB0EZJgxBzckSQUyG5ECm/Q5BgiwQQSzWDEErOwpBv0kIQf69E0GMeQtBGe4CQfe7DEEd8/hARgMPQbcRDkE8Bg1BxIILQeFwAEHy2QlBauEOQabQC0ErCQhBVA0IQTYRD0HZCNBAU7YQQZ1pEUE1OwtBIQsKQahiCUF4FelA4ckJQbBOCUGiVA5B7kYJQTteC0GmHgtBTToEQatqCkHyFRhB2TkNQTLCCUFRXhFBjz8NQZcNEkHeLwlBXM8LQVubCUEX8g1B5usPQYocCkHZ0w1B6U8MQTbTCUFVDQ1BpNIMQRPLDkFvggtByAIFQSD8CEFS7wlBZ37IQODdC0ESu+hA2V0IQTPrCUGsaA5BqikXQdgsCUGdlAhBTS4WQWTXDkFLNQtBZwsGQdTZC0EPPg5BTjENQSoGBkHXTwpBdToJQe6ODUE6ZhNBtKkIQTm2DEEhQw9Bx5QMQdzwCEE4iglBfUkKQab/CUE6PBBBGZryQDSo/UA36QxBgyQIQWKyCUH1rgtBBxQLQZ36BkG+qwhBlqMIQcfFDUHTXglBqzMKQZ+kB0EdYw9BVJnJQPALDEHaNg5B8XcPQRB4EUFCGe1ATCMKQVOC1ECVoAxBltkPQeGb/UBQbetAI2/vQDpJCkGITwtBU7wNQRk0CUGfuRpBpQSnQPt4C0HZRghBnCULQT5YE0GGIghBqVUFQbnJC0Gq4ApBLPr1QOUTBEE6fQ5BS7noQGlMDUG5ZQxBZ8gEQR1ADEGGHQtB8CIMQT2JCEHvVg1B7QEOQccgCEFWpglBekz2QK9qCkGIdQ1BIgsPQZj6C0FO0gxBp2YHQdwcD0GfFQ9Bm9UKQd8KCkF+5QtB4GQMQZr5DUFMHAxBC5ILQT/3C0GS5ulADNgKQZyvCkG7KQhBwgMPQVlb0UDFXghBjTcNQc4A8EBHlwVBpiILQYAUFEHzAwlBFlgMQeQvC0EnkfxAhmT1QCW0DEHzTQtBojoNQQFxEkHcXgxBDooDQe8qDEEv8gRBeIIKQdgoCkGJQAFByA0IQSk+DkGiIwZBQnsJQdIaBkHuDgVBtzQPQXUVBUHL3wpBbBAPQWNA+kCPhBFBVhv6QK5xDEFF8QtB4j8FQXxUC0GvKA5B4OkKQSzpDkGbpQdBZUoSQZPjDEFFYw5BuJ0HQRBmD0FhTQFBbTAMQQSBAkHKAAlB0y8JQa9UEUGLbQ5BIePRQOgREEHxAQRBIZALQd9XD0Fnqw9B13YKQZ7rDEEwUg9Bu14LQff6D0FMGQxBVqkLQRXrDEFLmvpAAs0NQbJG+kDS3AxB5IQJQTV9DUELow9BQQjfQKlVCUGLJg5BRpANQbGHAkHiaQpBvcUMQYPRDUFnmwxBIb0PQQh9DEGgaQ5BpokGQa5jCEFA0gtBPKf6QEzBCUEo9wtBshsVQR/XC0Hb6ARB8/oMQYUVDkHH7g1BLkcJQUVhCUFOSwtBH5kLQU8FC0GFDw1BgigSQfqaDUFHowdB9IUFQXbw80DReARB0eMJQYOG6UCXOAlB",
          "dtype": "f4"
         },
         "y": {
          "bdata": "J7rkQEgjxkDmILtASUTDQKgankAunc5AcK7MQMKWlkDpHNFAkQjFQPtZxEBqLMJAwgLIQJ9xukDGdI1AcwXvQFVZz0CMRtFAQwuNQEkI5ECYTOZAqi3EQELfwEDKA8xAMU29QPTG8EArT85A43cNQSV840BPR8hArlvsQKW00kBL2KBAy8GxQLH28UBPCrdAUSjmQNu3z0Blf9xACV6VQKwZzkCUqt5AurvqQJ3BwUCDprlAE/DZQPHAkkDndr5Azki9QMFPz0BVEelAVP7kQDmOwEA+nfdA/YHOQNbjmUCwjcFAOczfQPjB4UDOwdBA7XzlQG2fuEASycFAQGbfQHqAzkCPnulAYwefQM3B7UDt1NRAlM7NQPi+j0DU7N1ALVjPQD+Bt0CwW+ZAQvbNQHjY60BRF91A5eOkQHxcvUDGQL5Ao2fOQJCr7ECerM9Aj8SbQBUpxEBmn8FA3qHXQDsC5ECtksFAjO/6QI+pzECis9FAPUXpQJc1n0BpHb5Aed/CQCjF4kBDHeRAfOrGQBUsxkB5PsBASCPsQKZ30kAfeb9A9VLPQHhYh0CEDs5A6eXkQDuBmEAppaVA+v3oQAeQz0Akr75A2zHDQKNn5UDhVuZA/PPNQJK1vUBI0phA13jjQMYYlkA0o8RANkrmQCJm3kD998pALfDRQB1fkEAehO9AR6WDQEVu0EAoA+ZALKfoQK7H6EBkKb9A5N75QILjr0BoesFAD+u5QMHAmUD4YdBAtu+8QOEtxUBzTc1ApmPvQCBms0Cu5glBMXzFQDP/vEA8bMlADlHDQOHkwkCh2/RAGLbXQOK/vUDAQuZA6E7PQGa2zkDTNe5AYsOkQBj9zUBL7N9A95PLQI98k0AaCtJA4ErFQOV9qUCMH8xAZLGnQAWM0UDaecxAQK7JQN6CsED6wcRA8IvHQJY/70CsyI9AN4LLQLF250B+p7lAAXWPQEtZzEB0wc5A6pPnQFpDwEANAMFAZTzQQP8e0UAk0r1A2Q7MQD+RyUB7EqFAcqfNQNIS5UDOzspAnIzOQCGZ5EDJveNAXTO8QCyK90BBseZAA2vDQFCPwkDROI9Ac0zPQOAjzkCdMudA8e3NQAvY3EAmqsdAIeG2QMqUzEDHAsBA353OQLFztUC88spAffORQJMRzEDjkp9AfHbOQBz7vUBDm+NA0WyOQFFlyUCjSMFALIflQIpMDkGLd+9AJEW9QNBYo0C2Fr5A2+G/QNypykAkPOJAur/WQCfVn0BzY8tAgGvYQKc/10Al8cJAwme9QA5gu0B7yoJAg+rpQKMQz0B6ledApbqBQFQ2wUDGgp1AHNjNQDCr5UBlBIRAPt/mQBP350A/q8hA/7f2QJY76EC2gJ9AclvmQEx74kBviPJAPgO/QBh3xUCWgMBAYFHBQL+K8EBEib5Auuy+QEyS50DDi8xAs3jMQEchy0BCHMtAFDyRQJz8vUCNRaJAzMHOQFqk3EDYJsBA+HXPQNczsEAyRL9Au/PMQM2by0CDs8tAFe66QOjfz0Bj/rtAf0vuQL0z7kDZOs5A6FTXQBfwuUAKk81AoBavQKWezUCIxaJArt7OQGM7vkC+cphABzzfQPeQ5kCiDNlAfozZQFXLu0A3b9BAitDkQKzNwUAPFYJAB+iXQPV61EAKYaNAgCy9QCZg0EB6oN5A",
          "dtype": "f4"
         }
        },
        {
         "hoverinfo": "text",
         "marker": {
          "opacity": 0.5,
          "size": 5
         },
         "mode": "markers+text",
         "name": "4_the_of_in",
         "text": [
          "",
          "",
          "",
          "",
          "",
          "",
          "",
          "",
          "",
          "",
          "",
          "",
          "",
          "",
          "",
          "",
          "",
          "",
          "",
          "",
          "",
          "",
          "",
          "",
          "",
          "",
          "",
          "",
          "",
          "",
          "",
          "",
          "",
          "",
          "",
          "",
          "",
          "",
          "",
          "",
          "",
          "",
          "",
          "",
          "",
          "",
          "",
          "",
          "",
          "",
          "",
          "",
          "",
          "",
          "",
          "",
          "",
          "",
          "",
          "",
          "",
          "",
          "",
          "",
          "",
          "",
          "",
          "",
          "",
          "",
          "",
          "",
          "",
          "",
          "",
          "",
          "",
          "",
          "",
          "",
          "",
          "",
          "",
          "",
          "",
          "",
          "",
          "",
          "",
          "",
          "",
          "",
          "",
          "",
          "",
          "",
          "",
          "",
          "",
          "",
          "",
          "",
          "",
          "",
          "",
          "",
          "",
          "",
          "",
          "",
          "",
          "",
          "",
          "",
          "",
          "",
          "",
          "",
          "",
          "",
          "",
          "",
          "",
          "",
          "",
          "",
          "",
          "",
          "",
          "",
          "",
          "",
          "",
          "",
          "",
          "",
          "",
          "",
          "",
          "",
          "",
          "",
          "",
          "",
          "",
          "",
          "",
          "",
          "",
          "",
          "",
          "",
          "",
          "",
          "",
          "",
          "",
          "",
          "",
          "",
          "",
          "",
          "",
          "",
          "",
          "",
          "",
          "",
          "",
          "",
          "",
          "",
          "",
          "",
          "",
          "",
          "",
          "",
          "",
          "",
          "",
          "",
          "",
          "",
          "",
          "",
          "",
          "",
          "",
          "",
          "",
          "",
          "",
          ""
         ],
         "textfont": {
          "size": 12
         },
         "type": "scattergl",
         "x": {
          "bdata": "JKMaQZ2+E0FJZhZBQGgaQc21GEF0J/5AaDITQbiFFUEAwRBBZC4ZQTSKGkFC6BtBcu0ZQQz7GkGhZRFB9Q4UQdJeFUHhZRZBJdEVQcgaEUHQJRhBMa0cQSXAFUGg0BdBnKUXQRKvFUGAxxVBEkwUQTg2FEGFdRdBIR0YQeWdGkHPrRdBybQbQbnyE0GAwhZB8fMUQX0yEkEdqhBBos0ZQQXvFkEawBdBG6AQQTFVGkFYlBpBaKkYQW3FFUHxDxBBbc8UQUeyFUF8YRNBaNwaQTeKGUEgdBpBjVgYQRaHFUE8ShhBP3APQS2FGEHTnxZB+34bQRXmF0GH6BNBE6UZQXi6FkEcqxxB3SkXQaslF0FFgxxBRawGQXkKEUHrWBpBzcMaQQHUG0EEnhVBFuIYQeToFUFpKxdBbPIbQSbbGEEBNQ9BsbEWQZE1FkG2ahtBmvMXQdB3E0EZthZBlZcaQY3IEkHVhRFBFKIRQeKqGUF1DxJBJ/4XQS85GkEnoPFAnbf8QIOSHEE3iBRB/iIXQU12FUGCZBFBlx4SQSYUE0GwORdBTJIRQYjkBkHEmRxB2RL8QDKSFkHpbhdBWCIVQUbNHUHhQxVBmdAPQWq9EEE3ABpBzBsTQdH3E0FRI/1AriEZQZ0oHEG33BhBPXwTQXqsGkH8ShpBSFUYQW6TGkE2ChxB9NYbQRfLGUFklxxBnesRQY7qGUGzCBxB1gcRQfACG0EV9xZBicMRQdgAA0FVmxpByBIQQVrLF0FKeBFB9QQaQS32FEElfRVBDRUSQbEgFkHX4BdBMJMYQa8KGEHruxdB+sIaQendEEHGIRJBGH0SQcYvD0GjQBhB5/0VQWwJHEHzyBlBEvsYQTQyGEFohBZBjp8WQaqJEEFDlxVBKnkXQU1KEEHs8OVAgDsWQc7LF0HQexNBsjMaQYJ0GUH90BhBt5sSQVNXF0HSnBtBOqsXQb4tGEGX7AxBIs0QQUSeEUGqkRtB6ZMaQWClFUFYBxpB7nYXQUGiGEFhFB1BvXgZQZ9GD0E=",
          "dtype": "f4"
         },
         "y": {
          "bdata": "YVzIQMvQoUD8HaZA4ebCQGBBzEBSVJdACVqdQKwosEBIG61AgyO4QK4NukArm8dA0322QAMmzEASZqRAyTWqQC/8qkB/EKlAYhavQMQupED5trFAOlPJQNC+rUAvvK1AXgatQADTsECHgqZAwaiiQIA/pUA4ZKxA9AKqQLLpvEABZ61Ag8zKQPnnnECiDK5A/eSjQEmcpUDpo6NAdf66QOd0rEC3Tq1AbvisQLE2yEA4JLxA8KqxQOnLskDtZaZAje+tQLV+rUDmAp9AvffMQLgTuUBhdblA6WCvQFElsEC0wMVAO8KXQPcJ1ED0N6tAKeC/QDxfr0Ath51Algi2QHoHpkAo8ctAqdGmQNlBrEDNfclAtsKKQHkmpEAEBsNAqXy8QHZiy0A+RahA1i+wQE+EsEDV1qZAlj7LQPONsUD+qZVASxGtQGleqECsHsNAP3mtQJKSnkA4rqVAmri8QGFRp0Bnlq9Ar7+aQCCHzUBzyKFARRavQHgLwEAkd+NAWCGVQKCvyUB9E6VAmX+mQDAfqkDNYaVAI3mgQIMjoED5la1AcvGkQBADikDX1cpAcOeVQPgLr0Ah/6xAksCxQNUc+0ByLK1AAdGiQAtyo0DM6MtA+mWlQGAtqkDWYZZA8pK1QPADwEA2E7NAVpamQGICxUC03bhAYverQNieuEDvQcdAyi7HQLxZt0BDLcRAj5ecQLCiuECJ9cVAHQiNQDvTu0CnxK5AorGcQAMHAUGDnslAneyiQAZIrkBv759A4Ry+QOWusUBps7FAHvOlQCauqUAZ1q1A/pyvQGHRr0CspK1AXivLQNb1o0DIA6VAtk+aQHs18EDtD6lAMaKoQLKAy0BZTrdAhaa2QKBwsUB/vq9AYkevQEddo0C52LFAfymvQBwNjkD2BwRBfd6tQDXZrkD6YKhAgBTBQOsJzEB5EbNAsT2lQEtSp0AU/ctAnY+tQA6jr0DdU5RAwjykQEZcoECEGL5ATHHHQJ35r0D+5MFAVQStQGEtsEBkssVAuZS4QHCIlUA=",
          "dtype": "f4"
         }
        },
        {
         "hoverinfo": "text",
         "marker": {
          "opacity": 0.5,
          "size": 5
         },
         "mode": "markers+text",
         "name": "5_food_and_the",
         "text": [
          "",
          "",
          "",
          "",
          "",
          "",
          "",
          "",
          "",
          "",
          "",
          "",
          "",
          "",
          "",
          "",
          "",
          "",
          "",
          "",
          "",
          "",
          "",
          "",
          "",
          "",
          "",
          "",
          "",
          "",
          "",
          "",
          "",
          "",
          "",
          "",
          "",
          "",
          "",
          "",
          "",
          "",
          "",
          "",
          "",
          "",
          "",
          "",
          "",
          "",
          "",
          "",
          "",
          "",
          "",
          "",
          "",
          "",
          "",
          "",
          "",
          "",
          "",
          "",
          "",
          "",
          "",
          "",
          "",
          "",
          "",
          "",
          "",
          "",
          "",
          "",
          "",
          "",
          "",
          "",
          "",
          "",
          "",
          "",
          "",
          "",
          "",
          "",
          "",
          "",
          "",
          "",
          "",
          "",
          "",
          "",
          "",
          "",
          "",
          "",
          "",
          "",
          "",
          "",
          "",
          "",
          "",
          "",
          "",
          "",
          "",
          "",
          "",
          "",
          "",
          "",
          "",
          "",
          "",
          "",
          "",
          "",
          "",
          "",
          "",
          "",
          "",
          "",
          "",
          ""
         ],
         "textfont": {
          "size": 12
         },
         "type": "scattergl",
         "x": {
          "bdata": "l0+0QETVq0CKIa1AnMywQOXys0DpvKtAKAW0QEymsEDuQq9AXgyyQMpUr0DxVLNAnI2tQEl2xUCAYKxASFvdQLKB0UDKPaxAqn6vQDbV3UBnK69ALPazQJ/nsED6XK9AdU6vQEbO1EAFJ7BA5SyvQNs4rkBBhK9Al/K1QL3kr0DWO65AzumwQPK4r0C8EbFA92avQAtkrUB6DbRAn1oIQbONr0AFFLZA6CWqQCdftEBUzq1Ao4+xQNhIsUBzQq1Aoo6xQLBPqEAESLdAioCyQNVUs0BOqLJATc+rQNNi/UDOxqpAeR6xQGwGskB2/NNAjtOsQCbTq0Br8axA+rOxQMK4t0CW065AGPi5QB3xrUCQM69ABN62QEdB3kBCILRA/ISzQJHXsEC1evRAW/e0QH6FsEDnWrZA55muQIasskBZPK5AB1iwQFu6rkCQba9ATsm6QI3zrUDRx7FAMXDVQAVer0BHN69ASd6tQPxMsUCT8NZAVkGvQJwnqkCMd7NAUQG6QAS5sUBzya9AIo+tQLTIrkAUULBA18evQBG3s0CFRrhAwOexQOEDrUCdJLJAN+OzQKQ3q0A4+7NAYLyvQKIPy0CzDrBABgHxQKQDuEANPLdA7MOrQBxutUD5p7BAa/OxQND3sEDN4a5AQ2TYQC11tUAm8LNAFo+sQHbC1ED2FqhAg1mwQA==",
          "dtype": "f4"
         },
         "y": {
          "bdata": "3BTHQEevvUCr6L5AU2XMQOG2xkA0Db1A/CbUQOoJvUCeW8xAuJTJQJ6QvkC9M+pA88O/QPxwx0BDD8RAUPW8QJ9t1UDBZL1ABf2/QHGY0kDY/s1APP65QP8IyEACP8pAS4rKQHIjxEAhOr9ABhTRQFPaw0AfSsdA1hPVQDNn00Ay5r9Ag2/IQJasx0A7W71Aba6/QH8rzEDsfrxAMnkIQS8500CVAr9AohHVQA1+xUB+kcBAqHrIQMpix0DyQ8dAiWvJQASx1UBwSstAjq7JQI1Bv0AsL9FA31C+QLJ92UAu4NVAM+fPQIN1z0CjJLlA86i+QKbKvEBH575AIVS6QKnSyEAZKsFAh9bJQAklx0AHgMtAInbMQBq72ECDu8RA5vzXQBLUvUDpiMhAmjfYQPK3yEBb1NdA3WzKQFrj00CaA8BAEP3JQH550EDBGcdAfETHQPbjwED8EslAKJPDQNX5zUBsC9BAUQ+/QBAWyUDUj8VAb5XRQLv+00DPQcZA0o7JQFed0UCmkNFAVtjCQADNzED45s5AgCC/QIH/y0DadM5AmOPIQGrbvUA/UMFAgn7UQIM/20Alir9Abb7TQLHX00A5I9BAxD3HQCii4kB/2eFAhXi9QBm5xUDPKL5A1ErJQLjWyEBc1LlAolX0QKfy0kDuXclASVG9QJZe9kAeEdRArca+QA==",
          "dtype": "f4"
         }
        },
        {
         "hoverinfo": "text",
         "marker": {
          "opacity": 0.5,
          "size": 5
         },
         "mode": "markers+text",
         "name": "6_bone_the_and",
         "text": [
          "",
          "",
          "",
          "",
          "",
          "",
          "",
          "",
          "",
          "",
          "",
          "",
          "",
          "",
          "",
          "",
          "",
          "",
          "",
          "",
          "",
          "",
          "",
          "",
          "",
          "",
          "",
          "",
          "",
          "",
          "",
          "",
          "",
          "",
          "",
          "",
          "",
          "",
          "",
          "",
          "",
          "",
          "",
          "",
          "",
          "",
          "",
          "",
          "",
          "",
          "",
          "",
          "",
          "",
          "",
          "",
          "",
          "",
          "",
          "",
          "",
          "",
          "",
          "",
          "",
          "",
          "",
          "",
          "",
          "",
          "",
          "",
          "",
          "",
          "",
          "",
          "",
          "",
          "",
          "",
          "",
          "",
          "",
          "",
          "",
          "",
          "",
          "",
          "",
          "",
          "",
          "",
          "",
          "",
          "",
          "",
          "",
          "",
          "",
          "",
          "",
          "",
          "",
          "",
          "",
          "",
          "",
          "",
          "",
          "",
          "",
          "",
          "",
          "",
          "",
          "",
          "",
          "",
          ""
         ],
         "textfont": {
          "size": 12
         },
         "type": "scattergl",
         "x": {
          "bdata": "o8QTQT2CFEEZexRB1swUQVNmFUFHMBVBgQkRQSkeFUHkxAlBAGgQQeUYE0EaLhRBjeUUQbS+D0FIVBJBK50UQa+iE0FLUxRBFqoUQUhhFEFv0hNBj18SQR0LFEFldxRB0fcTQVVXGUHebhNB9sQSQUf0EkFXmBFBpbwUQSo+E0HdoBJBJOIUQQe6FEF9RxVBVm4VQZ0QEEFJqxBBz5QTQbC7E0FjHRRB2b4UQcWAD0H1XxRBJzkUQSC1DUFm7RNBjEMWQdAZFEFDSRRB13oOQcLIFEEq6BVBO8sUQUmcD0EuXBRB14YUQfmND0FURRVBfcIQQamXFUEwBxVBaS8SQZ2bCUFiPBRBuXwUQeqnF0H+WxRBGxYQQZ8cFEHVARRBRHIUQVRWFUFltRRBCWEVQSgqE0G8ZRRBQR0UQbITFEG/txRBcfIPQYq7FEE5ZxFB7J3gQJ7FFEGUzAlBflMUQWtOFEEo4BJBmVgUQVYWF0HjqBVBcof4QKTXFEHaLBRBp4gWQVf0FkF2BhRBtPkTQRAkFEHicRRBdFQUQfzZFUHcRhRBScASQSCkCkE10xRBI3USQbWbFEHvRhRBugMVQSCvFEEm3xRBzlQXQbk6FEHFaRJB4VATQSAwFEE=",
          "dtype": "f4"
         },
         "y": {
          "bdata": "xCqxQGEws0CDAK5AogqwQFmqwkC5UbpAOTO4QH1ys0DQjLpAmYu4QNYPuEBso7hAHn+xQBmMsEBMRMpAD5GtQNYRs0D1aLVA2wKuQK8ktED9RrhA8MmyQPRAtEDQta1A0YO1QPb3xUAPgrVAX2e0QEv/t0BSnbhAvHe2QNCbtUByH7dAu0+wQFSDsEBJcMFASWjCQPJCuUB3abZAOoq2QMSHzkCqDbRAFj2vQOtXuUBggLdAcj2yQLEotEC1XrtA6Um+QD7LskA4xrRA8N61QHtxt0COabpAy4iwQIicukAcpLhA8aqxQIE1t0CsIrZA0li5QOrUtUB/NbdA5v+3QAxcukC257dA3aizQAPHw0BTOrtAD8W0QL8GrkAkzrlAvDe0QCzTtEBLyrFAU4HCQONBuEDy7K1ANcWzQBhxt0A507BAuzq5QIG4sEAgJLlARYjOQNRosEC9E7pA10OyQB2MrkDsWLhAuPe3QK7swUAyjsZAoHLVQA2mt0Bql7VAZMXFQG7ovUAPHrVAUEu0QI7st0D2C7hAqSGxQDCMu0Dns69Allm5QNM/u0DaG7BAZM22QJwCtUAEXrlAeDm+QNw/skCqvLlAMNvCQA9ZrkDaf7RAtTW2QL7ht0A=",
          "dtype": "f4"
         }
        },
        {
         "hoverinfo": "text",
         "marker": {
          "opacity": 0.5,
          "size": 5
         },
         "mode": "markers+text",
         "name": "7_the_of_to",
         "text": [
          "",
          "",
          "",
          "",
          "",
          "",
          "",
          "",
          "",
          "",
          "",
          "",
          "",
          "",
          "",
          "",
          "",
          "",
          "",
          "",
          "",
          "",
          "",
          "",
          "",
          "",
          "",
          "",
          "",
          "",
          "",
          "",
          "",
          "",
          "",
          "",
          "",
          "",
          "",
          "",
          "",
          "",
          "",
          "",
          "",
          "",
          "",
          "",
          "",
          "",
          "",
          "",
          "",
          "",
          "",
          "",
          "",
          "",
          "",
          "",
          "",
          "",
          "",
          "",
          "",
          "",
          "",
          "",
          "",
          "",
          "",
          "",
          "",
          "",
          "",
          "",
          "",
          "",
          "",
          "",
          "",
          "",
          "",
          "",
          "",
          "",
          "",
          "",
          "",
          "",
          "",
          "",
          "",
          "",
          "",
          "",
          "",
          "",
          "",
          "",
          "",
          "",
          "",
          "",
          "",
          "",
          "",
          "",
          "",
          "",
          "",
          "",
          "",
          "",
          "",
          "",
          ""
         ],
         "textfont": {
          "size": 12
         },
         "type": "scattergl",
         "x": {
          "bdata": "Wh/IQMWSw0Dg+RxBbDfGQLDZxkBhDMhAIsPGQCrF/0BSvMxA6ozEQHJeCkEmu8tAr2nHQMvBxUCfVsZABKfIQMS0xEC+gsVAE6jJQCG0x0AE8cdAQ0bFQCPUxUA3bsZAWhXFQIUxxUCNmr1AtMPIQC+uykA4EMZAg1bCQAY7xUAUT8pAkXLFQBo7wkDmgMZAH1rEQLKyCEHMEMdAWEbHQC9HCkHojcRACOHEQE7jxUBHOs1AFKDFQMOjyUCoeslA0ynOQEo1ykBE48RAJbvDQD7sxUAi8sJABloEQScKx0BmtsdAh3bGQAqKykC+XMdATBzNQIE5zEBF2sZAihbFQB+1xkD70sJAnwDMQLhvw0AGtcVA/jTDQLb1zkAtHr1AcrvSQP6lyUB43cVAUIbFQI+cxkCDveVAggrEQLj6wEDyh8dA4LnFQATauUAwpslAtgvIQMj9xUBQd8pAcvrCQKzvxUDpfxxB6jLGQKQMyEDY6MRAeGHHQC0HxUDf+cVAT/m8QC5pxEBlogxBcBLQQBYQx0APOw9BggPIQLn/xEAQAcdAh1fNQF+sw0BKX8tAKb7GQIKCw0Db6cVA5gzGQEf8G0HnqshAWUPSQLJOwkA/OsRA",
          "dtype": "f4"
         },
         "y": {
          "bdata": "Ft8CQYs//UBnrf5AO/ACQQAOBEEgKABBNxjuQOosA0FoOPhARJP8QMR5ukDT6/ZAI2v7QNEkAEG2R/pANXj5QJpaAEHi8QBBMLQBQQEq/0AhhQBB/h0BQY7HAUF9DQBBMvkAQTnxAEEzKO9A1NnnQKyh+EASLwFB4xj7QC0+AEHgOAFBriUFQTDS+UCAxANBWif7QO19sEAPqQRBuXL7QLOiukCoCwFBTeL9QF2nAkGGfANBPLUBQVeB2UBp8QBBVlMAQWpK+kCFJgFB9kkBQY+sAEHO+PtA37ejQAD76UBgmgFBJ2bqQAAE+UDIHARBxLQBQWUjAkGUivlAXSv8QOXpBEG0NvxAZe8AQY8P/UCrjPtA6sH/QIfmAEEwCO9A+6/9QNmWAEG8wgRBxYMBQVK+6EBRzwtBzEkAQS8790C1wPdAImj9QLuA50CR9wRBm8YAQY1SBUGLJgNB6oT7QJ/gBEHmSv1AEu8BQUU+AUH3wQFB4wsCQfNcAEHUcgFBtfLtQNeTAEECtbhA5Y0DQaay/kBrTbtA5t37QHZx/EAKmgBB+1cAQceQ+kCGLwFBMpD4QOmF/0CVpwRB1AL8QNre/UDk6P9ASFD+QKXl+kAiQf5A",
          "dtype": "f4"
         }
        },
        {
         "hoverinfo": "text",
         "marker": {
          "opacity": 0.5,
          "size": 5
         },
         "mode": "markers+text",
         "name": "8_gut_and_the",
         "text": [
          "",
          "",
          "",
          "",
          "",
          "",
          "",
          "",
          "",
          "",
          "",
          "",
          "",
          "",
          "",
          "",
          "",
          "",
          "",
          "",
          "",
          "",
          "",
          "",
          "",
          "",
          "",
          "",
          "",
          "",
          "",
          "",
          "",
          "",
          "",
          "",
          "",
          "",
          "",
          "",
          "",
          "",
          "",
          "",
          "",
          "",
          "",
          "",
          "",
          "",
          "",
          "",
          "",
          "",
          "",
          "",
          "",
          "",
          "",
          "",
          "",
          "",
          "",
          "",
          "",
          "",
          "",
          "",
          "",
          "",
          "",
          "",
          "",
          "",
          "",
          "",
          "",
          "",
          "",
          "",
          "",
          "",
          "",
          "",
          "",
          "",
          "",
          "",
          "",
          "",
          "",
          "",
          "",
          "",
          "",
          "",
          "",
          "",
          "",
          "",
          "",
          "",
          "",
          "",
          "",
          "",
          "",
          "",
          "",
          "",
          "",
          "",
          "",
          "",
          "",
          "",
          "",
          "",
          "",
          "",
          "",
          "",
          "",
          "",
          ""
         ],
         "textfont": {
          "size": 12
         },
         "type": "scattergl",
         "x": {
          "bdata": "k+DhQOLg6EC/k+hAnSDgQHpzCUF8zt5AlqfbQIdz5kAV6rZAQMbsQAf13UBisRFBadHkQDxs7EABsexAiJfwQEjX8ED3qfBAp/UJQe6Q3UD86OtARRrcQN/s60D0Gu9Awwu/QI7X6kBde+lAnpjsQAzrzkBdKuBA8PULQVTF7ECJ3+RArXK/QAdy4kBsYuxAjo37QJfO60BZUdtA+XbgQE3L3UCYBeBAVaftQBpJEkH2vulAc4TpQGht3UAkhOZAzYDuQDDo7EBK9PlAbuzsQC9h3EDbw79AeaPbQAdj3UDGJu5AAknuQIoI7UA5HNxAo5LwQASo7kCX4OJAVMW+QFUi5kCN+epA/snmQOQv3UANVxFBc5bhQLNv8EDS1ONALZ8QQU+/7EBRm+RAktvsQBo64kBwbM1AArXtQM1+8UB9Y+1ADdPnQN2Rv0C5B91A39PwQKtc6kCJA+5AhA7tQIdPCkGIoN1AbW/iQKCS50D0Bd5A/UXeQOrI4UACAd9Az4XvQODU4EC54+xAM0TrQHqe3UCOy+5AlyLhQJde60CdCO1AjDPiQEcj6EBhPBBBKRHiQNkg5kCYH+BAzbgZQXYe5EDZYRFB913iQHo3CEGRb+lAh/kJQaIR60D+QNVAK5nnQBRZ3UDtmd5ASh7wQA2RD0E=",
          "dtype": "f4"
         },
         "y": {
          "bdata": "zO7PQJKa8EDPQOpA4S/fQPnZ/UCSYeFAqvLtQOf3/UA70dlAAVPuQAhF6kCi2qlAKrLyQMcD7EBeWulAl8nkQCmX40DlKuRAXV79QMBH5kBntPBAhJ/rQGQf8EBiq+9AIazqQGcS70CijfBAbTr4QDDc90Dj1OVAltbQQEMH8kCxYeRAmWHsQHGf40BvNf1AdNsCQSdE9kDZ0e9AZIn0QJo170BMkthAWKLsQCcYq0BCh/JAvxn4QO0c40C0BO9AJnDxQBLN7kAQW9JAiifvQEQh7UClyepAsDzxQJKv4ECwEe1A4ibrQB9Y/EBN4+tABsfkQP0b+UBi0vFAyiXrQJb520AUrutA7McIQW4K7EBoaJxA/ezZQF6V5UARP8hARmKaQKrg7kBj5dRALvzqQBhC8EBwrPZAL2/wQO8Y40DHSe9ABzz1QFf96kDIku9AtA3oQOa79kAtQPpA3K/3QEMO/UCSGO1AueHzQGus9kB6OOlATwjnQGCw70B1AvJAxT/lQJO0z0CIl+5A5wDyQDXT7EAHi+ZAEj3FQC/q+ECVoe9AvfHpQOm29kALsKxAHCzxQB3j50CWvPFAIVrTQFdN9ECT5qpAPNrhQDyDskDwmfFA3hj9QF918UAXNe5Azij2QOl97ECp8+hApujpQPsXx0A=",
          "dtype": "f4"
         }
        },
        {
         "hoverinfo": "text",
         "marker": {
          "opacity": 0.5,
          "size": 5
         },
         "mode": "markers+text",
         "name": "9_plant_the_of",
         "text": [
          "",
          "",
          "",
          "",
          "",
          "",
          "",
          "",
          "",
          "",
          "",
          "",
          "",
          "",
          "",
          "",
          "",
          "",
          "",
          "",
          "",
          "",
          "",
          "",
          "",
          "",
          "",
          "",
          "",
          "",
          "",
          "",
          "",
          "",
          "",
          "",
          "",
          "",
          "",
          "",
          "",
          "",
          "",
          "",
          "",
          "",
          "",
          "",
          "",
          "",
          "",
          "",
          "",
          "",
          "",
          "",
          "",
          "",
          "",
          "",
          "",
          "",
          "",
          "",
          "",
          "",
          "",
          "",
          "",
          "",
          "",
          "",
          "",
          "",
          "",
          "",
          "",
          "",
          "",
          "",
          "",
          "",
          "",
          "",
          "",
          "",
          "",
          "",
          "",
          "",
          "",
          "",
          "",
          "",
          "",
          "",
          "",
          "",
          "",
          "",
          "",
          "",
          ""
         ],
         "textfont": {
          "size": 12
         },
         "type": "scattergl",
         "x": {
          "bdata": "jTezQN0TqUAw4bdAKmG8QOBKrEB+XbVAGY+nQG5fvEAuD75AvCynQDyqtUBSkqhAuC2mQGxXsED1ArVA08usQM7uvECu2bRA5YOzQM1au0AHhrlAutiqQGnor0DuA6xAg8CqQFWerEDMg7JAMyOpQJWqvUCfhqxAwBytQMzNr0D2f7VAzzmpQPykqECDu6xAXXivQLN5qkC0da9AqhLEQEest0DqlqxAuOivQEbxrkCMnbdAhR+rQKtjq0Dv8bdAQ227QP77v0C9kapAmIysQB5urEBWVr1AlfKvQH7frkCfTKdAdjm3QOnAp0Bv1KxAUd6qQGJQr0DLZ69Afqm7QCTdrEDSYbFAOa2pQJW5s0AYNq5ABoOqQJZ7qUDH4KpAdHuyQKDYqkAbmqhALnSoQJG2ukDd36xAlYitQFtYskBuyrRA08utQPIvtUChD61AYL20QBSDtUBUD6tADruoQOzMqEAvI7dA7GitQDLSq0DS8bVAVWqwQHZXqUCVc7xAH1WrQHYSqECdFLVA4C+tQPZ+s0CnkahA4Ke7QA==",
          "dtype": "f4"
         },
         "y": {
          "bdata": "MTjpQMZD5kCY/udAQSznQHD34kBi8+dA4wLUQBHa6UBATu9A6cfWQOih60CZcuNAYNrVQFs960B5PddAse3hQJnD6UD3/edAux/qQHMd6UCPS9VADtTlQMTU10DWmOZABt7oQBTk7kCaR+xAqcDkQEDF6UAv9O1AD5fuQCJ950AsnuhAXcbfQDKK4EDN++tAHvXrQDjA5EB6dOpAWbPoQE1H70DlLu5A5yPtQMOV6UCWOuJAsCLgQB+k7UCiiulA1U3mQFHd60BxgOZA9fLnQC//7UBmdudAabzsQL7U6kCZNNVAPX7uQMui10BWvetAxyDnQEnq6kC3BuxA6knbQDnT4UCyV+pAJeviQE/S6UB0xe1AUGfMQBUC5kDOB+hA/GLrQHc+5EAauuNArVTiQF//6kCgl+5AHJXrQPMk5UBGjuhA5FvuQGRt6ECsjO5Aoa7nQDYq6UCo5uNAV5bgQPTl5UA4lexAbgXvQO6M50CGDelAKE7pQG7h5EBCud9AelTkQMmG40A/xOZAeX3lQDsM6EAA2eNAi8ToQA==",
          "dtype": "f4"
         }
        },
        {
         "hoverinfo": "text",
         "marker": {
          "opacity": 0.5,
          "size": 5
         },
         "mode": "markers+text",
         "name": "10_brain_the_and",
         "text": [
          "",
          "",
          "",
          "",
          "",
          "",
          "",
          "",
          "",
          "",
          "",
          "",
          "",
          "",
          "",
          "",
          "",
          "",
          "",
          "",
          "",
          "",
          "",
          "",
          "",
          "",
          "",
          "",
          "",
          "",
          "",
          "",
          "",
          "",
          "",
          "",
          "",
          "",
          "",
          "",
          "",
          "",
          "",
          "",
          "",
          "",
          "",
          "",
          "",
          "",
          "",
          "",
          "",
          "",
          "",
          "",
          "",
          "",
          "",
          "",
          "",
          "",
          "",
          "",
          "",
          "",
          "",
          "",
          "",
          "",
          "",
          "",
          "",
          "",
          "",
          "",
          "",
          "",
          "",
          "",
          "",
          "",
          "",
          "",
          "",
          "",
          "",
          "",
          "",
          "",
          "",
          "",
          "",
          "",
          "",
          "",
          "",
          "",
          "",
          "",
          "",
          "",
          "",
          "",
          "",
          "",
          "",
          "",
          "",
          "",
          "",
          "",
          "",
          "",
          "",
          "",
          "",
          "",
          "",
          "",
          "",
          "",
          "",
          "",
          "",
          "",
          "",
          "",
          "",
          "",
          "",
          "",
          "",
          ""
         ],
         "textfont": {
          "size": 12
         },
         "type": "scattergl",
         "x": {
          "bdata": "BDAQQbP9FEE/qw5BRk0XQfZvEUFGeBBBxKoQQcHLFUFicQpBckoQQUkKF0HL7w5B90UQQfS6B0EtaAhBVggNQc2hEEFECQ9B+8kQQVtyEUF79gdBzVgPQTB9DkEm8g9Bib0HQbztD0FKDxFBlyIQQa4wEEGwxhJBYn8QQamFE0EcKglBAYgWQUbpDkFMARFBf2YTQW9FEUFhNhdBvJEcQXsVEUFmdgxB+8kMQe/zD0Felw9BUFkSQTQ7F0GW0RNBGDsXQXnsFkEwIPVA3gkQQT4IEUETugxBczURQTApEUHcbSFBImUPQQsGD0Ej3AxBbjkUQc+yDkFieRFBFZsPQeHND0Ed1RBBOHIQQThYD0Fb3AdBikgRQcwhEUF3NhdBfkoSQdEpD0HP0A9BN9UPQaTkE0EN7Q5BY8MQQe5HBUHgIg5BE6kQQciTCkEeHBdBE00LQc5fCEGzcv1AV4YRQY52EUG9CRZBINcRQRk9E0GKzAxBdPURQcW3E0HTIQ5B2G8WQbaaDEGkGRFBdOwTQRmSDUE7RRFBDc4OQUWwFkEhrhFBBKkMQQOxEEHVnwhB8PMQQTM2EkENoxJBE9QQQYCKE0Fm3RBBp/EUQecOEUHOahJB77IJQaldF0HHqxNB7dgUQdafEEGAABhBkJcRQdENEEELPBJBeLoPQc4bEEHRkhFBo5wUQRkXCkFJAg1B4JsPQWiWE0E=",
          "dtype": "f4"
         },
         "y": {
          "bdata": "I6aQQCuxikBQmJRAWH+MQIeLkUDEcI9APg+UQDkoBEHVzIxA/AKRQPcbi0AVfZ5ASeKPQHA4gkAy64JAWeaJQM4MnEB945BAfEeQQB/SnEDnuqBAhGKLQDeDi0Chb5FA+BSOQC52jECWapFA5feMQCsGj0B6m4hA4Z6OQJpXiEBY+o1AGj2KQGjhlEDHg4lAS5aJQC8ljkAPI4tA5ze+QDtBkkCOQolAbL6JQFO2i0A47ZNAn7WJQBndikDXXYhAWLuKQHi+iUBiMJpA5R6RQFwQjUBz4IhApNeSQNN+ikBr5tNAB3GSQKNNjEAoJItAFKGLQM6Ei0Cyh5FAZoiOQDvQkUDG+I5Asj6uQK7pj0DsKoJANMSNQHBSjkBhKIxAua+MQGKmjEBcG5BANg+RQEb2iUBjhI1A9dyOQP2bn0A/LIxAOYiNQJRWkEDxB4tASaWKQIuggkBNqZVACV6PQMyKmkCbP4pABICYQAS2i0CibIhA+76aQML8iEAPaopAx0OLQCV1iUB8DpZA1JmHQCwTj0DrIo1AvIGVQDU2ikBoM5tA9iiKQMcmkkCjXY1Akt2RQF9kmUDTLYpAR36RQLx7iEBLR5hApNKMQKgwlkDFcJNA8teNQNj9ikAS74hAFZ2IQMvEk0Al1o9AsUyKQA3LjUAymYhAhjiOQMEAjEASh4tArEKJQATap0DX3IpAGcGOQN8KiUA=",
          "dtype": "f4"
         }
        },
        {
         "hoverinfo": "text",
         "marker": {
          "opacity": 0.5,
          "size": 5
         },
         "mode": "markers+text",
         "name": "11_the_and_of",
         "text": [
          "",
          "",
          "",
          "",
          "",
          "",
          "",
          "",
          "",
          "",
          "",
          "",
          "",
          "",
          "",
          "",
          "",
          "",
          "",
          "",
          "",
          "",
          "",
          "",
          "",
          "",
          "",
          "",
          "",
          "",
          "",
          "",
          "",
          "",
          "",
          "",
          "",
          "",
          "",
          "",
          "",
          "",
          "",
          "",
          "",
          "",
          "",
          "",
          "",
          "",
          "",
          "",
          "",
          "",
          "",
          "",
          "",
          "",
          "",
          "",
          "",
          "",
          "",
          "",
          "",
          "",
          "",
          "",
          "",
          "",
          "",
          "",
          "",
          "",
          "",
          "",
          "",
          "",
          "",
          "",
          "",
          "",
          "",
          "",
          "",
          "",
          "",
          "",
          "",
          "",
          "",
          "",
          "",
          "",
          "",
          "",
          "",
          "",
          "",
          "",
          "",
          "",
          "",
          "",
          "",
          "",
          "",
          "",
          "",
          "",
          "",
          "",
          "",
          "",
          "",
          "",
          "",
          "",
          "",
          "",
          "",
          "",
          "",
          "",
          "",
          "",
          "",
          "",
          "",
          "",
          "",
          "",
          "",
          "",
          "",
          "",
          "",
          "",
          "",
          "",
          "",
          "",
          "",
          "",
          "",
          ""
         ],
         "textfont": {
          "size": 12
         },
         "type": "scattergl",
         "x": {
          "bdata": "R4kPQUN3CEGYlgxBNUcIQT6KEkF+pRJBilUPQde7CEEfXQdBVlz6QAMyD0GDmwRB0/MTQWOjD0FvtA9BnFcPQesxE0G1PhJBHdkPQTVxEEGcNBBB6rgQQR8PE0EHRQpBYeIJQVQ1CkGVygRBwWEOQd91EEF9NgxB0hoRQT8vEEHW1xBBthEQQWYIEEGRjQ9BghASQVhRC0EVYA9B9DwQQTJPDkFlOhJBFpIPQTxAEUGYRQVBN/UPQdh0EEEwWRNBD1QOQYqFDEETIQhBC3gIQT2UBEFxGhJB+/kQQZGJD0GhSRBBRtQSQfggE0FO3hBB6fQAQSF2D0HmqwxBLJ8JQZ/IEkFWBBNBEA4FQXVWEEGpzg9BWgUSQRoYAEHliuFA6T0IQUdqD0Eb9w9BYHYJQdhACEGgWg9BlbQJQaJbCEHeuQxBXpkQQZSxC0FfkQxBX0kKQdkGE0HNywxBCPQOQUmAEEHZ+g9BXIMNQbZQCkF4/g1Bc00NQdR6DEGSeQtBbDQRQSqYE0GaUhFBnWkHQT2PEUHJWwdBL2QRQehRD0FFZwlBq8YJQS7IDkGowwRBSrwPQT1bCUF83gxBCVQRQf45EkEoCgdB8Zz/QArD+kB8nghB7mANQZzzEkFc8w9B2iERQbwwEEFrIhNBpBUJQYfIDkGLNA1BlrEPQeiUDEFhVwlBJbQRQfVgDkGYlAZBcKQLQXeeDEE18QdB5wMNQTUhEEEyRQZBlGAEQahFEEESZw9BXEkRQdZuE0FoaNBAf/kRQcGHHkE=",
          "dtype": "f4"
         },
         "y": {
          "bdata": "rvK5QDLdkkCqv6FA12WuQKWYokCH5KFA5UyTQJJgo0A7dJ5ACBiWQFq1n0B+C6JAaZrAQEX6oECfWKFAQ8qgQCfYokDZbaZAq0+eQBr9k0AVRKRAOYygQG+uokCJLaFARBuoQAGlskC3QqNAmN+fQHsgoEDLWaJAA12YQCWGokBF9pNAluugQAPyuEAANZJAXLuiQJCCskAUzJFA7F2fQD64oUDJmrJAfbC6QC2pn0Aa855A5ji4QKvKn0A7FqNAmrCyQEItnkBokJ5AVHqsQI51oUDIa6FAm3mjQHRBkUAjKKRAtQKiQDylokCXDaJAhV2TQNhGoEAejJlASZ+MQHImokD7R59A2pahQPUZo0Ac455AcpuhQNuokkCG0b5AKI+wQI9soED85Z9AOyyhQNVBoUCbPrpA13qfQFENrkAxKZxAmx29QNSspkAmEZdAbEqfQCz/oEBiuaRA1pikQF38k0CsZKNAT8ahQEOYp0BgRqFAnVKiQKkEtECJNJ5ArceZQHNEpEDlc6BAzWiQQFRWv0CjJ5ZAVx+dQKkrkkCyYKdAVt6nQK9XnUDlcqJAaz6gQIUwukBWV6VAsn3BQJido0BXMKFAVLqSQMYulUDCR7tAaI2pQELKokDap5JAvECfQGhwlUCwSbRAoFijQK4tl0Bjy49At9+kQHGXn0BPUrpAwrWlQJjoqUB2EZVA7rycQAsknkBICJZA2ESXQGPAlUA2vrxAs+SqQCxqk0DbpJ1A95K+QALytUCMh/dAB+ioQNwTD0E=",
          "dtype": "f4"
         }
        },
        {
         "hoverinfo": "text",
         "marker": {
          "opacity": 0.5,
          "size": 5
         },
         "mode": "markers+text",
         "name": "12_and_data_the",
         "text": [
          "",
          "",
          "",
          "",
          "",
          "",
          "",
          "",
          "",
          "",
          "",
          "",
          "",
          "",
          "",
          "",
          "",
          "",
          "",
          "",
          "",
          "",
          "",
          "",
          "",
          "",
          "",
          "",
          "",
          "",
          "",
          "",
          "",
          "",
          "",
          "",
          "",
          "",
          "",
          "",
          "",
          "",
          "",
          "",
          "",
          "",
          "",
          "",
          "",
          "",
          "",
          "",
          "",
          "",
          "",
          "",
          "",
          "",
          "",
          "",
          "",
          "",
          "",
          "",
          "",
          "",
          "",
          "",
          "",
          "",
          "",
          "",
          "",
          "",
          "",
          "",
          "",
          "",
          "",
          "",
          "",
          "",
          "",
          "",
          "",
          "",
          "",
          "",
          "",
          "",
          "",
          "",
          "",
          "",
          "",
          "",
          "",
          "",
          "",
          "",
          "",
          "",
          "",
          "",
          "",
          "",
          "",
          "",
          "",
          "",
          "",
          "",
          "",
          "",
          "",
          "",
          "",
          "",
          "",
          "",
          ""
         ],
         "textfont": {
          "size": 12
         },
         "type": "scattergl",
         "x": {
          "bdata": "yNbuQD9Mu0CAvPpAdjf3QGPC9UD7lftARwkKQem2BUGStwdBt57rQG8570ClWPFAhMwGQaEo9kB1ve9AmHHxQHYM8EBgaghBYqP8QIPXBkGeSudA0ZYJQZeYDUFyKu9ARlD2QIfu9EAXk/1AB1L8QA396EBSoO1A1WzxQFe88kDVdQRBX9sHQa2T6kA3Tu5AOQTnQKyRBEGbJfpAZ/YAQYD/vkAfX/VAdUz6QNIW60Cbye5A8Tm0QArY50D4S/VAUsQEQfY57kBzq+pAo7PtQO5p/UBOtQRBQznwQJGy9kB8e/pACDfwQGKCB0FRjwNBh5/5QPAL8EB+3e9AcFb6QHSj7UDvwfxAUIXtQJwWwEAeXO9AUdkHQR/v60DWnfBAkrHyQHji8kCPWgxB7PMIQaq/7kAGwfRAERoCQYEaBEGv8+1AgPQOQYYY50BH4e5AUKPrQO0X5kB7sfZANPPrQKrSAUFnTgRBLBDtQEXU7kCMQhJBo0gDQSdF+UB/zuxALbrvQABuEkHM/+1AWkr0QHtj2kAdF/BAEg0AQRjtBkFAS+pA1jvqQIUB9UA1tBhB4Hj1QGSy60CGegNBlMnQQGLqEkF/wAdBhJzrQM466kBAu/tAWZ4RQaXR50AO1/pAcRnvQA==",
          "dtype": "f4"
         },
         "y": {
          "bdata": "UcepQKDUrEA0s6NAj0OoQL/MtkAExqBASOCeQLVPnUA9MpJAX7O1QEO8v0CvxalAL7GQQK/xo0AHo8FAmfSpQNq2o0B8uZRAKQ+gQPu7lUCGArFANF+6QHRqyUCQrKlA7YmjQO/0tkBclsZAKOeyQNLwsEAJLLZAE8KkQArMqUApX6FA8pKdQPdqvkDX1b9AVrO4QDGcoUBPq6JAUhafQIOHrUD9x6tAjwKjQEPgxECyzbpASZ7ZQBFfskCfq7FAD2+cQJpuvkCZfNBAIJm7QFCGn0C97qFAHVWrQOw7o0Ax7aBAjzyoQGnbkkCJAZ9AtaelQGzwskAMM6hAA8+jQL4zqkA9yqJAeboLQQXDrkAs08VA2reiQPu/vkBrqKhA/9rGQL4fqkARkrVAO9KUQEOSrEDX07FAZ5GVQJAUoUD4h6tAUcehQHX1skCOB6xA+127QJhJtEDK+atA9kTCQDBilkDiRZ1AP6K7QD59vED8JuxA+GelQN9bo0AwKLtAyICoQNbcp0BSXb1A+sO0QIBOrECGPKhAb9WPQJeclEAVGtFA0MO3QHh0wkB00tVAW3PJQMSXtEA7kKBAINqsQFALpEDRL6xArr20QIX0vEAV+qRAfqq1QOakxkB8+rFAYkrFQA==",
          "dtype": "f4"
         }
        },
        {
         "hoverinfo": "text",
         "marker": {
          "opacity": 0.5,
          "size": 5
         },
         "mode": "markers+text",
         "name": "13_cardiac_heart_the",
         "text": [
          "",
          "",
          "",
          "",
          "",
          "",
          "",
          "",
          "",
          "",
          "",
          "",
          "",
          "",
          "",
          "",
          "",
          "",
          "",
          "",
          "",
          "",
          "",
          "",
          "",
          "",
          "",
          "",
          "",
          "",
          "",
          "",
          "",
          "",
          "",
          "",
          "",
          "",
          "",
          "",
          "",
          "",
          "",
          "",
          "",
          "",
          "",
          "",
          "",
          "",
          "",
          "",
          ""
         ],
         "textfont": {
          "size": 12
         },
         "type": "scattergl",
         "x": {
          "bdata": "YGYaQRC7GUHr3hpBHQ4ZQeA2GkGYsRlBiHcZQR0vGUEUTBlBQtIYQaIVGkHEnhlBBUIZQYGLGUFNdhlBPPwYQbflGUFG1hlB7EQaQfsJGUGcghtBXI4ZQbnRGUGBuRlB7woaQcCfGEFbhhlBFY8QQWfcGkFfVBpB9zUZQVx/GkHXphhBHRAZQccwHEGbhxlBHfIYQZaPGUEfiRlBMWEbQQ99EEGsbBpB0ogZQfRWGkHNQhlB3UUaQavIGkEYlhtB0d8ZQVuOGUE5bhpBaygbQY99GUE=",
          "dtype": "f4"
         },
         "y": {
          "bdata": "fJizQH92tUB1QLRAyb2tQBL7s0ChNLVAXEGyQPA0uEBXRq9Ac1uyQDiCsUBCr7NA9IGvQGkcr0DYrK9AfduyQMZIs0B1gbJAFky0QFo2sUDT57RAT4KyQE9KsEB7TbRA5RKzQKS3sUCRZq9Agfm7QN5TtEAYA7JAOjuwQMFZs0Bk9q1AblmzQETTuEDGiLRAA7CxQFuEr0D+fbNABte0QMIvvUD7OrNAa1eyQFPys0CfwrFAVv+0QOWhs0BuZLZAzcq0QBomsEAGZLNAw2i0QLU3s0A=",
          "dtype": "f4"
         }
        },
        {
         "hoverinfo": "text",
         "marker": {
          "opacity": 0.5,
          "size": 5
         },
         "mode": "markers+text",
         "name": "14_liver_in_the",
         "text": [
          "",
          "",
          "",
          "",
          "",
          "",
          "",
          "",
          "",
          "",
          "",
          "",
          "",
          "",
          "",
          "",
          "",
          "",
          "",
          "",
          "",
          "",
          "",
          "",
          "",
          "",
          "",
          "",
          "",
          "",
          "",
          "",
          "",
          "",
          "",
          "",
          "",
          "",
          "",
          "",
          "",
          "",
          "",
          "",
          "",
          "",
          "",
          "",
          "",
          "",
          "",
          "",
          "",
          "",
          "",
          "",
          "",
          "",
          "",
          ""
         ],
         "textfont": {
          "size": 12
         },
         "type": "scattergl",
         "x": {
          "bdata": "MNQPQWscEEEp7A9B660QQaP3DkF2QBBBW0YPQbreEEEQ7g5BqBsRQSgzEEH+OxdBYrAOQSupEEHOtxBBCMkIQeatDEH6aQ9B3JwRQRp/EEEcyw5BwKEOQVMJEEGRWw5BqgoPQV2yD0GLfxFBxRgSQe3vFUF+CxBBebMQQWrtEEFMeQ5BRbvfQCI6EEFcBxBBZ5DjQEuZEEFUFg9B8igQQWhaDEHGGw9BuizgQI50D0EWaA9B8jYOQUjgEUHMrxBB8H4OQSO+40DFRxBB9isQQa8SD0FFxRNBsNkOQWOvFEFLuw5BRe4OQRjOD0HRcA9B",
          "dtype": "f4"
         },
         "y": {
          "bdata": "wHnuQOVS7EBzVOxA91jmQGIm4EB3setAg+PtQCgfyUAzUOBA2N2xQC3r50C0d8lAdY7bQM/q7EAlm7FA6HXmQG+T3UDCRuRAiY/lQOXr80DCNuBAJFrrQEYN7UCB9d5AGxLuQPZN6ECo+/NAI/fkQJzssUAMdPBAuMbpQEt+8kBsge5ALarSQDUq6EAWBehAlMPRQPOh80AvEOhAWX7mQCH190CBteBA7qbRQEjW80C0++hAvL/dQPShsED3MfJAhuPmQMaZwkBcVeRAgU/uQO5e4UC6ZOFAKJnpQGcm5ECL/t9AKXzcQIIP7EBn/O1A",
          "dtype": "f4"
         }
        },
        {
         "hoverinfo": "text",
         "marker": {
          "opacity": 0.5,
          "size": 5
         },
         "mode": "markers+text",
         "name": "15_the_of_in",
         "text": [
          "",
          "",
          "",
          "",
          "",
          "",
          "",
          "",
          "",
          "",
          "",
          "",
          "",
          "",
          "",
          "",
          "",
          "",
          "",
          "",
          "",
          "",
          "",
          "",
          "",
          "",
          "",
          "",
          "",
          "",
          "",
          "",
          "",
          "",
          "",
          "",
          "",
          "",
          "",
          "",
          "",
          "",
          "",
          "",
          "",
          "",
          "",
          "",
          "",
          "",
          "",
          "",
          "",
          "",
          "",
          "",
          "",
          "",
          "",
          "",
          "",
          "",
          "",
          "",
          "",
          "",
          "",
          "",
          "",
          "",
          "",
          "",
          "",
          "",
          ""
         ],
         "textfont": {
          "size": 12
         },
         "type": "scattergl",
         "x": {
          "bdata": "tBIMQTWdB0Ejkg5BtTkQQeRDCkEqmAlBsT4IQQrFDkEpgQdBit4JQYuuB0EM7QlBw9wHQfsSCkGTgSJBt6cJQQ0MCEFrPg9BdkMOQeD9CEE+3AlBDDoPQVH8BUH/yQlB4w0NQe7WCUEN0whBRrUCQcFqCEHrMghBcMYQQZSgCEHKbglBPxMOQTkeCEHIEQRBXAgQQROUDkHF9/9AzvELQTsMDEG8XghB+AUFQW32BkHazhVBlJ4IQf78B0E3wAhB7G0OQcSIBUHkaglBgK8LQfQbCkGyNgxBqpQQQfTKBkFvQQpBk2wOQS5KBkGtsAlBEagKQYJ/BkGuvglBSSwIQQBkEkEaGQdBSXwHQe7PCUEgqgpBOuYVQQ7DCkHK9AVBV3UIQQlACkEGMwZB",
          "dtype": "f4"
         },
         "y": {
          "bdata": "ed6EQFirgUDjUItAJxaRQM+XgUBRCIJApRWEQKRdi0CmYolAYHeJQHLxgUBsQYJACFiFQLY5gkCpYNVAkwOCQK9MhEBmzKtAcImIQE1UgkCjSYJA2zCOQH2CiUAMloFA9aeFQD+9gUC7MYNA+9mEQD1BgkAMUIJApk2vQE8EhEDeKoJAoe6IQLI1hEBuBINA7wmkQH3+lEDUNo1ALMeGQFmKhUAXq4NABQ6HQPz8iUB5OqRAQNOGQOTFiUC4o4pA7N6LQKDjiUA7x4FAhn2FQLuUgkAB54RAVjGXQAa+iEBNr4FAka6TQORGiUAd8oFA0bCDQNE0g0BrIoFA+pqHQAUym0CNx4JAm/OFQLLZgkAFJ4NAjA6lQEhDikD9BYNAO5OCQF9hgUA6DolA",
          "dtype": "f4"
         }
        },
        {
         "hoverinfo": "text",
         "marker": {
          "opacity": 0.5,
          "size": 5
         },
         "mode": "markers+text",
         "name": "16_diabetes_insulin_glucose",
         "text": [
          "",
          "",
          "",
          "",
          "",
          "",
          "",
          "",
          "",
          "",
          "",
          "",
          "",
          "",
          "",
          "",
          "",
          "",
          "",
          "",
          "",
          "",
          "",
          "",
          "",
          "",
          "",
          "",
          "",
          "",
          "",
          "",
          "",
          "",
          "",
          "",
          "",
          "",
          "",
          "",
          "",
          "",
          "",
          ""
         ],
         "textfont": {
          "size": 12
         },
         "type": "scattergl",
         "x": {
          "bdata": "4rYFQWa7BkHxtgdBPkMGQRw3BkGFpQdBCFgKQf8ACEFrigpBuWoPQdLBB0FULwhBteEGQbUq/kCsrglBMEMIQUjvBkEbBglBOR0PQbPeCEGJagpBVuAIQdZlCEFjBQpBI1ALQcDLB0EAzwVBWSQJQSGjCUE9zAdB9KQHQbrzB0GOgQlB6yYQQV7+B0FOwAZBvxQHQW29CUFDJwZBFoMHQdfMB0E2gwZBwlgKQUKVCUE=",
          "dtype": "f4"
         },
         "y": {
          "bdata": "HIq3QBN0t0C+V7RA7263QDH+tkDLKbVAkG+2QKxBtUCuwLhA9WmwQL/Wt0Dgw7JA/r22QJuX+0CwzrZADPi2QEDot0DtmrZAjWavQD90tkBI57dAXtq1QIYrtkAGobZA7rOmQMR6tEBNdrhAajG3QJTvtkBUI7RA2rO0QIZJs0A52LZAiWmwQESFs0AVuLhAuzC5QMrRtkBqDbdAyUK1QK1TtECB47hA6IC2QOPctkA=",
          "dtype": "f4"
         }
        },
        {
         "hoverinfo": "text",
         "marker": {
          "opacity": 0.5,
          "size": 5
         },
         "mode": "markers+text",
         "name": "17_the_synthesis_of",
         "text": [
          "",
          "",
          "",
          "",
          "",
          "",
          "",
          "",
          "",
          "",
          "",
          "",
          "",
          "",
          "",
          "",
          "",
          "",
          "",
          "",
          "",
          "",
          "",
          "",
          "",
          "",
          "",
          "",
          "",
          "",
          "",
          "",
          "",
          "",
          "",
          "",
          "",
          "",
          "",
          "",
          "",
          "",
          "",
          "",
          "",
          ""
         ],
         "textfont": {
          "size": 12
         },
         "type": "scattergl",
         "x": {
          "bdata": "NzPaQCVb2UAa+NhAhBXaQIQe30D1o/ZAJqLXQMd66kCmJ9xAARXaQGx/2kDcKdlAYz7YQOwP2UAHdNlAcUDcQObnFUFNi9tANQnaQLcsDkFbWN5Am9zZQO/F2UD36tdA0JXZQK0E90BpVeZABcrjQKXY2UAuMNlA2UToQED/2kAsvtpAZQ/bQICR10Dd7dlAJzrzQDZs2UCcxdpAXiPZQESj2EDtqthAAg7YQGPH2UDgYN9A1araQA==",
          "dtype": "f4"
         },
         "y": {
          "bdata": "+HTPQE3sz0Dsos9Aj+jPQP5K0UBfAs9A9p3SQGGM0ECvCtBAUlnRQDGm0ECqa9BAm1XQQOkx0EDI4NFAY3XRQFRn10AyZdBAagfQQKCWoEDTD9FA9G3RQNL3z0CFI85A1fLPQCLvzECn9MpAh+3MQNx0z0B0SNFAUMfNQEg5zEAoXs9ASHDOQMaF0ECPf89AbgfRQA+v0EBAVdBA3E3QQApRz0ASQNFAUnrRQOEoz0C8rM1Ak57PQA==",
          "dtype": "f4"
         }
        },
        {
         "hoverinfo": "text",
         "marker": {
          "opacity": 0.5,
          "size": 5
         },
         "mode": "markers+text",
         "name": "18_and_the_to",
         "text": [
          "",
          "",
          "",
          "",
          "",
          "",
          "",
          "",
          "",
          "",
          "",
          "",
          "",
          "",
          "",
          "",
          "",
          "",
          "",
          "",
          "",
          "",
          "",
          "",
          "",
          "",
          "",
          "",
          "",
          "",
          "",
          "",
          "",
          "",
          "",
          "",
          "",
          "",
          "",
          "",
          "",
          "",
          "",
          "",
          "",
          ""
         ],
         "textfont": {
          "size": 12
         },
         "type": "scattergl",
         "x": {
          "bdata": "j/q6QOudp0AJl6ZAbbq4QP5ZtkCzeLpABN68QCMXxEAnJLZAe4+2QEhXu0BRNLpAbVm6QFrmt0CwnbZA/Xy3QJrpuEAn3bdAJgW5QINFukDLv7pAN3q6QEviuEBVFLpAsPK4QJVStkDZjrVAYq66QLJ7tUDcy7ZAIQy8QNcRy0BpArpA14++QJgptkAZ5rlAgXmnQMLyvkALPLZAOsm8QGZftUDFg7xAHBa7QL3pu0DzM7xAMsq1QA==",
          "dtype": "f4"
         },
         "y": {
          "bdata": "qIXrQCwn20ArPf9A9cbxQKNg50AmG+pANYLuQEfAAUEkI+dAjnPqQC+a6kBC3+lA+j/pQBBW5kBdoe1AceLoQEdN70DpzeFAy2TwQNf97kD4CepA9UDqQJuP5UAld/JAkUThQObz5kBrmulA0gjqQE8E50DAxOdA2QHeQPapyEChO+VAvlbwQNDx5kASC+pAcKr/QM2r9kCfNudAKmrxQH3v50AruPBARH3qQO0N7UD1GO5Aga3nQA==",
          "dtype": "f4"
         }
        },
        {
         "hoverinfo": "text",
         "marker": {
          "opacity": 0.5,
          "size": 5
         },
         "mode": "markers+text",
         "name": "19_care_cancer_and",
         "text": [
          "",
          "",
          "",
          "",
          "",
          "",
          "",
          "",
          "",
          "",
          "",
          "",
          "",
          "",
          "",
          "",
          "",
          "",
          "",
          "",
          "",
          "",
          "",
          "",
          "",
          "",
          "",
          "",
          "",
          "",
          "",
          "",
          "",
          "",
          "",
          "",
          "",
          "",
          "",
          "",
          "",
          "",
          "",
          "",
          "",
          "",
          ""
         ],
         "textfont": {
          "size": 12
         },
         "type": "scattergl",
         "x": {
          "bdata": "+4bQQLGzAEHnPP9AS0oCQWkNAUGzIAJBgOf/QCPhAkE5dP9A7oUAQQ7J/0BMtgxBJnwAQc5FAEHlwgZB9boAQdFq/0BJIQFB5t7+QMWWAEFhRgFB3MvVQIfZ/0BK/P5ApV3/QDtvAEE7Mv9AXm8CQW9jEkF0TQBBpOwAQQLS/EAHVf1ALnQFQZEwAEH6of5Aq438QBNrA0HGaPxAVjAAQVO1/0DqwQVBKSgAQegeAEEhuv9AfZYHQQlSAEE=",
          "dtype": "f4"
         },
         "y": {
          "bdata": "hCytQKFBt0D2lrJAG+ihQAqvuEAS6btAxV66QNRRvkDOmLtAERa3QBYrskDcB8RAcDy6QC3qtkANW8FAuGO5QNDgsEBlW7hAfLi7QI4Qt0DsbLtA+tCdQHmKu0DjTbtAN7CxQDV5vkB1XbtAX868QKD56kCJaLRA5O26QHhxrECO071AdGTAQH5wuUAhj7tA1i6sQHfZvkDNOaxAs4W4QL4zr0Dmr8BA37ezQBvZtEC6ILNAcSrEQK3nuUA=",
          "dtype": "f4"
         }
        },
        {
         "hoverinfo": "text",
         "marker": {
          "opacity": 0.5,
          "size": 5
         },
         "mode": "markers+text",
         "name": "20_retinal_eye_the",
         "text": [
          "",
          "",
          "",
          "",
          "",
          "",
          "",
          "",
          "",
          "",
          "",
          "",
          "",
          "",
          "",
          "",
          "",
          "",
          "",
          "",
          "",
          "",
          "",
          "",
          "",
          "",
          "",
          "",
          "",
          "",
          "",
          ""
         ],
         "textfont": {
          "size": 12
         },
         "type": "scattergl",
         "x": {
          "bdata": "oL8OQRk9DkFCGw9BW1QOQcSlDkF9eQ5BGZwOQWjfDkEmwA5BEXQOQYWqDkFeXg5B5EUOQd6FDkGRvw5Bv98OQaqYDkHofg5BXF8OQbZVDkG04w5BfOwOQUa6DkEwOQ5Bjl4OQR6PDkEEgA5BBWAOQU11DkEMgQ5Bo6sOQRmRDkE=",
          "dtype": "f4"
         },
         "y": {
          "bdata": "SYyMQEUxjkCZK4tAawaPQP7UjEDZTI9AntCMQNv1jEAn/45AQ/ONQBgnikCD1JBAzKOPQJDmjEDwloxAjkuNQME6jEDwA41AXiOOQHjMj0BkBIxA49iLQHiOjEBgFo1ARkWOQJ0zi0DgIY1ATSaPQKABj0DFXI9ACvCKQOmCjEA=",
          "dtype": "f4"
         }
        },
        {
         "hoverinfo": "text",
         "marker": {
          "opacity": 0.5,
          "size": 5
         },
         "mode": "markers+text",
         "name": "21_kidney_ckd_renal",
         "text": [
          "",
          "",
          "",
          "",
          "",
          "",
          "",
          "",
          "",
          "",
          "",
          "",
          "",
          "",
          "",
          "",
          "",
          "",
          "",
          "",
          "",
          "",
          "",
          "",
          "",
          ""
         ],
         "textfont": {
          "size": 12
         },
         "type": "scattergl",
         "x": {
          "bdata": "YgMYQY4xGUFYnBlB438VQcSFGUENsxhBVu0ZQeqCGUEyqhlBa4YZQWeDGUE6nhlBtgYaQT9EGUGckRlB53QZQVGRGUFhsBhB7WEZQdmCGUE/XxlB2ToZQZiLGUGpkhlBRGoZQZZ3GUE=",
          "dtype": "f4"
         },
         "y": {
          "bdata": "776xQMaBskCl/rJACZywQHXsskD9arFATBu0QNQis0CzHbNAnj6zQJnGskDtvbVA06+yQNJ2s0Dl47JA5MKyQEMbs0A5t7FAoc2yQFHDskARerJAqyeyQFnbskDjybJAk6uyQPDFskA=",
          "dtype": "f4"
         }
        },
        {
         "hoverinfo": "text",
         "marker": {
          "opacity": 0.5,
          "size": 5
         },
         "mode": "markers+text",
         "name": "22_and_the_to",
         "text": [
          "",
          "",
          "",
          "",
          "",
          "",
          "",
          "",
          "",
          "",
          "",
          "",
          "",
          "",
          "",
          "",
          "",
          "",
          "",
          "",
          "",
          "",
          "",
          "",
          "",
          "",
          "",
          "",
          "",
          "",
          "",
          "",
          "",
          "",
          "",
          "",
          "",
          "",
          "",
          "",
          "",
          "",
          "",
          "",
          "",
          "",
          "",
          ""
         ],
         "textfont": {
          "size": 12
         },
         "type": "scattergl",
         "x": {
          "bdata": "fy/qQOFKy0AIk9xAE2TUQAfoy0Bvm8tAyUK+QLFt10D6v9FAafXLQP8i3kBrBNJAzTzUQALC+kCGjc9Atue4QFXau0CLfthAR2e8QNu6yUA0kslAFygLQTHR10Ai1NNAvbDUQAUm00AzJuRAQtzWQCko7EB3i8lAqYDaQHI0zEAdv8xAWpzTQBsW1EB0AtNALvIMQcgg3kC5S9VApsDVQGdC00D3YNJAJRjfQORD10B2TMdAgRbTQFtmDUE3LNJA",
          "dtype": "f4"
         },
         "y": {
          "bdata": "cOHKQG4v1UCvJM9AoSnAQGF+1UBeLNRASrTdQCSo0EDVlNJAuO7UQBNwzkBvzNFAmSnRQJLO3kAhNbxAYmnZQH402EDY+tJAogvdQKDS00Ca0ddANiEDQWs+0ECZ27lAHBXCQGd80UCiX9NAPH7PQFx/z0Beo9RAvRDPQPr81ECcMNRAjt66QPO50ECrddFAAu66QFW+zUBpmdNAISS7QJ20u0CYP9NAOd/EQNoVu0AvruBAZBXRQPgsu0By6tFA",
          "dtype": "f4"
         }
        }
       ],
       "layout": {
        "annotations": [
         {
          "showarrow": false,
          "text": "D1",
          "x": 4.414118766784668,
          "y": 6.955172860622406,
          "yshift": 10
         },
         {
          "showarrow": false,
          "text": "D2",
          "x": 8.285939931869507,
          "xshift": 10,
          "y": 10.480212020874024
         }
        ],
        "height": 750,
        "shapes": [
         {
          "line": {
           "color": "#CFD8DC",
           "width": 2
          },
          "type": "line",
          "x0": 8.285939931869507,
          "x1": 8.285939931869507,
          "y0": 3.4301337003707886,
          "y1": 10.480212020874024
         },
         {
          "line": {
           "color": "#9E9E9E",
           "width": 2
          },
          "type": "line",
          "x0": 4.414118766784668,
          "x1": 12.157761096954346,
          "y0": 6.955172860622406,
          "y1": 6.955172860622406
         }
        ],
        "template": {
         "data": {
          "bar": [
           {
            "error_x": {
             "color": "rgb(36,36,36)"
            },
            "error_y": {
             "color": "rgb(36,36,36)"
            },
            "marker": {
             "line": {
              "color": "white",
              "width": 0.5
             },
             "pattern": {
              "fillmode": "overlay",
              "size": 10,
              "solidity": 0.2
             }
            },
            "type": "bar"
           }
          ],
          "barpolar": [
           {
            "marker": {
             "line": {
              "color": "white",
              "width": 0.5
             },
             "pattern": {
              "fillmode": "overlay",
              "size": 10,
              "solidity": 0.2
             }
            },
            "type": "barpolar"
           }
          ],
          "carpet": [
           {
            "aaxis": {
             "endlinecolor": "rgb(36,36,36)",
             "gridcolor": "white",
             "linecolor": "white",
             "minorgridcolor": "white",
             "startlinecolor": "rgb(36,36,36)"
            },
            "baxis": {
             "endlinecolor": "rgb(36,36,36)",
             "gridcolor": "white",
             "linecolor": "white",
             "minorgridcolor": "white",
             "startlinecolor": "rgb(36,36,36)"
            },
            "type": "carpet"
           }
          ],
          "choropleth": [
           {
            "colorbar": {
             "outlinewidth": 1,
             "tickcolor": "rgb(36,36,36)",
             "ticks": "outside"
            },
            "type": "choropleth"
           }
          ],
          "contour": [
           {
            "colorbar": {
             "outlinewidth": 1,
             "tickcolor": "rgb(36,36,36)",
             "ticks": "outside"
            },
            "colorscale": [
             [
              0,
              "#440154"
             ],
             [
              0.1111111111111111,
              "#482878"
             ],
             [
              0.2222222222222222,
              "#3e4989"
             ],
             [
              0.3333333333333333,
              "#31688e"
             ],
             [
              0.4444444444444444,
              "#26828e"
             ],
             [
              0.5555555555555556,
              "#1f9e89"
             ],
             [
              0.6666666666666666,
              "#35b779"
             ],
             [
              0.7777777777777778,
              "#6ece58"
             ],
             [
              0.8888888888888888,
              "#b5de2b"
             ],
             [
              1,
              "#fde725"
             ]
            ],
            "type": "contour"
           }
          ],
          "contourcarpet": [
           {
            "colorbar": {
             "outlinewidth": 1,
             "tickcolor": "rgb(36,36,36)",
             "ticks": "outside"
            },
            "type": "contourcarpet"
           }
          ],
          "heatmap": [
           {
            "colorbar": {
             "outlinewidth": 1,
             "tickcolor": "rgb(36,36,36)",
             "ticks": "outside"
            },
            "colorscale": [
             [
              0,
              "#440154"
             ],
             [
              0.1111111111111111,
              "#482878"
             ],
             [
              0.2222222222222222,
              "#3e4989"
             ],
             [
              0.3333333333333333,
              "#31688e"
             ],
             [
              0.4444444444444444,
              "#26828e"
             ],
             [
              0.5555555555555556,
              "#1f9e89"
             ],
             [
              0.6666666666666666,
              "#35b779"
             ],
             [
              0.7777777777777778,
              "#6ece58"
             ],
             [
              0.8888888888888888,
              "#b5de2b"
             ],
             [
              1,
              "#fde725"
             ]
            ],
            "type": "heatmap"
           }
          ],
          "histogram": [
           {
            "marker": {
             "line": {
              "color": "white",
              "width": 0.6
             }
            },
            "type": "histogram"
           }
          ],
          "histogram2d": [
           {
            "colorbar": {
             "outlinewidth": 1,
             "tickcolor": "rgb(36,36,36)",
             "ticks": "outside"
            },
            "colorscale": [
             [
              0,
              "#440154"
             ],
             [
              0.1111111111111111,
              "#482878"
             ],
             [
              0.2222222222222222,
              "#3e4989"
             ],
             [
              0.3333333333333333,
              "#31688e"
             ],
             [
              0.4444444444444444,
              "#26828e"
             ],
             [
              0.5555555555555556,
              "#1f9e89"
             ],
             [
              0.6666666666666666,
              "#35b779"
             ],
             [
              0.7777777777777778,
              "#6ece58"
             ],
             [
              0.8888888888888888,
              "#b5de2b"
             ],
             [
              1,
              "#fde725"
             ]
            ],
            "type": "histogram2d"
           }
          ],
          "histogram2dcontour": [
           {
            "colorbar": {
             "outlinewidth": 1,
             "tickcolor": "rgb(36,36,36)",
             "ticks": "outside"
            },
            "colorscale": [
             [
              0,
              "#440154"
             ],
             [
              0.1111111111111111,
              "#482878"
             ],
             [
              0.2222222222222222,
              "#3e4989"
             ],
             [
              0.3333333333333333,
              "#31688e"
             ],
             [
              0.4444444444444444,
              "#26828e"
             ],
             [
              0.5555555555555556,
              "#1f9e89"
             ],
             [
              0.6666666666666666,
              "#35b779"
             ],
             [
              0.7777777777777778,
              "#6ece58"
             ],
             [
              0.8888888888888888,
              "#b5de2b"
             ],
             [
              1,
              "#fde725"
             ]
            ],
            "type": "histogram2dcontour"
           }
          ],
          "mesh3d": [
           {
            "colorbar": {
             "outlinewidth": 1,
             "tickcolor": "rgb(36,36,36)",
             "ticks": "outside"
            },
            "type": "mesh3d"
           }
          ],
          "parcoords": [
           {
            "line": {
             "colorbar": {
              "outlinewidth": 1,
              "tickcolor": "rgb(36,36,36)",
              "ticks": "outside"
             }
            },
            "type": "parcoords"
           }
          ],
          "pie": [
           {
            "automargin": true,
            "type": "pie"
           }
          ],
          "scatter": [
           {
            "fillpattern": {
             "fillmode": "overlay",
             "size": 10,
             "solidity": 0.2
            },
            "type": "scatter"
           }
          ],
          "scatter3d": [
           {
            "line": {
             "colorbar": {
              "outlinewidth": 1,
              "tickcolor": "rgb(36,36,36)",
              "ticks": "outside"
             }
            },
            "marker": {
             "colorbar": {
              "outlinewidth": 1,
              "tickcolor": "rgb(36,36,36)",
              "ticks": "outside"
             }
            },
            "type": "scatter3d"
           }
          ],
          "scattercarpet": [
           {
            "marker": {
             "colorbar": {
              "outlinewidth": 1,
              "tickcolor": "rgb(36,36,36)",
              "ticks": "outside"
             }
            },
            "type": "scattercarpet"
           }
          ],
          "scattergeo": [
           {
            "marker": {
             "colorbar": {
              "outlinewidth": 1,
              "tickcolor": "rgb(36,36,36)",
              "ticks": "outside"
             }
            },
            "type": "scattergeo"
           }
          ],
          "scattergl": [
           {
            "marker": {
             "colorbar": {
              "outlinewidth": 1,
              "tickcolor": "rgb(36,36,36)",
              "ticks": "outside"
             }
            },
            "type": "scattergl"
           }
          ],
          "scattermap": [
           {
            "marker": {
             "colorbar": {
              "outlinewidth": 1,
              "tickcolor": "rgb(36,36,36)",
              "ticks": "outside"
             }
            },
            "type": "scattermap"
           }
          ],
          "scattermapbox": [
           {
            "marker": {
             "colorbar": {
              "outlinewidth": 1,
              "tickcolor": "rgb(36,36,36)",
              "ticks": "outside"
             }
            },
            "type": "scattermapbox"
           }
          ],
          "scatterpolar": [
           {
            "marker": {
             "colorbar": {
              "outlinewidth": 1,
              "tickcolor": "rgb(36,36,36)",
              "ticks": "outside"
             }
            },
            "type": "scatterpolar"
           }
          ],
          "scatterpolargl": [
           {
            "marker": {
             "colorbar": {
              "outlinewidth": 1,
              "tickcolor": "rgb(36,36,36)",
              "ticks": "outside"
             }
            },
            "type": "scatterpolargl"
           }
          ],
          "scatterternary": [
           {
            "marker": {
             "colorbar": {
              "outlinewidth": 1,
              "tickcolor": "rgb(36,36,36)",
              "ticks": "outside"
             }
            },
            "type": "scatterternary"
           }
          ],
          "surface": [
           {
            "colorbar": {
             "outlinewidth": 1,
             "tickcolor": "rgb(36,36,36)",
             "ticks": "outside"
            },
            "colorscale": [
             [
              0,
              "#440154"
             ],
             [
              0.1111111111111111,
              "#482878"
             ],
             [
              0.2222222222222222,
              "#3e4989"
             ],
             [
              0.3333333333333333,
              "#31688e"
             ],
             [
              0.4444444444444444,
              "#26828e"
             ],
             [
              0.5555555555555556,
              "#1f9e89"
             ],
             [
              0.6666666666666666,
              "#35b779"
             ],
             [
              0.7777777777777778,
              "#6ece58"
             ],
             [
              0.8888888888888888,
              "#b5de2b"
             ],
             [
              1,
              "#fde725"
             ]
            ],
            "type": "surface"
           }
          ],
          "table": [
           {
            "cells": {
             "fill": {
              "color": "rgb(237,237,237)"
             },
             "line": {
              "color": "white"
             }
            },
            "header": {
             "fill": {
              "color": "rgb(217,217,217)"
             },
             "line": {
              "color": "white"
             }
            },
            "type": "table"
           }
          ]
         },
         "layout": {
          "annotationdefaults": {
           "arrowhead": 0,
           "arrowwidth": 1
          },
          "autotypenumbers": "strict",
          "coloraxis": {
           "colorbar": {
            "outlinewidth": 1,
            "tickcolor": "rgb(36,36,36)",
            "ticks": "outside"
           }
          },
          "colorscale": {
           "diverging": [
            [
             0,
             "rgb(103,0,31)"
            ],
            [
             0.1,
             "rgb(178,24,43)"
            ],
            [
             0.2,
             "rgb(214,96,77)"
            ],
            [
             0.3,
             "rgb(244,165,130)"
            ],
            [
             0.4,
             "rgb(253,219,199)"
            ],
            [
             0.5,
             "rgb(247,247,247)"
            ],
            [
             0.6,
             "rgb(209,229,240)"
            ],
            [
             0.7,
             "rgb(146,197,222)"
            ],
            [
             0.8,
             "rgb(67,147,195)"
            ],
            [
             0.9,
             "rgb(33,102,172)"
            ],
            [
             1,
             "rgb(5,48,97)"
            ]
           ],
           "sequential": [
            [
             0,
             "#440154"
            ],
            [
             0.1111111111111111,
             "#482878"
            ],
            [
             0.2222222222222222,
             "#3e4989"
            ],
            [
             0.3333333333333333,
             "#31688e"
            ],
            [
             0.4444444444444444,
             "#26828e"
            ],
            [
             0.5555555555555556,
             "#1f9e89"
            ],
            [
             0.6666666666666666,
             "#35b779"
            ],
            [
             0.7777777777777778,
             "#6ece58"
            ],
            [
             0.8888888888888888,
             "#b5de2b"
            ],
            [
             1,
             "#fde725"
            ]
           ],
           "sequentialminus": [
            [
             0,
             "#440154"
            ],
            [
             0.1111111111111111,
             "#482878"
            ],
            [
             0.2222222222222222,
             "#3e4989"
            ],
            [
             0.3333333333333333,
             "#31688e"
            ],
            [
             0.4444444444444444,
             "#26828e"
            ],
            [
             0.5555555555555556,
             "#1f9e89"
            ],
            [
             0.6666666666666666,
             "#35b779"
            ],
            [
             0.7777777777777778,
             "#6ece58"
            ],
            [
             0.8888888888888888,
             "#b5de2b"
            ],
            [
             1,
             "#fde725"
            ]
           ]
          },
          "colorway": [
           "#1F77B4",
           "#FF7F0E",
           "#2CA02C",
           "#D62728",
           "#9467BD",
           "#8C564B",
           "#E377C2",
           "#7F7F7F",
           "#BCBD22",
           "#17BECF"
          ],
          "font": {
           "color": "rgb(36,36,36)"
          },
          "geo": {
           "bgcolor": "white",
           "lakecolor": "white",
           "landcolor": "white",
           "showlakes": true,
           "showland": true,
           "subunitcolor": "white"
          },
          "hoverlabel": {
           "align": "left"
          },
          "hovermode": "closest",
          "mapbox": {
           "style": "light"
          },
          "paper_bgcolor": "white",
          "plot_bgcolor": "white",
          "polar": {
           "angularaxis": {
            "gridcolor": "rgb(232,232,232)",
            "linecolor": "rgb(36,36,36)",
            "showgrid": false,
            "showline": true,
            "ticks": "outside"
           },
           "bgcolor": "white",
           "radialaxis": {
            "gridcolor": "rgb(232,232,232)",
            "linecolor": "rgb(36,36,36)",
            "showgrid": false,
            "showline": true,
            "ticks": "outside"
           }
          },
          "scene": {
           "xaxis": {
            "backgroundcolor": "white",
            "gridcolor": "rgb(232,232,232)",
            "gridwidth": 2,
            "linecolor": "rgb(36,36,36)",
            "showbackground": true,
            "showgrid": false,
            "showline": true,
            "ticks": "outside",
            "zeroline": false,
            "zerolinecolor": "rgb(36,36,36)"
           },
           "yaxis": {
            "backgroundcolor": "white",
            "gridcolor": "rgb(232,232,232)",
            "gridwidth": 2,
            "linecolor": "rgb(36,36,36)",
            "showbackground": true,
            "showgrid": false,
            "showline": true,
            "ticks": "outside",
            "zeroline": false,
            "zerolinecolor": "rgb(36,36,36)"
           },
           "zaxis": {
            "backgroundcolor": "white",
            "gridcolor": "rgb(232,232,232)",
            "gridwidth": 2,
            "linecolor": "rgb(36,36,36)",
            "showbackground": true,
            "showgrid": false,
            "showline": true,
            "ticks": "outside",
            "zeroline": false,
            "zerolinecolor": "rgb(36,36,36)"
           }
          },
          "shapedefaults": {
           "fillcolor": "black",
           "line": {
            "width": 0
           },
           "opacity": 0.3
          },
          "ternary": {
           "aaxis": {
            "gridcolor": "rgb(232,232,232)",
            "linecolor": "rgb(36,36,36)",
            "showgrid": false,
            "showline": true,
            "ticks": "outside"
           },
           "baxis": {
            "gridcolor": "rgb(232,232,232)",
            "linecolor": "rgb(36,36,36)",
            "showgrid": false,
            "showline": true,
            "ticks": "outside"
           },
           "bgcolor": "white",
           "caxis": {
            "gridcolor": "rgb(232,232,232)",
            "linecolor": "rgb(36,36,36)",
            "showgrid": false,
            "showline": true,
            "ticks": "outside"
           }
          },
          "title": {
           "x": 0.05
          },
          "xaxis": {
           "automargin": true,
           "gridcolor": "rgb(232,232,232)",
           "linecolor": "rgb(36,36,36)",
           "showgrid": false,
           "showline": true,
           "ticks": "outside",
           "title": {
            "standoff": 15
           },
           "zeroline": false,
           "zerolinecolor": "rgb(36,36,36)"
          },
          "yaxis": {
           "automargin": true,
           "gridcolor": "rgb(232,232,232)",
           "linecolor": "rgb(36,36,36)",
           "showgrid": false,
           "showline": true,
           "ticks": "outside",
           "title": {
            "standoff": 15
           },
           "zeroline": false,
           "zerolinecolor": "rgb(36,36,36)"
          }
         }
        },
        "title": {
         "font": {
          "color": "Black",
          "size": 22
         },
         "text": "<b>Documents and Topics</b>",
         "x": 0.5,
         "xanchor": "center",
         "yanchor": "top"
        },
        "width": 1200,
        "xaxis": {
         "visible": false
        },
        "yaxis": {
         "visible": false
        }
       }
      }
     },
     "metadata": {},
     "output_type": "display_data"
    }
   ],
   "source": [
    "topic_model.visualize_documents(\n",
    "    text,\n",
    "    reduced_embeddings=reduced_embeddings,\n",
    "    hide_document_hover=True,\n",
    "    hide_annotations=True,\n",
    ")\n"
   ]
  },
  {
   "cell_type": "code",
   "execution_count": 36,
   "id": "f5b108e1",
   "metadata": {},
   "outputs": [],
   "source": [
    "import pandas as pd\n",
    "\n",
    "topic_df = pd.DataFrame({\"projectID\": health_df[\"projectID\"], \"text\": text, \"topic\": topic_model.topics_})\n",
    "# topic_df.to_csv(\"data/processed/topic_df.csv\")\n"
   ]
  },
  {
   "cell_type": "code",
   "execution_count": 37,
   "id": "027099bb",
   "metadata": {},
   "outputs": [],
   "source": [
    "topics = topic_model.get_topic_info()\n",
    "# topics.to_csv(\"data/processed/topics.csv\")\n"
   ]
  },
  {
   "cell_type": "code",
   "execution_count": 38,
   "id": "ce726391",
   "metadata": {},
   "outputs": [
    {
     "data": {
      "text/plain": [
       "Index(['Topic', 'Count', 'Name', 'Representation', 'KeyBERT', 'MMR', 'POS',\n",
       "       'Representative_Docs'],\n",
       "      dtype='object')"
      ]
     },
     "execution_count": 38,
     "metadata": {},
     "output_type": "execute_result"
    }
   ],
   "source": [
    "topics.columns"
   ]
  },
  {
   "cell_type": "code",
   "execution_count": 39,
   "id": "8c866a2c",
   "metadata": {},
   "outputs": [
    {
     "data": {
      "text/plain": [
       "(3465, 9)"
      ]
     },
     "execution_count": 39,
     "metadata": {},
     "output_type": "execute_result"
    }
   ],
   "source": [
    "topic_df = pd.merge(\n",
    "    topic_df,\n",
    "    topics[[\"Topic\", \"Count\", \"MMR\", \"KeyBERT\", \"POS\"]],\n",
    "    left_on=\"topic\",\n",
    "    right_on=\"Topic\",\n",
    "    how=\"left\",\n",
    ")\n",
    "\n",
    "\n",
    "topic_df = pd.merge(\n",
    "    topic_df,\n",
    "    health_df[[\"projectID\", \"euroSciVocTitle\"]],\n",
    "    on=\"projectID\",\n",
    "    how=\"left\",\n",
    ")\n",
    "\n",
    "topic_df.shape\n"
   ]
  },
  {
   "cell_type": "code",
   "execution_count": 40,
   "id": "196bbe9c",
   "metadata": {},
   "outputs": [],
   "source": [
    "topic_df.to_csv(\"data/processed/topics_df.csv\")\n"
   ]
  },
  {
   "cell_type": "code",
   "execution_count": 18,
   "id": "92c8899e",
   "metadata": {},
   "outputs": [],
   "source": [
    "# or use one of the other topic representations, like KeyBERTInspired\n",
    "# keybert_topic_labels = {topic: \" | \".join(list(zip(*values))[0][:3]) for topic, values in topic_model.topic_aspects_[\"KeyBERT\"].items()}\n",
    "# topic_model.set_topic_labels(keybert_topic_labels)\n",
    "\n",
    "pos_topic_labels = {topic: \" | \".join(list(zip(*values))[0][:3]) for topic, values in topic_model.topic_aspects_[\"POS\"].items()}\n",
    "topic_model.set_topic_labels(pos_topic_labels)\n"
   ]
  },
  {
   "cell_type": "code",
   "execution_count": 44,
   "id": "aa2286e3",
   "metadata": {},
   "outputs": [
    {
     "data": {
      "application/vnd.plotly.v1+json": {
       "config": {
        "plotlyServerURL": "https://plot.ly"
       },
       "data": [
        {
         "customdata": [
          [
           0,
           "cells | cancer | immune | cell | tumor",
           152
          ],
          [
           1,
           "social | political | pandemic | mental | policy",
           149
          ],
          [
           2,
           "bone | tissue | bioprinting | pain | oa",
           111
          ],
          [
           3,
           "imaging | cancer | ai | breast | time",
           111
          ],
          [
           4,
           "food | sustainable | aquaculture | production | climate",
           99
          ],
          [
           5,
           "plant | plants | crop | climate | species",
           93
          ],
          [
           6,
           "brain | epilepsy | stimulation | neural | activity",
           91
          ],
          [
           7,
           "antibiotics | bacteria | bacterial | resistance | antibiotic",
           90
          ],
          [
           8,
           "stroke | heart | patients | clinical | flow",
           89
          ],
          [
           9,
           "gut | ibd | microbiota | microbiome | intestinal",
           88
          ],
          [
           10,
           "ad | microglia | brain | disease | alzheimer",
           68
          ],
          [
           11,
           "data | ai | privacy | healthcare | european",
           67
          ],
          [
           12,
           "cell | gene | chromatin | transcription | dna",
           66
          ],
          [
           13,
           "africa | tb | malaria | vaccine | children",
           61
          ],
          [
           14,
           "cardiac | heart | cardiomyocytes | hf | human",
           51
          ],
          [
           15,
           "liver | nafld | metabolic | liver disease | disease",
           50
          ],
          [
           16,
           "visual | neural | sensory | brain | circuits",
           50
          ],
          [
           17,
           "detection | cancer | evs | blood | biomarkers",
           47
          ],
          [
           18,
           "synthesis | chiral | molecules | reactions | chemistry",
           47
          ],
          [
           19,
           "protein | aggregation | neurodegenerative | er | tau",
           43
          ],
          [
           20,
           "viral | viruses | virus | antiviral | host",
           41
          ],
          [
           21,
           "dose | radiation | cancer | radiotherapy | therapy",
           40
          ],
          [
           22,
           "insulin | diabetes | glucose | t2d | cell",
           40
          ],
          [
           23,
           "cancer | cancers | epigenetic | resistance | single",
           39
          ],
          [
           24,
           "preparedness | epidemic | pandemic | disease | biodiversity",
           38
          ],
          [
           25,
           "cancer | care | prevention | patients | european",
           36
          ],
          [
           26,
           "aml | hsc | hematopoietic | hscs | stem",
           34
          ],
          [
           27,
           "cell | mechanical | mechanics | morphogenesis | forces",
           34
          ],
          [
           28,
           "pharmaceutical | sustainable | pharmaceuticals | production | waste",
           33
          ],
          [
           29,
           "chemicals | pfas | exposure | edcs | assessment",
           32
          ],
          [
           30,
           "cancer | tumour | cafs | tumor | metastasis",
           32
          ],
          [
           31,
           "hiv | respiratory | infection | asthma | viral",
           30
          ],
          [
           32,
           "eye | retinal | ocular | retina | blindness",
           30
          ],
          [
           33,
           "obesity | metabolic | weight | energy | bat",
           26
          ],
          [
           34,
           "kidney | ckd | renal | kidney disease | chronic kidney",
           26
          ],
          [
           35,
           "magnetic | drug | drug delivery | cancer | nanoparticles",
           25
          ],
          [
           36,
           "delivery | lnps | rna | formulations | mrna",
           25
          ],
          [
           37,
           "gbm | tumour | glioblastoma | tumor | brain",
           24
          ],
          [
           38,
           "detection | point care | point | diagnostic | diagnosis",
           22
          ],
          [
           39,
           "past | ancient | archaeological | human | dental",
           21
          ],
          [
           40,
           "malaria | parasite | plasmodium | parasites | sand",
           21
          ],
          [
           41,
           "cancer | pancreatic | tumor | pdac | breast cancer",
           20
          ],
          [
           42,
           "obesity | weight | iodine | prevention | interventions",
           20
          ],
          [
           43,
           "psychiatric | treatment | disorders | mental | autism",
           20
          ],
          [
           44,
           "climate | air | climate change | environmental | change",
           20
          ],
          [
           45,
           "atherosclerosis | risk | cvd | sex | atherosclerotic",
           20
          ]
         ],
         "hovertemplate": "<b>Topic %{customdata[0]}</b><br>%{customdata[1]}<br>Size: %{customdata[2]}",
         "legendgroup": "",
         "marker": {
          "color": "#B0BEC5",
          "line": {
           "color": "DarkSlateGrey",
           "width": 2
          },
          "size": {
           "bdata": "mACVAG8AbwBjAF0AWwBaAFkAWABEAEMAQgA9ADMAMgAyAC8ALwArACkAKAAoACcAJgAkACIAIgAhACAAIAAeAB4AGgAaABkAGQAYABYAFQAVABQAFAAUABQAFAA=",
           "dtype": "i2"
          },
          "sizemode": "area",
          "sizeref": 0.095,
          "symbol": "circle"
         },
         "mode": "markers",
         "name": "",
         "orientation": "v",
         "showlegend": false,
         "type": "scatter",
         "x": {
          "bdata": "A2CzwOAg4kGFW/vA6tWDQW6yQEFwPjxBfY9zQagePUGyNvnA99yDQKrzXL8PDONBxNNRwahbdkFqf/nAymYFwfHjdEEqg4JBQ+Y5QSjHZb/SF45AqUuEQUMTCMG15MnA3vJ0QVdT4kFRM87AxdNRwbP+OEGoNjdBl5/AwDuJi0ApK4VBX7EJwd6pCsERsey+cKzsvugXrsDc/IBBL7I4QftDhEA2S7HAKMtvQQTRcEEXt29BBbb8wA==",
          "dtype": "f4"
         },
         "xaxis": "x",
         "y": {
          "bdata": "DlaePrfD10BmvQTBYMilQDNULUHg4ihBQI9WwZnDKUGqfAbBPJpmwIThij/9b9tAisgBQCaloMAS0gvBgNgTwd06VcGKfqBANSR5Qeoajz8qEHvA/p+nQFucD8FpYRs+2dOdwDmN2EAHPoo+pcgBQE4NekEy1XtB6JyWPbPzdcBhHqtACIoTwa3REcFQidBBSInQQTsWqj00aZpAClclQZZqZ8Aw4do+I4iTwNZMWcH3X5PAFVYQwQ==",
          "dtype": "f4"
         },
         "yaxis": "y"
        }
       ],
       "layout": {
        "annotations": [
         {
          "showarrow": false,
          "text": "D1",
          "x": -15.081332206726074,
          "y": 7.179327964782715,
          "yshift": 10
         },
         {
          "showarrow": false,
          "text": "D2",
          "x": 8.778345108032227,
          "xshift": 10,
          "y": 29.97710418701172
         }
        ],
        "height": 650,
        "hoverlabel": {
         "bgcolor": "white",
         "font": {
          "family": "Rockwell",
          "size": 16
         }
        },
        "legend": {
         "itemsizing": "constant",
         "tracegroupgap": 0
        },
        "margin": {
         "t": 60
        },
        "shapes": [
         {
          "line": {
           "color": "#CFD8DC",
           "width": 2
          },
          "type": "line",
          "x0": 8.778345108032227,
          "x1": 8.778345108032227,
          "y0": -15.618448257446289,
          "y1": 29.97710418701172
         },
         {
          "line": {
           "color": "#9E9E9E",
           "width": 2
          },
          "type": "line",
          "x0": -15.081332206726074,
          "x1": 32.638023376464844,
          "y0": 7.179327964782715,
          "y1": 7.179327964782715
         }
        ],
        "sliders": [
         {
          "active": 0,
          "pad": {
           "t": 50
          },
          "steps": [
           {
            "args": [
             {
              "marker.color": [
               [
                "red",
                "#B0BEC5",
                "#B0BEC5",
                "#B0BEC5",
                "#B0BEC5",
                "#B0BEC5",
                "#B0BEC5",
                "#B0BEC5",
                "#B0BEC5",
                "#B0BEC5",
                "#B0BEC5",
                "#B0BEC5",
                "#B0BEC5",
                "#B0BEC5",
                "#B0BEC5",
                "#B0BEC5",
                "#B0BEC5",
                "#B0BEC5",
                "#B0BEC5",
                "#B0BEC5",
                "#B0BEC5",
                "#B0BEC5",
                "#B0BEC5",
                "#B0BEC5",
                "#B0BEC5",
                "#B0BEC5",
                "#B0BEC5",
                "#B0BEC5",
                "#B0BEC5",
                "#B0BEC5",
                "#B0BEC5",
                "#B0BEC5",
                "#B0BEC5",
                "#B0BEC5",
                "#B0BEC5",
                "#B0BEC5",
                "#B0BEC5",
                "#B0BEC5",
                "#B0BEC5",
                "#B0BEC5",
                "#B0BEC5",
                "#B0BEC5",
                "#B0BEC5",
                "#B0BEC5",
                "#B0BEC5",
                "#B0BEC5"
               ]
              ]
             }
            ],
            "label": "Topic 0",
            "method": "update"
           },
           {
            "args": [
             {
              "marker.color": [
               [
                "#B0BEC5",
                "red",
                "#B0BEC5",
                "#B0BEC5",
                "#B0BEC5",
                "#B0BEC5",
                "#B0BEC5",
                "#B0BEC5",
                "#B0BEC5",
                "#B0BEC5",
                "#B0BEC5",
                "#B0BEC5",
                "#B0BEC5",
                "#B0BEC5",
                "#B0BEC5",
                "#B0BEC5",
                "#B0BEC5",
                "#B0BEC5",
                "#B0BEC5",
                "#B0BEC5",
                "#B0BEC5",
                "#B0BEC5",
                "#B0BEC5",
                "#B0BEC5",
                "#B0BEC5",
                "#B0BEC5",
                "#B0BEC5",
                "#B0BEC5",
                "#B0BEC5",
                "#B0BEC5",
                "#B0BEC5",
                "#B0BEC5",
                "#B0BEC5",
                "#B0BEC5",
                "#B0BEC5",
                "#B0BEC5",
                "#B0BEC5",
                "#B0BEC5",
                "#B0BEC5",
                "#B0BEC5",
                "#B0BEC5",
                "#B0BEC5",
                "#B0BEC5",
                "#B0BEC5",
                "#B0BEC5",
                "#B0BEC5"
               ]
              ]
             }
            ],
            "label": "Topic 1",
            "method": "update"
           },
           {
            "args": [
             {
              "marker.color": [
               [
                "#B0BEC5",
                "#B0BEC5",
                "red",
                "#B0BEC5",
                "#B0BEC5",
                "#B0BEC5",
                "#B0BEC5",
                "#B0BEC5",
                "#B0BEC5",
                "#B0BEC5",
                "#B0BEC5",
                "#B0BEC5",
                "#B0BEC5",
                "#B0BEC5",
                "#B0BEC5",
                "#B0BEC5",
                "#B0BEC5",
                "#B0BEC5",
                "#B0BEC5",
                "#B0BEC5",
                "#B0BEC5",
                "#B0BEC5",
                "#B0BEC5",
                "#B0BEC5",
                "#B0BEC5",
                "#B0BEC5",
                "#B0BEC5",
                "#B0BEC5",
                "#B0BEC5",
                "#B0BEC5",
                "#B0BEC5",
                "#B0BEC5",
                "#B0BEC5",
                "#B0BEC5",
                "#B0BEC5",
                "#B0BEC5",
                "#B0BEC5",
                "#B0BEC5",
                "#B0BEC5",
                "#B0BEC5",
                "#B0BEC5",
                "#B0BEC5",
                "#B0BEC5",
                "#B0BEC5",
                "#B0BEC5",
                "#B0BEC5"
               ]
              ]
             }
            ],
            "label": "Topic 2",
            "method": "update"
           },
           {
            "args": [
             {
              "marker.color": [
               [
                "#B0BEC5",
                "#B0BEC5",
                "#B0BEC5",
                "red",
                "#B0BEC5",
                "#B0BEC5",
                "#B0BEC5",
                "#B0BEC5",
                "#B0BEC5",
                "#B0BEC5",
                "#B0BEC5",
                "#B0BEC5",
                "#B0BEC5",
                "#B0BEC5",
                "#B0BEC5",
                "#B0BEC5",
                "#B0BEC5",
                "#B0BEC5",
                "#B0BEC5",
                "#B0BEC5",
                "#B0BEC5",
                "#B0BEC5",
                "#B0BEC5",
                "#B0BEC5",
                "#B0BEC5",
                "#B0BEC5",
                "#B0BEC5",
                "#B0BEC5",
                "#B0BEC5",
                "#B0BEC5",
                "#B0BEC5",
                "#B0BEC5",
                "#B0BEC5",
                "#B0BEC5",
                "#B0BEC5",
                "#B0BEC5",
                "#B0BEC5",
                "#B0BEC5",
                "#B0BEC5",
                "#B0BEC5",
                "#B0BEC5",
                "#B0BEC5",
                "#B0BEC5",
                "#B0BEC5",
                "#B0BEC5",
                "#B0BEC5"
               ]
              ]
             }
            ],
            "label": "Topic 3",
            "method": "update"
           },
           {
            "args": [
             {
              "marker.color": [
               [
                "#B0BEC5",
                "#B0BEC5",
                "#B0BEC5",
                "#B0BEC5",
                "red",
                "#B0BEC5",
                "#B0BEC5",
                "#B0BEC5",
                "#B0BEC5",
                "#B0BEC5",
                "#B0BEC5",
                "#B0BEC5",
                "#B0BEC5",
                "#B0BEC5",
                "#B0BEC5",
                "#B0BEC5",
                "#B0BEC5",
                "#B0BEC5",
                "#B0BEC5",
                "#B0BEC5",
                "#B0BEC5",
                "#B0BEC5",
                "#B0BEC5",
                "#B0BEC5",
                "#B0BEC5",
                "#B0BEC5",
                "#B0BEC5",
                "#B0BEC5",
                "#B0BEC5",
                "#B0BEC5",
                "#B0BEC5",
                "#B0BEC5",
                "#B0BEC5",
                "#B0BEC5",
                "#B0BEC5",
                "#B0BEC5",
                "#B0BEC5",
                "#B0BEC5",
                "#B0BEC5",
                "#B0BEC5",
                "#B0BEC5",
                "#B0BEC5",
                "#B0BEC5",
                "#B0BEC5",
                "#B0BEC5",
                "#B0BEC5"
               ]
              ]
             }
            ],
            "label": "Topic 4",
            "method": "update"
           },
           {
            "args": [
             {
              "marker.color": [
               [
                "#B0BEC5",
                "#B0BEC5",
                "#B0BEC5",
                "#B0BEC5",
                "#B0BEC5",
                "red",
                "#B0BEC5",
                "#B0BEC5",
                "#B0BEC5",
                "#B0BEC5",
                "#B0BEC5",
                "#B0BEC5",
                "#B0BEC5",
                "#B0BEC5",
                "#B0BEC5",
                "#B0BEC5",
                "#B0BEC5",
                "#B0BEC5",
                "#B0BEC5",
                "#B0BEC5",
                "#B0BEC5",
                "#B0BEC5",
                "#B0BEC5",
                "#B0BEC5",
                "#B0BEC5",
                "#B0BEC5",
                "#B0BEC5",
                "#B0BEC5",
                "#B0BEC5",
                "#B0BEC5",
                "#B0BEC5",
                "#B0BEC5",
                "#B0BEC5",
                "#B0BEC5",
                "#B0BEC5",
                "#B0BEC5",
                "#B0BEC5",
                "#B0BEC5",
                "#B0BEC5",
                "#B0BEC5",
                "#B0BEC5",
                "#B0BEC5",
                "#B0BEC5",
                "#B0BEC5",
                "#B0BEC5",
                "#B0BEC5"
               ]
              ]
             }
            ],
            "label": "Topic 5",
            "method": "update"
           },
           {
            "args": [
             {
              "marker.color": [
               [
                "#B0BEC5",
                "#B0BEC5",
                "#B0BEC5",
                "#B0BEC5",
                "#B0BEC5",
                "#B0BEC5",
                "red",
                "#B0BEC5",
                "#B0BEC5",
                "#B0BEC5",
                "#B0BEC5",
                "#B0BEC5",
                "#B0BEC5",
                "#B0BEC5",
                "#B0BEC5",
                "#B0BEC5",
                "#B0BEC5",
                "#B0BEC5",
                "#B0BEC5",
                "#B0BEC5",
                "#B0BEC5",
                "#B0BEC5",
                "#B0BEC5",
                "#B0BEC5",
                "#B0BEC5",
                "#B0BEC5",
                "#B0BEC5",
                "#B0BEC5",
                "#B0BEC5",
                "#B0BEC5",
                "#B0BEC5",
                "#B0BEC5",
                "#B0BEC5",
                "#B0BEC5",
                "#B0BEC5",
                "#B0BEC5",
                "#B0BEC5",
                "#B0BEC5",
                "#B0BEC5",
                "#B0BEC5",
                "#B0BEC5",
                "#B0BEC5",
                "#B0BEC5",
                "#B0BEC5",
                "#B0BEC5",
                "#B0BEC5"
               ]
              ]
             }
            ],
            "label": "Topic 6",
            "method": "update"
           },
           {
            "args": [
             {
              "marker.color": [
               [
                "#B0BEC5",
                "#B0BEC5",
                "#B0BEC5",
                "#B0BEC5",
                "#B0BEC5",
                "#B0BEC5",
                "#B0BEC5",
                "red",
                "#B0BEC5",
                "#B0BEC5",
                "#B0BEC5",
                "#B0BEC5",
                "#B0BEC5",
                "#B0BEC5",
                "#B0BEC5",
                "#B0BEC5",
                "#B0BEC5",
                "#B0BEC5",
                "#B0BEC5",
                "#B0BEC5",
                "#B0BEC5",
                "#B0BEC5",
                "#B0BEC5",
                "#B0BEC5",
                "#B0BEC5",
                "#B0BEC5",
                "#B0BEC5",
                "#B0BEC5",
                "#B0BEC5",
                "#B0BEC5",
                "#B0BEC5",
                "#B0BEC5",
                "#B0BEC5",
                "#B0BEC5",
                "#B0BEC5",
                "#B0BEC5",
                "#B0BEC5",
                "#B0BEC5",
                "#B0BEC5",
                "#B0BEC5",
                "#B0BEC5",
                "#B0BEC5",
                "#B0BEC5",
                "#B0BEC5",
                "#B0BEC5",
                "#B0BEC5"
               ]
              ]
             }
            ],
            "label": "Topic 7",
            "method": "update"
           },
           {
            "args": [
             {
              "marker.color": [
               [
                "#B0BEC5",
                "#B0BEC5",
                "#B0BEC5",
                "#B0BEC5",
                "#B0BEC5",
                "#B0BEC5",
                "#B0BEC5",
                "#B0BEC5",
                "red",
                "#B0BEC5",
                "#B0BEC5",
                "#B0BEC5",
                "#B0BEC5",
                "#B0BEC5",
                "#B0BEC5",
                "#B0BEC5",
                "#B0BEC5",
                "#B0BEC5",
                "#B0BEC5",
                "#B0BEC5",
                "#B0BEC5",
                "#B0BEC5",
                "#B0BEC5",
                "#B0BEC5",
                "#B0BEC5",
                "#B0BEC5",
                "#B0BEC5",
                "#B0BEC5",
                "#B0BEC5",
                "#B0BEC5",
                "#B0BEC5",
                "#B0BEC5",
                "#B0BEC5",
                "#B0BEC5",
                "#B0BEC5",
                "#B0BEC5",
                "#B0BEC5",
                "#B0BEC5",
                "#B0BEC5",
                "#B0BEC5",
                "#B0BEC5",
                "#B0BEC5",
                "#B0BEC5",
                "#B0BEC5",
                "#B0BEC5",
                "#B0BEC5"
               ]
              ]
             }
            ],
            "label": "Topic 8",
            "method": "update"
           },
           {
            "args": [
             {
              "marker.color": [
               [
                "#B0BEC5",
                "#B0BEC5",
                "#B0BEC5",
                "#B0BEC5",
                "#B0BEC5",
                "#B0BEC5",
                "#B0BEC5",
                "#B0BEC5",
                "#B0BEC5",
                "red",
                "#B0BEC5",
                "#B0BEC5",
                "#B0BEC5",
                "#B0BEC5",
                "#B0BEC5",
                "#B0BEC5",
                "#B0BEC5",
                "#B0BEC5",
                "#B0BEC5",
                "#B0BEC5",
                "#B0BEC5",
                "#B0BEC5",
                "#B0BEC5",
                "#B0BEC5",
                "#B0BEC5",
                "#B0BEC5",
                "#B0BEC5",
                "#B0BEC5",
                "#B0BEC5",
                "#B0BEC5",
                "#B0BEC5",
                "#B0BEC5",
                "#B0BEC5",
                "#B0BEC5",
                "#B0BEC5",
                "#B0BEC5",
                "#B0BEC5",
                "#B0BEC5",
                "#B0BEC5",
                "#B0BEC5",
                "#B0BEC5",
                "#B0BEC5",
                "#B0BEC5",
                "#B0BEC5",
                "#B0BEC5",
                "#B0BEC5"
               ]
              ]
             }
            ],
            "label": "Topic 9",
            "method": "update"
           },
           {
            "args": [
             {
              "marker.color": [
               [
                "#B0BEC5",
                "#B0BEC5",
                "#B0BEC5",
                "#B0BEC5",
                "#B0BEC5",
                "#B0BEC5",
                "#B0BEC5",
                "#B0BEC5",
                "#B0BEC5",
                "#B0BEC5",
                "red",
                "#B0BEC5",
                "#B0BEC5",
                "#B0BEC5",
                "#B0BEC5",
                "#B0BEC5",
                "#B0BEC5",
                "#B0BEC5",
                "#B0BEC5",
                "#B0BEC5",
                "#B0BEC5",
                "#B0BEC5",
                "#B0BEC5",
                "#B0BEC5",
                "#B0BEC5",
                "#B0BEC5",
                "#B0BEC5",
                "#B0BEC5",
                "#B0BEC5",
                "#B0BEC5",
                "#B0BEC5",
                "#B0BEC5",
                "#B0BEC5",
                "#B0BEC5",
                "#B0BEC5",
                "#B0BEC5",
                "#B0BEC5",
                "#B0BEC5",
                "#B0BEC5",
                "#B0BEC5",
                "#B0BEC5",
                "#B0BEC5",
                "#B0BEC5",
                "#B0BEC5",
                "#B0BEC5",
                "#B0BEC5"
               ]
              ]
             }
            ],
            "label": "Topic 10",
            "method": "update"
           },
           {
            "args": [
             {
              "marker.color": [
               [
                "#B0BEC5",
                "#B0BEC5",
                "#B0BEC5",
                "#B0BEC5",
                "#B0BEC5",
                "#B0BEC5",
                "#B0BEC5",
                "#B0BEC5",
                "#B0BEC5",
                "#B0BEC5",
                "#B0BEC5",
                "red",
                "#B0BEC5",
                "#B0BEC5",
                "#B0BEC5",
                "#B0BEC5",
                "#B0BEC5",
                "#B0BEC5",
                "#B0BEC5",
                "#B0BEC5",
                "#B0BEC5",
                "#B0BEC5",
                "#B0BEC5",
                "#B0BEC5",
                "#B0BEC5",
                "#B0BEC5",
                "#B0BEC5",
                "#B0BEC5",
                "#B0BEC5",
                "#B0BEC5",
                "#B0BEC5",
                "#B0BEC5",
                "#B0BEC5",
                "#B0BEC5",
                "#B0BEC5",
                "#B0BEC5",
                "#B0BEC5",
                "#B0BEC5",
                "#B0BEC5",
                "#B0BEC5",
                "#B0BEC5",
                "#B0BEC5",
                "#B0BEC5",
                "#B0BEC5",
                "#B0BEC5",
                "#B0BEC5"
               ]
              ]
             }
            ],
            "label": "Topic 11",
            "method": "update"
           },
           {
            "args": [
             {
              "marker.color": [
               [
                "#B0BEC5",
                "#B0BEC5",
                "#B0BEC5",
                "#B0BEC5",
                "#B0BEC5",
                "#B0BEC5",
                "#B0BEC5",
                "#B0BEC5",
                "#B0BEC5",
                "#B0BEC5",
                "#B0BEC5",
                "#B0BEC5",
                "red",
                "#B0BEC5",
                "#B0BEC5",
                "#B0BEC5",
                "#B0BEC5",
                "#B0BEC5",
                "#B0BEC5",
                "#B0BEC5",
                "#B0BEC5",
                "#B0BEC5",
                "#B0BEC5",
                "#B0BEC5",
                "#B0BEC5",
                "#B0BEC5",
                "#B0BEC5",
                "#B0BEC5",
                "#B0BEC5",
                "#B0BEC5",
                "#B0BEC5",
                "#B0BEC5",
                "#B0BEC5",
                "#B0BEC5",
                "#B0BEC5",
                "#B0BEC5",
                "#B0BEC5",
                "#B0BEC5",
                "#B0BEC5",
                "#B0BEC5",
                "#B0BEC5",
                "#B0BEC5",
                "#B0BEC5",
                "#B0BEC5",
                "#B0BEC5",
                "#B0BEC5"
               ]
              ]
             }
            ],
            "label": "Topic 12",
            "method": "update"
           },
           {
            "args": [
             {
              "marker.color": [
               [
                "#B0BEC5",
                "#B0BEC5",
                "#B0BEC5",
                "#B0BEC5",
                "#B0BEC5",
                "#B0BEC5",
                "#B0BEC5",
                "#B0BEC5",
                "#B0BEC5",
                "#B0BEC5",
                "#B0BEC5",
                "#B0BEC5",
                "#B0BEC5",
                "red",
                "#B0BEC5",
                "#B0BEC5",
                "#B0BEC5",
                "#B0BEC5",
                "#B0BEC5",
                "#B0BEC5",
                "#B0BEC5",
                "#B0BEC5",
                "#B0BEC5",
                "#B0BEC5",
                "#B0BEC5",
                "#B0BEC5",
                "#B0BEC5",
                "#B0BEC5",
                "#B0BEC5",
                "#B0BEC5",
                "#B0BEC5",
                "#B0BEC5",
                "#B0BEC5",
                "#B0BEC5",
                "#B0BEC5",
                "#B0BEC5",
                "#B0BEC5",
                "#B0BEC5",
                "#B0BEC5",
                "#B0BEC5",
                "#B0BEC5",
                "#B0BEC5",
                "#B0BEC5",
                "#B0BEC5",
                "#B0BEC5",
                "#B0BEC5"
               ]
              ]
             }
            ],
            "label": "Topic 13",
            "method": "update"
           },
           {
            "args": [
             {
              "marker.color": [
               [
                "#B0BEC5",
                "#B0BEC5",
                "#B0BEC5",
                "#B0BEC5",
                "#B0BEC5",
                "#B0BEC5",
                "#B0BEC5",
                "#B0BEC5",
                "#B0BEC5",
                "#B0BEC5",
                "#B0BEC5",
                "#B0BEC5",
                "#B0BEC5",
                "#B0BEC5",
                "red",
                "#B0BEC5",
                "#B0BEC5",
                "#B0BEC5",
                "#B0BEC5",
                "#B0BEC5",
                "#B0BEC5",
                "#B0BEC5",
                "#B0BEC5",
                "#B0BEC5",
                "#B0BEC5",
                "#B0BEC5",
                "#B0BEC5",
                "#B0BEC5",
                "#B0BEC5",
                "#B0BEC5",
                "#B0BEC5",
                "#B0BEC5",
                "#B0BEC5",
                "#B0BEC5",
                "#B0BEC5",
                "#B0BEC5",
                "#B0BEC5",
                "#B0BEC5",
                "#B0BEC5",
                "#B0BEC5",
                "#B0BEC5",
                "#B0BEC5",
                "#B0BEC5",
                "#B0BEC5",
                "#B0BEC5",
                "#B0BEC5"
               ]
              ]
             }
            ],
            "label": "Topic 14",
            "method": "update"
           },
           {
            "args": [
             {
              "marker.color": [
               [
                "#B0BEC5",
                "#B0BEC5",
                "#B0BEC5",
                "#B0BEC5",
                "#B0BEC5",
                "#B0BEC5",
                "#B0BEC5",
                "#B0BEC5",
                "#B0BEC5",
                "#B0BEC5",
                "#B0BEC5",
                "#B0BEC5",
                "#B0BEC5",
                "#B0BEC5",
                "#B0BEC5",
                "red",
                "#B0BEC5",
                "#B0BEC5",
                "#B0BEC5",
                "#B0BEC5",
                "#B0BEC5",
                "#B0BEC5",
                "#B0BEC5",
                "#B0BEC5",
                "#B0BEC5",
                "#B0BEC5",
                "#B0BEC5",
                "#B0BEC5",
                "#B0BEC5",
                "#B0BEC5",
                "#B0BEC5",
                "#B0BEC5",
                "#B0BEC5",
                "#B0BEC5",
                "#B0BEC5",
                "#B0BEC5",
                "#B0BEC5",
                "#B0BEC5",
                "#B0BEC5",
                "#B0BEC5",
                "#B0BEC5",
                "#B0BEC5",
                "#B0BEC5",
                "#B0BEC5",
                "#B0BEC5",
                "#B0BEC5"
               ]
              ]
             }
            ],
            "label": "Topic 15",
            "method": "update"
           },
           {
            "args": [
             {
              "marker.color": [
               [
                "#B0BEC5",
                "#B0BEC5",
                "#B0BEC5",
                "#B0BEC5",
                "#B0BEC5",
                "#B0BEC5",
                "#B0BEC5",
                "#B0BEC5",
                "#B0BEC5",
                "#B0BEC5",
                "#B0BEC5",
                "#B0BEC5",
                "#B0BEC5",
                "#B0BEC5",
                "#B0BEC5",
                "#B0BEC5",
                "red",
                "#B0BEC5",
                "#B0BEC5",
                "#B0BEC5",
                "#B0BEC5",
                "#B0BEC5",
                "#B0BEC5",
                "#B0BEC5",
                "#B0BEC5",
                "#B0BEC5",
                "#B0BEC5",
                "#B0BEC5",
                "#B0BEC5",
                "#B0BEC5",
                "#B0BEC5",
                "#B0BEC5",
                "#B0BEC5",
                "#B0BEC5",
                "#B0BEC5",
                "#B0BEC5",
                "#B0BEC5",
                "#B0BEC5",
                "#B0BEC5",
                "#B0BEC5",
                "#B0BEC5",
                "#B0BEC5",
                "#B0BEC5",
                "#B0BEC5",
                "#B0BEC5",
                "#B0BEC5"
               ]
              ]
             }
            ],
            "label": "Topic 16",
            "method": "update"
           },
           {
            "args": [
             {
              "marker.color": [
               [
                "#B0BEC5",
                "#B0BEC5",
                "#B0BEC5",
                "#B0BEC5",
                "#B0BEC5",
                "#B0BEC5",
                "#B0BEC5",
                "#B0BEC5",
                "#B0BEC5",
                "#B0BEC5",
                "#B0BEC5",
                "#B0BEC5",
                "#B0BEC5",
                "#B0BEC5",
                "#B0BEC5",
                "#B0BEC5",
                "#B0BEC5",
                "red",
                "#B0BEC5",
                "#B0BEC5",
                "#B0BEC5",
                "#B0BEC5",
                "#B0BEC5",
                "#B0BEC5",
                "#B0BEC5",
                "#B0BEC5",
                "#B0BEC5",
                "#B0BEC5",
                "#B0BEC5",
                "#B0BEC5",
                "#B0BEC5",
                "#B0BEC5",
                "#B0BEC5",
                "#B0BEC5",
                "#B0BEC5",
                "#B0BEC5",
                "#B0BEC5",
                "#B0BEC5",
                "#B0BEC5",
                "#B0BEC5",
                "#B0BEC5",
                "#B0BEC5",
                "#B0BEC5",
                "#B0BEC5",
                "#B0BEC5",
                "#B0BEC5"
               ]
              ]
             }
            ],
            "label": "Topic 17",
            "method": "update"
           },
           {
            "args": [
             {
              "marker.color": [
               [
                "#B0BEC5",
                "#B0BEC5",
                "#B0BEC5",
                "#B0BEC5",
                "#B0BEC5",
                "#B0BEC5",
                "#B0BEC5",
                "#B0BEC5",
                "#B0BEC5",
                "#B0BEC5",
                "#B0BEC5",
                "#B0BEC5",
                "#B0BEC5",
                "#B0BEC5",
                "#B0BEC5",
                "#B0BEC5",
                "#B0BEC5",
                "#B0BEC5",
                "red",
                "#B0BEC5",
                "#B0BEC5",
                "#B0BEC5",
                "#B0BEC5",
                "#B0BEC5",
                "#B0BEC5",
                "#B0BEC5",
                "#B0BEC5",
                "#B0BEC5",
                "#B0BEC5",
                "#B0BEC5",
                "#B0BEC5",
                "#B0BEC5",
                "#B0BEC5",
                "#B0BEC5",
                "#B0BEC5",
                "#B0BEC5",
                "#B0BEC5",
                "#B0BEC5",
                "#B0BEC5",
                "#B0BEC5",
                "#B0BEC5",
                "#B0BEC5",
                "#B0BEC5",
                "#B0BEC5",
                "#B0BEC5",
                "#B0BEC5"
               ]
              ]
             }
            ],
            "label": "Topic 18",
            "method": "update"
           },
           {
            "args": [
             {
              "marker.color": [
               [
                "#B0BEC5",
                "#B0BEC5",
                "#B0BEC5",
                "#B0BEC5",
                "#B0BEC5",
                "#B0BEC5",
                "#B0BEC5",
                "#B0BEC5",
                "#B0BEC5",
                "#B0BEC5",
                "#B0BEC5",
                "#B0BEC5",
                "#B0BEC5",
                "#B0BEC5",
                "#B0BEC5",
                "#B0BEC5",
                "#B0BEC5",
                "#B0BEC5",
                "#B0BEC5",
                "red",
                "#B0BEC5",
                "#B0BEC5",
                "#B0BEC5",
                "#B0BEC5",
                "#B0BEC5",
                "#B0BEC5",
                "#B0BEC5",
                "#B0BEC5",
                "#B0BEC5",
                "#B0BEC5",
                "#B0BEC5",
                "#B0BEC5",
                "#B0BEC5",
                "#B0BEC5",
                "#B0BEC5",
                "#B0BEC5",
                "#B0BEC5",
                "#B0BEC5",
                "#B0BEC5",
                "#B0BEC5",
                "#B0BEC5",
                "#B0BEC5",
                "#B0BEC5",
                "#B0BEC5",
                "#B0BEC5",
                "#B0BEC5"
               ]
              ]
             }
            ],
            "label": "Topic 19",
            "method": "update"
           },
           {
            "args": [
             {
              "marker.color": [
               [
                "#B0BEC5",
                "#B0BEC5",
                "#B0BEC5",
                "#B0BEC5",
                "#B0BEC5",
                "#B0BEC5",
                "#B0BEC5",
                "#B0BEC5",
                "#B0BEC5",
                "#B0BEC5",
                "#B0BEC5",
                "#B0BEC5",
                "#B0BEC5",
                "#B0BEC5",
                "#B0BEC5",
                "#B0BEC5",
                "#B0BEC5",
                "#B0BEC5",
                "#B0BEC5",
                "#B0BEC5",
                "red",
                "#B0BEC5",
                "#B0BEC5",
                "#B0BEC5",
                "#B0BEC5",
                "#B0BEC5",
                "#B0BEC5",
                "#B0BEC5",
                "#B0BEC5",
                "#B0BEC5",
                "#B0BEC5",
                "#B0BEC5",
                "#B0BEC5",
                "#B0BEC5",
                "#B0BEC5",
                "#B0BEC5",
                "#B0BEC5",
                "#B0BEC5",
                "#B0BEC5",
                "#B0BEC5",
                "#B0BEC5",
                "#B0BEC5",
                "#B0BEC5",
                "#B0BEC5",
                "#B0BEC5",
                "#B0BEC5"
               ]
              ]
             }
            ],
            "label": "Topic 20",
            "method": "update"
           },
           {
            "args": [
             {
              "marker.color": [
               [
                "#B0BEC5",
                "#B0BEC5",
                "#B0BEC5",
                "#B0BEC5",
                "#B0BEC5",
                "#B0BEC5",
                "#B0BEC5",
                "#B0BEC5",
                "#B0BEC5",
                "#B0BEC5",
                "#B0BEC5",
                "#B0BEC5",
                "#B0BEC5",
                "#B0BEC5",
                "#B0BEC5",
                "#B0BEC5",
                "#B0BEC5",
                "#B0BEC5",
                "#B0BEC5",
                "#B0BEC5",
                "#B0BEC5",
                "red",
                "#B0BEC5",
                "#B0BEC5",
                "#B0BEC5",
                "#B0BEC5",
                "#B0BEC5",
                "#B0BEC5",
                "#B0BEC5",
                "#B0BEC5",
                "#B0BEC5",
                "#B0BEC5",
                "#B0BEC5",
                "#B0BEC5",
                "#B0BEC5",
                "#B0BEC5",
                "#B0BEC5",
                "#B0BEC5",
                "#B0BEC5",
                "#B0BEC5",
                "#B0BEC5",
                "#B0BEC5",
                "#B0BEC5",
                "#B0BEC5",
                "#B0BEC5",
                "#B0BEC5"
               ]
              ]
             }
            ],
            "label": "Topic 21",
            "method": "update"
           },
           {
            "args": [
             {
              "marker.color": [
               [
                "#B0BEC5",
                "#B0BEC5",
                "#B0BEC5",
                "#B0BEC5",
                "#B0BEC5",
                "#B0BEC5",
                "#B0BEC5",
                "#B0BEC5",
                "#B0BEC5",
                "#B0BEC5",
                "#B0BEC5",
                "#B0BEC5",
                "#B0BEC5",
                "#B0BEC5",
                "#B0BEC5",
                "#B0BEC5",
                "#B0BEC5",
                "#B0BEC5",
                "#B0BEC5",
                "#B0BEC5",
                "#B0BEC5",
                "#B0BEC5",
                "red",
                "#B0BEC5",
                "#B0BEC5",
                "#B0BEC5",
                "#B0BEC5",
                "#B0BEC5",
                "#B0BEC5",
                "#B0BEC5",
                "#B0BEC5",
                "#B0BEC5",
                "#B0BEC5",
                "#B0BEC5",
                "#B0BEC5",
                "#B0BEC5",
                "#B0BEC5",
                "#B0BEC5",
                "#B0BEC5",
                "#B0BEC5",
                "#B0BEC5",
                "#B0BEC5",
                "#B0BEC5",
                "#B0BEC5",
                "#B0BEC5",
                "#B0BEC5"
               ]
              ]
             }
            ],
            "label": "Topic 22",
            "method": "update"
           },
           {
            "args": [
             {
              "marker.color": [
               [
                "#B0BEC5",
                "#B0BEC5",
                "#B0BEC5",
                "#B0BEC5",
                "#B0BEC5",
                "#B0BEC5",
                "#B0BEC5",
                "#B0BEC5",
                "#B0BEC5",
                "#B0BEC5",
                "#B0BEC5",
                "#B0BEC5",
                "#B0BEC5",
                "#B0BEC5",
                "#B0BEC5",
                "#B0BEC5",
                "#B0BEC5",
                "#B0BEC5",
                "#B0BEC5",
                "#B0BEC5",
                "#B0BEC5",
                "#B0BEC5",
                "#B0BEC5",
                "red",
                "#B0BEC5",
                "#B0BEC5",
                "#B0BEC5",
                "#B0BEC5",
                "#B0BEC5",
                "#B0BEC5",
                "#B0BEC5",
                "#B0BEC5",
                "#B0BEC5",
                "#B0BEC5",
                "#B0BEC5",
                "#B0BEC5",
                "#B0BEC5",
                "#B0BEC5",
                "#B0BEC5",
                "#B0BEC5",
                "#B0BEC5",
                "#B0BEC5",
                "#B0BEC5",
                "#B0BEC5",
                "#B0BEC5",
                "#B0BEC5"
               ]
              ]
             }
            ],
            "label": "Topic 23",
            "method": "update"
           },
           {
            "args": [
             {
              "marker.color": [
               [
                "#B0BEC5",
                "#B0BEC5",
                "#B0BEC5",
                "#B0BEC5",
                "#B0BEC5",
                "#B0BEC5",
                "#B0BEC5",
                "#B0BEC5",
                "#B0BEC5",
                "#B0BEC5",
                "#B0BEC5",
                "#B0BEC5",
                "#B0BEC5",
                "#B0BEC5",
                "#B0BEC5",
                "#B0BEC5",
                "#B0BEC5",
                "#B0BEC5",
                "#B0BEC5",
                "#B0BEC5",
                "#B0BEC5",
                "#B0BEC5",
                "#B0BEC5",
                "#B0BEC5",
                "red",
                "#B0BEC5",
                "#B0BEC5",
                "#B0BEC5",
                "#B0BEC5",
                "#B0BEC5",
                "#B0BEC5",
                "#B0BEC5",
                "#B0BEC5",
                "#B0BEC5",
                "#B0BEC5",
                "#B0BEC5",
                "#B0BEC5",
                "#B0BEC5",
                "#B0BEC5",
                "#B0BEC5",
                "#B0BEC5",
                "#B0BEC5",
                "#B0BEC5",
                "#B0BEC5",
                "#B0BEC5",
                "#B0BEC5"
               ]
              ]
             }
            ],
            "label": "Topic 24",
            "method": "update"
           },
           {
            "args": [
             {
              "marker.color": [
               [
                "#B0BEC5",
                "#B0BEC5",
                "#B0BEC5",
                "#B0BEC5",
                "#B0BEC5",
                "#B0BEC5",
                "#B0BEC5",
                "#B0BEC5",
                "#B0BEC5",
                "#B0BEC5",
                "#B0BEC5",
                "#B0BEC5",
                "#B0BEC5",
                "#B0BEC5",
                "#B0BEC5",
                "#B0BEC5",
                "#B0BEC5",
                "#B0BEC5",
                "#B0BEC5",
                "#B0BEC5",
                "#B0BEC5",
                "#B0BEC5",
                "#B0BEC5",
                "#B0BEC5",
                "#B0BEC5",
                "red",
                "#B0BEC5",
                "#B0BEC5",
                "#B0BEC5",
                "#B0BEC5",
                "#B0BEC5",
                "#B0BEC5",
                "#B0BEC5",
                "#B0BEC5",
                "#B0BEC5",
                "#B0BEC5",
                "#B0BEC5",
                "#B0BEC5",
                "#B0BEC5",
                "#B0BEC5",
                "#B0BEC5",
                "#B0BEC5",
                "#B0BEC5",
                "#B0BEC5",
                "#B0BEC5",
                "#B0BEC5"
               ]
              ]
             }
            ],
            "label": "Topic 25",
            "method": "update"
           },
           {
            "args": [
             {
              "marker.color": [
               [
                "#B0BEC5",
                "#B0BEC5",
                "#B0BEC5",
                "#B0BEC5",
                "#B0BEC5",
                "#B0BEC5",
                "#B0BEC5",
                "#B0BEC5",
                "#B0BEC5",
                "#B0BEC5",
                "#B0BEC5",
                "#B0BEC5",
                "#B0BEC5",
                "#B0BEC5",
                "#B0BEC5",
                "#B0BEC5",
                "#B0BEC5",
                "#B0BEC5",
                "#B0BEC5",
                "#B0BEC5",
                "#B0BEC5",
                "#B0BEC5",
                "#B0BEC5",
                "#B0BEC5",
                "#B0BEC5",
                "#B0BEC5",
                "red",
                "#B0BEC5",
                "#B0BEC5",
                "#B0BEC5",
                "#B0BEC5",
                "#B0BEC5",
                "#B0BEC5",
                "#B0BEC5",
                "#B0BEC5",
                "#B0BEC5",
                "#B0BEC5",
                "#B0BEC5",
                "#B0BEC5",
                "#B0BEC5",
                "#B0BEC5",
                "#B0BEC5",
                "#B0BEC5",
                "#B0BEC5",
                "#B0BEC5",
                "#B0BEC5"
               ]
              ]
             }
            ],
            "label": "Topic 26",
            "method": "update"
           },
           {
            "args": [
             {
              "marker.color": [
               [
                "#B0BEC5",
                "#B0BEC5",
                "#B0BEC5",
                "#B0BEC5",
                "#B0BEC5",
                "#B0BEC5",
                "#B0BEC5",
                "#B0BEC5",
                "#B0BEC5",
                "#B0BEC5",
                "#B0BEC5",
                "#B0BEC5",
                "#B0BEC5",
                "#B0BEC5",
                "#B0BEC5",
                "#B0BEC5",
                "#B0BEC5",
                "#B0BEC5",
                "#B0BEC5",
                "#B0BEC5",
                "#B0BEC5",
                "#B0BEC5",
                "#B0BEC5",
                "#B0BEC5",
                "#B0BEC5",
                "#B0BEC5",
                "#B0BEC5",
                "red",
                "#B0BEC5",
                "#B0BEC5",
                "#B0BEC5",
                "#B0BEC5",
                "#B0BEC5",
                "#B0BEC5",
                "#B0BEC5",
                "#B0BEC5",
                "#B0BEC5",
                "#B0BEC5",
                "#B0BEC5",
                "#B0BEC5",
                "#B0BEC5",
                "#B0BEC5",
                "#B0BEC5",
                "#B0BEC5",
                "#B0BEC5",
                "#B0BEC5"
               ]
              ]
             }
            ],
            "label": "Topic 27",
            "method": "update"
           },
           {
            "args": [
             {
              "marker.color": [
               [
                "#B0BEC5",
                "#B0BEC5",
                "#B0BEC5",
                "#B0BEC5",
                "#B0BEC5",
                "#B0BEC5",
                "#B0BEC5",
                "#B0BEC5",
                "#B0BEC5",
                "#B0BEC5",
                "#B0BEC5",
                "#B0BEC5",
                "#B0BEC5",
                "#B0BEC5",
                "#B0BEC5",
                "#B0BEC5",
                "#B0BEC5",
                "#B0BEC5",
                "#B0BEC5",
                "#B0BEC5",
                "#B0BEC5",
                "#B0BEC5",
                "#B0BEC5",
                "#B0BEC5",
                "#B0BEC5",
                "#B0BEC5",
                "#B0BEC5",
                "#B0BEC5",
                "red",
                "#B0BEC5",
                "#B0BEC5",
                "#B0BEC5",
                "#B0BEC5",
                "#B0BEC5",
                "#B0BEC5",
                "#B0BEC5",
                "#B0BEC5",
                "#B0BEC5",
                "#B0BEC5",
                "#B0BEC5",
                "#B0BEC5",
                "#B0BEC5",
                "#B0BEC5",
                "#B0BEC5",
                "#B0BEC5",
                "#B0BEC5"
               ]
              ]
             }
            ],
            "label": "Topic 28",
            "method": "update"
           },
           {
            "args": [
             {
              "marker.color": [
               [
                "#B0BEC5",
                "#B0BEC5",
                "#B0BEC5",
                "#B0BEC5",
                "#B0BEC5",
                "#B0BEC5",
                "#B0BEC5",
                "#B0BEC5",
                "#B0BEC5",
                "#B0BEC5",
                "#B0BEC5",
                "#B0BEC5",
                "#B0BEC5",
                "#B0BEC5",
                "#B0BEC5",
                "#B0BEC5",
                "#B0BEC5",
                "#B0BEC5",
                "#B0BEC5",
                "#B0BEC5",
                "#B0BEC5",
                "#B0BEC5",
                "#B0BEC5",
                "#B0BEC5",
                "#B0BEC5",
                "#B0BEC5",
                "#B0BEC5",
                "#B0BEC5",
                "#B0BEC5",
                "red",
                "#B0BEC5",
                "#B0BEC5",
                "#B0BEC5",
                "#B0BEC5",
                "#B0BEC5",
                "#B0BEC5",
                "#B0BEC5",
                "#B0BEC5",
                "#B0BEC5",
                "#B0BEC5",
                "#B0BEC5",
                "#B0BEC5",
                "#B0BEC5",
                "#B0BEC5",
                "#B0BEC5",
                "#B0BEC5"
               ]
              ]
             }
            ],
            "label": "Topic 29",
            "method": "update"
           },
           {
            "args": [
             {
              "marker.color": [
               [
                "#B0BEC5",
                "#B0BEC5",
                "#B0BEC5",
                "#B0BEC5",
                "#B0BEC5",
                "#B0BEC5",
                "#B0BEC5",
                "#B0BEC5",
                "#B0BEC5",
                "#B0BEC5",
                "#B0BEC5",
                "#B0BEC5",
                "#B0BEC5",
                "#B0BEC5",
                "#B0BEC5",
                "#B0BEC5",
                "#B0BEC5",
                "#B0BEC5",
                "#B0BEC5",
                "#B0BEC5",
                "#B0BEC5",
                "#B0BEC5",
                "#B0BEC5",
                "#B0BEC5",
                "#B0BEC5",
                "#B0BEC5",
                "#B0BEC5",
                "#B0BEC5",
                "#B0BEC5",
                "#B0BEC5",
                "red",
                "#B0BEC5",
                "#B0BEC5",
                "#B0BEC5",
                "#B0BEC5",
                "#B0BEC5",
                "#B0BEC5",
                "#B0BEC5",
                "#B0BEC5",
                "#B0BEC5",
                "#B0BEC5",
                "#B0BEC5",
                "#B0BEC5",
                "#B0BEC5",
                "#B0BEC5",
                "#B0BEC5"
               ]
              ]
             }
            ],
            "label": "Topic 30",
            "method": "update"
           },
           {
            "args": [
             {
              "marker.color": [
               [
                "#B0BEC5",
                "#B0BEC5",
                "#B0BEC5",
                "#B0BEC5",
                "#B0BEC5",
                "#B0BEC5",
                "#B0BEC5",
                "#B0BEC5",
                "#B0BEC5",
                "#B0BEC5",
                "#B0BEC5",
                "#B0BEC5",
                "#B0BEC5",
                "#B0BEC5",
                "#B0BEC5",
                "#B0BEC5",
                "#B0BEC5",
                "#B0BEC5",
                "#B0BEC5",
                "#B0BEC5",
                "#B0BEC5",
                "#B0BEC5",
                "#B0BEC5",
                "#B0BEC5",
                "#B0BEC5",
                "#B0BEC5",
                "#B0BEC5",
                "#B0BEC5",
                "#B0BEC5",
                "#B0BEC5",
                "#B0BEC5",
                "red",
                "#B0BEC5",
                "#B0BEC5",
                "#B0BEC5",
                "#B0BEC5",
                "#B0BEC5",
                "#B0BEC5",
                "#B0BEC5",
                "#B0BEC5",
                "#B0BEC5",
                "#B0BEC5",
                "#B0BEC5",
                "#B0BEC5",
                "#B0BEC5",
                "#B0BEC5"
               ]
              ]
             }
            ],
            "label": "Topic 31",
            "method": "update"
           },
           {
            "args": [
             {
              "marker.color": [
               [
                "#B0BEC5",
                "#B0BEC5",
                "#B0BEC5",
                "#B0BEC5",
                "#B0BEC5",
                "#B0BEC5",
                "#B0BEC5",
                "#B0BEC5",
                "#B0BEC5",
                "#B0BEC5",
                "#B0BEC5",
                "#B0BEC5",
                "#B0BEC5",
                "#B0BEC5",
                "#B0BEC5",
                "#B0BEC5",
                "#B0BEC5",
                "#B0BEC5",
                "#B0BEC5",
                "#B0BEC5",
                "#B0BEC5",
                "#B0BEC5",
                "#B0BEC5",
                "#B0BEC5",
                "#B0BEC5",
                "#B0BEC5",
                "#B0BEC5",
                "#B0BEC5",
                "#B0BEC5",
                "#B0BEC5",
                "#B0BEC5",
                "#B0BEC5",
                "red",
                "#B0BEC5",
                "#B0BEC5",
                "#B0BEC5",
                "#B0BEC5",
                "#B0BEC5",
                "#B0BEC5",
                "#B0BEC5",
                "#B0BEC5",
                "#B0BEC5",
                "#B0BEC5",
                "#B0BEC5",
                "#B0BEC5",
                "#B0BEC5"
               ]
              ]
             }
            ],
            "label": "Topic 32",
            "method": "update"
           },
           {
            "args": [
             {
              "marker.color": [
               [
                "#B0BEC5",
                "#B0BEC5",
                "#B0BEC5",
                "#B0BEC5",
                "#B0BEC5",
                "#B0BEC5",
                "#B0BEC5",
                "#B0BEC5",
                "#B0BEC5",
                "#B0BEC5",
                "#B0BEC5",
                "#B0BEC5",
                "#B0BEC5",
                "#B0BEC5",
                "#B0BEC5",
                "#B0BEC5",
                "#B0BEC5",
                "#B0BEC5",
                "#B0BEC5",
                "#B0BEC5",
                "#B0BEC5",
                "#B0BEC5",
                "#B0BEC5",
                "#B0BEC5",
                "#B0BEC5",
                "#B0BEC5",
                "#B0BEC5",
                "#B0BEC5",
                "#B0BEC5",
                "#B0BEC5",
                "#B0BEC5",
                "#B0BEC5",
                "#B0BEC5",
                "red",
                "#B0BEC5",
                "#B0BEC5",
                "#B0BEC5",
                "#B0BEC5",
                "#B0BEC5",
                "#B0BEC5",
                "#B0BEC5",
                "#B0BEC5",
                "#B0BEC5",
                "#B0BEC5",
                "#B0BEC5",
                "#B0BEC5"
               ]
              ]
             }
            ],
            "label": "Topic 33",
            "method": "update"
           },
           {
            "args": [
             {
              "marker.color": [
               [
                "#B0BEC5",
                "#B0BEC5",
                "#B0BEC5",
                "#B0BEC5",
                "#B0BEC5",
                "#B0BEC5",
                "#B0BEC5",
                "#B0BEC5",
                "#B0BEC5",
                "#B0BEC5",
                "#B0BEC5",
                "#B0BEC5",
                "#B0BEC5",
                "#B0BEC5",
                "#B0BEC5",
                "#B0BEC5",
                "#B0BEC5",
                "#B0BEC5",
                "#B0BEC5",
                "#B0BEC5",
                "#B0BEC5",
                "#B0BEC5",
                "#B0BEC5",
                "#B0BEC5",
                "#B0BEC5",
                "#B0BEC5",
                "#B0BEC5",
                "#B0BEC5",
                "#B0BEC5",
                "#B0BEC5",
                "#B0BEC5",
                "#B0BEC5",
                "#B0BEC5",
                "#B0BEC5",
                "red",
                "#B0BEC5",
                "#B0BEC5",
                "#B0BEC5",
                "#B0BEC5",
                "#B0BEC5",
                "#B0BEC5",
                "#B0BEC5",
                "#B0BEC5",
                "#B0BEC5",
                "#B0BEC5",
                "#B0BEC5"
               ]
              ]
             }
            ],
            "label": "Topic 34",
            "method": "update"
           },
           {
            "args": [
             {
              "marker.color": [
               [
                "#B0BEC5",
                "#B0BEC5",
                "#B0BEC5",
                "#B0BEC5",
                "#B0BEC5",
                "#B0BEC5",
                "#B0BEC5",
                "#B0BEC5",
                "#B0BEC5",
                "#B0BEC5",
                "#B0BEC5",
                "#B0BEC5",
                "#B0BEC5",
                "#B0BEC5",
                "#B0BEC5",
                "#B0BEC5",
                "#B0BEC5",
                "#B0BEC5",
                "#B0BEC5",
                "#B0BEC5",
                "#B0BEC5",
                "#B0BEC5",
                "#B0BEC5",
                "#B0BEC5",
                "#B0BEC5",
                "#B0BEC5",
                "#B0BEC5",
                "#B0BEC5",
                "#B0BEC5",
                "#B0BEC5",
                "#B0BEC5",
                "#B0BEC5",
                "#B0BEC5",
                "#B0BEC5",
                "#B0BEC5",
                "red",
                "#B0BEC5",
                "#B0BEC5",
                "#B0BEC5",
                "#B0BEC5",
                "#B0BEC5",
                "#B0BEC5",
                "#B0BEC5",
                "#B0BEC5",
                "#B0BEC5",
                "#B0BEC5"
               ]
              ]
             }
            ],
            "label": "Topic 35",
            "method": "update"
           },
           {
            "args": [
             {
              "marker.color": [
               [
                "#B0BEC5",
                "#B0BEC5",
                "#B0BEC5",
                "#B0BEC5",
                "#B0BEC5",
                "#B0BEC5",
                "#B0BEC5",
                "#B0BEC5",
                "#B0BEC5",
                "#B0BEC5",
                "#B0BEC5",
                "#B0BEC5",
                "#B0BEC5",
                "#B0BEC5",
                "#B0BEC5",
                "#B0BEC5",
                "#B0BEC5",
                "#B0BEC5",
                "#B0BEC5",
                "#B0BEC5",
                "#B0BEC5",
                "#B0BEC5",
                "#B0BEC5",
                "#B0BEC5",
                "#B0BEC5",
                "#B0BEC5",
                "#B0BEC5",
                "#B0BEC5",
                "#B0BEC5",
                "#B0BEC5",
                "#B0BEC5",
                "#B0BEC5",
                "#B0BEC5",
                "#B0BEC5",
                "#B0BEC5",
                "#B0BEC5",
                "red",
                "#B0BEC5",
                "#B0BEC5",
                "#B0BEC5",
                "#B0BEC5",
                "#B0BEC5",
                "#B0BEC5",
                "#B0BEC5",
                "#B0BEC5",
                "#B0BEC5"
               ]
              ]
             }
            ],
            "label": "Topic 36",
            "method": "update"
           },
           {
            "args": [
             {
              "marker.color": [
               [
                "#B0BEC5",
                "#B0BEC5",
                "#B0BEC5",
                "#B0BEC5",
                "#B0BEC5",
                "#B0BEC5",
                "#B0BEC5",
                "#B0BEC5",
                "#B0BEC5",
                "#B0BEC5",
                "#B0BEC5",
                "#B0BEC5",
                "#B0BEC5",
                "#B0BEC5",
                "#B0BEC5",
                "#B0BEC5",
                "#B0BEC5",
                "#B0BEC5",
                "#B0BEC5",
                "#B0BEC5",
                "#B0BEC5",
                "#B0BEC5",
                "#B0BEC5",
                "#B0BEC5",
                "#B0BEC5",
                "#B0BEC5",
                "#B0BEC5",
                "#B0BEC5",
                "#B0BEC5",
                "#B0BEC5",
                "#B0BEC5",
                "#B0BEC5",
                "#B0BEC5",
                "#B0BEC5",
                "#B0BEC5",
                "#B0BEC5",
                "#B0BEC5",
                "red",
                "#B0BEC5",
                "#B0BEC5",
                "#B0BEC5",
                "#B0BEC5",
                "#B0BEC5",
                "#B0BEC5",
                "#B0BEC5",
                "#B0BEC5"
               ]
              ]
             }
            ],
            "label": "Topic 37",
            "method": "update"
           },
           {
            "args": [
             {
              "marker.color": [
               [
                "#B0BEC5",
                "#B0BEC5",
                "#B0BEC5",
                "#B0BEC5",
                "#B0BEC5",
                "#B0BEC5",
                "#B0BEC5",
                "#B0BEC5",
                "#B0BEC5",
                "#B0BEC5",
                "#B0BEC5",
                "#B0BEC5",
                "#B0BEC5",
                "#B0BEC5",
                "#B0BEC5",
                "#B0BEC5",
                "#B0BEC5",
                "#B0BEC5",
                "#B0BEC5",
                "#B0BEC5",
                "#B0BEC5",
                "#B0BEC5",
                "#B0BEC5",
                "#B0BEC5",
                "#B0BEC5",
                "#B0BEC5",
                "#B0BEC5",
                "#B0BEC5",
                "#B0BEC5",
                "#B0BEC5",
                "#B0BEC5",
                "#B0BEC5",
                "#B0BEC5",
                "#B0BEC5",
                "#B0BEC5",
                "#B0BEC5",
                "#B0BEC5",
                "#B0BEC5",
                "red",
                "#B0BEC5",
                "#B0BEC5",
                "#B0BEC5",
                "#B0BEC5",
                "#B0BEC5",
                "#B0BEC5",
                "#B0BEC5"
               ]
              ]
             }
            ],
            "label": "Topic 38",
            "method": "update"
           },
           {
            "args": [
             {
              "marker.color": [
               [
                "#B0BEC5",
                "#B0BEC5",
                "#B0BEC5",
                "#B0BEC5",
                "#B0BEC5",
                "#B0BEC5",
                "#B0BEC5",
                "#B0BEC5",
                "#B0BEC5",
                "#B0BEC5",
                "#B0BEC5",
                "#B0BEC5",
                "#B0BEC5",
                "#B0BEC5",
                "#B0BEC5",
                "#B0BEC5",
                "#B0BEC5",
                "#B0BEC5",
                "#B0BEC5",
                "#B0BEC5",
                "#B0BEC5",
                "#B0BEC5",
                "#B0BEC5",
                "#B0BEC5",
                "#B0BEC5",
                "#B0BEC5",
                "#B0BEC5",
                "#B0BEC5",
                "#B0BEC5",
                "#B0BEC5",
                "#B0BEC5",
                "#B0BEC5",
                "#B0BEC5",
                "#B0BEC5",
                "#B0BEC5",
                "#B0BEC5",
                "#B0BEC5",
                "#B0BEC5",
                "#B0BEC5",
                "red",
                "#B0BEC5",
                "#B0BEC5",
                "#B0BEC5",
                "#B0BEC5",
                "#B0BEC5",
                "#B0BEC5"
               ]
              ]
             }
            ],
            "label": "Topic 39",
            "method": "update"
           },
           {
            "args": [
             {
              "marker.color": [
               [
                "#B0BEC5",
                "#B0BEC5",
                "#B0BEC5",
                "#B0BEC5",
                "#B0BEC5",
                "#B0BEC5",
                "#B0BEC5",
                "#B0BEC5",
                "#B0BEC5",
                "#B0BEC5",
                "#B0BEC5",
                "#B0BEC5",
                "#B0BEC5",
                "#B0BEC5",
                "#B0BEC5",
                "#B0BEC5",
                "#B0BEC5",
                "#B0BEC5",
                "#B0BEC5",
                "#B0BEC5",
                "#B0BEC5",
                "#B0BEC5",
                "#B0BEC5",
                "#B0BEC5",
                "#B0BEC5",
                "#B0BEC5",
                "#B0BEC5",
                "#B0BEC5",
                "#B0BEC5",
                "#B0BEC5",
                "#B0BEC5",
                "#B0BEC5",
                "#B0BEC5",
                "#B0BEC5",
                "#B0BEC5",
                "#B0BEC5",
                "#B0BEC5",
                "#B0BEC5",
                "#B0BEC5",
                "#B0BEC5",
                "red",
                "#B0BEC5",
                "#B0BEC5",
                "#B0BEC5",
                "#B0BEC5",
                "#B0BEC5"
               ]
              ]
             }
            ],
            "label": "Topic 40",
            "method": "update"
           },
           {
            "args": [
             {
              "marker.color": [
               [
                "#B0BEC5",
                "#B0BEC5",
                "#B0BEC5",
                "#B0BEC5",
                "#B0BEC5",
                "#B0BEC5",
                "#B0BEC5",
                "#B0BEC5",
                "#B0BEC5",
                "#B0BEC5",
                "#B0BEC5",
                "#B0BEC5",
                "#B0BEC5",
                "#B0BEC5",
                "#B0BEC5",
                "#B0BEC5",
                "#B0BEC5",
                "#B0BEC5",
                "#B0BEC5",
                "#B0BEC5",
                "#B0BEC5",
                "#B0BEC5",
                "#B0BEC5",
                "#B0BEC5",
                "#B0BEC5",
                "#B0BEC5",
                "#B0BEC5",
                "#B0BEC5",
                "#B0BEC5",
                "#B0BEC5",
                "#B0BEC5",
                "#B0BEC5",
                "#B0BEC5",
                "#B0BEC5",
                "#B0BEC5",
                "#B0BEC5",
                "#B0BEC5",
                "#B0BEC5",
                "#B0BEC5",
                "#B0BEC5",
                "#B0BEC5",
                "red",
                "#B0BEC5",
                "#B0BEC5",
                "#B0BEC5",
                "#B0BEC5"
               ]
              ]
             }
            ],
            "label": "Topic 41",
            "method": "update"
           },
           {
            "args": [
             {
              "marker.color": [
               [
                "#B0BEC5",
                "#B0BEC5",
                "#B0BEC5",
                "#B0BEC5",
                "#B0BEC5",
                "#B0BEC5",
                "#B0BEC5",
                "#B0BEC5",
                "#B0BEC5",
                "#B0BEC5",
                "#B0BEC5",
                "#B0BEC5",
                "#B0BEC5",
                "#B0BEC5",
                "#B0BEC5",
                "#B0BEC5",
                "#B0BEC5",
                "#B0BEC5",
                "#B0BEC5",
                "#B0BEC5",
                "#B0BEC5",
                "#B0BEC5",
                "#B0BEC5",
                "#B0BEC5",
                "#B0BEC5",
                "#B0BEC5",
                "#B0BEC5",
                "#B0BEC5",
                "#B0BEC5",
                "#B0BEC5",
                "#B0BEC5",
                "#B0BEC5",
                "#B0BEC5",
                "#B0BEC5",
                "#B0BEC5",
                "#B0BEC5",
                "#B0BEC5",
                "#B0BEC5",
                "#B0BEC5",
                "#B0BEC5",
                "#B0BEC5",
                "#B0BEC5",
                "red",
                "#B0BEC5",
                "#B0BEC5",
                "#B0BEC5"
               ]
              ]
             }
            ],
            "label": "Topic 42",
            "method": "update"
           },
           {
            "args": [
             {
              "marker.color": [
               [
                "#B0BEC5",
                "#B0BEC5",
                "#B0BEC5",
                "#B0BEC5",
                "#B0BEC5",
                "#B0BEC5",
                "#B0BEC5",
                "#B0BEC5",
                "#B0BEC5",
                "#B0BEC5",
                "#B0BEC5",
                "#B0BEC5",
                "#B0BEC5",
                "#B0BEC5",
                "#B0BEC5",
                "#B0BEC5",
                "#B0BEC5",
                "#B0BEC5",
                "#B0BEC5",
                "#B0BEC5",
                "#B0BEC5",
                "#B0BEC5",
                "#B0BEC5",
                "#B0BEC5",
                "#B0BEC5",
                "#B0BEC5",
                "#B0BEC5",
                "#B0BEC5",
                "#B0BEC5",
                "#B0BEC5",
                "#B0BEC5",
                "#B0BEC5",
                "#B0BEC5",
                "#B0BEC5",
                "#B0BEC5",
                "#B0BEC5",
                "#B0BEC5",
                "#B0BEC5",
                "#B0BEC5",
                "#B0BEC5",
                "#B0BEC5",
                "#B0BEC5",
                "#B0BEC5",
                "red",
                "#B0BEC5",
                "#B0BEC5"
               ]
              ]
             }
            ],
            "label": "Topic 43",
            "method": "update"
           },
           {
            "args": [
             {
              "marker.color": [
               [
                "#B0BEC5",
                "#B0BEC5",
                "#B0BEC5",
                "#B0BEC5",
                "#B0BEC5",
                "#B0BEC5",
                "#B0BEC5",
                "#B0BEC5",
                "#B0BEC5",
                "#B0BEC5",
                "#B0BEC5",
                "#B0BEC5",
                "#B0BEC5",
                "#B0BEC5",
                "#B0BEC5",
                "#B0BEC5",
                "#B0BEC5",
                "#B0BEC5",
                "#B0BEC5",
                "#B0BEC5",
                "#B0BEC5",
                "#B0BEC5",
                "#B0BEC5",
                "#B0BEC5",
                "#B0BEC5",
                "#B0BEC5",
                "#B0BEC5",
                "#B0BEC5",
                "#B0BEC5",
                "#B0BEC5",
                "#B0BEC5",
                "#B0BEC5",
                "#B0BEC5",
                "#B0BEC5",
                "#B0BEC5",
                "#B0BEC5",
                "#B0BEC5",
                "#B0BEC5",
                "#B0BEC5",
                "#B0BEC5",
                "#B0BEC5",
                "#B0BEC5",
                "#B0BEC5",
                "#B0BEC5",
                "red",
                "#B0BEC5"
               ]
              ]
             }
            ],
            "label": "Topic 44",
            "method": "update"
           },
           {
            "args": [
             {
              "marker.color": [
               [
                "#B0BEC5",
                "#B0BEC5",
                "#B0BEC5",
                "#B0BEC5",
                "#B0BEC5",
                "#B0BEC5",
                "#B0BEC5",
                "#B0BEC5",
                "#B0BEC5",
                "#B0BEC5",
                "#B0BEC5",
                "#B0BEC5",
                "#B0BEC5",
                "#B0BEC5",
                "#B0BEC5",
                "#B0BEC5",
                "#B0BEC5",
                "#B0BEC5",
                "#B0BEC5",
                "#B0BEC5",
                "#B0BEC5",
                "#B0BEC5",
                "#B0BEC5",
                "#B0BEC5",
                "#B0BEC5",
                "#B0BEC5",
                "#B0BEC5",
                "#B0BEC5",
                "#B0BEC5",
                "#B0BEC5",
                "#B0BEC5",
                "#B0BEC5",
                "#B0BEC5",
                "#B0BEC5",
                "#B0BEC5",
                "#B0BEC5",
                "#B0BEC5",
                "#B0BEC5",
                "#B0BEC5",
                "#B0BEC5",
                "#B0BEC5",
                "#B0BEC5",
                "#B0BEC5",
                "#B0BEC5",
                "#B0BEC5",
                "red"
               ]
              ]
             }
            ],
            "label": "Topic 45",
            "method": "update"
           }
          ]
         }
        ],
        "template": {
         "data": {
          "bar": [
           {
            "error_x": {
             "color": "rgb(36,36,36)"
            },
            "error_y": {
             "color": "rgb(36,36,36)"
            },
            "marker": {
             "line": {
              "color": "white",
              "width": 0.5
             },
             "pattern": {
              "fillmode": "overlay",
              "size": 10,
              "solidity": 0.2
             }
            },
            "type": "bar"
           }
          ],
          "barpolar": [
           {
            "marker": {
             "line": {
              "color": "white",
              "width": 0.5
             },
             "pattern": {
              "fillmode": "overlay",
              "size": 10,
              "solidity": 0.2
             }
            },
            "type": "barpolar"
           }
          ],
          "carpet": [
           {
            "aaxis": {
             "endlinecolor": "rgb(36,36,36)",
             "gridcolor": "white",
             "linecolor": "white",
             "minorgridcolor": "white",
             "startlinecolor": "rgb(36,36,36)"
            },
            "baxis": {
             "endlinecolor": "rgb(36,36,36)",
             "gridcolor": "white",
             "linecolor": "white",
             "minorgridcolor": "white",
             "startlinecolor": "rgb(36,36,36)"
            },
            "type": "carpet"
           }
          ],
          "choropleth": [
           {
            "colorbar": {
             "outlinewidth": 1,
             "tickcolor": "rgb(36,36,36)",
             "ticks": "outside"
            },
            "type": "choropleth"
           }
          ],
          "contour": [
           {
            "colorbar": {
             "outlinewidth": 1,
             "tickcolor": "rgb(36,36,36)",
             "ticks": "outside"
            },
            "colorscale": [
             [
              0,
              "#440154"
             ],
             [
              0.1111111111111111,
              "#482878"
             ],
             [
              0.2222222222222222,
              "#3e4989"
             ],
             [
              0.3333333333333333,
              "#31688e"
             ],
             [
              0.4444444444444444,
              "#26828e"
             ],
             [
              0.5555555555555556,
              "#1f9e89"
             ],
             [
              0.6666666666666666,
              "#35b779"
             ],
             [
              0.7777777777777778,
              "#6ece58"
             ],
             [
              0.8888888888888888,
              "#b5de2b"
             ],
             [
              1,
              "#fde725"
             ]
            ],
            "type": "contour"
           }
          ],
          "contourcarpet": [
           {
            "colorbar": {
             "outlinewidth": 1,
             "tickcolor": "rgb(36,36,36)",
             "ticks": "outside"
            },
            "type": "contourcarpet"
           }
          ],
          "heatmap": [
           {
            "colorbar": {
             "outlinewidth": 1,
             "tickcolor": "rgb(36,36,36)",
             "ticks": "outside"
            },
            "colorscale": [
             [
              0,
              "#440154"
             ],
             [
              0.1111111111111111,
              "#482878"
             ],
             [
              0.2222222222222222,
              "#3e4989"
             ],
             [
              0.3333333333333333,
              "#31688e"
             ],
             [
              0.4444444444444444,
              "#26828e"
             ],
             [
              0.5555555555555556,
              "#1f9e89"
             ],
             [
              0.6666666666666666,
              "#35b779"
             ],
             [
              0.7777777777777778,
              "#6ece58"
             ],
             [
              0.8888888888888888,
              "#b5de2b"
             ],
             [
              1,
              "#fde725"
             ]
            ],
            "type": "heatmap"
           }
          ],
          "histogram": [
           {
            "marker": {
             "line": {
              "color": "white",
              "width": 0.6
             }
            },
            "type": "histogram"
           }
          ],
          "histogram2d": [
           {
            "colorbar": {
             "outlinewidth": 1,
             "tickcolor": "rgb(36,36,36)",
             "ticks": "outside"
            },
            "colorscale": [
             [
              0,
              "#440154"
             ],
             [
              0.1111111111111111,
              "#482878"
             ],
             [
              0.2222222222222222,
              "#3e4989"
             ],
             [
              0.3333333333333333,
              "#31688e"
             ],
             [
              0.4444444444444444,
              "#26828e"
             ],
             [
              0.5555555555555556,
              "#1f9e89"
             ],
             [
              0.6666666666666666,
              "#35b779"
             ],
             [
              0.7777777777777778,
              "#6ece58"
             ],
             [
              0.8888888888888888,
              "#b5de2b"
             ],
             [
              1,
              "#fde725"
             ]
            ],
            "type": "histogram2d"
           }
          ],
          "histogram2dcontour": [
           {
            "colorbar": {
             "outlinewidth": 1,
             "tickcolor": "rgb(36,36,36)",
             "ticks": "outside"
            },
            "colorscale": [
             [
              0,
              "#440154"
             ],
             [
              0.1111111111111111,
              "#482878"
             ],
             [
              0.2222222222222222,
              "#3e4989"
             ],
             [
              0.3333333333333333,
              "#31688e"
             ],
             [
              0.4444444444444444,
              "#26828e"
             ],
             [
              0.5555555555555556,
              "#1f9e89"
             ],
             [
              0.6666666666666666,
              "#35b779"
             ],
             [
              0.7777777777777778,
              "#6ece58"
             ],
             [
              0.8888888888888888,
              "#b5de2b"
             ],
             [
              1,
              "#fde725"
             ]
            ],
            "type": "histogram2dcontour"
           }
          ],
          "mesh3d": [
           {
            "colorbar": {
             "outlinewidth": 1,
             "tickcolor": "rgb(36,36,36)",
             "ticks": "outside"
            },
            "type": "mesh3d"
           }
          ],
          "parcoords": [
           {
            "line": {
             "colorbar": {
              "outlinewidth": 1,
              "tickcolor": "rgb(36,36,36)",
              "ticks": "outside"
             }
            },
            "type": "parcoords"
           }
          ],
          "pie": [
           {
            "automargin": true,
            "type": "pie"
           }
          ],
          "scatter": [
           {
            "fillpattern": {
             "fillmode": "overlay",
             "size": 10,
             "solidity": 0.2
            },
            "type": "scatter"
           }
          ],
          "scatter3d": [
           {
            "line": {
             "colorbar": {
              "outlinewidth": 1,
              "tickcolor": "rgb(36,36,36)",
              "ticks": "outside"
             }
            },
            "marker": {
             "colorbar": {
              "outlinewidth": 1,
              "tickcolor": "rgb(36,36,36)",
              "ticks": "outside"
             }
            },
            "type": "scatter3d"
           }
          ],
          "scattercarpet": [
           {
            "marker": {
             "colorbar": {
              "outlinewidth": 1,
              "tickcolor": "rgb(36,36,36)",
              "ticks": "outside"
             }
            },
            "type": "scattercarpet"
           }
          ],
          "scattergeo": [
           {
            "marker": {
             "colorbar": {
              "outlinewidth": 1,
              "tickcolor": "rgb(36,36,36)",
              "ticks": "outside"
             }
            },
            "type": "scattergeo"
           }
          ],
          "scattergl": [
           {
            "marker": {
             "colorbar": {
              "outlinewidth": 1,
              "tickcolor": "rgb(36,36,36)",
              "ticks": "outside"
             }
            },
            "type": "scattergl"
           }
          ],
          "scattermap": [
           {
            "marker": {
             "colorbar": {
              "outlinewidth": 1,
              "tickcolor": "rgb(36,36,36)",
              "ticks": "outside"
             }
            },
            "type": "scattermap"
           }
          ],
          "scattermapbox": [
           {
            "marker": {
             "colorbar": {
              "outlinewidth": 1,
              "tickcolor": "rgb(36,36,36)",
              "ticks": "outside"
             }
            },
            "type": "scattermapbox"
           }
          ],
          "scatterpolar": [
           {
            "marker": {
             "colorbar": {
              "outlinewidth": 1,
              "tickcolor": "rgb(36,36,36)",
              "ticks": "outside"
             }
            },
            "type": "scatterpolar"
           }
          ],
          "scatterpolargl": [
           {
            "marker": {
             "colorbar": {
              "outlinewidth": 1,
              "tickcolor": "rgb(36,36,36)",
              "ticks": "outside"
             }
            },
            "type": "scatterpolargl"
           }
          ],
          "scatterternary": [
           {
            "marker": {
             "colorbar": {
              "outlinewidth": 1,
              "tickcolor": "rgb(36,36,36)",
              "ticks": "outside"
             }
            },
            "type": "scatterternary"
           }
          ],
          "surface": [
           {
            "colorbar": {
             "outlinewidth": 1,
             "tickcolor": "rgb(36,36,36)",
             "ticks": "outside"
            },
            "colorscale": [
             [
              0,
              "#440154"
             ],
             [
              0.1111111111111111,
              "#482878"
             ],
             [
              0.2222222222222222,
              "#3e4989"
             ],
             [
              0.3333333333333333,
              "#31688e"
             ],
             [
              0.4444444444444444,
              "#26828e"
             ],
             [
              0.5555555555555556,
              "#1f9e89"
             ],
             [
              0.6666666666666666,
              "#35b779"
             ],
             [
              0.7777777777777778,
              "#6ece58"
             ],
             [
              0.8888888888888888,
              "#b5de2b"
             ],
             [
              1,
              "#fde725"
             ]
            ],
            "type": "surface"
           }
          ],
          "table": [
           {
            "cells": {
             "fill": {
              "color": "rgb(237,237,237)"
             },
             "line": {
              "color": "white"
             }
            },
            "header": {
             "fill": {
              "color": "rgb(217,217,217)"
             },
             "line": {
              "color": "white"
             }
            },
            "type": "table"
           }
          ]
         },
         "layout": {
          "annotationdefaults": {
           "arrowhead": 0,
           "arrowwidth": 1
          },
          "autotypenumbers": "strict",
          "coloraxis": {
           "colorbar": {
            "outlinewidth": 1,
            "tickcolor": "rgb(36,36,36)",
            "ticks": "outside"
           }
          },
          "colorscale": {
           "diverging": [
            [
             0,
             "rgb(103,0,31)"
            ],
            [
             0.1,
             "rgb(178,24,43)"
            ],
            [
             0.2,
             "rgb(214,96,77)"
            ],
            [
             0.3,
             "rgb(244,165,130)"
            ],
            [
             0.4,
             "rgb(253,219,199)"
            ],
            [
             0.5,
             "rgb(247,247,247)"
            ],
            [
             0.6,
             "rgb(209,229,240)"
            ],
            [
             0.7,
             "rgb(146,197,222)"
            ],
            [
             0.8,
             "rgb(67,147,195)"
            ],
            [
             0.9,
             "rgb(33,102,172)"
            ],
            [
             1,
             "rgb(5,48,97)"
            ]
           ],
           "sequential": [
            [
             0,
             "#440154"
            ],
            [
             0.1111111111111111,
             "#482878"
            ],
            [
             0.2222222222222222,
             "#3e4989"
            ],
            [
             0.3333333333333333,
             "#31688e"
            ],
            [
             0.4444444444444444,
             "#26828e"
            ],
            [
             0.5555555555555556,
             "#1f9e89"
            ],
            [
             0.6666666666666666,
             "#35b779"
            ],
            [
             0.7777777777777778,
             "#6ece58"
            ],
            [
             0.8888888888888888,
             "#b5de2b"
            ],
            [
             1,
             "#fde725"
            ]
           ],
           "sequentialminus": [
            [
             0,
             "#440154"
            ],
            [
             0.1111111111111111,
             "#482878"
            ],
            [
             0.2222222222222222,
             "#3e4989"
            ],
            [
             0.3333333333333333,
             "#31688e"
            ],
            [
             0.4444444444444444,
             "#26828e"
            ],
            [
             0.5555555555555556,
             "#1f9e89"
            ],
            [
             0.6666666666666666,
             "#35b779"
            ],
            [
             0.7777777777777778,
             "#6ece58"
            ],
            [
             0.8888888888888888,
             "#b5de2b"
            ],
            [
             1,
             "#fde725"
            ]
           ]
          },
          "colorway": [
           "#1F77B4",
           "#FF7F0E",
           "#2CA02C",
           "#D62728",
           "#9467BD",
           "#8C564B",
           "#E377C2",
           "#7F7F7F",
           "#BCBD22",
           "#17BECF"
          ],
          "font": {
           "color": "rgb(36,36,36)"
          },
          "geo": {
           "bgcolor": "white",
           "lakecolor": "white",
           "landcolor": "white",
           "showlakes": true,
           "showland": true,
           "subunitcolor": "white"
          },
          "hoverlabel": {
           "align": "left"
          },
          "hovermode": "closest",
          "mapbox": {
           "style": "light"
          },
          "paper_bgcolor": "white",
          "plot_bgcolor": "white",
          "polar": {
           "angularaxis": {
            "gridcolor": "rgb(232,232,232)",
            "linecolor": "rgb(36,36,36)",
            "showgrid": false,
            "showline": true,
            "ticks": "outside"
           },
           "bgcolor": "white",
           "radialaxis": {
            "gridcolor": "rgb(232,232,232)",
            "linecolor": "rgb(36,36,36)",
            "showgrid": false,
            "showline": true,
            "ticks": "outside"
           }
          },
          "scene": {
           "xaxis": {
            "backgroundcolor": "white",
            "gridcolor": "rgb(232,232,232)",
            "gridwidth": 2,
            "linecolor": "rgb(36,36,36)",
            "showbackground": true,
            "showgrid": false,
            "showline": true,
            "ticks": "outside",
            "zeroline": false,
            "zerolinecolor": "rgb(36,36,36)"
           },
           "yaxis": {
            "backgroundcolor": "white",
            "gridcolor": "rgb(232,232,232)",
            "gridwidth": 2,
            "linecolor": "rgb(36,36,36)",
            "showbackground": true,
            "showgrid": false,
            "showline": true,
            "ticks": "outside",
            "zeroline": false,
            "zerolinecolor": "rgb(36,36,36)"
           },
           "zaxis": {
            "backgroundcolor": "white",
            "gridcolor": "rgb(232,232,232)",
            "gridwidth": 2,
            "linecolor": "rgb(36,36,36)",
            "showbackground": true,
            "showgrid": false,
            "showline": true,
            "ticks": "outside",
            "zeroline": false,
            "zerolinecolor": "rgb(36,36,36)"
           }
          },
          "shapedefaults": {
           "fillcolor": "black",
           "line": {
            "width": 0
           },
           "opacity": 0.3
          },
          "ternary": {
           "aaxis": {
            "gridcolor": "rgb(232,232,232)",
            "linecolor": "rgb(36,36,36)",
            "showgrid": false,
            "showline": true,
            "ticks": "outside"
           },
           "baxis": {
            "gridcolor": "rgb(232,232,232)",
            "linecolor": "rgb(36,36,36)",
            "showgrid": false,
            "showline": true,
            "ticks": "outside"
           },
           "bgcolor": "white",
           "caxis": {
            "gridcolor": "rgb(232,232,232)",
            "linecolor": "rgb(36,36,36)",
            "showgrid": false,
            "showline": true,
            "ticks": "outside"
           }
          },
          "title": {
           "x": 0.05
          },
          "xaxis": {
           "automargin": true,
           "gridcolor": "rgb(232,232,232)",
           "linecolor": "rgb(36,36,36)",
           "showgrid": false,
           "showline": true,
           "ticks": "outside",
           "title": {
            "standoff": 15
           },
           "zeroline": false,
           "zerolinecolor": "rgb(36,36,36)"
          },
          "yaxis": {
           "automargin": true,
           "gridcolor": "rgb(232,232,232)",
           "linecolor": "rgb(36,36,36)",
           "showgrid": false,
           "showline": true,
           "ticks": "outside",
           "title": {
            "standoff": 15
           },
           "zeroline": false,
           "zerolinecolor": "rgb(36,36,36)"
          }
         }
        },
        "title": {
         "font": {
          "color": "Black",
          "size": 22
         },
         "text": "<b>Intertopic Distance Map</b>",
         "x": 0.5,
         "xanchor": "center",
         "y": 0.95,
         "yanchor": "top"
        },
        "width": 650,
        "xaxis": {
         "anchor": "y",
         "domain": [
          0,
          1
         ],
         "range": [
          -15.081332206726074,
          32.638023376464844
         ],
         "title": {
          "text": ""
         },
         "visible": false
        },
        "yaxis": {
         "anchor": "x",
         "domain": [
          0,
          1
         ],
         "range": [
          -15.618448257446289,
          29.97710418701172
         ],
         "title": {
          "text": ""
         },
         "visible": false
        }
       }
      }
     },
     "metadata": {},
     "output_type": "display_data"
    }
   ],
   "source": [
    "topic_model.visualize_topics(custom_labels=True)\n"
   ]
  },
  {
   "cell_type": "code",
   "execution_count": 41,
   "id": "97e94af5",
   "metadata": {},
   "outputs": [
    {
     "data": {
      "application/vnd.plotly.v1+json": {
       "config": {
        "plotlyServerURL": "https://plot.ly"
       },
       "data": [
        {
         "hoverinfo": "text",
         "marker": {
          "color": "rgb(61,153,112)"
         },
         "mode": "lines",
         "type": "scatter",
         "x": {
          "bdata": "AAAAAAAAAAAyvCEGYEDXPzK8IQZgQNc/AAAAAAAAAAA=",
          "dtype": "f8"
         },
         "xaxis": "x",
         "y": {
          "bdata": "AAAAAAAAFMAAAAAAAAAUwAAAAAAAAC7AAAAAAAAALsA=",
          "dtype": "f8"
         },
         "yaxis": "y"
        },
        {
         "hoverinfo": "text",
         "marker": {
          "color": "rgb(61,153,112)"
         },
         "mode": "lines",
         "type": "scatter",
         "x": {
          "bdata": "AAAAAAAAAABYy7BB4UTTP1jLsEHhRNM/AAAAAAAAAAA=",
          "dtype": "f8"
         },
         "xaxis": "x",
         "y": {
          "bdata": "AAAAAAAAOcAAAAAAAAA5wAAAAAAAgEHAAAAAAACAQcA=",
          "dtype": "f8"
         },
         "yaxis": "y"
        },
        {
         "hoverinfo": "text",
         "marker": {
          "color": "rgb(61,153,112)"
         },
         "mode": "lines",
         "type": "scatter",
         "x": {
          "bdata": "MrwhBmBA1z9e/RqjwPvdP179GqPA+90/WMuwQeFE0z8=",
          "dtype": "f8"
         },
         "xaxis": "x",
         "y": {
          "bdata": "AAAAAAAAJMAAAAAAAAAkwAAAAAAAAD7AAAAAAAAAPsA=",
          "dtype": "f8"
         },
         "yaxis": "y"
        },
        {
         "hoverinfo": "text",
         "marker": {
          "color": "rgb(61,153,112)"
         },
         "mode": "lines",
         "type": "scatter",
         "x": {
          "bdata": "AAAAAAAAAABMCxCB85nMP0wLEIHzmcw/AAAAAAAAAAA=",
          "dtype": "f8"
         },
         "xaxis": "x",
         "y": {
          "bdata": "AAAAAACAS8AAAAAAAIBLwAAAAAAAQFDAAAAAAABAUMA=",
          "dtype": "f8"
         },
         "yaxis": "y"
        },
        {
         "hoverinfo": "text",
         "marker": {
          "color": "rgb(61,153,112)"
         },
         "mode": "lines",
         "type": "scatter",
         "x": {
          "bdata": "AAAAAAAAAADs8xCsUprTP+zzEKxSmtM/TAsQgfOZzD8=",
          "dtype": "f8"
         },
         "xaxis": "x",
         "y": {
          "bdata": "AAAAAACARsAAAAAAAIBGwAAAAAAAAE7AAAAAAAAATsA=",
          "dtype": "f8"
         },
         "yaxis": "y"
        },
        {
         "hoverinfo": "text",
         "marker": {
          "color": "rgb(61,153,112)"
         },
         "mode": "lines",
         "type": "scatter",
         "x": {
          "bdata": "7PMQrFKa0z+BbdjWwYDXP4Ft2NbBgNc/AAAAAAAAAAA=",
          "dtype": "f8"
         },
         "xaxis": "x",
         "y": {
          "bdata": "AAAAAABASsAAAAAAAEBKwAAAAAAAwFLAAAAAAADAUsA=",
          "dtype": "f8"
         },
         "yaxis": "y"
        },
        {
         "hoverinfo": "text",
         "marker": {
          "color": "rgb(61,153,112)"
         },
         "mode": "lines",
         "type": "scatter",
         "x": {
          "bdata": "Xv0ao8D73T94WI44peziP3hYjjil7OI/gW3Y1sGA1z8=",
          "dtype": "f8"
         },
         "xaxis": "x",
         "y": {
          "bdata": "AAAAAAAANMAAAAAAAAA0wAAAAAAA4E/AAAAAAADgT8A=",
          "dtype": "f8"
         },
         "yaxis": "y"
        },
        {
         "hoverinfo": "text",
         "marker": {
          "color": "rgb(61,153,112)"
         },
         "mode": "lines",
         "type": "scatter",
         "x": {
          "bdata": "AAAAAAAAAAAGuimhJErRPwa6KaEkStE/AAAAAAAAAAA=",
          "dtype": "f8"
         },
         "xaxis": "x",
         "y": {
          "bdata": "AAAAAABAWsAAAAAAAEBawAAAAAAAwFzAAAAAAADAXMA=",
          "dtype": "f8"
         },
         "yaxis": "y"
        },
        {
         "hoverinfo": "text",
         "marker": {
          "color": "rgb(61,153,112)"
         },
         "mode": "lines",
         "type": "scatter",
         "x": {
          "bdata": "AAAAAAAAAABLzhONEsDSP0vOE40SwNI/BropoSRK0T8=",
          "dtype": "f8"
         },
         "xaxis": "x",
         "y": {
          "bdata": "AAAAAADAV8AAAAAAAMBXwAAAAAAAgFvAAAAAAACAW8A=",
          "dtype": "f8"
         },
         "yaxis": "y"
        },
        {
         "hoverinfo": "text",
         "marker": {
          "color": "rgb(61,153,112)"
         },
         "mode": "lines",
         "type": "scatter",
         "x": {
          "bdata": "AAAAAAAAAADkrzhqrE/FP+SvOGqsT8U/AAAAAAAAAAA=",
          "dtype": "f8"
         },
         "xaxis": "x",
         "y": {
          "bdata": "AAAAAABgY8AAAAAAAGBjwAAAAAAAoGTAAAAAAACgZMA=",
          "dtype": "f8"
         },
         "yaxis": "y"
        },
        {
         "hoverinfo": "text",
         "marker": {
          "color": "rgb(61,153,112)"
         },
         "mode": "lines",
         "type": "scatter",
         "x": {
          "bdata": "5K84aqxPxT/9b8Ep+xDMP/1vwSn7EMw/AAAAAAAAAAA=",
          "dtype": "f8"
         },
         "xaxis": "x",
         "y": {
          "bdata": "AAAAAAAAZMAAAAAAAABkwAAAAAAA4GXAAAAAAADgZcA=",
          "dtype": "f8"
         },
         "yaxis": "y"
        },
        {
         "hoverinfo": "text",
         "marker": {
          "color": "rgb(61,153,112)"
         },
         "mode": "lines",
         "type": "scatter",
         "x": {
          "bdata": "AAAAAAAAAAD2quIOrN7RP/aq4g6s3tE//W/BKfsQzD8=",
          "dtype": "f8"
         },
         "xaxis": "x",
         "y": {
          "bdata": "AAAAAAAgYsAAAAAAACBiwAAAAAAA8GTAAAAAAADwZMA=",
          "dtype": "f8"
         },
         "yaxis": "y"
        },
        {
         "hoverinfo": "text",
         "marker": {
          "color": "rgb(61,153,112)"
         },
         "mode": "lines",
         "type": "scatter",
         "x": {
          "bdata": "AAAAAAAAAACPzULe5mrUP4/NQt7matQ/9qriDqze0T8=",
          "dtype": "f8"
         },
         "xaxis": "x",
         "y": {
          "bdata": "AAAAAADgYMAAAAAAAOBgwAAAAAAAiGPAAAAAAACIY8A=",
          "dtype": "f8"
         },
         "yaxis": "y"
        },
        {
         "hoverinfo": "text",
         "marker": {
          "color": "rgb(61,153,112)"
         },
         "mode": "lines",
         "type": "scatter",
         "x": {
          "bdata": "AAAAAAAAAABK2gjQd1HVP0raCNB3UdU/AAAAAAAAAAA=",
          "dtype": "f8"
         },
         "xaxis": "x",
         "y": {
          "bdata": "AAAAAAAgZ8AAAAAAACBnwAAAAAAAYGjAAAAAAABgaMA=",
          "dtype": "f8"
         },
         "yaxis": "y"
        },
        {
         "hoverinfo": "text",
         "marker": {
          "color": "rgb(61,153,112)"
         },
         "mode": "lines",
         "type": "scatter",
         "x": {
          "bdata": "j81C3uZq1D+hNlGOo6nZP6E2UY6jqdk/StoI0HdR1T8=",
          "dtype": "f8"
         },
         "xaxis": "x",
         "y": {
          "bdata": "AAAAAAA0YsAAAAAAADRiwAAAAAAAwGfAAAAAAADAZ8A=",
          "dtype": "f8"
         },
         "yaxis": "y"
        },
        {
         "hoverinfo": "text",
         "marker": {
          "color": "rgb(61,153,112)"
         },
         "mode": "lines",
         "type": "scatter",
         "x": {
          "bdata": "AAAAAAAAAACCswyH4qXdP4KzDIfipd0/oTZRjqOp2T8=",
          "dtype": "f8"
         },
         "xaxis": "x",
         "y": {
          "bdata": "AAAAAABAX8AAAAAAAEBfwAAAAAAA+mTAAAAAAAD6ZMA=",
          "dtype": "f8"
         },
         "yaxis": "y"
        },
        {
         "hoverinfo": "text",
         "marker": {
          "color": "rgb(61,153,112)"
         },
         "mode": "lines",
         "type": "scatter",
         "x": {
          "bdata": "AAAAAAAAAAAiUN7rn5nbPyJQ3uufmds/AAAAAAAAAAA=",
          "dtype": "f8"
         },
         "xaxis": "x",
         "y": {
          "bdata": "AAAAAACgacAAAAAAAKBpwAAAAAAA4GrAAAAAAADgasA=",
          "dtype": "f8"
         },
         "yaxis": "y"
        },
        {
         "hoverinfo": "text",
         "marker": {
          "color": "rgb(61,153,112)"
         },
         "mode": "lines",
         "type": "scatter",
         "x": {
          "bdata": "grMMh+Kl3T8rK91F07rfPysr3UXTut8/IlDe65+Z2z8=",
          "dtype": "f8"
         },
         "xaxis": "x",
         "y": {
          "bdata": "AAAAAABNYsAAAAAAAE1iwAAAAAAAQGrAAAAAAABAasA=",
          "dtype": "f8"
         },
         "yaxis": "y"
        },
        {
         "hoverinfo": "text",
         "marker": {
          "color": "rgb(61,153,112)"
         },
         "mode": "lines",
         "type": "scatter",
         "x": {
          "bdata": "S84TjRLA0j9gDVJcmUTgP2ANUlyZROA/KyvdRdO63z8=",
          "dtype": "f8"
         },
         "xaxis": "x",
         "y": {
          "bdata": "AAAAAACgWcAAAAAAAKBZwAAAAACARmbAAAAAAIBGZsA=",
          "dtype": "f8"
         },
         "yaxis": "y"
        },
        {
         "hoverinfo": "text",
         "marker": {
          "color": "rgb(61,153,112)"
         },
         "mode": "lines",
         "type": "scatter",
         "x": {
          "bdata": "AAAAAAAAAADPFM2/rIXgP88Uzb+sheA/YA1SXJlE4D8=",
          "dtype": "f8"
         },
         "xaxis": "x",
         "y": {
          "bdata": "AAAAAABAVcAAAAAAAEBVwAAAAABAi2HAAAAAAECLYcA=",
          "dtype": "f8"
         },
         "yaxis": "y"
        },
        {
         "hoverinfo": "text",
         "marker": {
          "color": "rgb(61,153,112)"
         },
         "mode": "lines",
         "type": "scatter",
         "x": {
          "bdata": "zxTNv6yF4D8Am0KpIBDkPwCbQqkgEOQ/AAAAAAAAAAA=",
          "dtype": "f8"
         },
         "xaxis": "x",
         "y": {
          "bdata": "AAAAAEArXMAAAAAAQCtcwAAAAAAAIGzAAAAAAAAgbMA=",
          "dtype": "f8"
         },
         "yaxis": "y"
        },
        {
         "hoverinfo": "text",
         "marker": {
          "color": "rgb(61,153,112)"
         },
         "mode": "lines",
         "type": "scatter",
         "x": {
          "bdata": "eFiOOKXs4j/nVEZr7AroP+dURmvsCug/AJtCqSAQ5D8=",
          "dtype": "f8"
         },
         "xaxis": "x",
         "y": {
          "bdata": "AAAAAADwRMAAAAAAAPBEwAAAAADQGmXAAAAAANAaZcA=",
          "dtype": "f8"
         },
         "yaxis": "y"
        }
       ],
       "layout": {
        "autosize": false,
        "height": 545,
        "hoverlabel": {
         "bgcolor": "white",
         "font": {
          "family": "Rockwell",
          "size": 16
         }
        },
        "hovermode": "closest",
        "plot_bgcolor": "#ECEFF1",
        "showlegend": false,
        "template": {
         "data": {
          "bar": [
           {
            "error_x": {
             "color": "#2a3f5f"
            },
            "error_y": {
             "color": "#2a3f5f"
            },
            "marker": {
             "line": {
              "color": "white",
              "width": 0.5
             },
             "pattern": {
              "fillmode": "overlay",
              "size": 10,
              "solidity": 0.2
             }
            },
            "type": "bar"
           }
          ],
          "barpolar": [
           {
            "marker": {
             "line": {
              "color": "white",
              "width": 0.5
             },
             "pattern": {
              "fillmode": "overlay",
              "size": 10,
              "solidity": 0.2
             }
            },
            "type": "barpolar"
           }
          ],
          "carpet": [
           {
            "aaxis": {
             "endlinecolor": "#2a3f5f",
             "gridcolor": "#C8D4E3",
             "linecolor": "#C8D4E3",
             "minorgridcolor": "#C8D4E3",
             "startlinecolor": "#2a3f5f"
            },
            "baxis": {
             "endlinecolor": "#2a3f5f",
             "gridcolor": "#C8D4E3",
             "linecolor": "#C8D4E3",
             "minorgridcolor": "#C8D4E3",
             "startlinecolor": "#2a3f5f"
            },
            "type": "carpet"
           }
          ],
          "choropleth": [
           {
            "colorbar": {
             "outlinewidth": 0,
             "ticks": ""
            },
            "type": "choropleth"
           }
          ],
          "contour": [
           {
            "colorbar": {
             "outlinewidth": 0,
             "ticks": ""
            },
            "colorscale": [
             [
              0,
              "#0d0887"
             ],
             [
              0.1111111111111111,
              "#46039f"
             ],
             [
              0.2222222222222222,
              "#7201a8"
             ],
             [
              0.3333333333333333,
              "#9c179e"
             ],
             [
              0.4444444444444444,
              "#bd3786"
             ],
             [
              0.5555555555555556,
              "#d8576b"
             ],
             [
              0.6666666666666666,
              "#ed7953"
             ],
             [
              0.7777777777777778,
              "#fb9f3a"
             ],
             [
              0.8888888888888888,
              "#fdca26"
             ],
             [
              1,
              "#f0f921"
             ]
            ],
            "type": "contour"
           }
          ],
          "contourcarpet": [
           {
            "colorbar": {
             "outlinewidth": 0,
             "ticks": ""
            },
            "type": "contourcarpet"
           }
          ],
          "heatmap": [
           {
            "colorbar": {
             "outlinewidth": 0,
             "ticks": ""
            },
            "colorscale": [
             [
              0,
              "#0d0887"
             ],
             [
              0.1111111111111111,
              "#46039f"
             ],
             [
              0.2222222222222222,
              "#7201a8"
             ],
             [
              0.3333333333333333,
              "#9c179e"
             ],
             [
              0.4444444444444444,
              "#bd3786"
             ],
             [
              0.5555555555555556,
              "#d8576b"
             ],
             [
              0.6666666666666666,
              "#ed7953"
             ],
             [
              0.7777777777777778,
              "#fb9f3a"
             ],
             [
              0.8888888888888888,
              "#fdca26"
             ],
             [
              1,
              "#f0f921"
             ]
            ],
            "type": "heatmap"
           }
          ],
          "histogram": [
           {
            "marker": {
             "pattern": {
              "fillmode": "overlay",
              "size": 10,
              "solidity": 0.2
             }
            },
            "type": "histogram"
           }
          ],
          "histogram2d": [
           {
            "colorbar": {
             "outlinewidth": 0,
             "ticks": ""
            },
            "colorscale": [
             [
              0,
              "#0d0887"
             ],
             [
              0.1111111111111111,
              "#46039f"
             ],
             [
              0.2222222222222222,
              "#7201a8"
             ],
             [
              0.3333333333333333,
              "#9c179e"
             ],
             [
              0.4444444444444444,
              "#bd3786"
             ],
             [
              0.5555555555555556,
              "#d8576b"
             ],
             [
              0.6666666666666666,
              "#ed7953"
             ],
             [
              0.7777777777777778,
              "#fb9f3a"
             ],
             [
              0.8888888888888888,
              "#fdca26"
             ],
             [
              1,
              "#f0f921"
             ]
            ],
            "type": "histogram2d"
           }
          ],
          "histogram2dcontour": [
           {
            "colorbar": {
             "outlinewidth": 0,
             "ticks": ""
            },
            "colorscale": [
             [
              0,
              "#0d0887"
             ],
             [
              0.1111111111111111,
              "#46039f"
             ],
             [
              0.2222222222222222,
              "#7201a8"
             ],
             [
              0.3333333333333333,
              "#9c179e"
             ],
             [
              0.4444444444444444,
              "#bd3786"
             ],
             [
              0.5555555555555556,
              "#d8576b"
             ],
             [
              0.6666666666666666,
              "#ed7953"
             ],
             [
              0.7777777777777778,
              "#fb9f3a"
             ],
             [
              0.8888888888888888,
              "#fdca26"
             ],
             [
              1,
              "#f0f921"
             ]
            ],
            "type": "histogram2dcontour"
           }
          ],
          "mesh3d": [
           {
            "colorbar": {
             "outlinewidth": 0,
             "ticks": ""
            },
            "type": "mesh3d"
           }
          ],
          "parcoords": [
           {
            "line": {
             "colorbar": {
              "outlinewidth": 0,
              "ticks": ""
             }
            },
            "type": "parcoords"
           }
          ],
          "pie": [
           {
            "automargin": true,
            "type": "pie"
           }
          ],
          "scatter": [
           {
            "fillpattern": {
             "fillmode": "overlay",
             "size": 10,
             "solidity": 0.2
            },
            "type": "scatter"
           }
          ],
          "scatter3d": [
           {
            "line": {
             "colorbar": {
              "outlinewidth": 0,
              "ticks": ""
             }
            },
            "marker": {
             "colorbar": {
              "outlinewidth": 0,
              "ticks": ""
             }
            },
            "type": "scatter3d"
           }
          ],
          "scattercarpet": [
           {
            "marker": {
             "colorbar": {
              "outlinewidth": 0,
              "ticks": ""
             }
            },
            "type": "scattercarpet"
           }
          ],
          "scattergeo": [
           {
            "marker": {
             "colorbar": {
              "outlinewidth": 0,
              "ticks": ""
             }
            },
            "type": "scattergeo"
           }
          ],
          "scattergl": [
           {
            "marker": {
             "colorbar": {
              "outlinewidth": 0,
              "ticks": ""
             }
            },
            "type": "scattergl"
           }
          ],
          "scattermap": [
           {
            "marker": {
             "colorbar": {
              "outlinewidth": 0,
              "ticks": ""
             }
            },
            "type": "scattermap"
           }
          ],
          "scattermapbox": [
           {
            "marker": {
             "colorbar": {
              "outlinewidth": 0,
              "ticks": ""
             }
            },
            "type": "scattermapbox"
           }
          ],
          "scatterpolar": [
           {
            "marker": {
             "colorbar": {
              "outlinewidth": 0,
              "ticks": ""
             }
            },
            "type": "scatterpolar"
           }
          ],
          "scatterpolargl": [
           {
            "marker": {
             "colorbar": {
              "outlinewidth": 0,
              "ticks": ""
             }
            },
            "type": "scatterpolargl"
           }
          ],
          "scatterternary": [
           {
            "marker": {
             "colorbar": {
              "outlinewidth": 0,
              "ticks": ""
             }
            },
            "type": "scatterternary"
           }
          ],
          "surface": [
           {
            "colorbar": {
             "outlinewidth": 0,
             "ticks": ""
            },
            "colorscale": [
             [
              0,
              "#0d0887"
             ],
             [
              0.1111111111111111,
              "#46039f"
             ],
             [
              0.2222222222222222,
              "#7201a8"
             ],
             [
              0.3333333333333333,
              "#9c179e"
             ],
             [
              0.4444444444444444,
              "#bd3786"
             ],
             [
              0.5555555555555556,
              "#d8576b"
             ],
             [
              0.6666666666666666,
              "#ed7953"
             ],
             [
              0.7777777777777778,
              "#fb9f3a"
             ],
             [
              0.8888888888888888,
              "#fdca26"
             ],
             [
              1,
              "#f0f921"
             ]
            ],
            "type": "surface"
           }
          ],
          "table": [
           {
            "cells": {
             "fill": {
              "color": "#EBF0F8"
             },
             "line": {
              "color": "white"
             }
            },
            "header": {
             "fill": {
              "color": "#C8D4E3"
             },
             "line": {
              "color": "white"
             }
            },
            "type": "table"
           }
          ]
         },
         "layout": {
          "annotationdefaults": {
           "arrowcolor": "#2a3f5f",
           "arrowhead": 0,
           "arrowwidth": 1
          },
          "autotypenumbers": "strict",
          "coloraxis": {
           "colorbar": {
            "outlinewidth": 0,
            "ticks": ""
           }
          },
          "colorscale": {
           "diverging": [
            [
             0,
             "#8e0152"
            ],
            [
             0.1,
             "#c51b7d"
            ],
            [
             0.2,
             "#de77ae"
            ],
            [
             0.3,
             "#f1b6da"
            ],
            [
             0.4,
             "#fde0ef"
            ],
            [
             0.5,
             "#f7f7f7"
            ],
            [
             0.6,
             "#e6f5d0"
            ],
            [
             0.7,
             "#b8e186"
            ],
            [
             0.8,
             "#7fbc41"
            ],
            [
             0.9,
             "#4d9221"
            ],
            [
             1,
             "#276419"
            ]
           ],
           "sequential": [
            [
             0,
             "#0d0887"
            ],
            [
             0.1111111111111111,
             "#46039f"
            ],
            [
             0.2222222222222222,
             "#7201a8"
            ],
            [
             0.3333333333333333,
             "#9c179e"
            ],
            [
             0.4444444444444444,
             "#bd3786"
            ],
            [
             0.5555555555555556,
             "#d8576b"
            ],
            [
             0.6666666666666666,
             "#ed7953"
            ],
            [
             0.7777777777777778,
             "#fb9f3a"
            ],
            [
             0.8888888888888888,
             "#fdca26"
            ],
            [
             1,
             "#f0f921"
            ]
           ],
           "sequentialminus": [
            [
             0,
             "#0d0887"
            ],
            [
             0.1111111111111111,
             "#46039f"
            ],
            [
             0.2222222222222222,
             "#7201a8"
            ],
            [
             0.3333333333333333,
             "#9c179e"
            ],
            [
             0.4444444444444444,
             "#bd3786"
            ],
            [
             0.5555555555555556,
             "#d8576b"
            ],
            [
             0.6666666666666666,
             "#ed7953"
            ],
            [
             0.7777777777777778,
             "#fb9f3a"
            ],
            [
             0.8888888888888888,
             "#fdca26"
            ],
            [
             1,
             "#f0f921"
            ]
           ]
          },
          "colorway": [
           "#636efa",
           "#EF553B",
           "#00cc96",
           "#ab63fa",
           "#FFA15A",
           "#19d3f3",
           "#FF6692",
           "#B6E880",
           "#FF97FF",
           "#FECB52"
          ],
          "font": {
           "color": "#2a3f5f"
          },
          "geo": {
           "bgcolor": "white",
           "lakecolor": "white",
           "landcolor": "white",
           "showlakes": true,
           "showland": true,
           "subunitcolor": "#C8D4E3"
          },
          "hoverlabel": {
           "align": "left"
          },
          "hovermode": "closest",
          "mapbox": {
           "style": "light"
          },
          "paper_bgcolor": "white",
          "plot_bgcolor": "white",
          "polar": {
           "angularaxis": {
            "gridcolor": "#EBF0F8",
            "linecolor": "#EBF0F8",
            "ticks": ""
           },
           "bgcolor": "white",
           "radialaxis": {
            "gridcolor": "#EBF0F8",
            "linecolor": "#EBF0F8",
            "ticks": ""
           }
          },
          "scene": {
           "xaxis": {
            "backgroundcolor": "white",
            "gridcolor": "#DFE8F3",
            "gridwidth": 2,
            "linecolor": "#EBF0F8",
            "showbackground": true,
            "ticks": "",
            "zerolinecolor": "#EBF0F8"
           },
           "yaxis": {
            "backgroundcolor": "white",
            "gridcolor": "#DFE8F3",
            "gridwidth": 2,
            "linecolor": "#EBF0F8",
            "showbackground": true,
            "ticks": "",
            "zerolinecolor": "#EBF0F8"
           },
           "zaxis": {
            "backgroundcolor": "white",
            "gridcolor": "#DFE8F3",
            "gridwidth": 2,
            "linecolor": "#EBF0F8",
            "showbackground": true,
            "ticks": "",
            "zerolinecolor": "#EBF0F8"
           }
          },
          "shapedefaults": {
           "line": {
            "color": "#2a3f5f"
           }
          },
          "ternary": {
           "aaxis": {
            "gridcolor": "#DFE8F3",
            "linecolor": "#A2B1C6",
            "ticks": ""
           },
           "baxis": {
            "gridcolor": "#DFE8F3",
            "linecolor": "#A2B1C6",
            "ticks": ""
           },
           "bgcolor": "white",
           "caxis": {
            "gridcolor": "#DFE8F3",
            "linecolor": "#A2B1C6",
            "ticks": ""
           }
          },
          "title": {
           "x": 0.05
          },
          "xaxis": {
           "automargin": true,
           "gridcolor": "#EBF0F8",
           "linecolor": "#EBF0F8",
           "ticks": "",
           "title": {
            "standoff": 15
           },
           "zerolinecolor": "#EBF0F8",
           "zerolinewidth": 2
          },
          "yaxis": {
           "automargin": true,
           "gridcolor": "#EBF0F8",
           "linecolor": "#EBF0F8",
           "ticks": "",
           "title": {
            "standoff": 15
           },
           "zerolinecolor": "#EBF0F8",
           "zerolinewidth": 2
          }
         }
        },
        "title": {
         "font": {
          "color": "Black",
          "size": 22
         },
         "text": "<b>Hierarchical Clustering</b>",
         "x": 0.5,
         "xanchor": "center",
         "yanchor": "top"
        },
        "width": 1000,
        "xaxis": {
         "mirror": "allticks",
         "rangemode": "tozero",
         "showgrid": false,
         "showline": true,
         "showticklabels": true,
         "ticks": "outside",
         "type": "linear",
         "zeroline": false
        },
        "yaxis": {
         "mirror": "allticks",
         "range": [
          -230,
          0
         ],
         "rangemode": "tozero",
         "showgrid": false,
         "showline": true,
         "showticklabels": true,
         "tickmode": "array",
         "ticks": "outside",
         "ticktext": [
          "17_the_synthesis_of",
          "22_and_the_to",
          "5_food_and_the",
          "9_plant_the_of",
          "18_and_the_to",
          "2_and_the_of",
          "12_and_data_the",
          "19_care_cancer_and",
          "20_retinal_eye_the",
          "15_the_of_in",
          "10_brain_the_and",
          "4_the_of_in",
          "13_cardiac_heart_the",
          "6_bone_the_and",
          "11_the_and_of",
          "3_the_and_of",
          "0_the_of_to",
          "1_the_and_of",
          "7_the_of_to",
          "8_gut_and_the",
          "14_liver_in_the",
          "16_diabetes_insulin_glucose",
          "21_kidney_ckd_renal"
         ],
         "tickvals": [
          -5,
          -15,
          -25,
          -35,
          -45,
          -55,
          -65,
          -75,
          -85,
          -95,
          -105,
          -115,
          -125,
          -135,
          -145,
          -155,
          -165,
          -175,
          -185,
          -195,
          -205,
          -215,
          -225
         ],
         "type": "linear",
         "zeroline": false
        }
       }
      }
     },
     "metadata": {},
     "output_type": "display_data"
    }
   ],
   "source": [
    "topic_model.visualize_hierarchy(custom_labels=False)\n"
   ]
  },
  {
   "cell_type": "code",
   "execution_count": 22,
   "id": "114d104c",
   "metadata": {},
   "outputs": [
    {
     "name": "stderr",
     "output_type": "stream",
     "text": [
      "100%|██████████| 4/4 [00:03<00:00,  1.08it/s]\n"
     ]
    }
   ],
   "source": [
    "# `topic_distr` contains the distribution of topics in each document\n",
    "topic_distr, _ = topic_model.approximate_distribution(abstracts, window=8, stride=4)\n"
   ]
  },
  {
   "cell_type": "code",
   "execution_count": 29,
   "id": "a733b0fb",
   "metadata": {},
   "outputs": [
    {
     "name": "stdout",
     "output_type": "stream",
     "text": [
      "('BiomimX Beating organs-on-chips (OoC) are in vitro miniaturized and living '\n",
      " 'replica of human organs and diseases,building upon cutting-edge technologies '\n",
      " 'and human cells. Beating OoC provide a faithful replication of native '\n",
      " 'humanphysiology integrating miniaturized 3D cell culture techniques, '\n",
      " 'mechanical stimulation (uBeat®) and electrical recordingcapabilities '\n",
      " '(uSense). BiomimX’s proprietary key technology (uBeat®) supports 3D human '\n",
      " 'cell cultures and integrates acontrolled and tunable mechanical stimulation '\n",
      " 'system. uBeat® leads to the generation of mature and functional '\n",
      " 'miniaturizedreplication of human organs adequate to test compounds '\n",
      " 'toxicity/functionality in a high-throughput fashion. Integration ofuSense '\n",
      " 'allows real-time evaluation of clinically relevant parameters from the '\n",
      " 'established beating models. BiomimX’sBeating OoC represent a safer, more '\n",
      " 'efficient and faster alternative to poorly predictable preclinical models to '\n",
      " 'date available inthe drug discovery pipeline (DDP). BiomimX already '\n",
      " 'demonstrated the validity of its Beating OoC models in two critical fields '\n",
      " 'ofthe drug discovery pipeline: uHeart (human beating heart-on-chip) has been '\n",
      " 'applied as early predictor of drug functionalcardiotoxicity, uKnee (first in '\n",
      " 'vitro model of human OA) has shown its predictive potential for the '\n",
      " 'discovery of new targets foran unmet pathology.Also thanks to the '\n",
      " 'contribution of Women TechEU programme, BiomimX aims at demonstrating the '\n",
      " 'unprecedented potential of its disruptive innovation in reshaping the market '\n",
      " 'of drug development, by i) boosting technological aspects (i.e. through an '\n",
      " 'intensive industrialization process of BiomimX patented technologies) and '\n",
      " 'ii) proving the versatility of its innovation and its capacity to adapt to a '\n",
      " 'manifold of indications and market spaces. In line with the 3R principle, '\n",
      " 'BiomimX final vision is to reduce and eventually replace animal '\n",
      " 'experimentations within the next 15 years.')\n"
     ]
    }
   ],
   "source": [
    "from pprint import pprint\n",
    "\n",
    "abstract_id = 10\n",
    "pprint(abstracts[abstract_id], width=80)\n"
   ]
  },
  {
   "cell_type": "code",
   "execution_count": 24,
   "id": "717c3a95",
   "metadata": {},
   "outputs": [
    {
     "data": {
      "application/vnd.plotly.v1+json": {
       "config": {
        "plotlyServerURL": "https://plot.ly"
       },
       "data": [
        {
         "marker": {
          "color": "#C8D2D7",
          "line": {
           "color": "#6E8484",
           "width": 1
          }
         },
         "orientation": "h",
         "type": "bar",
         "x": [
          0.5093293170564624,
          0.223278064660427,
          0.2673926182831106
         ],
         "y": [
          "<b>Topic 3</b>: heart_cardiac_patients_c...",
          "<b>Topic 6</b>: bone_tissue_pain_oa_mech...",
          "<b>Topic 11</b>: brain_stimulation_epile..."
         ]
        }
       ],
       "layout": {
        "height": 600,
        "hoverlabel": {
         "bgcolor": "white",
         "font": {
          "family": "Rockwell",
          "size": 16
         }
        },
        "template": {
         "data": {
          "bar": [
           {
            "error_x": {
             "color": "rgb(36,36,36)"
            },
            "error_y": {
             "color": "rgb(36,36,36)"
            },
            "marker": {
             "line": {
              "color": "white",
              "width": 0.5
             },
             "pattern": {
              "fillmode": "overlay",
              "size": 10,
              "solidity": 0.2
             }
            },
            "type": "bar"
           }
          ],
          "barpolar": [
           {
            "marker": {
             "line": {
              "color": "white",
              "width": 0.5
             },
             "pattern": {
              "fillmode": "overlay",
              "size": 10,
              "solidity": 0.2
             }
            },
            "type": "barpolar"
           }
          ],
          "carpet": [
           {
            "aaxis": {
             "endlinecolor": "rgb(36,36,36)",
             "gridcolor": "white",
             "linecolor": "white",
             "minorgridcolor": "white",
             "startlinecolor": "rgb(36,36,36)"
            },
            "baxis": {
             "endlinecolor": "rgb(36,36,36)",
             "gridcolor": "white",
             "linecolor": "white",
             "minorgridcolor": "white",
             "startlinecolor": "rgb(36,36,36)"
            },
            "type": "carpet"
           }
          ],
          "choropleth": [
           {
            "colorbar": {
             "outlinewidth": 1,
             "tickcolor": "rgb(36,36,36)",
             "ticks": "outside"
            },
            "type": "choropleth"
           }
          ],
          "contour": [
           {
            "colorbar": {
             "outlinewidth": 1,
             "tickcolor": "rgb(36,36,36)",
             "ticks": "outside"
            },
            "colorscale": [
             [
              0,
              "#440154"
             ],
             [
              0.1111111111111111,
              "#482878"
             ],
             [
              0.2222222222222222,
              "#3e4989"
             ],
             [
              0.3333333333333333,
              "#31688e"
             ],
             [
              0.4444444444444444,
              "#26828e"
             ],
             [
              0.5555555555555556,
              "#1f9e89"
             ],
             [
              0.6666666666666666,
              "#35b779"
             ],
             [
              0.7777777777777778,
              "#6ece58"
             ],
             [
              0.8888888888888888,
              "#b5de2b"
             ],
             [
              1,
              "#fde725"
             ]
            ],
            "type": "contour"
           }
          ],
          "contourcarpet": [
           {
            "colorbar": {
             "outlinewidth": 1,
             "tickcolor": "rgb(36,36,36)",
             "ticks": "outside"
            },
            "type": "contourcarpet"
           }
          ],
          "heatmap": [
           {
            "colorbar": {
             "outlinewidth": 1,
             "tickcolor": "rgb(36,36,36)",
             "ticks": "outside"
            },
            "colorscale": [
             [
              0,
              "#440154"
             ],
             [
              0.1111111111111111,
              "#482878"
             ],
             [
              0.2222222222222222,
              "#3e4989"
             ],
             [
              0.3333333333333333,
              "#31688e"
             ],
             [
              0.4444444444444444,
              "#26828e"
             ],
             [
              0.5555555555555556,
              "#1f9e89"
             ],
             [
              0.6666666666666666,
              "#35b779"
             ],
             [
              0.7777777777777778,
              "#6ece58"
             ],
             [
              0.8888888888888888,
              "#b5de2b"
             ],
             [
              1,
              "#fde725"
             ]
            ],
            "type": "heatmap"
           }
          ],
          "histogram": [
           {
            "marker": {
             "line": {
              "color": "white",
              "width": 0.6
             }
            },
            "type": "histogram"
           }
          ],
          "histogram2d": [
           {
            "colorbar": {
             "outlinewidth": 1,
             "tickcolor": "rgb(36,36,36)",
             "ticks": "outside"
            },
            "colorscale": [
             [
              0,
              "#440154"
             ],
             [
              0.1111111111111111,
              "#482878"
             ],
             [
              0.2222222222222222,
              "#3e4989"
             ],
             [
              0.3333333333333333,
              "#31688e"
             ],
             [
              0.4444444444444444,
              "#26828e"
             ],
             [
              0.5555555555555556,
              "#1f9e89"
             ],
             [
              0.6666666666666666,
              "#35b779"
             ],
             [
              0.7777777777777778,
              "#6ece58"
             ],
             [
              0.8888888888888888,
              "#b5de2b"
             ],
             [
              1,
              "#fde725"
             ]
            ],
            "type": "histogram2d"
           }
          ],
          "histogram2dcontour": [
           {
            "colorbar": {
             "outlinewidth": 1,
             "tickcolor": "rgb(36,36,36)",
             "ticks": "outside"
            },
            "colorscale": [
             [
              0,
              "#440154"
             ],
             [
              0.1111111111111111,
              "#482878"
             ],
             [
              0.2222222222222222,
              "#3e4989"
             ],
             [
              0.3333333333333333,
              "#31688e"
             ],
             [
              0.4444444444444444,
              "#26828e"
             ],
             [
              0.5555555555555556,
              "#1f9e89"
             ],
             [
              0.6666666666666666,
              "#35b779"
             ],
             [
              0.7777777777777778,
              "#6ece58"
             ],
             [
              0.8888888888888888,
              "#b5de2b"
             ],
             [
              1,
              "#fde725"
             ]
            ],
            "type": "histogram2dcontour"
           }
          ],
          "mesh3d": [
           {
            "colorbar": {
             "outlinewidth": 1,
             "tickcolor": "rgb(36,36,36)",
             "ticks": "outside"
            },
            "type": "mesh3d"
           }
          ],
          "parcoords": [
           {
            "line": {
             "colorbar": {
              "outlinewidth": 1,
              "tickcolor": "rgb(36,36,36)",
              "ticks": "outside"
             }
            },
            "type": "parcoords"
           }
          ],
          "pie": [
           {
            "automargin": true,
            "type": "pie"
           }
          ],
          "scatter": [
           {
            "fillpattern": {
             "fillmode": "overlay",
             "size": 10,
             "solidity": 0.2
            },
            "type": "scatter"
           }
          ],
          "scatter3d": [
           {
            "line": {
             "colorbar": {
              "outlinewidth": 1,
              "tickcolor": "rgb(36,36,36)",
              "ticks": "outside"
             }
            },
            "marker": {
             "colorbar": {
              "outlinewidth": 1,
              "tickcolor": "rgb(36,36,36)",
              "ticks": "outside"
             }
            },
            "type": "scatter3d"
           }
          ],
          "scattercarpet": [
           {
            "marker": {
             "colorbar": {
              "outlinewidth": 1,
              "tickcolor": "rgb(36,36,36)",
              "ticks": "outside"
             }
            },
            "type": "scattercarpet"
           }
          ],
          "scattergeo": [
           {
            "marker": {
             "colorbar": {
              "outlinewidth": 1,
              "tickcolor": "rgb(36,36,36)",
              "ticks": "outside"
             }
            },
            "type": "scattergeo"
           }
          ],
          "scattergl": [
           {
            "marker": {
             "colorbar": {
              "outlinewidth": 1,
              "tickcolor": "rgb(36,36,36)",
              "ticks": "outside"
             }
            },
            "type": "scattergl"
           }
          ],
          "scattermap": [
           {
            "marker": {
             "colorbar": {
              "outlinewidth": 1,
              "tickcolor": "rgb(36,36,36)",
              "ticks": "outside"
             }
            },
            "type": "scattermap"
           }
          ],
          "scattermapbox": [
           {
            "marker": {
             "colorbar": {
              "outlinewidth": 1,
              "tickcolor": "rgb(36,36,36)",
              "ticks": "outside"
             }
            },
            "type": "scattermapbox"
           }
          ],
          "scatterpolar": [
           {
            "marker": {
             "colorbar": {
              "outlinewidth": 1,
              "tickcolor": "rgb(36,36,36)",
              "ticks": "outside"
             }
            },
            "type": "scatterpolar"
           }
          ],
          "scatterpolargl": [
           {
            "marker": {
             "colorbar": {
              "outlinewidth": 1,
              "tickcolor": "rgb(36,36,36)",
              "ticks": "outside"
             }
            },
            "type": "scatterpolargl"
           }
          ],
          "scatterternary": [
           {
            "marker": {
             "colorbar": {
              "outlinewidth": 1,
              "tickcolor": "rgb(36,36,36)",
              "ticks": "outside"
             }
            },
            "type": "scatterternary"
           }
          ],
          "surface": [
           {
            "colorbar": {
             "outlinewidth": 1,
             "tickcolor": "rgb(36,36,36)",
             "ticks": "outside"
            },
            "colorscale": [
             [
              0,
              "#440154"
             ],
             [
              0.1111111111111111,
              "#482878"
             ],
             [
              0.2222222222222222,
              "#3e4989"
             ],
             [
              0.3333333333333333,
              "#31688e"
             ],
             [
              0.4444444444444444,
              "#26828e"
             ],
             [
              0.5555555555555556,
              "#1f9e89"
             ],
             [
              0.6666666666666666,
              "#35b779"
             ],
             [
              0.7777777777777778,
              "#6ece58"
             ],
             [
              0.8888888888888888,
              "#b5de2b"
             ],
             [
              1,
              "#fde725"
             ]
            ],
            "type": "surface"
           }
          ],
          "table": [
           {
            "cells": {
             "fill": {
              "color": "rgb(237,237,237)"
             },
             "line": {
              "color": "white"
             }
            },
            "header": {
             "fill": {
              "color": "rgb(217,217,217)"
             },
             "line": {
              "color": "white"
             }
            },
            "type": "table"
           }
          ]
         },
         "layout": {
          "annotationdefaults": {
           "arrowhead": 0,
           "arrowwidth": 1
          },
          "autotypenumbers": "strict",
          "coloraxis": {
           "colorbar": {
            "outlinewidth": 1,
            "tickcolor": "rgb(36,36,36)",
            "ticks": "outside"
           }
          },
          "colorscale": {
           "diverging": [
            [
             0,
             "rgb(103,0,31)"
            ],
            [
             0.1,
             "rgb(178,24,43)"
            ],
            [
             0.2,
             "rgb(214,96,77)"
            ],
            [
             0.3,
             "rgb(244,165,130)"
            ],
            [
             0.4,
             "rgb(253,219,199)"
            ],
            [
             0.5,
             "rgb(247,247,247)"
            ],
            [
             0.6,
             "rgb(209,229,240)"
            ],
            [
             0.7,
             "rgb(146,197,222)"
            ],
            [
             0.8,
             "rgb(67,147,195)"
            ],
            [
             0.9,
             "rgb(33,102,172)"
            ],
            [
             1,
             "rgb(5,48,97)"
            ]
           ],
           "sequential": [
            [
             0,
             "#440154"
            ],
            [
             0.1111111111111111,
             "#482878"
            ],
            [
             0.2222222222222222,
             "#3e4989"
            ],
            [
             0.3333333333333333,
             "#31688e"
            ],
            [
             0.4444444444444444,
             "#26828e"
            ],
            [
             0.5555555555555556,
             "#1f9e89"
            ],
            [
             0.6666666666666666,
             "#35b779"
            ],
            [
             0.7777777777777778,
             "#6ece58"
            ],
            [
             0.8888888888888888,
             "#b5de2b"
            ],
            [
             1,
             "#fde725"
            ]
           ],
           "sequentialminus": [
            [
             0,
             "#440154"
            ],
            [
             0.1111111111111111,
             "#482878"
            ],
            [
             0.2222222222222222,
             "#3e4989"
            ],
            [
             0.3333333333333333,
             "#31688e"
            ],
            [
             0.4444444444444444,
             "#26828e"
            ],
            [
             0.5555555555555556,
             "#1f9e89"
            ],
            [
             0.6666666666666666,
             "#35b779"
            ],
            [
             0.7777777777777778,
             "#6ece58"
            ],
            [
             0.8888888888888888,
             "#b5de2b"
            ],
            [
             1,
             "#fde725"
            ]
           ]
          },
          "colorway": [
           "#1F77B4",
           "#FF7F0E",
           "#2CA02C",
           "#D62728",
           "#9467BD",
           "#8C564B",
           "#E377C2",
           "#7F7F7F",
           "#BCBD22",
           "#17BECF"
          ],
          "font": {
           "color": "rgb(36,36,36)"
          },
          "geo": {
           "bgcolor": "white",
           "lakecolor": "white",
           "landcolor": "white",
           "showlakes": true,
           "showland": true,
           "subunitcolor": "white"
          },
          "hoverlabel": {
           "align": "left"
          },
          "hovermode": "closest",
          "mapbox": {
           "style": "light"
          },
          "paper_bgcolor": "white",
          "plot_bgcolor": "white",
          "polar": {
           "angularaxis": {
            "gridcolor": "rgb(232,232,232)",
            "linecolor": "rgb(36,36,36)",
            "showgrid": false,
            "showline": true,
            "ticks": "outside"
           },
           "bgcolor": "white",
           "radialaxis": {
            "gridcolor": "rgb(232,232,232)",
            "linecolor": "rgb(36,36,36)",
            "showgrid": false,
            "showline": true,
            "ticks": "outside"
           }
          },
          "scene": {
           "xaxis": {
            "backgroundcolor": "white",
            "gridcolor": "rgb(232,232,232)",
            "gridwidth": 2,
            "linecolor": "rgb(36,36,36)",
            "showbackground": true,
            "showgrid": false,
            "showline": true,
            "ticks": "outside",
            "zeroline": false,
            "zerolinecolor": "rgb(36,36,36)"
           },
           "yaxis": {
            "backgroundcolor": "white",
            "gridcolor": "rgb(232,232,232)",
            "gridwidth": 2,
            "linecolor": "rgb(36,36,36)",
            "showbackground": true,
            "showgrid": false,
            "showline": true,
            "ticks": "outside",
            "zeroline": false,
            "zerolinecolor": "rgb(36,36,36)"
           },
           "zaxis": {
            "backgroundcolor": "white",
            "gridcolor": "rgb(232,232,232)",
            "gridwidth": 2,
            "linecolor": "rgb(36,36,36)",
            "showbackground": true,
            "showgrid": false,
            "showline": true,
            "ticks": "outside",
            "zeroline": false,
            "zerolinecolor": "rgb(36,36,36)"
           }
          },
          "shapedefaults": {
           "fillcolor": "black",
           "line": {
            "width": 0
           },
           "opacity": 0.3
          },
          "ternary": {
           "aaxis": {
            "gridcolor": "rgb(232,232,232)",
            "linecolor": "rgb(36,36,36)",
            "showgrid": false,
            "showline": true,
            "ticks": "outside"
           },
           "baxis": {
            "gridcolor": "rgb(232,232,232)",
            "linecolor": "rgb(36,36,36)",
            "showgrid": false,
            "showline": true,
            "ticks": "outside"
           },
           "bgcolor": "white",
           "caxis": {
            "gridcolor": "rgb(232,232,232)",
            "linecolor": "rgb(36,36,36)",
            "showgrid": false,
            "showline": true,
            "ticks": "outside"
           }
          },
          "title": {
           "x": 0.05
          },
          "xaxis": {
           "automargin": true,
           "gridcolor": "rgb(232,232,232)",
           "linecolor": "rgb(36,36,36)",
           "showgrid": false,
           "showline": true,
           "ticks": "outside",
           "title": {
            "standoff": 15
           },
           "zeroline": false,
           "zerolinecolor": "rgb(36,36,36)"
          },
          "yaxis": {
           "automargin": true,
           "gridcolor": "rgb(232,232,232)",
           "linecolor": "rgb(36,36,36)",
           "showgrid": false,
           "showline": true,
           "ticks": "outside",
           "title": {
            "standoff": 15
           },
           "zeroline": false,
           "zerolinecolor": "rgb(36,36,36)"
          }
         }
        },
        "title": {
         "font": {
          "color": "Black",
          "size": 22
         },
         "text": "<b>Topic Probability Distribution</b>",
         "x": 0.5,
         "xanchor": "center",
         "y": 0.95,
         "yanchor": "top"
        },
        "width": 800,
        "xaxis": {
         "title": {
          "text": "Probability"
         }
        }
       }
      }
     },
     "metadata": {},
     "output_type": "display_data"
    }
   ],
   "source": [
    "# Visualize the topic-document distribution for a single document\n",
    "topic_model.visualize_distribution(topic_distr[abstract_id])\n"
   ]
  },
  {
   "cell_type": "code",
   "execution_count": 25,
   "id": "8ddaf097",
   "metadata": {},
   "outputs": [
    {
     "data": {
      "application/vnd.plotly.v1+json": {
       "config": {
        "plotlyServerURL": "https://plot.ly"
       },
       "data": [
        {
         "marker": {
          "color": "#C8D2D7",
          "line": {
           "color": "#6E8484",
           "width": 1
          }
         },
         "orientation": "h",
         "type": "bar",
         "x": [
          0.5093293170564624,
          0.223278064660427,
          0.2673926182831106
         ],
         "y": [
          "cardiomyocytes | myocardial | cardiac",
          "bone regeneration | bioprinting | tissue engineering",
          "brain stimulation | neuromodulation | electrical stimulation"
         ]
        }
       ],
       "layout": {
        "height": 600,
        "hoverlabel": {
         "bgcolor": "white",
         "font": {
          "family": "Rockwell",
          "size": 16
         }
        },
        "template": {
         "data": {
          "bar": [
           {
            "error_x": {
             "color": "rgb(36,36,36)"
            },
            "error_y": {
             "color": "rgb(36,36,36)"
            },
            "marker": {
             "line": {
              "color": "white",
              "width": 0.5
             },
             "pattern": {
              "fillmode": "overlay",
              "size": 10,
              "solidity": 0.2
             }
            },
            "type": "bar"
           }
          ],
          "barpolar": [
           {
            "marker": {
             "line": {
              "color": "white",
              "width": 0.5
             },
             "pattern": {
              "fillmode": "overlay",
              "size": 10,
              "solidity": 0.2
             }
            },
            "type": "barpolar"
           }
          ],
          "carpet": [
           {
            "aaxis": {
             "endlinecolor": "rgb(36,36,36)",
             "gridcolor": "white",
             "linecolor": "white",
             "minorgridcolor": "white",
             "startlinecolor": "rgb(36,36,36)"
            },
            "baxis": {
             "endlinecolor": "rgb(36,36,36)",
             "gridcolor": "white",
             "linecolor": "white",
             "minorgridcolor": "white",
             "startlinecolor": "rgb(36,36,36)"
            },
            "type": "carpet"
           }
          ],
          "choropleth": [
           {
            "colorbar": {
             "outlinewidth": 1,
             "tickcolor": "rgb(36,36,36)",
             "ticks": "outside"
            },
            "type": "choropleth"
           }
          ],
          "contour": [
           {
            "colorbar": {
             "outlinewidth": 1,
             "tickcolor": "rgb(36,36,36)",
             "ticks": "outside"
            },
            "colorscale": [
             [
              0,
              "#440154"
             ],
             [
              0.1111111111111111,
              "#482878"
             ],
             [
              0.2222222222222222,
              "#3e4989"
             ],
             [
              0.3333333333333333,
              "#31688e"
             ],
             [
              0.4444444444444444,
              "#26828e"
             ],
             [
              0.5555555555555556,
              "#1f9e89"
             ],
             [
              0.6666666666666666,
              "#35b779"
             ],
             [
              0.7777777777777778,
              "#6ece58"
             ],
             [
              0.8888888888888888,
              "#b5de2b"
             ],
             [
              1,
              "#fde725"
             ]
            ],
            "type": "contour"
           }
          ],
          "contourcarpet": [
           {
            "colorbar": {
             "outlinewidth": 1,
             "tickcolor": "rgb(36,36,36)",
             "ticks": "outside"
            },
            "type": "contourcarpet"
           }
          ],
          "heatmap": [
           {
            "colorbar": {
             "outlinewidth": 1,
             "tickcolor": "rgb(36,36,36)",
             "ticks": "outside"
            },
            "colorscale": [
             [
              0,
              "#440154"
             ],
             [
              0.1111111111111111,
              "#482878"
             ],
             [
              0.2222222222222222,
              "#3e4989"
             ],
             [
              0.3333333333333333,
              "#31688e"
             ],
             [
              0.4444444444444444,
              "#26828e"
             ],
             [
              0.5555555555555556,
              "#1f9e89"
             ],
             [
              0.6666666666666666,
              "#35b779"
             ],
             [
              0.7777777777777778,
              "#6ece58"
             ],
             [
              0.8888888888888888,
              "#b5de2b"
             ],
             [
              1,
              "#fde725"
             ]
            ],
            "type": "heatmap"
           }
          ],
          "histogram": [
           {
            "marker": {
             "line": {
              "color": "white",
              "width": 0.6
             }
            },
            "type": "histogram"
           }
          ],
          "histogram2d": [
           {
            "colorbar": {
             "outlinewidth": 1,
             "tickcolor": "rgb(36,36,36)",
             "ticks": "outside"
            },
            "colorscale": [
             [
              0,
              "#440154"
             ],
             [
              0.1111111111111111,
              "#482878"
             ],
             [
              0.2222222222222222,
              "#3e4989"
             ],
             [
              0.3333333333333333,
              "#31688e"
             ],
             [
              0.4444444444444444,
              "#26828e"
             ],
             [
              0.5555555555555556,
              "#1f9e89"
             ],
             [
              0.6666666666666666,
              "#35b779"
             ],
             [
              0.7777777777777778,
              "#6ece58"
             ],
             [
              0.8888888888888888,
              "#b5de2b"
             ],
             [
              1,
              "#fde725"
             ]
            ],
            "type": "histogram2d"
           }
          ],
          "histogram2dcontour": [
           {
            "colorbar": {
             "outlinewidth": 1,
             "tickcolor": "rgb(36,36,36)",
             "ticks": "outside"
            },
            "colorscale": [
             [
              0,
              "#440154"
             ],
             [
              0.1111111111111111,
              "#482878"
             ],
             [
              0.2222222222222222,
              "#3e4989"
             ],
             [
              0.3333333333333333,
              "#31688e"
             ],
             [
              0.4444444444444444,
              "#26828e"
             ],
             [
              0.5555555555555556,
              "#1f9e89"
             ],
             [
              0.6666666666666666,
              "#35b779"
             ],
             [
              0.7777777777777778,
              "#6ece58"
             ],
             [
              0.8888888888888888,
              "#b5de2b"
             ],
             [
              1,
              "#fde725"
             ]
            ],
            "type": "histogram2dcontour"
           }
          ],
          "mesh3d": [
           {
            "colorbar": {
             "outlinewidth": 1,
             "tickcolor": "rgb(36,36,36)",
             "ticks": "outside"
            },
            "type": "mesh3d"
           }
          ],
          "parcoords": [
           {
            "line": {
             "colorbar": {
              "outlinewidth": 1,
              "tickcolor": "rgb(36,36,36)",
              "ticks": "outside"
             }
            },
            "type": "parcoords"
           }
          ],
          "pie": [
           {
            "automargin": true,
            "type": "pie"
           }
          ],
          "scatter": [
           {
            "fillpattern": {
             "fillmode": "overlay",
             "size": 10,
             "solidity": 0.2
            },
            "type": "scatter"
           }
          ],
          "scatter3d": [
           {
            "line": {
             "colorbar": {
              "outlinewidth": 1,
              "tickcolor": "rgb(36,36,36)",
              "ticks": "outside"
             }
            },
            "marker": {
             "colorbar": {
              "outlinewidth": 1,
              "tickcolor": "rgb(36,36,36)",
              "ticks": "outside"
             }
            },
            "type": "scatter3d"
           }
          ],
          "scattercarpet": [
           {
            "marker": {
             "colorbar": {
              "outlinewidth": 1,
              "tickcolor": "rgb(36,36,36)",
              "ticks": "outside"
             }
            },
            "type": "scattercarpet"
           }
          ],
          "scattergeo": [
           {
            "marker": {
             "colorbar": {
              "outlinewidth": 1,
              "tickcolor": "rgb(36,36,36)",
              "ticks": "outside"
             }
            },
            "type": "scattergeo"
           }
          ],
          "scattergl": [
           {
            "marker": {
             "colorbar": {
              "outlinewidth": 1,
              "tickcolor": "rgb(36,36,36)",
              "ticks": "outside"
             }
            },
            "type": "scattergl"
           }
          ],
          "scattermap": [
           {
            "marker": {
             "colorbar": {
              "outlinewidth": 1,
              "tickcolor": "rgb(36,36,36)",
              "ticks": "outside"
             }
            },
            "type": "scattermap"
           }
          ],
          "scattermapbox": [
           {
            "marker": {
             "colorbar": {
              "outlinewidth": 1,
              "tickcolor": "rgb(36,36,36)",
              "ticks": "outside"
             }
            },
            "type": "scattermapbox"
           }
          ],
          "scatterpolar": [
           {
            "marker": {
             "colorbar": {
              "outlinewidth": 1,
              "tickcolor": "rgb(36,36,36)",
              "ticks": "outside"
             }
            },
            "type": "scatterpolar"
           }
          ],
          "scatterpolargl": [
           {
            "marker": {
             "colorbar": {
              "outlinewidth": 1,
              "tickcolor": "rgb(36,36,36)",
              "ticks": "outside"
             }
            },
            "type": "scatterpolargl"
           }
          ],
          "scatterternary": [
           {
            "marker": {
             "colorbar": {
              "outlinewidth": 1,
              "tickcolor": "rgb(36,36,36)",
              "ticks": "outside"
             }
            },
            "type": "scatterternary"
           }
          ],
          "surface": [
           {
            "colorbar": {
             "outlinewidth": 1,
             "tickcolor": "rgb(36,36,36)",
             "ticks": "outside"
            },
            "colorscale": [
             [
              0,
              "#440154"
             ],
             [
              0.1111111111111111,
              "#482878"
             ],
             [
              0.2222222222222222,
              "#3e4989"
             ],
             [
              0.3333333333333333,
              "#31688e"
             ],
             [
              0.4444444444444444,
              "#26828e"
             ],
             [
              0.5555555555555556,
              "#1f9e89"
             ],
             [
              0.6666666666666666,
              "#35b779"
             ],
             [
              0.7777777777777778,
              "#6ece58"
             ],
             [
              0.8888888888888888,
              "#b5de2b"
             ],
             [
              1,
              "#fde725"
             ]
            ],
            "type": "surface"
           }
          ],
          "table": [
           {
            "cells": {
             "fill": {
              "color": "rgb(237,237,237)"
             },
             "line": {
              "color": "white"
             }
            },
            "header": {
             "fill": {
              "color": "rgb(217,217,217)"
             },
             "line": {
              "color": "white"
             }
            },
            "type": "table"
           }
          ]
         },
         "layout": {
          "annotationdefaults": {
           "arrowhead": 0,
           "arrowwidth": 1
          },
          "autotypenumbers": "strict",
          "coloraxis": {
           "colorbar": {
            "outlinewidth": 1,
            "tickcolor": "rgb(36,36,36)",
            "ticks": "outside"
           }
          },
          "colorscale": {
           "diverging": [
            [
             0,
             "rgb(103,0,31)"
            ],
            [
             0.1,
             "rgb(178,24,43)"
            ],
            [
             0.2,
             "rgb(214,96,77)"
            ],
            [
             0.3,
             "rgb(244,165,130)"
            ],
            [
             0.4,
             "rgb(253,219,199)"
            ],
            [
             0.5,
             "rgb(247,247,247)"
            ],
            [
             0.6,
             "rgb(209,229,240)"
            ],
            [
             0.7,
             "rgb(146,197,222)"
            ],
            [
             0.8,
             "rgb(67,147,195)"
            ],
            [
             0.9,
             "rgb(33,102,172)"
            ],
            [
             1,
             "rgb(5,48,97)"
            ]
           ],
           "sequential": [
            [
             0,
             "#440154"
            ],
            [
             0.1111111111111111,
             "#482878"
            ],
            [
             0.2222222222222222,
             "#3e4989"
            ],
            [
             0.3333333333333333,
             "#31688e"
            ],
            [
             0.4444444444444444,
             "#26828e"
            ],
            [
             0.5555555555555556,
             "#1f9e89"
            ],
            [
             0.6666666666666666,
             "#35b779"
            ],
            [
             0.7777777777777778,
             "#6ece58"
            ],
            [
             0.8888888888888888,
             "#b5de2b"
            ],
            [
             1,
             "#fde725"
            ]
           ],
           "sequentialminus": [
            [
             0,
             "#440154"
            ],
            [
             0.1111111111111111,
             "#482878"
            ],
            [
             0.2222222222222222,
             "#3e4989"
            ],
            [
             0.3333333333333333,
             "#31688e"
            ],
            [
             0.4444444444444444,
             "#26828e"
            ],
            [
             0.5555555555555556,
             "#1f9e89"
            ],
            [
             0.6666666666666666,
             "#35b779"
            ],
            [
             0.7777777777777778,
             "#6ece58"
            ],
            [
             0.8888888888888888,
             "#b5de2b"
            ],
            [
             1,
             "#fde725"
            ]
           ]
          },
          "colorway": [
           "#1F77B4",
           "#FF7F0E",
           "#2CA02C",
           "#D62728",
           "#9467BD",
           "#8C564B",
           "#E377C2",
           "#7F7F7F",
           "#BCBD22",
           "#17BECF"
          ],
          "font": {
           "color": "rgb(36,36,36)"
          },
          "geo": {
           "bgcolor": "white",
           "lakecolor": "white",
           "landcolor": "white",
           "showlakes": true,
           "showland": true,
           "subunitcolor": "white"
          },
          "hoverlabel": {
           "align": "left"
          },
          "hovermode": "closest",
          "mapbox": {
           "style": "light"
          },
          "paper_bgcolor": "white",
          "plot_bgcolor": "white",
          "polar": {
           "angularaxis": {
            "gridcolor": "rgb(232,232,232)",
            "linecolor": "rgb(36,36,36)",
            "showgrid": false,
            "showline": true,
            "ticks": "outside"
           },
           "bgcolor": "white",
           "radialaxis": {
            "gridcolor": "rgb(232,232,232)",
            "linecolor": "rgb(36,36,36)",
            "showgrid": false,
            "showline": true,
            "ticks": "outside"
           }
          },
          "scene": {
           "xaxis": {
            "backgroundcolor": "white",
            "gridcolor": "rgb(232,232,232)",
            "gridwidth": 2,
            "linecolor": "rgb(36,36,36)",
            "showbackground": true,
            "showgrid": false,
            "showline": true,
            "ticks": "outside",
            "zeroline": false,
            "zerolinecolor": "rgb(36,36,36)"
           },
           "yaxis": {
            "backgroundcolor": "white",
            "gridcolor": "rgb(232,232,232)",
            "gridwidth": 2,
            "linecolor": "rgb(36,36,36)",
            "showbackground": true,
            "showgrid": false,
            "showline": true,
            "ticks": "outside",
            "zeroline": false,
            "zerolinecolor": "rgb(36,36,36)"
           },
           "zaxis": {
            "backgroundcolor": "white",
            "gridcolor": "rgb(232,232,232)",
            "gridwidth": 2,
            "linecolor": "rgb(36,36,36)",
            "showbackground": true,
            "showgrid": false,
            "showline": true,
            "ticks": "outside",
            "zeroline": false,
            "zerolinecolor": "rgb(36,36,36)"
           }
          },
          "shapedefaults": {
           "fillcolor": "black",
           "line": {
            "width": 0
           },
           "opacity": 0.3
          },
          "ternary": {
           "aaxis": {
            "gridcolor": "rgb(232,232,232)",
            "linecolor": "rgb(36,36,36)",
            "showgrid": false,
            "showline": true,
            "ticks": "outside"
           },
           "baxis": {
            "gridcolor": "rgb(232,232,232)",
            "linecolor": "rgb(36,36,36)",
            "showgrid": false,
            "showline": true,
            "ticks": "outside"
           },
           "bgcolor": "white",
           "caxis": {
            "gridcolor": "rgb(232,232,232)",
            "linecolor": "rgb(36,36,36)",
            "showgrid": false,
            "showline": true,
            "ticks": "outside"
           }
          },
          "title": {
           "x": 0.05
          },
          "xaxis": {
           "automargin": true,
           "gridcolor": "rgb(232,232,232)",
           "linecolor": "rgb(36,36,36)",
           "showgrid": false,
           "showline": true,
           "ticks": "outside",
           "title": {
            "standoff": 15
           },
           "zeroline": false,
           "zerolinecolor": "rgb(36,36,36)"
          },
          "yaxis": {
           "automargin": true,
           "gridcolor": "rgb(232,232,232)",
           "linecolor": "rgb(36,36,36)",
           "showgrid": false,
           "showline": true,
           "ticks": "outside",
           "title": {
            "standoff": 15
           },
           "zeroline": false,
           "zerolinecolor": "rgb(36,36,36)"
          }
         }
        },
        "title": {
         "font": {
          "color": "Black",
          "size": 22
         },
         "text": "<b>Topic Probability Distribution</b>",
         "x": 0.5,
         "xanchor": "center",
         "y": 0.95,
         "yanchor": "top"
        },
        "width": 800,
        "xaxis": {
         "title": {
          "text": "Probability"
         }
        }
       }
      }
     },
     "metadata": {},
     "output_type": "display_data"
    }
   ],
   "source": [
    "# Visualize the topic-document distribution for a single document\n",
    "topic_model.visualize_distribution(topic_distr[abstract_id], custom_labels=True)\n"
   ]
  },
  {
   "cell_type": "code",
   "execution_count": null,
   "id": "2436f47c",
   "metadata": {},
   "outputs": [],
   "source": [
    "# Calculate the topic distributions on a token-level\n",
    "# topic_distr, topic_token_distr = topic_model.approximate_distribution(abstracts, use_embedding_model=True)\n",
    "\n",
    "# Visualize the token-level distributions\n",
    "# df = topic_model.visualize_approximate_distribution(abstracts[abstract_id], topic_token_distr[0])\n",
    "# df\n"
   ]
  },
  {
   "cell_type": "code",
   "execution_count": 42,
   "id": "94fdfa46",
   "metadata": {},
   "outputs": [
    {
     "name": "stderr",
     "output_type": "stream",
     "text": [
      "100%|██████████| 1/1 [00:02<00:00,  2.89s/it]\n"
     ]
    }
   ],
   "source": [
    "# Reduce outliers\n",
    "new_topics = topic_model.reduce_outliers(abstracts, topics)\n",
    "\n",
    "# Reduce outliers with pre-calculate embeddings instead\n",
    "new_topics = topic_model.reduce_outliers(abstracts, topics, strategy=\"embeddings\", embeddings=embeddings)\n"
   ]
  },
  {
   "cell_type": "code",
   "execution_count": 43,
   "id": "eb0eac1d",
   "metadata": {},
   "outputs": [
    {
     "name": "stderr",
     "output_type": "stream",
     "text": [
      "2025-05-21 08:41:51,380 - BERTopic - WARNING: Using a custom list of topic assignments may lead to errors if topic reduction techniques are used afterwards. Make sure that manually assigning topics is the last step in the pipeline.Note that topic embeddings will also be created through weightedc-TF-IDF embeddings instead of centroid embeddings.\n"
     ]
    }
   ],
   "source": [
    "topic_model.update_topics(abstracts, topics=new_topics)\n"
   ]
  },
  {
   "cell_type": "code",
   "execution_count": null,
   "id": "dfcc8999",
   "metadata": {},
   "outputs": [
    {
     "data": {
      "text/html": [
       "<div>\n",
       "<style scoped>\n",
       "    .dataframe tbody tr th:only-of-type {\n",
       "        vertical-align: middle;\n",
       "    }\n",
       "\n",
       "    .dataframe tbody tr th {\n",
       "        vertical-align: top;\n",
       "    }\n",
       "\n",
       "    .dataframe thead th {\n",
       "        text-align: right;\n",
       "    }\n",
       "</style>\n",
       "<table border=\"1\" class=\"dataframe\">\n",
       "  <thead>\n",
       "    <tr style=\"text-align: right;\">\n",
       "      <th></th>\n",
       "      <th>Topic</th>\n",
       "      <th>Count</th>\n",
       "      <th>Name</th>\n",
       "      <th>Representation</th>\n",
       "      <th>KeyBERT</th>\n",
       "      <th>Flan-t5</th>\n",
       "      <th>MMR</th>\n",
       "      <th>POS</th>\n",
       "      <th>Representative_Docs</th>\n",
       "    </tr>\n",
       "  </thead>\n",
       "  <tbody>\n",
       "    <tr>\n",
       "      <th>0</th>\n",
       "      <td>0</td>\n",
       "      <td>1077</td>\n",
       "      <td>0_the_of_and_to</td>\n",
       "      <td>[the, of, and, to, in, cancer, will, for, is, ...</td>\n",
       "      <td>[cancer cells, tumors, metastatic, tumour, can...</td>\n",
       "      <td>[IPSIRIUS, , , , , , , , , ]</td>\n",
       "      <td>[cancer, cells, patients, project, immune, res...</td>\n",
       "      <td>[cancer, cell, cells, tumor, treatment, patien...</td>\n",
       "      <td>[Novel cancer molecular-targeted therapies all...</td>\n",
       "    </tr>\n",
       "    <tr>\n",
       "      <th>1</th>\n",
       "      <td>1</td>\n",
       "      <td>378</td>\n",
       "      <td>1_and_the_of_to</td>\n",
       "      <td>[and, the, of, to, in, will, for, with, is, by]</td>\n",
       "      <td>[sars cov, sars, covid 19, viruses, antiviral,...</td>\n",
       "      <td>[Virus: Virus: Virus: Virus: Virus: Virus: Vir...</td>\n",
       "      <td>[vaccine, malaria, viruses, immune, vaccines, ...</td>\n",
       "      <td>[viral, virus, vaccine, malaria, viruses, infe...</td>\n",
       "      <td>[Lower respiratory tract infections resulting ...</td>\n",
       "    </tr>\n",
       "    <tr>\n",
       "      <th>2</th>\n",
       "      <td>2</td>\n",
       "      <td>204</td>\n",
       "      <td>2_the_of_and_in</td>\n",
       "      <td>[the, of, and, in, ad, to, brain, disease, wil...</td>\n",
       "      <td>[microglia, neuroinflammation, neurodegenerati...</td>\n",
       "      <td>[human microglia transduce toxicity to neurons...</td>\n",
       "      <td>[dementia, microglia, neurodegenerative, alzhe...</td>\n",
       "      <td>[disease, brain, dementia, protein, neurodegen...</td>\n",
       "      <td>[The recently approved drugs for Alzheimers di...</td>\n",
       "    </tr>\n",
       "    <tr>\n",
       "      <th>3</th>\n",
       "      <td>3</td>\n",
       "      <td>189</td>\n",
       "      <td>3_the_and_of_to</td>\n",
       "      <td>[the, and, of, to, in, heart, cardiac, for, is...</td>\n",
       "      <td>[cardiomyocytes, myocardial, cardiac, cardiova...</td>\n",
       "      <td>[novel bioprinting for cardiac fibrosis, , , ,...</td>\n",
       "      <td>[heart, cardiac, patients, cardiovascular, str...</td>\n",
       "      <td>[heart, cardiac, patients, clinical, cardiovas...</td>\n",
       "      <td>[Cardiovascular diseases (CVDs) are the leadin...</td>\n",
       "    </tr>\n",
       "    <tr>\n",
       "      <th>4</th>\n",
       "      <td>4</td>\n",
       "      <td>195</td>\n",
       "      <td>4_and_the_of_to</td>\n",
       "      <td>[and, the, of, to, in, on, social, health, wil...</td>\n",
       "      <td>[eu, europe, european, crises, 19 pandemic, pa...</td>\n",
       "      <td>[REGROUP: resiliency, , , , , , , , , ]</td>\n",
       "      <td>[social, project, research, policy, covid, wom...</td>\n",
       "      <td>[social, political, health, pandemic, project,...</td>\n",
       "      <td>[RECOVER-GEU presents an innovative gendered p...</td>\n",
       "    </tr>\n",
       "    <tr>\n",
       "      <th>5</th>\n",
       "      <td>5</td>\n",
       "      <td>135</td>\n",
       "      <td>5_the_of_and_to</td>\n",
       "      <td>[the, of, and, to, in, resistance, antibiotics...</td>\n",
       "      <td>[antimicrobial resistance, antibiotic resistan...</td>\n",
       "      <td>[Antimicrobial resistance, , , , , , , , , ]</td>\n",
       "      <td>[antibiotics, antibiotic, antimicrobial, bacte...</td>\n",
       "      <td>[antibiotics, resistance, antibiotic, antimicr...</td>\n",
       "      <td>[The emergence of Gram-negative bacterial resi...</td>\n",
       "    </tr>\n",
       "    <tr>\n",
       "      <th>6</th>\n",
       "      <td>6</td>\n",
       "      <td>187</td>\n",
       "      <td>6_the_and_of_to</td>\n",
       "      <td>[the, and, of, to, in, for, bone, is, will, with]</td>\n",
       "      <td>[bone regeneration, bioprinting, tissue engine...</td>\n",
       "      <td>[BioForceInk: bioactive reinforcing bioink, , ...</td>\n",
       "      <td>[bone, tissue, oa, implants, bioprinting, cart...</td>\n",
       "      <td>[bone, tissue, pain, mechanical, implants, bio...</td>\n",
       "      <td>[Bone fracture nonunion (FNU) is one of the le...</td>\n",
       "    </tr>\n",
       "    <tr>\n",
       "      <th>7</th>\n",
       "      <td>7</td>\n",
       "      <td>113</td>\n",
       "      <td>7_gut_the_and_of</td>\n",
       "      <td>[gut, the, and, of, in, to, microbiome, ibd, w...</td>\n",
       "      <td>[gut microbiome, gut microbiota, microbiome, m...</td>\n",
       "      <td>[Inflammatory Bowel Disease, , , , , , , , , ]</td>\n",
       "      <td>[gut, ibd, microbiota, intestinal, microbiome,...</td>\n",
       "      <td>[gut, microbiota, intestinal, microbiome, host...</td>\n",
       "      <td>[The human gut microbiota, the trillions of mi...</td>\n",
       "    </tr>\n",
       "    <tr>\n",
       "      <th>8</th>\n",
       "      <td>8</td>\n",
       "      <td>139</td>\n",
       "      <td>8_food_and_the_of</td>\n",
       "      <td>[food, and, the, of, to, in, will, for, sustai...</td>\n",
       "      <td>[food systems, sustainable food, food security...</td>\n",
       "      <td>[INCiTiS-FOOD, , , , , , , , , ]</td>\n",
       "      <td>[food, sustainable, protein, food systems, nut...</td>\n",
       "      <td>[food, sustainable, protein, production, nutri...</td>\n",
       "      <td>[The agri-food industry faces numerous challen...</td>\n",
       "    </tr>\n",
       "    <tr>\n",
       "      <th>9</th>\n",
       "      <td>9</td>\n",
       "      <td>146</td>\n",
       "      <td>9_the_of_and_to</td>\n",
       "      <td>[the, of, and, to, in, will, brain, for, this,...</td>\n",
       "      <td>[cortex, neural, neurons, neuronal, neuroscien...</td>\n",
       "      <td>[psychiatric, , , , , , , , , ]</td>\n",
       "      <td>[brain, neural, psychiatric, cognitive, anxiet...</td>\n",
       "      <td>[brain, neural, disorders, visual, sensory, ac...</td>\n",
       "      <td>[An organism’s survival depends on accurately ...</td>\n",
       "    </tr>\n",
       "    <tr>\n",
       "      <th>10</th>\n",
       "      <td>10</td>\n",
       "      <td>98</td>\n",
       "      <td>10_plant_the_of_and</td>\n",
       "      <td>[plant, the, of, and, to, in, plants, will, cr...</td>\n",
       "      <td>[arabidopsis, plant growth, plant, plants, cro...</td>\n",
       "      <td>[SL biosensors, , , , , , , , , ]</td>\n",
       "      <td>[plant, plants, crop, crops, drought, soil, ro...</td>\n",
       "      <td>[plant, plants, crop, crops, drought, climate,...</td>\n",
       "      <td>[Agronomy faces significant global challenges ...</td>\n",
       "    </tr>\n",
       "    <tr>\n",
       "      <th>11</th>\n",
       "      <td>11</td>\n",
       "      <td>150</td>\n",
       "      <td>11_the_brain_and_of</td>\n",
       "      <td>[the, brain, and, of, to, in, will, for, with,...</td>\n",
       "      <td>[brain stimulation, neuromodulation, electrica...</td>\n",
       "      <td>[neuromodulation, , , , , , , , , ]</td>\n",
       "      <td>[brain, stimulation, epilepsy, neural, neurolo...</td>\n",
       "      <td>[brain, stimulation, epilepsy, neural, spinal,...</td>\n",
       "      <td>[The pathological alterations of neurological ...</td>\n",
       "    </tr>\n",
       "    <tr>\n",
       "      <th>12</th>\n",
       "      <td>12</td>\n",
       "      <td>85</td>\n",
       "      <td>12_the_and_of_to</td>\n",
       "      <td>[the, and, of, to, in, diabetes, insulin, meta...</td>\n",
       "      <td>[glucagon, insulin, islets, t1d, t2d, diabetes...</td>\n",
       "      <td>[Glucose-orchestrated islet inflammation, , , ...</td>\n",
       "      <td>[diabetes, insulin, glucose, obesity, t2d, cel...</td>\n",
       "      <td>[diabetes, insulin, glucose, obesity, cell, me...</td>\n",
       "      <td>[Obesity and type 2 diabetes continuously prog...</td>\n",
       "    </tr>\n",
       "    <tr>\n",
       "      <th>13</th>\n",
       "      <td>13</td>\n",
       "      <td>128</td>\n",
       "      <td>13_the_of_and_to</td>\n",
       "      <td>[the, of, and, to, in, for, will, is, by, as]</td>\n",
       "      <td>[catalysis, enantiomers, catalysts, catalytic,...</td>\n",
       "      <td>[chiral molecules containing axes of chirality...</td>\n",
       "      <td>[synthesis, chiral, molecules, chemistry, reac...</td>\n",
       "      <td>[synthesis, chiral, molecules, chemistry, reac...</td>\n",
       "      <td>[Late-stage functionalization (LSF) is a rapid...</td>\n",
       "    </tr>\n",
       "    <tr>\n",
       "      <th>14</th>\n",
       "      <td>14</td>\n",
       "      <td>52</td>\n",
       "      <td>14_liver_the_in_of</td>\n",
       "      <td>[liver, the, in, of, and, to, nafld, disease, ...</td>\n",
       "      <td>[nafld, disease nafld, liver fibrosis, fatty l...</td>\n",
       "      <td>[nafld, fatty liver disease, , , , , , , , , ]</td>\n",
       "      <td>[liver, nafld, liver disease, metabolic, hepat...</td>\n",
       "      <td>[liver, disease, metabolic, hepatic, fibrosis,...</td>\n",
       "      <td>[Liver cirrhosis and liver cancer are common a...</td>\n",
       "    </tr>\n",
       "    <tr>\n",
       "      <th>15</th>\n",
       "      <td>15</td>\n",
       "      <td>132</td>\n",
       "      <td>15_and_the_data_of</td>\n",
       "      <td>[and, the, data, of, to, in, for, will, health...</td>\n",
       "      <td>[health data, digital health, european health,...</td>\n",
       "      <td>[ai, , , , , , , , , ]</td>\n",
       "      <td>[data, ai, privacy, healthcare, health data, h...</td>\n",
       "      <td>[data, health, privacy, healthcare, digital, m...</td>\n",
       "      <td>[Integrated, high-quality personal health data...</td>\n",
       "    </tr>\n",
       "    <tr>\n",
       "      <th>16</th>\n",
       "      <td>16</td>\n",
       "      <td>62</td>\n",
       "      <td>16_obesity_and_the_of</td>\n",
       "      <td>[obesity, and, the, of, health, to, in, for, w...</td>\n",
       "      <td>[childhood obesity, obesity, overweight obesit...</td>\n",
       "      <td>[Obesity in Europe disproportionately affects ...</td>\n",
       "      <td>[obesity, interventions, prevention, metabolic...</td>\n",
       "      <td>[obesity, health, weight, interventions, overw...</td>\n",
       "      <td>[Changemaker objective: To implement &amp; evaluat...</td>\n",
       "    </tr>\n",
       "    <tr>\n",
       "      <th>17</th>\n",
       "      <td>17</td>\n",
       "      <td>38</td>\n",
       "      <td>17_the_eye_of_retina</td>\n",
       "      <td>[the, eye, of, retina, and, retinal, in, for, ...</td>\n",
       "      <td>[retinal diseases, intraocular, retina, retina...</td>\n",
       "      <td>[VISIONSAFE, , , , , , , , , ]</td>\n",
       "      <td>[retinal, retina, ocular, blindness, glaucoma,...</td>\n",
       "      <td>[eye, retinal, retina, ocular, blindness, visi...</td>\n",
       "      <td>[Rare Eye Diseases (REDs) are a major cause of...</td>\n",
       "    </tr>\n",
       "  </tbody>\n",
       "</table>\n",
       "</div>"
      ],
      "text/plain": [
       "    Topic  Count                   Name  \\\n",
       "0       0   1077        0_the_of_and_to   \n",
       "1       1    378        1_and_the_of_to   \n",
       "2       2    204        2_the_of_and_in   \n",
       "3       3    189        3_the_and_of_to   \n",
       "4       4    195        4_and_the_of_to   \n",
       "5       5    135        5_the_of_and_to   \n",
       "6       6    187        6_the_and_of_to   \n",
       "7       7    113       7_gut_the_and_of   \n",
       "8       8    139      8_food_and_the_of   \n",
       "9       9    146        9_the_of_and_to   \n",
       "10     10     98    10_plant_the_of_and   \n",
       "11     11    150    11_the_brain_and_of   \n",
       "12     12     85       12_the_and_of_to   \n",
       "13     13    128       13_the_of_and_to   \n",
       "14     14     52     14_liver_the_in_of   \n",
       "15     15    132     15_and_the_data_of   \n",
       "16     16     62  16_obesity_and_the_of   \n",
       "17     17     38   17_the_eye_of_retina   \n",
       "\n",
       "                                       Representation  \\\n",
       "0   [the, of, and, to, in, cancer, will, for, is, ...   \n",
       "1     [and, the, of, to, in, will, for, with, is, by]   \n",
       "2   [the, of, and, in, ad, to, brain, disease, wil...   \n",
       "3   [the, and, of, to, in, heart, cardiac, for, is...   \n",
       "4   [and, the, of, to, in, on, social, health, wil...   \n",
       "5   [the, of, and, to, in, resistance, antibiotics...   \n",
       "6   [the, and, of, to, in, for, bone, is, will, with]   \n",
       "7   [gut, the, and, of, in, to, microbiome, ibd, w...   \n",
       "8   [food, and, the, of, to, in, will, for, sustai...   \n",
       "9   [the, of, and, to, in, will, brain, for, this,...   \n",
       "10  [plant, the, of, and, to, in, plants, will, cr...   \n",
       "11  [the, brain, and, of, to, in, will, for, with,...   \n",
       "12  [the, and, of, to, in, diabetes, insulin, meta...   \n",
       "13      [the, of, and, to, in, for, will, is, by, as]   \n",
       "14  [liver, the, in, of, and, to, nafld, disease, ...   \n",
       "15  [and, the, data, of, to, in, for, will, health...   \n",
       "16  [obesity, and, the, of, health, to, in, for, w...   \n",
       "17  [the, eye, of, retina, and, retinal, in, for, ...   \n",
       "\n",
       "                                              KeyBERT  \\\n",
       "0   [cancer cells, tumors, metastatic, tumour, can...   \n",
       "1   [sars cov, sars, covid 19, viruses, antiviral,...   \n",
       "2   [microglia, neuroinflammation, neurodegenerati...   \n",
       "3   [cardiomyocytes, myocardial, cardiac, cardiova...   \n",
       "4   [eu, europe, european, crises, 19 pandemic, pa...   \n",
       "5   [antimicrobial resistance, antibiotic resistan...   \n",
       "6   [bone regeneration, bioprinting, tissue engine...   \n",
       "7   [gut microbiome, gut microbiota, microbiome, m...   \n",
       "8   [food systems, sustainable food, food security...   \n",
       "9   [cortex, neural, neurons, neuronal, neuroscien...   \n",
       "10  [arabidopsis, plant growth, plant, plants, cro...   \n",
       "11  [brain stimulation, neuromodulation, electrica...   \n",
       "12  [glucagon, insulin, islets, t1d, t2d, diabetes...   \n",
       "13  [catalysis, enantiomers, catalysts, catalytic,...   \n",
       "14  [nafld, disease nafld, liver fibrosis, fatty l...   \n",
       "15  [health data, digital health, european health,...   \n",
       "16  [childhood obesity, obesity, overweight obesit...   \n",
       "17  [retinal diseases, intraocular, retina, retina...   \n",
       "\n",
       "                                              Flan-t5  \\\n",
       "0                        [IPSIRIUS, , , , , , , , , ]   \n",
       "1   [Virus: Virus: Virus: Virus: Virus: Virus: Vir...   \n",
       "2   [human microglia transduce toxicity to neurons...   \n",
       "3   [novel bioprinting for cardiac fibrosis, , , ,...   \n",
       "4             [REGROUP: resiliency, , , , , , , , , ]   \n",
       "5        [Antimicrobial resistance, , , , , , , , , ]   \n",
       "6   [BioForceInk: bioactive reinforcing bioink, , ...   \n",
       "7      [Inflammatory Bowel Disease, , , , , , , , , ]   \n",
       "8                    [INCiTiS-FOOD, , , , , , , , , ]   \n",
       "9                     [psychiatric, , , , , , , , , ]   \n",
       "10                  [SL biosensors, , , , , , , , , ]   \n",
       "11                [neuromodulation, , , , , , , , , ]   \n",
       "12  [Glucose-orchestrated islet inflammation, , , ...   \n",
       "13  [chiral molecules containing axes of chirality...   \n",
       "14     [nafld, fatty liver disease, , , , , , , , , ]   \n",
       "15                             [ai, , , , , , , , , ]   \n",
       "16  [Obesity in Europe disproportionately affects ...   \n",
       "17                     [VISIONSAFE, , , , , , , , , ]   \n",
       "\n",
       "                                                  MMR  \\\n",
       "0   [cancer, cells, patients, project, immune, res...   \n",
       "1   [vaccine, malaria, viruses, immune, vaccines, ...   \n",
       "2   [dementia, microglia, neurodegenerative, alzhe...   \n",
       "3   [heart, cardiac, patients, cardiovascular, str...   \n",
       "4   [social, project, research, policy, covid, wom...   \n",
       "5   [antibiotics, antibiotic, antimicrobial, bacte...   \n",
       "6   [bone, tissue, oa, implants, bioprinting, cart...   \n",
       "7   [gut, ibd, microbiota, intestinal, microbiome,...   \n",
       "8   [food, sustainable, protein, food systems, nut...   \n",
       "9   [brain, neural, psychiatric, cognitive, anxiet...   \n",
       "10  [plant, plants, crop, crops, drought, soil, ro...   \n",
       "11  [brain, stimulation, epilepsy, neural, neurolo...   \n",
       "12  [diabetes, insulin, glucose, obesity, t2d, cel...   \n",
       "13  [synthesis, chiral, molecules, chemistry, reac...   \n",
       "14  [liver, nafld, liver disease, metabolic, hepat...   \n",
       "15  [data, ai, privacy, healthcare, health data, h...   \n",
       "16  [obesity, interventions, prevention, metabolic...   \n",
       "17  [retinal, retina, ocular, blindness, glaucoma,...   \n",
       "\n",
       "                                                  POS  \\\n",
       "0   [cancer, cell, cells, tumor, treatment, patien...   \n",
       "1   [viral, virus, vaccine, malaria, viruses, infe...   \n",
       "2   [disease, brain, dementia, protein, neurodegen...   \n",
       "3   [heart, cardiac, patients, clinical, cardiovas...   \n",
       "4   [social, political, health, pandemic, project,...   \n",
       "5   [antibiotics, resistance, antibiotic, antimicr...   \n",
       "6   [bone, tissue, pain, mechanical, implants, bio...   \n",
       "7   [gut, microbiota, intestinal, microbiome, host...   \n",
       "8   [food, sustainable, protein, production, nutri...   \n",
       "9   [brain, neural, disorders, visual, sensory, ac...   \n",
       "10  [plant, plants, crop, crops, drought, climate,...   \n",
       "11  [brain, stimulation, epilepsy, neural, spinal,...   \n",
       "12  [diabetes, insulin, glucose, obesity, cell, me...   \n",
       "13  [synthesis, chiral, molecules, chemistry, reac...   \n",
       "14  [liver, disease, metabolic, hepatic, fibrosis,...   \n",
       "15  [data, health, privacy, healthcare, digital, m...   \n",
       "16  [obesity, health, weight, interventions, overw...   \n",
       "17  [eye, retinal, retina, ocular, blindness, visi...   \n",
       "\n",
       "                                  Representative_Docs  \n",
       "0   [Novel cancer molecular-targeted therapies all...  \n",
       "1   [Lower respiratory tract infections resulting ...  \n",
       "2   [The recently approved drugs for Alzheimers di...  \n",
       "3   [Cardiovascular diseases (CVDs) are the leadin...  \n",
       "4   [RECOVER-GEU presents an innovative gendered p...  \n",
       "5   [The emergence of Gram-negative bacterial resi...  \n",
       "6   [Bone fracture nonunion (FNU) is one of the le...  \n",
       "7   [The human gut microbiota, the trillions of mi...  \n",
       "8   [The agri-food industry faces numerous challen...  \n",
       "9   [An organism’s survival depends on accurately ...  \n",
       "10  [Agronomy faces significant global challenges ...  \n",
       "11  [The pathological alterations of neurological ...  \n",
       "12  [Obesity and type 2 diabetes continuously prog...  \n",
       "13  [Late-stage functionalization (LSF) is a rapid...  \n",
       "14  [Liver cirrhosis and liver cancer are common a...  \n",
       "15  [Integrated, high-quality personal health data...  \n",
       "16  [Changemaker objective: To implement & evaluat...  \n",
       "17  [Rare Eye Diseases (REDs) are a major cause of...  "
      ]
     },
     "execution_count": 44,
     "metadata": {},
     "output_type": "execute_result"
    }
   ],
   "source": [
    "topic_model.get_topic_info()\n"
   ]
  },
  {
   "cell_type": "code",
   "execution_count": null,
   "id": "5fae575d",
   "metadata": {},
   "outputs": [],
   "source": [
    "# Visualize topics and documents\n",
    "fig = topic_model.visualize_documents(\n",
    "    titles,\n",
    "    reduced_embeddings=reduced_embeddings,\n",
    "    width=1200,\n",
    "    hide_annotations=True\n",
    ")\n",
    "\n",
    "# Update fonts of legend for easier visualization\n",
    "fig.update_layout(font=dict(size=16))\n"
   ]
  },
  {
   "cell_type": "code",
   "execution_count": null,
   "id": "1b0f7a27",
   "metadata": {},
   "outputs": [],
   "source": [
    "# Visualize barchart with ranked keywords\n",
    "topic_model.visualize_barchart()\n"
   ]
  },
  {
   "cell_type": "code",
   "execution_count": null,
   "id": "eac24894",
   "metadata": {},
   "outputs": [],
   "source": [
    "# Visualize relationships between topics\n",
    "# topic_model.visualize_heatmap(n_clusters=30)\n"
   ]
  },
  {
   "cell_type": "code",
   "execution_count": null,
   "id": "75ce8878",
   "metadata": {},
   "outputs": [],
   "source": [
    "# Visualize the potential hierarchical structure of topics\n",
    "# topic_model.visualize_hierarchy()\n"
   ]
  },
  {
   "cell_type": "code",
   "execution_count": null,
   "id": "6a4ef221",
   "metadata": {},
   "outputs": [],
   "source": [
    "# Visualize topics and documents\n",
    "fig = topic_model.visualize_document_datamap(\n",
    "    titles,\n",
    "    topics=list(range(30)),\n",
    "    reduced_embeddings=reduced_embeddings,\n",
    "    width=1200\n",
    ")\n",
    "fig\n"
   ]
  }
 ],
 "metadata": {
  "kernelspec": {
   "display_name": ".venv",
   "language": "python",
   "name": "python3"
  },
  "language_info": {
   "codemirror_mode": {
    "name": "ipython",
    "version": 3
   },
   "file_extension": ".py",
   "mimetype": "text/x-python",
   "name": "python",
   "nbconvert_exporter": "python",
   "pygments_lexer": "ipython3",
   "version": "3.10.12"
  }
 },
 "nbformat": 4,
 "nbformat_minor": 5
}
