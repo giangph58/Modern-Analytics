{
 "cells": [
  {
   "cell_type": "code",
   "execution_count": 1,
   "id": "61536661",
   "metadata": {},
   "outputs": [],
   "source": [
    "import pandas as pd\n"
   ]
  },
  {
   "cell_type": "code",
   "execution_count": 2,
   "id": "0eeb01ec",
   "metadata": {},
   "outputs": [
    {
     "data": {
      "text/plain": [
       "(3465, 26)"
      ]
     },
     "execution_count": 2,
     "metadata": {},
     "output_type": "execute_result"
    }
   ],
   "source": [
    "health_df = pd.read_csv(\"data/interim/health.csv\")\n",
    "health_df = health_df[health_df[\"status\"] != \"TERMINATED\"]\n",
    "health_df.shape\n"
   ]
  },
  {
   "cell_type": "code",
   "execution_count": 3,
   "id": "42c5e33b",
   "metadata": {},
   "outputs": [],
   "source": [
    "# Extract metadata\n",
    "abstracts = health_df[\"objective\"].to_numpy()\n",
    "titles = health_df[\"title\"].to_numpy()\n",
    "text = titles + \"\\n\" + abstracts\n"
   ]
  },
  {
   "cell_type": "code",
   "execution_count": 4,
   "id": "5796990e",
   "metadata": {},
   "outputs": [
    {
     "name": "stderr",
     "output_type": "stream",
     "text": [
      "Some weights of the model checkpoint at NovaSearch/stella_en_400M_v5 were not used when initializing NewModel: ['pooler.dense.bias', 'pooler.dense.weight']\n",
      "- This IS expected if you are initializing NewModel from the checkpoint of a model trained on another task or with another architecture (e.g. initializing a BertForSequenceClassification model from a BertForPreTraining model).\n",
      "- This IS NOT expected if you are initializing NewModel from the checkpoint of a model that you expect to be exactly identical (initializing a BertForSequenceClassification model from a BertForSequenceClassification model).\n"
     ]
    },
    {
     "data": {
      "application/vnd.jupyter.widget-view+json": {
       "model_id": "7b0e786d8bc4429bb82fdb595ad7dbe3",
       "version_major": 2,
       "version_minor": 0
      },
      "text/plain": [
       "Batches:   0%|          | 0/109 [00:00<?, ?it/s]"
      ]
     },
     "metadata": {},
     "output_type": "display_data"
    }
   ],
   "source": [
    "from sentence_transformers import SentenceTransformer\n",
    "\n",
    "# Create an embedding for each abstract\n",
    "embedding_model = SentenceTransformer(\"NovaSearch/stella_en_400M_v5\", trust_remote_code=True)\n",
    "embeddings = embedding_model.encode(text, show_progress_bar=True)\n"
   ]
  },
  {
   "cell_type": "code",
   "execution_count": 5,
   "id": "0869ed9a",
   "metadata": {},
   "outputs": [
    {
     "data": {
      "text/plain": [
       "(3465, 1024)"
      ]
     },
     "execution_count": 5,
     "metadata": {},
     "output_type": "execute_result"
    }
   ],
   "source": [
    "embeddings.shape\n"
   ]
  },
  {
   "cell_type": "code",
   "execution_count": 6,
   "id": "affc754e",
   "metadata": {},
   "outputs": [
    {
     "name": "stderr",
     "output_type": "stream",
     "text": [
      "/storage/projects/climate_llm/Modern-Analytics/.venv/lib/python3.10/site-packages/sklearn/utils/deprecation.py:151: FutureWarning: 'force_all_finite' was renamed to 'ensure_all_finite' in 1.6 and will be removed in 1.8.\n",
      "  warnings.warn(\n",
      "/storage/projects/climate_llm/Modern-Analytics/.venv/lib/python3.10/site-packages/umap/umap_.py:1952: UserWarning: n_jobs value 1 overridden to 1 by setting random_state. Use no seed for parallelism.\n",
      "  warn(\n",
      "/storage/projects/climate_llm/Modern-Analytics/.venv/lib/python3.10/site-packages/numba/np/ufunc/parallel.py:371: NumbaWarning: The TBB threading layer requires TBB version 2021 update 6 or later i.e., TBB_INTERFACE_VERSION >= 12060. Found TBB_INTERFACE_VERSION = 12050. The TBB threading layer is disabled.\n",
      "  warnings.warn(problem)\n"
     ]
    }
   ],
   "source": [
    "from umap import UMAP\n",
    "\n",
    "# We reduce the input embeddings from 384 dimensions to 5 dimensions\n",
    "umap_model = UMAP(\n",
    "    n_neighbors=15, n_components=5, min_dist=0.0, metric='cosine', random_state=42\n",
    "    )\n",
    "reduced_embeddings = umap_model.fit_transform(embeddings)\n"
   ]
  },
  {
   "cell_type": "code",
   "execution_count": 7,
   "id": "6acb5efb",
   "metadata": {},
   "outputs": [
    {
     "name": "stderr",
     "output_type": "stream",
     "text": [
      "/storage/projects/climate_llm/Modern-Analytics/.venv/lib/python3.10/site-packages/sklearn/utils/deprecation.py:151: FutureWarning: 'force_all_finite' was renamed to 'ensure_all_finite' in 1.6 and will be removed in 1.8.\n",
      "  warnings.warn(\n",
      "/storage/projects/climate_llm/Modern-Analytics/.venv/lib/python3.10/site-packages/sklearn/utils/deprecation.py:151: FutureWarning: 'force_all_finite' was renamed to 'ensure_all_finite' in 1.6 and will be removed in 1.8.\n",
      "  warnings.warn(\n"
     ]
    },
    {
     "data": {
      "text/plain": [
       "24"
      ]
     },
     "execution_count": 7,
     "metadata": {},
     "output_type": "execute_result"
    }
   ],
   "source": [
    "from hdbscan import HDBSCAN\n",
    "\n",
    "# We fit the model and extract the clusters\n",
    "hdbscan_model = HDBSCAN(\n",
    "    min_cluster_size=25,\n",
    "    metric=\"euclidean\",\n",
    "    cluster_selection_method=\"eom\",\n",
    "    # min_samples=15,\n",
    ").fit(reduced_embeddings)\n",
    "\n",
    "clusters = hdbscan_model.labels_\n",
    "\n",
    "# How many clusters did we generate?\n",
    "len(set(clusters))\n"
   ]
  },
  {
   "cell_type": "code",
   "execution_count": 8,
   "id": "63994348",
   "metadata": {},
   "outputs": [
    {
     "name": "stdout",
     "output_type": "stream",
     "text": [
      "OphtiMedRx is an ophthalmic drug development start-up company led by a team of exceptional women physicians and scientists led by Dr. Dana Rabinovich. OphtiMedRx is developing a novel drug for treating dry age-related macular degeneration (AMD), a leading cause of vision loss. There is no available ... \n",
      "\n",
      "StemSight is developing off-the-shelf stem cell therapies to cure blindness. We aim to solve the global shortage of corneal donor tissue by producing high-quality tissue products using allogeneic induced pluripotent stem cells (iPSCs) and biomaterials. Our lead product is aimed at a rare but severe ... \n",
      "\n",
      "I am the CEO and Cofounder of SeaBeLife, a French biotechnology company developing First-In-Class drugs to treat severe pathologies affecting our vital organs for which there are no effective treatments. We develop an innovative therapeutic approach protected by 4 patents and with a lead program to ... \n",
      "\n"
     ]
    }
   ],
   "source": [
    "import numpy as np\n",
    "# Print first three documents in cluster 0\n",
    "cluster = 0\n",
    "\n",
    "for index in np.where(clusters==cluster)[0][:3]:\n",
    "    print(abstracts[index][:300] + \"... \\n\")\n",
    "    "
   ]
  },
  {
   "cell_type": "code",
   "execution_count": 9,
   "id": "6ebb2e6d",
   "metadata": {},
   "outputs": [],
   "source": [
    "# Check clusters\n",
    "# import pandas as pd\n",
    "# import matplotlib.pyplot as plt\n",
    "\n",
    "# Reduce 384-dimensional embeddings to two dimensions for easier visualization\n",
    "# reduced_embeddings = UMAP(\n",
    "#     n_components=2, min_dist=0.0, metric=\"cosine\", random_state=42\n",
    "# ).fit_transform(embeddings)\n",
    "\n",
    "# Create dataframe\n",
    "# df = pd.DataFrame(reduced_embeddings, columns=[\"x\", \"y\"])\n",
    "# df[\"title\"] = titles\n",
    "# df[\"cluster\"] = [str(c) for c in clusters]\n",
    "\n",
    "# Select outliers and non-outliers (clusters)\n",
    "# to_plot = df.loc[df.cluster != \"-1\", :]\n",
    "# outliers = df.loc[df.cluster == \"-1\", :]\n",
    "\n",
    "# print(to_plot.shape)\n",
    "# print(outliers.shape)\n",
    "\n",
    "# Plot outliers and non-outliers separately\n",
    "# plt.scatter(outliers.x, outliers.y, alpha=0.05, s=2, c=\"grey\")\n",
    "# plt.scatter(to_plot.x, to_plot.y, c=to_plot.cluster.astype(int),\n",
    "            # alpha=0.6, s=2, cmap=\"tab20b\"\n",
    "# )\n",
    "# plt.axis(\"off\")\n"
   ]
  },
  {
   "cell_type": "code",
   "execution_count": 10,
   "id": "9de081b5",
   "metadata": {},
   "outputs": [],
   "source": [
    "from sklearn.feature_extraction.text import CountVectorizer\n",
    "from nltk.corpus import stopwords\n",
    "\n",
    "stopwords = list(stopwords.words(\"english\")) + [\"project\", \"health\", \"research\", \"medical\"]\n",
    "vectorizer_model = CountVectorizer(stop_words=stopwords, min_df=2, ngram_range=(1, 2))\n"
   ]
  },
  {
   "cell_type": "code",
   "execution_count": 11,
   "id": "4228ec8f",
   "metadata": {},
   "outputs": [
    {
     "name": "stderr",
     "output_type": "stream",
     "text": [
      "Device set to use cuda:0\n"
     ]
    }
   ],
   "source": [
    "from transformers import pipeline\n",
    "from bertopic.representation import TextGeneration\n",
    "from bertopic.representation import KeyBERTInspired, MaximalMarginalRelevance, PartOfSpeech\n",
    "# from spacy.cli import download\n",
    "\n",
    "# KeyBERT\n",
    "keybert_model = KeyBERTInspired()\n",
    "\n",
    "# Part-of-Speech\n",
    "# download(\"en_core_web_sm\")\n",
    "pos_model = PartOfSpeech(\n",
    "    \"/home/gpham/.local/lib/python3.10/site-packages/en_core_sci_lg/en_core_sci_lg-0.5.4\"\n",
    "    )\n",
    "\n",
    "# MMR\n",
    "mmr_model = MaximalMarginalRelevance(diversity=0.2)\n",
    "\n",
    "# Flan-t5\n",
    "prompt = \"\"\"\n",
    "I have a topic that contains the following documents:\n",
    "[DOCUMENTS]\n",
    "The topic is described by the following keywords: [KEYWORDS]\n",
    "\n",
    "Based on the information above, extract a short but highly descriptive topic label of at most 5 words. Make sure it is in the following format:\n",
    "topic: <topic label>\n",
    "\"\"\"\n",
    "# Update our topic representations using Flan-T5\n",
    "generator = pipeline(\"text2text-generation\", model=\"google/flan-t5-small\")\n",
    "flant5_model = TextGeneration(\n",
    "    generator, prompt=prompt, doc_length=350, tokenizer=\"whitespace\"\n",
    ")\n",
    "\n",
    "# All representation models\n",
    "representation_model = {\n",
    "    \"KeyBERT\": keybert_model,\n",
    "    # \"Flan-t5\": flant5_model,\n",
    "    \"MMR\": mmr_model,\n",
    "    \"POS\": pos_model,\n",
    "}\n"
   ]
  },
  {
   "cell_type": "code",
   "execution_count": 12,
   "id": "38fb4803",
   "metadata": {},
   "outputs": [
    {
     "name": "stderr",
     "output_type": "stream",
     "text": [
      "2025-05-26 10:25:55,680 - BERTopic - Dimensionality - Fitting the dimensionality reduction algorithm\n",
      "2025-05-26 10:26:15,407 - BERTopic - Dimensionality - Completed ✓\n",
      "2025-05-26 10:26:15,410 - BERTopic - Cluster - Start clustering the reduced embeddings\n",
      "2025-05-26 10:26:15,480 - BERTopic - Cluster - Completed ✓\n",
      "2025-05-26 10:26:15,485 - BERTopic - Representation - Fine-tuning topics using representation models.\n",
      "2025-05-26 10:26:39,139 - BERTopic - Representation - Completed ✓\n"
     ]
    }
   ],
   "source": [
    "from bertopic import BERTopic\n",
    "\n",
    "# Train our model with our previously defined models\n",
    "# topic_model = BERTopic(\n",
    "#     embedding_model=embedding_model,\n",
    "#     umap_model=umap_model,\n",
    "#     hdbscan_model=hdbscan_model,\n",
    "#     verbose=True\n",
    "# ).fit(abstracts, embeddings)\n",
    "\n",
    "topic_model = BERTopic(\n",
    "  # Pipeline models\n",
    "  embedding_model=embedding_model,\n",
    "  umap_model=umap_model,\n",
    "  hdbscan_model=hdbscan_model,\n",
    "  vectorizer_model=vectorizer_model,\n",
    "  representation_model=representation_model,\n",
    "\n",
    "  # Hyperparameters\n",
    "  top_n_words=10,\n",
    "  verbose=True,\n",
    "  language=\"english\"\n",
    ")\n",
    "\n",
    "topics, probs = topic_model.fit_transform(text, embeddings)\n"
   ]
  },
  {
   "cell_type": "code",
   "execution_count": 13,
   "id": "afb69ea0",
   "metadata": {},
   "outputs": [
    {
     "data": {
      "text/html": [
       "<div>\n",
       "<style scoped>\n",
       "    .dataframe tbody tr th:only-of-type {\n",
       "        vertical-align: middle;\n",
       "    }\n",
       "\n",
       "    .dataframe tbody tr th {\n",
       "        vertical-align: top;\n",
       "    }\n",
       "\n",
       "    .dataframe thead th {\n",
       "        text-align: right;\n",
       "    }\n",
       "</style>\n",
       "<table border=\"1\" class=\"dataframe\">\n",
       "  <thead>\n",
       "    <tr style=\"text-align: right;\">\n",
       "      <th></th>\n",
       "      <th>Topic</th>\n",
       "      <th>Count</th>\n",
       "      <th>Name</th>\n",
       "      <th>Representation</th>\n",
       "      <th>KeyBERT</th>\n",
       "      <th>MMR</th>\n",
       "      <th>POS</th>\n",
       "      <th>Representative_Docs</th>\n",
       "    </tr>\n",
       "  </thead>\n",
       "  <tbody>\n",
       "    <tr>\n",
       "      <th>0</th>\n",
       "      <td>-1</td>\n",
       "      <td>949</td>\n",
       "      <td>-1_new_data_based_brain</td>\n",
       "      <td>[new, data, based, brain, development, human, ...</td>\n",
       "      <td>[ai, brain, approaches, clinical, patients, ai...</td>\n",
       "      <td>[new, data, brain, disease, develop, clinical,...</td>\n",
       "      <td>[new, data, brain, development, human, high, d...</td>\n",
       "      <td>[Virtual Brain Twin for personalised treatment...</td>\n",
       "    </tr>\n",
       "    <tr>\n",
       "      <th>1</th>\n",
       "      <td>0</td>\n",
       "      <td>694</td>\n",
       "      <td>0_cancer_cell_cells_tumor</td>\n",
       "      <td>[cancer, cell, cells, tumor, therapy, immune, ...</td>\n",
       "      <td>[cancer cells, immunotherapy, tumours, tumors,...</td>\n",
       "      <td>[cancer, cell, cells, tumor, tumour, therapies...</td>\n",
       "      <td>[cancer, cell, cells, tumor, therapy, immune, ...</td>\n",
       "      <td>[Cancer cell plasticity on targeted therapy\\nN...</td>\n",
       "    </tr>\n",
       "    <tr>\n",
       "      <th>2</th>\n",
       "      <td>1</td>\n",
       "      <td>258</td>\n",
       "      <td>1_viral_virus_malaria_vaccine</td>\n",
       "      <td>[viral, virus, malaria, vaccine, viruses, infe...</td>\n",
       "      <td>[sars cov, antiviral, sars, vaccines, vaccine,...</td>\n",
       "      <td>[virus, malaria, vaccine, viruses, antiviral, ...</td>\n",
       "      <td>[viral, virus, malaria, vaccine, viruses, infe...</td>\n",
       "      <td>[Respiratory Host-Pathogen Interaction\\nLower ...</td>\n",
       "    </tr>\n",
       "    <tr>\n",
       "      <th>3</th>\n",
       "      <td>2</td>\n",
       "      <td>195</td>\n",
       "      <td>2_social_policy_pandemic_political</td>\n",
       "      <td>[social, policy, pandemic, political, mental, ...</td>\n",
       "      <td>[19 pandemic, covid 19, covid, eu, pandemic, i...</td>\n",
       "      <td>[social, policy, pandemic, eu, public, covid, ...</td>\n",
       "      <td>[social, policy, pandemic, political, mental, ...</td>\n",
       "      <td>[VET PARTICIPATION, RETENTION, AND EDUCATIONAL...</td>\n",
       "    </tr>\n",
       "    <tr>\n",
       "      <th>4</th>\n",
       "      <td>3</td>\n",
       "      <td>167</td>\n",
       "      <td>3_cancer_imaging_ai_breast</td>\n",
       "      <td>[cancer, imaging, ai, breast, detection, time,...</td>\n",
       "      <td>[breast cancer, biopsy, diagnostics, imaging, ...</td>\n",
       "      <td>[cancer, imaging, ai, breast, detection, bioma...</td>\n",
       "      <td>[cancer, imaging, breast, detection, time, dia...</td>\n",
       "      <td>[Surface-enhanced Raman spectroscopy in liquid...</td>\n",
       "    </tr>\n",
       "    <tr>\n",
       "      <th>5</th>\n",
       "      <td>4</td>\n",
       "      <td>144</td>\n",
       "      <td>4_ad_disease_brain_protein</td>\n",
       "      <td>[ad, disease, brain, protein, alzheimer, micro...</td>\n",
       "      <td>[microglia, neuroinflammation, neurodegenerati...</td>\n",
       "      <td>[alzheimer, microglia, neurodegenerative, alzh...</td>\n",
       "      <td>[disease, brain, protein, microglia, neurodege...</td>\n",
       "      <td>[Deciphering the microglia-neuron interactions...</td>\n",
       "    </tr>\n",
       "    <tr>\n",
       "      <th>6</th>\n",
       "      <td>5</td>\n",
       "      <td>106</td>\n",
       "      <td>5_food_sustainable_production_aquaculture</td>\n",
       "      <td>[food, sustainable, production, aquaculture, c...</td>\n",
       "      <td>[food systems, food system, sustainable food, ...</td>\n",
       "      <td>[food, sustainable, aquaculture, food systems,...</td>\n",
       "      <td>[food, sustainable, production, aquaculture, c...</td>\n",
       "      <td>[On a Quest for Data-Driven Innovations to fue...</td>\n",
       "    </tr>\n",
       "    <tr>\n",
       "      <th>7</th>\n",
       "      <td>6</td>\n",
       "      <td>94</td>\n",
       "      <td>6_bone_tissue_pain_bioprinting</td>\n",
       "      <td>[bone, tissue, pain, bioprinting, oa, 3d, impl...</td>\n",
       "      <td>[bone regeneration, 3d bioprinting, bioprintin...</td>\n",
       "      <td>[bone, bioprinting, oa, implants, cartilage, r...</td>\n",
       "      <td>[bone, tissue, pain, bioprinting, implants, re...</td>\n",
       "      <td>[Drug solution for bone fracture nonunions\\nBo...</td>\n",
       "    </tr>\n",
       "    <tr>\n",
       "      <th>8</th>\n",
       "      <td>7</td>\n",
       "      <td>90</td>\n",
       "      <td>7_bacteria_antibiotics_bacterial_resistance</td>\n",
       "      <td>[bacteria, antibiotics, bacterial, resistance,...</td>\n",
       "      <td>[antimicrobial resistance, antibiotic resistan...</td>\n",
       "      <td>[bacteria, antibiotics, bacterial, antibiotic,...</td>\n",
       "      <td>[bacteria, antibiotics, bacterial, resistance,...</td>\n",
       "      <td>[Advanced Multidisciplinary Research for Antim...</td>\n",
       "    </tr>\n",
       "    <tr>\n",
       "      <th>9</th>\n",
       "      <td>8</td>\n",
       "      <td>89</td>\n",
       "      <td>8_gut_ibd_microbiome_microbiota</td>\n",
       "      <td>[gut, ibd, microbiome, microbiota, intestinal,...</td>\n",
       "      <td>[gut microbiome, gut microbiota, microbiome, g...</td>\n",
       "      <td>[gut, ibd, microbiome, microbiota, intestinal,...</td>\n",
       "      <td>[gut, microbiome, microbiota, intestinal, host...</td>\n",
       "      <td>[Mechanistic study of gut microbial biotransfo...</td>\n",
       "    </tr>\n",
       "    <tr>\n",
       "      <th>10</th>\n",
       "      <td>9</td>\n",
       "      <td>87</td>\n",
       "      <td>9_plant_plants_crop_climate</td>\n",
       "      <td>[plant, plants, crop, climate, drought, specie...</td>\n",
       "      <td>[arabidopsis, plant, plants, crop, crops, seed...</td>\n",
       "      <td>[plant, plants, crop, drought, species, climat...</td>\n",
       "      <td>[plant, plants, crop, climate, drought, specie...</td>\n",
       "      <td>[From wild to crop: unravelling the impact of ...</td>\n",
       "    </tr>\n",
       "    <tr>\n",
       "      <th>11</th>\n",
       "      <td>10</td>\n",
       "      <td>83</td>\n",
       "      <td>10_brain_epilepsy_stimulation_neural</td>\n",
       "      <td>[brain, epilepsy, stimulation, neural, invasiv...</td>\n",
       "      <td>[brain stimulation, neuromodulation, eeg, elec...</td>\n",
       "      <td>[epilepsy, stimulation, neural, neurological, ...</td>\n",
       "      <td>[brain, epilepsy, stimulation, neural, invasiv...</td>\n",
       "      <td>[AEGEUS - A Novel EEG Ultrasound Device for Fu...</td>\n",
       "    </tr>\n",
       "    <tr>\n",
       "      <th>12</th>\n",
       "      <td>11</td>\n",
       "      <td>82</td>\n",
       "      <td>11_heart_patients_stroke_clinical</td>\n",
       "      <td>[heart, patients, stroke, clinical, treatment,...</td>\n",
       "      <td>[heart failure, atrial fibrillation, cardiovas...</td>\n",
       "      <td>[heart, patients, stroke, cardiac, cardiovascu...</td>\n",
       "      <td>[heart, patients, stroke, clinical, treatment,...</td>\n",
       "      <td>[Health virtual twins for the personalised man...</td>\n",
       "    </tr>\n",
       "    <tr>\n",
       "      <th>13</th>\n",
       "      <td>12</td>\n",
       "      <td>53</td>\n",
       "      <td>12_data_privacy_european_ai</td>\n",
       "      <td>[data, privacy, european, ai, healthcare, digi...</td>\n",
       "      <td>[ai, healthcare, eu, data, federated, framewor...</td>\n",
       "      <td>[data, privacy, ai, healthcare, digital, eu, c...</td>\n",
       "      <td>[data, privacy, healthcare, digital, use, inno...</td>\n",
       "      <td>[Federate Learning and mUlti-party computation...</td>\n",
       "    </tr>\n",
       "    <tr>\n",
       "      <th>14</th>\n",
       "      <td>13</td>\n",
       "      <td>51</td>\n",
       "      <td>13_cardiac_heart_human_cardiomyocytes</td>\n",
       "      <td>[cardiac, heart, human, cardiomyocytes, hf, ti...</td>\n",
       "      <td>[cardiac regeneration, cardiomyocytes, cardiac...</td>\n",
       "      <td>[cardiac, heart, cardiomyocytes, heart failure...</td>\n",
       "      <td>[cardiac, heart, human, cardiomyocytes, tissue...</td>\n",
       "      <td>[Surgical optogenetic bioprinting of engineere...</td>\n",
       "    </tr>\n",
       "    <tr>\n",
       "      <th>15</th>\n",
       "      <td>14</td>\n",
       "      <td>48</td>\n",
       "      <td>14_liver_nafld_metabolic_liver disease</td>\n",
       "      <td>[liver, nafld, metabolic, liver disease, disea...</td>\n",
       "      <td>[nafld, disease nafld, liver fibrosis, fatty l...</td>\n",
       "      <td>[liver, nafld, metabolic, liver disease, hepat...</td>\n",
       "      <td>[liver, metabolic, disease, fatty, hepatic, fa...</td>\n",
       "      <td>[Understanding Metabolic Activation of Dendrit...</td>\n",
       "    </tr>\n",
       "    <tr>\n",
       "      <th>16</th>\n",
       "      <td>15</td>\n",
       "      <td>47</td>\n",
       "      <td>15_neural_visual_brain_sensory</td>\n",
       "      <td>[neural, visual, brain, sensory, circuits, dec...</td>\n",
       "      <td>[neural circuits, neural activity, cortex, cor...</td>\n",
       "      <td>[neural, brain, sensory, perception, stimuli, ...</td>\n",
       "      <td>[neural, visual, brain, sensory, circuits, dec...</td>\n",
       "      <td>[Correcting for self: The impact of head motio...</td>\n",
       "    </tr>\n",
       "    <tr>\n",
       "      <th>17</th>\n",
       "      <td>16</td>\n",
       "      <td>39</td>\n",
       "      <td>16_diabetes_insulin_glucose_t2d</td>\n",
       "      <td>[diabetes, insulin, glucose, t2d, cell, type d...</td>\n",
       "      <td>[insulin, t1d, insulin resistance, glucagon, i...</td>\n",
       "      <td>[diabetes, insulin, glucose, t2d, type diabete...</td>\n",
       "      <td>[diabetes, insulin, glucose, cell, type, cells...</td>\n",
       "      <td>[Unobtrusive Continuous Multi-Metabolite Monit...</td>\n",
       "    </tr>\n",
       "    <tr>\n",
       "      <th>18</th>\n",
       "      <td>17</td>\n",
       "      <td>39</td>\n",
       "      <td>17_synthesis_reactions_molecules_chemistry</td>\n",
       "      <td>[synthesis, reactions, molecules, chemistry, c...</td>\n",
       "      <td>[synthetic chemistry, catalysis, catalysts, en...</td>\n",
       "      <td>[synthesis, reactions, molecules, chemistry, c...</td>\n",
       "      <td>[synthesis, reactions, molecules, chemistry, c...</td>\n",
       "      <td>[New late-stage functionalization reagents for...</td>\n",
       "    </tr>\n",
       "    <tr>\n",
       "      <th>19</th>\n",
       "      <td>18</td>\n",
       "      <td>35</td>\n",
       "      <td>18_pandemic_preparedness_biodiversity_diseases</td>\n",
       "      <td>[pandemic, preparedness, biodiversity, disease...</td>\n",
       "      <td>[pandemic preparedness, emerging infectious, p...</td>\n",
       "      <td>[pandemic, preparedness, epidemic, covid, zoon...</td>\n",
       "      <td>[pandemic, preparedness, biodiversity, disease...</td>\n",
       "      <td>[Pandemic literacy and viral zoonotic spillove...</td>\n",
       "    </tr>\n",
       "    <tr>\n",
       "      <th>20</th>\n",
       "      <td>19</td>\n",
       "      <td>34</td>\n",
       "      <td>19_cancer_care_prevention_patients</td>\n",
       "      <td>[cancer, care, prevention, patients, implement...</td>\n",
       "      <td>[european cancer, cancer mission, cancer care,...</td>\n",
       "      <td>[cancer, prevention, palliative, cancer patien...</td>\n",
       "      <td>[cancer, care, prevention, patients, implement...</td>\n",
       "      <td>[A European-wide foundation to accelerate Data...</td>\n",
       "    </tr>\n",
       "    <tr>\n",
       "      <th>21</th>\n",
       "      <td>20</td>\n",
       "      <td>30</td>\n",
       "      <td>20_eye_retinal_ocular_retina</td>\n",
       "      <td>[eye, retinal, ocular, retina, vision, blindne...</td>\n",
       "      <td>[retinal diseases, macular degeneration, retin...</td>\n",
       "      <td>[eye, retinal, ocular, retina, blindness, macu...</td>\n",
       "      <td>[eye, retinal, ocular, retina, vision, blindne...</td>\n",
       "      <td>[I(eye)-SCREEN: A real-world AI-based infrastr...</td>\n",
       "    </tr>\n",
       "    <tr>\n",
       "      <th>22</th>\n",
       "      <td>21</td>\n",
       "      <td>26</td>\n",
       "      <td>21_kidney_ckd_renal_kidney disease</td>\n",
       "      <td>[kidney, ckd, renal, kidney disease, disease, ...</td>\n",
       "      <td>[kidney organoids, disease ckd, chronic kidney...</td>\n",
       "      <td>[kidney, ckd, renal, kidney disease, chronic k...</td>\n",
       "      <td>[kidney, renal, disease, chronic kidney, chron...</td>\n",
       "      <td>[Dissecting renal metabolic reprogramming hete...</td>\n",
       "    </tr>\n",
       "    <tr>\n",
       "      <th>23</th>\n",
       "      <td>22</td>\n",
       "      <td>25</td>\n",
       "      <td>22_pharmaceutical_sustainable_pharmaceuticals_...</td>\n",
       "      <td>[pharmaceutical, sustainable, pharmaceuticals,...</td>\n",
       "      <td>[pharma, pharmaceutical industry, pharmaceutic...</td>\n",
       "      <td>[pharmaceutical, sustainable, pharmaceuticals,...</td>\n",
       "      <td>[pharmaceutical, sustainable, pharmaceuticals,...</td>\n",
       "      <td>[Innovative Mechanochemical Processes to synth...</td>\n",
       "    </tr>\n",
       "  </tbody>\n",
       "</table>\n",
       "</div>"
      ],
      "text/plain": [
       "    Topic  Count                                               Name  \\\n",
       "0      -1    949                            -1_new_data_based_brain   \n",
       "1       0    694                          0_cancer_cell_cells_tumor   \n",
       "2       1    258                      1_viral_virus_malaria_vaccine   \n",
       "3       2    195                 2_social_policy_pandemic_political   \n",
       "4       3    167                         3_cancer_imaging_ai_breast   \n",
       "5       4    144                         4_ad_disease_brain_protein   \n",
       "6       5    106          5_food_sustainable_production_aquaculture   \n",
       "7       6     94                     6_bone_tissue_pain_bioprinting   \n",
       "8       7     90        7_bacteria_antibiotics_bacterial_resistance   \n",
       "9       8     89                    8_gut_ibd_microbiome_microbiota   \n",
       "10      9     87                        9_plant_plants_crop_climate   \n",
       "11     10     83               10_brain_epilepsy_stimulation_neural   \n",
       "12     11     82                  11_heart_patients_stroke_clinical   \n",
       "13     12     53                        12_data_privacy_european_ai   \n",
       "14     13     51              13_cardiac_heart_human_cardiomyocytes   \n",
       "15     14     48             14_liver_nafld_metabolic_liver disease   \n",
       "16     15     47                     15_neural_visual_brain_sensory   \n",
       "17     16     39                    16_diabetes_insulin_glucose_t2d   \n",
       "18     17     39         17_synthesis_reactions_molecules_chemistry   \n",
       "19     18     35     18_pandemic_preparedness_biodiversity_diseases   \n",
       "20     19     34                 19_cancer_care_prevention_patients   \n",
       "21     20     30                       20_eye_retinal_ocular_retina   \n",
       "22     21     26                 21_kidney_ckd_renal_kidney disease   \n",
       "23     22     25  22_pharmaceutical_sustainable_pharmaceuticals_...   \n",
       "\n",
       "                                       Representation  \\\n",
       "0   [new, data, based, brain, development, human, ...   \n",
       "1   [cancer, cell, cells, tumor, therapy, immune, ...   \n",
       "2   [viral, virus, malaria, vaccine, viruses, infe...   \n",
       "3   [social, policy, pandemic, political, mental, ...   \n",
       "4   [cancer, imaging, ai, breast, detection, time,...   \n",
       "5   [ad, disease, brain, protein, alzheimer, micro...   \n",
       "6   [food, sustainable, production, aquaculture, c...   \n",
       "7   [bone, tissue, pain, bioprinting, oa, 3d, impl...   \n",
       "8   [bacteria, antibiotics, bacterial, resistance,...   \n",
       "9   [gut, ibd, microbiome, microbiota, intestinal,...   \n",
       "10  [plant, plants, crop, climate, drought, specie...   \n",
       "11  [brain, epilepsy, stimulation, neural, invasiv...   \n",
       "12  [heart, patients, stroke, clinical, treatment,...   \n",
       "13  [data, privacy, european, ai, healthcare, digi...   \n",
       "14  [cardiac, heart, human, cardiomyocytes, hf, ti...   \n",
       "15  [liver, nafld, metabolic, liver disease, disea...   \n",
       "16  [neural, visual, brain, sensory, circuits, dec...   \n",
       "17  [diabetes, insulin, glucose, t2d, cell, type d...   \n",
       "18  [synthesis, reactions, molecules, chemistry, c...   \n",
       "19  [pandemic, preparedness, biodiversity, disease...   \n",
       "20  [cancer, care, prevention, patients, implement...   \n",
       "21  [eye, retinal, ocular, retina, vision, blindne...   \n",
       "22  [kidney, ckd, renal, kidney disease, disease, ...   \n",
       "23  [pharmaceutical, sustainable, pharmaceuticals,...   \n",
       "\n",
       "                                              KeyBERT  \\\n",
       "0   [ai, brain, approaches, clinical, patients, ai...   \n",
       "1   [cancer cells, immunotherapy, tumours, tumors,...   \n",
       "2   [sars cov, antiviral, sars, vaccines, vaccine,...   \n",
       "3   [19 pandemic, covid 19, covid, eu, pandemic, i...   \n",
       "4   [breast cancer, biopsy, diagnostics, imaging, ...   \n",
       "5   [microglia, neuroinflammation, neurodegenerati...   \n",
       "6   [food systems, food system, sustainable food, ...   \n",
       "7   [bone regeneration, 3d bioprinting, bioprintin...   \n",
       "8   [antimicrobial resistance, antibiotic resistan...   \n",
       "9   [gut microbiome, gut microbiota, microbiome, g...   \n",
       "10  [arabidopsis, plant, plants, crop, crops, seed...   \n",
       "11  [brain stimulation, neuromodulation, eeg, elec...   \n",
       "12  [heart failure, atrial fibrillation, cardiovas...   \n",
       "13  [ai, healthcare, eu, data, federated, framewor...   \n",
       "14  [cardiac regeneration, cardiomyocytes, cardiac...   \n",
       "15  [nafld, disease nafld, liver fibrosis, fatty l...   \n",
       "16  [neural circuits, neural activity, cortex, cor...   \n",
       "17  [insulin, t1d, insulin resistance, glucagon, i...   \n",
       "18  [synthetic chemistry, catalysis, catalysts, en...   \n",
       "19  [pandemic preparedness, emerging infectious, p...   \n",
       "20  [european cancer, cancer mission, cancer care,...   \n",
       "21  [retinal diseases, macular degeneration, retin...   \n",
       "22  [kidney organoids, disease ckd, chronic kidney...   \n",
       "23  [pharma, pharmaceutical industry, pharmaceutic...   \n",
       "\n",
       "                                                  MMR  \\\n",
       "0   [new, data, brain, disease, develop, clinical,...   \n",
       "1   [cancer, cell, cells, tumor, tumour, therapies...   \n",
       "2   [virus, malaria, vaccine, viruses, antiviral, ...   \n",
       "3   [social, policy, pandemic, eu, public, covid, ...   \n",
       "4   [cancer, imaging, ai, breast, detection, bioma...   \n",
       "5   [alzheimer, microglia, neurodegenerative, alzh...   \n",
       "6   [food, sustainable, aquaculture, food systems,...   \n",
       "7   [bone, bioprinting, oa, implants, cartilage, r...   \n",
       "8   [bacteria, antibiotics, bacterial, antibiotic,...   \n",
       "9   [gut, ibd, microbiome, microbiota, intestinal,...   \n",
       "10  [plant, plants, crop, drought, species, climat...   \n",
       "11  [epilepsy, stimulation, neural, neurological, ...   \n",
       "12  [heart, patients, stroke, cardiac, cardiovascu...   \n",
       "13  [data, privacy, ai, healthcare, digital, eu, c...   \n",
       "14  [cardiac, heart, cardiomyocytes, heart failure...   \n",
       "15  [liver, nafld, metabolic, liver disease, hepat...   \n",
       "16  [neural, brain, sensory, perception, stimuli, ...   \n",
       "17  [diabetes, insulin, glucose, t2d, type diabete...   \n",
       "18  [synthesis, reactions, molecules, chemistry, c...   \n",
       "19  [pandemic, preparedness, epidemic, covid, zoon...   \n",
       "20  [cancer, prevention, palliative, cancer patien...   \n",
       "21  [eye, retinal, ocular, retina, blindness, macu...   \n",
       "22  [kidney, ckd, renal, kidney disease, chronic k...   \n",
       "23  [pharmaceutical, sustainable, pharmaceuticals,...   \n",
       "\n",
       "                                                  POS  \\\n",
       "0   [new, data, brain, development, human, high, d...   \n",
       "1   [cancer, cell, cells, tumor, therapy, immune, ...   \n",
       "2   [viral, virus, malaria, vaccine, viruses, infe...   \n",
       "3   [social, policy, pandemic, political, mental, ...   \n",
       "4   [cancer, imaging, breast, detection, time, dia...   \n",
       "5   [disease, brain, protein, microglia, neurodege...   \n",
       "6   [food, sustainable, production, aquaculture, c...   \n",
       "7   [bone, tissue, pain, bioprinting, implants, re...   \n",
       "8   [bacteria, antibiotics, bacterial, resistance,...   \n",
       "9   [gut, microbiome, microbiota, intestinal, host...   \n",
       "10  [plant, plants, crop, climate, drought, specie...   \n",
       "11  [brain, epilepsy, stimulation, neural, invasiv...   \n",
       "12  [heart, patients, stroke, clinical, treatment,...   \n",
       "13  [data, privacy, healthcare, digital, use, inno...   \n",
       "14  [cardiac, heart, human, cardiomyocytes, tissue...   \n",
       "15  [liver, metabolic, disease, fatty, hepatic, fa...   \n",
       "16  [neural, visual, brain, sensory, circuits, dec...   \n",
       "17  [diabetes, insulin, glucose, cell, type, cells...   \n",
       "18  [synthesis, reactions, molecules, chemistry, c...   \n",
       "19  [pandemic, preparedness, biodiversity, disease...   \n",
       "20  [cancer, care, prevention, patients, implement...   \n",
       "21  [eye, retinal, ocular, retina, vision, blindne...   \n",
       "22  [kidney, renal, disease, chronic kidney, chron...   \n",
       "23  [pharmaceutical, sustainable, pharmaceuticals,...   \n",
       "\n",
       "                                  Representative_Docs  \n",
       "0   [Virtual Brain Twin for personalised treatment...  \n",
       "1   [Cancer cell plasticity on targeted therapy\\nN...  \n",
       "2   [Respiratory Host-Pathogen Interaction\\nLower ...  \n",
       "3   [VET PARTICIPATION, RETENTION, AND EDUCATIONAL...  \n",
       "4   [Surface-enhanced Raman spectroscopy in liquid...  \n",
       "5   [Deciphering the microglia-neuron interactions...  \n",
       "6   [On a Quest for Data-Driven Innovations to fue...  \n",
       "7   [Drug solution for bone fracture nonunions\\nBo...  \n",
       "8   [Advanced Multidisciplinary Research for Antim...  \n",
       "9   [Mechanistic study of gut microbial biotransfo...  \n",
       "10  [From wild to crop: unravelling the impact of ...  \n",
       "11  [AEGEUS - A Novel EEG Ultrasound Device for Fu...  \n",
       "12  [Health virtual twins for the personalised man...  \n",
       "13  [Federate Learning and mUlti-party computation...  \n",
       "14  [Surgical optogenetic bioprinting of engineere...  \n",
       "15  [Understanding Metabolic Activation of Dendrit...  \n",
       "16  [Correcting for self: The impact of head motio...  \n",
       "17  [Unobtrusive Continuous Multi-Metabolite Monit...  \n",
       "18  [New late-stage functionalization reagents for...  \n",
       "19  [Pandemic literacy and viral zoonotic spillove...  \n",
       "20  [A European-wide foundation to accelerate Data...  \n",
       "21  [I(eye)-SCREEN: A real-world AI-based infrastr...  \n",
       "22  [Dissecting renal metabolic reprogramming hete...  \n",
       "23  [Innovative Mechanochemical Processes to synth...  "
      ]
     },
     "execution_count": 13,
     "metadata": {},
     "output_type": "execute_result"
    }
   ],
   "source": [
    "topic_model.get_topic_info()\n"
   ]
  },
  {
   "cell_type": "code",
   "execution_count": 14,
   "id": "bca64adc",
   "metadata": {},
   "outputs": [
    {
     "data": {
      "application/vnd.plotly.v1+json": {
       "config": {
        "plotlyServerURL": "https://plot.ly"
       },
       "data": [
        {
         "hoverinfo": "text",
         "marker": {
          "color": "#CFD8DC",
          "opacity": 0.5,
          "size": 5
         },
         "mode": "markers+text",
         "name": "other",
         "showlegend": false,
         "type": "scattergl",
         "x": {
          "bdata": "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",
          "dtype": "f4"
         },
         "y": {
          "bdata": "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",
          "dtype": "f4"
         }
        },
        {
         "hoverinfo": "text",
         "marker": {
          "opacity": 0.5,
          "size": 5
         },
         "mode": "markers+text",
         "name": "0_cancer_cell_cells",
         "text": [
          "",
          "",
          "",
          "",
          "",
          "",
          "",
          "",
          "",
          "",
          "",
          "",
          "",
          "",
          "",
          "",
          "",
          "",
          "",
          "",
          "",
          "",
          "",
          "",
          "",
          "",
          "",
          "",
          "",
          "",
          "",
          "",
          "",
          "",
          "",
          "",
          "",
          "",
          "",
          "",
          "",
          "",
          "",
          "",
          "",
          "",
          "",
          "",
          "",
          "",
          "",
          "",
          "",
          "",
          "",
          "",
          "",
          "",
          "",
          "",
          "",
          "",
          "",
          "",
          "",
          "",
          "",
          "",
          "",
          "",
          "",
          "",
          "",
          "",
          "",
          "",
          "",
          "",
          "",
          "",
          "",
          "",
          "",
          "",
          "",
          "",
          "",
          "",
          "",
          "",
          "",
          "",
          "",
          "",
          "",
          "",
          "",
          "",
          "",
          "",
          "",
          "",
          "",
          "",
          "",
          "",
          "",
          "",
          "",
          "",
          "",
          "",
          "",
          "",
          "",
          "",
          "",
          "",
          "",
          "",
          "",
          "",
          "",
          "",
          "",
          "",
          "",
          "",
          "",
          "",
          "",
          "",
          "",
          "",
          "",
          "",
          "",
          "",
          "",
          "",
          "",
          "",
          "",
          "",
          "",
          "",
          "",
          "",
          "",
          "",
          "",
          "",
          "",
          "",
          "",
          "",
          "",
          "",
          "",
          "",
          "",
          "",
          "",
          "",
          "",
          "",
          "",
          "",
          "",
          "",
          "",
          "",
          "",
          "",
          "",
          "",
          "",
          "",
          "",
          "",
          "",
          "",
          "",
          "",
          "",
          "",
          "",
          "",
          "",
          "",
          "",
          "",
          "",
          "",
          "",
          "",
          "",
          "",
          "",
          "",
          "",
          "",
          "",
          "",
          "",
          "",
          "",
          "",
          "",
          "",
          "",
          "",
          "",
          "",
          "",
          "",
          "",
          "",
          "",
          "",
          "",
          "",
          "",
          "",
          "",
          "",
          "",
          "",
          "",
          "",
          "",
          "",
          "",
          "",
          "",
          "",
          "",
          "",
          "",
          "",
          "",
          "",
          "",
          "",
          "",
          "",
          "",
          "",
          "",
          "",
          "",
          "",
          "",
          "",
          "",
          "",
          "",
          "",
          "",
          "",
          "",
          "",
          "",
          "",
          "",
          "",
          "",
          "",
          "",
          "",
          "",
          "",
          "",
          "",
          "",
          "",
          "",
          "",
          "",
          "",
          "",
          "",
          "",
          "",
          "",
          "",
          "",
          "",
          "",
          "",
          "",
          "",
          "",
          "",
          "",
          "",
          "",
          "",
          "",
          "",
          "",
          "",
          "",
          "",
          "",
          "",
          "",
          "",
          "",
          "",
          "",
          "",
          "",
          "",
          "",
          "",
          "",
          "",
          "",
          "",
          "",
          "",
          "",
          "",
          "",
          "",
          "",
          "",
          "",
          "",
          "",
          "",
          "",
          "",
          "",
          "",
          "",
          "",
          "",
          "",
          "",
          "",
          "",
          "",
          "",
          "",
          "",
          "",
          "",
          "",
          "",
          "",
          "",
          "",
          "",
          "",
          "",
          "",
          "",
          "",
          "",
          "",
          "",
          "",
          "",
          "",
          "",
          "",
          "",
          "",
          "",
          "",
          "",
          "",
          "",
          "",
          "",
          "",
          "",
          "",
          "",
          "",
          "",
          "",
          "",
          "",
          "",
          "",
          "",
          "",
          "",
          "",
          "",
          "",
          "",
          "",
          "",
          "",
          "",
          "",
          "",
          "",
          "",
          "",
          "",
          "",
          "",
          "",
          "",
          "",
          "",
          "",
          "",
          "",
          "",
          "",
          "",
          "",
          "",
          "",
          "",
          "",
          "",
          "",
          "",
          "",
          "",
          "",
          "",
          "",
          "",
          "",
          "",
          "",
          "",
          "",
          "",
          "",
          "",
          "",
          "",
          "",
          "",
          "",
          "",
          "",
          "",
          "",
          "",
          "",
          "",
          "",
          "",
          "",
          "",
          "",
          "",
          "",
          "",
          "",
          "",
          "",
          "",
          "",
          "",
          "",
          "",
          "",
          "",
          "",
          "",
          "",
          "",
          "",
          "",
          "",
          "",
          "",
          "",
          "",
          "",
          "",
          "",
          "",
          "",
          "",
          "",
          "",
          "",
          "",
          "",
          "",
          "",
          "",
          "",
          "",
          "",
          "",
          "",
          "",
          "",
          "",
          "",
          "",
          "",
          "",
          "",
          "",
          "",
          "",
          "",
          "",
          "",
          "",
          "",
          "",
          "",
          "",
          "",
          "",
          "",
          "",
          "",
          "",
          "",
          "",
          "",
          "",
          "",
          "",
          "",
          "",
          "",
          "",
          "",
          "",
          "",
          "",
          "",
          "",
          "",
          "",
          "",
          "",
          "",
          "",
          "",
          "",
          "",
          "",
          "",
          "",
          "",
          "",
          "",
          "",
          "",
          "",
          "",
          "",
          "",
          "",
          "",
          "",
          "",
          "",
          "",
          "",
          "",
          "",
          "",
          "",
          "",
          "",
          "",
          "",
          "",
          "",
          "",
          "",
          "",
          "",
          "",
          "",
          "",
          "",
          "",
          "",
          "",
          "",
          "",
          "",
          "",
          "",
          "",
          "",
          "",
          "",
          "",
          "",
          "",
          "",
          "",
          "",
          "",
          "",
          "",
          "",
          "",
          "",
          "",
          "",
          "",
          "",
          "",
          "",
          "",
          "",
          "",
          "",
          "",
          "",
          "",
          "",
          "",
          "",
          "",
          "",
          "",
          "",
          "",
          "",
          "",
          "",
          "",
          "",
          "",
          "",
          "",
          "",
          "",
          "",
          "",
          "",
          "",
          "",
          "",
          "",
          "",
          "",
          "",
          "",
          "",
          "",
          "",
          "",
          "",
          "",
          "",
          "",
          "",
          "",
          "",
          "",
          "",
          "",
          "",
          "",
          "",
          "",
          "",
          "",
          "",
          "",
          "",
          "",
          "",
          "",
          "",
          "",
          "",
          "",
          "",
          "",
          "",
          "",
          "",
          "",
          "",
          "",
          "",
          "",
          "",
          ""
         ],
         "textfont": {
          "size": 12
         },
         "type": "scattergl",
         "x": {
          "bdata": "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",
          "dtype": "f4"
         },
         "y": {
          "bdata": "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",
          "dtype": "f4"
         }
        },
        {
         "hoverinfo": "text",
         "marker": {
          "opacity": 0.5,
          "size": 5
         },
         "mode": "markers+text",
         "name": "1_viral_virus_malaria",
         "text": [
          "",
          "",
          "",
          "",
          "",
          "",
          "",
          "",
          "",
          "",
          "",
          "",
          "",
          "",
          "",
          "",
          "",
          "",
          "",
          "",
          "",
          "",
          "",
          "",
          "",
          "",
          "",
          "",
          "",
          "",
          "",
          "",
          "",
          "",
          "",
          "",
          "",
          "",
          "",
          "",
          "",
          "",
          "",
          "",
          "",
          "",
          "",
          "",
          "",
          "",
          "",
          "",
          "",
          "",
          "",
          "",
          "",
          "",
          "",
          "",
          "",
          "",
          "",
          "",
          "",
          "",
          "",
          "",
          "",
          "",
          "",
          "",
          "",
          "",
          "",
          "",
          "",
          "",
          "",
          "",
          "",
          "",
          "",
          "",
          "",
          "",
          "",
          "",
          "",
          "",
          "",
          "",
          "",
          "",
          "",
          "",
          "",
          "",
          "",
          "",
          "",
          "",
          "",
          "",
          "",
          "",
          "",
          "",
          "",
          "",
          "",
          "",
          "",
          "",
          "",
          "",
          "",
          "",
          "",
          "",
          "",
          "",
          "",
          "",
          "",
          "",
          "",
          "",
          "",
          "",
          "",
          "",
          "",
          "",
          "",
          "",
          "",
          "",
          "",
          "",
          "",
          "",
          "",
          "",
          "",
          "",
          "",
          "",
          "",
          "",
          "",
          "",
          "",
          "",
          "",
          "",
          "",
          "",
          "",
          "",
          "",
          "",
          "",
          "",
          "",
          "",
          "",
          "",
          "",
          "",
          "",
          "",
          "",
          "",
          "",
          "",
          "",
          "",
          "",
          "",
          "",
          "",
          "",
          "",
          "",
          "",
          "",
          "",
          "",
          "",
          "",
          "",
          "",
          "",
          "",
          "",
          "",
          "",
          "",
          "",
          "",
          "",
          "",
          "",
          "",
          "",
          "",
          "",
          "",
          "",
          "",
          "",
          "",
          "",
          "",
          "",
          "",
          "",
          "",
          "",
          "",
          "",
          "",
          "",
          "",
          "",
          "",
          "",
          "",
          "",
          "",
          "",
          "",
          "",
          "",
          "",
          "",
          "",
          "",
          "",
          "",
          "",
          "",
          "",
          "",
          "",
          "",
          "",
          "",
          "",
          "",
          "",
          "",
          "",
          "",
          "",
          "",
          ""
         ],
         "textfont": {
          "size": 12
         },
         "type": "scattergl",
         "x": {
          "bdata": "8+DeQM/3/0BJDPFARt64QNrWtUBso8NAUa2tQC8Z6EDoEepAPrLZQCkk9kDa3ulAHk7oQCH/3kAvRrRAAafmQJ8LsUDzW7RARHm8QIWB60ANstpAi9LAQAfU7UDXJ+xATYS8QPbw+UBI9cpAzcuvQPE2tECuG/dATCqyQG7g2UAe/LNACYvqQB1o3UCIVcRARa28QDOT8UAqw7dAdNnFQB1P1EAsd/RAmkjnQMpny0Ba695AgODbQF8DqEAYc+NAvry5QCe75EDYXfZAeQTdQO2ep0BCs95AbH6zQG/73EBlosJAVEKzQIWXxEBXONZAPfvnQFd9uUDpwMdA0zvfQG0zw0CdYvpA746nQPPVxkBFTcZAgF/DQGnNxEDb5PtA+xvVQAp63kDQBuZAHgHqQEqbtEDVO+FAPXa9QKY410BCtbJAMvu1QLl160AuC99AYTW4QCqA50DCb8FAGXDoQJ+350CKR+lATtrEQPJ27kDZzMVANGa4QEZ+4UAeq9hAa+DfQCf97kB5DMhAFqy0QByCrECmDdlANS/oQOCw10AynrNA06qsQPyK5EB2ib1ABBOxQHYaukBXILtAf1W8QIbv10B0FMdAndLTQLHqwkDp/9dAu26zQI0ov0Cd7tlAF1rEQISns0AJvctAm3+5QGOC3kDECOtAVPLHQHmTp0C1zOFAVqTnQDfPx0CEqLRAZ8zsQPD5ykADibNAl/PnQCsY3kC6KcNAIyvaQDPIx0Dj5LRAhV0AQRd2x0AWJOtAPe/IQNwKzEAxIPpAElnHQLR8s0CZ3thA69jTQC0pxEDtT+dASIPYQHokv0Cv4stAbiWsQGMk6kA9cLlA6xa0QPCos0AdB9VAjnSwQJEW6UB/m71AXm25QPIt5EAu9LBAymveQIInrUB4sKxAXpLTQK+s2UBtW+hANZ6wQBXr5kBZVt5A/86zQORzs0Ab7+tAderqQMVDuUC54LRAILC5QNH810BUBbFAMqnLQA6vp0CliuhALefoQA6W50BQ5bFA/m/EQC4B9kCkKbpAE4j4QMrCp0BtVrNAwyDpQEZe6UAr1rRAq+m0QNLhyECVb6xA1cG7QIdc4UAPKu1AsTXtQDLj1EAGSqpABJH6QOgs+kDJ/7FAT365QOQQx0Cck7FAxAbeQMgt1kBpWsZAiBKyQBHFs0A8rflAfd+8QDyl20B3VQBBrRi9QKQDwEAWCchAOor4QBd3tkDkkK1AvmLpQNZZ3EBLnwBB0uT5QNebuUCcb+hAWDfgQOhWy0AKwthAG5jFQAYb2UCvmdlAoWm1QEI6tECG38NA3qnEQAb46EATEOhAaYrLQOq+3kBPrbxABOPeQEKNtUB2HLlAhqW+QKby6EB/S+1A",
          "dtype": "f4"
         },
         "y": {
          "bdata": "MkkNQfzJA0H4AAVB5uUKQe/xAUFurPpAHjwBQcxQBUFyjQRBuNYLQTn6BEGh/gJB4yINQVMlDUHuUQNBtIn+QPh1AkG0AANBxVkAQc99A0H2cAtB9SUJQUcDCkHR9AlB/+EHQUyUBEEloQdBCkYCQcmYBkEjHQVB9cMDQXuRC0FpTgRB4YgCQQXQDEGue/pAfjsJQXa4BEGU8QFBvuYIQTrRCkHu3QRBkz8NQeghCUGUag1BUhcGQYsHAEGIUwpBnhABQekKBEH0JgVBdsQKQV4RAEF/Cw1B938HQfykDEGMZflALHAEQeFX/EBOpwhBFgcNQc3bCkEAPvpAhwMNQeJO/UCPhwJBKQAAQYNQBUEqy/hAzov6QAIm+kDurwBBtUEIQUAsDEFcjAZBUU8IQb+0BkFSFg1BXGkIQZ/wCEFSVgRBnA8CQZM0CEGFCgxBARUIQQ9xDUGUTAJBvkMBQYAKDUG5oARBXPQEQVu3BkG41QVB5wcJQe3mC0Fs4QtBcyMJQYb4A0Gk2QNBJLICQeTJ/0Cz/wtBhE8NQdrwCUHoXQdBUCMAQQ2DDUHqrQhBlhIDQWEfB0EIxv9ABr4HQQi8C0GTGAVBJigIQe+4+0BBVwlB2LAGQWWgCEHmhwxBlj36QFJ/B0Gp9wdBONYKQTO5DUFtMwhBcicEQeXE/0D/bANBeFsNQfBI+UCi5QRBCdEBQTU6+0ClpgVB1e0LQYGhC0Gwk/tAfD8MQb68CEGQ4wJBqRUDQTD4CEFqgAJBfDoEQcYnBUHejgBBAhP6QGfpA0Gj+AtBkFwKQcYc+kAkqgZBuZYKQWNs/0A98wdB9+T/QAZKA0F6JwhB8fAFQRxQB0HPtAhBh6kCQZf2AEHApQhBdPAKQZ3wAkFv7wJBbp8LQXG7AUH8KgBBSv8HQXdWDEGNPAdB93wCQXvBB0FlZAxBcsQDQdlNB0ET8ABBo9sHQWAtC0EV5wJBKKsKQX6BDEHByQJBFGEIQVrj/0Bbiv5Azm0DQa3tA0GNiAFB8Gr6QEQxBUEdbwpBTNwAQWYoAEH1EwNBC+ABQbpQBUFnxwJBpikHQa+D+kBasf9AiSEIQdjUC0FUPABBM2QEQfmhBkHAewBBUeQAQcYAAUEw4gNB6wMLQdWCCEHp7AJB0EQNQZ6BCkGOrvlAo4YDQVobBEENxwBBvQcKQRKDCkFDhQRBTasIQXHGCEFOK/lAATgBQaUDB0G1PABB52v+QENBCkE3igNBgjEAQeroCkHbmQ1BH9YLQTYf+EBtFAtBcaYEQbYIDEEgowxBpKECQZLGBkEapfpA+OMEQZP1B0HnpARBSCD8QMFQDUF54QJBOjgNQScuAkFmIgtB2poIQazyBkFxOghB",
          "dtype": "f4"
         }
        },
        {
         "hoverinfo": "text",
         "marker": {
          "opacity": 0.5,
          "size": 5
         },
         "mode": "markers+text",
         "name": "2_social_policy_pandemic",
         "text": [
          "",
          "",
          "",
          "",
          "",
          "",
          "",
          "",
          "",
          "",
          "",
          "",
          "",
          "",
          "",
          "",
          "",
          "",
          "",
          "",
          "",
          "",
          "",
          "",
          "",
          "",
          "",
          "",
          "",
          "",
          "",
          "",
          "",
          "",
          "",
          "",
          "",
          "",
          "",
          "",
          "",
          "",
          "",
          "",
          "",
          "",
          "",
          "",
          "",
          "",
          "",
          "",
          "",
          "",
          "",
          "",
          "",
          "",
          "",
          "",
          "",
          "",
          "",
          "",
          "",
          "",
          "",
          "",
          "",
          "",
          "",
          "",
          "",
          "",
          "",
          "",
          "",
          "",
          "",
          "",
          "",
          "",
          "",
          "",
          "",
          "",
          "",
          "",
          "",
          "",
          "",
          "",
          "",
          "",
          "",
          "",
          "",
          "",
          "",
          "",
          "",
          "",
          "",
          "",
          "",
          "",
          "",
          "",
          "",
          "",
          "",
          "",
          "",
          "",
          "",
          "",
          "",
          "",
          "",
          "",
          "",
          "",
          "",
          "",
          "",
          "",
          "",
          "",
          "",
          "",
          "",
          "",
          "",
          "",
          "",
          "",
          "",
          "",
          "",
          "",
          "",
          "",
          "",
          "",
          "",
          "",
          "",
          "",
          "",
          "",
          "",
          "",
          "",
          "",
          "",
          "",
          "",
          "",
          "",
          "",
          "",
          "",
          "",
          "",
          "",
          "",
          "",
          "",
          "",
          "",
          "",
          "",
          "",
          "",
          "",
          "",
          "",
          "",
          "",
          "",
          "",
          "",
          "",
          "",
          "",
          "",
          "",
          "",
          "",
          "",
          "",
          "",
          "",
          "",
          ""
         ],
         "textfont": {
          "size": 12
         },
         "type": "scattergl",
         "x": {
          "bdata": "0JS2QIYVv0CdSbdAiKa7QEhqyEDRj91A5hO2QAliyUAZw9dA8Z7FQE1aukBxkMhA3KG9QCUpx0A1gcVAK07JQD7vukApzd5APlLKQFrtwUCdh8ZA9EvdQKy/30AhmcpA/B63QGLC00CZVL1AUB3cQE52ykAuS8tAzELKQK2o1kDAEcVAUpDUQJ+5xUCCkMZA4avLQHqsykAtnbpAWlfIQOEl5EAWlcpA5UbXQGdQy0BdLL1AYYTEQDrN10CTi7hAWF/JQBb3ukAP9clAjFnWQMIcvEDGerhAlxG+QLGpyEDi671AIIvYQFOXxUAypchAicu5QO+p2EDwm8ZA/fPGQJPGy0Djg7ZAICvIQOu0uEC+6LtA+we6QDSzxEDr8MRAugHXQL6XuUBlzLhAiH/GQPDCuEB2UNhA5R/VQDgGtkBhfrVAhnK/QO9Q40CuFs1AFybFQG2nxUDjD9tArNnWQGj910CxSc9AVG/ZQCSZyEDMMcdAfPm/QBRh0EDh1LZAQJa8QLqSt0DVXtBAvmu+QMKJwkAUg8dAMzbHQFi9tkD14LlAnuLEQAOj2EC/t7dAPZfKQHLxu0BZVsRANErJQCuI2EDs4LpAyLDFQF8xt0DyysJAHVi8QIYvz0AvrsZAA83XQHpq2ED4h8RAMlnbQOXMx0AY9bpAe1e2QCgby0DnL8hA9YnFQKbvu0A2tdVAWobVQFnj0UCU0dxA74XKQFs4x0Cr+rpAO8vHQKDzuEA5lb9AgYrCQFSpuEBpXbtA7fLaQOSXwUCIIrhAWYbHQNBxx0CprrdAjYPYQNXHuEBSILpAJAG8QAH8yEAIn9pAFHu7QMI/0kBucrlA/RXYQG7q1EDHb71ACay1QA2l1UD9CcdATyrLQOvCvUB9bsVAnh3bQCC+2kBs27tARUjGQLU4wEApF7hA6Ba5QLjHvEAgdblAWuW4QHFsv0D4NLhA27O8QLcqvEBghMdARaK4QIFx30CsRLtAu9/YQP+XtUAjPrhAiBq7QBGnyEDxhM1AGju4QFGbuEC9YLxA",
          "dtype": "f4"
         },
         "y": {
          "bdata": "4CihQO3vqEBIu6BAJUKcQNc0xEBPa5xATzqhQNWpmEBN/rRAz3bCQECxnEA8xqVAYuOcQAomnkA7EsFAJye+QE73m0AElp1A0N+kQPFppkB+yZ1AKkydQNc4nEAG1Z5AuNOgQKLGuECQyZxAiiyfQE0lt0C3RblAXUG3QBv+sUC9GalALUajQE+elkAejsJAjYubQFjeokC98Z5AmEeeQLQemkAeyp9AJAO0QLsBmUCs/ahA2u+pQM1eoUC8h5hAmszAQABjnkCZ3bpAcHuvQBthnUCeYJxAFpGbQHuMnECrkqFAeGmhQM4bqUBz06BADTqbQBFOtkAosp1ABqeeQHAmvkCVnqBApkWeQPwTmEB/Rp1A/z+fQFOllkDT08JAGeW1QPD9qkDjxJlAp1S/QKuomED1G7ZAcbKpQNDPoEAfcaFAgBKdQIfjmUAd4pxAUtLCQCmnqECoT59A/QCjQBEntUCJhJ5AnPOfQO3Qv0BQm5xA0PecQEzYnUC1V6BAS0GcQE2tmUDb4bpAH/GdQEIBmUAo+55AdRanQLiOn0DDsaNAYWqfQBe9tkDkWJlARqXAQMP5m0BEr55A+/eeQMP8nkB/UpxA0DfCQC6rn0B78JpALpSYQMQotkByk5dAO/i1QIWDoUCmIZ5ABoCcQBUankAxyJpAZKOgQORXt0AatqRAuL3BQO3CmEAY451ArGK2QN0jnkBWQZ1A9iu3QE48pEAdd5xAK22cQEpno0CqNZ1AjemeQNfzmUDiaZxATlagQCXHmEDTrZlAuUGdQEDHoEDgcJlAJQC2QDDRmkDr6p5Am6+fQPtcn0BqTZ5AhcibQLeYnUBSGplAMxO2QA1Dp0CKjZpAHQahQPWenUAswZ5AK2ehQPRqtkAEtqhAjOqfQGWzn0B1zplA7tmXQGJAoUDyq55A9oWaQGCTnECvAZtA/5SaQApAmEArM55AiRCcQAX+nEBCSL9ACueZQBaBm0C9SZ5A5DW2QOLQoEBF+5pAHiimQFhpwUA6Y7ZAjmObQH7ImkDTxZxA",
          "dtype": "f4"
         }
        },
        {
         "hoverinfo": "text",
         "marker": {
          "opacity": 0.5,
          "size": 5
         },
         "mode": "markers+text",
         "name": "3_cancer_imaging_ai",
         "text": [
          "",
          "",
          "",
          "",
          "",
          "",
          "",
          "",
          "",
          "",
          "",
          "",
          "",
          "",
          "",
          "",
          "",
          "",
          "",
          "",
          "",
          "",
          "",
          "",
          "",
          "",
          "",
          "",
          "",
          "",
          "",
          "",
          "",
          "",
          "",
          "",
          "",
          "",
          "",
          "",
          "",
          "",
          "",
          "",
          "",
          "",
          "",
          "",
          "",
          "",
          "",
          "",
          "",
          "",
          "",
          "",
          "",
          "",
          "",
          "",
          "",
          "",
          "",
          "",
          "",
          "",
          "",
          "",
          "",
          "",
          "",
          "",
          "",
          "",
          "",
          "",
          "",
          "",
          "",
          "",
          "",
          "",
          "",
          "",
          "",
          "",
          "",
          "",
          "",
          "",
          "",
          "",
          "",
          "",
          "",
          "",
          "",
          "",
          "",
          "",
          "",
          "",
          "",
          "",
          "",
          "",
          "",
          "",
          "",
          "",
          "",
          "",
          "",
          "",
          "",
          "",
          "",
          "",
          "",
          "",
          "",
          "",
          "",
          "",
          "",
          "",
          "",
          "",
          "",
          "",
          "",
          "",
          "",
          "",
          "",
          "",
          "",
          "",
          "",
          "",
          "",
          "",
          "",
          "",
          "",
          "",
          "",
          "",
          "",
          "",
          "",
          "",
          "",
          "",
          "",
          "",
          "",
          "",
          "",
          "",
          "",
          "",
          "",
          "",
          "",
          "",
          ""
         ],
         "textfont": {
          "size": 12
         },
         "type": "scattergl",
         "x": {
          "bdata": "GTQJQZc4CUGvKA5B4mkKQbllDEHvKgxBqzMKQUs1C0EM2ApB71YNQfWuC0GLbQ5B2CwJQSD8CEEHFAtBNTsLQfNNC0GNNw1BmvkNQdxeDEGiOg1Bph4LQbKEDkGKHApBQnsJQX1JCkFvggtBLkcJQXiCCkEhvQ9BpokGQSk+DkFFYw5B5C8LQeDdC0Ec6whBNX0NQWKyCUEWWAxBJbQMQW0wDEHR4wlBxyAIQYh1DUFUDQhB2CgKQargCkGcrwpBQNILQfLZCUEo9wtBIQsKQeBkDEFMIwpBfuULQTYRD0FMwQlBZwsGQeHJCUHZ0w1B7kYJQZvVCkGY+gtBiE8LQWwQD0HahwdBxV4IQR1ADEGDJAhB0y8JQdwcD0H6mg1B3woKQcaPCEG5yQtBN+kMQVO8DUFO0gxBwgMPQaBpDkEPPg5BRfELQdLcDEFbmwlBrGgOQVapC0Hc8AhBXM8LQTBSD0HtAQ5BOkkKQQh9DEEhkAtBP/cLQR1jD0E20wlBtKkIQUVhCUGGIghBy98KQRBmD0G9xQxBTBkMQRPLDkGT4wxBhQ8NQfAiDEGuYwhBiyYOQdd2CkGPPw1B8wMJQZ8VD0GragpBhRUOQQyIDEGgcAxBF4cOQZ+kB0FN/AxBp2YHQQlZC0H3uwxBV5wLQRkmDEEcSAVBn1kIQeDpCkG/SQhBpv8JQaJUDkG+qwhB2jYOQWTXDkH7eAtBtxEOQXxUC0HpTwxBjHkLQcAzDEHHlAxB2TkNQYPRDUFS7wlBdToJQZ7rDEGvagpB2UYIQTwGDUGdlAhBu14LQTiKCUFnmwxBVQ0NQSFDD0FOMQ1BKwkIQR/XC0F34wtBqGIJQdNeCUHeLwlBObYMQU8FC0HEggtB2toNQTteC0E=",
          "dtype": "f4"
         },
         "y": {
          "bdata": "4eTCQHqg3kAl8cJAMkS/QIwfzECTEcxALKfoQHk+wECcjM5A+sHEQP33ykA/q8hAKMXiQDsC5EAt8NFAsI3BQMcCwEADa8NAP5HJQLzyykDfnc5Aj57pQKotxEB8XL1ALIflQPzzzUBmn8FABzzfQHx2zkAV7rpAf0vuQFFlyUB6ledAC9jcQI+pzEBJRMNAnPy9QCJm3kDx7c1AypTMQBzYzUCALL1Alj/vQH6nuUBU/uRAHPu9QEvs30AhmeRA2TrOQOd2vkAKk81AOczfQNkOzEC277xAJNK9QDmOwEAX8LlASCPsQO185UDGQL5AQGbfQGU80EBLWcxAPGzJQNvhv0AlfONAQbHmQAWM0UA2SuZAPt/mQFpDwECszcFA/x7RQOYgu0AY/c1ANKPEQA5Rw0B0wc5AXTO8QGP+u0Afeb9Ac2PLQEIcy0B42OtAaR2+QLrsvkCjZ+VAQvbNQJaAwEDwi8dAM/+8QOjfz0ByW+ZA0hLlQGQpv0CQq+xA+v3oQPeQ5kDTNe5Atha+QFQ2wUC788xARIm+QBUpxECjEM9AN2/QQECuyUC9M+5A2CbAQD4Dv0AtWM9AnTLnQA0AwUDNwe1AYzu+QC6dzkArT85A+1nEQK7H6EBVWc9A6pPnQMICyECsGc5AjEbRQE9HyEBzBe9AJ7rkQMJnvUBRKOZAkrW9QBLJwUAehO9AaHrBQBUsxkDiv71AncHBQKc/10CjZ85AZX/cQHCuzEDbMcNAlM7NQM2by0CtksFA6eXkQBh3xUCxdudAwELmQIOmuUBDHeRAYFHBQOFW5kCDs8tAnqzPQCSvvkD1Us9AVRHpQKWezUBC38BA+MHhQCgD5kCwW+ZAB5DPQFXLu0AT8NlASCPGQHqAzkA=",
          "dtype": "f4"
         }
        },
        {
         "hoverinfo": "text",
         "marker": {
          "opacity": 0.5,
          "size": 5
         },
         "mode": "markers+text",
         "name": "4_ad_disease_brain",
         "text": [
          "",
          "",
          "",
          "",
          "",
          "",
          "",
          "",
          "",
          "",
          "",
          "",
          "",
          "",
          "",
          "",
          "",
          "",
          "",
          "",
          "",
          "",
          "",
          "",
          "",
          "",
          "",
          "",
          "",
          "",
          "",
          "",
          "",
          "",
          "",
          "",
          "",
          "",
          "",
          "",
          "",
          "",
          "",
          "",
          "",
          "",
          "",
          "",
          "",
          "",
          "",
          "",
          "",
          "",
          "",
          "",
          "",
          "",
          "",
          "",
          "",
          "",
          "",
          "",
          "",
          "",
          "",
          "",
          "",
          "",
          "",
          "",
          "",
          "",
          "",
          "",
          "",
          "",
          "",
          "",
          "",
          "",
          "",
          "",
          "",
          "",
          "",
          "",
          "",
          "",
          "",
          "",
          "",
          "",
          "",
          "",
          "",
          "",
          "",
          "",
          "",
          "",
          "",
          "",
          "",
          "",
          "",
          "",
          "",
          "",
          "",
          "",
          "",
          "",
          "",
          "",
          "",
          "",
          "",
          "",
          "",
          "",
          "",
          "",
          "",
          "",
          "",
          "",
          "",
          "",
          "",
          "",
          "",
          "",
          "",
          "",
          "",
          "",
          "",
          "",
          "",
          "",
          "",
          ""
         ],
         "textfont": {
          "size": 12
         },
         "type": "scattergl",
         "x": {
          "bdata": "zcMaQeFDFUEM+xpB0HsTQd0pF0HX4BdBQugbQUySEUFYBxpBqpEbQYJ0GUGAwhZBNDIYQfEPEEHiqhlBgDsWQWSXHEGa8xdB0pwbQTSKGkHGIRJBFocVQef9FUFAaBpB/iIXQQSeFUEn/hdBriEZQbEgFkHudhdBOqsXQRXmF0GZ0A9Bbc8UQYOSHEExVRpBF8sZQRX3FkE3ihlB6ZMaQf3QGEGVlxpBqokQQcSZHEF4uhZBBe8WQaFlEUF5ChFBdQ8SQZylF0GxsRZBaIQWQbfcGEHwAhtBaKkYQc+tF0GCZBFBfTISQXqsGkFy7RlBtmobQY1YGEENFRJBHKscQcgSEEG3mxJBbAkcQdAlGEGg0BdBqyUXQb14GUFs8htBPXwTQUhVGEH6whpBKnkXQRL7GEEvORpBos0ZQeluF0FVmxpB67sXQfUEGkGAxxVBWssXQViUGkEZthZBMJMYQdH3E0GOnxZBMa0cQRKvFUFqvRBBMpIWQeWdGkElwBVBYKUVQW6TGkFhFB1BRYMcQfTWG0GFdRdBzssXQTcAGkGzCBxBGsAXQSXRFUG+LRhBaSsXQVNXF0GvChhBQaIYQendEEGXHhJByBoRQUSeEUFNdhVBZC4ZQY7qGUGyMxpB88gZQRbiGEHJtBtBR7IVQdOfFkEgdBpBsDkXQSSjGkE4NhRB4WUWQfxKGkEdqhBBzBsTQUp4EUH7fhtBNgocQTxKGEFo3BpBE6UZQetYGkGNyBJBuIUVQQHUG0H1DhRB",
          "dtype": "f4"
         },
         "y": {
          "bdata": "qXy8QHIsrUADJsxA+mCoQKnRpkAZ1q1AK5vHQHLxpED+5MFAhBi+QOsJzECiDK5AoHCxQO1lpkAgh81Afd6tQEMtxEA/ea1AFP3LQK4NukDIA6VAUSWwQDGiqEDh5sJAmX+mQD5FqEBFFq9A8pK1QCauqUBVBK1AnY+tQDxfr0AB0aJAje+tQKCvyUCxNshAvFm3QKfErkC4E7lATHHHQHkRs0CauLxAR12jQNfVykB6B6ZA53SsQBJmpEB5JqRAc8ihQF4GrUBLEa1Af76vQDYTs0A707tA8KqxQAFnrUDNYaVASZylQGICxUDTfbZArB7DQOlgr0Ae86VAKPHLQJ3sokCxPaVAsoDLQPm2sUAvvK1A2UGsQLmUuECWPstAVpamQGL3q0BeK8tAfymvQIWmtkB4C8BAdf66QCH/rECDnslArKStQOEcvkCHgqZABkiuQDgkvEA4rqVA/pyvQGAtqkBiR69AOlPJQADTsEALcqNA+AuvQLLpvEDQvq1AnfmvQNieuEBkssVAzX3JQMoux0A4ZKxANdmuQMzoy0CJ9cVAt06tQGIWr0AOo69A1damQEtSp0Bh0a9AYS2wQNb1o0AjeaBAxC6kQEZcoEAwH6pAgyO4QLCiuECAFMFAWU63QNYvsECDzMpAtX6tQPQ3q0BhdblA+ZWtQGFcyECAP6VAfxCpQLTduEDpo6NA+mWlQG/vn0Ap4L9A70HHQLTAxUC998xAlgi2QAQGw0BhUadArCiwQHZiy0DJNapA",
          "dtype": "f4"
         }
        },
        {
         "hoverinfo": "text",
         "marker": {
          "opacity": 0.5,
          "size": 5
         },
         "mode": "markers+text",
         "name": "5_food_sustainable_production",
         "text": [
          "",
          "",
          "",
          "",
          "",
          "",
          "",
          "",
          "",
          "",
          "",
          "",
          "",
          "",
          "",
          "",
          "",
          "",
          "",
          "",
          "",
          "",
          "",
          "",
          "",
          "",
          "",
          "",
          "",
          "",
          "",
          "",
          "",
          "",
          "",
          "",
          "",
          "",
          "",
          "",
          "",
          "",
          "",
          "",
          "",
          "",
          "",
          "",
          "",
          "",
          "",
          "",
          "",
          "",
          "",
          "",
          "",
          "",
          "",
          "",
          "",
          "",
          "",
          "",
          "",
          "",
          "",
          "",
          "",
          "",
          "",
          "",
          "",
          "",
          "",
          "",
          "",
          "",
          "",
          "",
          "",
          "",
          "",
          "",
          "",
          "",
          "",
          "",
          "",
          "",
          "",
          "",
          "",
          "",
          "",
          "",
          "",
          "",
          "",
          "",
          "",
          "",
          "",
          "",
          "",
          ""
         ],
         "textfont": {
          "size": 12
         },
         "type": "scattergl",
         "x": {
          "bdata": "YLyvQPK4r0CQM69Ag1mwQETVq0BMprBAwOexQIasskBJ3q1ApAO4QGvxrECFRrhAVkGvQIx3s0Dsw6tAl0+0QPxMsUDVVLNAa/OxQBj4uUBUzq1AW/e0QPpcr0CijrFAEbezQPyEs0CX8rVAylSvQFEBukAoBbRAXgyyQIqAskDbOK5ALPazQPdmr0B+hbBAgGCsQBRQsECN861AQiC0QE3Pq0Bbuq5ABV6vQI7TrEDXx69A+aewQCdftEA347NABEi3QKp+r0AEubFA4QOtQAUUtkBnK69AnSSyQNHHsUBBhK9AveSvQLONr0Dnma5A5fKzQBaPrEAtdbVAvBGxQBxutUCcja1A+rOxQEc3r0Am8LNABN62QCKPrUCczLBATqiyQND3sEBOybpAdU6vQMo9rEBzQq1A2EixQJHXsECKIa1AJtOrQAUnsEDN4a5AeR6xQAtkrUDlLK9AzumwQHPJr0CzDrBAeg20QJbTrkDnWrZAo4+xQLTIrkDCuLdAkG2vQAdYsEBsBrJAHfGtQO5Cr0DWO65AWTyuQOm8q0A4+7NAn+ewQA==",
          "dtype": "f4"
         },
         "y": {
          "bdata": "bb7TQJasx0AHgMtArca+QEevvUDqCb1AmOPIQFrj00BRD79AKKLiQEfnvkDadM5Ab5XRQM9BxkCFeL1A3BTHQBAWyUCNQb9A1ErJQIfWyUB+kcBAmjfYQAI/ykCJa8lAgf/LQOb810DWE9VAnpC+QNKOyUD8JtRAuJTJQI6uyUBT2sNAPP65QG2uv0Dyt8hAQw/EQPjmzkD248BAg7vEQN9QvkB+edBA1fnNQPOovkCAIL9Azyi+QA1+xUCCftRAcErLQAX9v0BXndFAatu9QJUCv0DY/s1AP1DBQPwSyUAfSsdAM2fTQC8500DdbMpA4bbGQElRvUCn8tJAO1u9QBm5xUDzw79AIVS6QGwL0EDuXclAInbMQFbYwkBTZcxALC/RQLjWyEB8RMdAS4rKQMFkvUDyQ8dAymLHQBLUvUCr6L5Apsq8QCE6v0Bc1LlAM+fPQH8rzEAGFNFAg2/IQKaQ0UA5I9BA7H68QBkqwUBb1NdAqHrIQADNzECp0shAwRnHQBD9yUCDdc9ACSXHQJ5bzEAy5r9AmgPAQDQNvUAlir9A/wjIQA==",
          "dtype": "f4"
         }
        },
        {
         "hoverinfo": "text",
         "marker": {
          "opacity": 0.5,
          "size": 5
         },
         "mode": "markers+text",
         "name": "6_bone_tissue_pain",
         "text": [
          "",
          "",
          "",
          "",
          "",
          "",
          "",
          "",
          "",
          "",
          "",
          "",
          "",
          "",
          "",
          "",
          "",
          "",
          "",
          "",
          "",
          "",
          "",
          "",
          "",
          "",
          "",
          "",
          "",
          "",
          "",
          "",
          "",
          "",
          "",
          "",
          "",
          "",
          "",
          "",
          "",
          "",
          "",
          "",
          "",
          "",
          "",
          "",
          "",
          "",
          "",
          "",
          "",
          "",
          "",
          "",
          "",
          "",
          "",
          "",
          "",
          "",
          "",
          "",
          "",
          "",
          "",
          "",
          "",
          "",
          "",
          "",
          "",
          "",
          "",
          "",
          "",
          "",
          "",
          "",
          "",
          "",
          "",
          "",
          "",
          "",
          "",
          "",
          "",
          "",
          "",
          "",
          "",
          ""
         ],
         "textfont": {
          "size": 12
         },
         "type": "scattergl",
         "x": {
          "bdata": "nsUUQbk6FEFWbhVBQ0kUQZ0QEEG5fBRBKj4TQcWAD0FIYRRBFqoUQSN1EkH82RVBo8QTQboDFUH2xBJBQR0UQc+UE0HebhNBZu0TQb+3FEEdCxRBB7oUQeJxFEFiPBRBO8sUQURyFEFHMBVB0fcTQdUBFEFXmBFBS1MUQS5cFEF9whBBAGgQQeUYE0F0VBRBZXcUQX1HFUGyExRBKugVQSAwFEFJqxBBJOIUQVf0FkEnORRBmVgUQYq7FEFltRRBpNcUQW/SE0E5ZxFBECQUQTAHFUHhUBNBgQkRQUnAEkFUVhVBPYIUQUmcD0HWzBRBCWEVQSbfFEGN5RRBqZcVQVRFFUFrThRBnxwUQX5TFEH+WxRBr6ITQWMdFEG1mxRB9V8UQbxlFEFTZhVBGi4UQdeGFEHaLBRBwsgUQYxDFkFx8g9BK50UQTXTFEG0+RNBpbwUQXYGFEFpLxJBIK8UQSkeFUHQGRRB2b4UQe9GFEFH9BJBGXsUQQ==",
          "dtype": "f4"
         },
         "y": {
          "bdata": "1GiwQA9ZrkBJaMJAOMa0QPJCuUDdqLNA0Ju1QOtXuUCvJLRA2wKuQGTNtkAwjLtAxCqxQHg5vkBfZ7RANcWzQDqKtkAPgrVAtV67QDnTsED0QLRAVIOwQPYLuEC257dAy4iwQLw3tEC5UbpA0YO1QCTOuUBSnbhA9Wi1QBykuEDSWLlAmYu4QNYPuECpIbFA0LWtQElwwUAYcbdAjmm6QL7ht0B3abZAu0+wQG7ovUByPbJAuPe3QIG4sEBLyrFADaa3QP1GuEAgJLlAjuy3QH81t0C1NbZAOTO4QJZZuUAs07RAYTCzQIicukCiCrBAU4HCQKq8uUAef7FA6tS1QKwitkAdjK5AvwauQNdDskBTOrtA1hGzQKoNtECcArVAYIC3QPLsrUBZqsJAbKO4QPGqsUBql7VAe3G3QOlJvkC7OrlAD5GtQNobsEBQS7RAvHe2QA8etUDm/7dA3D+yQH1ys0A+y7JAFj2vQAReuUBL/7dAgwCuQA==",
          "dtype": "f4"
         }
        },
        {
         "hoverinfo": "text",
         "marker": {
          "opacity": 0.5,
          "size": 5
         },
         "mode": "markers+text",
         "name": "7_bacteria_antibiotics_bacterial",
         "text": [
          "",
          "",
          "",
          "",
          "",
          "",
          "",
          "",
          "",
          "",
          "",
          "",
          "",
          "",
          "",
          "",
          "",
          "",
          "",
          "",
          "",
          "",
          "",
          "",
          "",
          "",
          "",
          "",
          "",
          "",
          "",
          "",
          "",
          "",
          "",
          "",
          "",
          "",
          "",
          "",
          "",
          "",
          "",
          "",
          "",
          "",
          "",
          "",
          "",
          "",
          "",
          "",
          "",
          "",
          "",
          "",
          "",
          "",
          "",
          "",
          "",
          "",
          "",
          "",
          "",
          "",
          "",
          "",
          "",
          "",
          "",
          "",
          "",
          "",
          "",
          "",
          "",
          "",
          "",
          "",
          "",
          "",
          "",
          "",
          "",
          "",
          "",
          "",
          "",
          ""
         ],
         "textfont": {
          "size": 12
         },
         "type": "scattergl",
         "x": {
          "bdata": "tvXOQIKCw0DMEMdA6I3EQNjoxEAmu8tATuPFQEXaxkAlu8NAE6jJQC5pxEBE48RAI9TFQOqMxEBDRsVAuG/DQFlD0kDnqshAvlzHQAa1xUC4+sBALQfFQEc6zUC2C8hA8ofHQOaAxkAi8sJAEAHHQL6CxUA4EMZABjvFQKh6yUBQd8pA/qXJQMWSw0BMHM1AYQzIQCG0x0AUT8pAsk7CQOYMxkDb6cVA0ynOQJ9WxkD70sJABKfIQDCmyUAaO8JAbDfGQHhhx0C5/8RAyP3FQATxx0AftcZAN27GQBSgxUA/OsRAy8HFQIoWxUCfAMxAKb7GQINWwkAWEMdAeN3FQKQMyEDf+cVAWh/IQHK70kBy+sJASl/LQEo1ykAfWsRAX6zDQJFyxUAI4cRAPuzFQIdXzUDEtMRAWhXFQHAS0EBmtsdAhTHFQIE5zED+NMNArO/FQOoyxkCw2cZAUIbFQIIKxEDgucVA",
          "dtype": "f4"
         },
         "y": {
          "bdata": "h+YAQemF/0APqQRBqAsBQffBAUHT6/ZAXacCQZSK+UD2SQFBMLQBQdeTAEGFJgFBjscBQUST/ED+HQFBjw/9QEhQ/kDk6P9AyBwEQauM+0AvO/dA81wAQYZ8A0GbxgBBtcD3QIDEA0HO+PtACpoAQeLxAEESLwFBLT4AQWnxAEGLJgNB2ZYAQYs//UDEtAFBICgAQQEq/0DgOAFBpeX6QNQC/ECVpwRBVlMAQbZH+kC0NvxANXj5QJH3BEEw0vlAO/ACQeMLAkF2cfxAjVIFQSGFAEHl6QRBfQ0AQTy1AUEiQf5A0SQAQV0r/EBl7wBBMpD4QOMY+0Cmsv5AvMIEQUU+AUHUcgFBFt8CQfuv/UDqhPtAhi8BQWpK+kBaJ/tAx5D6QK4lBUFN4v1Aj6wAQftXAEGaWgBBMvkAQeWNA0FgmgFBOfEAQWUjAkHqwf9An+AEQRLvAUEADgRBxYMBQcxJAEEiaP1A",
          "dtype": "f4"
         }
        },
        {
         "hoverinfo": "text",
         "marker": {
          "opacity": 0.5,
          "size": 5
         },
         "mode": "markers+text",
         "name": "8_gut_ibd_microbiome",
         "text": [
          "",
          "",
          "",
          "",
          "",
          "",
          "",
          "",
          "",
          "",
          "",
          "",
          "",
          "",
          "",
          "",
          "",
          "",
          "",
          "",
          "",
          "",
          "",
          "",
          "",
          "",
          "",
          "",
          "",
          "",
          "",
          "",
          "",
          "",
          "",
          "",
          "",
          "",
          "",
          "",
          "",
          "",
          "",
          "",
          "",
          "",
          "",
          "",
          "",
          "",
          "",
          "",
          "",
          "",
          "",
          "",
          "",
          "",
          "",
          "",
          "",
          "",
          "",
          "",
          "",
          "",
          "",
          "",
          "",
          "",
          "",
          "",
          "",
          "",
          "",
          "",
          "",
          "",
          "",
          "",
          "",
          "",
          "",
          "",
          "",
          "",
          "",
          "",
          ""
         ],
         "textfont": {
          "size": 12
         },
         "type": "scattergl",
         "x": {
          "bdata": "jsvuQIoI7UD5duBABKjuQKCS50CN+epAT7/sQInf5EBAxuxAhA7tQJ0g4EACte1A7pDdQOLg6ECWp9tAfM7eQPzo60Btb+JAFFndQF0q4ECRb+lAVMXsQKtc6kCS2+xAPGzsQC9h3EDGJu5AuePsQJfg4kD2vulA6sjhQIiX8EBzhOlASh7wQDDo7EArmedAzYDuQAGx7EBNy91AiQPuQEjX8ED0Bd5AGjriQJde60B9Y+1A/UXeQAdy4kBHI+hAAknuQF176UDkL91A96nwQDkc3ECzb/BAdh7kQPQa70Df0/BAmB/gQCSE5kBp0eRAv5PoQFlR20BFGtxAz4XvQO2Z3kBobd1AjtfqQIig3UB5o9tAM0TrQIwz4kCdCO1AuQfdQFWn7UDNfvFA2SDmQAdj3UApEeJAohHrQG7s7ECemOxAo5LwQJfO60D3XeJA3+zrQA3T50AH9d1Aep7dQAIB30A=",
          "dtype": "f4"
         },
         "y": {
          "bdata": "B4vmQB9Y/EBkifRA/Rv5QGus9kAUrutAquDuQLFh5EABU+5A3K/3QOEv30Avb/BAwEfmQJKa8ECq8u1AkmHhQGe08EC54fNA6X3sQOPU5UDwmfFAQwfyQOa79kAu/OpAxwPsQEQh7UCwEe1AiJfuQGLS8UBCh/JAYLDvQJfJ5EC/GfhApujpQBLN7kDOKPZAJnDxQF5a6UCaNe9ALUD6QCmX40B6OOlAGELwQC/q+EDHSe9ATwjnQHGf40DptvZA4ibrQKKN8EBuCuxA5SrkQE3j60BeleVAV030QGKr70C0DehAlrzxQLQE70AqsvJAz0DqQNnR70CEn+tAxT/lQKnz6EDtHONAZxLvQJIY7UCwPPFA5wDyQL3x6UCVoe9AyJLvQFii7EDvGONAHePnQJKv4EAcLPFAX3XxQIon70BtOvhABsfkQCdE9kA82uFAZB/wQAc89UAIRepANdPsQHUC8kA=",
          "dtype": "f4"
         }
        },
        {
         "hoverinfo": "text",
         "marker": {
          "opacity": 0.5,
          "size": 5
         },
         "mode": "markers+text",
         "name": "9_plant_plants_crop",
         "text": [
          "",
          "",
          "",
          "",
          "",
          "",
          "",
          "",
          "",
          "",
          "",
          "",
          "",
          "",
          "",
          "",
          "",
          "",
          "",
          "",
          "",
          "",
          "",
          "",
          "",
          "",
          "",
          "",
          "",
          "",
          "",
          "",
          "",
          "",
          "",
          "",
          "",
          "",
          "",
          "",
          "",
          "",
          "",
          "",
          "",
          "",
          "",
          "",
          "",
          "",
          "",
          "",
          "",
          "",
          "",
          "",
          "",
          "",
          "",
          "",
          "",
          "",
          "",
          "",
          "",
          "",
          "",
          "",
          "",
          "",
          "",
          "",
          "",
          "",
          "",
          "",
          "",
          "",
          "",
          "",
          "",
          "",
          "",
          "",
          "",
          "",
          ""
         ],
         "textfont": {
          "size": 12
         },
         "type": "scattergl",
         "x": {
          "bdata": "08utQM1au0CVqr1AzIOyQCTdrEAebqxAjTezQOxorUBuX7xAG5qoQDDht0AudKhAQ227QMzNr0BR3qpA3d+sQBSDtUB+365A7/G3QLN5qkCnkahA6pasQG7KtEBSkqhAVWqwQJ0UtUDAHK1AoNiqQDmtqUDlg7NAb9SsQFWerEA8qrVA8i+1QC4PvkB2ObdAW1iyQNPLrECDwKpAdhKoQMtnr0CRtrpA4C+tQJWIrUD8pKhA0vG1QJXyr0CVubNAMtKrQFZWvUD2f7VAmIysQO4DrEDH4KpAutiqQOzMqECDu6xA4EqsQL2RqkAYNq5A9n6zQHZXqUAfVatAoQ+tQGJQr0BUD6tAzu68QLjor0BsV7BAlnupQHR7skCfhqxAq2OrQGC9tEBdeK9A3ROpQLR1r0AOu6hAfl21QK7ZtEDgp7tAhR+rQEbxrkAzI6lALyO3QNJhsUDPOalA",
          "dtype": "f4"
         },
         "y": {
          "bdata": "5FvuQHMd6UBAxelAmkfsQDnT4UAv/+1AMTjpQG4F70AR2ulAGrrjQJj+50CtVOJA1U3mQCJ950DHIOdAoJfuQDYq6UC+1OpAoorpQDjA5EAA2eNA5S7uQEaO6ECZcuNAKE7pQD/E5kAPl+5Adz7kQCXr4kC7H+pAVr3rQBTk7kDooetAZG3oQEBO70A9fu5A8yTlQLHt4UAG3uhAyYbjQLcG7EBf/+pAeX3lQByV60AyiuBAhg3pQGm87EBP0ulA7oznQGZ250AsnuhA9fLnQNaY5kDOB+hADtTlQPTl5UDN++tAcPfiQHGA5kB0xe1AOwzoQG7h5EB6VORArIzuQEnq6kCo5uNAmcPpQOcj7UBbPetAFQLmQPxi60Av9O1AH6TtQKGu50Ae9etAxkPmQHp06kBXluBAYvPnQPf950CLxOhAsCLgQMOV6UCpwORAOJXsQLJX6kBdxt9A",
          "dtype": "f4"
         }
        },
        {
         "hoverinfo": "text",
         "marker": {
          "opacity": 0.5,
          "size": 5
         },
         "mode": "markers+text",
         "name": "10_brain_epilepsy_stimulation",
         "text": [
          "",
          "",
          "",
          "",
          "",
          "",
          "",
          "",
          "",
          "",
          "",
          "",
          "",
          "",
          "",
          "",
          "",
          "",
          "",
          "",
          "",
          "",
          "",
          "",
          "",
          "",
          "",
          "",
          "",
          "",
          "",
          "",
          "",
          "",
          "",
          "",
          "",
          "",
          "",
          "",
          "",
          "",
          "",
          "",
          "",
          "",
          "",
          "",
          "",
          "",
          "",
          "",
          "",
          "",
          "",
          "",
          "",
          "",
          "",
          "",
          "",
          "",
          "",
          "",
          "",
          "",
          "",
          "",
          "",
          "",
          "",
          "",
          "",
          "",
          "",
          "",
          "",
          "",
          "",
          "",
          "",
          "",
          ""
         ],
         "textfont": {
          "size": 12
         },
         "type": "scattergl",
         "x": {
          "bdata": "4CIOQRg7F0ELBg9BRngQQQQwEEF7FRFBSQoXQTQ7F0F07BNBb0URQb0JFkH3RRBBxbcTQbaaDEFFsBZBPggRQZciEEETugxB3gkQQbztD0FWCA1BfkoSQVBZEkGW0RNBN9UPQQGIFkGn8RRBzCERQbP9FEEd1RBBsMYSQThYD0EVmw9Bz7IOQR4cF0EiZQ9BGT0TQVeGEUFuORRB0SkPQXM1EUGQlxFBzhsQQSbyD0HNWA9BeewWQfDzEEHv8w9Bz9APQe3YFEGuMBBB2G8WQYCKE0ET1BBBBKkMQWJ/EEFieRFB+8kMQcerE0EN7Q5B0Q0QQQs8EkFjwxBB0ZIRQfZvEUGjnBRBA7EQQUkCDUFolhNBE6kQQc5qEkENoxJBYTYXQWZ2DEGphRNBI9wMQYrMDEEwKRFBTAERQXi6D0F/ZhNBikgRQaTkE0E=",
          "dtype": "f4"
         },
         "y": {
          "bdata": "PyyMQFi7ikCjTYxAxHCPQCOmkEA7QZJA9xuLQBndikDUmYdALyWOQJs/ikBJ4o9AwvyIQCV1iUA1NopAXBCNQOX3jEBz4IhA5R6RQC52jEBZ5olAua+MQJ+1iUDXXYhANg+RQBo9ikCk0oxAcFKOQCuxikDG+I5AepuIQK7pj0BmiI5AzoSLQPEHi0AHcZJABLaLQAlej0AUoYtAYqaMQKTXkkCxTIpAwQCMQKFvkUCEYotAeL6JQJLdkUBTtotAXBuQQBWdiEArBo9Ax0OLQLx7iEBHfpFA9iiKQOGejkCyh5FAbL6JQBLviEBjhI1ADcuNQDKZiED13I5AEoeLQIeLkUCsQolAxyaSQNfcikDfColAOYiNQMVwk0DTLYpADyOLQI5CiUCaV4hAKCSLQKJsiEDTfopAx4OJQIY4jkBLlolANMSNQEb2iUA=",
          "dtype": "f4"
         }
        },
        {
         "hoverinfo": "text",
         "marker": {
          "opacity": 0.5,
          "size": 5
         },
         "mode": "markers+text",
         "name": "11_heart_patients_stroke",
         "text": [
          "",
          "",
          "",
          "",
          "",
          "",
          "",
          "",
          "",
          "",
          "",
          "",
          "",
          "",
          "",
          "",
          "",
          "",
          "",
          "",
          "",
          "",
          "",
          "",
          "",
          "",
          "",
          "",
          "",
          "",
          "",
          "",
          "",
          "",
          "",
          "",
          "",
          "",
          "",
          "",
          "",
          "",
          "",
          "",
          "",
          "",
          "",
          "",
          "",
          "",
          "",
          "",
          "",
          "",
          "",
          "",
          "",
          "",
          "",
          "",
          "",
          "",
          "",
          "",
          "",
          "",
          "",
          "",
          "",
          "",
          "",
          "",
          "",
          "",
          "",
          "",
          "",
          "",
          "",
          "",
          "",
          ""
         ],
         "textfont": {
          "size": 12
         },
         "type": "scattergl",
         "x": {
          "bdata": "nDQQQdh0EEGKhQxBX0kKQdhACEFcgw1BKpgTQT6KEkFzTQ1BJbQRQZJ5C0GWsQ9B5wMNQdIaEUGYlgxBn8gSQUbUEkEI9A5BTt4QQesxE0Gpzg9B+/kQQSF2D0FgdglBPEARQW+0D0HuYA1B2foPQfVgDkG8MBBBtT4SQahFEEEwWRNBLsgOQaFJEEE1cRBBnPMSQZW0CUGKVQ9BR2oPQde7CEETIQhBfqUSQX/5EUEfDxNBEmcPQfggE0HaIRFBAzIPQZxXD0EfXQdBghASQbYREEHBYQ5B5qsMQT8vEEHquBBBcRoSQR3ZD0HolAxBfTYMQYfIDkFsNBFB9DwQQf45EkFaBRJBcKQLQS9kEUGaUhFBMk8OQaQVCUFfkQxBzcsMQXVWEEEb9w9BB0UKQXj+DUF3ngxBY6MPQUq8D0HfdRBBSYAQQQ==",
          "dtype": "f4"
         },
         "y": {
          "bdata": "FUSkQKvKn0BCLZ5AbEqfQNVBoUBPxqFAc0SkQKWYokCdUqJAwrWlQIk0nkC336RA2ESXQANdmECqv6FAciaiQLUCokDWmKRAlw2iQCfYokAc455Am3mjQNhGoEA7LKFALamfQJ9YoUBojalArGSjQJjoqUBocJVA2W2mQCxqk0A7FqNAr1edQCMopEAa/ZNAQsqiQNd6n0DlTJNAj2ygQJJgo0BokJ5Ah+ShQAfoqEBvrqJA26SdQDylokC8QJ9AWrWfQEPKoEA7dJ5AXLuiQJbroECY359AHoyZQCWGokA5jKBAyGuhQKtPnkBxl59Ay1miQK4tl0Ctx5lA7F2fQJido0Bym6FA7rycQFcfnUDlc6BAPrihQKBYo0AmEZdAYrmkQPUZo0D85Z9AiS2hQGBGoUALJJ5ARfqgQGs+oEB7IKBAXfyTQA==",
          "dtype": "f4"
         }
        },
        {
         "hoverinfo": "text",
         "marker": {
          "opacity": 0.5,
          "size": 5
         },
         "mode": "markers+text",
         "name": "12_data_privacy_european",
         "text": [
          "",
          "",
          "",
          "",
          "",
          "",
          "",
          "",
          "",
          "",
          "",
          "",
          "",
          "",
          "",
          "",
          "",
          "",
          "",
          "",
          "",
          "",
          "",
          "",
          "",
          "",
          "",
          "",
          "",
          "",
          "",
          "",
          "",
          "",
          "",
          "",
          "",
          "",
          "",
          "",
          "",
          "",
          "",
          "",
          "",
          "",
          "",
          "",
          "",
          "",
          "",
          "",
          ""
         ],
         "textfont": {
          "size": 12
         },
         "type": "scattergl",
         "x": {
          "bdata": "cirvQEC7+0AK2OdAhhjnQLee60DvwfxAJ0X5QHY390B44vJAm8nuQJhx8UChKPZA7RfmQNad8EA5BOdAe7H2QHBW+kDwC/BAnkrnQIef+UCv8+1AmyX6QAg38EBXvPJARlD2QIC8+kB/zuxADf3oQHYM8EB0o+1Aqr/uQHVM+kBksutAUKPrQAbB9EDWO+pAzP/tQB9f9UB+3e9AzjrqQFKg7UCjs+1AyNbuQCwQ7UD7lftAZ04EQZGy9kDVbPFApVjxQHx7+kAtuu9AHRfwQPhL9UA=",
          "dtype": "f4"
         },
         "y": {
          "bdata": "kKypQBX6pEARX7JAdfWyQF+ztUA9yqJA31ujQI9DqEC+H6pAss26QJn0qUCv8aNAmEm0QGuoqEBWs7hAyvmrQAPPo0Bs8LJAhgKxQLWnpUD4h6tAT6uiQI88qEAKzKlA7YmjQDSzo0AwKLtA0vCwQNq2o0C+M6pAQ5KsQI8Co0DEl7RA+127QNfTsUDQw7dAUl29QP3Hq0AMM6hAhfS8QAkstkAgmbtAUcepQD+iu0AExqBA4kWdQOw7o0ATwqRAr8WpQDHtoEDIgKhAhjyoQJ+rsUA=",
          "dtype": "f4"
         }
        },
        {
         "hoverinfo": "text",
         "marker": {
          "opacity": 0.5,
          "size": 5
         },
         "mode": "markers+text",
         "name": "13_cardiac_heart_human",
         "text": [
          "",
          "",
          "",
          "",
          "",
          "",
          "",
          "",
          "",
          "",
          "",
          "",
          "",
          "",
          "",
          "",
          "",
          "",
          "",
          "",
          "",
          "",
          "",
          "",
          "",
          "",
          "",
          "",
          "",
          "",
          "",
          "",
          "",
          "",
          "",
          "",
          "",
          "",
          "",
          "",
          "",
          "",
          "",
          "",
          "",
          "",
          "",
          "",
          "",
          "",
          ""
         ],
         "textfont": {
          "size": 12
         },
         "type": "scattergl",
         "x": {
          "bdata": "aygbQTluGkEUTBlBgYsZQeA2GkGiFRpBzUIZQVuOGUHEnhlB0d8ZQZuHGUH3NRlB16YYQeveGkEQuxlBQtIYQU12GUEFQhlBGJYbQZyCG0G50RlBX1QaQR0QGUH7CRlBwJ8YQWBmGkGBuRlBH4kZQTFhG0FG1hlBPPwYQVyOGUGryBpBHS8ZQR0OGUHHMBxBXH8aQY99GUG35RlB7EQaQYh3GUGsbBpB0ogZQR3yGEH0VhpBmLEZQWfcGkHdRRpB7woaQZaPGUFbhhlB",
          "dtype": "f4"
         },
         "y": {
          "bdata": "w2i0QAZks0BXRq9AaRyvQBL7s0A4grFAn8KxQBomsEBCr7NAzcq0QMaItEA6O7BAZPatQHVAtEB/drVAc1uyQNisr0D0ga9AbmS2QNPntEBPSrBAGAOyQG5Zs0BaNrFApLexQHyYs0B7TbRA/n2zQAbXtEB1gbJAfduyQE+CskDlobNA8DS4QMm9rUBE07hAwVmzQLU3s0DGSLNAFky0QFxBskD7OrNAa1eyQAOwsUBT8rNAoTS1QN5TtEBW/7RA5RKzQFuEr0CRZq9A",
          "dtype": "f4"
         }
        },
        {
         "hoverinfo": "text",
         "marker": {
          "opacity": 0.5,
          "size": 5
         },
         "mode": "markers+text",
         "name": "14_liver_nafld_metabolic",
         "text": [
          "",
          "",
          "",
          "",
          "",
          "",
          "",
          "",
          "",
          "",
          "",
          "",
          "",
          "",
          "",
          "",
          "",
          "",
          "",
          "",
          "",
          "",
          "",
          "",
          "",
          "",
          "",
          "",
          "",
          "",
          "",
          "",
          "",
          "",
          "",
          "",
          "",
          "",
          "",
          "",
          "",
          "",
          "",
          "",
          "",
          "",
          "",
          ""
         ],
         "textfont": {
          "size": 12
         },
         "type": "scattergl",
         "x": {
          "bdata": "au0QQcyvEEFMeQ5BxRgSQdFwD0GLfxFBjnQPQaP3DkFoWgxBdkAQQUXuDkEQ7g5BK6kQQRjOD0FjrxRBebMQQSI6EEGRWw5BsNkOQfIoEEFUFg9BRcUTQfppD0EWaA9BwKEOQfB+DkEcyw5BXAcQQa8SD0Ew1A9BKDMQQaoKD0HrrRBBW0YPQcVHEEEafxBBS5kQQWKwDkFTCRBBXbIPQcYbD0FrHBBB8jYOQdycEUFLuw5BKewPQX4LEEH2KxBB",
          "dtype": "f4"
         },
         "y": {
          "bdata": "S37yQPcx8kBsge5AI/fkQGf87UCo+/NASNbzQGIm4EAh9fdAd7HrQCl83EAzUOBAz+rsQIIP7EBnJuRAuMbpQDUq6ECB9d5AKJnpQFl+5kAvEOhAumThQMJG5EC0++hAJFrrQIbj5kDCNuBAFgXoQO5e4UDAee5ALevnQBsS7kD3WOZAg+PtQFxV5EDl6/NA86HzQHWO20BGDe1A9k3oQIG14EDlUuxAvL/dQImP5UCL/t9Ac1TsQAx08ECBT+5A",
          "dtype": "f4"
         }
        },
        {
         "hoverinfo": "text",
         "marker": {
          "opacity": 0.5,
          "size": 5
         },
         "mode": "markers+text",
         "name": "15_neural_visual_brain",
         "text": [
          "",
          "",
          "",
          "",
          "",
          "",
          "",
          "",
          "",
          "",
          "",
          "",
          "",
          "",
          "",
          "",
          "",
          "",
          "",
          "",
          "",
          "",
          "",
          "",
          "",
          "",
          "",
          "",
          "",
          "",
          "",
          "",
          "",
          "",
          "",
          "",
          "",
          "",
          "",
          "",
          "",
          "",
          "",
          "",
          "",
          "",
          ""
         ],
         "textfont": {
          "size": 12
         },
         "type": "scattergl",
         "x": {
          "bdata": "SSwIQW9BCkG8XghBlKAIQbenCUH+/AdBrr4JQeRqCUEJQApByvQFQSqYCUE7DAxBlJ4IQbQSDEE5HghByBEEQRGoCkH0GwpBRrUCQe7PCUFJfAdBN8AIQcPcB0H7EgpBDQwIQcFqCEGCfwZB+AUFQT7cCUGyNgxBLkoGQRoZB0EgqgpB5EMKQSmBB0GxPghB/8kJQeD9CEHrMghBrbAJQe7WCUEM7QlBV3UIQQYzBkHjDQ1Bym4JQQ3TCEE=",
          "dtype": "f4"
         },
         "y": {
          "bdata": "+pqHQE2vgUAXq4NATwSEQJMDgkDkxYlAayKBQDvHgUBfYYFA/QWDQFEIgkBZioVAQNOGQHnehECyNYRAbgSDQNGwg0C7lIJA+9mEQLLZgkCb84VAuKOKQAhYhUC2OYJAr0yEQD1BgkDRNINABQ6HQKNJgkAB54RA5EaJQI3HgkAFJ4NAz5eBQKZiiUClFYRADJaBQE1UgkAMUIJAHfKBQD+9gUBsQYJAO5OCQDoOiUD1p4VA3iqCQLsxg0A=",
          "dtype": "f4"
         }
        },
        {
         "hoverinfo": "text",
         "marker": {
          "opacity": 0.5,
          "size": 5
         },
         "mode": "markers+text",
         "name": "16_diabetes_insulin_glucose",
         "text": [
          "",
          "",
          "",
          "",
          "",
          "",
          "",
          "",
          "",
          "",
          "",
          "",
          "",
          "",
          "",
          "",
          "",
          "",
          "",
          "",
          "",
          "",
          "",
          "",
          "",
          "",
          "",
          "",
          "",
          "",
          "",
          "",
          "",
          "",
          "",
          "",
          "",
          "",
          ""
         ],
         "textfont": {
          "size": 12
         },
         "type": "scattergl",
         "x": {
          "bdata": "VuAIQYWlB0EcNwZBQycGQcJYCkGz3ghBCFgKQdLBB0EAzwVBNoMGQWMFCkHWZQhBTsAGQeK2BUH0pAdBPcwHQT5DBkG14QZBXv4HQWuKCkG68wdBMEMIQRaDB0GOgQlB8bYHQdfMB0FI7wZBZrsGQSGjCUGJagpB/wAIQcDLB0G/FAdBGwYJQVkkCUFULwhBrK4JQUKVCUFtvQlB",
          "dtype": "f4"
         },
         "y": {
          "bdata": "Xtq1QMsptUAx/rZAag23QOiAtkA/dLZAkG+2QL/Wt0BNdrhAgeO4QAahtkCGK7ZAFbi4QByKt0Das7RAVCO0QO9ut0D+vbZARIWzQK7AuECGSbNADPi2QMlCtUA52LZAvle0QK1TtEBA6LdAE3S3QJTvtkBI57dArEG1QMR6tEC7MLlA7Zq2QGoxt0Dgw7JAsM62QOPctkDK0bZA",
          "dtype": "f4"
         }
        },
        {
         "hoverinfo": "text",
         "marker": {
          "opacity": 0.5,
          "size": 5
         },
         "mode": "markers+text",
         "name": "17_synthesis_reactions_molecules",
         "text": [
          "",
          "",
          "",
          "",
          "",
          "",
          "",
          "",
          "",
          "",
          "",
          "",
          "",
          "",
          "",
          "",
          "",
          "",
          "",
          "",
          "",
          "",
          "",
          "",
          "",
          "",
          "",
          "",
          "",
          "",
          "",
          "",
          "",
          "",
          "",
          "",
          "",
          "",
          ""
         ],
         "textfont": {
          "size": 12
         },
         "type": "scattergl",
         "x": {
          "bdata": "7A/ZQCVb2UBlD9tAY8fZQESj2EAuMNlAQP/aQCai10CmJ9xAm9zZQAXK40Aa+NhAARXaQKXY2UDvxdlATYvbQJzF2kDgYN9ALL7aQFtY3kDQldlAbH/aQAIO2EDcKdlA7arYQGM+2ECEFdpA9+rXQHFA3EA1CdpAB3TZQF4j2UA2bNlAaVXmQICR10DVqtpANzPaQN3t2UCEHt9A",
          "dtype": "f4"
         },
         "y": {
          "bdata": "6THQQE3sz0BIcM5A4SjPQApRz0B0SNFASDnMQPad0kCvCtBA9G3RQIftzEDsos9AUlnRQNx0z0DS989AMmXQQEBV0EC8rM1AKF7PQNMP0UDV8s9AMabQQFJ60UCqa9BAEkDRQJtV0ECP6M9AhSPOQGN10UBqB9BAyODRQNxN0EAPr9BAp/TKQMaF0ECTns9A+HTPQI9/z0D+StFA",
          "dtype": "f4"
         }
        },
        {
         "hoverinfo": "text",
         "marker": {
          "opacity": 0.5,
          "size": 5
         },
         "mode": "markers+text",
         "name": "18_pandemic_preparedness_biodiversity",
         "text": [
          "",
          "",
          "",
          "",
          "",
          "",
          "",
          "",
          "",
          "",
          "",
          "",
          "",
          "",
          "",
          "",
          "",
          "",
          "",
          "",
          "",
          "",
          "",
          "",
          "",
          "",
          "",
          "",
          "",
          "",
          "",
          "",
          "",
          "",
          ""
         ],
         "textfont": {
          "size": 12
         },
         "type": "scattergl",
         "x": {
          "bdata": "/Xy3QFrmt0Ca6bhAsPK4QJgptkBRNLpAZl+1QNePvkBIV7tA3Mu2QGkCukDzM7xAJgW5QDLKtUBirrpAs3i6QMu/ukCwnbZAlVK2QL3pu0AnJLZAN3q6QLJ7tUB7j7ZAwvK+QNmOtUD+WbZAg0W6QI/6ukBturhAHBa7QATevEAZ5rlACzy2QG1ZukA=",
          "dtype": "f4"
         },
         "y": {
          "bdata": "ceLoQBBW5kBHTe9AkUThQNDx5kBC3+lAfe/nQL5W8EAvmupAwMTnQKE75UD1GO5Ay2TwQIGt50DSCOpAJhvqQPgJ6kBdoe1A5vPmQO0N7UAkI+dA9UDqQE8E50COc+pAzav2QGua6UCjYOdA1/3uQKiF60D1xvFARH3qQDWC7kASC+pAnzbnQPo/6UA=",
          "dtype": "f4"
         }
        },
        {
         "hoverinfo": "text",
         "marker": {
          "opacity": 0.5,
          "size": 5
         },
         "mode": "markers+text",
         "name": "19_cancer_care_prevention",
         "text": [
          "",
          "",
          "",
          "",
          "",
          "",
          "",
          "",
          "",
          "",
          "",
          "",
          "",
          "",
          "",
          "",
          "",
          "",
          "",
          "",
          "",
          "",
          "",
          "",
          "",
          "",
          "",
          "",
          "",
          "",
          "",
          "",
          "",
          ""
         ],
         "textfont": {
          "size": 12
         },
         "type": "scattergl",
         "x": {
          "bdata": "Dsn/QAdV/UCxswBBsyACQcWWAEFhRgFB5t7+QJEwAEEpKABBJnwAQUkhAUEJUgBBfZYHQSG6/0Aj4QJB6B4AQV5vAkE7Mv9A5zz/QDtvAEFWMABB9boAQRNrA0GlXf9A+qH+QIfZ/0Ck7ABBSvz+QGkNAUHuhQBBzkUAQYDn/0B0TQBBOXT/QA==",
          "dtype": "f4"
         },
         "y": {
          "bdata": "FiuyQI7TvUChQbdAEum7QI4Qt0DsbLtAfLi7QH5wuUDft7NAcDy6QGVbuECt57lAcSrEQLogs0DUUb5AG9m0QF/OvEB1XbtA9payQDV5vkCzhbhAuGO5QHfZvkA3sLFAIY+7QHmKu0Dk7bpA4027QAqvuEARFrdALeq2QMVeukCJaLRAzpi7QA==",
          "dtype": "f4"
         }
        },
        {
         "hoverinfo": "text",
         "marker": {
          "opacity": 0.5,
          "size": 5
         },
         "mode": "markers+text",
         "name": "20_eye_retinal_ocular",
         "text": [
          "",
          "",
          "",
          "",
          "",
          "",
          "",
          "",
          "",
          "",
          "",
          "",
          "",
          "",
          "",
          "",
          "",
          "",
          "",
          "",
          "",
          "",
          "",
          "",
          "",
          "",
          "",
          "",
          "",
          ""
         ],
         "textfont": {
          "size": 12
         },
         "type": "scattergl",
         "x": {
          "bdata": "haoOQaOrDkF9eQ5BQhsPQVxfDkG04w5BtlUOQV5eDkGRvw5B3oUOQU11DkFGug5BBWAOQeh+DkHEpQ5Bjl4OQRmcDkFbVA5BMDkOQRk9DkEmwA5BqpgOQQSADkF87A5BHo8OQeRFDkGgvw5BGZEOQRF0DkEMgQ5B",
          "dtype": "f4"
         },
         "y": {
          "bdata": "GCeKQArwikDZTI9AmSuLQF4jjkBkBIxAeMyPQIPUkEDwloxAkOaMQKABj0B4joxATSaPQPADjUD+1IxARkWOQJ7QjEBrBo9AYBaNQEUxjkAn/45AwTqMQOAhjUDj2ItAnTOLQMyjj0BJjIxA6YKMQEPzjUDFXI9A",
          "dtype": "f4"
         }
        },
        {
         "hoverinfo": "text",
         "marker": {
          "opacity": 0.5,
          "size": 5
         },
         "mode": "markers+text",
         "name": "21_kidney_ckd_renal",
         "text": [
          "",
          "",
          "",
          "",
          "",
          "",
          "",
          "",
          "",
          "",
          "",
          "",
          "",
          "",
          "",
          "",
          "",
          "",
          "",
          "",
          "",
          "",
          "",
          "",
          "",
          ""
         ],
         "textfont": {
          "size": 12
         },
         "type": "scattergl",
         "x": {
          "bdata": "tgYaQcSFGUFiAxhBVu0ZQe1hGUFRkRlBP0QZQT9fGUFngxlBRGoZQamSGUHZghlBnJEZQQ2zGEE6nhlB6oIZQY4xGUFhsBhBmIsZQed0GUEyqhlBlncZQeN/FUFYnBlBa4YZQdk6GUE=",
          "dtype": "f4"
         },
         "y": {
          "bdata": "06+yQHXsskDvvrFATBu0QKHNskBDG7NA0nazQBF6skCZxrJAk6uyQOPJskBRw7JA5eOyQP1qsUDtvbVA1CKzQMaBskA5t7FAWduyQOTCskCzHbNA8MWyQAmcsECl/rJAnj6zQKsnskA=",
          "dtype": "f4"
         }
        },
        {
         "hoverinfo": "text",
         "marker": {
          "opacity": 0.5,
          "size": 5
         },
         "mode": "markers+text",
         "name": "22_pharmaceutical_sustainable_pharmaceuticals",
         "text": [
          "",
          "",
          "",
          "",
          "",
          "",
          "",
          "",
          "",
          "",
          "",
          "",
          "",
          "",
          "",
          "",
          "",
          "",
          "",
          "",
          "",
          "",
          "",
          "",
          ""
         ],
         "textfont": {
          "size": 12
         },
         "type": "scattergl",
         "x": {
          "bdata": "MdHXQHI0zEAbFtRAuUvVQP8i3kAIk9xAQtzWQDcs0kD6v9FAHb/MQIt+2ECxbddAqYDaQAfoy0C9sNRAgRbTQMgg3kBrBNJAzTzUQHQC00Bvm8tA92DSQGn1y0DhSstABSbTQA==",
          "dtype": "f4"
         },
         "y": {
          "bdata": "az7QQPr81EDzudBAaZnTQBNwzkCvJM9APH7PQHLq0UDVlNJAnDDUQNj60kAkqNBAvRDPQGF+1UAcFcJAZBXRQFW+zUBvzNFAmSnRQKt10UBeLNRAmD/TQLju1EBuL9VAZ3zRQA==",
          "dtype": "f4"
         }
        }
       ],
       "layout": {
        "annotations": [
         {
          "showarrow": false,
          "text": "D1",
          "x": 4.414118766784668,
          "y": 6.955172860622406,
          "yshift": 10
         },
         {
          "showarrow": false,
          "text": "D2",
          "x": 8.285939931869507,
          "xshift": 10,
          "y": 10.480212020874024
         }
        ],
        "height": 750,
        "shapes": [
         {
          "line": {
           "color": "#CFD8DC",
           "width": 2
          },
          "type": "line",
          "x0": 8.285939931869507,
          "x1": 8.285939931869507,
          "y0": 3.4301337003707886,
          "y1": 10.480212020874024
         },
         {
          "line": {
           "color": "#9E9E9E",
           "width": 2
          },
          "type": "line",
          "x0": 4.414118766784668,
          "x1": 12.157761096954346,
          "y0": 6.955172860622406,
          "y1": 6.955172860622406
         }
        ],
        "template": {
         "data": {
          "bar": [
           {
            "error_x": {
             "color": "rgb(36,36,36)"
            },
            "error_y": {
             "color": "rgb(36,36,36)"
            },
            "marker": {
             "line": {
              "color": "white",
              "width": 0.5
             },
             "pattern": {
              "fillmode": "overlay",
              "size": 10,
              "solidity": 0.2
             }
            },
            "type": "bar"
           }
          ],
          "barpolar": [
           {
            "marker": {
             "line": {
              "color": "white",
              "width": 0.5
             },
             "pattern": {
              "fillmode": "overlay",
              "size": 10,
              "solidity": 0.2
             }
            },
            "type": "barpolar"
           }
          ],
          "carpet": [
           {
            "aaxis": {
             "endlinecolor": "rgb(36,36,36)",
             "gridcolor": "white",
             "linecolor": "white",
             "minorgridcolor": "white",
             "startlinecolor": "rgb(36,36,36)"
            },
            "baxis": {
             "endlinecolor": "rgb(36,36,36)",
             "gridcolor": "white",
             "linecolor": "white",
             "minorgridcolor": "white",
             "startlinecolor": "rgb(36,36,36)"
            },
            "type": "carpet"
           }
          ],
          "choropleth": [
           {
            "colorbar": {
             "outlinewidth": 1,
             "tickcolor": "rgb(36,36,36)",
             "ticks": "outside"
            },
            "type": "choropleth"
           }
          ],
          "contour": [
           {
            "colorbar": {
             "outlinewidth": 1,
             "tickcolor": "rgb(36,36,36)",
             "ticks": "outside"
            },
            "colorscale": [
             [
              0,
              "#440154"
             ],
             [
              0.1111111111111111,
              "#482878"
             ],
             [
              0.2222222222222222,
              "#3e4989"
             ],
             [
              0.3333333333333333,
              "#31688e"
             ],
             [
              0.4444444444444444,
              "#26828e"
             ],
             [
              0.5555555555555556,
              "#1f9e89"
             ],
             [
              0.6666666666666666,
              "#35b779"
             ],
             [
              0.7777777777777778,
              "#6ece58"
             ],
             [
              0.8888888888888888,
              "#b5de2b"
             ],
             [
              1,
              "#fde725"
             ]
            ],
            "type": "contour"
           }
          ],
          "contourcarpet": [
           {
            "colorbar": {
             "outlinewidth": 1,
             "tickcolor": "rgb(36,36,36)",
             "ticks": "outside"
            },
            "type": "contourcarpet"
           }
          ],
          "heatmap": [
           {
            "colorbar": {
             "outlinewidth": 1,
             "tickcolor": "rgb(36,36,36)",
             "ticks": "outside"
            },
            "colorscale": [
             [
              0,
              "#440154"
             ],
             [
              0.1111111111111111,
              "#482878"
             ],
             [
              0.2222222222222222,
              "#3e4989"
             ],
             [
              0.3333333333333333,
              "#31688e"
             ],
             [
              0.4444444444444444,
              "#26828e"
             ],
             [
              0.5555555555555556,
              "#1f9e89"
             ],
             [
              0.6666666666666666,
              "#35b779"
             ],
             [
              0.7777777777777778,
              "#6ece58"
             ],
             [
              0.8888888888888888,
              "#b5de2b"
             ],
             [
              1,
              "#fde725"
             ]
            ],
            "type": "heatmap"
           }
          ],
          "histogram": [
           {
            "marker": {
             "line": {
              "color": "white",
              "width": 0.6
             }
            },
            "type": "histogram"
           }
          ],
          "histogram2d": [
           {
            "colorbar": {
             "outlinewidth": 1,
             "tickcolor": "rgb(36,36,36)",
             "ticks": "outside"
            },
            "colorscale": [
             [
              0,
              "#440154"
             ],
             [
              0.1111111111111111,
              "#482878"
             ],
             [
              0.2222222222222222,
              "#3e4989"
             ],
             [
              0.3333333333333333,
              "#31688e"
             ],
             [
              0.4444444444444444,
              "#26828e"
             ],
             [
              0.5555555555555556,
              "#1f9e89"
             ],
             [
              0.6666666666666666,
              "#35b779"
             ],
             [
              0.7777777777777778,
              "#6ece58"
             ],
             [
              0.8888888888888888,
              "#b5de2b"
             ],
             [
              1,
              "#fde725"
             ]
            ],
            "type": "histogram2d"
           }
          ],
          "histogram2dcontour": [
           {
            "colorbar": {
             "outlinewidth": 1,
             "tickcolor": "rgb(36,36,36)",
             "ticks": "outside"
            },
            "colorscale": [
             [
              0,
              "#440154"
             ],
             [
              0.1111111111111111,
              "#482878"
             ],
             [
              0.2222222222222222,
              "#3e4989"
             ],
             [
              0.3333333333333333,
              "#31688e"
             ],
             [
              0.4444444444444444,
              "#26828e"
             ],
             [
              0.5555555555555556,
              "#1f9e89"
             ],
             [
              0.6666666666666666,
              "#35b779"
             ],
             [
              0.7777777777777778,
              "#6ece58"
             ],
             [
              0.8888888888888888,
              "#b5de2b"
             ],
             [
              1,
              "#fde725"
             ]
            ],
            "type": "histogram2dcontour"
           }
          ],
          "mesh3d": [
           {
            "colorbar": {
             "outlinewidth": 1,
             "tickcolor": "rgb(36,36,36)",
             "ticks": "outside"
            },
            "type": "mesh3d"
           }
          ],
          "parcoords": [
           {
            "line": {
             "colorbar": {
              "outlinewidth": 1,
              "tickcolor": "rgb(36,36,36)",
              "ticks": "outside"
             }
            },
            "type": "parcoords"
           }
          ],
          "pie": [
           {
            "automargin": true,
            "type": "pie"
           }
          ],
          "scatter": [
           {
            "fillpattern": {
             "fillmode": "overlay",
             "size": 10,
             "solidity": 0.2
            },
            "type": "scatter"
           }
          ],
          "scatter3d": [
           {
            "line": {
             "colorbar": {
              "outlinewidth": 1,
              "tickcolor": "rgb(36,36,36)",
              "ticks": "outside"
             }
            },
            "marker": {
             "colorbar": {
              "outlinewidth": 1,
              "tickcolor": "rgb(36,36,36)",
              "ticks": "outside"
             }
            },
            "type": "scatter3d"
           }
          ],
          "scattercarpet": [
           {
            "marker": {
             "colorbar": {
              "outlinewidth": 1,
              "tickcolor": "rgb(36,36,36)",
              "ticks": "outside"
             }
            },
            "type": "scattercarpet"
           }
          ],
          "scattergeo": [
           {
            "marker": {
             "colorbar": {
              "outlinewidth": 1,
              "tickcolor": "rgb(36,36,36)",
              "ticks": "outside"
             }
            },
            "type": "scattergeo"
           }
          ],
          "scattergl": [
           {
            "marker": {
             "colorbar": {
              "outlinewidth": 1,
              "tickcolor": "rgb(36,36,36)",
              "ticks": "outside"
             }
            },
            "type": "scattergl"
           }
          ],
          "scattermap": [
           {
            "marker": {
             "colorbar": {
              "outlinewidth": 1,
              "tickcolor": "rgb(36,36,36)",
              "ticks": "outside"
             }
            },
            "type": "scattermap"
           }
          ],
          "scattermapbox": [
           {
            "marker": {
             "colorbar": {
              "outlinewidth": 1,
              "tickcolor": "rgb(36,36,36)",
              "ticks": "outside"
             }
            },
            "type": "scattermapbox"
           }
          ],
          "scatterpolar": [
           {
            "marker": {
             "colorbar": {
              "outlinewidth": 1,
              "tickcolor": "rgb(36,36,36)",
              "ticks": "outside"
             }
            },
            "type": "scatterpolar"
           }
          ],
          "scatterpolargl": [
           {
            "marker": {
             "colorbar": {
              "outlinewidth": 1,
              "tickcolor": "rgb(36,36,36)",
              "ticks": "outside"
             }
            },
            "type": "scatterpolargl"
           }
          ],
          "scatterternary": [
           {
            "marker": {
             "colorbar": {
              "outlinewidth": 1,
              "tickcolor": "rgb(36,36,36)",
              "ticks": "outside"
             }
            },
            "type": "scatterternary"
           }
          ],
          "surface": [
           {
            "colorbar": {
             "outlinewidth": 1,
             "tickcolor": "rgb(36,36,36)",
             "ticks": "outside"
            },
            "colorscale": [
             [
              0,
              "#440154"
             ],
             [
              0.1111111111111111,
              "#482878"
             ],
             [
              0.2222222222222222,
              "#3e4989"
             ],
             [
              0.3333333333333333,
              "#31688e"
             ],
             [
              0.4444444444444444,
              "#26828e"
             ],
             [
              0.5555555555555556,
              "#1f9e89"
             ],
             [
              0.6666666666666666,
              "#35b779"
             ],
             [
              0.7777777777777778,
              "#6ece58"
             ],
             [
              0.8888888888888888,
              "#b5de2b"
             ],
             [
              1,
              "#fde725"
             ]
            ],
            "type": "surface"
           }
          ],
          "table": [
           {
            "cells": {
             "fill": {
              "color": "rgb(237,237,237)"
             },
             "line": {
              "color": "white"
             }
            },
            "header": {
             "fill": {
              "color": "rgb(217,217,217)"
             },
             "line": {
              "color": "white"
             }
            },
            "type": "table"
           }
          ]
         },
         "layout": {
          "annotationdefaults": {
           "arrowhead": 0,
           "arrowwidth": 1
          },
          "autotypenumbers": "strict",
          "coloraxis": {
           "colorbar": {
            "outlinewidth": 1,
            "tickcolor": "rgb(36,36,36)",
            "ticks": "outside"
           }
          },
          "colorscale": {
           "diverging": [
            [
             0,
             "rgb(103,0,31)"
            ],
            [
             0.1,
             "rgb(178,24,43)"
            ],
            [
             0.2,
             "rgb(214,96,77)"
            ],
            [
             0.3,
             "rgb(244,165,130)"
            ],
            [
             0.4,
             "rgb(253,219,199)"
            ],
            [
             0.5,
             "rgb(247,247,247)"
            ],
            [
             0.6,
             "rgb(209,229,240)"
            ],
            [
             0.7,
             "rgb(146,197,222)"
            ],
            [
             0.8,
             "rgb(67,147,195)"
            ],
            [
             0.9,
             "rgb(33,102,172)"
            ],
            [
             1,
             "rgb(5,48,97)"
            ]
           ],
           "sequential": [
            [
             0,
             "#440154"
            ],
            [
             0.1111111111111111,
             "#482878"
            ],
            [
             0.2222222222222222,
             "#3e4989"
            ],
            [
             0.3333333333333333,
             "#31688e"
            ],
            [
             0.4444444444444444,
             "#26828e"
            ],
            [
             0.5555555555555556,
             "#1f9e89"
            ],
            [
             0.6666666666666666,
             "#35b779"
            ],
            [
             0.7777777777777778,
             "#6ece58"
            ],
            [
             0.8888888888888888,
             "#b5de2b"
            ],
            [
             1,
             "#fde725"
            ]
           ],
           "sequentialminus": [
            [
             0,
             "#440154"
            ],
            [
             0.1111111111111111,
             "#482878"
            ],
            [
             0.2222222222222222,
             "#3e4989"
            ],
            [
             0.3333333333333333,
             "#31688e"
            ],
            [
             0.4444444444444444,
             "#26828e"
            ],
            [
             0.5555555555555556,
             "#1f9e89"
            ],
            [
             0.6666666666666666,
             "#35b779"
            ],
            [
             0.7777777777777778,
             "#6ece58"
            ],
            [
             0.8888888888888888,
             "#b5de2b"
            ],
            [
             1,
             "#fde725"
            ]
           ]
          },
          "colorway": [
           "#1F77B4",
           "#FF7F0E",
           "#2CA02C",
           "#D62728",
           "#9467BD",
           "#8C564B",
           "#E377C2",
           "#7F7F7F",
           "#BCBD22",
           "#17BECF"
          ],
          "font": {
           "color": "rgb(36,36,36)"
          },
          "geo": {
           "bgcolor": "white",
           "lakecolor": "white",
           "landcolor": "white",
           "showlakes": true,
           "showland": true,
           "subunitcolor": "white"
          },
          "hoverlabel": {
           "align": "left"
          },
          "hovermode": "closest",
          "mapbox": {
           "style": "light"
          },
          "paper_bgcolor": "white",
          "plot_bgcolor": "white",
          "polar": {
           "angularaxis": {
            "gridcolor": "rgb(232,232,232)",
            "linecolor": "rgb(36,36,36)",
            "showgrid": false,
            "showline": true,
            "ticks": "outside"
           },
           "bgcolor": "white",
           "radialaxis": {
            "gridcolor": "rgb(232,232,232)",
            "linecolor": "rgb(36,36,36)",
            "showgrid": false,
            "showline": true,
            "ticks": "outside"
           }
          },
          "scene": {
           "xaxis": {
            "backgroundcolor": "white",
            "gridcolor": "rgb(232,232,232)",
            "gridwidth": 2,
            "linecolor": "rgb(36,36,36)",
            "showbackground": true,
            "showgrid": false,
            "showline": true,
            "ticks": "outside",
            "zeroline": false,
            "zerolinecolor": "rgb(36,36,36)"
           },
           "yaxis": {
            "backgroundcolor": "white",
            "gridcolor": "rgb(232,232,232)",
            "gridwidth": 2,
            "linecolor": "rgb(36,36,36)",
            "showbackground": true,
            "showgrid": false,
            "showline": true,
            "ticks": "outside",
            "zeroline": false,
            "zerolinecolor": "rgb(36,36,36)"
           },
           "zaxis": {
            "backgroundcolor": "white",
            "gridcolor": "rgb(232,232,232)",
            "gridwidth": 2,
            "linecolor": "rgb(36,36,36)",
            "showbackground": true,
            "showgrid": false,
            "showline": true,
            "ticks": "outside",
            "zeroline": false,
            "zerolinecolor": "rgb(36,36,36)"
           }
          },
          "shapedefaults": {
           "fillcolor": "black",
           "line": {
            "width": 0
           },
           "opacity": 0.3
          },
          "ternary": {
           "aaxis": {
            "gridcolor": "rgb(232,232,232)",
            "linecolor": "rgb(36,36,36)",
            "showgrid": false,
            "showline": true,
            "ticks": "outside"
           },
           "baxis": {
            "gridcolor": "rgb(232,232,232)",
            "linecolor": "rgb(36,36,36)",
            "showgrid": false,
            "showline": true,
            "ticks": "outside"
           },
           "bgcolor": "white",
           "caxis": {
            "gridcolor": "rgb(232,232,232)",
            "linecolor": "rgb(36,36,36)",
            "showgrid": false,
            "showline": true,
            "ticks": "outside"
           }
          },
          "title": {
           "x": 0.05
          },
          "xaxis": {
           "automargin": true,
           "gridcolor": "rgb(232,232,232)",
           "linecolor": "rgb(36,36,36)",
           "showgrid": false,
           "showline": true,
           "ticks": "outside",
           "title": {
            "standoff": 15
           },
           "zeroline": false,
           "zerolinecolor": "rgb(36,36,36)"
          },
          "yaxis": {
           "automargin": true,
           "gridcolor": "rgb(232,232,232)",
           "linecolor": "rgb(36,36,36)",
           "showgrid": false,
           "showline": true,
           "ticks": "outside",
           "title": {
            "standoff": 15
           },
           "zeroline": false,
           "zerolinecolor": "rgb(36,36,36)"
          }
         }
        },
        "title": {
         "font": {
          "color": "Black",
          "size": 22
         },
         "text": "<b>Documents and Topics</b>",
         "x": 0.5,
         "xanchor": "center",
         "yanchor": "top"
        },
        "width": 1200,
        "xaxis": {
         "visible": false
        },
        "yaxis": {
         "visible": false
        }
       }
      }
     },
     "metadata": {},
     "output_type": "display_data"
    }
   ],
   "source": [
    "topic_model.visualize_documents(\n",
    "    text,\n",
    "    reduced_embeddings=reduced_embeddings,\n",
    "    hide_document_hover=True,\n",
    "    hide_annotations=True,\n",
    ")\n"
   ]
  },
  {
   "cell_type": "code",
   "execution_count": 15,
   "id": "baa95788",
   "metadata": {},
   "outputs": [
    {
     "name": "stderr",
     "output_type": "stream",
     "text": [
      "2025-05-26 10:26:40,532 - BERTopic - WARNING: Using a custom list of topic assignments may lead to errors if topic reduction techniques are used afterwards. Make sure that manually assigning topics is the last step in the pipeline.Note that topic embeddings will also be created through weightedc-TF-IDF embeddings instead of centroid embeddings.\n"
     ]
    }
   ],
   "source": [
    "new_topics = topic_model.reduce_outliers(\n",
    "    text, topics, strategy=\"c-tf-idf\", threshold=0.2\n",
    ")\n",
    "\n",
    "topic_model.update_topics(text, topics=new_topics)\n"
   ]
  },
  {
   "cell_type": "code",
   "execution_count": 16,
   "id": "2b21f4a7",
   "metadata": {},
   "outputs": [
    {
     "data": {
      "text/html": [
       "<div>\n",
       "<style scoped>\n",
       "    .dataframe tbody tr th:only-of-type {\n",
       "        vertical-align: middle;\n",
       "    }\n",
       "\n",
       "    .dataframe tbody tr th {\n",
       "        vertical-align: top;\n",
       "    }\n",
       "\n",
       "    .dataframe thead th {\n",
       "        text-align: right;\n",
       "    }\n",
       "</style>\n",
       "<table border=\"1\" class=\"dataframe\">\n",
       "  <thead>\n",
       "    <tr style=\"text-align: right;\">\n",
       "      <th></th>\n",
       "      <th>Topic</th>\n",
       "      <th>Count</th>\n",
       "      <th>Name</th>\n",
       "      <th>Representation</th>\n",
       "      <th>KeyBERT</th>\n",
       "      <th>MMR</th>\n",
       "      <th>POS</th>\n",
       "      <th>Representative_Docs</th>\n",
       "    </tr>\n",
       "  </thead>\n",
       "  <tbody>\n",
       "    <tr>\n",
       "      <th>0</th>\n",
       "      <td>-1</td>\n",
       "      <td>812</td>\n",
       "      <td>-1_the_and_of_to</td>\n",
       "      <td>[the, and, of, to, in, for, will, is, with, that]</td>\n",
       "      <td>[ai, brain, approaches, clinical, patients, ai...</td>\n",
       "      <td>[new, data, brain, disease, develop, clinical,...</td>\n",
       "      <td>[new, data, brain, development, human, high, d...</td>\n",
       "      <td>[Virtual Brain Twin for personalised treatment...</td>\n",
       "    </tr>\n",
       "    <tr>\n",
       "      <th>1</th>\n",
       "      <td>0</td>\n",
       "      <td>704</td>\n",
       "      <td>0_the_of_to_and</td>\n",
       "      <td>[the, of, to, and, cancer, in, cell, cells, wi...</td>\n",
       "      <td>[cancer cells, immunotherapy, tumours, tumors,...</td>\n",
       "      <td>[cancer, cell, cells, tumor, tumour, therapies...</td>\n",
       "      <td>[cancer, cell, cells, tumor, therapy, immune, ...</td>\n",
       "      <td>[Cancer cell plasticity on targeted therapy\\nN...</td>\n",
       "    </tr>\n",
       "    <tr>\n",
       "      <th>2</th>\n",
       "      <td>1</td>\n",
       "      <td>263</td>\n",
       "      <td>1_the_and_of_to</td>\n",
       "      <td>[the, and, of, to, in, will, for, viral, virus...</td>\n",
       "      <td>[sars cov, antiviral, sars, vaccines, vaccine,...</td>\n",
       "      <td>[virus, malaria, vaccine, viruses, antiviral, ...</td>\n",
       "      <td>[viral, virus, malaria, vaccine, viruses, infe...</td>\n",
       "      <td>[Respiratory Host-Pathogen Interaction\\nLower ...</td>\n",
       "    </tr>\n",
       "    <tr>\n",
       "      <th>3</th>\n",
       "      <td>2</td>\n",
       "      <td>200</td>\n",
       "      <td>2_and_the_of_health</td>\n",
       "      <td>[and, the, of, health, to, in, social, on, wil...</td>\n",
       "      <td>[19 pandemic, covid 19, covid, eu, pandemic, i...</td>\n",
       "      <td>[social, policy, pandemic, eu, public, covid, ...</td>\n",
       "      <td>[social, policy, pandemic, political, mental, ...</td>\n",
       "      <td>[VET PARTICIPATION, RETENTION, AND EDUCATIONAL...</td>\n",
       "    </tr>\n",
       "    <tr>\n",
       "      <th>4</th>\n",
       "      <td>3</td>\n",
       "      <td>177</td>\n",
       "      <td>3_the_and_of_cancer</td>\n",
       "      <td>[the, and, of, cancer, for, to, in, imaging, i...</td>\n",
       "      <td>[breast cancer, biopsy, diagnostics, imaging, ...</td>\n",
       "      <td>[cancer, imaging, ai, breast, detection, bioma...</td>\n",
       "      <td>[cancer, imaging, breast, detection, time, dia...</td>\n",
       "      <td>[Surface-enhanced Raman spectroscopy in liquid...</td>\n",
       "    </tr>\n",
       "    <tr>\n",
       "      <th>5</th>\n",
       "      <td>4</td>\n",
       "      <td>153</td>\n",
       "      <td>4_ad_the_of_in</td>\n",
       "      <td>[ad, the, of, in, and, disease, to, brain, is,...</td>\n",
       "      <td>[microglia, neuroinflammation, neurodegenerati...</td>\n",
       "      <td>[alzheimer, microglia, neurodegenerative, alzh...</td>\n",
       "      <td>[disease, brain, protein, microglia, neurodege...</td>\n",
       "      <td>[Deciphering the microglia-neuron interactions...</td>\n",
       "    </tr>\n",
       "    <tr>\n",
       "      <th>6</th>\n",
       "      <td>5</td>\n",
       "      <td>112</td>\n",
       "      <td>5_food_and_the_of</td>\n",
       "      <td>[food, and, the, of, to, sustainable, will, in...</td>\n",
       "      <td>[food systems, food system, sustainable food, ...</td>\n",
       "      <td>[food, sustainable, aquaculture, food systems,...</td>\n",
       "      <td>[food, sustainable, production, aquaculture, c...</td>\n",
       "      <td>[On a Quest for Data-Driven Innovations to fue...</td>\n",
       "    </tr>\n",
       "    <tr>\n",
       "      <th>7</th>\n",
       "      <td>6</td>\n",
       "      <td>96</td>\n",
       "      <td>6_bone_the_and_of</td>\n",
       "      <td>[bone, the, and, of, for, to, tissue, in, pain...</td>\n",
       "      <td>[bone regeneration, 3d bioprinting, bioprintin...</td>\n",
       "      <td>[bone, bioprinting, oa, implants, cartilage, r...</td>\n",
       "      <td>[bone, tissue, pain, bioprinting, implants, re...</td>\n",
       "      <td>[Drug solution for bone fracture nonunions\\nBo...</td>\n",
       "    </tr>\n",
       "    <tr>\n",
       "      <th>8</th>\n",
       "      <td>7</td>\n",
       "      <td>99</td>\n",
       "      <td>7_the_of_antibiotics_resistance</td>\n",
       "      <td>[the, of, antibiotics, resistance, antibiotic,...</td>\n",
       "      <td>[antimicrobial resistance, antibiotic resistan...</td>\n",
       "      <td>[bacteria, antibiotics, bacterial, antibiotic,...</td>\n",
       "      <td>[bacteria, antibiotics, bacterial, resistance,...</td>\n",
       "      <td>[Advanced Multidisciplinary Research for Antim...</td>\n",
       "    </tr>\n",
       "    <tr>\n",
       "      <th>9</th>\n",
       "      <td>8</td>\n",
       "      <td>100</td>\n",
       "      <td>8_gut_the_and_microbiome</td>\n",
       "      <td>[gut, the, and, microbiome, of, in, to, microb...</td>\n",
       "      <td>[gut microbiome, gut microbiota, microbiome, g...</td>\n",
       "      <td>[gut, ibd, microbiome, microbiota, intestinal,...</td>\n",
       "      <td>[gut, microbiome, microbiota, intestinal, host...</td>\n",
       "      <td>[Mechanistic study of gut microbial biotransfo...</td>\n",
       "    </tr>\n",
       "    <tr>\n",
       "      <th>10</th>\n",
       "      <td>9</td>\n",
       "      <td>90</td>\n",
       "      <td>9_plant_the_of_and</td>\n",
       "      <td>[plant, the, of, and, to, in, plants, will, cr...</td>\n",
       "      <td>[arabidopsis, plant, plants, crop, crops, seed...</td>\n",
       "      <td>[plant, plants, crop, drought, species, climat...</td>\n",
       "      <td>[plant, plants, crop, climate, drought, specie...</td>\n",
       "      <td>[From wild to crop: unravelling the impact of ...</td>\n",
       "    </tr>\n",
       "    <tr>\n",
       "      <th>11</th>\n",
       "      <td>10</td>\n",
       "      <td>95</td>\n",
       "      <td>10_brain_the_stimulation_epilepsy</td>\n",
       "      <td>[brain, the, stimulation, epilepsy, and, of, t...</td>\n",
       "      <td>[brain stimulation, neuromodulation, eeg, elec...</td>\n",
       "      <td>[epilepsy, stimulation, neural, neurological, ...</td>\n",
       "      <td>[brain, epilepsy, stimulation, neural, invasiv...</td>\n",
       "      <td>[AEGEUS - A Novel EEG Ultrasound Device for Fu...</td>\n",
       "    </tr>\n",
       "    <tr>\n",
       "      <th>12</th>\n",
       "      <td>11</td>\n",
       "      <td>91</td>\n",
       "      <td>11_the_and_of_to</td>\n",
       "      <td>[the, and, of, to, heart, patients, in, for, s...</td>\n",
       "      <td>[heart failure, atrial fibrillation, cardiovas...</td>\n",
       "      <td>[heart, patients, stroke, cardiac, cardiovascu...</td>\n",
       "      <td>[heart, patients, stroke, clinical, treatment,...</td>\n",
       "      <td>[Health virtual twins for the personalised man...</td>\n",
       "    </tr>\n",
       "    <tr>\n",
       "      <th>13</th>\n",
       "      <td>12</td>\n",
       "      <td>69</td>\n",
       "      <td>12_data_and_the_to</td>\n",
       "      <td>[data, and, the, to, of, health, ai, for, will...</td>\n",
       "      <td>[ai, healthcare, eu, data, federated, framewor...</td>\n",
       "      <td>[data, privacy, ai, healthcare, digital, eu, c...</td>\n",
       "      <td>[data, privacy, healthcare, digital, use, inno...</td>\n",
       "      <td>[Federate Learning and mUlti-party computation...</td>\n",
       "    </tr>\n",
       "    <tr>\n",
       "      <th>14</th>\n",
       "      <td>13</td>\n",
       "      <td>51</td>\n",
       "      <td>13_cardiac_heart_of_the</td>\n",
       "      <td>[cardiac, heart, of, the, and, to, in, will, h...</td>\n",
       "      <td>[cardiac regeneration, cardiomyocytes, cardiac...</td>\n",
       "      <td>[cardiac, heart, cardiomyocytes, heart failure...</td>\n",
       "      <td>[cardiac, heart, human, cardiomyocytes, tissue...</td>\n",
       "      <td>[Surgical optogenetic bioprinting of engineere...</td>\n",
       "    </tr>\n",
       "    <tr>\n",
       "      <th>15</th>\n",
       "      <td>14</td>\n",
       "      <td>51</td>\n",
       "      <td>14_liver_in_the_and</td>\n",
       "      <td>[liver, in, the, and, of, to, nafld, metabolic...</td>\n",
       "      <td>[nafld, disease nafld, liver fibrosis, fatty l...</td>\n",
       "      <td>[liver, nafld, metabolic, liver disease, hepat...</td>\n",
       "      <td>[liver, metabolic, disease, fatty, hepatic, fa...</td>\n",
       "      <td>[Understanding Metabolic Activation of Dendrit...</td>\n",
       "    </tr>\n",
       "    <tr>\n",
       "      <th>16</th>\n",
       "      <td>15</td>\n",
       "      <td>53</td>\n",
       "      <td>15_the_of_brain_in</td>\n",
       "      <td>[the, of, brain, in, neural, to, visual, and, ...</td>\n",
       "      <td>[neural circuits, neural activity, cortex, cor...</td>\n",
       "      <td>[neural, brain, sensory, perception, stimuli, ...</td>\n",
       "      <td>[neural, visual, brain, sensory, circuits, dec...</td>\n",
       "      <td>[Correcting for self: The impact of head motio...</td>\n",
       "    </tr>\n",
       "    <tr>\n",
       "      <th>17</th>\n",
       "      <td>16</td>\n",
       "      <td>44</td>\n",
       "      <td>16_diabetes_insulin_glucose_t2d</td>\n",
       "      <td>[diabetes, insulin, glucose, t2d, the, of, to,...</td>\n",
       "      <td>[insulin, t1d, insulin resistance, glucagon, i...</td>\n",
       "      <td>[diabetes, insulin, glucose, t2d, type diabete...</td>\n",
       "      <td>[diabetes, insulin, glucose, cell, type, cells...</td>\n",
       "      <td>[Unobtrusive Continuous Multi-Metabolite Monit...</td>\n",
       "    </tr>\n",
       "    <tr>\n",
       "      <th>18</th>\n",
       "      <td>17</td>\n",
       "      <td>39</td>\n",
       "      <td>17_synthesis_the_of_to</td>\n",
       "      <td>[synthesis, the, of, to, reactions, molecules,...</td>\n",
       "      <td>[synthetic chemistry, catalysis, catalysts, en...</td>\n",
       "      <td>[synthesis, reactions, molecules, chemistry, c...</td>\n",
       "      <td>[synthesis, reactions, molecules, chemistry, c...</td>\n",
       "      <td>[New late-stage functionalization reagents for...</td>\n",
       "    </tr>\n",
       "    <tr>\n",
       "      <th>19</th>\n",
       "      <td>18</td>\n",
       "      <td>38</td>\n",
       "      <td>18_and_to_the_of</td>\n",
       "      <td>[and, to, the, of, preparedness, health, pande...</td>\n",
       "      <td>[pandemic preparedness, emerging infectious, p...</td>\n",
       "      <td>[pandemic, preparedness, epidemic, covid, zoon...</td>\n",
       "      <td>[pandemic, preparedness, biodiversity, disease...</td>\n",
       "      <td>[Pandemic literacy and viral zoonotic spillove...</td>\n",
       "    </tr>\n",
       "    <tr>\n",
       "      <th>20</th>\n",
       "      <td>19</td>\n",
       "      <td>45</td>\n",
       "      <td>19_cancer_care_and_of</td>\n",
       "      <td>[cancer, care, and, of, patients, the, to, hea...</td>\n",
       "      <td>[european cancer, cancer mission, cancer care,...</td>\n",
       "      <td>[cancer, prevention, palliative, cancer patien...</td>\n",
       "      <td>[cancer, care, prevention, patients, implement...</td>\n",
       "      <td>[A European-wide foundation to accelerate Data...</td>\n",
       "    </tr>\n",
       "    <tr>\n",
       "      <th>21</th>\n",
       "      <td>20</td>\n",
       "      <td>32</td>\n",
       "      <td>20_retinal_eye_the_retina</td>\n",
       "      <td>[retinal, eye, the, retina, of, and, ocular, i...</td>\n",
       "      <td>[retinal diseases, macular degeneration, retin...</td>\n",
       "      <td>[eye, retinal, ocular, retina, blindness, macu...</td>\n",
       "      <td>[eye, retinal, ocular, retina, vision, blindne...</td>\n",
       "      <td>[I(eye)-SCREEN: A real-world AI-based infrastr...</td>\n",
       "    </tr>\n",
       "    <tr>\n",
       "      <th>22</th>\n",
       "      <td>21</td>\n",
       "      <td>26</td>\n",
       "      <td>21_kidney_ckd_renal_of</td>\n",
       "      <td>[kidney, ckd, renal, of, and, the, in, disease...</td>\n",
       "      <td>[kidney organoids, disease ckd, chronic kidney...</td>\n",
       "      <td>[kidney, ckd, renal, kidney disease, chronic k...</td>\n",
       "      <td>[kidney, renal, disease, chronic kidney, chron...</td>\n",
       "      <td>[Dissecting renal metabolic reprogramming hete...</td>\n",
       "    </tr>\n",
       "    <tr>\n",
       "      <th>23</th>\n",
       "      <td>22</td>\n",
       "      <td>25</td>\n",
       "      <td>22_the_and_pharmaceutical_of</td>\n",
       "      <td>[the, and, pharmaceutical, of, to, sustainable...</td>\n",
       "      <td>[pharma, pharmaceutical industry, pharmaceutic...</td>\n",
       "      <td>[pharmaceutical, sustainable, pharmaceuticals,...</td>\n",
       "      <td>[pharmaceutical, sustainable, pharmaceuticals,...</td>\n",
       "      <td>[Innovative Mechanochemical Processes to synth...</td>\n",
       "    </tr>\n",
       "  </tbody>\n",
       "</table>\n",
       "</div>"
      ],
      "text/plain": [
       "    Topic  Count                               Name  \\\n",
       "0      -1    812                   -1_the_and_of_to   \n",
       "1       0    704                    0_the_of_to_and   \n",
       "2       1    263                    1_the_and_of_to   \n",
       "3       2    200                2_and_the_of_health   \n",
       "4       3    177                3_the_and_of_cancer   \n",
       "5       4    153                     4_ad_the_of_in   \n",
       "6       5    112                  5_food_and_the_of   \n",
       "7       6     96                  6_bone_the_and_of   \n",
       "8       7     99    7_the_of_antibiotics_resistance   \n",
       "9       8    100           8_gut_the_and_microbiome   \n",
       "10      9     90                 9_plant_the_of_and   \n",
       "11     10     95  10_brain_the_stimulation_epilepsy   \n",
       "12     11     91                   11_the_and_of_to   \n",
       "13     12     69                 12_data_and_the_to   \n",
       "14     13     51            13_cardiac_heart_of_the   \n",
       "15     14     51                14_liver_in_the_and   \n",
       "16     15     53                 15_the_of_brain_in   \n",
       "17     16     44    16_diabetes_insulin_glucose_t2d   \n",
       "18     17     39             17_synthesis_the_of_to   \n",
       "19     18     38                   18_and_to_the_of   \n",
       "20     19     45              19_cancer_care_and_of   \n",
       "21     20     32          20_retinal_eye_the_retina   \n",
       "22     21     26             21_kidney_ckd_renal_of   \n",
       "23     22     25       22_the_and_pharmaceutical_of   \n",
       "\n",
       "                                       Representation  \\\n",
       "0   [the, and, of, to, in, for, will, is, with, that]   \n",
       "1   [the, of, to, and, cancer, in, cell, cells, wi...   \n",
       "2   [the, and, of, to, in, will, for, viral, virus...   \n",
       "3   [and, the, of, health, to, in, social, on, wil...   \n",
       "4   [the, and, of, cancer, for, to, in, imaging, i...   \n",
       "5   [ad, the, of, in, and, disease, to, brain, is,...   \n",
       "6   [food, and, the, of, to, sustainable, will, in...   \n",
       "7   [bone, the, and, of, for, to, tissue, in, pain...   \n",
       "8   [the, of, antibiotics, resistance, antibiotic,...   \n",
       "9   [gut, the, and, microbiome, of, in, to, microb...   \n",
       "10  [plant, the, of, and, to, in, plants, will, cr...   \n",
       "11  [brain, the, stimulation, epilepsy, and, of, t...   \n",
       "12  [the, and, of, to, heart, patients, in, for, s...   \n",
       "13  [data, and, the, to, of, health, ai, for, will...   \n",
       "14  [cardiac, heart, of, the, and, to, in, will, h...   \n",
       "15  [liver, in, the, and, of, to, nafld, metabolic...   \n",
       "16  [the, of, brain, in, neural, to, visual, and, ...   \n",
       "17  [diabetes, insulin, glucose, t2d, the, of, to,...   \n",
       "18  [synthesis, the, of, to, reactions, molecules,...   \n",
       "19  [and, to, the, of, preparedness, health, pande...   \n",
       "20  [cancer, care, and, of, patients, the, to, hea...   \n",
       "21  [retinal, eye, the, retina, of, and, ocular, i...   \n",
       "22  [kidney, ckd, renal, of, and, the, in, disease...   \n",
       "23  [the, and, pharmaceutical, of, to, sustainable...   \n",
       "\n",
       "                                              KeyBERT  \\\n",
       "0   [ai, brain, approaches, clinical, patients, ai...   \n",
       "1   [cancer cells, immunotherapy, tumours, tumors,...   \n",
       "2   [sars cov, antiviral, sars, vaccines, vaccine,...   \n",
       "3   [19 pandemic, covid 19, covid, eu, pandemic, i...   \n",
       "4   [breast cancer, biopsy, diagnostics, imaging, ...   \n",
       "5   [microglia, neuroinflammation, neurodegenerati...   \n",
       "6   [food systems, food system, sustainable food, ...   \n",
       "7   [bone regeneration, 3d bioprinting, bioprintin...   \n",
       "8   [antimicrobial resistance, antibiotic resistan...   \n",
       "9   [gut microbiome, gut microbiota, microbiome, g...   \n",
       "10  [arabidopsis, plant, plants, crop, crops, seed...   \n",
       "11  [brain stimulation, neuromodulation, eeg, elec...   \n",
       "12  [heart failure, atrial fibrillation, cardiovas...   \n",
       "13  [ai, healthcare, eu, data, federated, framewor...   \n",
       "14  [cardiac regeneration, cardiomyocytes, cardiac...   \n",
       "15  [nafld, disease nafld, liver fibrosis, fatty l...   \n",
       "16  [neural circuits, neural activity, cortex, cor...   \n",
       "17  [insulin, t1d, insulin resistance, glucagon, i...   \n",
       "18  [synthetic chemistry, catalysis, catalysts, en...   \n",
       "19  [pandemic preparedness, emerging infectious, p...   \n",
       "20  [european cancer, cancer mission, cancer care,...   \n",
       "21  [retinal diseases, macular degeneration, retin...   \n",
       "22  [kidney organoids, disease ckd, chronic kidney...   \n",
       "23  [pharma, pharmaceutical industry, pharmaceutic...   \n",
       "\n",
       "                                                  MMR  \\\n",
       "0   [new, data, brain, disease, develop, clinical,...   \n",
       "1   [cancer, cell, cells, tumor, tumour, therapies...   \n",
       "2   [virus, malaria, vaccine, viruses, antiviral, ...   \n",
       "3   [social, policy, pandemic, eu, public, covid, ...   \n",
       "4   [cancer, imaging, ai, breast, detection, bioma...   \n",
       "5   [alzheimer, microglia, neurodegenerative, alzh...   \n",
       "6   [food, sustainable, aquaculture, food systems,...   \n",
       "7   [bone, bioprinting, oa, implants, cartilage, r...   \n",
       "8   [bacteria, antibiotics, bacterial, antibiotic,...   \n",
       "9   [gut, ibd, microbiome, microbiota, intestinal,...   \n",
       "10  [plant, plants, crop, drought, species, climat...   \n",
       "11  [epilepsy, stimulation, neural, neurological, ...   \n",
       "12  [heart, patients, stroke, cardiac, cardiovascu...   \n",
       "13  [data, privacy, ai, healthcare, digital, eu, c...   \n",
       "14  [cardiac, heart, cardiomyocytes, heart failure...   \n",
       "15  [liver, nafld, metabolic, liver disease, hepat...   \n",
       "16  [neural, brain, sensory, perception, stimuli, ...   \n",
       "17  [diabetes, insulin, glucose, t2d, type diabete...   \n",
       "18  [synthesis, reactions, molecules, chemistry, c...   \n",
       "19  [pandemic, preparedness, epidemic, covid, zoon...   \n",
       "20  [cancer, prevention, palliative, cancer patien...   \n",
       "21  [eye, retinal, ocular, retina, blindness, macu...   \n",
       "22  [kidney, ckd, renal, kidney disease, chronic k...   \n",
       "23  [pharmaceutical, sustainable, pharmaceuticals,...   \n",
       "\n",
       "                                                  POS  \\\n",
       "0   [new, data, brain, development, human, high, d...   \n",
       "1   [cancer, cell, cells, tumor, therapy, immune, ...   \n",
       "2   [viral, virus, malaria, vaccine, viruses, infe...   \n",
       "3   [social, policy, pandemic, political, mental, ...   \n",
       "4   [cancer, imaging, breast, detection, time, dia...   \n",
       "5   [disease, brain, protein, microglia, neurodege...   \n",
       "6   [food, sustainable, production, aquaculture, c...   \n",
       "7   [bone, tissue, pain, bioprinting, implants, re...   \n",
       "8   [bacteria, antibiotics, bacterial, resistance,...   \n",
       "9   [gut, microbiome, microbiota, intestinal, host...   \n",
       "10  [plant, plants, crop, climate, drought, specie...   \n",
       "11  [brain, epilepsy, stimulation, neural, invasiv...   \n",
       "12  [heart, patients, stroke, clinical, treatment,...   \n",
       "13  [data, privacy, healthcare, digital, use, inno...   \n",
       "14  [cardiac, heart, human, cardiomyocytes, tissue...   \n",
       "15  [liver, metabolic, disease, fatty, hepatic, fa...   \n",
       "16  [neural, visual, brain, sensory, circuits, dec...   \n",
       "17  [diabetes, insulin, glucose, cell, type, cells...   \n",
       "18  [synthesis, reactions, molecules, chemistry, c...   \n",
       "19  [pandemic, preparedness, biodiversity, disease...   \n",
       "20  [cancer, care, prevention, patients, implement...   \n",
       "21  [eye, retinal, ocular, retina, vision, blindne...   \n",
       "22  [kidney, renal, disease, chronic kidney, chron...   \n",
       "23  [pharmaceutical, sustainable, pharmaceuticals,...   \n",
       "\n",
       "                                  Representative_Docs  \n",
       "0   [Virtual Brain Twin for personalised treatment...  \n",
       "1   [Cancer cell plasticity on targeted therapy\\nN...  \n",
       "2   [Respiratory Host-Pathogen Interaction\\nLower ...  \n",
       "3   [VET PARTICIPATION, RETENTION, AND EDUCATIONAL...  \n",
       "4   [Surface-enhanced Raman spectroscopy in liquid...  \n",
       "5   [Deciphering the microglia-neuron interactions...  \n",
       "6   [On a Quest for Data-Driven Innovations to fue...  \n",
       "7   [Drug solution for bone fracture nonunions\\nBo...  \n",
       "8   [Advanced Multidisciplinary Research for Antim...  \n",
       "9   [Mechanistic study of gut microbial biotransfo...  \n",
       "10  [From wild to crop: unravelling the impact of ...  \n",
       "11  [AEGEUS - A Novel EEG Ultrasound Device for Fu...  \n",
       "12  [Health virtual twins for the personalised man...  \n",
       "13  [Federate Learning and mUlti-party computation...  \n",
       "14  [Surgical optogenetic bioprinting of engineere...  \n",
       "15  [Understanding Metabolic Activation of Dendrit...  \n",
       "16  [Correcting for self: The impact of head motio...  \n",
       "17  [Unobtrusive Continuous Multi-Metabolite Monit...  \n",
       "18  [New late-stage functionalization reagents for...  \n",
       "19  [Pandemic literacy and viral zoonotic spillove...  \n",
       "20  [A European-wide foundation to accelerate Data...  \n",
       "21  [I(eye)-SCREEN: A real-world AI-based infrastr...  \n",
       "22  [Dissecting renal metabolic reprogramming hete...  \n",
       "23  [Innovative Mechanochemical Processes to synth...  "
      ]
     },
     "execution_count": 16,
     "metadata": {},
     "output_type": "execute_result"
    }
   ],
   "source": [
    "topic_model.get_topic_info()\n"
   ]
  },
  {
   "cell_type": "code",
   "execution_count": 17,
   "id": "5c7dfc6b",
   "metadata": {},
   "outputs": [
    {
     "data": {
      "application/vnd.plotly.v1+json": {
       "config": {
        "plotlyServerURL": "https://plot.ly"
       },
       "data": [
        {
         "hoverinfo": "text",
         "marker": {
          "color": "#CFD8DC",
          "opacity": 0.5,
          "size": 5
         },
         "mode": "markers+text",
         "name": "other",
         "showlegend": false,
         "type": "scattergl",
         "x": {
          "bdata": "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",
          "dtype": "f4"
         },
         "y": {
          "bdata": "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",
          "dtype": "f4"
         }
        },
        {
         "hoverinfo": "text",
         "marker": {
          "opacity": 0.5,
          "size": 5
         },
         "mode": "markers+text",
         "name": "0_the_of_to",
         "text": [
          "",
          "",
          "",
          "",
          "",
          "",
          "",
          "",
          "",
          "",
          "",
          "",
          "",
          "",
          "",
          "",
          "",
          "",
          "",
          "",
          "",
          "",
          "",
          "",
          "",
          "",
          "",
          "",
          "",
          "",
          "",
          "",
          "",
          "",
          "",
          "",
          "",
          "",
          "",
          "",
          "",
          "",
          "",
          "",
          "",
          "",
          "",
          "",
          "",
          "",
          "",
          "",
          "",
          "",
          "",
          "",
          "",
          "",
          "",
          "",
          "",
          "",
          "",
          "",
          "",
          "",
          "",
          "",
          "",
          "",
          "",
          "",
          "",
          "",
          "",
          "",
          "",
          "",
          "",
          "",
          "",
          "",
          "",
          "",
          "",
          "",
          "",
          "",
          "",
          "",
          "",
          "",
          "",
          "",
          "",
          "",
          "",
          "",
          "",
          "",
          "",
          "",
          "",
          "",
          "",
          "",
          "",
          "",
          "",
          "",
          "",
          "",
          "",
          "",
          "",
          "",
          "",
          "",
          "",
          "",
          "",
          "",
          "",
          "",
          "",
          "",
          "",
          "",
          "",
          "",
          "",
          "",
          "",
          "",
          "",
          "",
          "",
          "",
          "",
          "",
          "",
          "",
          "",
          "",
          "",
          "",
          "",
          "",
          "",
          "",
          "",
          "",
          "",
          "",
          "",
          "",
          "",
          "",
          "",
          "",
          "",
          "",
          "",
          "",
          "",
          "",
          "",
          "",
          "",
          "",
          "",
          "",
          "",
          "",
          "",
          "",
          "",
          "",
          "",
          "",
          "",
          "",
          "",
          "",
          "",
          "",
          "",
          "",
          "",
          "",
          "",
          "",
          "",
          "",
          "",
          "",
          "",
          "",
          "",
          "",
          "",
          "",
          "",
          "",
          "",
          "",
          "",
          "",
          "",
          "",
          "",
          "",
          "",
          "",
          "",
          "",
          "",
          "",
          "",
          "",
          "",
          "",
          "",
          "",
          "",
          "",
          "",
          "",
          "",
          "",
          "",
          "",
          "",
          "",
          "",
          "",
          "",
          "",
          "",
          "",
          "",
          "",
          "",
          "",
          "",
          "",
          "",
          "",
          "",
          "",
          "",
          "",
          "",
          "",
          "",
          "",
          "",
          "",
          "",
          "",
          "",
          "",
          "",
          "",
          "",
          "",
          "",
          "",
          "",
          "",
          "",
          "",
          "",
          "",
          "",
          "",
          "",
          "",
          "",
          "",
          "",
          "",
          "",
          "",
          "",
          "",
          "",
          "",
          "",
          "",
          "",
          "",
          "",
          "",
          "",
          "",
          "",
          "",
          "",
          "",
          "",
          "",
          "",
          "",
          "",
          "",
          "",
          "",
          "",
          "",
          "",
          "",
          "",
          "",
          "",
          "",
          "",
          "",
          "",
          "",
          "",
          "",
          "",
          "",
          "",
          "",
          "",
          "",
          "",
          "",
          "",
          "",
          "",
          "",
          "",
          "",
          "",
          "",
          "",
          "",
          "",
          "",
          "",
          "",
          "",
          "",
          "",
          "",
          "",
          "",
          "",
          "",
          "",
          "",
          "",
          "",
          "",
          "",
          "",
          "",
          "",
          "",
          "",
          "",
          "",
          "",
          "",
          "",
          "",
          "",
          "",
          "",
          "",
          "",
          "",
          "",
          "",
          "",
          "",
          "",
          "",
          "",
          "",
          "",
          "",
          "",
          "",
          "",
          "",
          "",
          "",
          "",
          "",
          "",
          "",
          "",
          "",
          "",
          "",
          "",
          "",
          "",
          "",
          "",
          "",
          "",
          "",
          "",
          "",
          "",
          "",
          "",
          "",
          "",
          "",
          "",
          "",
          "",
          "",
          "",
          "",
          "",
          "",
          "",
          "",
          "",
          "",
          "",
          "",
          "",
          "",
          "",
          "",
          "",
          "",
          "",
          "",
          "",
          "",
          "",
          "",
          "",
          "",
          "",
          "",
          "",
          "",
          "",
          "",
          "",
          "",
          "",
          "",
          "",
          "",
          "",
          "",
          "",
          "",
          "",
          "",
          "",
          "",
          "",
          "",
          "",
          "",
          "",
          "",
          "",
          "",
          "",
          "",
          "",
          "",
          "",
          "",
          "",
          "",
          "",
          "",
          "",
          "",
          "",
          "",
          "",
          "",
          "",
          "",
          "",
          "",
          "",
          "",
          "",
          "",
          "",
          "",
          "",
          "",
          "",
          "",
          "",
          "",
          "",
          "",
          "",
          "",
          "",
          "",
          "",
          "",
          "",
          "",
          "",
          "",
          "",
          "",
          "",
          "",
          "",
          "",
          "",
          "",
          "",
          "",
          "",
          "",
          "",
          "",
          "",
          "",
          "",
          "",
          "",
          "",
          "",
          "",
          "",
          "",
          "",
          "",
          "",
          "",
          "",
          "",
          "",
          "",
          "",
          "",
          "",
          "",
          "",
          "",
          "",
          "",
          "",
          "",
          "",
          "",
          "",
          "",
          "",
          "",
          "",
          "",
          "",
          "",
          "",
          "",
          "",
          "",
          "",
          "",
          "",
          "",
          "",
          "",
          "",
          "",
          "",
          "",
          "",
          "",
          "",
          "",
          "",
          "",
          "",
          "",
          "",
          "",
          "",
          "",
          "",
          "",
          "",
          "",
          "",
          "",
          "",
          "",
          "",
          "",
          "",
          "",
          "",
          "",
          "",
          "",
          "",
          "",
          "",
          "",
          "",
          "",
          "",
          "",
          "",
          "",
          "",
          "",
          "",
          "",
          "",
          "",
          "",
          "",
          "",
          "",
          "",
          "",
          "",
          "",
          "",
          "",
          "",
          "",
          "",
          "",
          "",
          "",
          "",
          "",
          "",
          "",
          "",
          "",
          "",
          "",
          "",
          "",
          "",
          "",
          "",
          "",
          "",
          "",
          "",
          "",
          "",
          "",
          "",
          "",
          "",
          "",
          "",
          "",
          "",
          "",
          "",
          "",
          "",
          "",
          "",
          "",
          "",
          "",
          "",
          "",
          "",
          "",
          "",
          "",
          "",
          "",
          "",
          "",
          "",
          "",
          "",
          "",
          "",
          "",
          "",
          "",
          "",
          "",
          "",
          "",
          "",
          "",
          "",
          "",
          ""
         ],
         "textfont": {
          "size": 12
         },
         "type": "scattergl",
         "x": {
          "bdata": "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",
          "dtype": "f4"
         },
         "y": {
          "bdata": "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",
          "dtype": "f4"
         }
        },
        {
         "hoverinfo": "text",
         "marker": {
          "opacity": 0.5,
          "size": 5
         },
         "mode": "markers+text",
         "name": "1_the_and_of",
         "text": [
          "",
          "",
          "",
          "",
          "",
          "",
          "",
          "",
          "",
          "",
          "",
          "",
          "",
          "",
          "",
          "",
          "",
          "",
          "",
          "",
          "",
          "",
          "",
          "",
          "",
          "",
          "",
          "",
          "",
          "",
          "",
          "",
          "",
          "",
          "",
          "",
          "",
          "",
          "",
          "",
          "",
          "",
          "",
          "",
          "",
          "",
          "",
          "",
          "",
          "",
          "",
          "",
          "",
          "",
          "",
          "",
          "",
          "",
          "",
          "",
          "",
          "",
          "",
          "",
          "",
          "",
          "",
          "",
          "",
          "",
          "",
          "",
          "",
          "",
          "",
          "",
          "",
          "",
          "",
          "",
          "",
          "",
          "",
          "",
          "",
          "",
          "",
          "",
          "",
          "",
          "",
          "",
          "",
          "",
          "",
          "",
          "",
          "",
          "",
          "",
          "",
          "",
          "",
          "",
          "",
          "",
          "",
          "",
          "",
          "",
          "",
          "",
          "",
          "",
          "",
          "",
          "",
          "",
          "",
          "",
          "",
          "",
          "",
          "",
          "",
          "",
          "",
          "",
          "",
          "",
          "",
          "",
          "",
          "",
          "",
          "",
          "",
          "",
          "",
          "",
          "",
          "",
          "",
          "",
          "",
          "",
          "",
          "",
          "",
          "",
          "",
          "",
          "",
          "",
          "",
          "",
          "",
          "",
          "",
          "",
          "",
          "",
          "",
          "",
          "",
          "",
          "",
          "",
          "",
          "",
          "",
          "",
          "",
          "",
          "",
          "",
          "",
          "",
          "",
          "",
          "",
          "",
          "",
          "",
          "",
          "",
          "",
          "",
          "",
          "",
          "",
          "",
          "",
          "",
          "",
          "",
          "",
          "",
          "",
          "",
          "",
          "",
          "",
          "",
          "",
          "",
          "",
          "",
          "",
          "",
          "",
          "",
          "",
          "",
          "",
          "",
          "",
          "",
          "",
          "",
          "",
          "",
          "",
          "",
          "",
          "",
          "",
          "",
          "",
          "",
          "",
          "",
          "",
          "",
          "",
          "",
          "",
          "",
          "",
          "",
          "",
          "",
          "",
          "",
          "",
          "",
          "",
          "",
          "",
          "",
          "",
          "",
          "",
          "",
          "",
          "",
          "",
          "",
          "",
          "",
          "",
          "",
          ""
         ],
         "textfont": {
          "size": 12
         },
         "type": "scattergl",
         "x": {
          "bdata": "06qsQHiwrECGpb5AxUO5QFg34EBI9cpAysKnQOSQrUAcgqxALgvfQBdaxEAh/95ANS/oQI50sEABp+ZAZ8zsQNAG5kB/VbxAbKPDQHokv0AbmMVAMvu1QIbfw0A8rflAbTPDQDfPx0Dqvt5Aa+DfQDqK+EDS5PlARHm8QD6y2UB5k6dAM8jHQGnNxEASWcdAVPLHQL5i6UAy49RA8PnKQEiD2ECHXOFADyrtQCrDt0DzW7RALxnoQPbw+UCA4NtAVEKzQM/3/0B16upAdhy5QBXr5kApJPZAr6zZQOnAx0Cd0tNAHqvYQPyK5EAXdsdAZaLCQAZKqkBZVt5AHvyzQIVdAEHTO99ApjjXQJyTsUCAX8NAXpLTQArC2EBMKrJAE4j4QKQpukCFgetARa28QC3n6ECFl8RA1yfsQAm9y0DXm7lAymveQFcgu0CmDdlAdhq6QNrWtUAuAfZABvjoQIpH6UBG3rhAHU/UQLngtEBv+9xAtHyzQF5tuUAYwcdAlW+sQORzs0D7G9VAQo21QBMQ6EDrFrRAYTW4QCsY3kAzk/FAr5nZQPIt5EDYXfZA7Z6nQPPg3kAnu+RAS58AQVrr3kAWCchAGXDoQDWesEAOr6dAdNnFQLopw0Bjgt5AXwOoQIbv10AjK9pA/m/EQFak50Ar1rRAB9TtQK0YvUDxNrRAxAjrQEkM8UC1zOFAnG/oQDKpy0Cm8uhAT628QC9GtEAKet5Ad1UAQS0pxEA8pdtAKoDnQD3vyEARxbNATtrEQIgSskBCs95AyC3WQFDlsUCfC7FAPXC5QB0H1UDoVstArhv3QJ3u2UDoLPpAPXa9QAmL6kC7brNAA4mzQGmKy0DEBt5AcrzeQDEg+kDa3ulAwyDpQI0ov0DwqLNAfsbDQHaJvUCIVcRAG+/rQFc41kCL0sBADbLaQK/iy0Au9LBADpbnQN6pxEAsd/RAserCQOgR6kDVO+FAHWjdQEqbtEDcCsxA8nbuQHkMyEAXd7ZA89XGQAQTsUAgsLlAhKi0QJ+350DCb8FAV325QCf97kDgsNdARl7pQOQQx0AGG9lApAPAQJne2ECaSOdAbVvoQBYk60C5detA2+T7QKFptUCliuhA0fzXQMn/sUBCOrRAQrWyQISns0DKZ8tAGHPjQLE17UAE495Am3+5QOvY00CdYvpAbH6zQDRmuEDWWdxAbiWsQEVNxkDvjqdAq+m0QFQFsUCPXshA4+S0QNLhyEC+vLlAEpq/QASR+kB5BN1AzcuvQBastECX8+dAbuDZQD3750DZzMVA6f/XQNXBu0B/S+1AHgHqQE2EvEAeTuhAkRbpQH+bvUBGfuFA/86zQDKes0BRra1AgietQH3fvEB0FMdA7U/nQGMk6kBtVrNAaVrGQE9+uUA=",
          "dtype": "f4"
         },
         "y": {
          "bdata": "UCMAQfwqAEHamghBYC0LQR/WC0EloQdBZigAQbU8AEHkyf9AhQoMQZY9+kBTJQ1BhE8NQYepAkG0if5ACdEBQVyMBkEGvgdBbqz6QGNs/0BxpgRBnA8CQRql+kANxwBB4k79QPBI+UDBUA1BcyMJQQE4AUGCMQBBxVkAQbjWC0HlxP9AvrwIQQIm+kACE/pAcicEQedr/kD5oQZBNTr7QLmWCkHY1AtBVDwAQZTxAUG0AANBzFAFQUyUBEFSFwZBLHAEQfzJA0Gj2wdBZiILQXvBB0E5+gRBd1YMQQA++kAmKAhBbOELQQ2DDUEw+AhBjGX5QMB7AEFlZAxBaU4EQakVA0GHAw1Bn/AIQensAkHOi/pASv8HQW0UC0H1wwNBTNwAQR1vCkHPfQNBfjsJQc5tA0HhV/xA0fQJQan3B0Hq6ApBbp8LQQjG/0Cz/wtBYR8HQe/xAUFEMQVBk/UHQbmgBEHm5QpBOtEKQRXnAkH8pAxBZ+kDQXTwCkGZ7whBWrH/QNlNB0G1QQhBJy4CQeekBEHx8AVBARUIQYGhC0F2uARBIKMMQZ3wAkH0JgVBXhEAQTJJDUHpCgRBN4oDQZRqDUFOK/lAvkMBQfd8AkFa4/9AvuYIQbCT+0AzuQ1BiwcAQQi8C0F8PwxB8Gr6QHhbDUFnxwJBRwMKQU2rCEHJmAZBbTMIQfgABUH/bANB25kNQRRhCEGs8gZBeeECQe5RA0FALAxBQ4UEQcYc+kASgwpBD3ENQXw6BEFaGwRBXPQEQaOGA0F/Cw1BnoEKQY2IAUH4dQJBeicIQc+0CEE2H/hAIx0FQeaHDEHGAAFBXGkIQeGIAkHYsAZBpaYFQUgg/EDQRA1BJbQDQd6OAEGh/gJBC+ABQWWgCEEcUAdB1H0BQeqtCEGue/pAE/AAQU6nCEH1JQlB9nALQT3zB0Fv7wJBre0DQfjjBEHu3QRB77j7QHKNBEFSFg1BBdAMQb+0BkHGJwVBW7cGQaTZA0GlAwdBg1AFQZYSA0EoqwpBouUEQYAKDUGUTAJBzdsKQYb4A0Ha8AlBulAFQdWCCEG2CAxBccYIQaP4C0GTPw1BjTwHQWqAAkGTNAhB7q8AQaShAkFbiv5AfoEMQTDiA0GSxgZBUlYEQVJ/B0HoIQlBiFMKQTNkBEE6OA1BONYKQZBcCkGPhwJB938HQecHCUFDQQpB9+T/QCrL+EApAABBpikHQcHJAkGnFwNBkOMCQa+D+kCeEAFBlOn8QFHkAEF2xApBCkYCQSSyAkHV7QtBe5ELQRYHDUG41QVBQVcJQYkhCEFxOghBUU8IQf/hB0HjIg1Bl/YAQcClCEHt5gtBcsQDQehdB0EePAFBcbsBQb0HCkGTGAVBJKoGQQZKA0H1EwNBjq75QOsDC0E=",
          "dtype": "f4"
         }
        },
        {
         "hoverinfo": "text",
         "marker": {
          "opacity": 0.5,
          "size": 5
         },
         "mode": "markers+text",
         "name": "2_and_the_of",
         "text": [
          "",
          "",
          "",
          "",
          "",
          "",
          "",
          "",
          "",
          "",
          "",
          "",
          "",
          "",
          "",
          "",
          "",
          "",
          "",
          "",
          "",
          "",
          "",
          "",
          "",
          "",
          "",
          "",
          "",
          "",
          "",
          "",
          "",
          "",
          "",
          "",
          "",
          "",
          "",
          "",
          "",
          "",
          "",
          "",
          "",
          "",
          "",
          "",
          "",
          "",
          "",
          "",
          "",
          "",
          "",
          "",
          "",
          "",
          "",
          "",
          "",
          "",
          "",
          "",
          "",
          "",
          "",
          "",
          "",
          "",
          "",
          "",
          "",
          "",
          "",
          "",
          "",
          "",
          "",
          "",
          "",
          "",
          "",
          "",
          "",
          "",
          "",
          "",
          "",
          "",
          "",
          "",
          "",
          "",
          "",
          "",
          "",
          "",
          "",
          "",
          "",
          "",
          "",
          "",
          "",
          "",
          "",
          "",
          "",
          "",
          "",
          "",
          "",
          "",
          "",
          "",
          "",
          "",
          "",
          "",
          "",
          "",
          "",
          "",
          "",
          "",
          "",
          "",
          "",
          "",
          "",
          "",
          "",
          "",
          "",
          "",
          "",
          "",
          "",
          "",
          "",
          "",
          "",
          "",
          "",
          "",
          "",
          "",
          "",
          "",
          "",
          "",
          "",
          "",
          "",
          "",
          "",
          "",
          "",
          "",
          "",
          "",
          "",
          "",
          "",
          "",
          "",
          "",
          "",
          "",
          "",
          "",
          "",
          "",
          "",
          "",
          "",
          "",
          "",
          "",
          "",
          "",
          "",
          "",
          "",
          "",
          "",
          "",
          "",
          "",
          "",
          "",
          "",
          "",
          "",
          "",
          "",
          "",
          "",
          ""
         ],
         "textfont": {
          "size": 12
         },
         "type": "scattergl",
         "x": {
          "bdata": "sUnPQJ4d20C4x7xALZ26QDvLx0Bt9bNASGrIQHZQ2EBahtVAfW7FQGdQy0BUb9lAvmu+QKv6ukBQHdxA9YnFQAPN10CBcd9A0JS2QO+FykBZVsRArhbNQFhfyUCMWdZAGju4QOGry0Bo/ddATVq6QD5SykBa7cFAMzbHQPDCuEBdLL1AeqzKQCuI2ECGFb9AiKa7QBRh0EA6zddAmVS9QNXHuEDh1LZA/B63QDKlyED/l7VAwj/SQCUpx0CGcr9A8JvGQKxEu0C739hAZcy4QO9Q40C3KrxAWlfIQJcRvkDShv9Avui7QP3zxkD4NLhAMlnbQL+3t0BpXbtA5R/VQCnN3kBSILpArBO8QG7q1EBucrlAWzjHQCkXuEBUqbhA8Z7FQOvwxECCkMZAD9vUQAmstUA0s8RAiBq7QEviuEB7V7ZAvpe5QPXguUANpdVAPZfKQPiHxECGL89AbNu7QHpq2ECJy7lANErJQLoB10DjD9tAk4u4QKbvu0DCHLxAYsLTQEWiuEDCicJAcWy/QMdvvUCNg9hATyrLQB1YvEAXJsVAYITHQBGnyECdSbdAIz64QC+uxkBAlrxA/RXYQOcvyEDlRtdA67S4QJTR3EBa5bhA7fLaQJ7ixEDVXtBAIZnKQBaVykCfucVArNnWQLU4wECg87hAzELKQFnj0UAP9clAvWC8QLGpyEAkAbxAzDHHQDa11UA5lb9ANYHFQNGP3UDAEcVAA6PYQFmGx0BFSMZAWL22QMiwxUBSkNRAGcPXQNyhvUCsv99A8YTNQCSZyEAgvtpAcZDIQOSXwUB8+b9AK07JQFGbuEAgdblA+we6QNuzvED9CcdAICvIQOzgukDrwr1AFve6QIh/xkAY9bpAXzG3QJPGy0CBisJAAfzIQC5Ly0DlzMdAiCK4QO+p2ECdh8ZA4SXkQPRL3UBy8btA0HHHQOLrvUBhfrVAU5fFQCCL2EAUg8dA5hO2QOgWuUCtqNZAYYTEQAif2kAoG8tAFHu7QD7vukBtp8VAxnq4QPLKwkBOdspAupK3QAliyUDjg7ZAOAa2QKmut0A=",
          "dtype": "f4"
         },
         "y": {
          "bdata": "iYSeQIzqn0Bgk5xAvfGeQCttnEAoBrRA1zTEQPUbtkCsYrZABLaoQLsBmUCc859AH/GdQB13nECKLJ9AuL3BQDv4tUAWgZtA4CihQPYrt0BEr55AHeKcQJrMwEBwe69AjmObQI2Lm0ARJ7VAQLGcQNDfpEDxaaZAdRanQKuomECs/ahAWN6iQMP8nkDt76hAJUKcQEzYnUDNXqFAkMmcQDDRmkC1V6BAuNOgQHPToEDi0KBAt5idQAomnkCAEp1AKLKdQL1JnkDkNbZA48SZQIfjmUAF/pxAmEeeQBaRm0AZRoNAf0adQAannkArM55ABoCcQORYmUDiaZxAcbKpQASWnUDr6p5A6PnfQA1Dp0BSGplATjykQPKrnkDX85lAz3bCQNPTwkAejsJAzASeQB0GoUBTpZZAHiimQJuP5UBko6BA8P2qQMOxo0D1np1ARqXAQKYhnkDEKLZAdc6ZQIWDoUANOptA+/eeQBnltUCoT59AvIeYQO3CmEAbYZ1Aosa4QArnmUBCAZlACkCYQIqNmkAlALZAK2ehQC6UmEBS0sJAQki/QFhpwUBIu6BARfuaQHKTl0BLQZxAMxO2QBq2pEAkA7RA/BOYQFZBnUD/lJpATlagQGFqn0Db4bpABtWeQB7Kn0BPnpZA/QCjQGJAoUBKZ6NAXUG3QN0jnkCZ3bpA08WcQHuMnECbr59AUJucQBjjnUCqNZ1AOxLBQE9rnEC9GalAF722QLlBnUDu2ZdAuI6fQNA3wkAtRqNATf60QGLjnEDXOJxAOmO2QO3Qv0Bls59APMalQCXHmEDQ95xAJye+QH7ImkCvAZtA/z+fQIkQnEAswZ5ApkWeQH9SnED0arZAAGOeQKdUv0AxyJpALqufQHAmvkCN6Z5A+1yfQLdFuUAVGp5A062ZQBFOtkB+yZ1AtB6aQCpMnUDD+ZtAQMegQKuSoUAfcaFAzhupQHhpoUAo+55ATzqhQPaFmkAb/rFA2u+pQGpNnkDkV7dAhcibQE73m0App6hAnmCcQHvwmkBNJbdATa2ZQNWpmECVnqBA0M+gQOBwmUA=",
          "dtype": "f4"
         }
        },
        {
         "hoverinfo": "text",
         "marker": {
          "opacity": 0.5,
          "size": 5
         },
         "mode": "markers+text",
         "name": "3_the_and_of",
         "text": [
          "",
          "",
          "",
          "",
          "",
          "",
          "",
          "",
          "",
          "",
          "",
          "",
          "",
          "",
          "",
          "",
          "",
          "",
          "",
          "",
          "",
          "",
          "",
          "",
          "",
          "",
          "",
          "",
          "",
          "",
          "",
          "",
          "",
          "",
          "",
          "",
          "",
          "",
          "",
          "",
          "",
          "",
          "",
          "",
          "",
          "",
          "",
          "",
          "",
          "",
          "",
          "",
          "",
          "",
          "",
          "",
          "",
          "",
          "",
          "",
          "",
          "",
          "",
          "",
          "",
          "",
          "",
          "",
          "",
          "",
          "",
          "",
          "",
          "",
          "",
          "",
          "",
          "",
          "",
          "",
          "",
          "",
          "",
          "",
          "",
          "",
          "",
          "",
          "",
          "",
          "",
          "",
          "",
          "",
          "",
          "",
          "",
          "",
          "",
          "",
          "",
          "",
          "",
          "",
          "",
          "",
          "",
          "",
          "",
          "",
          "",
          "",
          "",
          "",
          "",
          "",
          "",
          "",
          "",
          "",
          "",
          "",
          "",
          "",
          "",
          "",
          "",
          "",
          "",
          "",
          "",
          "",
          "",
          "",
          "",
          "",
          "",
          "",
          "",
          "",
          "",
          "",
          "",
          "",
          "",
          "",
          "",
          "",
          "",
          "",
          "",
          "",
          "",
          "",
          "",
          "",
          "",
          "",
          "",
          "",
          "",
          "",
          "",
          "",
          "",
          "",
          "",
          "",
          "",
          "",
          "",
          "",
          "",
          "",
          "",
          "",
          ""
         ],
         "textfont": {
          "size": 12
         },
         "type": "scattergl",
         "x": {
          "bdata": "5C8LQd8KCkEhkAtBbTAMQdraDUHZRghB0hoGQUJ7CUHc8AhBqzMKQYocCkHg6QpB9a4LQXU6CUGyhA5BuckLQRBmD0GITwtB2jYOQYttDkHEggtBTtIMQelPDEGm/wlBIQsKQS5HCUFMGQxB6BEQQTSo/UBFYw5B3i8JQdd2CkE36QxBrGgOQdMvCUFMwQlB800LQTpJCkHTXglBHUAMQVapC0GmiQZBGTQJQVzPC0GvKA5BjHkLQRxIBUHwIgxB97sMQaIjBkETyw5BNtMJQYxCEkGnZgdBDz4OQQyIDEGdlAhBDNgKQSFDD0E1fQ1BLNYMQZ9ZCEGT4wxB2CwJQWwQD0HS3AxB+3gLQaBpDkFPBQtBn6QHQXxUC0G+qwhBxo8IQU38DEG5ZQxBGSYMQSj3C0HvVg1BYrIJQaJUDkG0qQhB2dMNQSW0DEF34wtBtzQPQcvfCkEXhw5BObYMQX7lC0EIfQxBxV4IQYMkCEG9xQxB2CgKQZj6C0FVDQ1B4mkKQeHJCUFMIwpBFlgMQZ8VD0GD0Q1BRfELQWKCB0H6mg1BPAYNQVLvCUHcXgxB3BwPQceUDEEHFAtBquAKQWcLBkGuYwhBr2oKQe0BDkEpPg5BHOsIQSsJCEE/9wtBph4LQWTXDkGgcAxBH9cLQYh1DUGcrwpBlzgJQdqHB0FOMQ1B2TkNQatqCkFUDQhBwgMPQYUPDUHR4wlBwDMMQZ1ZD0Hg3QtBjz8NQVO8DUF4ggpBb4ILQZr5DUGe6wxBm9UKQVecC0FbmwlBiyYOQUDSC0E7XgtBhiIIQY03DUE2EQ9BNTsLQe5GCUEJWQtBZ5sMQaI6DUEg/AhBtxEOQX1JCkFLNQtB7yoMQTBSD0G7XgtBxyAIQb9JCEFFYQlB4GQMQd9XD0E4iglB8tkJQYUVDkEhvQ9B8wMJQahiCUEdYw9B",
          "dtype": "f4"
         },
         "y": {
          "bdata": "C9jcQP8e0UByW+ZAHNjNQEgjxkDAQuZAikwOQSyH5UCjZ+VALKfoQHxcvUDCZ71A/ffKQOnl5ECqLcRAGP3NQFQ2wUA8bMlAaHrBQD+ryEAT8NlAdMHOQKNnzkCStb1AOczfQAc830BEib5AljvoQMYYlkB6ledAsFvmQD4Dv0A0o8RAaR2+QD7f5kAX8LlAxwLAQDP/vEAoA+ZABYzRQLrsvkB/S+5A4eTCQEL2zUAl8cJAZX/cQHMF70BArslArBnOQKNIwUAVKcRAkKvsQPwm7EDqk+dAH3m/QC6dzkBDHeRAnIzOQCSvvkCc/L1AsfbxQCe65ECjEM9AKMXiQNvhv0BCHMtA4r+9QGP+u0BVy7tArsfoQKc/10AehO9A5iC7QFVZz0CMH8xAT0fIQAqTzUD6wcRAImbeQBLJwUD6/ehAxkC+QMqUzEBC38BAJEW9QLYWvkD7WcRAB5DPQCTSvUDo389AQbHmQDZK5kC788xAHPu9QEtZzECerM9AMkS/QO185UC277xA8e3NQA0AwUDNm8tAc2PLQGnbkkCszcFAg6a5QK2SwUC88spAWkPAQNsxw0At8NFAS+zfQEgj7EC9M+5AsXbnQPCLx0BRZclASUTDQFUR6UDSEuVAj57pQBUsxkArT85ApZ7NQH6nuUAhmeRAeqDeQCV840D1Us9AlM7NQM3B7UBU/uRAXTO8QDdv0ECALL1AcK7MQDFNvUCPqcxALVjPQA5Rw0B8ds5AZp/BQD+RyUAYd8VAZTzQQIxG0UB42OtA2CbAQNk6zkB6gM5A0zXuQANrw0A5jsBAsI3BQEBm30DCAshAg7PLQN+dzkA7AuRAncHBQPzzzUB5PsBAkxHMQJaAwEBgUcFAlj/vQFEo5kD3kOZA2Q7MQEx74kDhVuZA53a+QGM7vkAV7rpAnTLnQPjB4UBkKb9A",
          "dtype": "f4"
         }
        },
        {
         "hoverinfo": "text",
         "marker": {
          "opacity": 0.5,
          "size": 5
         },
         "mode": "markers+text",
         "name": "4_ad_the_of",
         "text": [
          "",
          "",
          "",
          "",
          "",
          "",
          "",
          "",
          "",
          "",
          "",
          "",
          "",
          "",
          "",
          "",
          "",
          "",
          "",
          "",
          "",
          "",
          "",
          "",
          "",
          "",
          "",
          "",
          "",
          "",
          "",
          "",
          "",
          "",
          "",
          "",
          "",
          "",
          "",
          "",
          "",
          "",
          "",
          "",
          "",
          "",
          "",
          "",
          "",
          "",
          "",
          "",
          "",
          "",
          "",
          "",
          "",
          "",
          "",
          "",
          "",
          "",
          "",
          "",
          "",
          "",
          "",
          "",
          "",
          "",
          "",
          "",
          "",
          "",
          "",
          "",
          "",
          "",
          "",
          "",
          "",
          "",
          "",
          "",
          "",
          "",
          "",
          "",
          "",
          "",
          "",
          "",
          "",
          "",
          "",
          "",
          "",
          "",
          "",
          "",
          "",
          "",
          "",
          "",
          "",
          "",
          "",
          "",
          "",
          "",
          "",
          "",
          "",
          "",
          "",
          "",
          "",
          "",
          "",
          "",
          "",
          "",
          "",
          "",
          "",
          "",
          "",
          "",
          "",
          "",
          "",
          "",
          "",
          "",
          "",
          "",
          "",
          "",
          "",
          "",
          "",
          "",
          "",
          "",
          "",
          "",
          "",
          "",
          "",
          "",
          "",
          "",
          ""
         ],
         "textfont": {
          "size": 12
         },
         "type": "scattergl",
         "x": {
          "bdata": "/iIXQRaHFUEZthZBEvsYQeFlFkE3ihlBgnQZQbIzGkGVlxpB4qoZQe52F0E0ihpBPXwTQfTWG0GNyBJBnesRQcwbE0HIEhBB058WQc3DGkHpkxpBgMcVQbiFFUH7fhtBOqsXQbebEkFpKxdBIHQaQRh9EkHEmRxBZJccQa4hGUHrWBpB67sXQQE1D0FEnhFBbpMaQUySEUGOnxZBgmQRQfEPEEG33BhBMVUaQTxKGEHlnRpBxiESQRyrHEH8ShpBEq8VQRfLGUGFdRdBYKUVQQSeFUGqiRBBP3APQbZqG0G9eBlBRYMcQYDCFkFYBxpBeQoRQUBoGkGwORdBFeYXQcgaEUGAOxZBAdQbQWzyG0Ga8xdBMpIWQXLtGUGO6hlBlx4SQSf+F0GqkRtBsSAWQSXRFUHR9xNBYRQdQVrLF0FsCRxBaDITQWjcGkH90BhBEkwUQdKcG0HhQxVBaIQWQW3PFEFYlBpBSngRQSp5F0E0MhhBvi0YQdB3E0Hp3RBBDPsaQWipGEGrJRdBdQ8SQQ0VEkGg0BdBz60XQYOSHEGhZRFBFuIYQTcAGkGxsRZBeqwaQZnQD0FNdhVBjVgYQR2qEEEawBdBVZsaQfrCGkFTVxdBE6UZQUhVGEHpbhdBODYUQXi6FkHwAhtB0CUYQULoG0GzCBxBrwoYQcm0G0H1BBpBFfcWQd0pF0EwkxhB9Q4UQfPIGUHQexNBfTISQUGiGEFkLhlBNgocQSSjGkHOyxdBLfYUQS85GkFqvRBB5/0VQQujD0GcpRdBMa0cQUeyFUElwBVBBe8WQaLNGUHX4BdB",
          "dtype": "f4"
         },
         "y": {
          "bdata": "mX+mQFElsEA4rqVAhaa2QH8QqUC4E7lA6wnMQIAUwUCauLxAIIfNQFUErUCuDbpAVpamQMoux0BhUadAj5ecQPplpUCd7KJA9DerQKl8vEBMccdAh4KmQKwosEAp4L9AnY+tQLE9pUDV1qZAYXW5QLZPmkDX1cpAQy3EQPKStUAEBsNArKStQP6plUBGXKBA2J64QHLxpEBiR69AzWGlQO1lpkA2E7NAsTbIQLTAxUCy6bxAyAOlQCjxy0C03bhAANOwQLxZt0A4ZKxAnfmvQD5FqEBHXaNAO8KXQKwew0C5lLhAzX3JQKIMrkD+5MFAeSakQOHmwkD5la1APF+vQMQupEB93q1AdmLLQJY+y0A/ea1A+AuvQNN9tkCworhAI3mgQEUWr0CEGL5AJq6pQGIWr0BgLapAZLLFQAZIrkCygMtACVqdQL33zEB5EbNAwaiiQBT9y0ByLK1Af76vQI3vrUA4JLxAb++fQH8pr0CgcLFADqOvQJKSnkDW9aNAAybMQPCqsUDZQaxAc8ihQB7zpUAvvK1AAWetQKCvyUASZqRA1i+wQMzoy0BLEa1AYgLFQAHRokAwH6pA6WCvQOmjo0C3Tq1Ag57JQF4ry0BLUqdAlgi2QGL3q0Ah/6xAgD+lQHoHpkA707tA+baxQCubx0CJ9cVAYdGvQIPMykDhHL5Ap8SuQKnRpkD+nK9AyTWqQFlOt0D6YKhASZylQGEtsECDI7hA70HHQGFcyEA12a5A5a6xQHgLwEALcqNAMaKoQI1FokBeBq1AOlPJQLV+rUDQvq1A53SsQHX+ukAZ1q1A",
          "dtype": "f4"
         }
        },
        {
         "hoverinfo": "text",
         "marker": {
          "opacity": 0.5,
          "size": 5
         },
         "mode": "markers+text",
         "name": "5_food_and_the",
         "text": [
          "",
          "",
          "",
          "",
          "",
          "",
          "",
          "",
          "",
          "",
          "",
          "",
          "",
          "",
          "",
          "",
          "",
          "",
          "",
          "",
          "",
          "",
          "",
          "",
          "",
          "",
          "",
          "",
          "",
          "",
          "",
          "",
          "",
          "",
          "",
          "",
          "",
          "",
          "",
          "",
          "",
          "",
          "",
          "",
          "",
          "",
          "",
          "",
          "",
          "",
          "",
          "",
          "",
          "",
          "",
          "",
          "",
          "",
          "",
          "",
          "",
          "",
          "",
          "",
          "",
          "",
          "",
          "",
          "",
          "",
          "",
          "",
          "",
          "",
          "",
          "",
          "",
          "",
          "",
          "",
          "",
          "",
          "",
          "",
          "",
          "",
          "",
          "",
          "",
          "",
          "",
          "",
          "",
          "",
          "",
          "",
          "",
          "",
          "",
          "",
          "",
          "",
          "",
          "",
          "",
          "",
          "",
          "",
          "",
          "",
          "",
          ""
         ],
         "textfont": {
          "size": 12
         },
         "type": "scattergl",
         "x": {
          "bdata": "7MOrQJ/nsEAUULBARNWrQLMOsECX8rVAJvCzQAS5sUBbuq5AJ1+0QEc3r0Bb97RAg1mwQEGEr0CQba9AwOexQO5Cr0BnK69AkdewQE6oskCdJLJAeg20QPqzsUAm06tAOPuzQJbTrkBeDLJAc8mvQARIt0DQ97BAtMiuQHkesUD5p7BA51q2QBG3s0DWO65AHG61QB3xrUCAYKxABV6vQI3zrUAY+LlA8rivQPYWqECzja9AkDOvQIVGuEALZK1A4QOtQNHHsUDO6bBAa/GsQE7JukDYSLFAQ2TYQOeZrkCijrFAUQG6QKQDuEAWj6xALXW1QLwRsUDbOK5A6byrQJzMsEBzQq1ATKawQJyNrUDXx69AWTyuQEIgtED8hLNAdsLUQCz2s0AHWLBABRS2QE3Pq0Br87FAveSvQLV69EBsBrJAwri3QFZBr0BJ3q1A02L9QDfjs0CXT7RA5fKzQH6FsECKIa1Ao4+xQOglqkCMd7NAdU6vQMpUr0AE3rZABSewQM3hrkAoBbRA5SyvQCKPrUCO06xAhqyyQKp+r0D6XK9AVM6tQGC8r0D8TLFA1VSzQIqAskD3Zq9Ayj2sQA==",
          "dtype": "f4"
         },
         "y": {
          "bdata": "hXi9QP8IyED45s5AR6+9QDkj0EDWE9VA7l3JQFed0UB+edBADX7FQGwL0ECaN9hArca+QB9Kx0DBGcdAmOPIQJ5bzEDY/s1AEtS9QCwv0UA/UMFA7H68QCFUukCmyrxAJYq/QBkqwUC4lMlAppDRQHBKy0C41shAAM3MQDPnz0DPKL5AW9TXQIH/y0Ay5r9AGbnFQAklx0BDD8RA1fnNQPbjwECH1slAlqzHQB4R1EAvOdNAB4DLQNp0zkB/K8xAatu9QPwSyUCDb8hAR+e+QHxEx0DKYsdAolX0QN1sykCJa8lA0o7JQCii4kBJUb1Ap/LSQDtbvUBT2sNANA29QFNlzEDyQ8dA6gm9QPPDv0CAIL9AmgPAQIO7xEDm/NdAll72QDz+uUAQ/clAlQK/QN9QvkDUSslAM2fTQOmIyECDdc9AqdLIQG+V0UBRD79Asn3ZQIJ+1EDcFMdA4bbGQPK3yECr6L5AqHrIQKIR1UDPQcZAS4rKQJ6QvkAidsxAITq/QFzUuUD8JtRABhTRQFbYwkDzqL5AWuPTQAX9v0ACP8pAfpHAQG2+00AQFslAjUG/QI6uyUBtrr9AwWS9QA==",
          "dtype": "f4"
         }
        },
        {
         "hoverinfo": "text",
         "marker": {
          "opacity": 0.5,
          "size": 5
         },
         "mode": "markers+text",
         "name": "6_bone_the_and",
         "text": [
          "",
          "",
          "",
          "",
          "",
          "",
          "",
          "",
          "",
          "",
          "",
          "",
          "",
          "",
          "",
          "",
          "",
          "",
          "",
          "",
          "",
          "",
          "",
          "",
          "",
          "",
          "",
          "",
          "",
          "",
          "",
          "",
          "",
          "",
          "",
          "",
          "",
          "",
          "",
          "",
          "",
          "",
          "",
          "",
          "",
          "",
          "",
          "",
          "",
          "",
          "",
          "",
          "",
          "",
          "",
          "",
          "",
          "",
          "",
          "",
          "",
          "",
          "",
          "",
          "",
          "",
          "",
          "",
          "",
          "",
          "",
          "",
          "",
          "",
          "",
          "",
          "",
          "",
          "",
          "",
          "",
          "",
          "",
          "",
          "",
          "",
          "",
          "",
          "",
          "",
          "",
          "",
          "",
          "",
          "",
          ""
         ],
         "textfont": {
          "size": 12
         },
         "type": "scattergl",
         "x": {
          "bdata": "NdMUQZ0QEEGjxBNBIK8UQWMdFEErnRRBirsUQeFQE0EAaBBBnxwUQZlYFEHWzBRB0fcTQX1HFUHCyBRB1QEUQWV3FEFLUxRBMAcVQSc5FEHvRhRB14YUQT2CFEEm3xRBfcIQQWtOFEH2xBJB/lsUQUcwFUH82RVBaS8SQd5uE0HQGRRB9V8UQS5cFEHkxAlBcfIPQbITFEEWqhRBjEMWQeUYE0EJYRVBKR4VQVRWFUHaLBRBz5QTQXYGFEFXmBFBYjwUQXRUFEEdCxRBI3USQSTiFEEZexRBpNcUQbl8FEHicRRBjeUUQURyFEG8ZRRBxYAPQVZuFUFURRVBb9ITQSo+E0FDSRRBO8sUQUf0EkG1mxRBgQkRQUhhFEGlvBRBZbUUQUnAEkFJqxBBnsUUQUEdFEFX9BZBGi4UQZTMCUFJnA9Br6ITQTlnEUEgMBRBKugVQQe6FEGplxVBflMUQWbtE0EQJBRBuToUQbT5E0G6AxVB2b4UQb+3FEFTZhVB",
          "dtype": "f4"
         },
         "y": {
          "bdata": "2huwQPJCuUDEKrFA3D+yQKoNtEAPka1AgbiwQLU1tkCZi7hAvwauQLj3t0CiCrBA0YO1QElwwUB7cbdAJM65QNC1rUD1aLVAfzW3QHI9skAEXrlA8aqxQGEws0CqvLlA0li5QB2MrkBfZ7RAUzq7QLlRukAwjLtA5v+3QA+CtUA+y7JAYIC3QBykuEDQjLpAuzq5QBhxt0DbAq5A6Um+QNYPuEBTgcJAfXKzQCzTtEBql7VAOoq2QA8etUBSnbhAtue3QKkhsUD0QLRAZM22QLtPsECDAK5ADaa3QN2os0D2C7hAHn+xQLw3tEDy7K1A61e5QElowkCsIrZA/Ua4QNCbtUA4xrRAy4iwQEv/t0CcArVAOTO4QK8ktEC8d7ZAS8qxQJZZuUB3abZA1GiwQDXFs0Bu6L1AbKO4QL0TukCInLpA1hGzQCAkuUC+4bdAjmm6QFSDsEDq1LVA10OyQLVeu0CO7LdAD1muQFBLtEB4Ob5AFj2vQDnTsEBZqsJA",
          "dtype": "f4"
         }
        },
        {
         "hoverinfo": "text",
         "marker": {
          "opacity": 0.5,
          "size": 5
         },
         "mode": "markers+text",
         "name": "7_the_of_antibiotics",
         "text": [
          "",
          "",
          "",
          "",
          "",
          "",
          "",
          "",
          "",
          "",
          "",
          "",
          "",
          "",
          "",
          "",
          "",
          "",
          "",
          "",
          "",
          "",
          "",
          "",
          "",
          "",
          "",
          "",
          "",
          "",
          "",
          "",
          "",
          "",
          "",
          "",
          "",
          "",
          "",
          "",
          "",
          "",
          "",
          "",
          "",
          "",
          "",
          "",
          "",
          "",
          "",
          "",
          "",
          "",
          "",
          "",
          "",
          "",
          "",
          "",
          "",
          "",
          "",
          "",
          "",
          "",
          "",
          "",
          "",
          "",
          "",
          "",
          "",
          "",
          "",
          "",
          "",
          "",
          "",
          "",
          "",
          "",
          "",
          "",
          "",
          "",
          "",
          "",
          "",
          "",
          "",
          "",
          "",
          "",
          "",
          "",
          "",
          "",
          ""
         ],
         "textfont": {
          "size": 12
         },
         "type": "scattergl",
         "x": {
          "bdata": "bDfGQNvpxUAI4cRAg1bCQIKCw0DI/cVAQ0bFQFK8zEDFksNAJrvLQL6CxUA4EMZA6jLGQLYLyED+pclA6I3EQLj6wEDmgMZAh1fNQC9HCkG4b8NAn1bGQKzvxUAftcZAKb7GQEXaxkD70sJABKfIQJ8AzECKFsVAgTnMQOeqyEAUoMVAROPEQMvBxUAGtcVAFhDHQCW7w0ATqMlAggrEQAY7xUDTKc5AWhXFQEpfy0CFMcVAT/m8QCG0x0DqjMRAEAHHQEc6zUAfWsRAkXLFQC5pxEBO48VAsk7CQHjdxUBmtsdA3/nFQPKHx0BZQ9JATBzNQLn/xEDY6MRAI9TFQKQMyEAtB8VABNq5QD7sxUBaH8hAN27GQL5cx0AaO8JAIvLCQHhhx0BQd8pAzBDHQGEMyEDmDMZAsrIIQah6yUBKNcpA/jTDQOC5xUDEtMRADzsPQQTxx0BwEtBAFE/KQLb1zkBQhsVAMKbJQFhGx0Byu9JAX6zDQD86xECvacdAsNnGQI2avUBy+sJA",
          "dtype": "f4"
         },
         "y": {
          "bdata": "O/ACQZWnBEFN4v1A4xj7QOmF/0CNUgVB/h0BQWg4+ECLP/1A0+v2QOLxAEESLwFBEu8BQZvGAEHZlgBBqAsBQS8790CAxANB+1cAQbOiukCPD/1Atkf6QJ/gBEHl6QRBMpD4QJSK+UC0NvxANXj5QGXvAEFdK/xAZSMCQeTo/0A8tQFBhSYBQdEkAEGrjPtAprL+QPZJAUEwtAFBzEkAQS0+AEFWUwBBMvkAQYYvAUE58QBBtfLtQAEq/0BEk/xACpoAQYZ8A0FaJ/tAriUFQdeTAEFdpwJBpeX6QLzCBEFgmgFB1HIBQbXA90BIUP5AxLQBQXZx/ED3wQFBjscBQUU+AUHzXABBu4DnQI+sAEEW3wJBfQ0AQcgcBEEw0vlAzvj7QOMLAkGLJgNBD6kEQSAoAEHUAvxA7X2wQGnxAEFqSvpA6sH/QCJo/UCaWgBBa027QCGFAEHljQNB4DgBQYfmAEHFgwFBkfcEQbly+0D7r/1Ax5D6QCJB/kAja/tAAA4EQTMo70DqhPtA",
          "dtype": "f4"
         }
        },
        {
         "hoverinfo": "text",
         "marker": {
          "opacity": 0.5,
          "size": 5
         },
         "mode": "markers+text",
         "name": "8_gut_the_and",
         "text": [
          "",
          "",
          "",
          "",
          "",
          "",
          "",
          "",
          "",
          "",
          "",
          "",
          "",
          "",
          "",
          "",
          "",
          "",
          "",
          "",
          "",
          "",
          "",
          "",
          "",
          "",
          "",
          "",
          "",
          "",
          "",
          "",
          "",
          "",
          "",
          "",
          "",
          "",
          "",
          "",
          "",
          "",
          "",
          "",
          "",
          "",
          "",
          "",
          "",
          "",
          "",
          "",
          "",
          "",
          "",
          "",
          "",
          "",
          "",
          "",
          "",
          "",
          "",
          "",
          "",
          "",
          "",
          "",
          "",
          "",
          "",
          "",
          "",
          "",
          "",
          "",
          "",
          "",
          "",
          "",
          "",
          "",
          "",
          "",
          "",
          "",
          "",
          "",
          "",
          "",
          "",
          "",
          "",
          "",
          "",
          "",
          "",
          "",
          "",
          ""
         ],
         "textfont": {
          "size": 12
         },
         "type": "scattergl",
         "x": {
          "bdata": "BKjuQMYm7kDkL91Aq1zqQM2A7kBPv+xAiJfwQFTFvkACte1A4uDoQPdd4kBde+lAKRHiQEcj6ECXzutA9r7pQHmj20Dg1OBA39PwQJ0g4EBobd1AmB/gQAIB30DukN1A/UXeQJan20BFGtxAjDPiQFTF7EAUWd1A2SDmQCSE5kD+QNVADVcRQU3L3UBu7OxAnpjsQF0q4EABsexAQMbsQLnj7EBRm+RADdPnQJFv6UAvYdxAVaftQHYe5EAHY91AMOjsQKOS8EDZYRFBcGzNQIQO7UD0Bd5AiKDdQHzO3kD5duBAK5nnQBo64kBp0eRAzX7xQDxs7EC/k+hAuQfdQBpJEkF9Y+1AoJLnQAJJ7kDqyOFAnQjtQPep8EDDC79AohHrQFlR20D0Gu9AjsvuQN/s60BisRFBl17rQG1v4kB6nt1AB/XdQO2Z3kCHc+ZAjtfqQJfg4kAHcuJAjfnqQPzo60BKHvBAktvsQM+F70CKCO1Ac4TpQIkD7kA5HNxAid/kQEjX8ECzb/BAM0TrQA==",
          "dtype": "f4"
         },
         "y": {
          "bdata": "/Rv5QLAR7UBuCuxA5rv2QCZw8UCq4O5Al8nkQMol60Avb/BAkprwQDza4UCijfBAHCzxQOm29kAnRPZAQofyQLA88UCTtM9AtA3oQOEv30DtHONAlrzxQHUC8kDAR+ZATwjnQKry7UCEn+tAvfHpQEMH8kDpfexAHePnQLQE70AXNe5AaGicQJo170CKJ+9AbTr4QOPU5UBeWulAAVPuQIiX7kBj5dRABzz1QPCZ8UBEIe1AWKLsQFdN9ECSr+BAEs3uQAbH5ECT5qpAcKz2QNyv90B6OOlAkhjtQJJh4UBkifRAzij2QBhC8EAqsvJA7xjjQMcD7EDPQOpAyJLvQCcYq0DHSe9Aa6z2QOIm60BgsO9AlaHvQOUq5EAhrOpAX3XxQNnR70Biq+9AB4vmQGQf8ECi2qlAL+r4QLnh80A10+xACEXqQKnz6EDn9/1AZxLvQGLS8UBxn+NAFK7rQGe08ECm6OlALvzqQMU/5UAfWPxAvxn4QC1A+kBN4+tAsWHkQCmX40BeleVA5wDyQA==",
          "dtype": "f4"
         }
        },
        {
         "hoverinfo": "text",
         "marker": {
          "opacity": 0.5,
          "size": 5
         },
         "mode": "markers+text",
         "name": "9_plant_the_of",
         "text": [
          "",
          "",
          "",
          "",
          "",
          "",
          "",
          "",
          "",
          "",
          "",
          "",
          "",
          "",
          "",
          "",
          "",
          "",
          "",
          "",
          "",
          "",
          "",
          "",
          "",
          "",
          "",
          "",
          "",
          "",
          "",
          "",
          "",
          "",
          "",
          "",
          "",
          "",
          "",
          "",
          "",
          "",
          "",
          "",
          "",
          "",
          "",
          "",
          "",
          "",
          "",
          "",
          "",
          "",
          "",
          "",
          "",
          "",
          "",
          "",
          "",
          "",
          "",
          "",
          "",
          "",
          "",
          "",
          "",
          "",
          "",
          "",
          "",
          "",
          "",
          "",
          "",
          "",
          "",
          "",
          "",
          "",
          "",
          "",
          "",
          "",
          "",
          "",
          "",
          ""
         ],
         "textfont": {
          "size": 12
         },
         "type": "scattergl",
         "x": {
          "bdata": "8i+1QKEPrUBWVr1AzVq7QPZ/tUA5ralAtHWvQG5fvEAuD75AVZ6sQGC9tECu2bRA4C+tQA67qEC62KpAoNiqQB5urEDgSqxA08utQJG2ukCVubNAVA+rQNLxtUB0e7JAq2OrQJWqvUDAHK1AmIysQNPLrECqEsRAYlCvQO/xt0D8pKhALnSoQBSDtUAk3axAdhKoQB9Vq0DMg7JAnRS1QMfgqkDO7rxA7MyoQI03s0DSYbFAdlepQMzNr0BSkqhAbFewQOWDs0D2frNAzzmpQO4DrEC46K9AvZGqQPUCtUBG8a5AGDauQLN5qkDqlqxAdjm3QJWIrUCDwKpAp5GoQENtu0BVarBAfl21QFHeqkDsaK1AG5qoQOCnu0CDu6xALyO3QN0TqUBbWLJAy2evQJ+GrEBuyrRAPKq1QJXyr0B+365A3d+sQF14r0Ay0qtAhR+rQJZ7qUC4LaZAMyOpQG/UrEAw4bdA",
          "dtype": "f4"
         },
         "y": {
          "bdata": "ZG3oQKyM7kBmdudAcx3pQCye6EAl6+JAenTqQBHa6UBATu9AFOTuQKGu50D3/edAeX3lQFeW4EAO1OVAdz7kQC//7UBw9+JA5FvuQF//6kBP0ulAqObjQIYN6UD8YutAH6TtQEDF6UAPl+5A9fLnQLHt4UBZs+hASerqQKKK6UAyiuBArVTiQDYq6UA50+FAyYbjQHpU5ECaR+xAP8TmQM4H6ECZw+lA9OXlQDE46UCyV+pAbuHkQCJ950CZcuNAWz3rQLsf6kA7DOhAXcbfQNaY5kDnI+1AcYDmQHk910DDlelAdMXtQDjA5EDlLu5APX7uQByV60AG3uhAANnjQNVN5kAoTulAYvPnQMcg50BuBe9AGrrjQIvE6EDN++tAOJXsQMZD5kDzJOVAtwbsQC/07UBGjuhA6KHrQGm87EC+1OpAoJfuQB7160DujOdAsCLgQBUC5kBg2tVAqcDkQFa960CY/udA",
          "dtype": "f4"
         }
        },
        {
         "hoverinfo": "text",
         "marker": {
          "opacity": 0.5,
          "size": 5
         },
         "mode": "markers+text",
         "name": "10_brain_the_stimulation",
         "text": [
          "",
          "",
          "",
          "",
          "",
          "",
          "",
          "",
          "",
          "",
          "",
          "",
          "",
          "",
          "",
          "",
          "",
          "",
          "",
          "",
          "",
          "",
          "",
          "",
          "",
          "",
          "",
          "",
          "",
          "",
          "",
          "",
          "",
          "",
          "",
          "",
          "",
          "",
          "",
          "",
          "",
          "",
          "",
          "",
          "",
          "",
          "",
          "",
          "",
          "",
          "",
          "",
          "",
          "",
          "",
          "",
          "",
          "",
          "",
          "",
          "",
          "",
          "",
          "",
          "",
          "",
          "",
          "",
          "",
          "",
          "",
          "",
          "",
          "",
          "",
          "",
          "",
          "",
          "",
          "",
          "",
          "",
          "",
          "",
          "",
          "",
          "",
          "",
          "",
          "",
          "",
          "",
          "",
          "",
          ""
         ],
         "textfont": {
          "size": 12
         },
         "type": "scattergl",
         "x": {
          "bdata": "eLoPQX5KEkFjwxBBeewWQTApEUFWCA1BexURQR3VEEHTIQ5BCwYPQbNy/UBhNhdBp/EUQRk9E0H2bxFBzCERQfdFEEFFsBZBAYgWQThyEEEYOxdBzVgPQQQwEEHRkhFBE7oMQWJ5EUHhzQ9BaJYTQYrMDEG87Q9BV4YRQSPcDEHeCRBB4CIOQT4IEUGW0RNBA7EQQcHLFUF3NhdBMzYSQb0JFkGAihNBDaMSQa4wEEHYbxZBN9UPQdENEEGz/RRBx6sTQX9mE0FGTRdBUFkSQRWbD0HRKQ9BOFgPQc/QD0Em8g9BCzwSQe3YFEEg1xFBGZINQW9FEUETqRBBZnYMQaTkE0FGeBBBqYUTQR4cF0Hv8w9BDe0OQbDGEkH7yQxBbjkUQUwBEUGjnBRBSQoXQZciEEET1BBBNDsXQXM1EUG2mgxBzhsQQc+yDkEEqQxB8PMQQUkCDUEwfQ5B1p8QQc5qEkF07BNBYn8QQZCXEUHFtxNBikgRQSJlD0E=",
          "dtype": "f4"
         },
         "y": {
          "bdata": "hjiOQLmvjED13I5AeL6JQNN+ikBZ5olAO0GSQMb4jkAPaopAo02MQE2plUAPI4tApNKMQAS2i0CHi5FAcFKOQEnij0A1NopAGj2KQLI+rkBYu4pAhGKLQCOmkEASh4tAc+CIQLKHkUA70JFA3wqJQKJsiEAudoxACV6PQCgki0DlHpFAPyyMQFwQjUDXXYhAxyaSQDkoBEFhKIxAX2SZQJs/ikC8e4hA0y2KQCsGj0DHQ4tANg+RQA3LjUArsYpAEu+IQEuWiUBYf4xAn7WJQGaIjkBipoxArumPQFwbkEChb5FAMpmIQBWdiEAEgJhALBOPQC8ljkA5iI1AjkKJQEb2iUDEcI9AmleIQPEHi0BTtotAY4SNQHqbiEBsvolAFKGLQMeDiUCsQolA9xuLQOX3jEBHfpFAGd2KQKTXkkAldYlAwQCMQM6Ei0D2KIpAkt2RQNfcikA3g4tAy8STQMVwk0DUmYdA4Z6OQLFMikDC/IhANMSNQAdxkkA=",
          "dtype": "f4"
         }
        },
        {
         "hoverinfo": "text",
         "marker": {
          "opacity": 0.5,
          "size": 5
         },
         "mode": "markers+text",
         "name": "11_the_and_of",
         "text": [
          "",
          "",
          "",
          "",
          "",
          "",
          "",
          "",
          "",
          "",
          "",
          "",
          "",
          "",
          "",
          "",
          "",
          "",
          "",
          "",
          "",
          "",
          "",
          "",
          "",
          "",
          "",
          "",
          "",
          "",
          "",
          "",
          "",
          "",
          "",
          "",
          "",
          "",
          "",
          "",
          "",
          "",
          "",
          "",
          "",
          "",
          "",
          "",
          "",
          "",
          "",
          "",
          "",
          "",
          "",
          "",
          "",
          "",
          "",
          "",
          "",
          "",
          "",
          "",
          "",
          "",
          "",
          "",
          "",
          "",
          "",
          "",
          "",
          "",
          "",
          "",
          "",
          "",
          "",
          "",
          "",
          "",
          "",
          "",
          "",
          "",
          "",
          "",
          "",
          "",
          ""
         ],
         "textfont": {
          "size": 12
         },
         "type": "scattergl",
         "x": {
          "bdata": "dVYQQbYREEGWsQ9BH10HQfv5EEEQDgVBNfEHQfggE0E8QBFBSrwPQZiWDEE/LxBBnPMSQXCkC0ESZw9ByVsHQUmAEEHaIRFBYHYJQXeeDEEI9A5B6zETQbwwEEGCEBJBbDQRQR8PE0Eb9w9BTt4QQX/5EUGpzg9BWgUSQZJ5C0EltBFBY6MPQT6KEkGcVw9BfTYMQeiUDEF+pRJBX5EMQbU+EkEyTw5BeP4NQS7IDkE1cRBBc00NQR3ZD0GkFQlB9WAOQfQ8EEH+ORJB6rgQQZGND0GKhQxB33UQQearDEHnAw1BIXYPQcFhDkGhSRBBn8gSQZpSEUHZ+g9BAzIPQYfIDkFfSQpB17sIQXEaEkEvZBFBilUPQRMhCEHoUQ9B7mANQZw0EEFvtA9BB0UKQVyDDUEwWRNBR2oPQVhRC0HSGhFB1m4TQdhACEHeuQxBzcsMQSqYE0FG1BJB2HQQQZW0CUGoRRBBqMMEQQ==",
          "dtype": "f4"
         },
         "y": {
          "bdata": "9RmjQJbroEC336RAO3SeQJt5o0DalqFASAiWQDylokAtqZ9Aaz6gQKq/oUAlhqJAQsqiQO68nEDbpJ1AoyeWQF38k0C8QJ9AOyyhQAsknkDWmKRAJ9iiQGhwlUBcu6JArceZQG+uokD85Z9Alw2iQAfoqEAc455AcpuhQIk0nkDCtaVARfqgQKWYokBDyqBAy1miQHGXn0CH5KFAJhGXQNltpkA+uKFAYEahQK9XnUAa/ZNAnVKiQKtPnkCgWKNAmOipQOxdn0CYnaNAOYygQAA1kkBCLZ5AeyCgQB6MmUDYRJdA2EagQJjfn0AjKKRAciaiQOVzoECsZKNAWrWfQK4tl0BsSp9AkmCjQMhroUBXH51A5UyTQGiQnkCpK5JAaI2pQBVEpECfWKFAiS2hQE/GoUA7FqNAj2ygQJCCskADXZhAAvK1QNVBoUAxKZxAYrmkQHNEpEC1AqJAq8qfQNd6n0AsapNA5XKiQA==",
          "dtype": "f4"
         }
        },
        {
         "hoverinfo": "text",
         "marker": {
          "opacity": 0.5,
          "size": 5
         },
         "mode": "markers+text",
         "name": "12_data_and_the",
         "text": [
          "",
          "",
          "",
          "",
          "",
          "",
          "",
          "",
          "",
          "",
          "",
          "",
          "",
          "",
          "",
          "",
          "",
          "",
          "",
          "",
          "",
          "",
          "",
          "",
          "",
          "",
          "",
          "",
          "",
          "",
          "",
          "",
          "",
          "",
          "",
          "",
          "",
          "",
          "",
          "",
          "",
          "",
          "",
          "",
          "",
          "",
          "",
          "",
          "",
          "",
          "",
          "",
          "",
          "",
          "",
          "",
          "",
          "",
          "",
          "",
          "",
          "",
          "",
          "",
          "",
          "",
          "",
          "",
          ""
         ],
         "textfont": {
          "size": 12
         },
         "type": "scattergl",
         "x": {
          "bdata": "eOLyQAbB9ECD1wZBUqDtQHtj2kB1TPpAf87sQFe88kCqv+5A+Ev1QO/B/EBR2QdBHRfwQO0X5kAtuu9AGO0GQc466kBnTgRBTrUEQXx7+kDM/+1ACtjnQJ5K50CStwdBdjf3QKOz7UCAvPpADf3oQGf2AEFRjwNBQLv7QJhx8UDwC/BAm8nuQIEaBEHWO+pAOQTnQHBW+kB7sfZACDfwQJGy9kB0o+1AH1/1QNVs8UDI1u5AhnoDQe5p/UDWnfBAJ0X5QLee60Bf2wdBP0y7QHYM8ECbJfpA7PMIQfuV+0BGUPZAZLLrQCwQ7UByKu9AYuoSQa/z7UChKPZAhhjnQH7d70CHn/lAUKPrQGBqCEGlWPFA",
          "dtype": "f4"
         },
         "y": {
          "bdata": "vh+qQNfTsUD7u5VACSy2QIBOrECPAqNAMCi7QArMqUBDkqxAn6uxQD3KokDat6JAhjyoQJhJtEDIgKhAl5yUQIX0vEDiRZ1Ave6hQDHtoEBSXb1AEV+yQIYCsUA9MpJAj0OoQCCZu0A0s6NA0vCwQFIWn0CJAZ9AFfqkQJn0qUBs8LJAss26QJAUoUDQw7dAVrO4QAPPo0DK+atAjzyoQOw7o0C+M6pA/cerQBPCpEBRx6lAO5CgQFCGn0BrqKhA31ujQF+ztUDykp1AoNSsQNq2o0BPq6JAO9KUQATGoEDtiaNAxJe0QD+iu0CQrKlAUAukQPiHq0Cv8aNAdfWyQAwzqEC1p6VA+127QHy5lECvxalA",
          "dtype": "f4"
         }
        },
        {
         "hoverinfo": "text",
         "marker": {
          "opacity": 0.5,
          "size": 5
         },
         "mode": "markers+text",
         "name": "13_cardiac_heart_of",
         "text": [
          "",
          "",
          "",
          "",
          "",
          "",
          "",
          "",
          "",
          "",
          "",
          "",
          "",
          "",
          "",
          "",
          "",
          "",
          "",
          "",
          "",
          "",
          "",
          "",
          "",
          "",
          "",
          "",
          "",
          "",
          "",
          "",
          "",
          "",
          "",
          "",
          "",
          "",
          "",
          "",
          "",
          "",
          "",
          "",
          "",
          "",
          "",
          "",
          "",
          "",
          ""
         ],
         "textfont": {
          "size": 12
         },
         "type": "scattergl",
         "x": {
          "bdata": "j30ZQWBmGkHr3hpBzUIZQe8KGkH0VhpB7EQaQTz8GEHSiBlB0d8ZQU12GUG50RlBXI4ZQaxsGkFbjhlB3UUaQTFhG0HXphhBHS8ZQR3yGEGBuRlBohUaQZaPGUFfVBpBmLEZQTluGkEYlhtBZ9waQZuHGUFcfxpBFEwZQRC7GUH7CRlBnIIbQR+JGUG35RlBQtIYQR0OGUGBixlBxzAcQavIGkGIdxlBRtYZQcSeGUHAnxhBaygbQQVCGUFbhhlB9zUZQeA2GkEdEBlB",
          "dtype": "f4"
         },
         "y": {
          "bdata": "tTezQHyYs0B1QLRAn8KxQOUSs0BT8rNAFky0QH3bskBrV7JAzcq0QNisr0BPSrBAT4KyQPs6s0AaJrBAVv+0QAbXtEBk9q1A8DS4QAOwsUB7TbRAOIKxQFuEr0AYA7JAoTS1QAZks0BuZLZA3lO0QMaItEDBWbNAV0avQH92tUBaNrFA0+e0QP59s0DGSLNAc1uyQMm9rUBpHK9ARNO4QOWhs0BcQbJAdYGyQEKvs0Ckt7FAw2i0QPSBr0CRZq9AOjuwQBL7s0BuWbNA",
          "dtype": "f4"
         }
        },
        {
         "hoverinfo": "text",
         "marker": {
          "opacity": 0.5,
          "size": 5
         },
         "mode": "markers+text",
         "name": "14_liver_in_the",
         "text": [
          "",
          "",
          "",
          "",
          "",
          "",
          "",
          "",
          "",
          "",
          "",
          "",
          "",
          "",
          "",
          "",
          "",
          "",
          "",
          "",
          "",
          "",
          "",
          "",
          "",
          "",
          "",
          "",
          "",
          "",
          "",
          "",
          "",
          "",
          "",
          "",
          "",
          "",
          "",
          "",
          "",
          "",
          "",
          "",
          "",
          "",
          "",
          "",
          "",
          "",
          ""
         ],
         "textfont": {
          "size": 12
         },
         "type": "scattergl",
         "x": {
          "bdata": "xUcQQX4LEEFq7RBBuizgQNycEUFrHBBBUwkQQRzLDkHRcA9B8H4OQSupEEH6aQ9BKewPQWOvFEGqCg9B660QQRjOD0GvEg9BkVsOQfYrEEFLmRBBIjoQQUXFE0FisA5Bo/cOQUXuDkGLfxFBsNkOQVtGD0FLuw5BxRgSQSgzEEEWaA9BZ5DjQHZAEEGOdA9B8jYOQRp/EEHGGw9BMNQPQRDuDkFoWgxBXbIPQcyvEEFMeQ5B8igQQVQWD0G63hBBXAcQQXmzEEHAoQ5B",
          "dtype": "f4"
         },
         "y": {
          "bdata": "XFXkQAx08EBLfvJA7qbRQImP5UDlUuxARg3tQMI24EBn/O1AhuPmQM/q7EDCRuRAc1TsQGcm5EAbEu5A91jmQIIP7EDuXuFAgfXeQIFP7kDzofNANSroQLpk4UB1jttAYibgQCl83ECo+/NAKJnpQIPj7UCL/t9AI/fkQC3r50C0++hAlMPRQHex60BI1vNAvL/dQOXr80CBteBAwHnuQDNQ4EAh9fdA9k3oQPcx8kBsge5AWX7mQC8Q6EAoH8lAFgXoQLjG6UAkWutA",
          "dtype": "f4"
         }
        },
        {
         "hoverinfo": "text",
         "marker": {
          "opacity": 0.5,
          "size": 5
         },
         "mode": "markers+text",
         "name": "15_the_of_brain",
         "text": [
          "",
          "",
          "",
          "",
          "",
          "",
          "",
          "",
          "",
          "",
          "",
          "",
          "",
          "",
          "",
          "",
          "",
          "",
          "",
          "",
          "",
          "",
          "",
          "",
          "",
          "",
          "",
          "",
          "",
          "",
          "",
          "",
          "",
          "",
          "",
          "",
          "",
          "",
          "",
          "",
          "",
          "",
          "",
          "",
          "",
          "",
          "",
          "",
          "",
          "",
          "",
          "",
          ""
         ],
         "textfont": {
          "size": 12
         },
         "type": "scattergl",
         "x": {
          "bdata": "4P0IQSCqCkE7DAxBrr4JQSmBB0GTbA5Bb0EKQUksCEEJQApBlKAIQbI2DEG3pwlBlJ4IQQztCUFXdQhBDdMIQS5KBkH/yQlBOR4IQcgRBEHD3AdBN8AIQRoZB0HuzwlBPxMOQfsSCkHazhVBgn8GQfgFBUGtsAlBEagKQSqYCUG0EgxBaz4PQeRqCUHsbQ5BcMYQQcr0BUHBaghB5EMKQe7WCUHrMghBRrUCQcpuCUGxPghBvF4IQeMNDUENDAhB/vwHQQYzBkE+3AlBSXwHQfQbCkE=",
          "dtype": "f4"
         },
         "y": {
          "bdata": "TVSCQAUng0BZioVAayKBQKZiiUCRrpNATa+BQPqah0BfYYFATwSEQAHnhECTA4JAQNOGQGxBgkA7k4JAuzGDQORGiUAMloFAsjWEQG4Eg0AIWIVAuKOKQI3HgkCy2YJAoe6IQLY5gkB5OqRA0TSDQAUOh0Ad8oFA0bCDQFEIgkB53oRAZsyrQDvHgUDs3otApk2vQP0Fg0A9QYJAz5eBQD+9gUAMUIJA+9mEQN4qgkClFYRAF6uDQPWnhUCvTIRA5MWJQDoOiUCjSYJAm/OFQLuUgkA=",
          "dtype": "f4"
         }
        },
        {
         "hoverinfo": "text",
         "marker": {
          "opacity": 0.5,
          "size": 5
         },
         "mode": "markers+text",
         "name": "16_diabetes_insulin_glucose",
         "text": [
          "",
          "",
          "",
          "",
          "",
          "",
          "",
          "",
          "",
          "",
          "",
          "",
          "",
          "",
          "",
          "",
          "",
          "",
          "",
          "",
          "",
          "",
          "",
          "",
          "",
          "",
          "",
          "",
          "",
          "",
          "",
          "",
          "",
          "",
          "",
          "",
          "",
          "",
          "",
          "",
          "",
          "",
          "",
          ""
         ],
         "textfont": {
          "size": 12
         },
         "type": "scattergl",
         "x": {
          "bdata": "18wHQayuCUE9zAdBiWoKQRw3BkGFpQdBXv4HQfG2B0HAywdBGwYJQW29CUG68wdB/wAIQU7ABkGYBeBAwlgKQTBDCEG1Kv5ASO8GQVbgCEH0pAdBIaMJQT5DBkHWZQhBteEGQTaDBkFClQlBOR0PQRaDB0EAzwVBjoEJQQhYCkG5ag9B0sEHQUMnBkG/FAdBVC8IQeK2BUFZJAlBYwUKQWuKCkGz3ghBZrsGQSNQC0E=",
          "dtype": "f4"
         },
         "y": {
          "bdata": "rVO0QLDOtkBUI7RASOe3QDH+tkDLKbVARIWzQL5XtEDEerRA7Zq2QMrRtkCGSbNArEG1QBW4uEBMkthA6IC2QAz4tkCbl/tAQOi3QF7atUDas7RAlO+2QO9ut0CGK7ZA/r22QIHjuEDj3LZAjWavQMlCtUBNdrhAOdi2QJBvtkD1abBAv9a3QGoNt0C7MLlA4MOyQByKt0BqMbdABqG2QK7AuEA/dLZAE3S3QO6zpkA=",
          "dtype": "f4"
         }
        },
        {
         "hoverinfo": "text",
         "marker": {
          "opacity": 0.5,
          "size": 5
         },
         "mode": "markers+text",
         "name": "17_synthesis_the_of",
         "text": [
          "",
          "",
          "",
          "",
          "",
          "",
          "",
          "",
          "",
          "",
          "",
          "",
          "",
          "",
          "",
          "",
          "",
          "",
          "",
          "",
          "",
          "",
          "",
          "",
          "",
          "",
          "",
          "",
          "",
          "",
          "",
          "",
          "",
          "",
          "",
          "",
          "",
          "",
          ""
         ],
         "textfont": {
          "size": 12
         },
         "type": "scattergl",
         "x": {
          "bdata": "LjDZQJvc2UAsvtpANmzZQGPH2UBbWN5A3e3ZQAEV2kA3M9pAhBXaQICR10DVqtpATYvbQGM+2EBpVeZA78XZQCVb2UBlD9tAbH/aQOwP2UBA/9pApifcQHFA3ECEHt9A3CnZQBr42EDgYN9AnMXaQPfq10AHdNlAJqLXQAXK40BeI9lARKPYQDUJ2kDQldlApdjZQAIO2EDtqthA",
          "dtype": "f4"
         },
         "y": {
          "bdata": "dEjRQPRt0UAoXs9AD6/QQOEoz0DTD9FAj3/PQFJZ0UD4dM9Aj+jPQMaF0ECTns9AMmXQQJtV0ECn9MpA0vfPQE3sz0BIcM5AMabQQOkx0EBIOcxArwrQQGN10UD+StFAqmvQQOyiz0C8rM1AQFXQQIUjzkDI4NFA9p3SQIftzEDcTdBAClHPQGoH0EDV8s9A3HTPQFJ60UASQNFA",
          "dtype": "f4"
         }
        },
        {
         "hoverinfo": "text",
         "marker": {
          "opacity": 0.5,
          "size": 5
         },
         "mode": "markers+text",
         "name": "18_and_to_the",
         "text": [
          "",
          "",
          "",
          "",
          "",
          "",
          "",
          "",
          "",
          "",
          "",
          "",
          "",
          "",
          "",
          "",
          "",
          "",
          "",
          "",
          "",
          "",
          "",
          "",
          "",
          "",
          "",
          "",
          "",
          "",
          "",
          "",
          "",
          "",
          "",
          "",
          "",
          ""
         ],
         "textfont": {
          "size": 12
         },
         "type": "scattergl",
         "x": {
          "bdata": "14++QJVStkB7j7ZABN68QNmOtUBturhAJ923QLN4ukCa6bhAUTS6QP5ZtkCDRbpAy7+6QP18t0Ba5rdA3Mu2QAs8tkBVFLpA8zO8QMLyvkCye7VAbVm6QMWDvEAnJLZAN3q6QDLKtUC96btAsPK4QBnmuUBmX7VAsJ22QCYFuUBpArpASFe7QI/6ukCYKbZAHBa7QGKuukA=",
          "dtype": "f4"
         },
         "y": {
          "bdata": "vlbwQObz5kCOc+pANYLuQGua6UD1xvFA6c3hQCYb6kBHTe9AQt/pQKNg50DX/e5A+AnqQHHi6EAQVuZAwMTnQJ8250Ald/JA9RjuQM2r9kBPBOdA+j/pQCu48EAkI+dA9UDqQIGt50DtDe1AkUThQBIL6kB97+dAXaHtQMtk8EChO+VAL5rqQKiF60DQ8eZARH3qQNII6kA=",
          "dtype": "f4"
         }
        },
        {
         "hoverinfo": "text",
         "marker": {
          "opacity": 0.5,
          "size": 5
         },
         "mode": "markers+text",
         "name": "19_cancer_care_and",
         "text": [
          "",
          "",
          "",
          "",
          "",
          "",
          "",
          "",
          "",
          "",
          "",
          "",
          "",
          "",
          "",
          "",
          "",
          "",
          "",
          "",
          "",
          "",
          "",
          "",
          "",
          "",
          "",
          "",
          "",
          "",
          "",
          "",
          "",
          "",
          "",
          "",
          "",
          "",
          "",
          "",
          "",
          "",
          "",
          "",
          ""
         ],
         "textfont": {
          "size": 12
         },
         "type": "scattergl",
         "x": {
          "bdata": "5t7+QLMgAkEHVf1AJnwAQTsy/0CA5/9A0Wr/QO6FAEF0TQBBKSgAQQLS/EBvYxJBIbr/QOgeAEETawNBfZYHQc5FAEE7bwBB5cIGQVO1/0CH2f9AUV4RQbGzAEFLSgJBDsn/QPuG0ED1ugBB5zz/QCPhAkFhRgFB6sEFQaVd/0D6of5AOXT/QFYwAEEJUgBBxZYAQauN/EBebwJBkTAAQUkhAUGk7ABBSvz+QGkNAUEudAVB",
          "dtype": "f4"
         },
         "y": {
          "bdata": "fLi7QBLpu0CO071AcDy6QHVdu0DFXrpA0OCwQBEWt0CJaLRA37ezQHhxrECg+epAuiCzQBvZtEB32b5AcSrEQC3qtkA1eb5ADVvBQL4zr0B5irtA1OzdQKFBt0Ab6KFAFiuyQIQsrUC4Y7lA9payQNRRvkDsbLtA5q/AQDewsUAhj7tAzpi7QLOFuECt57lAjhC3QNYurEBfzrxAfnC5QGVbuEDk7bpA4027QAqvuEB0ZMBA",
          "dtype": "f4"
         }
        },
        {
         "hoverinfo": "text",
         "marker": {
          "opacity": 0.5,
          "size": 5
         },
         "mode": "markers+text",
         "name": "20_retinal_eye_the",
         "text": [
          "",
          "",
          "",
          "",
          "",
          "",
          "",
          "",
          "",
          "",
          "",
          "",
          "",
          "",
          "",
          "",
          "",
          "",
          "",
          "",
          "",
          "",
          "",
          "",
          "",
          "",
          "",
          "",
          "",
          "",
          "",
          ""
         ],
         "textfont": {
          "size": 12
         },
         "type": "scattergl",
         "x": {
          "bdata": "RroOQaOrDkHehQ5B5EUOQeh+DkFCGw9Bv98OQZG/DkHEpQ5BtlUOQRF0DkEZkQ5BXF8OQaqYDkEEgA5BfOwOQTA5DkGFqg5BfXkOQbTjDkEZnA5BTXUOQV5eDkEFYA5BHo8OQRk9DkGOXg5BJsAOQaC/DkFo3w5BW1QOQQyBDkE=",
          "dtype": "f4"
         },
         "y": {
          "bdata": "eI6MQArwikCQ5oxAzKOPQPADjUCZK4tAjkuNQPCWjED+1IxAeMyPQEPzjUDpgoxAXiOOQME6jEDgIY1A49iLQGAWjUAYJ4pA2UyPQGQEjECe0IxAoAGPQIPUkEBNJo9AnTOLQEUxjkBGRY5AJ/+OQEmMjEDb9YxAawaPQMVcj0A=",
          "dtype": "f4"
         }
        },
        {
         "hoverinfo": "text",
         "marker": {
          "opacity": 0.5,
          "size": 5
         },
         "mode": "markers+text",
         "name": "21_kidney_ckd_renal",
         "text": [
          "",
          "",
          "",
          "",
          "",
          "",
          "",
          "",
          "",
          "",
          "",
          "",
          "",
          "",
          "",
          "",
          "",
          "",
          "",
          "",
          "",
          "",
          "",
          "",
          "",
          ""
         ],
         "textfont": {
          "size": 12
         },
         "type": "scattergl",
         "x": {
          "bdata": "jjEZQVGRGUHqghlB438VQWIDGEE6nhlB53QZQZiLGUGWdxlBDbMYQT9fGUGpkhlB7WEZQURqGUE/RBlBMqoZQVicGUHZOhlBa4YZQWGwGEHEhRlBVu0ZQWeDGUGckRlB2YIZQbYGGkE=",
          "dtype": "f4"
         },
         "y": {
          "bdata": "xoGyQEMbs0DUIrNACZywQO++sUDtvbVA5MKyQFnbskDwxbJA/WqxQBF6skDjybJAoc2yQJOrskDSdrNAsx2zQKX+skCrJ7JAnj6zQDm3sUB17LJATBu0QJnGskDl47JAUcOyQNOvskA=",
          "dtype": "f4"
         }
        },
        {
         "hoverinfo": "text",
         "marker": {
          "opacity": 0.5,
          "size": 5
         },
         "mode": "markers+text",
         "name": "22_the_and_pharmaceutical",
         "text": [
          "",
          "",
          "",
          "",
          "",
          "",
          "",
          "",
          "",
          "",
          "",
          "",
          "",
          "",
          "",
          "",
          "",
          "",
          "",
          "",
          "",
          "",
          "",
          "",
          ""
         ],
         "textfont": {
          "size": 12
         },
         "type": "scattergl",
         "x": {
          "bdata": "GxbUQOFKy0D3YNJA/yLeQHI0zED6v9FAyCDeQGsE0kC9sNRAuUvVQHQC00BC3NZACJPcQIt+2EBvm8tAzTzUQIEW00AFJtNAB+jLQB2/zECxbddANyzSQDHR10Bp9ctAqYDaQA==",
          "dtype": "f4"
         },
         "y": {
          "bdata": "87nQQG4v1UCYP9NAE3DOQPr81EDVlNJAVb7NQG/M0UAcFcJAaZnTQKt10UA8fs9AryTPQNj60kBeLNRAmSnRQGQV0UBnfNFAYX7VQJww1EAkqNBAcurRQGs+0EC47tRAvRDPQA==",
          "dtype": "f4"
         }
        }
       ],
       "layout": {
        "annotations": [
         {
          "showarrow": false,
          "text": "D1",
          "x": 4.414118766784668,
          "y": 6.955172860622406,
          "yshift": 10
         },
         {
          "showarrow": false,
          "text": "D2",
          "x": 8.285939931869507,
          "xshift": 10,
          "y": 10.480212020874024
         }
        ],
        "height": 750,
        "shapes": [
         {
          "line": {
           "color": "#CFD8DC",
           "width": 2
          },
          "type": "line",
          "x0": 8.285939931869507,
          "x1": 8.285939931869507,
          "y0": 3.4301337003707886,
          "y1": 10.480212020874024
         },
         {
          "line": {
           "color": "#9E9E9E",
           "width": 2
          },
          "type": "line",
          "x0": 4.414118766784668,
          "x1": 12.157761096954346,
          "y0": 6.955172860622406,
          "y1": 6.955172860622406
         }
        ],
        "template": {
         "data": {
          "bar": [
           {
            "error_x": {
             "color": "rgb(36,36,36)"
            },
            "error_y": {
             "color": "rgb(36,36,36)"
            },
            "marker": {
             "line": {
              "color": "white",
              "width": 0.5
             },
             "pattern": {
              "fillmode": "overlay",
              "size": 10,
              "solidity": 0.2
             }
            },
            "type": "bar"
           }
          ],
          "barpolar": [
           {
            "marker": {
             "line": {
              "color": "white",
              "width": 0.5
             },
             "pattern": {
              "fillmode": "overlay",
              "size": 10,
              "solidity": 0.2
             }
            },
            "type": "barpolar"
           }
          ],
          "carpet": [
           {
            "aaxis": {
             "endlinecolor": "rgb(36,36,36)",
             "gridcolor": "white",
             "linecolor": "white",
             "minorgridcolor": "white",
             "startlinecolor": "rgb(36,36,36)"
            },
            "baxis": {
             "endlinecolor": "rgb(36,36,36)",
             "gridcolor": "white",
             "linecolor": "white",
             "minorgridcolor": "white",
             "startlinecolor": "rgb(36,36,36)"
            },
            "type": "carpet"
           }
          ],
          "choropleth": [
           {
            "colorbar": {
             "outlinewidth": 1,
             "tickcolor": "rgb(36,36,36)",
             "ticks": "outside"
            },
            "type": "choropleth"
           }
          ],
          "contour": [
           {
            "colorbar": {
             "outlinewidth": 1,
             "tickcolor": "rgb(36,36,36)",
             "ticks": "outside"
            },
            "colorscale": [
             [
              0,
              "#440154"
             ],
             [
              0.1111111111111111,
              "#482878"
             ],
             [
              0.2222222222222222,
              "#3e4989"
             ],
             [
              0.3333333333333333,
              "#31688e"
             ],
             [
              0.4444444444444444,
              "#26828e"
             ],
             [
              0.5555555555555556,
              "#1f9e89"
             ],
             [
              0.6666666666666666,
              "#35b779"
             ],
             [
              0.7777777777777778,
              "#6ece58"
             ],
             [
              0.8888888888888888,
              "#b5de2b"
             ],
             [
              1,
              "#fde725"
             ]
            ],
            "type": "contour"
           }
          ],
          "contourcarpet": [
           {
            "colorbar": {
             "outlinewidth": 1,
             "tickcolor": "rgb(36,36,36)",
             "ticks": "outside"
            },
            "type": "contourcarpet"
           }
          ],
          "heatmap": [
           {
            "colorbar": {
             "outlinewidth": 1,
             "tickcolor": "rgb(36,36,36)",
             "ticks": "outside"
            },
            "colorscale": [
             [
              0,
              "#440154"
             ],
             [
              0.1111111111111111,
              "#482878"
             ],
             [
              0.2222222222222222,
              "#3e4989"
             ],
             [
              0.3333333333333333,
              "#31688e"
             ],
             [
              0.4444444444444444,
              "#26828e"
             ],
             [
              0.5555555555555556,
              "#1f9e89"
             ],
             [
              0.6666666666666666,
              "#35b779"
             ],
             [
              0.7777777777777778,
              "#6ece58"
             ],
             [
              0.8888888888888888,
              "#b5de2b"
             ],
             [
              1,
              "#fde725"
             ]
            ],
            "type": "heatmap"
           }
          ],
          "histogram": [
           {
            "marker": {
             "line": {
              "color": "white",
              "width": 0.6
             }
            },
            "type": "histogram"
           }
          ],
          "histogram2d": [
           {
            "colorbar": {
             "outlinewidth": 1,
             "tickcolor": "rgb(36,36,36)",
             "ticks": "outside"
            },
            "colorscale": [
             [
              0,
              "#440154"
             ],
             [
              0.1111111111111111,
              "#482878"
             ],
             [
              0.2222222222222222,
              "#3e4989"
             ],
             [
              0.3333333333333333,
              "#31688e"
             ],
             [
              0.4444444444444444,
              "#26828e"
             ],
             [
              0.5555555555555556,
              "#1f9e89"
             ],
             [
              0.6666666666666666,
              "#35b779"
             ],
             [
              0.7777777777777778,
              "#6ece58"
             ],
             [
              0.8888888888888888,
              "#b5de2b"
             ],
             [
              1,
              "#fde725"
             ]
            ],
            "type": "histogram2d"
           }
          ],
          "histogram2dcontour": [
           {
            "colorbar": {
             "outlinewidth": 1,
             "tickcolor": "rgb(36,36,36)",
             "ticks": "outside"
            },
            "colorscale": [
             [
              0,
              "#440154"
             ],
             [
              0.1111111111111111,
              "#482878"
             ],
             [
              0.2222222222222222,
              "#3e4989"
             ],
             [
              0.3333333333333333,
              "#31688e"
             ],
             [
              0.4444444444444444,
              "#26828e"
             ],
             [
              0.5555555555555556,
              "#1f9e89"
             ],
             [
              0.6666666666666666,
              "#35b779"
             ],
             [
              0.7777777777777778,
              "#6ece58"
             ],
             [
              0.8888888888888888,
              "#b5de2b"
             ],
             [
              1,
              "#fde725"
             ]
            ],
            "type": "histogram2dcontour"
           }
          ],
          "mesh3d": [
           {
            "colorbar": {
             "outlinewidth": 1,
             "tickcolor": "rgb(36,36,36)",
             "ticks": "outside"
            },
            "type": "mesh3d"
           }
          ],
          "parcoords": [
           {
            "line": {
             "colorbar": {
              "outlinewidth": 1,
              "tickcolor": "rgb(36,36,36)",
              "ticks": "outside"
             }
            },
            "type": "parcoords"
           }
          ],
          "pie": [
           {
            "automargin": true,
            "type": "pie"
           }
          ],
          "scatter": [
           {
            "fillpattern": {
             "fillmode": "overlay",
             "size": 10,
             "solidity": 0.2
            },
            "type": "scatter"
           }
          ],
          "scatter3d": [
           {
            "line": {
             "colorbar": {
              "outlinewidth": 1,
              "tickcolor": "rgb(36,36,36)",
              "ticks": "outside"
             }
            },
            "marker": {
             "colorbar": {
              "outlinewidth": 1,
              "tickcolor": "rgb(36,36,36)",
              "ticks": "outside"
             }
            },
            "type": "scatter3d"
           }
          ],
          "scattercarpet": [
           {
            "marker": {
             "colorbar": {
              "outlinewidth": 1,
              "tickcolor": "rgb(36,36,36)",
              "ticks": "outside"
             }
            },
            "type": "scattercarpet"
           }
          ],
          "scattergeo": [
           {
            "marker": {
             "colorbar": {
              "outlinewidth": 1,
              "tickcolor": "rgb(36,36,36)",
              "ticks": "outside"
             }
            },
            "type": "scattergeo"
           }
          ],
          "scattergl": [
           {
            "marker": {
             "colorbar": {
              "outlinewidth": 1,
              "tickcolor": "rgb(36,36,36)",
              "ticks": "outside"
             }
            },
            "type": "scattergl"
           }
          ],
          "scattermap": [
           {
            "marker": {
             "colorbar": {
              "outlinewidth": 1,
              "tickcolor": "rgb(36,36,36)",
              "ticks": "outside"
             }
            },
            "type": "scattermap"
           }
          ],
          "scattermapbox": [
           {
            "marker": {
             "colorbar": {
              "outlinewidth": 1,
              "tickcolor": "rgb(36,36,36)",
              "ticks": "outside"
             }
            },
            "type": "scattermapbox"
           }
          ],
          "scatterpolar": [
           {
            "marker": {
             "colorbar": {
              "outlinewidth": 1,
              "tickcolor": "rgb(36,36,36)",
              "ticks": "outside"
             }
            },
            "type": "scatterpolar"
           }
          ],
          "scatterpolargl": [
           {
            "marker": {
             "colorbar": {
              "outlinewidth": 1,
              "tickcolor": "rgb(36,36,36)",
              "ticks": "outside"
             }
            },
            "type": "scatterpolargl"
           }
          ],
          "scatterternary": [
           {
            "marker": {
             "colorbar": {
              "outlinewidth": 1,
              "tickcolor": "rgb(36,36,36)",
              "ticks": "outside"
             }
            },
            "type": "scatterternary"
           }
          ],
          "surface": [
           {
            "colorbar": {
             "outlinewidth": 1,
             "tickcolor": "rgb(36,36,36)",
             "ticks": "outside"
            },
            "colorscale": [
             [
              0,
              "#440154"
             ],
             [
              0.1111111111111111,
              "#482878"
             ],
             [
              0.2222222222222222,
              "#3e4989"
             ],
             [
              0.3333333333333333,
              "#31688e"
             ],
             [
              0.4444444444444444,
              "#26828e"
             ],
             [
              0.5555555555555556,
              "#1f9e89"
             ],
             [
              0.6666666666666666,
              "#35b779"
             ],
             [
              0.7777777777777778,
              "#6ece58"
             ],
             [
              0.8888888888888888,
              "#b5de2b"
             ],
             [
              1,
              "#fde725"
             ]
            ],
            "type": "surface"
           }
          ],
          "table": [
           {
            "cells": {
             "fill": {
              "color": "rgb(237,237,237)"
             },
             "line": {
              "color": "white"
             }
            },
            "header": {
             "fill": {
              "color": "rgb(217,217,217)"
             },
             "line": {
              "color": "white"
             }
            },
            "type": "table"
           }
          ]
         },
         "layout": {
          "annotationdefaults": {
           "arrowhead": 0,
           "arrowwidth": 1
          },
          "autotypenumbers": "strict",
          "coloraxis": {
           "colorbar": {
            "outlinewidth": 1,
            "tickcolor": "rgb(36,36,36)",
            "ticks": "outside"
           }
          },
          "colorscale": {
           "diverging": [
            [
             0,
             "rgb(103,0,31)"
            ],
            [
             0.1,
             "rgb(178,24,43)"
            ],
            [
             0.2,
             "rgb(214,96,77)"
            ],
            [
             0.3,
             "rgb(244,165,130)"
            ],
            [
             0.4,
             "rgb(253,219,199)"
            ],
            [
             0.5,
             "rgb(247,247,247)"
            ],
            [
             0.6,
             "rgb(209,229,240)"
            ],
            [
             0.7,
             "rgb(146,197,222)"
            ],
            [
             0.8,
             "rgb(67,147,195)"
            ],
            [
             0.9,
             "rgb(33,102,172)"
            ],
            [
             1,
             "rgb(5,48,97)"
            ]
           ],
           "sequential": [
            [
             0,
             "#440154"
            ],
            [
             0.1111111111111111,
             "#482878"
            ],
            [
             0.2222222222222222,
             "#3e4989"
            ],
            [
             0.3333333333333333,
             "#31688e"
            ],
            [
             0.4444444444444444,
             "#26828e"
            ],
            [
             0.5555555555555556,
             "#1f9e89"
            ],
            [
             0.6666666666666666,
             "#35b779"
            ],
            [
             0.7777777777777778,
             "#6ece58"
            ],
            [
             0.8888888888888888,
             "#b5de2b"
            ],
            [
             1,
             "#fde725"
            ]
           ],
           "sequentialminus": [
            [
             0,
             "#440154"
            ],
            [
             0.1111111111111111,
             "#482878"
            ],
            [
             0.2222222222222222,
             "#3e4989"
            ],
            [
             0.3333333333333333,
             "#31688e"
            ],
            [
             0.4444444444444444,
             "#26828e"
            ],
            [
             0.5555555555555556,
             "#1f9e89"
            ],
            [
             0.6666666666666666,
             "#35b779"
            ],
            [
             0.7777777777777778,
             "#6ece58"
            ],
            [
             0.8888888888888888,
             "#b5de2b"
            ],
            [
             1,
             "#fde725"
            ]
           ]
          },
          "colorway": [
           "#1F77B4",
           "#FF7F0E",
           "#2CA02C",
           "#D62728",
           "#9467BD",
           "#8C564B",
           "#E377C2",
           "#7F7F7F",
           "#BCBD22",
           "#17BECF"
          ],
          "font": {
           "color": "rgb(36,36,36)"
          },
          "geo": {
           "bgcolor": "white",
           "lakecolor": "white",
           "landcolor": "white",
           "showlakes": true,
           "showland": true,
           "subunitcolor": "white"
          },
          "hoverlabel": {
           "align": "left"
          },
          "hovermode": "closest",
          "mapbox": {
           "style": "light"
          },
          "paper_bgcolor": "white",
          "plot_bgcolor": "white",
          "polar": {
           "angularaxis": {
            "gridcolor": "rgb(232,232,232)",
            "linecolor": "rgb(36,36,36)",
            "showgrid": false,
            "showline": true,
            "ticks": "outside"
           },
           "bgcolor": "white",
           "radialaxis": {
            "gridcolor": "rgb(232,232,232)",
            "linecolor": "rgb(36,36,36)",
            "showgrid": false,
            "showline": true,
            "ticks": "outside"
           }
          },
          "scene": {
           "xaxis": {
            "backgroundcolor": "white",
            "gridcolor": "rgb(232,232,232)",
            "gridwidth": 2,
            "linecolor": "rgb(36,36,36)",
            "showbackground": true,
            "showgrid": false,
            "showline": true,
            "ticks": "outside",
            "zeroline": false,
            "zerolinecolor": "rgb(36,36,36)"
           },
           "yaxis": {
            "backgroundcolor": "white",
            "gridcolor": "rgb(232,232,232)",
            "gridwidth": 2,
            "linecolor": "rgb(36,36,36)",
            "showbackground": true,
            "showgrid": false,
            "showline": true,
            "ticks": "outside",
            "zeroline": false,
            "zerolinecolor": "rgb(36,36,36)"
           },
           "zaxis": {
            "backgroundcolor": "white",
            "gridcolor": "rgb(232,232,232)",
            "gridwidth": 2,
            "linecolor": "rgb(36,36,36)",
            "showbackground": true,
            "showgrid": false,
            "showline": true,
            "ticks": "outside",
            "zeroline": false,
            "zerolinecolor": "rgb(36,36,36)"
           }
          },
          "shapedefaults": {
           "fillcolor": "black",
           "line": {
            "width": 0
           },
           "opacity": 0.3
          },
          "ternary": {
           "aaxis": {
            "gridcolor": "rgb(232,232,232)",
            "linecolor": "rgb(36,36,36)",
            "showgrid": false,
            "showline": true,
            "ticks": "outside"
           },
           "baxis": {
            "gridcolor": "rgb(232,232,232)",
            "linecolor": "rgb(36,36,36)",
            "showgrid": false,
            "showline": true,
            "ticks": "outside"
           },
           "bgcolor": "white",
           "caxis": {
            "gridcolor": "rgb(232,232,232)",
            "linecolor": "rgb(36,36,36)",
            "showgrid": false,
            "showline": true,
            "ticks": "outside"
           }
          },
          "title": {
           "x": 0.05
          },
          "xaxis": {
           "automargin": true,
           "gridcolor": "rgb(232,232,232)",
           "linecolor": "rgb(36,36,36)",
           "showgrid": false,
           "showline": true,
           "ticks": "outside",
           "title": {
            "standoff": 15
           },
           "zeroline": false,
           "zerolinecolor": "rgb(36,36,36)"
          },
          "yaxis": {
           "automargin": true,
           "gridcolor": "rgb(232,232,232)",
           "linecolor": "rgb(36,36,36)",
           "showgrid": false,
           "showline": true,
           "ticks": "outside",
           "title": {
            "standoff": 15
           },
           "zeroline": false,
           "zerolinecolor": "rgb(36,36,36)"
          }
         }
        },
        "title": {
         "font": {
          "color": "Black",
          "size": 22
         },
         "text": "<b>Documents and Topics</b>",
         "x": 0.5,
         "xanchor": "center",
         "yanchor": "top"
        },
        "width": 1200,
        "xaxis": {
         "visible": false
        },
        "yaxis": {
         "visible": false
        }
       }
      }
     },
     "metadata": {},
     "output_type": "display_data"
    }
   ],
   "source": [
    "topic_model.visualize_documents(\n",
    "    text,\n",
    "    reduced_embeddings=reduced_embeddings,\n",
    "    hide_document_hover=True,\n",
    "    hide_annotations=True,\n",
    ")\n"
   ]
  },
  {
   "cell_type": "code",
   "execution_count": 18,
   "id": "13961ae0",
   "metadata": {},
   "outputs": [
    {
     "name": "stderr",
     "output_type": "stream",
     "text": [
      "100%|██████████| 1/1 [00:02<00:00,  2.04s/it]\n"
     ]
    }
   ],
   "source": [
    "# Reduce outliers using the `probabilities` strategy\n",
    "new_topics = topic_model.reduce_outliers(\n",
    "    text, topics, probabilities=probs, strategy=\"distributions\"\n",
    ")\n"
   ]
  },
  {
   "cell_type": "code",
   "execution_count": 19,
   "id": "92021960",
   "metadata": {},
   "outputs": [
    {
     "name": "stderr",
     "output_type": "stream",
     "text": [
      "2025-05-26 10:26:43,824 - BERTopic - WARNING: Using a custom list of topic assignments may lead to errors if topic reduction techniques are used afterwards. Make sure that manually assigning topics is the last step in the pipeline.Note that topic embeddings will also be created through weightedc-TF-IDF embeddings instead of centroid embeddings.\n"
     ]
    }
   ],
   "source": [
    "topic_model.update_topics(text, topics=new_topics)\n"
   ]
  },
  {
   "cell_type": "code",
   "execution_count": null,
   "id": "68909d1f",
   "metadata": {},
   "outputs": [],
   "source": [
    "topic_model.get_topic_info()\n"
   ]
  },
  {
   "cell_type": "code",
   "execution_count": 21,
   "id": "1fbbb45d",
   "metadata": {},
   "outputs": [
    {
     "data": {
      "application/vnd.plotly.v1+json": {
       "config": {
        "plotlyServerURL": "https://plot.ly"
       },
       "data": [
        {
         "hoverinfo": "text",
         "marker": {
          "color": "#CFD8DC",
          "opacity": 0.5,
          "size": 5
         },
         "mode": "markers+text",
         "name": "other",
         "showlegend": false,
         "type": "scattergl",
         "x": {
          "bdata": "AADAfw==",
          "dtype": "f4"
         },
         "y": {
          "bdata": "AADAfw==",
          "dtype": "f4"
         }
        },
        {
         "hoverinfo": "text",
         "marker": {
          "opacity": 0.5,
          "size": 5
         },
         "mode": "markers+text",
         "name": "0_the_of_to",
         "text": [
          "",
          "",
          "",
          "",
          "",
          "",
          "",
          "",
          "",
          "",
          "",
          "",
          "",
          "",
          "",
          "",
          "",
          "",
          "",
          "",
          "",
          "",
          "",
          "",
          "",
          "",
          "",
          "",
          "",
          "",
          "",
          "",
          "",
          "",
          "",
          "",
          "",
          "",
          "",
          "",
          "",
          "",
          "",
          "",
          "",
          "",
          "",
          "",
          "",
          "",
          "",
          "",
          "",
          "",
          "",
          "",
          "",
          "",
          "",
          "",
          "",
          "",
          "",
          "",
          "",
          "",
          "",
          "",
          "",
          "",
          "",
          "",
          "",
          "",
          "",
          "",
          "",
          "",
          "",
          "",
          "",
          "",
          "",
          "",
          "",
          "",
          "",
          "",
          "",
          "",
          "",
          "",
          "",
          "",
          "",
          "",
          "",
          "",
          "",
          "",
          "",
          "",
          "",
          "",
          "",
          "",
          "",
          "",
          "",
          "",
          "",
          "",
          "",
          "",
          "",
          "",
          "",
          "",
          "",
          "",
          "",
          "",
          "",
          "",
          "",
          "",
          "",
          "",
          "",
          "",
          "",
          "",
          "",
          "",
          "",
          "",
          "",
          "",
          "",
          "",
          "",
          "",
          "",
          "",
          "",
          "",
          "",
          "",
          "",
          "",
          "",
          "",
          "",
          "",
          "",
          "",
          "",
          "",
          "",
          "",
          "",
          "",
          "",
          "",
          "",
          "",
          "",
          "",
          "",
          "",
          "",
          "",
          "",
          "",
          "",
          "",
          "",
          "",
          "",
          "",
          "",
          "",
          "",
          "",
          "",
          "",
          "",
          "",
          "",
          "",
          "",
          "",
          "",
          "",
          "",
          "",
          "",
          "",
          "",
          "",
          "",
          "",
          "",
          "",
          "",
          "",
          "",
          "",
          "",
          "",
          "",
          "",
          "",
          "",
          "",
          "",
          "",
          "",
          "",
          "",
          "",
          "",
          "",
          "",
          "",
          "",
          "",
          "",
          "",
          "",
          "",
          "",
          "",
          "",
          "",
          "",
          "",
          "",
          "",
          "",
          "",
          "",
          "",
          "",
          "",
          "",
          "",
          "",
          "",
          "",
          "",
          "",
          "",
          "",
          "",
          "",
          "",
          "",
          "",
          "",
          "",
          "",
          "",
          "",
          "",
          "",
          "",
          "",
          "",
          "",
          "",
          "",
          "",
          "",
          "",
          "",
          "",
          "",
          "",
          "",
          "",
          "",
          "",
          "",
          "",
          "",
          "",
          "",
          "",
          "",
          "",
          "",
          "",
          "",
          "",
          "",
          "",
          "",
          "",
          "",
          "",
          "",
          "",
          "",
          "",
          "",
          "",
          "",
          "",
          "",
          "",
          "",
          "",
          "",
          "",
          "",
          "",
          "",
          "",
          "",
          "",
          "",
          "",
          "",
          "",
          "",
          "",
          "",
          "",
          "",
          "",
          "",
          "",
          "",
          "",
          "",
          "",
          "",
          "",
          "",
          "",
          "",
          "",
          "",
          "",
          "",
          "",
          "",
          "",
          "",
          "",
          "",
          "",
          "",
          "",
          "",
          "",
          "",
          "",
          "",
          "",
          "",
          "",
          "",
          "",
          "",
          "",
          "",
          "",
          "",
          "",
          "",
          "",
          "",
          "",
          "",
          "",
          "",
          "",
          "",
          "",
          "",
          "",
          "",
          "",
          "",
          "",
          "",
          "",
          "",
          "",
          "",
          "",
          "",
          "",
          "",
          "",
          "",
          "",
          "",
          "",
          "",
          "",
          "",
          "",
          "",
          "",
          "",
          "",
          "",
          "",
          "",
          "",
          "",
          "",
          "",
          "",
          "",
          "",
          "",
          "",
          "",
          "",
          "",
          "",
          "",
          "",
          "",
          "",
          "",
          "",
          "",
          "",
          "",
          "",
          "",
          "",
          "",
          "",
          "",
          "",
          "",
          "",
          "",
          "",
          "",
          "",
          "",
          "",
          "",
          "",
          "",
          "",
          "",
          "",
          "",
          "",
          "",
          "",
          "",
          "",
          "",
          "",
          "",
          "",
          "",
          "",
          "",
          "",
          "",
          "",
          "",
          "",
          "",
          "",
          "",
          "",
          "",
          "",
          "",
          "",
          "",
          "",
          "",
          "",
          "",
          "",
          "",
          "",
          "",
          "",
          "",
          "",
          "",
          "",
          "",
          "",
          "",
          "",
          "",
          "",
          "",
          "",
          "",
          "",
          "",
          "",
          "",
          "",
          "",
          "",
          "",
          "",
          "",
          "",
          "",
          "",
          "",
          "",
          "",
          "",
          "",
          "",
          "",
          "",
          "",
          "",
          "",
          "",
          "",
          "",
          "",
          "",
          "",
          "",
          "",
          "",
          "",
          "",
          "",
          "",
          "",
          "",
          "",
          "",
          "",
          "",
          "",
          "",
          "",
          "",
          "",
          "",
          "",
          "",
          "",
          "",
          "",
          "",
          "",
          "",
          "",
          "",
          "",
          "",
          "",
          "",
          "",
          "",
          "",
          "",
          "",
          "",
          "",
          "",
          "",
          "",
          "",
          "",
          "",
          "",
          "",
          "",
          "",
          "",
          "",
          "",
          "",
          "",
          "",
          "",
          "",
          "",
          "",
          "",
          "",
          "",
          "",
          "",
          "",
          "",
          "",
          "",
          "",
          "",
          "",
          "",
          "",
          "",
          "",
          "",
          "",
          "",
          "",
          "",
          "",
          "",
          "",
          "",
          "",
          "",
          "",
          "",
          "",
          "",
          "",
          "",
          "",
          "",
          "",
          "",
          "",
          "",
          "",
          "",
          "",
          "",
          "",
          "",
          "",
          "",
          "",
          "",
          "",
          "",
          "",
          "",
          "",
          "",
          "",
          "",
          "",
          "",
          "",
          "",
          "",
          "",
          "",
          "",
          "",
          "",
          "",
          "",
          "",
          "",
          "",
          "",
          "",
          "",
          "",
          "",
          "",
          "",
          "",
          "",
          "",
          "",
          "",
          "",
          "",
          "",
          "",
          "",
          "",
          "",
          "",
          "",
          "",
          "",
          "",
          "",
          "",
          "",
          "",
          "",
          "",
          "",
          "",
          "",
          "",
          "",
          "",
          "",
          "",
          "",
          "",
          "",
          "",
          "",
          "",
          "",
          "",
          "",
          "",
          "",
          "",
          "",
          "",
          "",
          "",
          "",
          "",
          "",
          "",
          "",
          "",
          "",
          "",
          "",
          "",
          "",
          "",
          "",
          "",
          "",
          "",
          "",
          "",
          "",
          "",
          "",
          "",
          "",
          "",
          "",
          "",
          "",
          "",
          "",
          "",
          "",
          "",
          "",
          "",
          "",
          "",
          "",
          "",
          "",
          "",
          "",
          "",
          "",
          "",
          "",
          "",
          "",
          "",
          "",
          "",
          "",
          "",
          "",
          "",
          "",
          "",
          "",
          "",
          "",
          "",
          "",
          "",
          "",
          "",
          "",
          "",
          "",
          "",
          "",
          "",
          "",
          "",
          "",
          "",
          "",
          "",
          "",
          "",
          "",
          "",
          "",
          "",
          "",
          "",
          "",
          "",
          "",
          "",
          "",
          "",
          "",
          "",
          "",
          "",
          "",
          "",
          "",
          "",
          "",
          "",
          "",
          "",
          "",
          "",
          "",
          "",
          "",
          "",
          "",
          "",
          "",
          "",
          "",
          "",
          "",
          "",
          "",
          "",
          "",
          "",
          "",
          "",
          "",
          "",
          "",
          "",
          "",
          "",
          "",
          "",
          "",
          "",
          "",
          "",
          "",
          "",
          "",
          "",
          "",
          "",
          "",
          "",
          "",
          "",
          "",
          "",
          "",
          "",
          "",
          "",
          "",
          "",
          "",
          "",
          "",
          "",
          "",
          "",
          "",
          "",
          "",
          "",
          "",
          "",
          "",
          "",
          "",
          "",
          "",
          "",
          "",
          "",
          "",
          "",
          "",
          "",
          "",
          "",
          "",
          "",
          "",
          "",
          "",
          "",
          "",
          "",
          "",
          "",
          "",
          "",
          "",
          "",
          "",
          "",
          "",
          ""
         ],
         "textfont": {
          "size": 12
         },
         "type": "scattergl",
         "x": {
          "bdata": "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",
          "dtype": "f4"
         },
         "y": {
          "bdata": "eaECQYxu/EBCtABBVo/tQAGY2kAuRABBOJP+QEcKDUGGpAFBYV4OQeN0AUHYTMdACyPmQKsDBEEPveBAQj4BQU4tAkE5JPdA2j0KQefq7EDCoANBj0wDQRVK+0BQj8JA4EsIQRX/AkER2w9BSSTXQAb/BEEWSABBVgLTQELfAEETHNBAESIQQdTY90A6UN1AVE8CQckaDUFWLQ9BqX2sQCiAwUCxYgVBrY4KQVFDCUELe69AS0MRQS1MCEHHohBBpS/4QH5I/kCmigNB51wMQYFe+0DKxQJB8VXkQIpTDkEAaQhB9gEGQfLk+EDqKRBBhAnUQIfOBUGfIw1Bth27QG2bBUHuIthAuR8EQYFgBUHddfxA4DEOQQE+DkFaBgJBk2gBQRpM/0BOLgdB+40CQam+DkEMgvRANxL7QKuS/UBN4QJBS9YNQe4yAkGeXQpBpxkKQXnfwkBJLAtBJubbQK5DBEG0a/9A578OQcf7zkD2l/9Az0ayQBgvCUHyO/VA+F7qQJou1kD/mNVASMbyQCAVA0HOTARB/knzQL92A0EO8RBBoZ3+QIMO/UCvjtZAqRj1QDdw10DOjAFB9zgLQW9R/EBC6ABBEULvQLpq70BL6wFBpJkFQdQP60Dd3A1Bl9bXQIth+UBdZtNALRcDQTnuzEB43AtBXk/6QLdyC0G/3NpAwEEOQdRVEEHoxPlAuq7/QLip4UDyuARBFKEEQSCY/0ColclAzakNQYZE3kAJpeFAnfYEQTPtAEF+vv9A0sAEQRlzAUHLcu9AcgX7QA/Nw0C66ApBEFrpQCmxAEGe+v5AK9r8QCLPAkFeoQFBG+ELQRaS/EDZAfhA6kgBQUgl5EDplaRAj6DqQBgh+kDF0f5A8teNQJfcC0FP5wBBBUkAQf3F7kCrmPZAoMHxQLjK7EBLYApBDOT9QPQCqkBOif9AvX0BQXam1EDbt89AZuoKQToJBkGRV+xAtZvGQBpn0EDMztFAFK34QCDrDkEuKgtBH6ADQZg7EEFI9AFB3CD7QHDhykDRZQlBPP6vQPV61EC7bAdBtDvUQJWdrUD+LYJA0E/3QM6DBEG2ktVAOKIMQSeBC0G3jg9BmLPPQK2OCEFDdwBB7XT9QPHa10Bhs+lAYjD6QMNm8UB0mANBJX4AQb16+0DmKPBAXDoGQcWf/kDC5tVA/88NQZG8BEG0j9RA3dMEQRUS6kCabr5AcJv9QCpaAEFo6OBA0XPsQDRiDEH1/NZAKYb9QLaaA0HwU/xA2CvYQJZlBEHClpZAJ5QFQdxNDkFZNAJBSev5QOOH/0AwpPlA2o7tQLpC1UDzuA1BEAbwQAMLD0Gmd9JAglS9QLll/0CQPNRA/+EOQaxQ1UDGRgFB5C3MQH69C0GO+/tAvf7jQP8L10DlQg5BUrwBQVHsAEHK0QZBz0vyQDoFDUG4/glB7hQBQb+JEEGSLhFB+4oEQU9JA0G6u+pAShAJQUja/UAzEq5AnhYBQZ0p8EBgpgRBe5EEQfWIAEEFwfNAkQjFQAGi/kCPYwlB/JIRQWgg6kCR8dVAX9TvQPgLC0GRQtlAvkLcQIa7AEGKCuxAA0gOQaqICEFvndVAHJuWQHWSBEHpdb1AVl0LQRIWA0GPDAZBZMXFQE0o+UBiqfBAM+b8QGSqBUEexflA71n9QAli/UDtCttA+w3vQAlYzED39ddA1RbXQHhKBUFd/wVBijzgQJ131EBvYQJBZ+8BQeUNAEEq8t1A31H/QFUaEEFFYPFASWILQXPEDEECr+1ArDcOQRBb0kDYNwpBcMEDQeDZwUCNFgJBEhPZQDvQA0He7ORAgEUBQV0DBkEtrAJBeQADQTtq/ECQOQNBe+/jQPFgCUF/txBBOZPtQCQiw0AuzuRAYY/RQP+W9UCEr/xALfepQISn4kBqy9tAJDcQQdxB+0DKR+xA+HXPQHydqEBk6wZBCk72QJaTB0HkLgFBuS8AQVOMA0Hb+P9ARSYEQS2r1UAuPuRArbkEQf2m9kBCcgpBUYIBQUJ11UAGCNhA9iMKQe/0DEHANBBBlf33QGHWAEEj6v5AkOWwQNSq+0AOsPlAt9oLQel81ECbtu5Ac3zUQJ3xlUAeI/xA+X/7QKbV9kA7ag5Btc/5QPfE/kB5LwJB+oL/QJRBAEHhAAJBu2P7QHiM1kDHxw1BtkAAQURbwECADgVBKIb2QCYI+kC+oAVBTUjdQFOvCUE+GAZBsjQGQR8CBUEwJ+dA+gf9QMJED0H3GQJBDlIOQawLAUGqRQhBe7H5QId+6UCiLtdA1JQNQS8s/kDR0wtBwJoEQZg2A0FWZwFB1abNQPnK+UC/tghBI28MQVtn1kDkxv9AxRUCQaWJ+kArmARBW03+QL5mBUE1uwFBvoQCQQ0K/EBxSAxBEOH8QCYIC0HxOvRAIyUDQWol9UDDOA1BFqv7QKzNDkFodpRAmVXUQAFnAUE8RgZBNnfRQO3H/UB1/fFA6UsRQU721EBFZ/JApW4JQU9TB0Ec7ARBQ2wQQbYBwUA4x8FAD6sCQfwm/UCcaAtBMXQJQSXR+EAraQ5BrfAFQVLl0ED6TgtBMwgMQbrJ/0ADvABBt04LQSltBUFhFAVB78IPQUolAEE+exFB/NLUQEMO/UCmJtFAr5IBQezHCEGSagBB1Yb9QIQ4A0HgI85Ae4v/QPlj/kDmyeBAWqTcQPjr00CMc+FAXGDkQMWZ/UBakv1ARLUKQblhjUDKBQ9BTB0LQbQY20AhdwFBSW4CQe+xEEGLv65AVFa/QAMTAEE9lv9ABDHuQBAtC0HSAK5AgOv0QHXMDEHDANdA47GgQGMEAkG5KwFBodv0QPSD/0AzYf1Ay84NQZwU20DWwvZArHXPQG/qBUGT1e5AdhX/QEJ7CkGCUtZAKsrtQH4PCkFa5wxBMWgMQRzTr0Br2QJBGpyWQMQtAUHD2Q1BF2MGQbvNCUGc8ftASrwEQXlTAEGt6QFB1cyMQEf08UCknepAUzXqQMIJ3kBXM95AZrbOQDrBAkFRqxBBBr0GQdXWl0AlCAtBL8kAQc6TBEHxkP5A8joLQTppBEHBnP9Au9DPQIdR10AzuvZAJvsCQa1rz0AssQBBQibxQK2bz0DIzxFBbJkDQYDJ6kBa4wRBMfz1QEOqAUGwWuxAQa8JQRu510AXKr5AYIECQVZZBUEnUApB4Ff+QOhu1EBlqf9AgLMAQe2U2ECljxBB9bD5QA8D/UCzfcFAg2cDQav2CEHJEr5ACIIKQWkj00DkG9RASAMMQXdKA0H/QdFAyK3RQDF8CEHtpwNBa3EDQVDL0EBKOPtANBgGQcLt0EB71L5AGPbsQG+x7UAukepAwCQCQU+92kA4oQFB5XPTQGmr7kAvTOtAwID/QPJ/7UA8FvhAD4SvQLXSAEFz47xAM9D7QF57B0GR1P1AOaL0QHshr0B6GMBA8RH6QFctD0FUMAFB+Cy7QB6MAUGi8vdAemABQSzk70BLu/NAQCn9QMfX7UAlA/dAA9gLQZTQ7UD1fMFAP4kAQV2hCUHnsfhAkDzUQEdLC0HMGgxB2uP9QN47u0D+ZwBBBVgMQZgeDEEqOgNBI6MFQSxJEUGQIwhBViL4QMTZAUGPigBBJNEBQWnFD0GYuA9BraEEQdbG+0AcsPhA/0ICQVHbBEHMYtFAWaYAQYuTr0DYwgBBkgcEQQ6L8UDWCthAOUC+QHjh+kDKUQtBx7MEQVRn10ANBQ5B5WMQQYrRC0HNCPBAY97GQBM2DEFJbaJAaBEDQXqTC0EsG+5AXGT2QKXZBEEw28JAdjgCQXCb4kBR3QBB9MHUQF6OAUEb9RBBE3uOQLeK8UCfcbpAj+oFQVqS+UCh0uVAsTUHQTii50AuKr9A0VYBQaf3BEGuEw1BX4ABQafDA0GdAQhBfOfTQJFUvkARQeJAKgHtQKtB6kBEXwJB7I0CQeev8UAjiOpAxI8MQfYgBUGkawFBtOr3QNvo+kCX4wJBKCMBQQt3AUG5N/xAK6EIQcW4AUFML9VAj3ENQX46EEGSmQdB+lb9QB5U7EC2fgNBfguiQCBD9kDkcwpBBUDVQFxFsEB0Is5A4g8PQfe5/kC5gwBBsXO1QJ/FC0HW2wtBA4nDQEUI20B8u/xACbzvQDJVA0FQzfVAVEEBQe6SA0HV9QJB4xAPQZjeEEHifPdAZsjuQLHQ90Cbse9AWD8KQWCc/UC/2vlAU/CSQPogDkEkaANB5FoEQeqBCkE/2L1AIUj+QBWj8EA7rgRBSEcGQekUCUEGK/5A/ZoKQZLTu0CaqtlAz03VQPh0v0DK3wJBNVgMQT9aAUGqOQZBJy0BQR/G9ECMpBFBkdMBQamuEEEWef5Au7rxQB3FAkHFSANB/V0EQWo69kBTkQlBxLbsQIxSAEGUvg5BUSkFQVp+BkFIfBFBrsj1QN7FBEFFHQlBRQvjQJ7TAUErWgVBU9/cQMFPz0DIW9VAeZj7QG4ODEEiLA5BvWgCQUgQ/EAxjrhAap8DQU5bBkHpPAFBk3MCQRGvv0DKHgVBSY8FQdvN+UBWCg9BaJj9QOmXDUHqLANBDwn8QL0vEUHV0wJBljX+QEl1C0EPFYJAGooPQbrTBEEWiQFBQdvbQLM9AEG1nwBBuRcFQYarCkFgHwBB2s/yQEajB0Ej+P9AsO0AQToTEEFwhP9ApDbyQKXNDkEfVA1BAvQLQWPFA0FqBdlAWqjvQFqiC0FXZQBB9YYDQQiIEEFLS/tAjKIFQQdn0EBaCtRAEybMQDQprUBRUQFBjsD4QOfV+kDqj9RAabOxQHCmDkHhhwRBArkCQfMIBkHsbNdAAbkOQfAo/UDTHPtAge78QIOT+UBAkQ5B6gUMQewNDkEVvwFBOnnPQAmHBEE3zQ5BpNnpQA==",
          "dtype": "f4"
         }
        },
        {
         "hoverinfo": "text",
         "marker": {
          "opacity": 0.5,
          "size": 5
         },
         "mode": "markers+text",
         "name": "1_the_and_of",
         "text": [
          "",
          "",
          "",
          "",
          "",
          "",
          "",
          "",
          "",
          "",
          "",
          "",
          "",
          "",
          "",
          "",
          "",
          "",
          "",
          "",
          "",
          "",
          "",
          "",
          "",
          "",
          "",
          "",
          "",
          "",
          "",
          "",
          "",
          "",
          "",
          "",
          "",
          "",
          "",
          "",
          "",
          "",
          "",
          "",
          "",
          "",
          "",
          "",
          "",
          "",
          "",
          "",
          "",
          "",
          "",
          "",
          "",
          "",
          "",
          "",
          "",
          "",
          "",
          "",
          "",
          "",
          "",
          "",
          "",
          "",
          "",
          "",
          "",
          "",
          "",
          "",
          "",
          "",
          "",
          "",
          "",
          "",
          "",
          "",
          "",
          "",
          "",
          "",
          "",
          "",
          "",
          "",
          "",
          "",
          "",
          "",
          "",
          "",
          "",
          "",
          "",
          "",
          "",
          "",
          "",
          "",
          "",
          "",
          "",
          "",
          "",
          "",
          "",
          "",
          "",
          "",
          "",
          "",
          "",
          "",
          "",
          "",
          "",
          "",
          "",
          "",
          "",
          "",
          "",
          "",
          "",
          "",
          "",
          "",
          "",
          "",
          "",
          "",
          "",
          "",
          "",
          "",
          "",
          "",
          "",
          "",
          "",
          "",
          "",
          "",
          "",
          "",
          "",
          "",
          "",
          "",
          "",
          "",
          "",
          "",
          "",
          "",
          "",
          "",
          "",
          "",
          "",
          "",
          "",
          "",
          "",
          "",
          "",
          "",
          "",
          "",
          "",
          "",
          "",
          "",
          "",
          "",
          "",
          "",
          "",
          "",
          "",
          "",
          "",
          "",
          "",
          "",
          "",
          "",
          "",
          "",
          "",
          "",
          "",
          "",
          "",
          "",
          "",
          "",
          "",
          "",
          "",
          "",
          "",
          "",
          "",
          "",
          "",
          "",
          "",
          "",
          "",
          "",
          "",
          "",
          "",
          "",
          "",
          "",
          "",
          "",
          "",
          "",
          "",
          "",
          "",
          "",
          "",
          "",
          "",
          "",
          "",
          "",
          "",
          "",
          "",
          "",
          "",
          "",
          "",
          "",
          "",
          "",
          "",
          "",
          "",
          "",
          "",
          "",
          "",
          "",
          "",
          "",
          "",
          "",
          "",
          "",
          "",
          "",
          "",
          "",
          "",
          "",
          "",
          "",
          "",
          "",
          "",
          "",
          "",
          "",
          "",
          "",
          "",
          "",
          "",
          "",
          "",
          "",
          "",
          "",
          "",
          "",
          "",
          "",
          "",
          "",
          "",
          "",
          "",
          "",
          "",
          "",
          "",
          "",
          "",
          "",
          "",
          "",
          "",
          "",
          "",
          "",
          ""
         ],
         "textfont": {
          "size": 12
         },
         "type": "scattergl",
         "x": {
          "bdata": "dBTHQIWXxECG38NALvSwQFak50DQBuZA6FbLQBvv60AZcOhALgvfQKYN2UCfWghB15u5QD12vUBsfrNAKST2QMVDuUBUBbFAF3bHQGjBD0FI9cpANDgKQfJ27kDgsNdAQrPeQISns0DZCNBA6xa0QNnMxUC0fLNA7AaoQPbw+UBtiAxBdNnFQP5vxEBCjbVAHvyzQBuYxUDDoRBBEQfHQAb46EAn/e5AFevmQMpr3kAKXN5AzcuvQA2y2kBO2sRAnG/oQHXq6kBso8NAB9TtQAQTsUAeq9hAJDHAQHu/zkCft+dAxyngQH+bvUBYN+BAjPvAQBhz40CtGL1AWuveQG/73EAsd/RAB0UaQTL7tUDCb8FANS/oQMMg6UDw+cpAvCLhQJt/uUCaSOdAGbboQIDg20ASWcdAserCQNcn7ECG79dA8i3kQH9VvEAuAfZAF1rEQKWK6EAqgOdAdN65QE2EvEAqw7dACb3LQMrCp0BQ5bFAjnSwQNwKzEDvjqdA1lncQNH810Cd0tNAzIDYQCH/3kC54LRA1cG7QLXM4UBGfuFARl7pQGfM7EAJi+pAi9LAQD3750AdB9VAeiS/QDfPx0Dj5LRAnWL6QJ8LsUDdUPlA6Cz6QF6S00Azk/FAY4LeQLtus0C6KcNAbtMWQXkE3UAy49RA5JCtQAZaBEHpPQhBIyvaQArC2ECNKL9ASpu0QATj3kDYLOZAa+DfQOq+3kBnmL9AUUsKQfsb1UCHXOFAXm25QCvWtEBU8sdAHIKsQAp63kBXfblANGa4QBastEBajshABFL8QKFptUAzyMdAr+LLQBd3tkCvmdlARHm8QA6vp0DeqcRAEcWzQLl160B4sKxAdhy5QG1Ws0AtKcRA7Z6nQMQI60At5+hAHk7oQDazwUA8rflA0uT5QNU74UCvrNlAVEKzQDyl20Anu+RAdom9QD1wuUCIVcRAd1UAQQZKqkDz4N5Aj17IQE9+uUByvN5AMp6zQE+tvEB5DMhALijIQH3fvEBRra1AILC5QD6y2UBvA8hARU3GQAGn5kDtT+dAEpq/QDEg+kDr2NNAlW+sQEK1skCFgetAA4mzQB1o3UAPKu1AeZOnQCsY3kB/S+1AVyC7QKK4/EBfA6hAhqW+QNOqrEBnS6dA0zvfQK4b90AC3KdAmd7YQPNbtEBuJaxASIPYQNre6UAyqctA8Ta0QEkM8UDcHc5AE4j4QGMk6kCX8+dAaw63QMpny0AWJOtAvmLpQM/3/0Dkc7NAPe/IQKvptED8iuRAS58AQezpE0Fu4NlA/86zQEwqskAOludAYTW4QIpH6UBtM8NAfsbDQG1b6EAGG9lAolKpQBYJyEBCOrRA6cDHQIgSskDp/9dAsTXtQC9GtEAvGehAkRbpQEWtvEDb5PtAbXnjQKQpukCck7FAGMHHQFc41kA/DudAyC3WQJwE6ECFXQBBvry5QEbeuEATEOhAOor4QGWiwkAEkfpA2F32QM2vx0BpistA2ta1QISotEDoEepAxAbeQB1P1EAjF8RA8KizQGnNxECAX8NAgietQOQQx0Dz1cZAWVbeQKby6EApoeNApAPAQK6c2UCmONdAt/vpQB4B6kDS4chAPt8LQZ3u2UBpWsZAyf+xQDWesEB2GrpA",
          "dtype": "f4"
         },
         "y": {
          "bdata": "kxgFQeFX/EAapfpAb+8CQXhbDUFcjAZBNh/4QBPwAEG+QwFBhQoMQbP/C0EyeQhB6ugKQVxpCEH3fwdBOfoEQWAtC0HByQJBMPgIQXp5vEAloQdBAXifQFu3BkHa8AlBfwsNQVJ/B0E+nfdA8fAFQbjVBUFn6QNBfe/cQEyUBEHc37RAvuYIQfBq+kAnLgJBaU4EQXGmBEFmq71ACizqQJP1B0GG+ANBe8EHQW6fC0Fr5NNACkYCQfZwC0Fc9ARB25kNQaPbB0FurPpARwMKQZYSA0Fs4QtBain6QPgP+UCACg1BxDwGQcClCEEf1gtBZoEAQYhTCkFNqwhBlGoNQfykDEHu3QRBxKvQQJwPAkGUTAJBhE8NQQvgAUE1OvtAfVcKQTjWCkGTPw1BTrkJQVIXBkECE/pA77j7QNH0CUEIvAtBnfACQQa+B0FEMQVBlj36QFuK/kAPcQ1B9s33QP/hB0GU8QFBqfcHQWYoAEGNiAFBh6kCQcYnBUEpAABBQ0EKQX6BDEEmKAhB3OcFQVMlDUEV5wJBiSEIQf9sA0Ht5gtBulAFQQnRAUHhiAJB9SUJQRYHDUHPtAhBY2z/QPBI+UCQ4wJBj4cCQfh1AkGqgapAxgABQUr/B0F2uARBM7kNQdiwBkGwk/tAO4bVQHbECkH5oQZBtTwAQd+3o0Aoj7BAfD8MQW0UC0FloAhBv7QGQTo4DUEVSwxBcyMJQcFQDUG2XvBAg86gQLVBCEHY1AtBdPAKQWfHAkFyJwRB5Mn/QEAsDEHN2wpB5wcJQSSyAkGwkQNBdMP4QKShAkG+vAhBPfMHQaUDB0EgowxBxVkAQVrj/0D44wRBWhsEQZM0CEH8KgBBZiILQfUTA0HGHPpAXhEAQW0zCEHObQNB4yINQW6LAUENxwBBgjEAQVIWDUF3VgxBLHAEQRKDCkHpCgRB6q0IQXonCEGue/pAQ4UEQcB7AEEySQ1BpxcDQesDC0EltANB6F0HQXnhAkGk2QNB98wDQb0HCkEePAFBKKsKQbjWC0GH0gNBKsv4QLSJ/kAkqgZBlOn8QN6OAEGQXApBWrH/QFJWBEHPfQNBpaYFQQXQDEFUPABB5cT/QIGhC0FxOghBCMb/QOST/kCLBwBB2poIQVAjAEGxyttAhwMNQSMdBUGfft1Ao/gLQbQAA0H35P9AuZYKQaH+AkEUYQhByZgGQfgABUGCyfhATNwAQQZKA0HV7QtBNLvhQOghCUFqgAJB52v+QPzJA0HZTQdBfDoEQaYpB0ENgw1BN4oDQafHskB7kQtBcsQDQfXDA0Gt7QNBARUIQbmgBEHiTv1A1H0BQY08B0G2CAxBz8beQE4r+UCSxgZBAD76QKOGA0FBVwlBM2QEQe5RA0HMUAVBl/YAQX47CUHurwBBdS0MQR1vCkHp7AJBme8IQU6nCEHrBwxBnoEKQfmVCUGpFQNBnhABQeblCkHnpARBATgBQYxl+UBR5ABB9CYFQYei6UBIIPxA7/EBQaLlBEFyjQRB0EQNQTrRCkFHwAFBHFAHQQIm+kDOi/pAcbsBQdWCCEGDUAVBZWQMQazyBkGYHgxBccYIQcFkB0Gf8AhB7boMQVFPCEGvg/pAbRe8QOaHDEGOrvlAMOIDQfd8AkFhHwdB",
          "dtype": "f4"
         }
        },
        {
         "hoverinfo": "text",
         "marker": {
          "opacity": 0.5,
          "size": 5
         },
         "mode": "markers+text",
         "name": "2_and_the_of",
         "text": [
          "",
          "",
          "",
          "",
          "",
          "",
          "",
          "",
          "",
          "",
          "",
          "",
          "",
          "",
          "",
          "",
          "",
          "",
          "",
          "",
          "",
          "",
          "",
          "",
          "",
          "",
          "",
          "",
          "",
          "",
          "",
          "",
          "",
          "",
          "",
          "",
          "",
          "",
          "",
          "",
          "",
          "",
          "",
          "",
          "",
          "",
          "",
          "",
          "",
          "",
          "",
          "",
          "",
          "",
          "",
          "",
          "",
          "",
          "",
          "",
          "",
          "",
          "",
          "",
          "",
          "",
          "",
          "",
          "",
          "",
          "",
          "",
          "",
          "",
          "",
          "",
          "",
          "",
          "",
          "",
          "",
          "",
          "",
          "",
          "",
          "",
          "",
          "",
          "",
          "",
          "",
          "",
          "",
          "",
          "",
          "",
          "",
          "",
          "",
          "",
          "",
          "",
          "",
          "",
          "",
          "",
          "",
          "",
          "",
          "",
          "",
          "",
          "",
          "",
          "",
          "",
          "",
          "",
          "",
          "",
          "",
          "",
          "",
          "",
          "",
          "",
          "",
          "",
          "",
          "",
          "",
          "",
          "",
          "",
          "",
          "",
          "",
          "",
          "",
          "",
          "",
          "",
          "",
          "",
          "",
          "",
          "",
          "",
          "",
          "",
          "",
          "",
          "",
          "",
          "",
          "",
          "",
          "",
          "",
          "",
          "",
          "",
          "",
          "",
          "",
          "",
          "",
          "",
          "",
          "",
          "",
          "",
          "",
          "",
          "",
          "",
          "",
          "",
          "",
          "",
          "",
          "",
          "",
          "",
          "",
          "",
          "",
          "",
          "",
          "",
          "",
          "",
          "",
          "",
          "",
          "",
          "",
          "",
          "",
          "",
          "",
          "",
          "",
          "",
          "",
          "",
          "",
          "",
          "",
          "",
          "",
          "",
          "",
          "",
          "",
          "",
          "",
          "",
          "",
          "",
          "",
          "",
          "",
          "",
          "",
          "",
          "",
          "",
          "",
          "",
          "",
          "",
          "",
          "",
          "",
          "",
          "",
          "",
          "",
          "",
          "",
          "",
          "",
          "",
          "",
          "",
          "",
          "",
          "",
          "",
          "",
          "",
          "",
          "",
          "",
          "",
          "",
          "",
          "",
          "",
          "",
          "",
          "",
          "",
          "",
          "",
          "",
          "",
          "",
          "",
          "",
          "",
          "",
          "",
          "",
          "",
          "",
          "",
          "",
          "",
          "",
          "",
          "",
          "",
          "",
          "",
          "",
          "",
          "",
          "",
          "",
          "",
          "",
          "",
          "",
          "",
          "",
          "",
          "",
          "",
          ""
         ],
         "textfont": {
          "size": 12
         },
         "type": "scattergl",
         "x": {
          "bdata": "dlDYQCB1uUDRlglBaGjQQFlWxEDU/rtATVq6QFoq1EA5lb9AJAG8QI/V30Cm77tAFGHQQOVG10DwwrhAD5ALQYh/xkCXEb5AbNu7QPLKwkAvrsZAhi/PQLvf2EBkPttADaXVQPsHukAJYslA8Z7FQC3W6UCBisJAnuLEQOvCvUDCicJADnnjQMIcvECH/rtAnYfGQF0svUDlzMdAXwTrQCTJpkCtqNZA5VvhQEw9xEDlH9VA/QnHQMneAkGq++tA2mG+QE8qy0AgvtpAIz64QK4WzUBwmf5ArjW6QFpXyEBYX8lAXzG3QNCUtkDcob1Ad4vJQFSpuEA0s8RAwj/SQP+XtUB/5f5APlLKQNt5+kDnL8hAVG/ZQBR7u0Aovv9ALkvLQCuI2ECHHv5ABVP4QPwet0Dhq8tAq/q6QMHR+0CU0dxAK07JQNZ8p0C6AddAnYCnQLqSt0CccwdBMqXIQPXguUDAEcVA0ob/QO+p2EADo9hAtyq8QOzgukC+l7lAZcy4QIEC/0ARp8hAcZDIQOkf1ECBcd9A8JvGQFnj0UBo/ddApGEIQazZ1kCjSANBesPrQFrluECfucVAYYTEQHLxu0B6TvdA5KPgQHz5v0CyIgVBho3PQKbNxUBL4rhAmVS9QE06BEFiwtNAfqm7QHe+x0CCHclAvmu+QG2nxUBhfrVA5UunQM0iAEG+6LtAx2+9QMZ6uEAXJsVAL066QFqG1UAtnbpAUB3cQBiEtUA7y8dAINvHQBlZzkApzd5A0HHHQACb/kB9bsVAYg4JQSGZykAZuv5AICvIQO3y2kAUg8dANrXVQAif2kDr8MRAgpDGQIZyv0AW97pAdvizQJ1Jt0DIweFAoPO4QLMwHEFZhsdA/RXYQLIpAkHMQspAACfGQNVe0EB6athA+DS4QIwY8kA1nQdBGcPXQFi9tkBt9bNAhhW/QDJZ20AB/MhAzDHHQCgby0A4BrZAWtHqQEVIxkCxSc9AD9vUQOgWuUBucrlASyIHQRW7pkD988ZAQJa8QLGpyEDbs7xAMzbHQD7vukD1icVAUiC6QEhqyEBSkNRAWuG4QLU4wEBtiQdB5goFQSCL2ECeHdtA44O2QJPGy0DvUONARcD+QNGP3UBbOMdAJJnIQBaVykA0SslAWlanQOEl5ECpY7lAJSnHQDo8EEE9l8pAOs3XQOMP20Cpg6dABEPdQHqsykDh8KZAdmH+QE52ykAP9clAKhwDQYUtukDi671AsmruQCkXuEAaO7hA+IfEQEWiuEANUrpAGRgDQVOXxUBaLsxAXWD5QGdQy0A1gcVAJ+UPQadVAkGprrdAiBq7QInLuUCzZ+NA9tnoQL+3t0DVx7hAc3exQLBKBkGsRLtAGPW6QCJ47UBa7cFAUZu4QFW8/UDIsMVAiCK4QO+FykCTi7hAjWrVQPRL3UCIprtAcWy/QKy/30C4x7xAxFXqQP2DxUBpXbtAUJsBQXaX/0DJMtlA8YTNQAt4CEGtuPtAvWC8QI2D2EAJrLVAkAG3QC3i/kBHmwBBrBO8QB1YvECBLs9A5JfBQOu0uEB7V7ZAHp29QOYTtkBu6tRAjFnWQOHUtkADzddAYITHQA==",
          "dtype": "f4"
         },
         "y": {
          "bdata": "9Ru2QK8Bm0A0X7pAjIf3QESvnkA9/8ZAQLGcQCAEuUCqNZ1Am6+fQC4qz0DtwphATNidQCQDtECrqJhAIOmLQKdUv0AWkZtAdc6ZQHvwmkByk5dAxCi2QOQ1tkAtH7lA9Z6dQP8/n0DVqZhAz3bCQH9kmkCN6Z5AYWqfQPRqtkBCAZlAPNzRQBthnUBWcrlAfsmdQKz9qEAVGp5AQ9OZQGAs1kAb/rFAXo3PQHCxrEBxsqlALMGeQEoCoUDNnJpALw6tQCtnoUBls59ARfuaQB3inEDniYNAxqWsQJhHnkCazMBALqufQOAooUBi45xAXqPUQNfzmUBTpZZAt5idQOLQoEB0fpFA0N+kQLzjx0AatqRAnPOfQIXIm0BiroNAt0W5QMP8nkAf4oNAl+uWQLjToECNi5tAHXecQOQ7sEBWQZ1AJye+QGtC10AZ5bVAGE/XQE2tmUAO9YFAc9OgQMOxo0C9GalAGUaDQBFOtkAXvbZABf6cQH9SnEDw/apA48SZQJ0kg0BYacFAPMalQDG3uEAWgZtAKLKdQN0jnkARJ7VATxGQQP0Ao0D4Z6VAAYSZQP+UmkBPnpZA2u+pQMP5m0BbitVATpvBQND3nEAMPqBAITW8QK4JvECbj+VAkMmcQGMHn0CixrhA6knbQFQexECF9bdAH/GdQCmnqEAfcaFAaTnXQC/lkkB/Rp1Aio2aQJ5gnEBS0sJAK6zZQKxitkC98Z5AiiyfQBl64kArbZxAiCnGQF/lsUAElp1AQMegQPqOgkAEtqhAuQeeQAbVnkCraI5ApkWeQE5WoEAo+55AGOOdQGpNnkDT08JAHo7CQIASnUAAY55AhX7LQEi7oECb961ASmejQBbj1UC5QZ1AMxO2QOCBhUBdQbdAoj6sQNvhukCFg6FAKzOeQLoir0BYq4FATf60QLiOn0AoBrRA7e+oQAaAnED7XJ9AUJucQORXt0DQz6BA3HiZQO7Zl0CJhJ5AzASeQPaFmkBSGplAcfqBQDFI1UAGp55AS0GcQHuMnECJEJxAdRanQE73m0C4vcFA6+qeQNc0xEAtRqNA3cjtQGJAoUDysoFAREiCQHhpoUCM6p9AlZ6gQHAmvkCH45lAM2aEQE9rnEBOPKRA7dC/QB7Kn0D7955A/NrWQLQemkAR3q1ACiaeQEjSmEBGpcBAzV6hQKhPn0ATv9NAQxy/QFjeokCEuv1AkfGNQE0lt0CZ3bpAcwOhQGlorECrkqFA2fadQPKrnkCOY5tApiGeQArnmUCgPqxA5AKJQM4bqUC6IPhABbeoQLsBmUA7EsFAdGC3QLBxiUDgcJlAHiimQA06m0AD5tFA2GnRQORYmUAw0ZpAFti2QNRvgkC9SZ5AMciaQP9+q0DxaaZAfsiaQMV8+0DQN8JA062ZQPYrt0C8h5hAA/3AQCpMnUAlQpxACkCYQNc4nEBgk5xA2QSZQJ+QrUDiaZxA+WqEQLNWn0DNBbdAOmO2QFR6rEB2qddA08WcQCUAtkAdBqFADHjhQD6RkkC0Fp5A6PnfQC6UmEDncLFAJceYQPwTmEBko6BAa1ixQE86oUANQ6dAcHuvQLVXoEA7+LVAQki/QA==",
          "dtype": "f4"
         }
        },
        {
         "hoverinfo": "text",
         "marker": {
          "opacity": 0.5,
          "size": 5
         },
         "mode": "markers+text",
         "name": "3_the_and_of",
         "text": [
          "",
          "",
          "",
          "",
          "",
          "",
          "",
          "",
          "",
          "",
          "",
          "",
          "",
          "",
          "",
          "",
          "",
          "",
          "",
          "",
          "",
          "",
          "",
          "",
          "",
          "",
          "",
          "",
          "",
          "",
          "",
          "",
          "",
          "",
          "",
          "",
          "",
          "",
          "",
          "",
          "",
          "",
          "",
          "",
          "",
          "",
          "",
          "",
          "",
          "",
          "",
          "",
          "",
          "",
          "",
          "",
          "",
          "",
          "",
          "",
          "",
          "",
          "",
          "",
          "",
          "",
          "",
          "",
          "",
          "",
          "",
          "",
          "",
          "",
          "",
          "",
          "",
          "",
          "",
          "",
          "",
          "",
          "",
          "",
          "",
          "",
          "",
          "",
          "",
          "",
          "",
          "",
          "",
          "",
          "",
          "",
          "",
          "",
          "",
          "",
          "",
          "",
          "",
          "",
          "",
          "",
          "",
          "",
          "",
          "",
          "",
          "",
          "",
          "",
          "",
          "",
          "",
          "",
          "",
          "",
          "",
          "",
          "",
          "",
          "",
          "",
          "",
          "",
          "",
          "",
          "",
          "",
          "",
          "",
          "",
          "",
          "",
          "",
          "",
          "",
          "",
          "",
          "",
          "",
          "",
          "",
          "",
          "",
          "",
          "",
          "",
          "",
          "",
          "",
          "",
          "",
          "",
          "",
          "",
          "",
          "",
          "",
          "",
          "",
          "",
          "",
          "",
          "",
          "",
          "",
          "",
          "",
          "",
          "",
          "",
          "",
          "",
          "",
          "",
          "",
          "",
          "",
          "",
          "",
          "",
          "",
          "",
          "",
          "",
          "",
          "",
          "",
          "",
          "",
          "",
          "",
          "",
          "",
          "",
          "",
          "",
          "",
          "",
          "",
          "",
          "",
          "",
          "",
          "",
          "",
          "",
          "",
          "",
          "",
          "",
          "",
          "",
          "",
          "",
          "",
          "",
          "",
          "",
          "",
          "",
          "",
          "",
          "",
          "",
          "",
          "",
          "",
          "",
          "",
          "",
          "",
          "",
          "",
          "",
          "",
          "",
          "",
          "",
          "",
          "",
          "",
          "",
          "",
          "",
          "",
          "",
          "",
          "",
          "",
          "",
          "",
          "",
          "",
          "",
          "",
          "",
          "",
          "",
          "",
          "",
          "",
          "",
          "",
          "",
          "",
          "",
          "",
          "",
          "",
          "",
          "",
          "",
          "",
          "",
          "",
          "",
          "",
          "",
          "",
          "",
          "",
          "",
          "",
          "",
          "",
          "",
          "",
          ""
         ],
         "textfont": {
          "size": 12
         },
         "type": "scattergl",
         "x": {
          "bdata": "mPoLQY03DUH1rgtBGTQJQVapC0HhyQlBIQsKQW+CC0EdQAxBxIILQbC7E0HiPwVBHWMPQSG9D0FnfshA2V0IQXUVBUFO0gxB5IQJQQ8+DkGGZPVAojoNQWebDEECzQ1BSq8EQdIaBkGPPw1BIePRQEzBCUHujg1B0eMJQR/XC0FI4vNA2ocHQRzrCEE6ZhNBVqYJQVYb+kAWWAxBjHkLQSsJCEGk0gxBTS4WQWcLBkHCAw9Bj4QRQfIVGEGDJAhBbBAPQeUTBEFMGQxB31cPQSz69UDTLwlBUZv7QEua+kCe6wxBskb6QMeUDEEZmvJA0twMQddPCkG4nQdB5C8LQYxCEkHhm/1AolsIQS5HCUEV6wxBM+sJQWNA+kB+5QtB+3gLQTiKCUGCLBBBnxUPQVzPC0EqBgZBE8sOQTwGDUEQeBFBmXYBQdlGCEFA0gtBTCMKQbcRDkF8VAtB2CwJQTm2DEErOwpB4GQMQYh1DUHm6w9BuckLQe5GCUGgcAxBErvoQCILD0GGHQtBiE8LQS/yBEGFFQ5BZNcOQZr5DUHzTQtBNKj9QFOC1ECrMwpB9/oPQVUNDUHfCgpB7yoMQb0zBEGGIghBSzULQab9DkFnyARBH5kLQbKEDkF22uFADNgKQWKyCUEZ7gJB2toNQQSBAkGmIgtBlqMIQdvoBEEQZg9B8tkJQeJpCkHg3QtBTBwMQb3FDEGoYglBygAJQXiCCkFtMAxBNTsLQR3z+EDtAQ5Bm9UKQZPjDEFTthBBquAKQcvfCkG0qQhBnCULQUIZ7UAwUg9BnK8KQbIbFUHZ0w1BoiMGQXpM9kAXhw5BDIgMQSD8CEHeLwlBRfELQdk5DUFiggdBV5wLQZ+kB0F1OglBltkPQVBt60Ao9wtBiUABQcfuDUGxhwJBRWEJQQcUC0FPBQtBi20OQfXLCUG/SQhBOn0OQccgCEE1fQ1Bg4bpQEyG5EDIAgVBg0sSQa9UEUHwIgxBPKf6QKaJBkE/9wtBtzQPQQ6KA0G+qwhB+poNQc3JEkGVoAxB9IUFQZ1ZD0Es1gxB2CgKQfe7DEEcSAVB3F4MQZulB0GpVQVBr2oKQSW0DEHg6QpB13YKQdzwCEGLJg5BVJnJQBfyDUGnZgdBxo8IQWrhDkEhQw9B4OUJQVubCUEs6Q5B7g4FQfMDCUHReARBRWMOQSeR/ECiVA5BIZALQbllDEF9SQpBrGgOQSNv70CS5ulA8XcPQaYeC0EIfQxBlw0SQaUEp0DhcABBgigSQZ9ZCEFjwvVAlzgJQfALDEHcHA9B6BEQQTLCCUGucQxBZUoSQZ2UCEE20wlB2jYOQelPDEGuYwhBq2oKQbBOCUGFDw1Bg9ENQUu56EBCewlBd+MLQTfpDEFBCN9AC5ILQfP6DEFOMQ1Bpv8JQa8oDkE7XgtBNhEPQTpJCkHAMwxBoGkOQVO8DUGpnwtBR5cFQbteC0HvVg1BuykIQVLvCUHFXghBWVvRQE38DEFnqw9BVA0IQRkmDEGKHApBk/DWQHgV6UA9iQhBCVkLQZ23B0EpPg5B014JQZ36BkE=",
          "dtype": "f4"
         },
         "y": {
          "bdata": "S1nMQANrw0D998pA4eTCQLrsvkDtfOVAOczfQGafwUAFjNFAE/DZQMSHzkCAa9hAZCm/QBXuukCM7/pAPUXpQNBYo0B0wc5AFDyRQB95v0Ah4bZA353OQIOzy0CzeMxA43cNQYpMDkEtWM9A/7f2QBfwuUA7gZhAgCy9QKWezUDpHNFAJXzjQElEw0AppaVArMiPQLq/1kDx7c1AZX/cQFUR6UCPxJtAfOrGQEgj7EBdM7xAJDziQO3U1EA2SuZA2+G/QI98k0BEib5ATHviQPeTy0A+3+ZAygPMQMOLzEAYd8VARyHLQNsxw0DXeONAQhzLQIQOzkCluoFAC9jcQPwm7EAgZrNAUQ2uQAc830BMkudAlzWfQNypykAk0r1A4r+9QOFW5kDLwbFADQDBQEL2zUB4WIdAFSnEQIOmuUDBwJlASQjkQMBC5kDZOs5Atu+8QJ3BwUCnP9dAKMXiQAeQz0BPCrdA2Q7MQH6nuUDl46RAGP3NQEBm30ArT85AorPRQAF1j0DaecxAPGzJQOOSn0BjO75AFSzGQD+RyUDHAsBAxhiWQOEtxUAsp+hAv4rwQJ6sz0D/HtFAkxHMQPTG8EDTNe5AeT7AQEvYoEBksadAfozZQKotxEDAQ81AnIzOQCJm3kAJXpVASCPGQDCr5UBzTM9AR6WDQIjFokBUNsFA53a+QDJEv0CPqcxAexKhQLvzzED4weFAZQSEQHx2zkAc2M1AsI3BQJSq3kDwi8dAZTzQQKMQz0D9gc5AS+zfQLYWvkD6/ehA6E7PQPhh0ECWgMBAIZnkQKAWr0DGQL5Ao0jBQDeCy0D7WcRALp3OQDsC5ECwW+ZAc2PLQJTOzUBp25JAjEbRQK7H6EDp5eRApmPvQK7mCUEKk81AQ5vjQL5ymEDXM7BA95DmQC3w0UBVy7tAP6vIQGoswkBRKOZAGgrSQJY/70Cc/L1AJmDQQKW00kDeoddAmEzmQBP350BArslA6FTXQH9L7kDSEuVAJEW9QH3zkUAehO9ArM3BQK5b7EBzTc1AB+iXQDFNvUCx9vFAHPu9QKwZzkBzBe9AvPLKQHvKgkBiw6RAsXbnQMqUzEDCZ71APgO/QKNn5UDYJsBA5N75QFEX3UDqk+dA5iC7QM5IvUAkr75AQwuNQHjY60AOYLtAi3fvQJ0y50AKYaNAepXnQCaqx0ASycFAclvmQIwfzED8881AaR2+QDF8xUDOzspAD+u5QI+e6UDo389AP4G3QBi210DxwJJAitDkQCe65EC/zLZAeqDeQILjr0BaQ8BAljvoQPi+j0An1Z9Ag+rpQEMd5ECQq+xAaHrBQKNnzkC9M+5AzcHtQG2fuEA3b9BAzZvLQOBKxUAsh+VAQt/AQDSjxEDMwc5AcqfNQK7ezkD1Us9AkrW9QCXxwkB6gM5AOY7AQDP/vEBwrsxAY/67QA5Rw0CoGp5A0TiPQGBRwUD6wcRAyb3jQK2SwUBBseZALIr3QFVZz0BviPJAVP7kQE9HyEB8XL1A1I/FQM7B0EDegrBAwgLIQMZ0jUBRZclAKAPmQB1fkEA=",
          "dtype": "f4"
         }
        },
        {
         "hoverinfo": "text",
         "marker": {
          "opacity": 0.5,
          "size": 5
         },
         "mode": "markers+text",
         "name": "4_the_of_in",
         "text": [
          "",
          "",
          "",
          "",
          "",
          "",
          "",
          "",
          "",
          "",
          "",
          "",
          "",
          "",
          "",
          "",
          "",
          "",
          "",
          "",
          "",
          "",
          "",
          "",
          "",
          "",
          "",
          "",
          "",
          "",
          "",
          "",
          "",
          "",
          "",
          "",
          "",
          "",
          "",
          "",
          "",
          "",
          "",
          "",
          "",
          "",
          "",
          "",
          "",
          "",
          "",
          "",
          "",
          "",
          "",
          "",
          "",
          "",
          "",
          "",
          "",
          "",
          "",
          "",
          "",
          "",
          "",
          "",
          "",
          "",
          "",
          "",
          "",
          "",
          "",
          "",
          "",
          "",
          "",
          "",
          "",
          "",
          "",
          "",
          "",
          "",
          "",
          "",
          "",
          "",
          "",
          "",
          "",
          "",
          "",
          "",
          "",
          "",
          "",
          "",
          "",
          "",
          "",
          "",
          "",
          "",
          "",
          "",
          "",
          "",
          "",
          "",
          "",
          "",
          "",
          "",
          "",
          "",
          "",
          "",
          "",
          "",
          "",
          "",
          "",
          "",
          "",
          "",
          "",
          "",
          "",
          "",
          "",
          "",
          "",
          "",
          "",
          "",
          "",
          "",
          "",
          "",
          "",
          "",
          "",
          "",
          "",
          "",
          "",
          "",
          "",
          "",
          "",
          "",
          "",
          "",
          "",
          "",
          "",
          "",
          "",
          "",
          "",
          "",
          "",
          "",
          "",
          "",
          "",
          "",
          "",
          "",
          "",
          "",
          "",
          "",
          "",
          "",
          "",
          "",
          "",
          "",
          "",
          "",
          "",
          "",
          "",
          "",
          "",
          "",
          "",
          "",
          "",
          ""
         ],
         "textfont": {
          "size": 12
         },
         "type": "scattergl",
         "x": {
          "bdata": "0fcTQaFlEUE/cA9BaDITQULoG0HVhRFBar0QQeWdGkGVlxpBh+gTQQDBEEEwIPVAJhQTQRJMFEHhQxVBaKkYQbGxFkEykhZBODYUQUWDHEEm2xhBJcAVQW3PFEF0J/5AiOQGQTSKGkEizRBBaIQWQQXvFkHQexNBDPsaQUSeEUG9eBlBEvsYQfEPEEFtxRVB9Q4UQc7LF0GAOxZBJKMaQQ99EEGuIRlB6W4XQaslF0FpKxdBHKscQR2qEEEqeRdBybQbQWQuGUGdt/xAt5sSQVEj/UCizRlBjp8WQU1KEEF4uhZB6ZMaQROlGUEl0RVBvJEcQdOfFkEn/hdBGH0SQTeKGUF6rBpBNJLJQNAlGEHIGhFB8fMUQcgSEEHQdxNBRs0dQX0yEkEUohFBDRUSQeFlFkFTVxdBVZsaQQBkEkFgpRVBAdQbQYDCFkEXyxlBPEoYQS2FGEHNwxpBZJccQTGtHEFy7RlBLzkaQendEEEZfyFBIHQaQZnQD0EV5hdBjVgYQef9FUGX7AxBQGgaQYDHFUF5ChFBGsAXQVgHGkGvChhBt9wYQZceEkHrWBpBFuIYQfUEGkFYlBpB4qoZQYV1F0H7fhtBWssXQaqJEEExVRpBPXwTQc21GEGJwxFBtmobQc+tF0FMkhFBGbYWQZ9GD0FFrAZBnSgcQWwJHEEEnhVBFocVQe52F0HMGxNBSWYWQaDQF0ESrxVB67sXQWzyG0EV9xZB88gZQTqrF0GCdBlBdQ8SQbA5F0GxIBZB/dAYQQujD0FYIhVBG6AQQbnyE0G+LRhBaNwaQXtN40BBohhBxiESQfxKGkFKeBFBbpMaQTYKHEH01htB0pwbQU12FUEnoPFAxi8PQf4iF0GzCBxB2AADQfACG0E0MhhBqpEbQd0pF0GyMxpBATUPQU5LC0FHshVB2RL8QDcAGkGDkhxBSFUYQdfgF0HWBxFB7PDlQJ3rEUGNyBJBxJkcQZrzF0Et9hRBMJMYQZ2+E0GO6hlBgmQRQWEUHUH6whpBuIUVQZylF0E=",
          "dtype": "f4"
         },
         "y": {
          "bdata": "YC2qQBJmpEA7wpdACVqdQCubx0Bnlq9AC3KjQLLpvECauLxALYedQEgbrUBiMJpAgyOgQMGookByLK1A8KqxQEsRrUD4C69AgD+lQM19yUDzjbFA0L6tQI3vrUBSVJdAEAOKQK4NukDCPKRAf76vQOd0rED6YKhAAybMQEZcoEC5lLhAhaa2QO1lpkDpy7JAyTWqQDXZrkB93q1AYVzIQMIvvUDykrVAIf+sQNlBrEDV1qZAKPHLQOmjo0B/Ka9Ag8zKQIMjuEBYIZVAsT2lQNZhlkB1/rpAYkevQBwNjkB6B6ZATHHHQJYItkBiFq9A5ze+QPQ3q0BFFq9Atk+aQLgTuUBiAsVAmtHXQPm2sUDELqRA/eSjQJ3sokCSkp5A1Rz7QEmcpUCvv5pAHvOlQH8QqUBLUqdAg57JQAUym0Cd+a9AdmLLQKIMrkC8WbdAtMDFQPcJ1ECpfLxAQy3EQDpTyUDTfbZAeAvAQNb1o0DOgvFAYXW5QAHRokA8X69A6WCvQDGiqEDdU5RA4ebCQIeCpkB5JqRAt06tQP7kwUBh0a9ANhOzQCN5oEAEBsNA1i+wQOEcvkA4JLxAIIfNQDhkrEAp4L9ABkiuQEddo0CxNshAVpamQGBBzECisZxArB7DQAFnrUBy8aRAOK6lQHCIlUC2wopA8APAQLKAy0A+RahAUSWwQFUErUD6ZaVA/B2mQC+8rUAA07BArKStQJY+y0CnxK5AWU63QJ2PrUDrCcxAc8ihQPmVrUAmrqlAeRGzQI1FokCSwLFAbvisQPnnnEAOo69AvffMQMPm0UBhLbBAyAOlQLTduEBv759A2J64QO9Bx0DKLsdAFP3LQDAfqkAkd+NAezXwQJl/pkCJ9cVAAwcBQTvTu0CgcLFAhBi+QKnRpkCAFMFA/qmVQKIM2UC1fq1AcOeVQMzoy0Cgr8lAYverQBnWrUAdCI1A9gcEQY+XnEBhUadA19XKQD95rUDlrrFA/pyvQMvQoUCworhAzWGlQGSyxUBeK8tArCiwQF4GrUA=",
          "dtype": "f4"
         }
        },
        {
         "hoverinfo": "text",
         "marker": {
          "opacity": 0.5,
          "size": 5
         },
         "mode": "markers+text",
         "name": "5_food_and_the",
         "text": [
          "",
          "",
          "",
          "",
          "",
          "",
          "",
          "",
          "",
          "",
          "",
          "",
          "",
          "",
          "",
          "",
          "",
          "",
          "",
          "",
          "",
          "",
          "",
          "",
          "",
          "",
          "",
          "",
          "",
          "",
          "",
          "",
          "",
          "",
          "",
          "",
          "",
          "",
          "",
          "",
          "",
          "",
          "",
          "",
          "",
          "",
          "",
          "",
          "",
          "",
          "",
          "",
          "",
          "",
          "",
          "",
          "",
          "",
          "",
          "",
          "",
          "",
          "",
          "",
          "",
          "",
          "",
          "",
          "",
          "",
          "",
          "",
          "",
          "",
          "",
          "",
          "",
          "",
          "",
          "",
          "",
          "",
          "",
          "",
          "",
          "",
          "",
          "",
          "",
          "",
          "",
          "",
          "",
          "",
          "",
          "",
          "",
          "",
          "",
          "",
          "",
          "",
          "",
          "",
          "",
          "",
          "",
          "",
          "",
          "",
          "",
          "",
          "",
          "",
          "",
          "",
          "",
          "",
          "",
          "",
          "",
          "",
          "",
          "",
          "",
          "",
          ""
         ],
         "textfont": {
          "size": 12
         },
         "type": "scattergl",
         "x": {
          "bdata": "BN62QOXys0DKPaxAEbezQCgFtEBHQd5AWTyuQPK4r0C95K9AnMywQE3Pq0CzDrBAkG2vQNY7rkCKgLJAc0KtQETVq0BMprBAqn6vQFZBr0CX8rVAkDOvQPmnsECKIa1AQ2TYQCLU00DOxqpA+rOxQM3hrkD8hLNAdU6vQB3xrUAWj6xA2ziuQAUUtkB2wtRAXgyyQKKOsUAtdbVA1VSzQAUnsEC8EbFAUQG6QEnerUBHN69ABgHxQDbV3UDYSLFAs42vQBj4uUCjj7FAc8mvQMK4t0BCILRAJvCzQIasskBnK69AnI2tQHkesUBOybpAB1iwQOEDrUDKVK9AJtOrQGvxrEDlLK9Al0+0QFu6rkDQ97BA02L9QCKPrUCdJLJA9haoQLBPqEAnX7RASFvdQJ/nsECcJ6pA+lyvQIBgrEAESLdA7MOrQPxMsUDRx7FAN+OzQH6FsEBsBrJAtXr0QE6oskCO06xABLmxQJbTrkBGztRAYLyvQAtkrUDpvKtA18evQHoNtEBb97RA92avQLTIrkDnma5AkdewQKQDuECiD8tAjfOtQEGEr0Br87FABV6vQLKB0UAxcNVAFFCwQA08t0DnWrZAzumwQDj7s0CkN6tAjHezQBxutUCDWbBA7kKvQMDnsUBp6K9A6CWqQFTOrUCFRrhALPazQA==",
          "dtype": "f4"
         },
         "y": {
          "bdata": "InbMQOG2xkDBZL1Agf/LQPwm1EAau9hAmgPAQJasx0AzZ9NAU2XMQN9QvkA5I9BAwRnHQDLmv0COrslA8kPHQEevvUDqCb1ABf2/QG+V0UDWE9VAB4DLQM8ovkCr6L5AolX0QJnbuUAu4NVAIVS6QFzUuUDm/NdAS4rKQAklx0BJUb1AU9rDQJUCv0CWXvZAuJTJQIlryUCn8tJAjUG/QCE6v0A7W71A0o7JQFEPv0BsC9BAxD3HQHGY0kDKYsdALznTQIfWyUCoeshAppDRQKnSyECDu8RA7l3JQFrj00DY/s1A88O/QDPnz0B8RMdAEP3JQGrbvUCekL5Apsq8QEfnvkAGFNFA3BTHQH550EC41shAsn3ZQFbYwkA/UMFAHhHUQASx1UANfsVAUPW8QP8IyEC7/tNAAj/KQEMPxEBwSstAhXi9QBAWyUD8EslAgn7UQPK3yECDdc9A6YjIQCwv0UDzqL5AV53RQBkqwUByI8RAbb7TQH8rzEA0Db1AgCC/QOx+vECaN9hAba6/QADNzEDdbMpAEtS9QCii4kCx19NA9uPAQB9Kx0DUSslA1fnNQJ9t1UAok8NA+ObOQH/Z4UBb1NdAg2/IQCWKv0CDP9tAz0HGQBm5xUCtxr5AnlvMQJjjyEDE1NdAohHVQH6RwEDadM5APP65QA==",
          "dtype": "f4"
         }
        },
        {
         "hoverinfo": "text",
         "marker": {
          "opacity": 0.5,
          "size": 5
         },
         "mode": "markers+text",
         "name": "6_bone_the_and",
         "text": [
          "",
          "",
          "",
          "",
          "",
          "",
          "",
          "",
          "",
          "",
          "",
          "",
          "",
          "",
          "",
          "",
          "",
          "",
          "",
          "",
          "",
          "",
          "",
          "",
          "",
          "",
          "",
          "",
          "",
          "",
          "",
          "",
          "",
          "",
          "",
          "",
          "",
          "",
          "",
          "",
          "",
          "",
          "",
          "",
          "",
          "",
          "",
          "",
          "",
          "",
          "",
          "",
          "",
          "",
          "",
          "",
          "",
          "",
          "",
          "",
          "",
          "",
          "",
          "",
          "",
          "",
          "",
          "",
          "",
          "",
          "",
          "",
          "",
          "",
          "",
          "",
          "",
          "",
          "",
          "",
          "",
          "",
          "",
          "",
          "",
          "",
          "",
          "",
          "",
          "",
          "",
          "",
          "",
          "",
          "",
          "",
          "",
          "",
          "",
          "",
          "",
          "",
          "",
          "",
          "",
          "",
          "",
          "",
          "",
          "",
          "",
          "",
          "",
          "",
          "",
          "",
          "",
          ""
         ],
         "textfont": {
          "size": 12
         },
         "type": "scattergl",
         "x": {
          "bdata": "jEMWQZ0QEEFyh/hAS1MUQf5bFEF9whBBvGUUQeJxFEFm7RNB4VATQb+3FEHcRhRB3aASQeTECUEgrxRBwsgUQUNJFEF2BhRBVEUVQVRWFUGZWBRBSFQSQZ2bCUEZexRB2b4UQYEJEUH1XxRB5RgTQX1HFUFXmBFBKCoTQfbEEkG0+RNB7J3gQGMdFEFrThRB14YUQdosFEGlvBRBYVcJQfzZFUHXeg5BjeUUQUmrEEFIYRRBpNcUQY9fEkGPWgxBSZwPQXHyD0E9ghRBYjwUQbWbFEErnRRBVVcZQbk6FEFHMBVBirsUQSTiFEEnORRBugMVQcVpEkEuXBRBJt8UQVNmFUGjxBNBVm4VQUf0EkHW1xBBaS8SQRaqFEFX9BZBtL4PQW/SE0HPlBNBMAcVQSC1DUEAaBBBqZcVQZ8cFEF0VBRB0BkUQd5uE0EqPhNBRHIUQSroFUEbFhBBr6ITQUnAEkGexRRBO8sUQfmND0FldxRBflMUQSAwFEHR9xNBVhYXQUEdFEG5fBRB6qcXQRouFEGUzAlBHQsUQTXTFEHVARRBCWEVQTlnEUEHuhRB70YUQSN1EkHFgA9BKR4VQWW1FEEo4BJBECQUQeOoFUHWzBRBshMUQQ==",
          "dtype": "f4"
         },
         "y": {
          "bdata": "6Um+QPJCuUCgctVA9Wi1QFM6u0DSWLlA8uytQPYLuEC1XrtAtTW2QDnTsEDns69Ach+3QNCMukDcP7JAe3G3QDjGtEAPHrVArCK2QCzTtEC497dATETKQAxcukCDAK5AFj2vQDkzuEBggLdA1g+4QElwwUBSnbhA40G4QF9ntEBQS7RARYjOQKoNtEAdjK5A8aqxQGqXtUC8d7ZAT1K6QDCMu0Dw3rVAHn+xQHdptkCvJLRADaa3QPDJskARkrVAiJy6QLs6uUBhMLNAtue3QJwCtUAPka1A9vfFQA9ZrkC5UbpAgbiwQLtPsEByPbJAeDm+QNp/tEAcpLhAqry5QFmqwkDEKrFASWjCQEv/t0BF9pNA5v+3QNsCrkBu6L1AGYywQP1GuEA6irZAfzW3QLEotECZi7hA6tS1QL8GrkCpIbFAPsuyQA+CtUDQm7VAvDe0QI5pukAPxbRA1hGzQJZZuUDUaLBAy4iwQIE1t0DQta1A10OyQL7ht0DRg7VAruzBQDXFs0DdqLNAA8fDQGyjuEC9E7pA9EC0QNobsEAkzrlAU4HCQCAkuUBUg7BABF65QGTNtkDrV7lAfXKzQEvKsUDsWLhAjuy3QDKOxkCiCrBAGHG3QA==",
          "dtype": "f4"
         }
        },
        {
         "hoverinfo": "text",
         "marker": {
          "opacity": 0.5,
          "size": 5
         },
         "mode": "markers+text",
         "name": "7_the_of_antibiotic",
         "text": [
          "",
          "",
          "",
          "",
          "",
          "",
          "",
          "",
          "",
          "",
          "",
          "",
          "",
          "",
          "",
          "",
          "",
          "",
          "",
          "",
          "",
          "",
          "",
          "",
          "",
          "",
          "",
          "",
          "",
          "",
          "",
          "",
          "",
          "",
          "",
          "",
          "",
          "",
          "",
          "",
          "",
          "",
          "",
          "",
          "",
          "",
          "",
          "",
          "",
          "",
          "",
          "",
          "",
          "",
          "",
          "",
          "",
          "",
          "",
          "",
          "",
          "",
          "",
          "",
          "",
          "",
          "",
          "",
          "",
          "",
          "",
          "",
          "",
          "",
          "",
          "",
          "",
          "",
          "",
          "",
          "",
          "",
          "",
          "",
          "",
          "",
          "",
          "",
          "",
          "",
          "",
          "",
          "",
          "",
          "",
          "",
          "",
          "",
          "",
          "",
          "",
          "",
          "",
          "",
          "",
          "",
          "",
          "",
          "",
          "",
          "",
          "",
          "",
          "",
          "",
          ""
         ],
         "textfont": {
          "size": 12
         },
         "type": "scattergl",
         "x": {
          "bdata": "+9LCQBABx0Cs78VAWUPSQBRPykBF2sZAR/wbQR9axEATqMlATuPFQCCkCkG5/8RAeN3FQFofyEAvrspAWEbHQLb1zkBlogxBMKbJQEo1ykCKFsVA5gzGQOqMxEA+7MVAI9TFQEpfy0DEtMRAIbTHQATxx0C+gsVADzsPQd/5xUB4YcdApAzIQLKyCEEI4cRAGjvCQENGxUDI/cVA5oDGQMvBxUDnqshABKfIQGEMyEDpfxxBBNq5QAY7xUCCCsRAn1bGQLJOwkBE48RAg73lQLDZxkBmtsdAuG/DQINWwkDTKc5AN27GQIdXzUBQd8pAjZq9QK9px0ApvsZAcBLQQNjoxEByu9JAgTnMQEwczUAuacRAJwrHQI+cxkAKispAH7XGQIKCw0CfAMxAzBDHQNvpxUC2C8hAUIbFQCa7y0AtHr1A4PkcQeiNxEA4EMZAh3bGQL5cx0BaFcVAcl4KQf6lyUBfrMNAIsPGQP40w0AtB8VAPzrEQBSgxUAGtcVA8ofHQBYQx0BSvMxAtMPIQCW7w0CoeslAT/m8QEc6zUBy+sJAggPIQOC5xUBsN8ZA6jLGQIUxxUCRcsVAuPrAQMWSw0AvRwpBw6PJQCLywkA=",
          "dtype": "f4"
         },
         "y": {
          "bdata": "tDb8QAqaAEGf4ARBSFD+QOA4AUGUivlA2t79QFon+0AwtAFBXacCQdM/u0B2cfxAvMIEQRbfAkGsofhAuXL7QIfmAEECtbhAkfcEQWpK+kBdK/xA1AL8QEST/ECPrABBjscBQYYvAUGaWgBBASr/QCGFAEHi8QBBa027QNRyAUHjCwJBRT4BQe19sEBN4v1AMNL5QP4dAUGNUgVBgMQDQdEkAEHk6P9ANXj5QCAoAEHmSv1Au4DnQC0+AEHMSQBBtkf6QKXl+kCFJgFBUc8LQQAOBEFgmgFBjw/9QOMY+0BWUwBBfQ0AQftXAEGLJgNBMyjvQCNr+0AykPhA5Y0DQffBAUH7r/1AZSMCQcS0AUHXkwBBAPvpQFK+6EAABPlA5ekEQemF/0Bl7wBBD6kEQZWnBEGbxgBBxYMBQdPr9kAwCO9AZ63+QKgLAUESLwFBJ2bqQMgcBEEy+QBBxHm6QNmWAEHHkPpANxjuQOrB/0DzXABBIkH+QDy1AUGrjPtAtcD3QKay/kBoOPhA1NnnQPZJAUFp8QBBtfLtQIZ8A0HqhPtA5t37QCJo/UA78AJBEu8BQTnxAEGuJQVBLzv3QIs//UCzorpAV4HZQM74+0A=",
          "dtype": "f4"
         }
        },
        {
         "hoverinfo": "text",
         "marker": {
          "opacity": 0.5,
          "size": 5
         },
         "mode": "markers+text",
         "name": "8_gut_and_the",
         "text": [
          "",
          "",
          "",
          "",
          "",
          "",
          "",
          "",
          "",
          "",
          "",
          "",
          "",
          "",
          "",
          "",
          "",
          "",
          "",
          "",
          "",
          "",
          "",
          "",
          "",
          "",
          "",
          "",
          "",
          "",
          "",
          "",
          "",
          "",
          "",
          "",
          "",
          "",
          "",
          "",
          "",
          "",
          "",
          "",
          "",
          "",
          "",
          "",
          "",
          "",
          "",
          "",
          "",
          "",
          "",
          "",
          "",
          "",
          "",
          "",
          "",
          "",
          "",
          "",
          "",
          "",
          "",
          "",
          "",
          "",
          "",
          "",
          "",
          "",
          "",
          "",
          "",
          "",
          "",
          "",
          "",
          "",
          "",
          "",
          "",
          "",
          "",
          "",
          "",
          "",
          "",
          "",
          "",
          "",
          "",
          "",
          "",
          "",
          "",
          "",
          "",
          "",
          "",
          "",
          "",
          "",
          "",
          "",
          "",
          "",
          "",
          "",
          "",
          "",
          "",
          "",
          "",
          "",
          "",
          "",
          "",
          ""
         ],
         "textfont": {
          "size": 12
         },
         "type": "scattergl",
         "x": {
          "bdata": "ktvsQA2RD0FzhOlAB/XdQAJJ7kC/k+hAXSrgQGKxEUHi4OhAKRHiQDkc3EDtmd5A/UXeQIiX8EAw6OxAbW/iQM24GUEBsexAWVHbQEDG7ECemOxAM0TrQHzO3kBI1/BA/OjrQIQO7UD5duBAejcIQRXqtkCX4OJAwwu/QBpJEkFde+lA9BrvQJ0g4EDw9QtBh/kJQYnf5ECtcr9AY44HQZan20BsYuxAbuzsQI6N+0CXzutASh7wQNkg5kD3qfBAz4XvQI7X6kDukN1ATcvdQPa+6UCRb+lAeaPbQHpzCUFp0eRAuQfdQCSE5kAUWd1AzYDuQASo7kD+QNVAaG3dQIdz5kDZYRFBB3LiQAdj3UDGJu5AigjtQPdd4kCjkvBAVMW+QKIR60BVIuZAjfnqQCuZ50Cn9QlBDVcRQXOW4UCzb/BA0tTjQC2fEEFPv+xARRrcQFTF7EAaOuJAcGzNQAK17UDNfvFAfWPtQA3T50AM685A5C/dQN/T8ECrXOpAiQPuQHYe5ECYH+BAiKDdQN2Rv0CgkudA9AXeQNvDv0DqyOFAAgHfQJPg4UDf7OtA4NTgQLnj7EA8bOxAep7dQI7L7kCXIuFAL2HcQJde60CdCO1AjDPiQFGb5EBHI+hAYTwQQVWn7UA=",
          "dtype": "f4"
         },
         "y": {
          "bdata": "LvzqQPsXx0C/GfhACEXqQOIm60DPQOpA49TlQKLaqUCSmvBAHCzxQE3j60Cp8+hATwjnQJfJ5EASze5AueHzQCFa00BeWulA2dHvQAFT7kBtOvhA5wDyQJJh4UApl+NAZ7TwQNyv90BkifRAPIOyQDvR2UBi0vFAIazqQCcYq0CijfBAYqvvQOEv30CW1tBA3hj9QLFh5ECZYexAafjCQKry7UBvNf1AiifvQHTbAkEnRPZApujpQB3j50DlKuRAxT/lQGcS70DAR+ZAmjXvQEKH8kDwmfFAsDzxQPnZ/UAqsvJAyJLvQLQE70DpfexAJnDxQP0b+UAXNe5A7RzjQOf3/UCT5qpAcZ/jQJKv4ECwEe1AH1j8QDza4UAGx+RAyiXrQF918UCW+dtAFK7rQM4o9kBdXv1AaGicQP3s2UBeleVAET/IQEZimkCq4O5AhJ/rQEMH8kAYQvBAcKz2QC9v8EDvGONAx0nvQAc89UAw3PdAbgrsQLQN6EDmu/ZALUD6QFdN9ECWvPFAkhjtQFf96kBrrPZAejjpQKXJ6kBgsO9AdQLyQMzuz0BkH/BAk7TPQIiX7kDHA+xANdPsQAeL5kASPcVARCHtQC/q+ECVoe9AvfHpQGPl1EDptvZAC7CsQFii7EA=",
          "dtype": "f4"
         }
        },
        {
         "hoverinfo": "text",
         "marker": {
          "opacity": 0.5,
          "size": 5
         },
         "mode": "markers+text",
         "name": "9_plant_the_of",
         "text": [
          "",
          "",
          "",
          "",
          "",
          "",
          "",
          "",
          "",
          "",
          "",
          "",
          "",
          "",
          "",
          "",
          "",
          "",
          "",
          "",
          "",
          "",
          "",
          "",
          "",
          "",
          "",
          "",
          "",
          "",
          "",
          "",
          "",
          "",
          "",
          "",
          "",
          "",
          "",
          "",
          "",
          "",
          "",
          "",
          "",
          "",
          "",
          "",
          "",
          "",
          "",
          "",
          "",
          "",
          "",
          "",
          "",
          "",
          "",
          "",
          "",
          "",
          "",
          "",
          "",
          "",
          "",
          "",
          "",
          "",
          "",
          "",
          "",
          "",
          "",
          "",
          "",
          "",
          "",
          "",
          "",
          "",
          "",
          "",
          "",
          "",
          "",
          "",
          "",
          "",
          "",
          "",
          "",
          "",
          "",
          "",
          "",
          "",
          "",
          "",
          "",
          "",
          "",
          ""
         ],
         "textfont": {
          "size": 12
         },
         "type": "scattergl",
         "x": {
          "bdata": "3ROpQG/UrEBVnqxA3d+sQNLxtUAy0qtA/vu/QI03s0DszKhA5YOzQG7KtECfhqxAGDauQO/xt0C46K9AoQ+tQGxXsEBbWLJAH1WrQLbnuEC9kapAMyOpQBuaqED2frNAlnupQH7frkBJdsVA7GitQPIvtUCrY6tAkba6QM1au0DAHK1A6cCnQIPAqkDTy61A4Ke7QDDht0DO7rxAHm6sQJW5s0DPOalA6pasQG5fvEBdeK9AmIysQHZXqUA8qrVAqhLEQMfgqkB2ObdARvGuQIydt0CFH6tAuC2mQDmtqUCVqr1AQ227QCphvEAvI7dAvCynQNJhsUBWVr1AlfKvQMzNr0CnkahALg++QJ9Mp0BVarBAlXO8QFKSqEDgL61AB4a5QAaDqkAk3axA08usQH5dtUCg2KpAs3mqQC50qECu2bRA4EqsQOPtzUDuA6xA9n+1QEest0C0da9Ag7usQGC9tEBiUK9AVA+rQA67qED1ArVA/KSoQHYSqECdFLVAUd6qQMyDskAUg7VAlYitQBmPp0B0e7JAutiqQMtnr0A=",
          "dtype": "f4"
         },
         "y": {
          "bdata": "xkPmQFa960AU5O5AoJfuQIYN6UDujOdAUd3rQDE46UD05eVAux/qQEaO6EAv9O1AdMXtQKKK6UDnI+1ArIzuQFs960DzJOVAelTkQGJp2UBxgOZAqcDkQBq640A7DOhAFQLmQL7U6kD8cMdAbgXvQGRt6EAfpO1AX//qQHMd6UAPl+5Ay6LXQAbe6EDkW+5Ai8ToQJj+50CZw+lAL//tQE/S6UBdxt9A5S7uQBHa6UAe9etA9fLnQG7h5EDooetAWbPoQM4H6EA9fu5Aw5XpQJY64kCwIuBAYNrVQCXr4kBAxelA1U3mQEEs50A4lexA6cfWQLJX6kBmdudAabzsQCJ950AA2eNAQE7vQJk01UAoTulAQrnfQJly40B5feVAj0vVQFBnzEA50+FAse3hQGLz50B3PuRAOMDkQK1U4kD3/edAcPfiQAwryEDWmOZALJ7oQE1H70B6dOpAzfvrQKGu50BJ6upAqObjQFeW4EB5PddAMorgQMmG40A/xOZAxyDnQJpH7EA2KulAHJXrQOMC1ED8YutADtTlQLcG7EA=",
          "dtype": "f4"
         }
        },
        {
         "hoverinfo": "text",
         "marker": {
          "opacity": 0.5,
          "size": 5
         },
         "mode": "markers+text",
         "name": "10_brain_the_and",
         "text": [
          "",
          "",
          "",
          "",
          "",
          "",
          "",
          "",
          "",
          "",
          "",
          "",
          "",
          "",
          "",
          "",
          "",
          "",
          "",
          "",
          "",
          "",
          "",
          "",
          "",
          "",
          "",
          "",
          "",
          "",
          "",
          "",
          "",
          "",
          "",
          "",
          "",
          "",
          "",
          "",
          "",
          "",
          "",
          "",
          "",
          "",
          "",
          "",
          "",
          "",
          "",
          "",
          "",
          "",
          "",
          "",
          "",
          "",
          "",
          "",
          "",
          "",
          "",
          "",
          "",
          "",
          "",
          "",
          "",
          "",
          "",
          "",
          "",
          "",
          "",
          "",
          "",
          "",
          "",
          "",
          "",
          "",
          "",
          "",
          "",
          "",
          "",
          "",
          "",
          "",
          "",
          "",
          "",
          "",
          "",
          "",
          "",
          "",
          "",
          "",
          "",
          "",
          "",
          "",
          "",
          "",
          "",
          "",
          "",
          "",
          "",
          "",
          "",
          "",
          "",
          "",
          "",
          "",
          "",
          "",
          "",
          "",
          "",
          "",
          "",
          "",
          "",
          "",
          "",
          "",
          "",
          "",
          ""
         ],
         "textfont": {
          "size": 12
         },
         "type": "scattergl",
         "x": {
          "bdata": "0SkPQZciEEEEMBBB0ZIRQcerE0ELPBJBMzYSQbP9FEFifxBBvO0PQYAAGEEtaAhB+8kQQXTsE0HRDRBBDaMSQc1YD0EYOxdBsMYSQTQ7F0GpXRdBDc4OQRNNC0EwfQ5B4JsPQVvcB0EZPRNB3gkQQXnsFkHL7w5B8PMQQa4wEEE4WA9BdPURQaTkE0ETqRBBOHIQQQ3tDkGkGRFBW3IRQZ1pEUFolhNB90UQQXJKEEETugxBib0HQaNAGEEwKRFBTAERQUZ4EEGjnBRBiswMQSPcDEFXhhFBYTYXQe3YFEEm8g9B3G0hQVBZEkE31Q9BAYgWQRWbD0FzNRFBp/EUQciTCkHTIQ5BHCoJQecOEUGKSBFBRAkPQQsGD0F79gdBkJcRQbNy/UDp9ABB+8kMQUbpDkHWnxBB4c0PQc2hEEEiZQ9B1Z8IQZbRE0FmdgxBBKkMQcSqEEEhrhFBHdUQQc/QD0E7RRFBf2YTQXc2F0HByxVB7kcFQVYIDUGRNRZBtpoMQcwhEUFJChdB9LoHQWJ5EUEZFwpB9m8RQc4bEEFjwxBBINcRQUkCDUHYbxZBjnYRQcW3E0FvRRFBRk0XQT+rDkG9CRZBbjkUQXsVEUHPsg5BSg8RQUWwFkHOahJB4CIOQQOxEEEeHBdBGZINQXi6D0E+CBFBE9QQQYCKE0Fm3RBB7/MPQX5KEkHSXhVBqYUTQQ==",
          "dtype": "f4"
         },
         "y": {
          "bdata": "YqaMQOX3jEAjppBAEoeLQBLviEAymYhAX2SZQCuxikDhno5ALnaMQCXWj0Ay64JAfEeQQNSZh0ANy41A0y2KQIRii0BYu4pAepuIQBndikDY/YpAvIGVQEmlikA3g4tAGcGOQOwqgkAEtotA5R6RQHi+iUAVfZ5Akt2RQCsGj0Cu6Y9A+76aQEb2iUA5iI1Asj6uQGOEjUB8DpZAH9KcQNbjmUDfColASeKPQPwCkUBz4IhA+BSOQO0PqUDTfopAx4OJQMRwj0CsQolAomyIQCgki0AJXo9ADyOLQBWdiEChb5FAa+bTQJ+1iUA2D5FAGj2KQGaIjkCk15JApNKMQJRWkEAPaopAWPqNQKgwlkA0xI1AfeOQQKNNjEDnuqBAsUyKQE2plUCFXZNAbL6JQGjhlEDLxJNAO9CRQM4MnEAHcZJAo12NQNddiECOQolA9iiKQD4PlEBoM5tAxviOQFwbkEDrIo1AS5aJQGEojEA5KARB/ZufQFnmiUBpXqhAJXWJQHBSjkD3G4tAcDiCQLKHkUAE2qdAh4uRQMEAjED13I5ABICYQNfcikDHQ4tAzIqaQML8iEAvJY5AWH+MQFCYlECbP4pAFKGLQDtBkkDOhItAlmqRQDU2ikDFcJNAPyyMQMcmkkDxB4tALBOPQIY4jkBcEI1AR36RQLx7iEBLR5hAU7aLQLmvjEAv/KpAmleIQA==",
          "dtype": "f4"
         }
        },
        {
         "hoverinfo": "text",
         "marker": {
          "opacity": 0.5,
          "size": 5
         },
         "mode": "markers+text",
         "name": "11_the_and_of",
         "text": [
          "",
          "",
          "",
          "",
          "",
          "",
          "",
          "",
          "",
          "",
          "",
          "",
          "",
          "",
          "",
          "",
          "",
          "",
          "",
          "",
          "",
          "",
          "",
          "",
          "",
          "",
          "",
          "",
          "",
          "",
          "",
          "",
          "",
          "",
          "",
          "",
          "",
          "",
          "",
          "",
          "",
          "",
          "",
          "",
          "",
          "",
          "",
          "",
          "",
          "",
          "",
          "",
          "",
          "",
          "",
          "",
          "",
          "",
          "",
          "",
          "",
          "",
          "",
          "",
          "",
          "",
          "",
          "",
          "",
          "",
          "",
          "",
          "",
          "",
          "",
          "",
          "",
          "",
          "",
          "",
          "",
          "",
          "",
          "",
          "",
          "",
          "",
          "",
          "",
          "",
          "",
          "",
          "",
          "",
          "",
          "",
          "",
          "",
          "",
          "",
          "",
          "",
          "",
          "",
          "",
          "",
          "",
          "",
          "",
          "",
          "",
          "",
          "",
          "",
          "",
          "",
          "",
          "",
          "",
          "",
          "",
          "",
          "",
          "",
          "",
          "",
          "",
          "",
          "",
          "",
          "",
          "",
          "",
          "",
          "",
          "",
          "",
          ""
         ],
         "textfont": {
          "size": 12
         },
         "type": "scattergl",
         "x": {
          "bdata": "EmcPQR9dB0EVYA9BXPMPQTVHCEGVygRBknkLQV6XD0GaUhFBMk8OQTUhEEFaBRJBZToSQeq4EEHolAxBmJQGQX6lEkHuYA1BoFoPQUeJD0G2UApB33UQQUdqD0F3ngxB5wMNQYpVD0H0PBBBNXEQQWw0EUEHRQpBKpgTQde7CEEd2Q9BXIMNQbU+EkHWbhNB5YrhQEbUEkFYUQtB0hoRQanOD0FwpAtB2EAIQesxE0EsnwlBFpIPQZGND0FrIhNBfN4MQQlUEUEaGABBPVsJQX/5EUEhdg9B+CATQVQ1CkHJWwdBVlz6QJSxC0E9lARBaUwNQUmAEEHNywxBkYkPQT6KEkG2ERBBnDQQQfGc/0CWsQ9BKAoHQTf1D0HmqwxBEA4FQcFhDkFmCBBBvDAQQXNNDUHUegxB0/MTQZ/IEkEKw/pAb7QPQfv5EEFfkQxBYHYJQZxXD0Gc8xJBfJ4IQfVgDkEb9w9BghASQaFJEEHYdBBB2iERQTXxB0FxGhJBL2QRQahFEEETIQhB/jkSQS7IDkHxAQRBTt4QQQ9UDkGKhQxBQ5cVQUN3CEFemRBBX0kKQaQVCUEDMg9BPy8QQQj0DkEltBFBlbQJQeToFUFjow9BqMMEQdn6D0GHyA5BYeIJQR8PE0F1VhBBq8YJQXj+DUHoUQ9BizQNQTBZE0E8QBFB3rkMQUq8D0HZBhNBXEkRQZRgBEEyRQZBzl8IQX02DEGYlgxB",
          "dtype": "f4"
         },
         "y": {
          "bdata": "26SdQDt0nkAUzJFA2qeSQNdlrkC3QqNAiTSeQDjtk0Dlc6BAPrihQGPAlUBym6FAyZqyQDmMoEBxl59AdhGVQIfkoUBojalAmz66QK7yuUBDmKdAeyCgQI9soEALJJ5A2ESXQOVMk0DsXZ9AGv2TQK3HmUCJLaFAc0SkQJJgo0CrT55AT8ahQNltpkAC8rVAhtG+QLUCokCQgrJAA12YQBzjnkDuvJxA1UGhQCfYokBJn4xAfbC6QAA1kkCwSbRAVlelQLJ9wUDbqJJAhTC6QAfoqEDYRqBAPKWiQAGlskCjJ5ZACBiWQNSspkCOdaFA5X2pQF38k0BiuaRAdEGRQKWYokCW66BAFUSkQFS6kkC336RAVzChQOY4uEAejJlA2pahQJjfn0AD8rhAaHCVQJ1SokCpBLRAaZrAQHImokDGLpVAn1ihQJt5o0AmEZdAOyyhQEPKoEBCyqJAwke7QJjoqUD85Z9AXLuiQCMopECryp9AvECfQEgIlkDIa6FAVx+dQCxqk0BokJ5AmJ2jQK9XnUC2gJ9Alw2iQJqwskBCLZ5AudixQDLdkkCbHb1AbEqfQKBYo0BatZ9AJYaiQNaYpEDCtaVA13qfQE+EsEBF+qBA5XKiQKxko0CuLZdARBuoQG+uokD1GaNAVt6nQGBGoUCpK5JAY8uPQDsWo0AtqZ9AMSmcQGs+oEAs/6BA95K+QLPkqkA2vrxAi6CCQMtZokCqv6FA",
          "dtype": "f4"
         }
        },
        {
         "hoverinfo": "text",
         "marker": {
          "opacity": 0.5,
          "size": 5
         },
         "mode": "markers+text",
         "name": "12_data_and_the",
         "text": [
          "",
          "",
          "",
          "",
          "",
          "",
          "",
          "",
          "",
          "",
          "",
          "",
          "",
          "",
          "",
          "",
          "",
          "",
          "",
          "",
          "",
          "",
          "",
          "",
          "",
          "",
          "",
          "",
          "",
          "",
          "",
          "",
          "",
          "",
          "",
          "",
          "",
          "",
          "",
          "",
          "",
          "",
          "",
          "",
          "",
          "",
          "",
          "",
          "",
          "",
          "",
          "",
          "",
          "",
          "",
          "",
          "",
          "",
          "",
          "",
          "",
          "",
          "",
          "",
          "",
          "",
          "",
          "",
          "",
          "",
          "",
          "",
          "",
          "",
          "",
          "",
          "",
          "",
          "",
          "",
          "",
          "",
          "",
          "",
          "",
          "",
          "",
          "",
          "",
          "",
          "",
          "",
          "",
          "",
          "",
          "",
          "",
          "",
          "",
          "",
          "",
          "",
          "",
          "",
          "",
          "",
          "",
          "",
          "",
          "",
          "",
          "",
          "",
          "",
          "",
          "",
          ""
         ],
         "textfont": {
          "size": 12
         },
         "type": "scattergl",
         "x": {
          "bdata": "cirvQHOr6kB1TPpArZPqQCwQ7UC3nutAQEvqQHji8kBwVvpAYU0BQcz/7UCEnOtAGO0GQUZQ9kAAbhJBqr/uQJK3B0FRjwNBhQH1QJeYDUFHCQpB1WzxQBeT/UBAu/tA7RfmQJvJ7kBxGe9AhMwGQWBqCEFSoO1ANbQYQfAL8EDVdQRBpdHnQFpK9EBR2QdBmyX6QKyRBEFio/xAlMnQQID/vkCRsvZA1jvqQOm2BUFQhe1AzjrqQArY50BH4e5AHlzvQKOz7UDI1u5AZ/YAQe5p/UDWnfBAOQTnQKrSAUFZnhFBTrUEQZ1pB0Hs8whBZLLrQNIW60B+3e9ADtf6QDdO7kCHn/lAP0y7QJ5K50B/wAdBbznvQIC8+kBXvPJAJ0X5QKVY8UB2N/dAdgzwQB0X8EAf7+tAERoCQYEaBEGv8+1AH1/1QHux9kCSsfJAh+70QJhx8UB1ve9ANPPrQHx7+kChKPZAEg0AQeB49UAIN/BAUKPrQIZ6A0F/zuxAhhjnQIPXBkH7lftAnBbAQHtj2kB0o+1ADf3oQDMm5EAtuu9AYuoSQVLEBEEHUvxA8Tm0QF/bB0F2/NNA78H8QAbB9EDIDQhB+Ev1QGdOBEFDOfBA",
          "dtype": "f4"
         },
         "y": {
          "bdata": "kKypQJl80ECPAqNA92q+QD+iu0Bfs7VAFRrRQL4fqkADz6NAxoKdQFJdvUCuvbRAl5yUQO2Jo0DW3KdAQ5KsQD0ykkCJAZ9AeHTCQHRqyUBI4J5AE8KkQFyWxkAV+qRAmEm0QLLNukBiSsVAL7GQQHy5lEAJLLZAdNLVQGzwskApX6FA5qTGQPrDtEDat6JAT6uiQDGcoUApD6BAINqsQIOHrUDsO6NA0MO3QLVPnUB5ugtBhfS8QBFfskCOB6xALNPFQCCZu0BRx6lAUhafQFCGn0BrqKhAVrO4QDBilkB+qrVAve6hQM1okEA70pRAxJe0QEPgxEAMM6hAfPqxQNfVv0C1p6VAoNSsQIYCsUDRL6xAQ7y/QDSzo0AKzKlA31ujQK/FqUCPQ6hA2rajQIY8qED7v75AZ5GVQJAUoUD4h6tA/cerQMr5q0D/2sZA7/S2QJn0qUAHo8FA9kTCQDHtoECv8aNAb9WPQFtzyUCPPKhA+127QDuQoEAwKLtAdfWyQPu7lUAExqBABcOuQIBOrEC+M6pA0vCwQKJf00DIgKhAUAukQA9vnEAo57JASZ7ZQPKSnUCjJLlAPcqiQNfTsUDRbI5An6uxQOJFnUAdVatA",
          "dtype": "f4"
         }
        },
        {
         "hoverinfo": "text",
         "marker": {
          "opacity": 0.5,
          "size": 5
         },
         "mode": "markers+text",
         "name": "13_cardiac_heart_of",
         "text": [
          "",
          "",
          "",
          "",
          "",
          "",
          "",
          "",
          "",
          "",
          "",
          "",
          "",
          "",
          "",
          "",
          "",
          "",
          "",
          "",
          "",
          "",
          "",
          "",
          "",
          "",
          "",
          "",
          "",
          "",
          "",
          "",
          "",
          "",
          "",
          "",
          "",
          "",
          "",
          "",
          "",
          "",
          "",
          "",
          "",
          "",
          "",
          "",
          "",
          "",
          "",
          ""
         ],
         "textfont": {
          "size": 12
         },
         "type": "scattergl",
         "x": {
          "bdata": "YGYaQYGLGUHr3hpBHQ4ZQeA2GkHsRBpBGJYbQUbWGUGBuRlBFEwZQaIVGkEFQhlBPPwYQdHfGUHEnhlBt+UZQfRWGkHdRRpB+wkZQZyCG0EdLxlBudEZQR3yGEHvChpBZ9waQVuGGUEVjxBB0ogZQV9UGkH3NRlBXH8aQVuOGUHXphhBXI4ZQZuHGUGPfRlBxzAcQTFhG0GIdxlBwJ8YQaxsGkGWjxlBQtIYQc1CGUGYsRlBq8gaQR+JGUFNdhlBHRAZQTluGkFrKBtBELsZQQ==",
          "dtype": "f4"
         },
         "y": {
          "bdata": "fJizQGkcr0B1QLRAyb2tQBL7s0AWTLRAbmS2QHWBskB7TbRAV0avQDiCsUD0ga9AfduyQM3KtEBCr7NAxkizQFPys0BW/7RAWjaxQNPntEDwNLhAT0qwQAOwsUDlErNA3lO0QJFmr0CB+btAa1eyQBgDskA6O7BAwVmzQBomsEBk9q1AT4KyQMaItEC1N7NARNO4QAbXtEBcQbJApLexQPs6s0BbhK9Ac1uyQJ/CsUChNLVA5aGzQP59s0DYrK9AblmzQAZks0DDaLRAf3a1QA==",
          "dtype": "f4"
         }
        },
        {
         "hoverinfo": "text",
         "marker": {
          "opacity": 0.5,
          "size": 5
         },
         "mode": "markers+text",
         "name": "14_liver_in_the",
         "text": [
          "",
          "",
          "",
          "",
          "",
          "",
          "",
          "",
          "",
          "",
          "",
          "",
          "",
          "",
          "",
          "",
          "",
          "",
          "",
          "",
          "",
          "",
          "",
          "",
          "",
          "",
          "",
          "",
          "",
          "",
          "",
          "",
          "",
          "",
          "",
          "",
          "",
          "",
          "",
          "",
          "",
          "",
          "",
          "",
          "",
          "",
          "",
          "",
          "",
          "",
          "",
          "",
          "",
          "",
          "",
          "",
          "",
          "",
          "",
          "",
          ""
         ],
         "textfont": {
          "size": 12
         },
         "type": "scattergl",
         "x": {
          "bdata": "EO4OQWrtEEGj9w5BW0YPQTDUD0FrHBBBGn8QQaoKD0F2QBBBut4QQcUYEkHrrRBBkhzjQGKwDkErqRBBXbIPQf47F0FnkONA+mkPQdycEUEIyQhBebMQQSI6EEEoMxBBKewPQVMJEEGRWw5Bi38RQRzLDkFFu99AfgsQQe3vFUGoGxFBTHkOQc63EEHmrQxBXAcQQUuZEEHMrxBBVBYPQfIoEEFoWgxBxhsPQbos4ECOdA9BFmgPQfI2DkFI4BFBwKEOQfB+DkEjvuNAxUcQQfYrEEGvEg9BRcUTQbDZDkFjrxRBS7sOQUXuDkEYzg9B0XAPQQ==",
          "dtype": "f4"
         },
         "y": {
          "bdata": "M1DgQEt+8kBiJuBAg+PtQMB57kDlUuxA5evzQBsS7kB3setAKB/JQCP35ED3WOZAFsXRQHWO20DP6uxA9k3oQLR3yUCUw9FAwkbkQImP5UDodeZAuMbpQDUq6EAt6+dAc1TsQEYN7UCB9d5AqPvzQMI24EAtqtJADHTwQJzssUDY3bFAbIHuQCWbsUBvk91AFgXoQPOh80D3MfJALxDoQFl+5kAh9fdAgbXgQO6m0UBI1vNAtPvoQLy/3UD0obBAJFrrQIbj5kDGmcJAXFXkQIFP7kDuXuFAumThQCiZ6UBnJuRAi/7fQCl83ECCD+xAZ/ztQA==",
          "dtype": "f4"
         }
        },
        {
         "hoverinfo": "text",
         "marker": {
          "opacity": 0.5,
          "size": 5
         },
         "mode": "markers+text",
         "name": "15_the_of_in",
         "text": [
          "",
          "",
          "",
          "",
          "",
          "",
          "",
          "",
          "",
          "",
          "",
          "",
          "",
          "",
          "",
          "",
          "",
          "",
          "",
          "",
          "",
          "",
          "",
          "",
          "",
          "",
          "",
          "",
          "",
          "",
          "",
          "",
          "",
          "",
          "",
          "",
          "",
          "",
          "",
          "",
          "",
          "",
          "",
          "",
          "",
          "",
          "",
          "",
          "",
          "",
          "",
          "",
          "",
          "",
          "",
          "",
          "",
          "",
          "",
          "",
          "",
          "",
          "",
          "",
          "",
          "",
          "",
          "",
          "",
          "",
          "",
          "",
          "",
          ""
         ],
         "textfont": {
          "size": 12
         },
         "type": "scattergl",
         "x": {
          "bdata": "OwwMQW32BkHkQwpBtTkQQTeIFEG0EgxBym4JQUa1AkEJQApB+xIKQYuuB0F2Qw5Bw9wHQSOSDkFR/AVBXAgQQQ0MCEGTgSJBDDoPQfgFBUE+3AlBV3UIQSqYCUHIEQRBt6cJQQYzBkHu1glBDdMIQYreCUGqlBBB6zIIQROUDkGUoAhBcMYQQT8TDkE5HghB4w0NQSmBB0EKxQ5Bxff/QMFqCEEM7QlBvF4IQc7xC0GxPghB2s4VQZSeCEHsbQ5BN8AIQf/JCUHEiAVBsjYMQeRqCUGArwtB9BsKQeD9CEFrPg9B9MoGQW9BCkGTbA5BLkoGQa2wCUERqApBgn8GQa6+CUFJLAhB/vwHQRoZB0FJfAdB7s8JQSCqCkE65hVBDsMKQcr0BUE=",
          "dtype": "f4"
         },
         "y": {
          "bdata": "WYqFQPz8iUDPl4FAJxaRQH0TpUB53oRA3iqCQPvZhEBfYYFAtjmCQHLxgUBwiYhACFiFQONQi0B9golA7wmkQK9MhECpYNVA2zCOQAUOh0CjSYJAO5OCQFEIgkBuBINAkwOCQDoOiUA/vYFAuzGDQGB3iUBWMZdADFCCQH3+lEBPBIRApk2vQKHuiECyNYRA9aeFQKZiiUCkXYtA1DaNQD1BgkBsQYJAF6uDQCzHhkClFYRAeTqkQEDThkDs3otAuKOKQAyWgUCg44lAAeeEQDvHgUCGfYVAu5SCQE1UgkBmzKtABr6IQE2vgUCRrpNA5EaJQB3ygUDRsINA0TSDQGsigUD6modA5MWJQI3HgkCb84VAstmCQAUng0CMDqVASEOKQP0Fg0A=",
          "dtype": "f4"
         }
        },
        {
         "hoverinfo": "text",
         "marker": {
          "opacity": 0.5,
          "size": 5
         },
         "mode": "markers+text",
         "name": "16_diabetes_insulin_glucose",
         "text": [
          "",
          "",
          "",
          "",
          "",
          "",
          "",
          "",
          "",
          "",
          "",
          "",
          "",
          "",
          "",
          "",
          "",
          "",
          "",
          "",
          "",
          "",
          "",
          "",
          "",
          "",
          "",
          "",
          "",
          "",
          "",
          "",
          "",
          "",
          "",
          "",
          "",
          "",
          "",
          "",
          "",
          "",
          "",
          "",
          ""
         ],
         "textfont": {
          "size": 12
         },
         "type": "scattergl",
         "x": {
          "bdata": "uvMHQYWlB0EcNwZB4rYFQfG2B0H0pAdBa4oKQQhYCkEwQwhB/wAIQayuCUFmuwZB0sEHQVQvCEG14QZBwMsHQYlqCkFI7wZBGwYJQVbgCEGz3ghBPkMGQbUq/kC5ag9B1mUIQWMFCkEjUAtBmAXgQADPBUE5HQ9BWSQJQSGjCUE9zAdBjoEJQesmEEFe/gdBTsAGQb8UB0FtvQlBQycGQRaDB0HXzAdBNoMGQcJYCkFClQlB",
          "dtype": "f4"
         },
         "y": {
          "bdata": "hkmzQMsptUAx/rZAHIq3QL5XtEDas7RArsC4QJBvtkAM+LZArEG1QLDOtkATdLdAv9a3QODDskD+vbZAxHq0QEjnt0BA6LdA7Zq2QF7atUA/dLZA7263QJuX+0D1abBAhiu2QAahtkDus6ZATJLYQE12uECNZq9AajG3QJTvtkBUI7RAOdi2QIlpsEBEhbNAFbi4QLswuUDK0bZAag23QMlCtUCtU7RAgeO4QOiAtkDj3LZA",
          "dtype": "f4"
         }
        },
        {
         "hoverinfo": "text",
         "marker": {
          "opacity": 0.5,
          "size": 5
         },
         "mode": "markers+text",
         "name": "17_the_synthesis_of",
         "text": [
          "",
          "",
          "",
          "",
          "",
          "",
          "",
          "",
          "",
          "",
          "",
          "",
          "",
          "",
          "",
          "",
          "",
          "",
          "",
          "",
          "",
          "",
          "",
          "",
          "",
          "",
          "",
          "",
          "",
          "",
          "",
          "",
          "",
          "",
          "",
          "",
          "",
          "",
          "",
          "",
          "",
          "",
          "",
          "",
          ""
         ],
         "textfont": {
          "size": 12
         },
         "type": "scattergl",
         "x": {
          "bdata": "JqLXQOBg30CEHt9A78XZQLcsDkFEo9hAhBXaQGM+2ED36tdApifcQNWq2kAa+NhAJzrzQAEV2kBpVeZAB3TZQGx/2kBxQNxA9aP2QE2L20CAkddALL7aQNlE6EDHeupApdjZQAXK40DQldlArQT3QGUP20A2bNlAm9zZQFtY3kDcKdlA3e3ZQC4w2UBA/9pA7arYQDcz2kAlW9lAnMXaQF4j2UA1CdpA7A/ZQAIO2EBjx9lA",
          "dtype": "f4"
         },
         "y": {
          "bdata": "9p3SQLyszUD+StFA0vfPQKCWoEAKUc9Aj+jPQJtV0ECFI85ArwrQQJOez0Dsos9AbgfRQFJZ0UCn9MpAyODRQDGm0EBjddFAXwLPQDJl0EDGhdBAKF7PQFDHzUBhjNBA3HTPQIftzEDV8s9AIu/MQEhwzkAPr9BA9G3RQNMP0UCqa9BAj3/PQHRI0UBIOcxAEkDRQPh0z0BN7M9AQFXQQNxN0EBqB9BA6THQQFJ60UDhKM9A",
          "dtype": "f4"
         }
        },
        {
         "hoverinfo": "text",
         "marker": {
          "opacity": 0.5,
          "size": 5
         },
         "mode": "markers+text",
         "name": "18_and_to_the",
         "text": [
          "",
          "",
          "",
          "",
          "",
          "",
          "",
          "",
          "",
          "",
          "",
          "",
          "",
          "",
          "",
          "",
          "",
          "",
          "",
          "",
          "",
          "",
          "",
          "",
          "",
          "",
          "",
          "",
          "",
          "",
          "",
          "",
          "",
          "",
          "",
          "",
          "",
          "",
          "",
          "",
          "",
          "",
          "",
          "",
          ""
         ],
         "textfont": {
          "size": 12
         },
         "type": "scattergl",
         "x": {
          "bdata": "JyS2QJgptkAJl6ZAmum4QP5ZtkC96btA8VSzQBnmuUBVFLpA652nQG1ZukBRNLpAOsm8QFrmt0B7j7ZA/Xy3QDLKtUAn3bdAJgW5QINFukCzeLpAN3q6QEhXu0DZjrVACzy2QJVStkCw8rhABN68QPMzvECP+rpAIQy8QNcRy0BirrpA14++QGkCukDLv7pAgXmnQG26uEDC8r5Asnu1QLCdtkDcy7ZAZl+1QMWDvEAcFrtA",
          "dtype": "f4"
         },
         "y": {
          "bdata": "JCPnQNDx5kArPf9AR03vQKNg50DtDe1AvTPqQBIL6kAld/JALCfbQPo/6UBC3+lAKmrxQBBW5kCOc+pAceLoQIGt50DpzeFAy2TwQNf97kAmG+pA9UDqQC+a6kBrmulAnzbnQObz5kCRROFANYLuQPUY7kCohetA2QHeQPapyEDSCOpAvlbwQKE75UD4CepAcKr/QPXG8UDNq/ZATwTnQF2h7UDAxOdAfe/nQCu48EBEfepA",
          "dtype": "f4"
         }
        },
        {
         "hoverinfo": "text",
         "marker": {
          "opacity": 0.5,
          "size": 5
         },
         "mode": "markers+text",
         "name": "19_care_cancer_and",
         "text": [
          "",
          "",
          "",
          "",
          "",
          "",
          "",
          "",
          "",
          "",
          "",
          "",
          "",
          "",
          "",
          "",
          "",
          "",
          "",
          "",
          "",
          "",
          "",
          "",
          "",
          "",
          "",
          "",
          "",
          "",
          "",
          "",
          "",
          "",
          "",
          "",
          "",
          "",
          "",
          "",
          "",
          "",
          "",
          "",
          "",
          "",
          "",
          "",
          "",
          "",
          "",
          "",
          "",
          "",
          "",
          "",
          ""
         ],
         "textfont": {
          "size": 12
         },
         "type": "scattergl",
         "x": {
          "bdata": "sbMAQfqh/kBRXhFB75f5QEtKAkFpDQFBKSgAQRNrA0H7htBA0Wr/QMZo/EBK/P5AVjAAQZEwAEE7Mv9A6B4AQTtvAEGYRQVB7oUAQUVnCUFMtgxBVgQTQX2WB0Ehuv9AwYceQXRNAEHlwgZBYUYBQerBBUFTtf9A5t7+QHxhE0EHVf1ARdTuQID0DkEmfABBx8UNQQ7J/0BvYxJBpOwAQauN/EDFlgBBLnQFQYDn/0Dcy9VAzkUAQec8/0CzIAJBAtL8QEkhAUGH2f9ApV3/QPW6AEFebwJBOXT/QAlSAEEj4QJB",
          "dtype": "f4"
         },
         "y": {
          "bdata": "oUG3QCGPu0DU7N1AqdimQBvooUAKr7hA37ezQHfZvkCELK1A0OCwQM05rEDjTbtAs4W4QH5wuUB1XbtAG9m0QDV5vkAa855AERa3QLJgp0DcB8RA+0efQHEqxEC6ILNA3BMPQYlotEANW8FA7Gy7QOavwEC+M69AfLi7QOYCn0CO071APn28QFHHoUBwPLpARW7QQBYrskCg+epA5O26QNYurECOELdAdGTAQMVeukD60J1ALeq2QPaWskAS6btAeHGsQGVbuEB5irtAN7CxQLhjuUBfzrxAzpi7QK3nuUDUUb5A",
          "dtype": "f4"
         }
        },
        {
         "hoverinfo": "text",
         "marker": {
          "opacity": 0.5,
          "size": 5
         },
         "mode": "markers+text",
         "name": "20_retinal_eye_the",
         "text": [
          "",
          "",
          "",
          "",
          "",
          "",
          "",
          "",
          "",
          "",
          "",
          "",
          "",
          "",
          "",
          "",
          "",
          "",
          "",
          "",
          "",
          "",
          "",
          "",
          "",
          "",
          "",
          "",
          "",
          "",
          "",
          ""
         ],
         "textfont": {
          "size": 12
         },
         "type": "scattergl",
         "x": {
          "bdata": "3oUOQZG/DkFo3w5BGT0OQcSlDkG/3w5BfOwOQbTjDkEmwA5BGZEOQX15DkEwOQ5B6H4OQaqYDkFNdQ5Bjl4OQaOrDkEZnA5BEXQOQQVgDkEMgQ5B5EUOQVtUDkGFqg5BoL8OQR6PDkFeXg5BtlUOQQSADkFCGw9BRroOQVxfDkE=",
          "dtype": "f4"
         },
         "y": {
          "bdata": "kOaMQPCWjEDb9YxARTGOQP7UjECOS41A49iLQGQEjEAn/45A6YKMQNlMj0BgFo1A8AONQME6jECgAY9ARkWOQArwikCe0IxAQ/ONQE0mj0DFXI9AzKOPQGsGj0AYJ4pASYyMQJ0zi0CD1JBAeMyPQOAhjUCZK4tAeI6MQF4jjkA=",
          "dtype": "f4"
         }
        },
        {
         "hoverinfo": "text",
         "marker": {
          "opacity": 0.5,
          "size": 5
         },
         "mode": "markers+text",
         "name": "21_kidney_ckd_renal",
         "text": [
          "",
          "",
          "",
          "",
          "",
          "",
          "",
          "",
          "",
          "",
          "",
          "",
          "",
          "",
          "",
          "",
          "",
          "",
          "",
          "",
          "",
          "",
          "",
          "",
          "",
          ""
         ],
         "textfont": {
          "size": 12
         },
         "type": "scattergl",
         "x": {
          "bdata": "WJwZQeqCGUGOMRlBtgYaQZZ3GUFiAxhB2ToZQTqeGUHjfxVBRGoZQdmCGUEyqhlBYbAYQQ2zGEGckRlB53QZQWuGGUFW7RlB7WEZQVGRGUFngxlBxIUZQamSGUE/XxlBmIsZQT9EGUE=",
          "dtype": "f4"
         },
         "y": {
          "bdata": "pf6yQNQis0DGgbJA06+yQPDFskDvvrFAqyeyQO29tUAJnLBAk6uyQFHDskCzHbNAObexQP1qsUDl47JA5MKyQJ4+s0BMG7RAoc2yQEMbs0CZxrJAdeyyQOPJskARerJAWduyQNJ2s0A=",
          "dtype": "f4"
         }
        },
        {
         "hoverinfo": "text",
         "marker": {
          "opacity": 0.5,
          "size": 5
         },
         "mode": "markers+text",
         "name": "22_and_the_to",
         "text": [
          "",
          "",
          "",
          "",
          "",
          "",
          "",
          "",
          "",
          "",
          "",
          "",
          "",
          "",
          "",
          "",
          "",
          "",
          "",
          "",
          "",
          "",
          "",
          "",
          "",
          "",
          "",
          "",
          "",
          "",
          "",
          "",
          "",
          "",
          "",
          "",
          "",
          "",
          "",
          ""
         ],
         "textfont": {
          "size": 12
         },
         "type": "scattergl",
         "x": {
          "bdata": "Z0LTQBNk1EDhSstAsW3XQGsE0kB0AtNAWpzTQHI0zEBHZ7xAMdHXQCko7EAIk9xAafXLQMlCvkDNPNRAdkzHQBcoC0EFJtNALvIMQcgg3kCBFtNAi37YQALC+kAdv8xAuUvVQORD10AbFtRAQtzWQFXau0A3LNJAB+jLQCUY30C9sNRApsDVQPq/0UD/It5Ab5vLQPdg0kCpgNpA27rJQA==",
          "dtype": "f4"
         },
         "y": {
          "bdata": "nbS7QKEpwEBuL9VAJKjQQG/M0UCrddFAjt66QPr81ECiC91Aaz7QQFx/z0CvJM9AuO7UQEq03UCZKdFAL67gQDYhA0FnfNFAAu66QFW+zUBkFdFA2PrSQJLO3kCcMNRAaZnTQNoVu0DzudBAPH7PQH402EBy6tFAYX7VQDnfxEAcFcJAISS7QNWU0kATcM5AXizUQJg/00C9EM9AoNLTQA==",
          "dtype": "f4"
         }
        }
       ],
       "layout": {
        "annotations": [
         {
          "showarrow": false,
          "text": "D1",
          "x": 4.414118766784668,
          "y": 6.955172860622406,
          "yshift": 10
         },
         {
          "showarrow": false,
          "text": "D2",
          "x": 8.285939931869507,
          "xshift": 10,
          "y": 10.480212020874024
         }
        ],
        "height": 750,
        "shapes": [
         {
          "line": {
           "color": "#CFD8DC",
           "width": 2
          },
          "type": "line",
          "x0": 8.285939931869507,
          "x1": 8.285939931869507,
          "y0": 3.4301337003707886,
          "y1": 10.480212020874024
         },
         {
          "line": {
           "color": "#9E9E9E",
           "width": 2
          },
          "type": "line",
          "x0": 4.414118766784668,
          "x1": 12.157761096954346,
          "y0": 6.955172860622406,
          "y1": 6.955172860622406
         }
        ],
        "template": {
         "data": {
          "bar": [
           {
            "error_x": {
             "color": "rgb(36,36,36)"
            },
            "error_y": {
             "color": "rgb(36,36,36)"
            },
            "marker": {
             "line": {
              "color": "white",
              "width": 0.5
             },
             "pattern": {
              "fillmode": "overlay",
              "size": 10,
              "solidity": 0.2
             }
            },
            "type": "bar"
           }
          ],
          "barpolar": [
           {
            "marker": {
             "line": {
              "color": "white",
              "width": 0.5
             },
             "pattern": {
              "fillmode": "overlay",
              "size": 10,
              "solidity": 0.2
             }
            },
            "type": "barpolar"
           }
          ],
          "carpet": [
           {
            "aaxis": {
             "endlinecolor": "rgb(36,36,36)",
             "gridcolor": "white",
             "linecolor": "white",
             "minorgridcolor": "white",
             "startlinecolor": "rgb(36,36,36)"
            },
            "baxis": {
             "endlinecolor": "rgb(36,36,36)",
             "gridcolor": "white",
             "linecolor": "white",
             "minorgridcolor": "white",
             "startlinecolor": "rgb(36,36,36)"
            },
            "type": "carpet"
           }
          ],
          "choropleth": [
           {
            "colorbar": {
             "outlinewidth": 1,
             "tickcolor": "rgb(36,36,36)",
             "ticks": "outside"
            },
            "type": "choropleth"
           }
          ],
          "contour": [
           {
            "colorbar": {
             "outlinewidth": 1,
             "tickcolor": "rgb(36,36,36)",
             "ticks": "outside"
            },
            "colorscale": [
             [
              0,
              "#440154"
             ],
             [
              0.1111111111111111,
              "#482878"
             ],
             [
              0.2222222222222222,
              "#3e4989"
             ],
             [
              0.3333333333333333,
              "#31688e"
             ],
             [
              0.4444444444444444,
              "#26828e"
             ],
             [
              0.5555555555555556,
              "#1f9e89"
             ],
             [
              0.6666666666666666,
              "#35b779"
             ],
             [
              0.7777777777777778,
              "#6ece58"
             ],
             [
              0.8888888888888888,
              "#b5de2b"
             ],
             [
              1,
              "#fde725"
             ]
            ],
            "type": "contour"
           }
          ],
          "contourcarpet": [
           {
            "colorbar": {
             "outlinewidth": 1,
             "tickcolor": "rgb(36,36,36)",
             "ticks": "outside"
            },
            "type": "contourcarpet"
           }
          ],
          "heatmap": [
           {
            "colorbar": {
             "outlinewidth": 1,
             "tickcolor": "rgb(36,36,36)",
             "ticks": "outside"
            },
            "colorscale": [
             [
              0,
              "#440154"
             ],
             [
              0.1111111111111111,
              "#482878"
             ],
             [
              0.2222222222222222,
              "#3e4989"
             ],
             [
              0.3333333333333333,
              "#31688e"
             ],
             [
              0.4444444444444444,
              "#26828e"
             ],
             [
              0.5555555555555556,
              "#1f9e89"
             ],
             [
              0.6666666666666666,
              "#35b779"
             ],
             [
              0.7777777777777778,
              "#6ece58"
             ],
             [
              0.8888888888888888,
              "#b5de2b"
             ],
             [
              1,
              "#fde725"
             ]
            ],
            "type": "heatmap"
           }
          ],
          "histogram": [
           {
            "marker": {
             "line": {
              "color": "white",
              "width": 0.6
             }
            },
            "type": "histogram"
           }
          ],
          "histogram2d": [
           {
            "colorbar": {
             "outlinewidth": 1,
             "tickcolor": "rgb(36,36,36)",
             "ticks": "outside"
            },
            "colorscale": [
             [
              0,
              "#440154"
             ],
             [
              0.1111111111111111,
              "#482878"
             ],
             [
              0.2222222222222222,
              "#3e4989"
             ],
             [
              0.3333333333333333,
              "#31688e"
             ],
             [
              0.4444444444444444,
              "#26828e"
             ],
             [
              0.5555555555555556,
              "#1f9e89"
             ],
             [
              0.6666666666666666,
              "#35b779"
             ],
             [
              0.7777777777777778,
              "#6ece58"
             ],
             [
              0.8888888888888888,
              "#b5de2b"
             ],
             [
              1,
              "#fde725"
             ]
            ],
            "type": "histogram2d"
           }
          ],
          "histogram2dcontour": [
           {
            "colorbar": {
             "outlinewidth": 1,
             "tickcolor": "rgb(36,36,36)",
             "ticks": "outside"
            },
            "colorscale": [
             [
              0,
              "#440154"
             ],
             [
              0.1111111111111111,
              "#482878"
             ],
             [
              0.2222222222222222,
              "#3e4989"
             ],
             [
              0.3333333333333333,
              "#31688e"
             ],
             [
              0.4444444444444444,
              "#26828e"
             ],
             [
              0.5555555555555556,
              "#1f9e89"
             ],
             [
              0.6666666666666666,
              "#35b779"
             ],
             [
              0.7777777777777778,
              "#6ece58"
             ],
             [
              0.8888888888888888,
              "#b5de2b"
             ],
             [
              1,
              "#fde725"
             ]
            ],
            "type": "histogram2dcontour"
           }
          ],
          "mesh3d": [
           {
            "colorbar": {
             "outlinewidth": 1,
             "tickcolor": "rgb(36,36,36)",
             "ticks": "outside"
            },
            "type": "mesh3d"
           }
          ],
          "parcoords": [
           {
            "line": {
             "colorbar": {
              "outlinewidth": 1,
              "tickcolor": "rgb(36,36,36)",
              "ticks": "outside"
             }
            },
            "type": "parcoords"
           }
          ],
          "pie": [
           {
            "automargin": true,
            "type": "pie"
           }
          ],
          "scatter": [
           {
            "fillpattern": {
             "fillmode": "overlay",
             "size": 10,
             "solidity": 0.2
            },
            "type": "scatter"
           }
          ],
          "scatter3d": [
           {
            "line": {
             "colorbar": {
              "outlinewidth": 1,
              "tickcolor": "rgb(36,36,36)",
              "ticks": "outside"
             }
            },
            "marker": {
             "colorbar": {
              "outlinewidth": 1,
              "tickcolor": "rgb(36,36,36)",
              "ticks": "outside"
             }
            },
            "type": "scatter3d"
           }
          ],
          "scattercarpet": [
           {
            "marker": {
             "colorbar": {
              "outlinewidth": 1,
              "tickcolor": "rgb(36,36,36)",
              "ticks": "outside"
             }
            },
            "type": "scattercarpet"
           }
          ],
          "scattergeo": [
           {
            "marker": {
             "colorbar": {
              "outlinewidth": 1,
              "tickcolor": "rgb(36,36,36)",
              "ticks": "outside"
             }
            },
            "type": "scattergeo"
           }
          ],
          "scattergl": [
           {
            "marker": {
             "colorbar": {
              "outlinewidth": 1,
              "tickcolor": "rgb(36,36,36)",
              "ticks": "outside"
             }
            },
            "type": "scattergl"
           }
          ],
          "scattermap": [
           {
            "marker": {
             "colorbar": {
              "outlinewidth": 1,
              "tickcolor": "rgb(36,36,36)",
              "ticks": "outside"
             }
            },
            "type": "scattermap"
           }
          ],
          "scattermapbox": [
           {
            "marker": {
             "colorbar": {
              "outlinewidth": 1,
              "tickcolor": "rgb(36,36,36)",
              "ticks": "outside"
             }
            },
            "type": "scattermapbox"
           }
          ],
          "scatterpolar": [
           {
            "marker": {
             "colorbar": {
              "outlinewidth": 1,
              "tickcolor": "rgb(36,36,36)",
              "ticks": "outside"
             }
            },
            "type": "scatterpolar"
           }
          ],
          "scatterpolargl": [
           {
            "marker": {
             "colorbar": {
              "outlinewidth": 1,
              "tickcolor": "rgb(36,36,36)",
              "ticks": "outside"
             }
            },
            "type": "scatterpolargl"
           }
          ],
          "scatterternary": [
           {
            "marker": {
             "colorbar": {
              "outlinewidth": 1,
              "tickcolor": "rgb(36,36,36)",
              "ticks": "outside"
             }
            },
            "type": "scatterternary"
           }
          ],
          "surface": [
           {
            "colorbar": {
             "outlinewidth": 1,
             "tickcolor": "rgb(36,36,36)",
             "ticks": "outside"
            },
            "colorscale": [
             [
              0,
              "#440154"
             ],
             [
              0.1111111111111111,
              "#482878"
             ],
             [
              0.2222222222222222,
              "#3e4989"
             ],
             [
              0.3333333333333333,
              "#31688e"
             ],
             [
              0.4444444444444444,
              "#26828e"
             ],
             [
              0.5555555555555556,
              "#1f9e89"
             ],
             [
              0.6666666666666666,
              "#35b779"
             ],
             [
              0.7777777777777778,
              "#6ece58"
             ],
             [
              0.8888888888888888,
              "#b5de2b"
             ],
             [
              1,
              "#fde725"
             ]
            ],
            "type": "surface"
           }
          ],
          "table": [
           {
            "cells": {
             "fill": {
              "color": "rgb(237,237,237)"
             },
             "line": {
              "color": "white"
             }
            },
            "header": {
             "fill": {
              "color": "rgb(217,217,217)"
             },
             "line": {
              "color": "white"
             }
            },
            "type": "table"
           }
          ]
         },
         "layout": {
          "annotationdefaults": {
           "arrowhead": 0,
           "arrowwidth": 1
          },
          "autotypenumbers": "strict",
          "coloraxis": {
           "colorbar": {
            "outlinewidth": 1,
            "tickcolor": "rgb(36,36,36)",
            "ticks": "outside"
           }
          },
          "colorscale": {
           "diverging": [
            [
             0,
             "rgb(103,0,31)"
            ],
            [
             0.1,
             "rgb(178,24,43)"
            ],
            [
             0.2,
             "rgb(214,96,77)"
            ],
            [
             0.3,
             "rgb(244,165,130)"
            ],
            [
             0.4,
             "rgb(253,219,199)"
            ],
            [
             0.5,
             "rgb(247,247,247)"
            ],
            [
             0.6,
             "rgb(209,229,240)"
            ],
            [
             0.7,
             "rgb(146,197,222)"
            ],
            [
             0.8,
             "rgb(67,147,195)"
            ],
            [
             0.9,
             "rgb(33,102,172)"
            ],
            [
             1,
             "rgb(5,48,97)"
            ]
           ],
           "sequential": [
            [
             0,
             "#440154"
            ],
            [
             0.1111111111111111,
             "#482878"
            ],
            [
             0.2222222222222222,
             "#3e4989"
            ],
            [
             0.3333333333333333,
             "#31688e"
            ],
            [
             0.4444444444444444,
             "#26828e"
            ],
            [
             0.5555555555555556,
             "#1f9e89"
            ],
            [
             0.6666666666666666,
             "#35b779"
            ],
            [
             0.7777777777777778,
             "#6ece58"
            ],
            [
             0.8888888888888888,
             "#b5de2b"
            ],
            [
             1,
             "#fde725"
            ]
           ],
           "sequentialminus": [
            [
             0,
             "#440154"
            ],
            [
             0.1111111111111111,
             "#482878"
            ],
            [
             0.2222222222222222,
             "#3e4989"
            ],
            [
             0.3333333333333333,
             "#31688e"
            ],
            [
             0.4444444444444444,
             "#26828e"
            ],
            [
             0.5555555555555556,
             "#1f9e89"
            ],
            [
             0.6666666666666666,
             "#35b779"
            ],
            [
             0.7777777777777778,
             "#6ece58"
            ],
            [
             0.8888888888888888,
             "#b5de2b"
            ],
            [
             1,
             "#fde725"
            ]
           ]
          },
          "colorway": [
           "#1F77B4",
           "#FF7F0E",
           "#2CA02C",
           "#D62728",
           "#9467BD",
           "#8C564B",
           "#E377C2",
           "#7F7F7F",
           "#BCBD22",
           "#17BECF"
          ],
          "font": {
           "color": "rgb(36,36,36)"
          },
          "geo": {
           "bgcolor": "white",
           "lakecolor": "white",
           "landcolor": "white",
           "showlakes": true,
           "showland": true,
           "subunitcolor": "white"
          },
          "hoverlabel": {
           "align": "left"
          },
          "hovermode": "closest",
          "mapbox": {
           "style": "light"
          },
          "paper_bgcolor": "white",
          "plot_bgcolor": "white",
          "polar": {
           "angularaxis": {
            "gridcolor": "rgb(232,232,232)",
            "linecolor": "rgb(36,36,36)",
            "showgrid": false,
            "showline": true,
            "ticks": "outside"
           },
           "bgcolor": "white",
           "radialaxis": {
            "gridcolor": "rgb(232,232,232)",
            "linecolor": "rgb(36,36,36)",
            "showgrid": false,
            "showline": true,
            "ticks": "outside"
           }
          },
          "scene": {
           "xaxis": {
            "backgroundcolor": "white",
            "gridcolor": "rgb(232,232,232)",
            "gridwidth": 2,
            "linecolor": "rgb(36,36,36)",
            "showbackground": true,
            "showgrid": false,
            "showline": true,
            "ticks": "outside",
            "zeroline": false,
            "zerolinecolor": "rgb(36,36,36)"
           },
           "yaxis": {
            "backgroundcolor": "white",
            "gridcolor": "rgb(232,232,232)",
            "gridwidth": 2,
            "linecolor": "rgb(36,36,36)",
            "showbackground": true,
            "showgrid": false,
            "showline": true,
            "ticks": "outside",
            "zeroline": false,
            "zerolinecolor": "rgb(36,36,36)"
           },
           "zaxis": {
            "backgroundcolor": "white",
            "gridcolor": "rgb(232,232,232)",
            "gridwidth": 2,
            "linecolor": "rgb(36,36,36)",
            "showbackground": true,
            "showgrid": false,
            "showline": true,
            "ticks": "outside",
            "zeroline": false,
            "zerolinecolor": "rgb(36,36,36)"
           }
          },
          "shapedefaults": {
           "fillcolor": "black",
           "line": {
            "width": 0
           },
           "opacity": 0.3
          },
          "ternary": {
           "aaxis": {
            "gridcolor": "rgb(232,232,232)",
            "linecolor": "rgb(36,36,36)",
            "showgrid": false,
            "showline": true,
            "ticks": "outside"
           },
           "baxis": {
            "gridcolor": "rgb(232,232,232)",
            "linecolor": "rgb(36,36,36)",
            "showgrid": false,
            "showline": true,
            "ticks": "outside"
           },
           "bgcolor": "white",
           "caxis": {
            "gridcolor": "rgb(232,232,232)",
            "linecolor": "rgb(36,36,36)",
            "showgrid": false,
            "showline": true,
            "ticks": "outside"
           }
          },
          "title": {
           "x": 0.05
          },
          "xaxis": {
           "automargin": true,
           "gridcolor": "rgb(232,232,232)",
           "linecolor": "rgb(36,36,36)",
           "showgrid": false,
           "showline": true,
           "ticks": "outside",
           "title": {
            "standoff": 15
           },
           "zeroline": false,
           "zerolinecolor": "rgb(36,36,36)"
          },
          "yaxis": {
           "automargin": true,
           "gridcolor": "rgb(232,232,232)",
           "linecolor": "rgb(36,36,36)",
           "showgrid": false,
           "showline": true,
           "ticks": "outside",
           "title": {
            "standoff": 15
           },
           "zeroline": false,
           "zerolinecolor": "rgb(36,36,36)"
          }
         }
        },
        "title": {
         "font": {
          "color": "Black",
          "size": 22
         },
         "text": "<b>Documents and Topics</b>",
         "x": 0.5,
         "xanchor": "center",
         "yanchor": "top"
        },
        "width": 1200,
        "xaxis": {
         "visible": false
        },
        "yaxis": {
         "visible": false
        }
       }
      }
     },
     "metadata": {},
     "output_type": "display_data"
    }
   ],
   "source": [
    "topic_model.visualize_documents(\n",
    "    text,\n",
    "    reduced_embeddings=reduced_embeddings,\n",
    "    hide_document_hover=True,\n",
    "    hide_annotations=True,\n",
    ")\n"
   ]
  },
  {
   "cell_type": "code",
   "execution_count": null,
   "id": "0024a3ad",
   "metadata": {},
   "outputs": [],
   "source": [
    "topic_labels = {\n",
    "    22: \"Sustainable Pharmaceutical Manufacturing\",\n",
    "    21: \"Chronic Kidney Disease and Organoids\",\n",
    "    20: \"Retinal and Ocular Disease Research\",\n",
    "    19: \"Cancer Prevention and Patient-Centered Care\",\n",
    "    18: \"Infectious Disease and Pandemic Response\",\n",
    "    17: \"Catalysis and Synthetic Organic Chemistry\",\n",
    "    16: \"Diabetes Monitoring and Hormonal Regulation\",\n",
    "    15: \"Brain Sensory and Cognitive Processing\",\n",
    "    14: \"\",\n",
    "    13: \"\",\n",
    "    12: \"\",\n",
    "    11: \"\",\n",
    "    10: \"\",\n",
    "    9: \"\",\n",
    "    8: \"\",\n",
    "    7: \"\",\n",
    "    6: \"\",\n",
    "    5: \"\",\n",
    "    4: \"\",\n",
    "    3: \"\",\n",
    "    2: \"\",\n",
    "    1: \"\",\n",
    "    0: \"\",\n",
    "}"
   ]
  },
  {
   "cell_type": "code",
   "execution_count": 23,
   "id": "f5b108e1",
   "metadata": {},
   "outputs": [],
   "source": [
    "import pandas as pd\n",
    "\n",
    "topic_df = pd.DataFrame(\n",
    "    {\n",
    "        \"projectID\": health_df[\"projectID\"],\n",
    "        \"title\": health_df[\"title\"],\n",
    "        \"abstract\": health_df[\"objective\"],\n",
    "        \"topic\": topic_model.topics_,\n",
    "    }\n",
    ")\n",
    "# topic_df.to_csv(\"data/processed/topic_df.csv\")\n"
   ]
  },
  {
   "cell_type": "code",
   "execution_count": 24,
   "id": "027099bb",
   "metadata": {},
   "outputs": [],
   "source": [
    "topics = topic_model.get_topic_info()\n",
    "# topics.to_csv(\"data/processed/topics.csv\")\n"
   ]
  },
  {
   "cell_type": "code",
   "execution_count": 25,
   "id": "ce726391",
   "metadata": {},
   "outputs": [
    {
     "data": {
      "text/plain": [
       "Index(['Topic', 'Count', 'Name', 'Representation', 'KeyBERT', 'MMR', 'POS',\n",
       "       'Representative_Docs'],\n",
       "      dtype='object')"
      ]
     },
     "execution_count": 25,
     "metadata": {},
     "output_type": "execute_result"
    }
   ],
   "source": [
    "topics.columns"
   ]
  },
  {
   "cell_type": "code",
   "execution_count": 26,
   "id": "8c866a2c",
   "metadata": {},
   "outputs": [
    {
     "data": {
      "text/plain": [
       "(3465, 10)"
      ]
     },
     "execution_count": 26,
     "metadata": {},
     "output_type": "execute_result"
    }
   ],
   "source": [
    "topic_df = pd.merge(\n",
    "    topic_df,\n",
    "    topics[[\"Topic\", \"Count\", \"MMR\", \"KeyBERT\", \"POS\"]],\n",
    "    left_on=\"topic\",\n",
    "    right_on=\"Topic\",\n",
    "    how=\"left\",\n",
    ")\n",
    "\n",
    "\n",
    "topic_df = pd.merge(\n",
    "    topic_df,\n",
    "    health_df[[\"projectID\", \"euroSciVocTitle\"]],\n",
    "    on=\"projectID\",\n",
    "    how=\"left\",\n",
    ")\n",
    "\n",
    "topic_df.shape\n"
   ]
  },
  {
   "cell_type": "code",
   "execution_count": 27,
   "id": "196bbe9c",
   "metadata": {},
   "outputs": [],
   "source": [
    "topic_df.to_csv(\"data/processed/topics_df.csv\")\n"
   ]
  },
  {
   "cell_type": "code",
   "execution_count": 18,
   "id": "92c8899e",
   "metadata": {},
   "outputs": [],
   "source": [
    "# or use one of the other topic representations, like KeyBERTInspired\n",
    "# keybert_topic_labels = {topic: \" | \".join(list(zip(*values))[0][:3]) for topic, values in topic_model.topic_aspects_[\"KeyBERT\"].items()}\n",
    "# topic_model.set_topic_labels(keybert_topic_labels)\n",
    "\n",
    "pos_topic_labels = {topic: \" | \".join(list(zip(*values))[0][:3]) for topic, values in topic_model.topic_aspects_[\"POS\"].items()}\n",
    "topic_model.set_topic_labels(pos_topic_labels)\n"
   ]
  },
  {
   "cell_type": "code",
   "execution_count": 44,
   "id": "aa2286e3",
   "metadata": {},
   "outputs": [
    {
     "data": {
      "application/vnd.plotly.v1+json": {
       "config": {
        "plotlyServerURL": "https://plot.ly"
       },
       "data": [
        {
         "customdata": [
          [
           0,
           "cells | cancer | immune | cell | tumor",
           152
          ],
          [
           1,
           "social | political | pandemic | mental | policy",
           149
          ],
          [
           2,
           "bone | tissue | bioprinting | pain | oa",
           111
          ],
          [
           3,
           "imaging | cancer | ai | breast | time",
           111
          ],
          [
           4,
           "food | sustainable | aquaculture | production | climate",
           99
          ],
          [
           5,
           "plant | plants | crop | climate | species",
           93
          ],
          [
           6,
           "brain | epilepsy | stimulation | neural | activity",
           91
          ],
          [
           7,
           "antibiotics | bacteria | bacterial | resistance | antibiotic",
           90
          ],
          [
           8,
           "stroke | heart | patients | clinical | flow",
           89
          ],
          [
           9,
           "gut | ibd | microbiota | microbiome | intestinal",
           88
          ],
          [
           10,
           "ad | microglia | brain | disease | alzheimer",
           68
          ],
          [
           11,
           "data | ai | privacy | healthcare | european",
           67
          ],
          [
           12,
           "cell | gene | chromatin | transcription | dna",
           66
          ],
          [
           13,
           "africa | tb | malaria | vaccine | children",
           61
          ],
          [
           14,
           "cardiac | heart | cardiomyocytes | hf | human",
           51
          ],
          [
           15,
           "liver | nafld | metabolic | liver disease | disease",
           50
          ],
          [
           16,
           "visual | neural | sensory | brain | circuits",
           50
          ],
          [
           17,
           "detection | cancer | evs | blood | biomarkers",
           47
          ],
          [
           18,
           "synthesis | chiral | molecules | reactions | chemistry",
           47
          ],
          [
           19,
           "protein | aggregation | neurodegenerative | er | tau",
           43
          ],
          [
           20,
           "viral | viruses | virus | antiviral | host",
           41
          ],
          [
           21,
           "dose | radiation | cancer | radiotherapy | therapy",
           40
          ],
          [
           22,
           "insulin | diabetes | glucose | t2d | cell",
           40
          ],
          [
           23,
           "cancer | cancers | epigenetic | resistance | single",
           39
          ],
          [
           24,
           "preparedness | epidemic | pandemic | disease | biodiversity",
           38
          ],
          [
           25,
           "cancer | care | prevention | patients | european",
           36
          ],
          [
           26,
           "aml | hsc | hematopoietic | hscs | stem",
           34
          ],
          [
           27,
           "cell | mechanical | mechanics | morphogenesis | forces",
           34
          ],
          [
           28,
           "pharmaceutical | sustainable | pharmaceuticals | production | waste",
           33
          ],
          [
           29,
           "chemicals | pfas | exposure | edcs | assessment",
           32
          ],
          [
           30,
           "cancer | tumour | cafs | tumor | metastasis",
           32
          ],
          [
           31,
           "hiv | respiratory | infection | asthma | viral",
           30
          ],
          [
           32,
           "eye | retinal | ocular | retina | blindness",
           30
          ],
          [
           33,
           "obesity | metabolic | weight | energy | bat",
           26
          ],
          [
           34,
           "kidney | ckd | renal | kidney disease | chronic kidney",
           26
          ],
          [
           35,
           "magnetic | drug | drug delivery | cancer | nanoparticles",
           25
          ],
          [
           36,
           "delivery | lnps | rna | formulations | mrna",
           25
          ],
          [
           37,
           "gbm | tumour | glioblastoma | tumor | brain",
           24
          ],
          [
           38,
           "detection | point care | point | diagnostic | diagnosis",
           22
          ],
          [
           39,
           "past | ancient | archaeological | human | dental",
           21
          ],
          [
           40,
           "malaria | parasite | plasmodium | parasites | sand",
           21
          ],
          [
           41,
           "cancer | pancreatic | tumor | pdac | breast cancer",
           20
          ],
          [
           42,
           "obesity | weight | iodine | prevention | interventions",
           20
          ],
          [
           43,
           "psychiatric | treatment | disorders | mental | autism",
           20
          ],
          [
           44,
           "climate | air | climate change | environmental | change",
           20
          ],
          [
           45,
           "atherosclerosis | risk | cvd | sex | atherosclerotic",
           20
          ]
         ],
         "hovertemplate": "<b>Topic %{customdata[0]}</b><br>%{customdata[1]}<br>Size: %{customdata[2]}",
         "legendgroup": "",
         "marker": {
          "color": "#B0BEC5",
          "line": {
           "color": "DarkSlateGrey",
           "width": 2
          },
          "size": {
           "bdata": "mACVAG8AbwBjAF0AWwBaAFkAWABEAEMAQgA9ADMAMgAyAC8ALwArACkAKAAoACcAJgAkACIAIgAhACAAIAAeAB4AGgAaABkAGQAYABYAFQAVABQAFAAUABQAFAA=",
           "dtype": "i2"
          },
          "sizemode": "area",
          "sizeref": 0.095,
          "symbol": "circle"
         },
         "mode": "markers",
         "name": "",
         "orientation": "v",
         "showlegend": false,
         "type": "scatter",
         "x": {
          "bdata": "A2CzwOAg4kGFW/vA6tWDQW6yQEFwPjxBfY9zQagePUGyNvnA99yDQKrzXL8PDONBxNNRwahbdkFqf/nAymYFwfHjdEEqg4JBQ+Y5QSjHZb/SF45AqUuEQUMTCMG15MnA3vJ0QVdT4kFRM87AxdNRwbP+OEGoNjdBl5/AwDuJi0ApK4VBX7EJwd6pCsERsey+cKzsvugXrsDc/IBBL7I4QftDhEA2S7HAKMtvQQTRcEEXt29BBbb8wA==",
          "dtype": "f4"
         },
         "xaxis": "x",
         "y": {
          "bdata": "DlaePrfD10BmvQTBYMilQDNULUHg4ihBQI9WwZnDKUGqfAbBPJpmwIThij/9b9tAisgBQCaloMAS0gvBgNgTwd06VcGKfqBANSR5Qeoajz8qEHvA/p+nQFucD8FpYRs+2dOdwDmN2EAHPoo+pcgBQE4NekEy1XtB6JyWPbPzdcBhHqtACIoTwa3REcFQidBBSInQQTsWqj00aZpAClclQZZqZ8Aw4do+I4iTwNZMWcH3X5PAFVYQwQ==",
          "dtype": "f4"
         },
         "yaxis": "y"
        }
       ],
       "layout": {
        "annotations": [
         {
          "showarrow": false,
          "text": "D1",
          "x": -15.081332206726074,
          "y": 7.179327964782715,
          "yshift": 10
         },
         {
          "showarrow": false,
          "text": "D2",
          "x": 8.778345108032227,
          "xshift": 10,
          "y": 29.97710418701172
         }
        ],
        "height": 650,
        "hoverlabel": {
         "bgcolor": "white",
         "font": {
          "family": "Rockwell",
          "size": 16
         }
        },
        "legend": {
         "itemsizing": "constant",
         "tracegroupgap": 0
        },
        "margin": {
         "t": 60
        },
        "shapes": [
         {
          "line": {
           "color": "#CFD8DC",
           "width": 2
          },
          "type": "line",
          "x0": 8.778345108032227,
          "x1": 8.778345108032227,
          "y0": -15.618448257446289,
          "y1": 29.97710418701172
         },
         {
          "line": {
           "color": "#9E9E9E",
           "width": 2
          },
          "type": "line",
          "x0": -15.081332206726074,
          "x1": 32.638023376464844,
          "y0": 7.179327964782715,
          "y1": 7.179327964782715
         }
        ],
        "sliders": [
         {
          "active": 0,
          "pad": {
           "t": 50
          },
          "steps": [
           {
            "args": [
             {
              "marker.color": [
               [
                "red",
                "#B0BEC5",
                "#B0BEC5",
                "#B0BEC5",
                "#B0BEC5",
                "#B0BEC5",
                "#B0BEC5",
                "#B0BEC5",
                "#B0BEC5",
                "#B0BEC5",
                "#B0BEC5",
                "#B0BEC5",
                "#B0BEC5",
                "#B0BEC5",
                "#B0BEC5",
                "#B0BEC5",
                "#B0BEC5",
                "#B0BEC5",
                "#B0BEC5",
                "#B0BEC5",
                "#B0BEC5",
                "#B0BEC5",
                "#B0BEC5",
                "#B0BEC5",
                "#B0BEC5",
                "#B0BEC5",
                "#B0BEC5",
                "#B0BEC5",
                "#B0BEC5",
                "#B0BEC5",
                "#B0BEC5",
                "#B0BEC5",
                "#B0BEC5",
                "#B0BEC5",
                "#B0BEC5",
                "#B0BEC5",
                "#B0BEC5",
                "#B0BEC5",
                "#B0BEC5",
                "#B0BEC5",
                "#B0BEC5",
                "#B0BEC5",
                "#B0BEC5",
                "#B0BEC5",
                "#B0BEC5",
                "#B0BEC5"
               ]
              ]
             }
            ],
            "label": "Topic 0",
            "method": "update"
           },
           {
            "args": [
             {
              "marker.color": [
               [
                "#B0BEC5",
                "red",
                "#B0BEC5",
                "#B0BEC5",
                "#B0BEC5",
                "#B0BEC5",
                "#B0BEC5",
                "#B0BEC5",
                "#B0BEC5",
                "#B0BEC5",
                "#B0BEC5",
                "#B0BEC5",
                "#B0BEC5",
                "#B0BEC5",
                "#B0BEC5",
                "#B0BEC5",
                "#B0BEC5",
                "#B0BEC5",
                "#B0BEC5",
                "#B0BEC5",
                "#B0BEC5",
                "#B0BEC5",
                "#B0BEC5",
                "#B0BEC5",
                "#B0BEC5",
                "#B0BEC5",
                "#B0BEC5",
                "#B0BEC5",
                "#B0BEC5",
                "#B0BEC5",
                "#B0BEC5",
                "#B0BEC5",
                "#B0BEC5",
                "#B0BEC5",
                "#B0BEC5",
                "#B0BEC5",
                "#B0BEC5",
                "#B0BEC5",
                "#B0BEC5",
                "#B0BEC5",
                "#B0BEC5",
                "#B0BEC5",
                "#B0BEC5",
                "#B0BEC5",
                "#B0BEC5",
                "#B0BEC5"
               ]
              ]
             }
            ],
            "label": "Topic 1",
            "method": "update"
           },
           {
            "args": [
             {
              "marker.color": [
               [
                "#B0BEC5",
                "#B0BEC5",
                "red",
                "#B0BEC5",
                "#B0BEC5",
                "#B0BEC5",
                "#B0BEC5",
                "#B0BEC5",
                "#B0BEC5",
                "#B0BEC5",
                "#B0BEC5",
                "#B0BEC5",
                "#B0BEC5",
                "#B0BEC5",
                "#B0BEC5",
                "#B0BEC5",
                "#B0BEC5",
                "#B0BEC5",
                "#B0BEC5",
                "#B0BEC5",
                "#B0BEC5",
                "#B0BEC5",
                "#B0BEC5",
                "#B0BEC5",
                "#B0BEC5",
                "#B0BEC5",
                "#B0BEC5",
                "#B0BEC5",
                "#B0BEC5",
                "#B0BEC5",
                "#B0BEC5",
                "#B0BEC5",
                "#B0BEC5",
                "#B0BEC5",
                "#B0BEC5",
                "#B0BEC5",
                "#B0BEC5",
                "#B0BEC5",
                "#B0BEC5",
                "#B0BEC5",
                "#B0BEC5",
                "#B0BEC5",
                "#B0BEC5",
                "#B0BEC5",
                "#B0BEC5",
                "#B0BEC5"
               ]
              ]
             }
            ],
            "label": "Topic 2",
            "method": "update"
           },
           {
            "args": [
             {
              "marker.color": [
               [
                "#B0BEC5",
                "#B0BEC5",
                "#B0BEC5",
                "red",
                "#B0BEC5",
                "#B0BEC5",
                "#B0BEC5",
                "#B0BEC5",
                "#B0BEC5",
                "#B0BEC5",
                "#B0BEC5",
                "#B0BEC5",
                "#B0BEC5",
                "#B0BEC5",
                "#B0BEC5",
                "#B0BEC5",
                "#B0BEC5",
                "#B0BEC5",
                "#B0BEC5",
                "#B0BEC5",
                "#B0BEC5",
                "#B0BEC5",
                "#B0BEC5",
                "#B0BEC5",
                "#B0BEC5",
                "#B0BEC5",
                "#B0BEC5",
                "#B0BEC5",
                "#B0BEC5",
                "#B0BEC5",
                "#B0BEC5",
                "#B0BEC5",
                "#B0BEC5",
                "#B0BEC5",
                "#B0BEC5",
                "#B0BEC5",
                "#B0BEC5",
                "#B0BEC5",
                "#B0BEC5",
                "#B0BEC5",
                "#B0BEC5",
                "#B0BEC5",
                "#B0BEC5",
                "#B0BEC5",
                "#B0BEC5",
                "#B0BEC5"
               ]
              ]
             }
            ],
            "label": "Topic 3",
            "method": "update"
           },
           {
            "args": [
             {
              "marker.color": [
               [
                "#B0BEC5",
                "#B0BEC5",
                "#B0BEC5",
                "#B0BEC5",
                "red",
                "#B0BEC5",
                "#B0BEC5",
                "#B0BEC5",
                "#B0BEC5",
                "#B0BEC5",
                "#B0BEC5",
                "#B0BEC5",
                "#B0BEC5",
                "#B0BEC5",
                "#B0BEC5",
                "#B0BEC5",
                "#B0BEC5",
                "#B0BEC5",
                "#B0BEC5",
                "#B0BEC5",
                "#B0BEC5",
                "#B0BEC5",
                "#B0BEC5",
                "#B0BEC5",
                "#B0BEC5",
                "#B0BEC5",
                "#B0BEC5",
                "#B0BEC5",
                "#B0BEC5",
                "#B0BEC5",
                "#B0BEC5",
                "#B0BEC5",
                "#B0BEC5",
                "#B0BEC5",
                "#B0BEC5",
                "#B0BEC5",
                "#B0BEC5",
                "#B0BEC5",
                "#B0BEC5",
                "#B0BEC5",
                "#B0BEC5",
                "#B0BEC5",
                "#B0BEC5",
                "#B0BEC5",
                "#B0BEC5",
                "#B0BEC5"
               ]
              ]
             }
            ],
            "label": "Topic 4",
            "method": "update"
           },
           {
            "args": [
             {
              "marker.color": [
               [
                "#B0BEC5",
                "#B0BEC5",
                "#B0BEC5",
                "#B0BEC5",
                "#B0BEC5",
                "red",
                "#B0BEC5",
                "#B0BEC5",
                "#B0BEC5",
                "#B0BEC5",
                "#B0BEC5",
                "#B0BEC5",
                "#B0BEC5",
                "#B0BEC5",
                "#B0BEC5",
                "#B0BEC5",
                "#B0BEC5",
                "#B0BEC5",
                "#B0BEC5",
                "#B0BEC5",
                "#B0BEC5",
                "#B0BEC5",
                "#B0BEC5",
                "#B0BEC5",
                "#B0BEC5",
                "#B0BEC5",
                "#B0BEC5",
                "#B0BEC5",
                "#B0BEC5",
                "#B0BEC5",
                "#B0BEC5",
                "#B0BEC5",
                "#B0BEC5",
                "#B0BEC5",
                "#B0BEC5",
                "#B0BEC5",
                "#B0BEC5",
                "#B0BEC5",
                "#B0BEC5",
                "#B0BEC5",
                "#B0BEC5",
                "#B0BEC5",
                "#B0BEC5",
                "#B0BEC5",
                "#B0BEC5",
                "#B0BEC5"
               ]
              ]
             }
            ],
            "label": "Topic 5",
            "method": "update"
           },
           {
            "args": [
             {
              "marker.color": [
               [
                "#B0BEC5",
                "#B0BEC5",
                "#B0BEC5",
                "#B0BEC5",
                "#B0BEC5",
                "#B0BEC5",
                "red",
                "#B0BEC5",
                "#B0BEC5",
                "#B0BEC5",
                "#B0BEC5",
                "#B0BEC5",
                "#B0BEC5",
                "#B0BEC5",
                "#B0BEC5",
                "#B0BEC5",
                "#B0BEC5",
                "#B0BEC5",
                "#B0BEC5",
                "#B0BEC5",
                "#B0BEC5",
                "#B0BEC5",
                "#B0BEC5",
                "#B0BEC5",
                "#B0BEC5",
                "#B0BEC5",
                "#B0BEC5",
                "#B0BEC5",
                "#B0BEC5",
                "#B0BEC5",
                "#B0BEC5",
                "#B0BEC5",
                "#B0BEC5",
                "#B0BEC5",
                "#B0BEC5",
                "#B0BEC5",
                "#B0BEC5",
                "#B0BEC5",
                "#B0BEC5",
                "#B0BEC5",
                "#B0BEC5",
                "#B0BEC5",
                "#B0BEC5",
                "#B0BEC5",
                "#B0BEC5",
                "#B0BEC5"
               ]
              ]
             }
            ],
            "label": "Topic 6",
            "method": "update"
           },
           {
            "args": [
             {
              "marker.color": [
               [
                "#B0BEC5",
                "#B0BEC5",
                "#B0BEC5",
                "#B0BEC5",
                "#B0BEC5",
                "#B0BEC5",
                "#B0BEC5",
                "red",
                "#B0BEC5",
                "#B0BEC5",
                "#B0BEC5",
                "#B0BEC5",
                "#B0BEC5",
                "#B0BEC5",
                "#B0BEC5",
                "#B0BEC5",
                "#B0BEC5",
                "#B0BEC5",
                "#B0BEC5",
                "#B0BEC5",
                "#B0BEC5",
                "#B0BEC5",
                "#B0BEC5",
                "#B0BEC5",
                "#B0BEC5",
                "#B0BEC5",
                "#B0BEC5",
                "#B0BEC5",
                "#B0BEC5",
                "#B0BEC5",
                "#B0BEC5",
                "#B0BEC5",
                "#B0BEC5",
                "#B0BEC5",
                "#B0BEC5",
                "#B0BEC5",
                "#B0BEC5",
                "#B0BEC5",
                "#B0BEC5",
                "#B0BEC5",
                "#B0BEC5",
                "#B0BEC5",
                "#B0BEC5",
                "#B0BEC5",
                "#B0BEC5",
                "#B0BEC5"
               ]
              ]
             }
            ],
            "label": "Topic 7",
            "method": "update"
           },
           {
            "args": [
             {
              "marker.color": [
               [
                "#B0BEC5",
                "#B0BEC5",
                "#B0BEC5",
                "#B0BEC5",
                "#B0BEC5",
                "#B0BEC5",
                "#B0BEC5",
                "#B0BEC5",
                "red",
                "#B0BEC5",
                "#B0BEC5",
                "#B0BEC5",
                "#B0BEC5",
                "#B0BEC5",
                "#B0BEC5",
                "#B0BEC5",
                "#B0BEC5",
                "#B0BEC5",
                "#B0BEC5",
                "#B0BEC5",
                "#B0BEC5",
                "#B0BEC5",
                "#B0BEC5",
                "#B0BEC5",
                "#B0BEC5",
                "#B0BEC5",
                "#B0BEC5",
                "#B0BEC5",
                "#B0BEC5",
                "#B0BEC5",
                "#B0BEC5",
                "#B0BEC5",
                "#B0BEC5",
                "#B0BEC5",
                "#B0BEC5",
                "#B0BEC5",
                "#B0BEC5",
                "#B0BEC5",
                "#B0BEC5",
                "#B0BEC5",
                "#B0BEC5",
                "#B0BEC5",
                "#B0BEC5",
                "#B0BEC5",
                "#B0BEC5",
                "#B0BEC5"
               ]
              ]
             }
            ],
            "label": "Topic 8",
            "method": "update"
           },
           {
            "args": [
             {
              "marker.color": [
               [
                "#B0BEC5",
                "#B0BEC5",
                "#B0BEC5",
                "#B0BEC5",
                "#B0BEC5",
                "#B0BEC5",
                "#B0BEC5",
                "#B0BEC5",
                "#B0BEC5",
                "red",
                "#B0BEC5",
                "#B0BEC5",
                "#B0BEC5",
                "#B0BEC5",
                "#B0BEC5",
                "#B0BEC5",
                "#B0BEC5",
                "#B0BEC5",
                "#B0BEC5",
                "#B0BEC5",
                "#B0BEC5",
                "#B0BEC5",
                "#B0BEC5",
                "#B0BEC5",
                "#B0BEC5",
                "#B0BEC5",
                "#B0BEC5",
                "#B0BEC5",
                "#B0BEC5",
                "#B0BEC5",
                "#B0BEC5",
                "#B0BEC5",
                "#B0BEC5",
                "#B0BEC5",
                "#B0BEC5",
                "#B0BEC5",
                "#B0BEC5",
                "#B0BEC5",
                "#B0BEC5",
                "#B0BEC5",
                "#B0BEC5",
                "#B0BEC5",
                "#B0BEC5",
                "#B0BEC5",
                "#B0BEC5",
                "#B0BEC5"
               ]
              ]
             }
            ],
            "label": "Topic 9",
            "method": "update"
           },
           {
            "args": [
             {
              "marker.color": [
               [
                "#B0BEC5",
                "#B0BEC5",
                "#B0BEC5",
                "#B0BEC5",
                "#B0BEC5",
                "#B0BEC5",
                "#B0BEC5",
                "#B0BEC5",
                "#B0BEC5",
                "#B0BEC5",
                "red",
                "#B0BEC5",
                "#B0BEC5",
                "#B0BEC5",
                "#B0BEC5",
                "#B0BEC5",
                "#B0BEC5",
                "#B0BEC5",
                "#B0BEC5",
                "#B0BEC5",
                "#B0BEC5",
                "#B0BEC5",
                "#B0BEC5",
                "#B0BEC5",
                "#B0BEC5",
                "#B0BEC5",
                "#B0BEC5",
                "#B0BEC5",
                "#B0BEC5",
                "#B0BEC5",
                "#B0BEC5",
                "#B0BEC5",
                "#B0BEC5",
                "#B0BEC5",
                "#B0BEC5",
                "#B0BEC5",
                "#B0BEC5",
                "#B0BEC5",
                "#B0BEC5",
                "#B0BEC5",
                "#B0BEC5",
                "#B0BEC5",
                "#B0BEC5",
                "#B0BEC5",
                "#B0BEC5",
                "#B0BEC5"
               ]
              ]
             }
            ],
            "label": "Topic 10",
            "method": "update"
           },
           {
            "args": [
             {
              "marker.color": [
               [
                "#B0BEC5",
                "#B0BEC5",
                "#B0BEC5",
                "#B0BEC5",
                "#B0BEC5",
                "#B0BEC5",
                "#B0BEC5",
                "#B0BEC5",
                "#B0BEC5",
                "#B0BEC5",
                "#B0BEC5",
                "red",
                "#B0BEC5",
                "#B0BEC5",
                "#B0BEC5",
                "#B0BEC5",
                "#B0BEC5",
                "#B0BEC5",
                "#B0BEC5",
                "#B0BEC5",
                "#B0BEC5",
                "#B0BEC5",
                "#B0BEC5",
                "#B0BEC5",
                "#B0BEC5",
                "#B0BEC5",
                "#B0BEC5",
                "#B0BEC5",
                "#B0BEC5",
                "#B0BEC5",
                "#B0BEC5",
                "#B0BEC5",
                "#B0BEC5",
                "#B0BEC5",
                "#B0BEC5",
                "#B0BEC5",
                "#B0BEC5",
                "#B0BEC5",
                "#B0BEC5",
                "#B0BEC5",
                "#B0BEC5",
                "#B0BEC5",
                "#B0BEC5",
                "#B0BEC5",
                "#B0BEC5",
                "#B0BEC5"
               ]
              ]
             }
            ],
            "label": "Topic 11",
            "method": "update"
           },
           {
            "args": [
             {
              "marker.color": [
               [
                "#B0BEC5",
                "#B0BEC5",
                "#B0BEC5",
                "#B0BEC5",
                "#B0BEC5",
                "#B0BEC5",
                "#B0BEC5",
                "#B0BEC5",
                "#B0BEC5",
                "#B0BEC5",
                "#B0BEC5",
                "#B0BEC5",
                "red",
                "#B0BEC5",
                "#B0BEC5",
                "#B0BEC5",
                "#B0BEC5",
                "#B0BEC5",
                "#B0BEC5",
                "#B0BEC5",
                "#B0BEC5",
                "#B0BEC5",
                "#B0BEC5",
                "#B0BEC5",
                "#B0BEC5",
                "#B0BEC5",
                "#B0BEC5",
                "#B0BEC5",
                "#B0BEC5",
                "#B0BEC5",
                "#B0BEC5",
                "#B0BEC5",
                "#B0BEC5",
                "#B0BEC5",
                "#B0BEC5",
                "#B0BEC5",
                "#B0BEC5",
                "#B0BEC5",
                "#B0BEC5",
                "#B0BEC5",
                "#B0BEC5",
                "#B0BEC5",
                "#B0BEC5",
                "#B0BEC5",
                "#B0BEC5",
                "#B0BEC5"
               ]
              ]
             }
            ],
            "label": "Topic 12",
            "method": "update"
           },
           {
            "args": [
             {
              "marker.color": [
               [
                "#B0BEC5",
                "#B0BEC5",
                "#B0BEC5",
                "#B0BEC5",
                "#B0BEC5",
                "#B0BEC5",
                "#B0BEC5",
                "#B0BEC5",
                "#B0BEC5",
                "#B0BEC5",
                "#B0BEC5",
                "#B0BEC5",
                "#B0BEC5",
                "red",
                "#B0BEC5",
                "#B0BEC5",
                "#B0BEC5",
                "#B0BEC5",
                "#B0BEC5",
                "#B0BEC5",
                "#B0BEC5",
                "#B0BEC5",
                "#B0BEC5",
                "#B0BEC5",
                "#B0BEC5",
                "#B0BEC5",
                "#B0BEC5",
                "#B0BEC5",
                "#B0BEC5",
                "#B0BEC5",
                "#B0BEC5",
                "#B0BEC5",
                "#B0BEC5",
                "#B0BEC5",
                "#B0BEC5",
                "#B0BEC5",
                "#B0BEC5",
                "#B0BEC5",
                "#B0BEC5",
                "#B0BEC5",
                "#B0BEC5",
                "#B0BEC5",
                "#B0BEC5",
                "#B0BEC5",
                "#B0BEC5",
                "#B0BEC5"
               ]
              ]
             }
            ],
            "label": "Topic 13",
            "method": "update"
           },
           {
            "args": [
             {
              "marker.color": [
               [
                "#B0BEC5",
                "#B0BEC5",
                "#B0BEC5",
                "#B0BEC5",
                "#B0BEC5",
                "#B0BEC5",
                "#B0BEC5",
                "#B0BEC5",
                "#B0BEC5",
                "#B0BEC5",
                "#B0BEC5",
                "#B0BEC5",
                "#B0BEC5",
                "#B0BEC5",
                "red",
                "#B0BEC5",
                "#B0BEC5",
                "#B0BEC5",
                "#B0BEC5",
                "#B0BEC5",
                "#B0BEC5",
                "#B0BEC5",
                "#B0BEC5",
                "#B0BEC5",
                "#B0BEC5",
                "#B0BEC5",
                "#B0BEC5",
                "#B0BEC5",
                "#B0BEC5",
                "#B0BEC5",
                "#B0BEC5",
                "#B0BEC5",
                "#B0BEC5",
                "#B0BEC5",
                "#B0BEC5",
                "#B0BEC5",
                "#B0BEC5",
                "#B0BEC5",
                "#B0BEC5",
                "#B0BEC5",
                "#B0BEC5",
                "#B0BEC5",
                "#B0BEC5",
                "#B0BEC5",
                "#B0BEC5",
                "#B0BEC5"
               ]
              ]
             }
            ],
            "label": "Topic 14",
            "method": "update"
           },
           {
            "args": [
             {
              "marker.color": [
               [
                "#B0BEC5",
                "#B0BEC5",
                "#B0BEC5",
                "#B0BEC5",
                "#B0BEC5",
                "#B0BEC5",
                "#B0BEC5",
                "#B0BEC5",
                "#B0BEC5",
                "#B0BEC5",
                "#B0BEC5",
                "#B0BEC5",
                "#B0BEC5",
                "#B0BEC5",
                "#B0BEC5",
                "red",
                "#B0BEC5",
                "#B0BEC5",
                "#B0BEC5",
                "#B0BEC5",
                "#B0BEC5",
                "#B0BEC5",
                "#B0BEC5",
                "#B0BEC5",
                "#B0BEC5",
                "#B0BEC5",
                "#B0BEC5",
                "#B0BEC5",
                "#B0BEC5",
                "#B0BEC5",
                "#B0BEC5",
                "#B0BEC5",
                "#B0BEC5",
                "#B0BEC5",
                "#B0BEC5",
                "#B0BEC5",
                "#B0BEC5",
                "#B0BEC5",
                "#B0BEC5",
                "#B0BEC5",
                "#B0BEC5",
                "#B0BEC5",
                "#B0BEC5",
                "#B0BEC5",
                "#B0BEC5",
                "#B0BEC5"
               ]
              ]
             }
            ],
            "label": "Topic 15",
            "method": "update"
           },
           {
            "args": [
             {
              "marker.color": [
               [
                "#B0BEC5",
                "#B0BEC5",
                "#B0BEC5",
                "#B0BEC5",
                "#B0BEC5",
                "#B0BEC5",
                "#B0BEC5",
                "#B0BEC5",
                "#B0BEC5",
                "#B0BEC5",
                "#B0BEC5",
                "#B0BEC5",
                "#B0BEC5",
                "#B0BEC5",
                "#B0BEC5",
                "#B0BEC5",
                "red",
                "#B0BEC5",
                "#B0BEC5",
                "#B0BEC5",
                "#B0BEC5",
                "#B0BEC5",
                "#B0BEC5",
                "#B0BEC5",
                "#B0BEC5",
                "#B0BEC5",
                "#B0BEC5",
                "#B0BEC5",
                "#B0BEC5",
                "#B0BEC5",
                "#B0BEC5",
                "#B0BEC5",
                "#B0BEC5",
                "#B0BEC5",
                "#B0BEC5",
                "#B0BEC5",
                "#B0BEC5",
                "#B0BEC5",
                "#B0BEC5",
                "#B0BEC5",
                "#B0BEC5",
                "#B0BEC5",
                "#B0BEC5",
                "#B0BEC5",
                "#B0BEC5",
                "#B0BEC5"
               ]
              ]
             }
            ],
            "label": "Topic 16",
            "method": "update"
           },
           {
            "args": [
             {
              "marker.color": [
               [
                "#B0BEC5",
                "#B0BEC5",
                "#B0BEC5",
                "#B0BEC5",
                "#B0BEC5",
                "#B0BEC5",
                "#B0BEC5",
                "#B0BEC5",
                "#B0BEC5",
                "#B0BEC5",
                "#B0BEC5",
                "#B0BEC5",
                "#B0BEC5",
                "#B0BEC5",
                "#B0BEC5",
                "#B0BEC5",
                "#B0BEC5",
                "red",
                "#B0BEC5",
                "#B0BEC5",
                "#B0BEC5",
                "#B0BEC5",
                "#B0BEC5",
                "#B0BEC5",
                "#B0BEC5",
                "#B0BEC5",
                "#B0BEC5",
                "#B0BEC5",
                "#B0BEC5",
                "#B0BEC5",
                "#B0BEC5",
                "#B0BEC5",
                "#B0BEC5",
                "#B0BEC5",
                "#B0BEC5",
                "#B0BEC5",
                "#B0BEC5",
                "#B0BEC5",
                "#B0BEC5",
                "#B0BEC5",
                "#B0BEC5",
                "#B0BEC5",
                "#B0BEC5",
                "#B0BEC5",
                "#B0BEC5",
                "#B0BEC5"
               ]
              ]
             }
            ],
            "label": "Topic 17",
            "method": "update"
           },
           {
            "args": [
             {
              "marker.color": [
               [
                "#B0BEC5",
                "#B0BEC5",
                "#B0BEC5",
                "#B0BEC5",
                "#B0BEC5",
                "#B0BEC5",
                "#B0BEC5",
                "#B0BEC5",
                "#B0BEC5",
                "#B0BEC5",
                "#B0BEC5",
                "#B0BEC5",
                "#B0BEC5",
                "#B0BEC5",
                "#B0BEC5",
                "#B0BEC5",
                "#B0BEC5",
                "#B0BEC5",
                "red",
                "#B0BEC5",
                "#B0BEC5",
                "#B0BEC5",
                "#B0BEC5",
                "#B0BEC5",
                "#B0BEC5",
                "#B0BEC5",
                "#B0BEC5",
                "#B0BEC5",
                "#B0BEC5",
                "#B0BEC5",
                "#B0BEC5",
                "#B0BEC5",
                "#B0BEC5",
                "#B0BEC5",
                "#B0BEC5",
                "#B0BEC5",
                "#B0BEC5",
                "#B0BEC5",
                "#B0BEC5",
                "#B0BEC5",
                "#B0BEC5",
                "#B0BEC5",
                "#B0BEC5",
                "#B0BEC5",
                "#B0BEC5",
                "#B0BEC5"
               ]
              ]
             }
            ],
            "label": "Topic 18",
            "method": "update"
           },
           {
            "args": [
             {
              "marker.color": [
               [
                "#B0BEC5",
                "#B0BEC5",
                "#B0BEC5",
                "#B0BEC5",
                "#B0BEC5",
                "#B0BEC5",
                "#B0BEC5",
                "#B0BEC5",
                "#B0BEC5",
                "#B0BEC5",
                "#B0BEC5",
                "#B0BEC5",
                "#B0BEC5",
                "#B0BEC5",
                "#B0BEC5",
                "#B0BEC5",
                "#B0BEC5",
                "#B0BEC5",
                "#B0BEC5",
                "red",
                "#B0BEC5",
                "#B0BEC5",
                "#B0BEC5",
                "#B0BEC5",
                "#B0BEC5",
                "#B0BEC5",
                "#B0BEC5",
                "#B0BEC5",
                "#B0BEC5",
                "#B0BEC5",
                "#B0BEC5",
                "#B0BEC5",
                "#B0BEC5",
                "#B0BEC5",
                "#B0BEC5",
                "#B0BEC5",
                "#B0BEC5",
                "#B0BEC5",
                "#B0BEC5",
                "#B0BEC5",
                "#B0BEC5",
                "#B0BEC5",
                "#B0BEC5",
                "#B0BEC5",
                "#B0BEC5",
                "#B0BEC5"
               ]
              ]
             }
            ],
            "label": "Topic 19",
            "method": "update"
           },
           {
            "args": [
             {
              "marker.color": [
               [
                "#B0BEC5",
                "#B0BEC5",
                "#B0BEC5",
                "#B0BEC5",
                "#B0BEC5",
                "#B0BEC5",
                "#B0BEC5",
                "#B0BEC5",
                "#B0BEC5",
                "#B0BEC5",
                "#B0BEC5",
                "#B0BEC5",
                "#B0BEC5",
                "#B0BEC5",
                "#B0BEC5",
                "#B0BEC5",
                "#B0BEC5",
                "#B0BEC5",
                "#B0BEC5",
                "#B0BEC5",
                "red",
                "#B0BEC5",
                "#B0BEC5",
                "#B0BEC5",
                "#B0BEC5",
                "#B0BEC5",
                "#B0BEC5",
                "#B0BEC5",
                "#B0BEC5",
                "#B0BEC5",
                "#B0BEC5",
                "#B0BEC5",
                "#B0BEC5",
                "#B0BEC5",
                "#B0BEC5",
                "#B0BEC5",
                "#B0BEC5",
                "#B0BEC5",
                "#B0BEC5",
                "#B0BEC5",
                "#B0BEC5",
                "#B0BEC5",
                "#B0BEC5",
                "#B0BEC5",
                "#B0BEC5",
                "#B0BEC5"
               ]
              ]
             }
            ],
            "label": "Topic 20",
            "method": "update"
           },
           {
            "args": [
             {
              "marker.color": [
               [
                "#B0BEC5",
                "#B0BEC5",
                "#B0BEC5",
                "#B0BEC5",
                "#B0BEC5",
                "#B0BEC5",
                "#B0BEC5",
                "#B0BEC5",
                "#B0BEC5",
                "#B0BEC5",
                "#B0BEC5",
                "#B0BEC5",
                "#B0BEC5",
                "#B0BEC5",
                "#B0BEC5",
                "#B0BEC5",
                "#B0BEC5",
                "#B0BEC5",
                "#B0BEC5",
                "#B0BEC5",
                "#B0BEC5",
                "red",
                "#B0BEC5",
                "#B0BEC5",
                "#B0BEC5",
                "#B0BEC5",
                "#B0BEC5",
                "#B0BEC5",
                "#B0BEC5",
                "#B0BEC5",
                "#B0BEC5",
                "#B0BEC5",
                "#B0BEC5",
                "#B0BEC5",
                "#B0BEC5",
                "#B0BEC5",
                "#B0BEC5",
                "#B0BEC5",
                "#B0BEC5",
                "#B0BEC5",
                "#B0BEC5",
                "#B0BEC5",
                "#B0BEC5",
                "#B0BEC5",
                "#B0BEC5",
                "#B0BEC5"
               ]
              ]
             }
            ],
            "label": "Topic 21",
            "method": "update"
           },
           {
            "args": [
             {
              "marker.color": [
               [
                "#B0BEC5",
                "#B0BEC5",
                "#B0BEC5",
                "#B0BEC5",
                "#B0BEC5",
                "#B0BEC5",
                "#B0BEC5",
                "#B0BEC5",
                "#B0BEC5",
                "#B0BEC5",
                "#B0BEC5",
                "#B0BEC5",
                "#B0BEC5",
                "#B0BEC5",
                "#B0BEC5",
                "#B0BEC5",
                "#B0BEC5",
                "#B0BEC5",
                "#B0BEC5",
                "#B0BEC5",
                "#B0BEC5",
                "#B0BEC5",
                "red",
                "#B0BEC5",
                "#B0BEC5",
                "#B0BEC5",
                "#B0BEC5",
                "#B0BEC5",
                "#B0BEC5",
                "#B0BEC5",
                "#B0BEC5",
                "#B0BEC5",
                "#B0BEC5",
                "#B0BEC5",
                "#B0BEC5",
                "#B0BEC5",
                "#B0BEC5",
                "#B0BEC5",
                "#B0BEC5",
                "#B0BEC5",
                "#B0BEC5",
                "#B0BEC5",
                "#B0BEC5",
                "#B0BEC5",
                "#B0BEC5",
                "#B0BEC5"
               ]
              ]
             }
            ],
            "label": "Topic 22",
            "method": "update"
           },
           {
            "args": [
             {
              "marker.color": [
               [
                "#B0BEC5",
                "#B0BEC5",
                "#B0BEC5",
                "#B0BEC5",
                "#B0BEC5",
                "#B0BEC5",
                "#B0BEC5",
                "#B0BEC5",
                "#B0BEC5",
                "#B0BEC5",
                "#B0BEC5",
                "#B0BEC5",
                "#B0BEC5",
                "#B0BEC5",
                "#B0BEC5",
                "#B0BEC5",
                "#B0BEC5",
                "#B0BEC5",
                "#B0BEC5",
                "#B0BEC5",
                "#B0BEC5",
                "#B0BEC5",
                "#B0BEC5",
                "red",
                "#B0BEC5",
                "#B0BEC5",
                "#B0BEC5",
                "#B0BEC5",
                "#B0BEC5",
                "#B0BEC5",
                "#B0BEC5",
                "#B0BEC5",
                "#B0BEC5",
                "#B0BEC5",
                "#B0BEC5",
                "#B0BEC5",
                "#B0BEC5",
                "#B0BEC5",
                "#B0BEC5",
                "#B0BEC5",
                "#B0BEC5",
                "#B0BEC5",
                "#B0BEC5",
                "#B0BEC5",
                "#B0BEC5",
                "#B0BEC5"
               ]
              ]
             }
            ],
            "label": "Topic 23",
            "method": "update"
           },
           {
            "args": [
             {
              "marker.color": [
               [
                "#B0BEC5",
                "#B0BEC5",
                "#B0BEC5",
                "#B0BEC5",
                "#B0BEC5",
                "#B0BEC5",
                "#B0BEC5",
                "#B0BEC5",
                "#B0BEC5",
                "#B0BEC5",
                "#B0BEC5",
                "#B0BEC5",
                "#B0BEC5",
                "#B0BEC5",
                "#B0BEC5",
                "#B0BEC5",
                "#B0BEC5",
                "#B0BEC5",
                "#B0BEC5",
                "#B0BEC5",
                "#B0BEC5",
                "#B0BEC5",
                "#B0BEC5",
                "#B0BEC5",
                "red",
                "#B0BEC5",
                "#B0BEC5",
                "#B0BEC5",
                "#B0BEC5",
                "#B0BEC5",
                "#B0BEC5",
                "#B0BEC5",
                "#B0BEC5",
                "#B0BEC5",
                "#B0BEC5",
                "#B0BEC5",
                "#B0BEC5",
                "#B0BEC5",
                "#B0BEC5",
                "#B0BEC5",
                "#B0BEC5",
                "#B0BEC5",
                "#B0BEC5",
                "#B0BEC5",
                "#B0BEC5",
                "#B0BEC5"
               ]
              ]
             }
            ],
            "label": "Topic 24",
            "method": "update"
           },
           {
            "args": [
             {
              "marker.color": [
               [
                "#B0BEC5",
                "#B0BEC5",
                "#B0BEC5",
                "#B0BEC5",
                "#B0BEC5",
                "#B0BEC5",
                "#B0BEC5",
                "#B0BEC5",
                "#B0BEC5",
                "#B0BEC5",
                "#B0BEC5",
                "#B0BEC5",
                "#B0BEC5",
                "#B0BEC5",
                "#B0BEC5",
                "#B0BEC5",
                "#B0BEC5",
                "#B0BEC5",
                "#B0BEC5",
                "#B0BEC5",
                "#B0BEC5",
                "#B0BEC5",
                "#B0BEC5",
                "#B0BEC5",
                "#B0BEC5",
                "red",
                "#B0BEC5",
                "#B0BEC5",
                "#B0BEC5",
                "#B0BEC5",
                "#B0BEC5",
                "#B0BEC5",
                "#B0BEC5",
                "#B0BEC5",
                "#B0BEC5",
                "#B0BEC5",
                "#B0BEC5",
                "#B0BEC5",
                "#B0BEC5",
                "#B0BEC5",
                "#B0BEC5",
                "#B0BEC5",
                "#B0BEC5",
                "#B0BEC5",
                "#B0BEC5",
                "#B0BEC5"
               ]
              ]
             }
            ],
            "label": "Topic 25",
            "method": "update"
           },
           {
            "args": [
             {
              "marker.color": [
               [
                "#B0BEC5",
                "#B0BEC5",
                "#B0BEC5",
                "#B0BEC5",
                "#B0BEC5",
                "#B0BEC5",
                "#B0BEC5",
                "#B0BEC5",
                "#B0BEC5",
                "#B0BEC5",
                "#B0BEC5",
                "#B0BEC5",
                "#B0BEC5",
                "#B0BEC5",
                "#B0BEC5",
                "#B0BEC5",
                "#B0BEC5",
                "#B0BEC5",
                "#B0BEC5",
                "#B0BEC5",
                "#B0BEC5",
                "#B0BEC5",
                "#B0BEC5",
                "#B0BEC5",
                "#B0BEC5",
                "#B0BEC5",
                "red",
                "#B0BEC5",
                "#B0BEC5",
                "#B0BEC5",
                "#B0BEC5",
                "#B0BEC5",
                "#B0BEC5",
                "#B0BEC5",
                "#B0BEC5",
                "#B0BEC5",
                "#B0BEC5",
                "#B0BEC5",
                "#B0BEC5",
                "#B0BEC5",
                "#B0BEC5",
                "#B0BEC5",
                "#B0BEC5",
                "#B0BEC5",
                "#B0BEC5",
                "#B0BEC5"
               ]
              ]
             }
            ],
            "label": "Topic 26",
            "method": "update"
           },
           {
            "args": [
             {
              "marker.color": [
               [
                "#B0BEC5",
                "#B0BEC5",
                "#B0BEC5",
                "#B0BEC5",
                "#B0BEC5",
                "#B0BEC5",
                "#B0BEC5",
                "#B0BEC5",
                "#B0BEC5",
                "#B0BEC5",
                "#B0BEC5",
                "#B0BEC5",
                "#B0BEC5",
                "#B0BEC5",
                "#B0BEC5",
                "#B0BEC5",
                "#B0BEC5",
                "#B0BEC5",
                "#B0BEC5",
                "#B0BEC5",
                "#B0BEC5",
                "#B0BEC5",
                "#B0BEC5",
                "#B0BEC5",
                "#B0BEC5",
                "#B0BEC5",
                "#B0BEC5",
                "red",
                "#B0BEC5",
                "#B0BEC5",
                "#B0BEC5",
                "#B0BEC5",
                "#B0BEC5",
                "#B0BEC5",
                "#B0BEC5",
                "#B0BEC5",
                "#B0BEC5",
                "#B0BEC5",
                "#B0BEC5",
                "#B0BEC5",
                "#B0BEC5",
                "#B0BEC5",
                "#B0BEC5",
                "#B0BEC5",
                "#B0BEC5",
                "#B0BEC5"
               ]
              ]
             }
            ],
            "label": "Topic 27",
            "method": "update"
           },
           {
            "args": [
             {
              "marker.color": [
               [
                "#B0BEC5",
                "#B0BEC5",
                "#B0BEC5",
                "#B0BEC5",
                "#B0BEC5",
                "#B0BEC5",
                "#B0BEC5",
                "#B0BEC5",
                "#B0BEC5",
                "#B0BEC5",
                "#B0BEC5",
                "#B0BEC5",
                "#B0BEC5",
                "#B0BEC5",
                "#B0BEC5",
                "#B0BEC5",
                "#B0BEC5",
                "#B0BEC5",
                "#B0BEC5",
                "#B0BEC5",
                "#B0BEC5",
                "#B0BEC5",
                "#B0BEC5",
                "#B0BEC5",
                "#B0BEC5",
                "#B0BEC5",
                "#B0BEC5",
                "#B0BEC5",
                "red",
                "#B0BEC5",
                "#B0BEC5",
                "#B0BEC5",
                "#B0BEC5",
                "#B0BEC5",
                "#B0BEC5",
                "#B0BEC5",
                "#B0BEC5",
                "#B0BEC5",
                "#B0BEC5",
                "#B0BEC5",
                "#B0BEC5",
                "#B0BEC5",
                "#B0BEC5",
                "#B0BEC5",
                "#B0BEC5",
                "#B0BEC5"
               ]
              ]
             }
            ],
            "label": "Topic 28",
            "method": "update"
           },
           {
            "args": [
             {
              "marker.color": [
               [
                "#B0BEC5",
                "#B0BEC5",
                "#B0BEC5",
                "#B0BEC5",
                "#B0BEC5",
                "#B0BEC5",
                "#B0BEC5",
                "#B0BEC5",
                "#B0BEC5",
                "#B0BEC5",
                "#B0BEC5",
                "#B0BEC5",
                "#B0BEC5",
                "#B0BEC5",
                "#B0BEC5",
                "#B0BEC5",
                "#B0BEC5",
                "#B0BEC5",
                "#B0BEC5",
                "#B0BEC5",
                "#B0BEC5",
                "#B0BEC5",
                "#B0BEC5",
                "#B0BEC5",
                "#B0BEC5",
                "#B0BEC5",
                "#B0BEC5",
                "#B0BEC5",
                "#B0BEC5",
                "red",
                "#B0BEC5",
                "#B0BEC5",
                "#B0BEC5",
                "#B0BEC5",
                "#B0BEC5",
                "#B0BEC5",
                "#B0BEC5",
                "#B0BEC5",
                "#B0BEC5",
                "#B0BEC5",
                "#B0BEC5",
                "#B0BEC5",
                "#B0BEC5",
                "#B0BEC5",
                "#B0BEC5",
                "#B0BEC5"
               ]
              ]
             }
            ],
            "label": "Topic 29",
            "method": "update"
           },
           {
            "args": [
             {
              "marker.color": [
               [
                "#B0BEC5",
                "#B0BEC5",
                "#B0BEC5",
                "#B0BEC5",
                "#B0BEC5",
                "#B0BEC5",
                "#B0BEC5",
                "#B0BEC5",
                "#B0BEC5",
                "#B0BEC5",
                "#B0BEC5",
                "#B0BEC5",
                "#B0BEC5",
                "#B0BEC5",
                "#B0BEC5",
                "#B0BEC5",
                "#B0BEC5",
                "#B0BEC5",
                "#B0BEC5",
                "#B0BEC5",
                "#B0BEC5",
                "#B0BEC5",
                "#B0BEC5",
                "#B0BEC5",
                "#B0BEC5",
                "#B0BEC5",
                "#B0BEC5",
                "#B0BEC5",
                "#B0BEC5",
                "#B0BEC5",
                "red",
                "#B0BEC5",
                "#B0BEC5",
                "#B0BEC5",
                "#B0BEC5",
                "#B0BEC5",
                "#B0BEC5",
                "#B0BEC5",
                "#B0BEC5",
                "#B0BEC5",
                "#B0BEC5",
                "#B0BEC5",
                "#B0BEC5",
                "#B0BEC5",
                "#B0BEC5",
                "#B0BEC5"
               ]
              ]
             }
            ],
            "label": "Topic 30",
            "method": "update"
           },
           {
            "args": [
             {
              "marker.color": [
               [
                "#B0BEC5",
                "#B0BEC5",
                "#B0BEC5",
                "#B0BEC5",
                "#B0BEC5",
                "#B0BEC5",
                "#B0BEC5",
                "#B0BEC5",
                "#B0BEC5",
                "#B0BEC5",
                "#B0BEC5",
                "#B0BEC5",
                "#B0BEC5",
                "#B0BEC5",
                "#B0BEC5",
                "#B0BEC5",
                "#B0BEC5",
                "#B0BEC5",
                "#B0BEC5",
                "#B0BEC5",
                "#B0BEC5",
                "#B0BEC5",
                "#B0BEC5",
                "#B0BEC5",
                "#B0BEC5",
                "#B0BEC5",
                "#B0BEC5",
                "#B0BEC5",
                "#B0BEC5",
                "#B0BEC5",
                "#B0BEC5",
                "red",
                "#B0BEC5",
                "#B0BEC5",
                "#B0BEC5",
                "#B0BEC5",
                "#B0BEC5",
                "#B0BEC5",
                "#B0BEC5",
                "#B0BEC5",
                "#B0BEC5",
                "#B0BEC5",
                "#B0BEC5",
                "#B0BEC5",
                "#B0BEC5",
                "#B0BEC5"
               ]
              ]
             }
            ],
            "label": "Topic 31",
            "method": "update"
           },
           {
            "args": [
             {
              "marker.color": [
               [
                "#B0BEC5",
                "#B0BEC5",
                "#B0BEC5",
                "#B0BEC5",
                "#B0BEC5",
                "#B0BEC5",
                "#B0BEC5",
                "#B0BEC5",
                "#B0BEC5",
                "#B0BEC5",
                "#B0BEC5",
                "#B0BEC5",
                "#B0BEC5",
                "#B0BEC5",
                "#B0BEC5",
                "#B0BEC5",
                "#B0BEC5",
                "#B0BEC5",
                "#B0BEC5",
                "#B0BEC5",
                "#B0BEC5",
                "#B0BEC5",
                "#B0BEC5",
                "#B0BEC5",
                "#B0BEC5",
                "#B0BEC5",
                "#B0BEC5",
                "#B0BEC5",
                "#B0BEC5",
                "#B0BEC5",
                "#B0BEC5",
                "#B0BEC5",
                "red",
                "#B0BEC5",
                "#B0BEC5",
                "#B0BEC5",
                "#B0BEC5",
                "#B0BEC5",
                "#B0BEC5",
                "#B0BEC5",
                "#B0BEC5",
                "#B0BEC5",
                "#B0BEC5",
                "#B0BEC5",
                "#B0BEC5",
                "#B0BEC5"
               ]
              ]
             }
            ],
            "label": "Topic 32",
            "method": "update"
           },
           {
            "args": [
             {
              "marker.color": [
               [
                "#B0BEC5",
                "#B0BEC5",
                "#B0BEC5",
                "#B0BEC5",
                "#B0BEC5",
                "#B0BEC5",
                "#B0BEC5",
                "#B0BEC5",
                "#B0BEC5",
                "#B0BEC5",
                "#B0BEC5",
                "#B0BEC5",
                "#B0BEC5",
                "#B0BEC5",
                "#B0BEC5",
                "#B0BEC5",
                "#B0BEC5",
                "#B0BEC5",
                "#B0BEC5",
                "#B0BEC5",
                "#B0BEC5",
                "#B0BEC5",
                "#B0BEC5",
                "#B0BEC5",
                "#B0BEC5",
                "#B0BEC5",
                "#B0BEC5",
                "#B0BEC5",
                "#B0BEC5",
                "#B0BEC5",
                "#B0BEC5",
                "#B0BEC5",
                "#B0BEC5",
                "red",
                "#B0BEC5",
                "#B0BEC5",
                "#B0BEC5",
                "#B0BEC5",
                "#B0BEC5",
                "#B0BEC5",
                "#B0BEC5",
                "#B0BEC5",
                "#B0BEC5",
                "#B0BEC5",
                "#B0BEC5",
                "#B0BEC5"
               ]
              ]
             }
            ],
            "label": "Topic 33",
            "method": "update"
           },
           {
            "args": [
             {
              "marker.color": [
               [
                "#B0BEC5",
                "#B0BEC5",
                "#B0BEC5",
                "#B0BEC5",
                "#B0BEC5",
                "#B0BEC5",
                "#B0BEC5",
                "#B0BEC5",
                "#B0BEC5",
                "#B0BEC5",
                "#B0BEC5",
                "#B0BEC5",
                "#B0BEC5",
                "#B0BEC5",
                "#B0BEC5",
                "#B0BEC5",
                "#B0BEC5",
                "#B0BEC5",
                "#B0BEC5",
                "#B0BEC5",
                "#B0BEC5",
                "#B0BEC5",
                "#B0BEC5",
                "#B0BEC5",
                "#B0BEC5",
                "#B0BEC5",
                "#B0BEC5",
                "#B0BEC5",
                "#B0BEC5",
                "#B0BEC5",
                "#B0BEC5",
                "#B0BEC5",
                "#B0BEC5",
                "#B0BEC5",
                "red",
                "#B0BEC5",
                "#B0BEC5",
                "#B0BEC5",
                "#B0BEC5",
                "#B0BEC5",
                "#B0BEC5",
                "#B0BEC5",
                "#B0BEC5",
                "#B0BEC5",
                "#B0BEC5",
                "#B0BEC5"
               ]
              ]
             }
            ],
            "label": "Topic 34",
            "method": "update"
           },
           {
            "args": [
             {
              "marker.color": [
               [
                "#B0BEC5",
                "#B0BEC5",
                "#B0BEC5",
                "#B0BEC5",
                "#B0BEC5",
                "#B0BEC5",
                "#B0BEC5",
                "#B0BEC5",
                "#B0BEC5",
                "#B0BEC5",
                "#B0BEC5",
                "#B0BEC5",
                "#B0BEC5",
                "#B0BEC5",
                "#B0BEC5",
                "#B0BEC5",
                "#B0BEC5",
                "#B0BEC5",
                "#B0BEC5",
                "#B0BEC5",
                "#B0BEC5",
                "#B0BEC5",
                "#B0BEC5",
                "#B0BEC5",
                "#B0BEC5",
                "#B0BEC5",
                "#B0BEC5",
                "#B0BEC5",
                "#B0BEC5",
                "#B0BEC5",
                "#B0BEC5",
                "#B0BEC5",
                "#B0BEC5",
                "#B0BEC5",
                "#B0BEC5",
                "red",
                "#B0BEC5",
                "#B0BEC5",
                "#B0BEC5",
                "#B0BEC5",
                "#B0BEC5",
                "#B0BEC5",
                "#B0BEC5",
                "#B0BEC5",
                "#B0BEC5",
                "#B0BEC5"
               ]
              ]
             }
            ],
            "label": "Topic 35",
            "method": "update"
           },
           {
            "args": [
             {
              "marker.color": [
               [
                "#B0BEC5",
                "#B0BEC5",
                "#B0BEC5",
                "#B0BEC5",
                "#B0BEC5",
                "#B0BEC5",
                "#B0BEC5",
                "#B0BEC5",
                "#B0BEC5",
                "#B0BEC5",
                "#B0BEC5",
                "#B0BEC5",
                "#B0BEC5",
                "#B0BEC5",
                "#B0BEC5",
                "#B0BEC5",
                "#B0BEC5",
                "#B0BEC5",
                "#B0BEC5",
                "#B0BEC5",
                "#B0BEC5",
                "#B0BEC5",
                "#B0BEC5",
                "#B0BEC5",
                "#B0BEC5",
                "#B0BEC5",
                "#B0BEC5",
                "#B0BEC5",
                "#B0BEC5",
                "#B0BEC5",
                "#B0BEC5",
                "#B0BEC5",
                "#B0BEC5",
                "#B0BEC5",
                "#B0BEC5",
                "#B0BEC5",
                "red",
                "#B0BEC5",
                "#B0BEC5",
                "#B0BEC5",
                "#B0BEC5",
                "#B0BEC5",
                "#B0BEC5",
                "#B0BEC5",
                "#B0BEC5",
                "#B0BEC5"
               ]
              ]
             }
            ],
            "label": "Topic 36",
            "method": "update"
           },
           {
            "args": [
             {
              "marker.color": [
               [
                "#B0BEC5",
                "#B0BEC5",
                "#B0BEC5",
                "#B0BEC5",
                "#B0BEC5",
                "#B0BEC5",
                "#B0BEC5",
                "#B0BEC5",
                "#B0BEC5",
                "#B0BEC5",
                "#B0BEC5",
                "#B0BEC5",
                "#B0BEC5",
                "#B0BEC5",
                "#B0BEC5",
                "#B0BEC5",
                "#B0BEC5",
                "#B0BEC5",
                "#B0BEC5",
                "#B0BEC5",
                "#B0BEC5",
                "#B0BEC5",
                "#B0BEC5",
                "#B0BEC5",
                "#B0BEC5",
                "#B0BEC5",
                "#B0BEC5",
                "#B0BEC5",
                "#B0BEC5",
                "#B0BEC5",
                "#B0BEC5",
                "#B0BEC5",
                "#B0BEC5",
                "#B0BEC5",
                "#B0BEC5",
                "#B0BEC5",
                "#B0BEC5",
                "red",
                "#B0BEC5",
                "#B0BEC5",
                "#B0BEC5",
                "#B0BEC5",
                "#B0BEC5",
                "#B0BEC5",
                "#B0BEC5",
                "#B0BEC5"
               ]
              ]
             }
            ],
            "label": "Topic 37",
            "method": "update"
           },
           {
            "args": [
             {
              "marker.color": [
               [
                "#B0BEC5",
                "#B0BEC5",
                "#B0BEC5",
                "#B0BEC5",
                "#B0BEC5",
                "#B0BEC5",
                "#B0BEC5",
                "#B0BEC5",
                "#B0BEC5",
                "#B0BEC5",
                "#B0BEC5",
                "#B0BEC5",
                "#B0BEC5",
                "#B0BEC5",
                "#B0BEC5",
                "#B0BEC5",
                "#B0BEC5",
                "#B0BEC5",
                "#B0BEC5",
                "#B0BEC5",
                "#B0BEC5",
                "#B0BEC5",
                "#B0BEC5",
                "#B0BEC5",
                "#B0BEC5",
                "#B0BEC5",
                "#B0BEC5",
                "#B0BEC5",
                "#B0BEC5",
                "#B0BEC5",
                "#B0BEC5",
                "#B0BEC5",
                "#B0BEC5",
                "#B0BEC5",
                "#B0BEC5",
                "#B0BEC5",
                "#B0BEC5",
                "#B0BEC5",
                "red",
                "#B0BEC5",
                "#B0BEC5",
                "#B0BEC5",
                "#B0BEC5",
                "#B0BEC5",
                "#B0BEC5",
                "#B0BEC5"
               ]
              ]
             }
            ],
            "label": "Topic 38",
            "method": "update"
           },
           {
            "args": [
             {
              "marker.color": [
               [
                "#B0BEC5",
                "#B0BEC5",
                "#B0BEC5",
                "#B0BEC5",
                "#B0BEC5",
                "#B0BEC5",
                "#B0BEC5",
                "#B0BEC5",
                "#B0BEC5",
                "#B0BEC5",
                "#B0BEC5",
                "#B0BEC5",
                "#B0BEC5",
                "#B0BEC5",
                "#B0BEC5",
                "#B0BEC5",
                "#B0BEC5",
                "#B0BEC5",
                "#B0BEC5",
                "#B0BEC5",
                "#B0BEC5",
                "#B0BEC5",
                "#B0BEC5",
                "#B0BEC5",
                "#B0BEC5",
                "#B0BEC5",
                "#B0BEC5",
                "#B0BEC5",
                "#B0BEC5",
                "#B0BEC5",
                "#B0BEC5",
                "#B0BEC5",
                "#B0BEC5",
                "#B0BEC5",
                "#B0BEC5",
                "#B0BEC5",
                "#B0BEC5",
                "#B0BEC5",
                "#B0BEC5",
                "red",
                "#B0BEC5",
                "#B0BEC5",
                "#B0BEC5",
                "#B0BEC5",
                "#B0BEC5",
                "#B0BEC5"
               ]
              ]
             }
            ],
            "label": "Topic 39",
            "method": "update"
           },
           {
            "args": [
             {
              "marker.color": [
               [
                "#B0BEC5",
                "#B0BEC5",
                "#B0BEC5",
                "#B0BEC5",
                "#B0BEC5",
                "#B0BEC5",
                "#B0BEC5",
                "#B0BEC5",
                "#B0BEC5",
                "#B0BEC5",
                "#B0BEC5",
                "#B0BEC5",
                "#B0BEC5",
                "#B0BEC5",
                "#B0BEC5",
                "#B0BEC5",
                "#B0BEC5",
                "#B0BEC5",
                "#B0BEC5",
                "#B0BEC5",
                "#B0BEC5",
                "#B0BEC5",
                "#B0BEC5",
                "#B0BEC5",
                "#B0BEC5",
                "#B0BEC5",
                "#B0BEC5",
                "#B0BEC5",
                "#B0BEC5",
                "#B0BEC5",
                "#B0BEC5",
                "#B0BEC5",
                "#B0BEC5",
                "#B0BEC5",
                "#B0BEC5",
                "#B0BEC5",
                "#B0BEC5",
                "#B0BEC5",
                "#B0BEC5",
                "#B0BEC5",
                "red",
                "#B0BEC5",
                "#B0BEC5",
                "#B0BEC5",
                "#B0BEC5",
                "#B0BEC5"
               ]
              ]
             }
            ],
            "label": "Topic 40",
            "method": "update"
           },
           {
            "args": [
             {
              "marker.color": [
               [
                "#B0BEC5",
                "#B0BEC5",
                "#B0BEC5",
                "#B0BEC5",
                "#B0BEC5",
                "#B0BEC5",
                "#B0BEC5",
                "#B0BEC5",
                "#B0BEC5",
                "#B0BEC5",
                "#B0BEC5",
                "#B0BEC5",
                "#B0BEC5",
                "#B0BEC5",
                "#B0BEC5",
                "#B0BEC5",
                "#B0BEC5",
                "#B0BEC5",
                "#B0BEC5",
                "#B0BEC5",
                "#B0BEC5",
                "#B0BEC5",
                "#B0BEC5",
                "#B0BEC5",
                "#B0BEC5",
                "#B0BEC5",
                "#B0BEC5",
                "#B0BEC5",
                "#B0BEC5",
                "#B0BEC5",
                "#B0BEC5",
                "#B0BEC5",
                "#B0BEC5",
                "#B0BEC5",
                "#B0BEC5",
                "#B0BEC5",
                "#B0BEC5",
                "#B0BEC5",
                "#B0BEC5",
                "#B0BEC5",
                "#B0BEC5",
                "red",
                "#B0BEC5",
                "#B0BEC5",
                "#B0BEC5",
                "#B0BEC5"
               ]
              ]
             }
            ],
            "label": "Topic 41",
            "method": "update"
           },
           {
            "args": [
             {
              "marker.color": [
               [
                "#B0BEC5",
                "#B0BEC5",
                "#B0BEC5",
                "#B0BEC5",
                "#B0BEC5",
                "#B0BEC5",
                "#B0BEC5",
                "#B0BEC5",
                "#B0BEC5",
                "#B0BEC5",
                "#B0BEC5",
                "#B0BEC5",
                "#B0BEC5",
                "#B0BEC5",
                "#B0BEC5",
                "#B0BEC5",
                "#B0BEC5",
                "#B0BEC5",
                "#B0BEC5",
                "#B0BEC5",
                "#B0BEC5",
                "#B0BEC5",
                "#B0BEC5",
                "#B0BEC5",
                "#B0BEC5",
                "#B0BEC5",
                "#B0BEC5",
                "#B0BEC5",
                "#B0BEC5",
                "#B0BEC5",
                "#B0BEC5",
                "#B0BEC5",
                "#B0BEC5",
                "#B0BEC5",
                "#B0BEC5",
                "#B0BEC5",
                "#B0BEC5",
                "#B0BEC5",
                "#B0BEC5",
                "#B0BEC5",
                "#B0BEC5",
                "#B0BEC5",
                "red",
                "#B0BEC5",
                "#B0BEC5",
                "#B0BEC5"
               ]
              ]
             }
            ],
            "label": "Topic 42",
            "method": "update"
           },
           {
            "args": [
             {
              "marker.color": [
               [
                "#B0BEC5",
                "#B0BEC5",
                "#B0BEC5",
                "#B0BEC5",
                "#B0BEC5",
                "#B0BEC5",
                "#B0BEC5",
                "#B0BEC5",
                "#B0BEC5",
                "#B0BEC5",
                "#B0BEC5",
                "#B0BEC5",
                "#B0BEC5",
                "#B0BEC5",
                "#B0BEC5",
                "#B0BEC5",
                "#B0BEC5",
                "#B0BEC5",
                "#B0BEC5",
                "#B0BEC5",
                "#B0BEC5",
                "#B0BEC5",
                "#B0BEC5",
                "#B0BEC5",
                "#B0BEC5",
                "#B0BEC5",
                "#B0BEC5",
                "#B0BEC5",
                "#B0BEC5",
                "#B0BEC5",
                "#B0BEC5",
                "#B0BEC5",
                "#B0BEC5",
                "#B0BEC5",
                "#B0BEC5",
                "#B0BEC5",
                "#B0BEC5",
                "#B0BEC5",
                "#B0BEC5",
                "#B0BEC5",
                "#B0BEC5",
                "#B0BEC5",
                "#B0BEC5",
                "red",
                "#B0BEC5",
                "#B0BEC5"
               ]
              ]
             }
            ],
            "label": "Topic 43",
            "method": "update"
           },
           {
            "args": [
             {
              "marker.color": [
               [
                "#B0BEC5",
                "#B0BEC5",
                "#B0BEC5",
                "#B0BEC5",
                "#B0BEC5",
                "#B0BEC5",
                "#B0BEC5",
                "#B0BEC5",
                "#B0BEC5",
                "#B0BEC5",
                "#B0BEC5",
                "#B0BEC5",
                "#B0BEC5",
                "#B0BEC5",
                "#B0BEC5",
                "#B0BEC5",
                "#B0BEC5",
                "#B0BEC5",
                "#B0BEC5",
                "#B0BEC5",
                "#B0BEC5",
                "#B0BEC5",
                "#B0BEC5",
                "#B0BEC5",
                "#B0BEC5",
                "#B0BEC5",
                "#B0BEC5",
                "#B0BEC5",
                "#B0BEC5",
                "#B0BEC5",
                "#B0BEC5",
                "#B0BEC5",
                "#B0BEC5",
                "#B0BEC5",
                "#B0BEC5",
                "#B0BEC5",
                "#B0BEC5",
                "#B0BEC5",
                "#B0BEC5",
                "#B0BEC5",
                "#B0BEC5",
                "#B0BEC5",
                "#B0BEC5",
                "#B0BEC5",
                "red",
                "#B0BEC5"
               ]
              ]
             }
            ],
            "label": "Topic 44",
            "method": "update"
           },
           {
            "args": [
             {
              "marker.color": [
               [
                "#B0BEC5",
                "#B0BEC5",
                "#B0BEC5",
                "#B0BEC5",
                "#B0BEC5",
                "#B0BEC5",
                "#B0BEC5",
                "#B0BEC5",
                "#B0BEC5",
                "#B0BEC5",
                "#B0BEC5",
                "#B0BEC5",
                "#B0BEC5",
                "#B0BEC5",
                "#B0BEC5",
                "#B0BEC5",
                "#B0BEC5",
                "#B0BEC5",
                "#B0BEC5",
                "#B0BEC5",
                "#B0BEC5",
                "#B0BEC5",
                "#B0BEC5",
                "#B0BEC5",
                "#B0BEC5",
                "#B0BEC5",
                "#B0BEC5",
                "#B0BEC5",
                "#B0BEC5",
                "#B0BEC5",
                "#B0BEC5",
                "#B0BEC5",
                "#B0BEC5",
                "#B0BEC5",
                "#B0BEC5",
                "#B0BEC5",
                "#B0BEC5",
                "#B0BEC5",
                "#B0BEC5",
                "#B0BEC5",
                "#B0BEC5",
                "#B0BEC5",
                "#B0BEC5",
                "#B0BEC5",
                "#B0BEC5",
                "red"
               ]
              ]
             }
            ],
            "label": "Topic 45",
            "method": "update"
           }
          ]
         }
        ],
        "template": {
         "data": {
          "bar": [
           {
            "error_x": {
             "color": "rgb(36,36,36)"
            },
            "error_y": {
             "color": "rgb(36,36,36)"
            },
            "marker": {
             "line": {
              "color": "white",
              "width": 0.5
             },
             "pattern": {
              "fillmode": "overlay",
              "size": 10,
              "solidity": 0.2
             }
            },
            "type": "bar"
           }
          ],
          "barpolar": [
           {
            "marker": {
             "line": {
              "color": "white",
              "width": 0.5
             },
             "pattern": {
              "fillmode": "overlay",
              "size": 10,
              "solidity": 0.2
             }
            },
            "type": "barpolar"
           }
          ],
          "carpet": [
           {
            "aaxis": {
             "endlinecolor": "rgb(36,36,36)",
             "gridcolor": "white",
             "linecolor": "white",
             "minorgridcolor": "white",
             "startlinecolor": "rgb(36,36,36)"
            },
            "baxis": {
             "endlinecolor": "rgb(36,36,36)",
             "gridcolor": "white",
             "linecolor": "white",
             "minorgridcolor": "white",
             "startlinecolor": "rgb(36,36,36)"
            },
            "type": "carpet"
           }
          ],
          "choropleth": [
           {
            "colorbar": {
             "outlinewidth": 1,
             "tickcolor": "rgb(36,36,36)",
             "ticks": "outside"
            },
            "type": "choropleth"
           }
          ],
          "contour": [
           {
            "colorbar": {
             "outlinewidth": 1,
             "tickcolor": "rgb(36,36,36)",
             "ticks": "outside"
            },
            "colorscale": [
             [
              0,
              "#440154"
             ],
             [
              0.1111111111111111,
              "#482878"
             ],
             [
              0.2222222222222222,
              "#3e4989"
             ],
             [
              0.3333333333333333,
              "#31688e"
             ],
             [
              0.4444444444444444,
              "#26828e"
             ],
             [
              0.5555555555555556,
              "#1f9e89"
             ],
             [
              0.6666666666666666,
              "#35b779"
             ],
             [
              0.7777777777777778,
              "#6ece58"
             ],
             [
              0.8888888888888888,
              "#b5de2b"
             ],
             [
              1,
              "#fde725"
             ]
            ],
            "type": "contour"
           }
          ],
          "contourcarpet": [
           {
            "colorbar": {
             "outlinewidth": 1,
             "tickcolor": "rgb(36,36,36)",
             "ticks": "outside"
            },
            "type": "contourcarpet"
           }
          ],
          "heatmap": [
           {
            "colorbar": {
             "outlinewidth": 1,
             "tickcolor": "rgb(36,36,36)",
             "ticks": "outside"
            },
            "colorscale": [
             [
              0,
              "#440154"
             ],
             [
              0.1111111111111111,
              "#482878"
             ],
             [
              0.2222222222222222,
              "#3e4989"
             ],
             [
              0.3333333333333333,
              "#31688e"
             ],
             [
              0.4444444444444444,
              "#26828e"
             ],
             [
              0.5555555555555556,
              "#1f9e89"
             ],
             [
              0.6666666666666666,
              "#35b779"
             ],
             [
              0.7777777777777778,
              "#6ece58"
             ],
             [
              0.8888888888888888,
              "#b5de2b"
             ],
             [
              1,
              "#fde725"
             ]
            ],
            "type": "heatmap"
           }
          ],
          "histogram": [
           {
            "marker": {
             "line": {
              "color": "white",
              "width": 0.6
             }
            },
            "type": "histogram"
           }
          ],
          "histogram2d": [
           {
            "colorbar": {
             "outlinewidth": 1,
             "tickcolor": "rgb(36,36,36)",
             "ticks": "outside"
            },
            "colorscale": [
             [
              0,
              "#440154"
             ],
             [
              0.1111111111111111,
              "#482878"
             ],
             [
              0.2222222222222222,
              "#3e4989"
             ],
             [
              0.3333333333333333,
              "#31688e"
             ],
             [
              0.4444444444444444,
              "#26828e"
             ],
             [
              0.5555555555555556,
              "#1f9e89"
             ],
             [
              0.6666666666666666,
              "#35b779"
             ],
             [
              0.7777777777777778,
              "#6ece58"
             ],
             [
              0.8888888888888888,
              "#b5de2b"
             ],
             [
              1,
              "#fde725"
             ]
            ],
            "type": "histogram2d"
           }
          ],
          "histogram2dcontour": [
           {
            "colorbar": {
             "outlinewidth": 1,
             "tickcolor": "rgb(36,36,36)",
             "ticks": "outside"
            },
            "colorscale": [
             [
              0,
              "#440154"
             ],
             [
              0.1111111111111111,
              "#482878"
             ],
             [
              0.2222222222222222,
              "#3e4989"
             ],
             [
              0.3333333333333333,
              "#31688e"
             ],
             [
              0.4444444444444444,
              "#26828e"
             ],
             [
              0.5555555555555556,
              "#1f9e89"
             ],
             [
              0.6666666666666666,
              "#35b779"
             ],
             [
              0.7777777777777778,
              "#6ece58"
             ],
             [
              0.8888888888888888,
              "#b5de2b"
             ],
             [
              1,
              "#fde725"
             ]
            ],
            "type": "histogram2dcontour"
           }
          ],
          "mesh3d": [
           {
            "colorbar": {
             "outlinewidth": 1,
             "tickcolor": "rgb(36,36,36)",
             "ticks": "outside"
            },
            "type": "mesh3d"
           }
          ],
          "parcoords": [
           {
            "line": {
             "colorbar": {
              "outlinewidth": 1,
              "tickcolor": "rgb(36,36,36)",
              "ticks": "outside"
             }
            },
            "type": "parcoords"
           }
          ],
          "pie": [
           {
            "automargin": true,
            "type": "pie"
           }
          ],
          "scatter": [
           {
            "fillpattern": {
             "fillmode": "overlay",
             "size": 10,
             "solidity": 0.2
            },
            "type": "scatter"
           }
          ],
          "scatter3d": [
           {
            "line": {
             "colorbar": {
              "outlinewidth": 1,
              "tickcolor": "rgb(36,36,36)",
              "ticks": "outside"
             }
            },
            "marker": {
             "colorbar": {
              "outlinewidth": 1,
              "tickcolor": "rgb(36,36,36)",
              "ticks": "outside"
             }
            },
            "type": "scatter3d"
           }
          ],
          "scattercarpet": [
           {
            "marker": {
             "colorbar": {
              "outlinewidth": 1,
              "tickcolor": "rgb(36,36,36)",
              "ticks": "outside"
             }
            },
            "type": "scattercarpet"
           }
          ],
          "scattergeo": [
           {
            "marker": {
             "colorbar": {
              "outlinewidth": 1,
              "tickcolor": "rgb(36,36,36)",
              "ticks": "outside"
             }
            },
            "type": "scattergeo"
           }
          ],
          "scattergl": [
           {
            "marker": {
             "colorbar": {
              "outlinewidth": 1,
              "tickcolor": "rgb(36,36,36)",
              "ticks": "outside"
             }
            },
            "type": "scattergl"
           }
          ],
          "scattermap": [
           {
            "marker": {
             "colorbar": {
              "outlinewidth": 1,
              "tickcolor": "rgb(36,36,36)",
              "ticks": "outside"
             }
            },
            "type": "scattermap"
           }
          ],
          "scattermapbox": [
           {
            "marker": {
             "colorbar": {
              "outlinewidth": 1,
              "tickcolor": "rgb(36,36,36)",
              "ticks": "outside"
             }
            },
            "type": "scattermapbox"
           }
          ],
          "scatterpolar": [
           {
            "marker": {
             "colorbar": {
              "outlinewidth": 1,
              "tickcolor": "rgb(36,36,36)",
              "ticks": "outside"
             }
            },
            "type": "scatterpolar"
           }
          ],
          "scatterpolargl": [
           {
            "marker": {
             "colorbar": {
              "outlinewidth": 1,
              "tickcolor": "rgb(36,36,36)",
              "ticks": "outside"
             }
            },
            "type": "scatterpolargl"
           }
          ],
          "scatterternary": [
           {
            "marker": {
             "colorbar": {
              "outlinewidth": 1,
              "tickcolor": "rgb(36,36,36)",
              "ticks": "outside"
             }
            },
            "type": "scatterternary"
           }
          ],
          "surface": [
           {
            "colorbar": {
             "outlinewidth": 1,
             "tickcolor": "rgb(36,36,36)",
             "ticks": "outside"
            },
            "colorscale": [
             [
              0,
              "#440154"
             ],
             [
              0.1111111111111111,
              "#482878"
             ],
             [
              0.2222222222222222,
              "#3e4989"
             ],
             [
              0.3333333333333333,
              "#31688e"
             ],
             [
              0.4444444444444444,
              "#26828e"
             ],
             [
              0.5555555555555556,
              "#1f9e89"
             ],
             [
              0.6666666666666666,
              "#35b779"
             ],
             [
              0.7777777777777778,
              "#6ece58"
             ],
             [
              0.8888888888888888,
              "#b5de2b"
             ],
             [
              1,
              "#fde725"
             ]
            ],
            "type": "surface"
           }
          ],
          "table": [
           {
            "cells": {
             "fill": {
              "color": "rgb(237,237,237)"
             },
             "line": {
              "color": "white"
             }
            },
            "header": {
             "fill": {
              "color": "rgb(217,217,217)"
             },
             "line": {
              "color": "white"
             }
            },
            "type": "table"
           }
          ]
         },
         "layout": {
          "annotationdefaults": {
           "arrowhead": 0,
           "arrowwidth": 1
          },
          "autotypenumbers": "strict",
          "coloraxis": {
           "colorbar": {
            "outlinewidth": 1,
            "tickcolor": "rgb(36,36,36)",
            "ticks": "outside"
           }
          },
          "colorscale": {
           "diverging": [
            [
             0,
             "rgb(103,0,31)"
            ],
            [
             0.1,
             "rgb(178,24,43)"
            ],
            [
             0.2,
             "rgb(214,96,77)"
            ],
            [
             0.3,
             "rgb(244,165,130)"
            ],
            [
             0.4,
             "rgb(253,219,199)"
            ],
            [
             0.5,
             "rgb(247,247,247)"
            ],
            [
             0.6,
             "rgb(209,229,240)"
            ],
            [
             0.7,
             "rgb(146,197,222)"
            ],
            [
             0.8,
             "rgb(67,147,195)"
            ],
            [
             0.9,
             "rgb(33,102,172)"
            ],
            [
             1,
             "rgb(5,48,97)"
            ]
           ],
           "sequential": [
            [
             0,
             "#440154"
            ],
            [
             0.1111111111111111,
             "#482878"
            ],
            [
             0.2222222222222222,
             "#3e4989"
            ],
            [
             0.3333333333333333,
             "#31688e"
            ],
            [
             0.4444444444444444,
             "#26828e"
            ],
            [
             0.5555555555555556,
             "#1f9e89"
            ],
            [
             0.6666666666666666,
             "#35b779"
            ],
            [
             0.7777777777777778,
             "#6ece58"
            ],
            [
             0.8888888888888888,
             "#b5de2b"
            ],
            [
             1,
             "#fde725"
            ]
           ],
           "sequentialminus": [
            [
             0,
             "#440154"
            ],
            [
             0.1111111111111111,
             "#482878"
            ],
            [
             0.2222222222222222,
             "#3e4989"
            ],
            [
             0.3333333333333333,
             "#31688e"
            ],
            [
             0.4444444444444444,
             "#26828e"
            ],
            [
             0.5555555555555556,
             "#1f9e89"
            ],
            [
             0.6666666666666666,
             "#35b779"
            ],
            [
             0.7777777777777778,
             "#6ece58"
            ],
            [
             0.8888888888888888,
             "#b5de2b"
            ],
            [
             1,
             "#fde725"
            ]
           ]
          },
          "colorway": [
           "#1F77B4",
           "#FF7F0E",
           "#2CA02C",
           "#D62728",
           "#9467BD",
           "#8C564B",
           "#E377C2",
           "#7F7F7F",
           "#BCBD22",
           "#17BECF"
          ],
          "font": {
           "color": "rgb(36,36,36)"
          },
          "geo": {
           "bgcolor": "white",
           "lakecolor": "white",
           "landcolor": "white",
           "showlakes": true,
           "showland": true,
           "subunitcolor": "white"
          },
          "hoverlabel": {
           "align": "left"
          },
          "hovermode": "closest",
          "mapbox": {
           "style": "light"
          },
          "paper_bgcolor": "white",
          "plot_bgcolor": "white",
          "polar": {
           "angularaxis": {
            "gridcolor": "rgb(232,232,232)",
            "linecolor": "rgb(36,36,36)",
            "showgrid": false,
            "showline": true,
            "ticks": "outside"
           },
           "bgcolor": "white",
           "radialaxis": {
            "gridcolor": "rgb(232,232,232)",
            "linecolor": "rgb(36,36,36)",
            "showgrid": false,
            "showline": true,
            "ticks": "outside"
           }
          },
          "scene": {
           "xaxis": {
            "backgroundcolor": "white",
            "gridcolor": "rgb(232,232,232)",
            "gridwidth": 2,
            "linecolor": "rgb(36,36,36)",
            "showbackground": true,
            "showgrid": false,
            "showline": true,
            "ticks": "outside",
            "zeroline": false,
            "zerolinecolor": "rgb(36,36,36)"
           },
           "yaxis": {
            "backgroundcolor": "white",
            "gridcolor": "rgb(232,232,232)",
            "gridwidth": 2,
            "linecolor": "rgb(36,36,36)",
            "showbackground": true,
            "showgrid": false,
            "showline": true,
            "ticks": "outside",
            "zeroline": false,
            "zerolinecolor": "rgb(36,36,36)"
           },
           "zaxis": {
            "backgroundcolor": "white",
            "gridcolor": "rgb(232,232,232)",
            "gridwidth": 2,
            "linecolor": "rgb(36,36,36)",
            "showbackground": true,
            "showgrid": false,
            "showline": true,
            "ticks": "outside",
            "zeroline": false,
            "zerolinecolor": "rgb(36,36,36)"
           }
          },
          "shapedefaults": {
           "fillcolor": "black",
           "line": {
            "width": 0
           },
           "opacity": 0.3
          },
          "ternary": {
           "aaxis": {
            "gridcolor": "rgb(232,232,232)",
            "linecolor": "rgb(36,36,36)",
            "showgrid": false,
            "showline": true,
            "ticks": "outside"
           },
           "baxis": {
            "gridcolor": "rgb(232,232,232)",
            "linecolor": "rgb(36,36,36)",
            "showgrid": false,
            "showline": true,
            "ticks": "outside"
           },
           "bgcolor": "white",
           "caxis": {
            "gridcolor": "rgb(232,232,232)",
            "linecolor": "rgb(36,36,36)",
            "showgrid": false,
            "showline": true,
            "ticks": "outside"
           }
          },
          "title": {
           "x": 0.05
          },
          "xaxis": {
           "automargin": true,
           "gridcolor": "rgb(232,232,232)",
           "linecolor": "rgb(36,36,36)",
           "showgrid": false,
           "showline": true,
           "ticks": "outside",
           "title": {
            "standoff": 15
           },
           "zeroline": false,
           "zerolinecolor": "rgb(36,36,36)"
          },
          "yaxis": {
           "automargin": true,
           "gridcolor": "rgb(232,232,232)",
           "linecolor": "rgb(36,36,36)",
           "showgrid": false,
           "showline": true,
           "ticks": "outside",
           "title": {
            "standoff": 15
           },
           "zeroline": false,
           "zerolinecolor": "rgb(36,36,36)"
          }
         }
        },
        "title": {
         "font": {
          "color": "Black",
          "size": 22
         },
         "text": "<b>Intertopic Distance Map</b>",
         "x": 0.5,
         "xanchor": "center",
         "y": 0.95,
         "yanchor": "top"
        },
        "width": 650,
        "xaxis": {
         "anchor": "y",
         "domain": [
          0,
          1
         ],
         "range": [
          -15.081332206726074,
          32.638023376464844
         ],
         "title": {
          "text": ""
         },
         "visible": false
        },
        "yaxis": {
         "anchor": "x",
         "domain": [
          0,
          1
         ],
         "range": [
          -15.618448257446289,
          29.97710418701172
         ],
         "title": {
          "text": ""
         },
         "visible": false
        }
       }
      }
     },
     "metadata": {},
     "output_type": "display_data"
    }
   ],
   "source": [
    "topic_model.visualize_topics(custom_labels=True)\n"
   ]
  },
  {
   "cell_type": "code",
   "execution_count": 41,
   "id": "97e94af5",
   "metadata": {},
   "outputs": [
    {
     "data": {
      "application/vnd.plotly.v1+json": {
       "config": {
        "plotlyServerURL": "https://plot.ly"
       },
       "data": [
        {
         "hoverinfo": "text",
         "marker": {
          "color": "rgb(61,153,112)"
         },
         "mode": "lines",
         "type": "scatter",
         "x": {
          "bdata": "AAAAAAAAAAAyvCEGYEDXPzK8IQZgQNc/AAAAAAAAAAA=",
          "dtype": "f8"
         },
         "xaxis": "x",
         "y": {
          "bdata": "AAAAAAAAFMAAAAAAAAAUwAAAAAAAAC7AAAAAAAAALsA=",
          "dtype": "f8"
         },
         "yaxis": "y"
        },
        {
         "hoverinfo": "text",
         "marker": {
          "color": "rgb(61,153,112)"
         },
         "mode": "lines",
         "type": "scatter",
         "x": {
          "bdata": "AAAAAAAAAABYy7BB4UTTP1jLsEHhRNM/AAAAAAAAAAA=",
          "dtype": "f8"
         },
         "xaxis": "x",
         "y": {
          "bdata": "AAAAAAAAOcAAAAAAAAA5wAAAAAAAgEHAAAAAAACAQcA=",
          "dtype": "f8"
         },
         "yaxis": "y"
        },
        {
         "hoverinfo": "text",
         "marker": {
          "color": "rgb(61,153,112)"
         },
         "mode": "lines",
         "type": "scatter",
         "x": {
          "bdata": "MrwhBmBA1z9e/RqjwPvdP179GqPA+90/WMuwQeFE0z8=",
          "dtype": "f8"
         },
         "xaxis": "x",
         "y": {
          "bdata": "AAAAAAAAJMAAAAAAAAAkwAAAAAAAAD7AAAAAAAAAPsA=",
          "dtype": "f8"
         },
         "yaxis": "y"
        },
        {
         "hoverinfo": "text",
         "marker": {
          "color": "rgb(61,153,112)"
         },
         "mode": "lines",
         "type": "scatter",
         "x": {
          "bdata": "AAAAAAAAAABMCxCB85nMP0wLEIHzmcw/AAAAAAAAAAA=",
          "dtype": "f8"
         },
         "xaxis": "x",
         "y": {
          "bdata": "AAAAAACAS8AAAAAAAIBLwAAAAAAAQFDAAAAAAABAUMA=",
          "dtype": "f8"
         },
         "yaxis": "y"
        },
        {
         "hoverinfo": "text",
         "marker": {
          "color": "rgb(61,153,112)"
         },
         "mode": "lines",
         "type": "scatter",
         "x": {
          "bdata": "AAAAAAAAAADs8xCsUprTP+zzEKxSmtM/TAsQgfOZzD8=",
          "dtype": "f8"
         },
         "xaxis": "x",
         "y": {
          "bdata": "AAAAAACARsAAAAAAAIBGwAAAAAAAAE7AAAAAAAAATsA=",
          "dtype": "f8"
         },
         "yaxis": "y"
        },
        {
         "hoverinfo": "text",
         "marker": {
          "color": "rgb(61,153,112)"
         },
         "mode": "lines",
         "type": "scatter",
         "x": {
          "bdata": "7PMQrFKa0z+BbdjWwYDXP4Ft2NbBgNc/AAAAAAAAAAA=",
          "dtype": "f8"
         },
         "xaxis": "x",
         "y": {
          "bdata": "AAAAAABASsAAAAAAAEBKwAAAAAAAwFLAAAAAAADAUsA=",
          "dtype": "f8"
         },
         "yaxis": "y"
        },
        {
         "hoverinfo": "text",
         "marker": {
          "color": "rgb(61,153,112)"
         },
         "mode": "lines",
         "type": "scatter",
         "x": {
          "bdata": "Xv0ao8D73T94WI44peziP3hYjjil7OI/gW3Y1sGA1z8=",
          "dtype": "f8"
         },
         "xaxis": "x",
         "y": {
          "bdata": "AAAAAAAANMAAAAAAAAA0wAAAAAAA4E/AAAAAAADgT8A=",
          "dtype": "f8"
         },
         "yaxis": "y"
        },
        {
         "hoverinfo": "text",
         "marker": {
          "color": "rgb(61,153,112)"
         },
         "mode": "lines",
         "type": "scatter",
         "x": {
          "bdata": "AAAAAAAAAAAGuimhJErRPwa6KaEkStE/AAAAAAAAAAA=",
          "dtype": "f8"
         },
         "xaxis": "x",
         "y": {
          "bdata": "AAAAAABAWsAAAAAAAEBawAAAAAAAwFzAAAAAAADAXMA=",
          "dtype": "f8"
         },
         "yaxis": "y"
        },
        {
         "hoverinfo": "text",
         "marker": {
          "color": "rgb(61,153,112)"
         },
         "mode": "lines",
         "type": "scatter",
         "x": {
          "bdata": "AAAAAAAAAABLzhONEsDSP0vOE40SwNI/BropoSRK0T8=",
          "dtype": "f8"
         },
         "xaxis": "x",
         "y": {
          "bdata": "AAAAAADAV8AAAAAAAMBXwAAAAAAAgFvAAAAAAACAW8A=",
          "dtype": "f8"
         },
         "yaxis": "y"
        },
        {
         "hoverinfo": "text",
         "marker": {
          "color": "rgb(61,153,112)"
         },
         "mode": "lines",
         "type": "scatter",
         "x": {
          "bdata": "AAAAAAAAAADkrzhqrE/FP+SvOGqsT8U/AAAAAAAAAAA=",
          "dtype": "f8"
         },
         "xaxis": "x",
         "y": {
          "bdata": "AAAAAABgY8AAAAAAAGBjwAAAAAAAoGTAAAAAAACgZMA=",
          "dtype": "f8"
         },
         "yaxis": "y"
        },
        {
         "hoverinfo": "text",
         "marker": {
          "color": "rgb(61,153,112)"
         },
         "mode": "lines",
         "type": "scatter",
         "x": {
          "bdata": "5K84aqxPxT/9b8Ep+xDMP/1vwSn7EMw/AAAAAAAAAAA=",
          "dtype": "f8"
         },
         "xaxis": "x",
         "y": {
          "bdata": "AAAAAAAAZMAAAAAAAABkwAAAAAAA4GXAAAAAAADgZcA=",
          "dtype": "f8"
         },
         "yaxis": "y"
        },
        {
         "hoverinfo": "text",
         "marker": {
          "color": "rgb(61,153,112)"
         },
         "mode": "lines",
         "type": "scatter",
         "x": {
          "bdata": "AAAAAAAAAAD2quIOrN7RP/aq4g6s3tE//W/BKfsQzD8=",
          "dtype": "f8"
         },
         "xaxis": "x",
         "y": {
          "bdata": "AAAAAAAgYsAAAAAAACBiwAAAAAAA8GTAAAAAAADwZMA=",
          "dtype": "f8"
         },
         "yaxis": "y"
        },
        {
         "hoverinfo": "text",
         "marker": {
          "color": "rgb(61,153,112)"
         },
         "mode": "lines",
         "type": "scatter",
         "x": {
          "bdata": "AAAAAAAAAACPzULe5mrUP4/NQt7matQ/9qriDqze0T8=",
          "dtype": "f8"
         },
         "xaxis": "x",
         "y": {
          "bdata": "AAAAAADgYMAAAAAAAOBgwAAAAAAAiGPAAAAAAACIY8A=",
          "dtype": "f8"
         },
         "yaxis": "y"
        },
        {
         "hoverinfo": "text",
         "marker": {
          "color": "rgb(61,153,112)"
         },
         "mode": "lines",
         "type": "scatter",
         "x": {
          "bdata": "AAAAAAAAAABK2gjQd1HVP0raCNB3UdU/AAAAAAAAAAA=",
          "dtype": "f8"
         },
         "xaxis": "x",
         "y": {
          "bdata": "AAAAAAAgZ8AAAAAAACBnwAAAAAAAYGjAAAAAAABgaMA=",
          "dtype": "f8"
         },
         "yaxis": "y"
        },
        {
         "hoverinfo": "text",
         "marker": {
          "color": "rgb(61,153,112)"
         },
         "mode": "lines",
         "type": "scatter",
         "x": {
          "bdata": "j81C3uZq1D+hNlGOo6nZP6E2UY6jqdk/StoI0HdR1T8=",
          "dtype": "f8"
         },
         "xaxis": "x",
         "y": {
          "bdata": "AAAAAAA0YsAAAAAAADRiwAAAAAAAwGfAAAAAAADAZ8A=",
          "dtype": "f8"
         },
         "yaxis": "y"
        },
        {
         "hoverinfo": "text",
         "marker": {
          "color": "rgb(61,153,112)"
         },
         "mode": "lines",
         "type": "scatter",
         "x": {
          "bdata": "AAAAAAAAAACCswyH4qXdP4KzDIfipd0/oTZRjqOp2T8=",
          "dtype": "f8"
         },
         "xaxis": "x",
         "y": {
          "bdata": "AAAAAABAX8AAAAAAAEBfwAAAAAAA+mTAAAAAAAD6ZMA=",
          "dtype": "f8"
         },
         "yaxis": "y"
        },
        {
         "hoverinfo": "text",
         "marker": {
          "color": "rgb(61,153,112)"
         },
         "mode": "lines",
         "type": "scatter",
         "x": {
          "bdata": "AAAAAAAAAAAiUN7rn5nbPyJQ3uufmds/AAAAAAAAAAA=",
          "dtype": "f8"
         },
         "xaxis": "x",
         "y": {
          "bdata": "AAAAAACgacAAAAAAAKBpwAAAAAAA4GrAAAAAAADgasA=",
          "dtype": "f8"
         },
         "yaxis": "y"
        },
        {
         "hoverinfo": "text",
         "marker": {
          "color": "rgb(61,153,112)"
         },
         "mode": "lines",
         "type": "scatter",
         "x": {
          "bdata": "grMMh+Kl3T8rK91F07rfPysr3UXTut8/IlDe65+Z2z8=",
          "dtype": "f8"
         },
         "xaxis": "x",
         "y": {
          "bdata": "AAAAAABNYsAAAAAAAE1iwAAAAAAAQGrAAAAAAABAasA=",
          "dtype": "f8"
         },
         "yaxis": "y"
        },
        {
         "hoverinfo": "text",
         "marker": {
          "color": "rgb(61,153,112)"
         },
         "mode": "lines",
         "type": "scatter",
         "x": {
          "bdata": "S84TjRLA0j9gDVJcmUTgP2ANUlyZROA/KyvdRdO63z8=",
          "dtype": "f8"
         },
         "xaxis": "x",
         "y": {
          "bdata": "AAAAAACgWcAAAAAAAKBZwAAAAACARmbAAAAAAIBGZsA=",
          "dtype": "f8"
         },
         "yaxis": "y"
        },
        {
         "hoverinfo": "text",
         "marker": {
          "color": "rgb(61,153,112)"
         },
         "mode": "lines",
         "type": "scatter",
         "x": {
          "bdata": "AAAAAAAAAADPFM2/rIXgP88Uzb+sheA/YA1SXJlE4D8=",
          "dtype": "f8"
         },
         "xaxis": "x",
         "y": {
          "bdata": "AAAAAABAVcAAAAAAAEBVwAAAAABAi2HAAAAAAECLYcA=",
          "dtype": "f8"
         },
         "yaxis": "y"
        },
        {
         "hoverinfo": "text",
         "marker": {
          "color": "rgb(61,153,112)"
         },
         "mode": "lines",
         "type": "scatter",
         "x": {
          "bdata": "zxTNv6yF4D8Am0KpIBDkPwCbQqkgEOQ/AAAAAAAAAAA=",
          "dtype": "f8"
         },
         "xaxis": "x",
         "y": {
          "bdata": "AAAAAEArXMAAAAAAQCtcwAAAAAAAIGzAAAAAAAAgbMA=",
          "dtype": "f8"
         },
         "yaxis": "y"
        },
        {
         "hoverinfo": "text",
         "marker": {
          "color": "rgb(61,153,112)"
         },
         "mode": "lines",
         "type": "scatter",
         "x": {
          "bdata": "eFiOOKXs4j/nVEZr7AroP+dURmvsCug/AJtCqSAQ5D8=",
          "dtype": "f8"
         },
         "xaxis": "x",
         "y": {
          "bdata": "AAAAAADwRMAAAAAAAPBEwAAAAADQGmXAAAAAANAaZcA=",
          "dtype": "f8"
         },
         "yaxis": "y"
        }
       ],
       "layout": {
        "autosize": false,
        "height": 545,
        "hoverlabel": {
         "bgcolor": "white",
         "font": {
          "family": "Rockwell",
          "size": 16
         }
        },
        "hovermode": "closest",
        "plot_bgcolor": "#ECEFF1",
        "showlegend": false,
        "template": {
         "data": {
          "bar": [
           {
            "error_x": {
             "color": "#2a3f5f"
            },
            "error_y": {
             "color": "#2a3f5f"
            },
            "marker": {
             "line": {
              "color": "white",
              "width": 0.5
             },
             "pattern": {
              "fillmode": "overlay",
              "size": 10,
              "solidity": 0.2
             }
            },
            "type": "bar"
           }
          ],
          "barpolar": [
           {
            "marker": {
             "line": {
              "color": "white",
              "width": 0.5
             },
             "pattern": {
              "fillmode": "overlay",
              "size": 10,
              "solidity": 0.2
             }
            },
            "type": "barpolar"
           }
          ],
          "carpet": [
           {
            "aaxis": {
             "endlinecolor": "#2a3f5f",
             "gridcolor": "#C8D4E3",
             "linecolor": "#C8D4E3",
             "minorgridcolor": "#C8D4E3",
             "startlinecolor": "#2a3f5f"
            },
            "baxis": {
             "endlinecolor": "#2a3f5f",
             "gridcolor": "#C8D4E3",
             "linecolor": "#C8D4E3",
             "minorgridcolor": "#C8D4E3",
             "startlinecolor": "#2a3f5f"
            },
            "type": "carpet"
           }
          ],
          "choropleth": [
           {
            "colorbar": {
             "outlinewidth": 0,
             "ticks": ""
            },
            "type": "choropleth"
           }
          ],
          "contour": [
           {
            "colorbar": {
             "outlinewidth": 0,
             "ticks": ""
            },
            "colorscale": [
             [
              0,
              "#0d0887"
             ],
             [
              0.1111111111111111,
              "#46039f"
             ],
             [
              0.2222222222222222,
              "#7201a8"
             ],
             [
              0.3333333333333333,
              "#9c179e"
             ],
             [
              0.4444444444444444,
              "#bd3786"
             ],
             [
              0.5555555555555556,
              "#d8576b"
             ],
             [
              0.6666666666666666,
              "#ed7953"
             ],
             [
              0.7777777777777778,
              "#fb9f3a"
             ],
             [
              0.8888888888888888,
              "#fdca26"
             ],
             [
              1,
              "#f0f921"
             ]
            ],
            "type": "contour"
           }
          ],
          "contourcarpet": [
           {
            "colorbar": {
             "outlinewidth": 0,
             "ticks": ""
            },
            "type": "contourcarpet"
           }
          ],
          "heatmap": [
           {
            "colorbar": {
             "outlinewidth": 0,
             "ticks": ""
            },
            "colorscale": [
             [
              0,
              "#0d0887"
             ],
             [
              0.1111111111111111,
              "#46039f"
             ],
             [
              0.2222222222222222,
              "#7201a8"
             ],
             [
              0.3333333333333333,
              "#9c179e"
             ],
             [
              0.4444444444444444,
              "#bd3786"
             ],
             [
              0.5555555555555556,
              "#d8576b"
             ],
             [
              0.6666666666666666,
              "#ed7953"
             ],
             [
              0.7777777777777778,
              "#fb9f3a"
             ],
             [
              0.8888888888888888,
              "#fdca26"
             ],
             [
              1,
              "#f0f921"
             ]
            ],
            "type": "heatmap"
           }
          ],
          "histogram": [
           {
            "marker": {
             "pattern": {
              "fillmode": "overlay",
              "size": 10,
              "solidity": 0.2
             }
            },
            "type": "histogram"
           }
          ],
          "histogram2d": [
           {
            "colorbar": {
             "outlinewidth": 0,
             "ticks": ""
            },
            "colorscale": [
             [
              0,
              "#0d0887"
             ],
             [
              0.1111111111111111,
              "#46039f"
             ],
             [
              0.2222222222222222,
              "#7201a8"
             ],
             [
              0.3333333333333333,
              "#9c179e"
             ],
             [
              0.4444444444444444,
              "#bd3786"
             ],
             [
              0.5555555555555556,
              "#d8576b"
             ],
             [
              0.6666666666666666,
              "#ed7953"
             ],
             [
              0.7777777777777778,
              "#fb9f3a"
             ],
             [
              0.8888888888888888,
              "#fdca26"
             ],
             [
              1,
              "#f0f921"
             ]
            ],
            "type": "histogram2d"
           }
          ],
          "histogram2dcontour": [
           {
            "colorbar": {
             "outlinewidth": 0,
             "ticks": ""
            },
            "colorscale": [
             [
              0,
              "#0d0887"
             ],
             [
              0.1111111111111111,
              "#46039f"
             ],
             [
              0.2222222222222222,
              "#7201a8"
             ],
             [
              0.3333333333333333,
              "#9c179e"
             ],
             [
              0.4444444444444444,
              "#bd3786"
             ],
             [
              0.5555555555555556,
              "#d8576b"
             ],
             [
              0.6666666666666666,
              "#ed7953"
             ],
             [
              0.7777777777777778,
              "#fb9f3a"
             ],
             [
              0.8888888888888888,
              "#fdca26"
             ],
             [
              1,
              "#f0f921"
             ]
            ],
            "type": "histogram2dcontour"
           }
          ],
          "mesh3d": [
           {
            "colorbar": {
             "outlinewidth": 0,
             "ticks": ""
            },
            "type": "mesh3d"
           }
          ],
          "parcoords": [
           {
            "line": {
             "colorbar": {
              "outlinewidth": 0,
              "ticks": ""
             }
            },
            "type": "parcoords"
           }
          ],
          "pie": [
           {
            "automargin": true,
            "type": "pie"
           }
          ],
          "scatter": [
           {
            "fillpattern": {
             "fillmode": "overlay",
             "size": 10,
             "solidity": 0.2
            },
            "type": "scatter"
           }
          ],
          "scatter3d": [
           {
            "line": {
             "colorbar": {
              "outlinewidth": 0,
              "ticks": ""
             }
            },
            "marker": {
             "colorbar": {
              "outlinewidth": 0,
              "ticks": ""
             }
            },
            "type": "scatter3d"
           }
          ],
          "scattercarpet": [
           {
            "marker": {
             "colorbar": {
              "outlinewidth": 0,
              "ticks": ""
             }
            },
            "type": "scattercarpet"
           }
          ],
          "scattergeo": [
           {
            "marker": {
             "colorbar": {
              "outlinewidth": 0,
              "ticks": ""
             }
            },
            "type": "scattergeo"
           }
          ],
          "scattergl": [
           {
            "marker": {
             "colorbar": {
              "outlinewidth": 0,
              "ticks": ""
             }
            },
            "type": "scattergl"
           }
          ],
          "scattermap": [
           {
            "marker": {
             "colorbar": {
              "outlinewidth": 0,
              "ticks": ""
             }
            },
            "type": "scattermap"
           }
          ],
          "scattermapbox": [
           {
            "marker": {
             "colorbar": {
              "outlinewidth": 0,
              "ticks": ""
             }
            },
            "type": "scattermapbox"
           }
          ],
          "scatterpolar": [
           {
            "marker": {
             "colorbar": {
              "outlinewidth": 0,
              "ticks": ""
             }
            },
            "type": "scatterpolar"
           }
          ],
          "scatterpolargl": [
           {
            "marker": {
             "colorbar": {
              "outlinewidth": 0,
              "ticks": ""
             }
            },
            "type": "scatterpolargl"
           }
          ],
          "scatterternary": [
           {
            "marker": {
             "colorbar": {
              "outlinewidth": 0,
              "ticks": ""
             }
            },
            "type": "scatterternary"
           }
          ],
          "surface": [
           {
            "colorbar": {
             "outlinewidth": 0,
             "ticks": ""
            },
            "colorscale": [
             [
              0,
              "#0d0887"
             ],
             [
              0.1111111111111111,
              "#46039f"
             ],
             [
              0.2222222222222222,
              "#7201a8"
             ],
             [
              0.3333333333333333,
              "#9c179e"
             ],
             [
              0.4444444444444444,
              "#bd3786"
             ],
             [
              0.5555555555555556,
              "#d8576b"
             ],
             [
              0.6666666666666666,
              "#ed7953"
             ],
             [
              0.7777777777777778,
              "#fb9f3a"
             ],
             [
              0.8888888888888888,
              "#fdca26"
             ],
             [
              1,
              "#f0f921"
             ]
            ],
            "type": "surface"
           }
          ],
          "table": [
           {
            "cells": {
             "fill": {
              "color": "#EBF0F8"
             },
             "line": {
              "color": "white"
             }
            },
            "header": {
             "fill": {
              "color": "#C8D4E3"
             },
             "line": {
              "color": "white"
             }
            },
            "type": "table"
           }
          ]
         },
         "layout": {
          "annotationdefaults": {
           "arrowcolor": "#2a3f5f",
           "arrowhead": 0,
           "arrowwidth": 1
          },
          "autotypenumbers": "strict",
          "coloraxis": {
           "colorbar": {
            "outlinewidth": 0,
            "ticks": ""
           }
          },
          "colorscale": {
           "diverging": [
            [
             0,
             "#8e0152"
            ],
            [
             0.1,
             "#c51b7d"
            ],
            [
             0.2,
             "#de77ae"
            ],
            [
             0.3,
             "#f1b6da"
            ],
            [
             0.4,
             "#fde0ef"
            ],
            [
             0.5,
             "#f7f7f7"
            ],
            [
             0.6,
             "#e6f5d0"
            ],
            [
             0.7,
             "#b8e186"
            ],
            [
             0.8,
             "#7fbc41"
            ],
            [
             0.9,
             "#4d9221"
            ],
            [
             1,
             "#276419"
            ]
           ],
           "sequential": [
            [
             0,
             "#0d0887"
            ],
            [
             0.1111111111111111,
             "#46039f"
            ],
            [
             0.2222222222222222,
             "#7201a8"
            ],
            [
             0.3333333333333333,
             "#9c179e"
            ],
            [
             0.4444444444444444,
             "#bd3786"
            ],
            [
             0.5555555555555556,
             "#d8576b"
            ],
            [
             0.6666666666666666,
             "#ed7953"
            ],
            [
             0.7777777777777778,
             "#fb9f3a"
            ],
            [
             0.8888888888888888,
             "#fdca26"
            ],
            [
             1,
             "#f0f921"
            ]
           ],
           "sequentialminus": [
            [
             0,
             "#0d0887"
            ],
            [
             0.1111111111111111,
             "#46039f"
            ],
            [
             0.2222222222222222,
             "#7201a8"
            ],
            [
             0.3333333333333333,
             "#9c179e"
            ],
            [
             0.4444444444444444,
             "#bd3786"
            ],
            [
             0.5555555555555556,
             "#d8576b"
            ],
            [
             0.6666666666666666,
             "#ed7953"
            ],
            [
             0.7777777777777778,
             "#fb9f3a"
            ],
            [
             0.8888888888888888,
             "#fdca26"
            ],
            [
             1,
             "#f0f921"
            ]
           ]
          },
          "colorway": [
           "#636efa",
           "#EF553B",
           "#00cc96",
           "#ab63fa",
           "#FFA15A",
           "#19d3f3",
           "#FF6692",
           "#B6E880",
           "#FF97FF",
           "#FECB52"
          ],
          "font": {
           "color": "#2a3f5f"
          },
          "geo": {
           "bgcolor": "white",
           "lakecolor": "white",
           "landcolor": "white",
           "showlakes": true,
           "showland": true,
           "subunitcolor": "#C8D4E3"
          },
          "hoverlabel": {
           "align": "left"
          },
          "hovermode": "closest",
          "mapbox": {
           "style": "light"
          },
          "paper_bgcolor": "white",
          "plot_bgcolor": "white",
          "polar": {
           "angularaxis": {
            "gridcolor": "#EBF0F8",
            "linecolor": "#EBF0F8",
            "ticks": ""
           },
           "bgcolor": "white",
           "radialaxis": {
            "gridcolor": "#EBF0F8",
            "linecolor": "#EBF0F8",
            "ticks": ""
           }
          },
          "scene": {
           "xaxis": {
            "backgroundcolor": "white",
            "gridcolor": "#DFE8F3",
            "gridwidth": 2,
            "linecolor": "#EBF0F8",
            "showbackground": true,
            "ticks": "",
            "zerolinecolor": "#EBF0F8"
           },
           "yaxis": {
            "backgroundcolor": "white",
            "gridcolor": "#DFE8F3",
            "gridwidth": 2,
            "linecolor": "#EBF0F8",
            "showbackground": true,
            "ticks": "",
            "zerolinecolor": "#EBF0F8"
           },
           "zaxis": {
            "backgroundcolor": "white",
            "gridcolor": "#DFE8F3",
            "gridwidth": 2,
            "linecolor": "#EBF0F8",
            "showbackground": true,
            "ticks": "",
            "zerolinecolor": "#EBF0F8"
           }
          },
          "shapedefaults": {
           "line": {
            "color": "#2a3f5f"
           }
          },
          "ternary": {
           "aaxis": {
            "gridcolor": "#DFE8F3",
            "linecolor": "#A2B1C6",
            "ticks": ""
           },
           "baxis": {
            "gridcolor": "#DFE8F3",
            "linecolor": "#A2B1C6",
            "ticks": ""
           },
           "bgcolor": "white",
           "caxis": {
            "gridcolor": "#DFE8F3",
            "linecolor": "#A2B1C6",
            "ticks": ""
           }
          },
          "title": {
           "x": 0.05
          },
          "xaxis": {
           "automargin": true,
           "gridcolor": "#EBF0F8",
           "linecolor": "#EBF0F8",
           "ticks": "",
           "title": {
            "standoff": 15
           },
           "zerolinecolor": "#EBF0F8",
           "zerolinewidth": 2
          },
          "yaxis": {
           "automargin": true,
           "gridcolor": "#EBF0F8",
           "linecolor": "#EBF0F8",
           "ticks": "",
           "title": {
            "standoff": 15
           },
           "zerolinecolor": "#EBF0F8",
           "zerolinewidth": 2
          }
         }
        },
        "title": {
         "font": {
          "color": "Black",
          "size": 22
         },
         "text": "<b>Hierarchical Clustering</b>",
         "x": 0.5,
         "xanchor": "center",
         "yanchor": "top"
        },
        "width": 1000,
        "xaxis": {
         "mirror": "allticks",
         "rangemode": "tozero",
         "showgrid": false,
         "showline": true,
         "showticklabels": true,
         "ticks": "outside",
         "type": "linear",
         "zeroline": false
        },
        "yaxis": {
         "mirror": "allticks",
         "range": [
          -230,
          0
         ],
         "rangemode": "tozero",
         "showgrid": false,
         "showline": true,
         "showticklabels": true,
         "tickmode": "array",
         "ticks": "outside",
         "ticktext": [
          "17_the_synthesis_of",
          "22_and_the_to",
          "5_food_and_the",
          "9_plant_the_of",
          "18_and_the_to",
          "2_and_the_of",
          "12_and_data_the",
          "19_care_cancer_and",
          "20_retinal_eye_the",
          "15_the_of_in",
          "10_brain_the_and",
          "4_the_of_in",
          "13_cardiac_heart_the",
          "6_bone_the_and",
          "11_the_and_of",
          "3_the_and_of",
          "0_the_of_to",
          "1_the_and_of",
          "7_the_of_to",
          "8_gut_and_the",
          "14_liver_in_the",
          "16_diabetes_insulin_glucose",
          "21_kidney_ckd_renal"
         ],
         "tickvals": [
          -5,
          -15,
          -25,
          -35,
          -45,
          -55,
          -65,
          -75,
          -85,
          -95,
          -105,
          -115,
          -125,
          -135,
          -145,
          -155,
          -165,
          -175,
          -185,
          -195,
          -205,
          -215,
          -225
         ],
         "type": "linear",
         "zeroline": false
        }
       }
      }
     },
     "metadata": {},
     "output_type": "display_data"
    }
   ],
   "source": [
    "topic_model.visualize_hierarchy(custom_labels=False)\n"
   ]
  },
  {
   "cell_type": "code",
   "execution_count": 22,
   "id": "114d104c",
   "metadata": {},
   "outputs": [
    {
     "name": "stderr",
     "output_type": "stream",
     "text": [
      "100%|██████████| 4/4 [00:03<00:00,  1.08it/s]\n"
     ]
    }
   ],
   "source": [
    "# `topic_distr` contains the distribution of topics in each document\n",
    "topic_distr, _ = topic_model.approximate_distribution(abstracts, window=8, stride=4)\n"
   ]
  },
  {
   "cell_type": "code",
   "execution_count": 29,
   "id": "a733b0fb",
   "metadata": {},
   "outputs": [
    {
     "name": "stdout",
     "output_type": "stream",
     "text": [
      "('BiomimX Beating organs-on-chips (OoC) are in vitro miniaturized and living '\n",
      " 'replica of human organs and diseases,building upon cutting-edge technologies '\n",
      " 'and human cells. Beating OoC provide a faithful replication of native '\n",
      " 'humanphysiology integrating miniaturized 3D cell culture techniques, '\n",
      " 'mechanical stimulation (uBeat®) and electrical recordingcapabilities '\n",
      " '(uSense). BiomimX’s proprietary key technology (uBeat®) supports 3D human '\n",
      " 'cell cultures and integrates acontrolled and tunable mechanical stimulation '\n",
      " 'system. uBeat® leads to the generation of mature and functional '\n",
      " 'miniaturizedreplication of human organs adequate to test compounds '\n",
      " 'toxicity/functionality in a high-throughput fashion. Integration ofuSense '\n",
      " 'allows real-time evaluation of clinically relevant parameters from the '\n",
      " 'established beating models. BiomimX’sBeating OoC represent a safer, more '\n",
      " 'efficient and faster alternative to poorly predictable preclinical models to '\n",
      " 'date available inthe drug discovery pipeline (DDP). BiomimX already '\n",
      " 'demonstrated the validity of its Beating OoC models in two critical fields '\n",
      " 'ofthe drug discovery pipeline: uHeart (human beating heart-on-chip) has been '\n",
      " 'applied as early predictor of drug functionalcardiotoxicity, uKnee (first in '\n",
      " 'vitro model of human OA) has shown its predictive potential for the '\n",
      " 'discovery of new targets foran unmet pathology.Also thanks to the '\n",
      " 'contribution of Women TechEU programme, BiomimX aims at demonstrating the '\n",
      " 'unprecedented potential of its disruptive innovation in reshaping the market '\n",
      " 'of drug development, by i) boosting technological aspects (i.e. through an '\n",
      " 'intensive industrialization process of BiomimX patented technologies) and '\n",
      " 'ii) proving the versatility of its innovation and its capacity to adapt to a '\n",
      " 'manifold of indications and market spaces. In line with the 3R principle, '\n",
      " 'BiomimX final vision is to reduce and eventually replace animal '\n",
      " 'experimentations within the next 15 years.')\n"
     ]
    }
   ],
   "source": [
    "from pprint import pprint\n",
    "\n",
    "abstract_id = 10\n",
    "pprint(abstracts[abstract_id], width=80)\n"
   ]
  },
  {
   "cell_type": "code",
   "execution_count": 24,
   "id": "717c3a95",
   "metadata": {},
   "outputs": [
    {
     "data": {
      "application/vnd.plotly.v1+json": {
       "config": {
        "plotlyServerURL": "https://plot.ly"
       },
       "data": [
        {
         "marker": {
          "color": "#C8D2D7",
          "line": {
           "color": "#6E8484",
           "width": 1
          }
         },
         "orientation": "h",
         "type": "bar",
         "x": [
          0.5093293170564624,
          0.223278064660427,
          0.2673926182831106
         ],
         "y": [
          "<b>Topic 3</b>: heart_cardiac_patients_c...",
          "<b>Topic 6</b>: bone_tissue_pain_oa_mech...",
          "<b>Topic 11</b>: brain_stimulation_epile..."
         ]
        }
       ],
       "layout": {
        "height": 600,
        "hoverlabel": {
         "bgcolor": "white",
         "font": {
          "family": "Rockwell",
          "size": 16
         }
        },
        "template": {
         "data": {
          "bar": [
           {
            "error_x": {
             "color": "rgb(36,36,36)"
            },
            "error_y": {
             "color": "rgb(36,36,36)"
            },
            "marker": {
             "line": {
              "color": "white",
              "width": 0.5
             },
             "pattern": {
              "fillmode": "overlay",
              "size": 10,
              "solidity": 0.2
             }
            },
            "type": "bar"
           }
          ],
          "barpolar": [
           {
            "marker": {
             "line": {
              "color": "white",
              "width": 0.5
             },
             "pattern": {
              "fillmode": "overlay",
              "size": 10,
              "solidity": 0.2
             }
            },
            "type": "barpolar"
           }
          ],
          "carpet": [
           {
            "aaxis": {
             "endlinecolor": "rgb(36,36,36)",
             "gridcolor": "white",
             "linecolor": "white",
             "minorgridcolor": "white",
             "startlinecolor": "rgb(36,36,36)"
            },
            "baxis": {
             "endlinecolor": "rgb(36,36,36)",
             "gridcolor": "white",
             "linecolor": "white",
             "minorgridcolor": "white",
             "startlinecolor": "rgb(36,36,36)"
            },
            "type": "carpet"
           }
          ],
          "choropleth": [
           {
            "colorbar": {
             "outlinewidth": 1,
             "tickcolor": "rgb(36,36,36)",
             "ticks": "outside"
            },
            "type": "choropleth"
           }
          ],
          "contour": [
           {
            "colorbar": {
             "outlinewidth": 1,
             "tickcolor": "rgb(36,36,36)",
             "ticks": "outside"
            },
            "colorscale": [
             [
              0,
              "#440154"
             ],
             [
              0.1111111111111111,
              "#482878"
             ],
             [
              0.2222222222222222,
              "#3e4989"
             ],
             [
              0.3333333333333333,
              "#31688e"
             ],
             [
              0.4444444444444444,
              "#26828e"
             ],
             [
              0.5555555555555556,
              "#1f9e89"
             ],
             [
              0.6666666666666666,
              "#35b779"
             ],
             [
              0.7777777777777778,
              "#6ece58"
             ],
             [
              0.8888888888888888,
              "#b5de2b"
             ],
             [
              1,
              "#fde725"
             ]
            ],
            "type": "contour"
           }
          ],
          "contourcarpet": [
           {
            "colorbar": {
             "outlinewidth": 1,
             "tickcolor": "rgb(36,36,36)",
             "ticks": "outside"
            },
            "type": "contourcarpet"
           }
          ],
          "heatmap": [
           {
            "colorbar": {
             "outlinewidth": 1,
             "tickcolor": "rgb(36,36,36)",
             "ticks": "outside"
            },
            "colorscale": [
             [
              0,
              "#440154"
             ],
             [
              0.1111111111111111,
              "#482878"
             ],
             [
              0.2222222222222222,
              "#3e4989"
             ],
             [
              0.3333333333333333,
              "#31688e"
             ],
             [
              0.4444444444444444,
              "#26828e"
             ],
             [
              0.5555555555555556,
              "#1f9e89"
             ],
             [
              0.6666666666666666,
              "#35b779"
             ],
             [
              0.7777777777777778,
              "#6ece58"
             ],
             [
              0.8888888888888888,
              "#b5de2b"
             ],
             [
              1,
              "#fde725"
             ]
            ],
            "type": "heatmap"
           }
          ],
          "histogram": [
           {
            "marker": {
             "line": {
              "color": "white",
              "width": 0.6
             }
            },
            "type": "histogram"
           }
          ],
          "histogram2d": [
           {
            "colorbar": {
             "outlinewidth": 1,
             "tickcolor": "rgb(36,36,36)",
             "ticks": "outside"
            },
            "colorscale": [
             [
              0,
              "#440154"
             ],
             [
              0.1111111111111111,
              "#482878"
             ],
             [
              0.2222222222222222,
              "#3e4989"
             ],
             [
              0.3333333333333333,
              "#31688e"
             ],
             [
              0.4444444444444444,
              "#26828e"
             ],
             [
              0.5555555555555556,
              "#1f9e89"
             ],
             [
              0.6666666666666666,
              "#35b779"
             ],
             [
              0.7777777777777778,
              "#6ece58"
             ],
             [
              0.8888888888888888,
              "#b5de2b"
             ],
             [
              1,
              "#fde725"
             ]
            ],
            "type": "histogram2d"
           }
          ],
          "histogram2dcontour": [
           {
            "colorbar": {
             "outlinewidth": 1,
             "tickcolor": "rgb(36,36,36)",
             "ticks": "outside"
            },
            "colorscale": [
             [
              0,
              "#440154"
             ],
             [
              0.1111111111111111,
              "#482878"
             ],
             [
              0.2222222222222222,
              "#3e4989"
             ],
             [
              0.3333333333333333,
              "#31688e"
             ],
             [
              0.4444444444444444,
              "#26828e"
             ],
             [
              0.5555555555555556,
              "#1f9e89"
             ],
             [
              0.6666666666666666,
              "#35b779"
             ],
             [
              0.7777777777777778,
              "#6ece58"
             ],
             [
              0.8888888888888888,
              "#b5de2b"
             ],
             [
              1,
              "#fde725"
             ]
            ],
            "type": "histogram2dcontour"
           }
          ],
          "mesh3d": [
           {
            "colorbar": {
             "outlinewidth": 1,
             "tickcolor": "rgb(36,36,36)",
             "ticks": "outside"
            },
            "type": "mesh3d"
           }
          ],
          "parcoords": [
           {
            "line": {
             "colorbar": {
              "outlinewidth": 1,
              "tickcolor": "rgb(36,36,36)",
              "ticks": "outside"
             }
            },
            "type": "parcoords"
           }
          ],
          "pie": [
           {
            "automargin": true,
            "type": "pie"
           }
          ],
          "scatter": [
           {
            "fillpattern": {
             "fillmode": "overlay",
             "size": 10,
             "solidity": 0.2
            },
            "type": "scatter"
           }
          ],
          "scatter3d": [
           {
            "line": {
             "colorbar": {
              "outlinewidth": 1,
              "tickcolor": "rgb(36,36,36)",
              "ticks": "outside"
             }
            },
            "marker": {
             "colorbar": {
              "outlinewidth": 1,
              "tickcolor": "rgb(36,36,36)",
              "ticks": "outside"
             }
            },
            "type": "scatter3d"
           }
          ],
          "scattercarpet": [
           {
            "marker": {
             "colorbar": {
              "outlinewidth": 1,
              "tickcolor": "rgb(36,36,36)",
              "ticks": "outside"
             }
            },
            "type": "scattercarpet"
           }
          ],
          "scattergeo": [
           {
            "marker": {
             "colorbar": {
              "outlinewidth": 1,
              "tickcolor": "rgb(36,36,36)",
              "ticks": "outside"
             }
            },
            "type": "scattergeo"
           }
          ],
          "scattergl": [
           {
            "marker": {
             "colorbar": {
              "outlinewidth": 1,
              "tickcolor": "rgb(36,36,36)",
              "ticks": "outside"
             }
            },
            "type": "scattergl"
           }
          ],
          "scattermap": [
           {
            "marker": {
             "colorbar": {
              "outlinewidth": 1,
              "tickcolor": "rgb(36,36,36)",
              "ticks": "outside"
             }
            },
            "type": "scattermap"
           }
          ],
          "scattermapbox": [
           {
            "marker": {
             "colorbar": {
              "outlinewidth": 1,
              "tickcolor": "rgb(36,36,36)",
              "ticks": "outside"
             }
            },
            "type": "scattermapbox"
           }
          ],
          "scatterpolar": [
           {
            "marker": {
             "colorbar": {
              "outlinewidth": 1,
              "tickcolor": "rgb(36,36,36)",
              "ticks": "outside"
             }
            },
            "type": "scatterpolar"
           }
          ],
          "scatterpolargl": [
           {
            "marker": {
             "colorbar": {
              "outlinewidth": 1,
              "tickcolor": "rgb(36,36,36)",
              "ticks": "outside"
             }
            },
            "type": "scatterpolargl"
           }
          ],
          "scatterternary": [
           {
            "marker": {
             "colorbar": {
              "outlinewidth": 1,
              "tickcolor": "rgb(36,36,36)",
              "ticks": "outside"
             }
            },
            "type": "scatterternary"
           }
          ],
          "surface": [
           {
            "colorbar": {
             "outlinewidth": 1,
             "tickcolor": "rgb(36,36,36)",
             "ticks": "outside"
            },
            "colorscale": [
             [
              0,
              "#440154"
             ],
             [
              0.1111111111111111,
              "#482878"
             ],
             [
              0.2222222222222222,
              "#3e4989"
             ],
             [
              0.3333333333333333,
              "#31688e"
             ],
             [
              0.4444444444444444,
              "#26828e"
             ],
             [
              0.5555555555555556,
              "#1f9e89"
             ],
             [
              0.6666666666666666,
              "#35b779"
             ],
             [
              0.7777777777777778,
              "#6ece58"
             ],
             [
              0.8888888888888888,
              "#b5de2b"
             ],
             [
              1,
              "#fde725"
             ]
            ],
            "type": "surface"
           }
          ],
          "table": [
           {
            "cells": {
             "fill": {
              "color": "rgb(237,237,237)"
             },
             "line": {
              "color": "white"
             }
            },
            "header": {
             "fill": {
              "color": "rgb(217,217,217)"
             },
             "line": {
              "color": "white"
             }
            },
            "type": "table"
           }
          ]
         },
         "layout": {
          "annotationdefaults": {
           "arrowhead": 0,
           "arrowwidth": 1
          },
          "autotypenumbers": "strict",
          "coloraxis": {
           "colorbar": {
            "outlinewidth": 1,
            "tickcolor": "rgb(36,36,36)",
            "ticks": "outside"
           }
          },
          "colorscale": {
           "diverging": [
            [
             0,
             "rgb(103,0,31)"
            ],
            [
             0.1,
             "rgb(178,24,43)"
            ],
            [
             0.2,
             "rgb(214,96,77)"
            ],
            [
             0.3,
             "rgb(244,165,130)"
            ],
            [
             0.4,
             "rgb(253,219,199)"
            ],
            [
             0.5,
             "rgb(247,247,247)"
            ],
            [
             0.6,
             "rgb(209,229,240)"
            ],
            [
             0.7,
             "rgb(146,197,222)"
            ],
            [
             0.8,
             "rgb(67,147,195)"
            ],
            [
             0.9,
             "rgb(33,102,172)"
            ],
            [
             1,
             "rgb(5,48,97)"
            ]
           ],
           "sequential": [
            [
             0,
             "#440154"
            ],
            [
             0.1111111111111111,
             "#482878"
            ],
            [
             0.2222222222222222,
             "#3e4989"
            ],
            [
             0.3333333333333333,
             "#31688e"
            ],
            [
             0.4444444444444444,
             "#26828e"
            ],
            [
             0.5555555555555556,
             "#1f9e89"
            ],
            [
             0.6666666666666666,
             "#35b779"
            ],
            [
             0.7777777777777778,
             "#6ece58"
            ],
            [
             0.8888888888888888,
             "#b5de2b"
            ],
            [
             1,
             "#fde725"
            ]
           ],
           "sequentialminus": [
            [
             0,
             "#440154"
            ],
            [
             0.1111111111111111,
             "#482878"
            ],
            [
             0.2222222222222222,
             "#3e4989"
            ],
            [
             0.3333333333333333,
             "#31688e"
            ],
            [
             0.4444444444444444,
             "#26828e"
            ],
            [
             0.5555555555555556,
             "#1f9e89"
            ],
            [
             0.6666666666666666,
             "#35b779"
            ],
            [
             0.7777777777777778,
             "#6ece58"
            ],
            [
             0.8888888888888888,
             "#b5de2b"
            ],
            [
             1,
             "#fde725"
            ]
           ]
          },
          "colorway": [
           "#1F77B4",
           "#FF7F0E",
           "#2CA02C",
           "#D62728",
           "#9467BD",
           "#8C564B",
           "#E377C2",
           "#7F7F7F",
           "#BCBD22",
           "#17BECF"
          ],
          "font": {
           "color": "rgb(36,36,36)"
          },
          "geo": {
           "bgcolor": "white",
           "lakecolor": "white",
           "landcolor": "white",
           "showlakes": true,
           "showland": true,
           "subunitcolor": "white"
          },
          "hoverlabel": {
           "align": "left"
          },
          "hovermode": "closest",
          "mapbox": {
           "style": "light"
          },
          "paper_bgcolor": "white",
          "plot_bgcolor": "white",
          "polar": {
           "angularaxis": {
            "gridcolor": "rgb(232,232,232)",
            "linecolor": "rgb(36,36,36)",
            "showgrid": false,
            "showline": true,
            "ticks": "outside"
           },
           "bgcolor": "white",
           "radialaxis": {
            "gridcolor": "rgb(232,232,232)",
            "linecolor": "rgb(36,36,36)",
            "showgrid": false,
            "showline": true,
            "ticks": "outside"
           }
          },
          "scene": {
           "xaxis": {
            "backgroundcolor": "white",
            "gridcolor": "rgb(232,232,232)",
            "gridwidth": 2,
            "linecolor": "rgb(36,36,36)",
            "showbackground": true,
            "showgrid": false,
            "showline": true,
            "ticks": "outside",
            "zeroline": false,
            "zerolinecolor": "rgb(36,36,36)"
           },
           "yaxis": {
            "backgroundcolor": "white",
            "gridcolor": "rgb(232,232,232)",
            "gridwidth": 2,
            "linecolor": "rgb(36,36,36)",
            "showbackground": true,
            "showgrid": false,
            "showline": true,
            "ticks": "outside",
            "zeroline": false,
            "zerolinecolor": "rgb(36,36,36)"
           },
           "zaxis": {
            "backgroundcolor": "white",
            "gridcolor": "rgb(232,232,232)",
            "gridwidth": 2,
            "linecolor": "rgb(36,36,36)",
            "showbackground": true,
            "showgrid": false,
            "showline": true,
            "ticks": "outside",
            "zeroline": false,
            "zerolinecolor": "rgb(36,36,36)"
           }
          },
          "shapedefaults": {
           "fillcolor": "black",
           "line": {
            "width": 0
           },
           "opacity": 0.3
          },
          "ternary": {
           "aaxis": {
            "gridcolor": "rgb(232,232,232)",
            "linecolor": "rgb(36,36,36)",
            "showgrid": false,
            "showline": true,
            "ticks": "outside"
           },
           "baxis": {
            "gridcolor": "rgb(232,232,232)",
            "linecolor": "rgb(36,36,36)",
            "showgrid": false,
            "showline": true,
            "ticks": "outside"
           },
           "bgcolor": "white",
           "caxis": {
            "gridcolor": "rgb(232,232,232)",
            "linecolor": "rgb(36,36,36)",
            "showgrid": false,
            "showline": true,
            "ticks": "outside"
           }
          },
          "title": {
           "x": 0.05
          },
          "xaxis": {
           "automargin": true,
           "gridcolor": "rgb(232,232,232)",
           "linecolor": "rgb(36,36,36)",
           "showgrid": false,
           "showline": true,
           "ticks": "outside",
           "title": {
            "standoff": 15
           },
           "zeroline": false,
           "zerolinecolor": "rgb(36,36,36)"
          },
          "yaxis": {
           "automargin": true,
           "gridcolor": "rgb(232,232,232)",
           "linecolor": "rgb(36,36,36)",
           "showgrid": false,
           "showline": true,
           "ticks": "outside",
           "title": {
            "standoff": 15
           },
           "zeroline": false,
           "zerolinecolor": "rgb(36,36,36)"
          }
         }
        },
        "title": {
         "font": {
          "color": "Black",
          "size": 22
         },
         "text": "<b>Topic Probability Distribution</b>",
         "x": 0.5,
         "xanchor": "center",
         "y": 0.95,
         "yanchor": "top"
        },
        "width": 800,
        "xaxis": {
         "title": {
          "text": "Probability"
         }
        }
       }
      }
     },
     "metadata": {},
     "output_type": "display_data"
    }
   ],
   "source": [
    "# Visualize the topic-document distribution for a single document\n",
    "topic_model.visualize_distribution(topic_distr[abstract_id])\n"
   ]
  },
  {
   "cell_type": "code",
   "execution_count": 25,
   "id": "8ddaf097",
   "metadata": {},
   "outputs": [
    {
     "data": {
      "application/vnd.plotly.v1+json": {
       "config": {
        "plotlyServerURL": "https://plot.ly"
       },
       "data": [
        {
         "marker": {
          "color": "#C8D2D7",
          "line": {
           "color": "#6E8484",
           "width": 1
          }
         },
         "orientation": "h",
         "type": "bar",
         "x": [
          0.5093293170564624,
          0.223278064660427,
          0.2673926182831106
         ],
         "y": [
          "cardiomyocytes | myocardial | cardiac",
          "bone regeneration | bioprinting | tissue engineering",
          "brain stimulation | neuromodulation | electrical stimulation"
         ]
        }
       ],
       "layout": {
        "height": 600,
        "hoverlabel": {
         "bgcolor": "white",
         "font": {
          "family": "Rockwell",
          "size": 16
         }
        },
        "template": {
         "data": {
          "bar": [
           {
            "error_x": {
             "color": "rgb(36,36,36)"
            },
            "error_y": {
             "color": "rgb(36,36,36)"
            },
            "marker": {
             "line": {
              "color": "white",
              "width": 0.5
             },
             "pattern": {
              "fillmode": "overlay",
              "size": 10,
              "solidity": 0.2
             }
            },
            "type": "bar"
           }
          ],
          "barpolar": [
           {
            "marker": {
             "line": {
              "color": "white",
              "width": 0.5
             },
             "pattern": {
              "fillmode": "overlay",
              "size": 10,
              "solidity": 0.2
             }
            },
            "type": "barpolar"
           }
          ],
          "carpet": [
           {
            "aaxis": {
             "endlinecolor": "rgb(36,36,36)",
             "gridcolor": "white",
             "linecolor": "white",
             "minorgridcolor": "white",
             "startlinecolor": "rgb(36,36,36)"
            },
            "baxis": {
             "endlinecolor": "rgb(36,36,36)",
             "gridcolor": "white",
             "linecolor": "white",
             "minorgridcolor": "white",
             "startlinecolor": "rgb(36,36,36)"
            },
            "type": "carpet"
           }
          ],
          "choropleth": [
           {
            "colorbar": {
             "outlinewidth": 1,
             "tickcolor": "rgb(36,36,36)",
             "ticks": "outside"
            },
            "type": "choropleth"
           }
          ],
          "contour": [
           {
            "colorbar": {
             "outlinewidth": 1,
             "tickcolor": "rgb(36,36,36)",
             "ticks": "outside"
            },
            "colorscale": [
             [
              0,
              "#440154"
             ],
             [
              0.1111111111111111,
              "#482878"
             ],
             [
              0.2222222222222222,
              "#3e4989"
             ],
             [
              0.3333333333333333,
              "#31688e"
             ],
             [
              0.4444444444444444,
              "#26828e"
             ],
             [
              0.5555555555555556,
              "#1f9e89"
             ],
             [
              0.6666666666666666,
              "#35b779"
             ],
             [
              0.7777777777777778,
              "#6ece58"
             ],
             [
              0.8888888888888888,
              "#b5de2b"
             ],
             [
              1,
              "#fde725"
             ]
            ],
            "type": "contour"
           }
          ],
          "contourcarpet": [
           {
            "colorbar": {
             "outlinewidth": 1,
             "tickcolor": "rgb(36,36,36)",
             "ticks": "outside"
            },
            "type": "contourcarpet"
           }
          ],
          "heatmap": [
           {
            "colorbar": {
             "outlinewidth": 1,
             "tickcolor": "rgb(36,36,36)",
             "ticks": "outside"
            },
            "colorscale": [
             [
              0,
              "#440154"
             ],
             [
              0.1111111111111111,
              "#482878"
             ],
             [
              0.2222222222222222,
              "#3e4989"
             ],
             [
              0.3333333333333333,
              "#31688e"
             ],
             [
              0.4444444444444444,
              "#26828e"
             ],
             [
              0.5555555555555556,
              "#1f9e89"
             ],
             [
              0.6666666666666666,
              "#35b779"
             ],
             [
              0.7777777777777778,
              "#6ece58"
             ],
             [
              0.8888888888888888,
              "#b5de2b"
             ],
             [
              1,
              "#fde725"
             ]
            ],
            "type": "heatmap"
           }
          ],
          "histogram": [
           {
            "marker": {
             "line": {
              "color": "white",
              "width": 0.6
             }
            },
            "type": "histogram"
           }
          ],
          "histogram2d": [
           {
            "colorbar": {
             "outlinewidth": 1,
             "tickcolor": "rgb(36,36,36)",
             "ticks": "outside"
            },
            "colorscale": [
             [
              0,
              "#440154"
             ],
             [
              0.1111111111111111,
              "#482878"
             ],
             [
              0.2222222222222222,
              "#3e4989"
             ],
             [
              0.3333333333333333,
              "#31688e"
             ],
             [
              0.4444444444444444,
              "#26828e"
             ],
             [
              0.5555555555555556,
              "#1f9e89"
             ],
             [
              0.6666666666666666,
              "#35b779"
             ],
             [
              0.7777777777777778,
              "#6ece58"
             ],
             [
              0.8888888888888888,
              "#b5de2b"
             ],
             [
              1,
              "#fde725"
             ]
            ],
            "type": "histogram2d"
           }
          ],
          "histogram2dcontour": [
           {
            "colorbar": {
             "outlinewidth": 1,
             "tickcolor": "rgb(36,36,36)",
             "ticks": "outside"
            },
            "colorscale": [
             [
              0,
              "#440154"
             ],
             [
              0.1111111111111111,
              "#482878"
             ],
             [
              0.2222222222222222,
              "#3e4989"
             ],
             [
              0.3333333333333333,
              "#31688e"
             ],
             [
              0.4444444444444444,
              "#26828e"
             ],
             [
              0.5555555555555556,
              "#1f9e89"
             ],
             [
              0.6666666666666666,
              "#35b779"
             ],
             [
              0.7777777777777778,
              "#6ece58"
             ],
             [
              0.8888888888888888,
              "#b5de2b"
             ],
             [
              1,
              "#fde725"
             ]
            ],
            "type": "histogram2dcontour"
           }
          ],
          "mesh3d": [
           {
            "colorbar": {
             "outlinewidth": 1,
             "tickcolor": "rgb(36,36,36)",
             "ticks": "outside"
            },
            "type": "mesh3d"
           }
          ],
          "parcoords": [
           {
            "line": {
             "colorbar": {
              "outlinewidth": 1,
              "tickcolor": "rgb(36,36,36)",
              "ticks": "outside"
             }
            },
            "type": "parcoords"
           }
          ],
          "pie": [
           {
            "automargin": true,
            "type": "pie"
           }
          ],
          "scatter": [
           {
            "fillpattern": {
             "fillmode": "overlay",
             "size": 10,
             "solidity": 0.2
            },
            "type": "scatter"
           }
          ],
          "scatter3d": [
           {
            "line": {
             "colorbar": {
              "outlinewidth": 1,
              "tickcolor": "rgb(36,36,36)",
              "ticks": "outside"
             }
            },
            "marker": {
             "colorbar": {
              "outlinewidth": 1,
              "tickcolor": "rgb(36,36,36)",
              "ticks": "outside"
             }
            },
            "type": "scatter3d"
           }
          ],
          "scattercarpet": [
           {
            "marker": {
             "colorbar": {
              "outlinewidth": 1,
              "tickcolor": "rgb(36,36,36)",
              "ticks": "outside"
             }
            },
            "type": "scattercarpet"
           }
          ],
          "scattergeo": [
           {
            "marker": {
             "colorbar": {
              "outlinewidth": 1,
              "tickcolor": "rgb(36,36,36)",
              "ticks": "outside"
             }
            },
            "type": "scattergeo"
           }
          ],
          "scattergl": [
           {
            "marker": {
             "colorbar": {
              "outlinewidth": 1,
              "tickcolor": "rgb(36,36,36)",
              "ticks": "outside"
             }
            },
            "type": "scattergl"
           }
          ],
          "scattermap": [
           {
            "marker": {
             "colorbar": {
              "outlinewidth": 1,
              "tickcolor": "rgb(36,36,36)",
              "ticks": "outside"
             }
            },
            "type": "scattermap"
           }
          ],
          "scattermapbox": [
           {
            "marker": {
             "colorbar": {
              "outlinewidth": 1,
              "tickcolor": "rgb(36,36,36)",
              "ticks": "outside"
             }
            },
            "type": "scattermapbox"
           }
          ],
          "scatterpolar": [
           {
            "marker": {
             "colorbar": {
              "outlinewidth": 1,
              "tickcolor": "rgb(36,36,36)",
              "ticks": "outside"
             }
            },
            "type": "scatterpolar"
           }
          ],
          "scatterpolargl": [
           {
            "marker": {
             "colorbar": {
              "outlinewidth": 1,
              "tickcolor": "rgb(36,36,36)",
              "ticks": "outside"
             }
            },
            "type": "scatterpolargl"
           }
          ],
          "scatterternary": [
           {
            "marker": {
             "colorbar": {
              "outlinewidth": 1,
              "tickcolor": "rgb(36,36,36)",
              "ticks": "outside"
             }
            },
            "type": "scatterternary"
           }
          ],
          "surface": [
           {
            "colorbar": {
             "outlinewidth": 1,
             "tickcolor": "rgb(36,36,36)",
             "ticks": "outside"
            },
            "colorscale": [
             [
              0,
              "#440154"
             ],
             [
              0.1111111111111111,
              "#482878"
             ],
             [
              0.2222222222222222,
              "#3e4989"
             ],
             [
              0.3333333333333333,
              "#31688e"
             ],
             [
              0.4444444444444444,
              "#26828e"
             ],
             [
              0.5555555555555556,
              "#1f9e89"
             ],
             [
              0.6666666666666666,
              "#35b779"
             ],
             [
              0.7777777777777778,
              "#6ece58"
             ],
             [
              0.8888888888888888,
              "#b5de2b"
             ],
             [
              1,
              "#fde725"
             ]
            ],
            "type": "surface"
           }
          ],
          "table": [
           {
            "cells": {
             "fill": {
              "color": "rgb(237,237,237)"
             },
             "line": {
              "color": "white"
             }
            },
            "header": {
             "fill": {
              "color": "rgb(217,217,217)"
             },
             "line": {
              "color": "white"
             }
            },
            "type": "table"
           }
          ]
         },
         "layout": {
          "annotationdefaults": {
           "arrowhead": 0,
           "arrowwidth": 1
          },
          "autotypenumbers": "strict",
          "coloraxis": {
           "colorbar": {
            "outlinewidth": 1,
            "tickcolor": "rgb(36,36,36)",
            "ticks": "outside"
           }
          },
          "colorscale": {
           "diverging": [
            [
             0,
             "rgb(103,0,31)"
            ],
            [
             0.1,
             "rgb(178,24,43)"
            ],
            [
             0.2,
             "rgb(214,96,77)"
            ],
            [
             0.3,
             "rgb(244,165,130)"
            ],
            [
             0.4,
             "rgb(253,219,199)"
            ],
            [
             0.5,
             "rgb(247,247,247)"
            ],
            [
             0.6,
             "rgb(209,229,240)"
            ],
            [
             0.7,
             "rgb(146,197,222)"
            ],
            [
             0.8,
             "rgb(67,147,195)"
            ],
            [
             0.9,
             "rgb(33,102,172)"
            ],
            [
             1,
             "rgb(5,48,97)"
            ]
           ],
           "sequential": [
            [
             0,
             "#440154"
            ],
            [
             0.1111111111111111,
             "#482878"
            ],
            [
             0.2222222222222222,
             "#3e4989"
            ],
            [
             0.3333333333333333,
             "#31688e"
            ],
            [
             0.4444444444444444,
             "#26828e"
            ],
            [
             0.5555555555555556,
             "#1f9e89"
            ],
            [
             0.6666666666666666,
             "#35b779"
            ],
            [
             0.7777777777777778,
             "#6ece58"
            ],
            [
             0.8888888888888888,
             "#b5de2b"
            ],
            [
             1,
             "#fde725"
            ]
           ],
           "sequentialminus": [
            [
             0,
             "#440154"
            ],
            [
             0.1111111111111111,
             "#482878"
            ],
            [
             0.2222222222222222,
             "#3e4989"
            ],
            [
             0.3333333333333333,
             "#31688e"
            ],
            [
             0.4444444444444444,
             "#26828e"
            ],
            [
             0.5555555555555556,
             "#1f9e89"
            ],
            [
             0.6666666666666666,
             "#35b779"
            ],
            [
             0.7777777777777778,
             "#6ece58"
            ],
            [
             0.8888888888888888,
             "#b5de2b"
            ],
            [
             1,
             "#fde725"
            ]
           ]
          },
          "colorway": [
           "#1F77B4",
           "#FF7F0E",
           "#2CA02C",
           "#D62728",
           "#9467BD",
           "#8C564B",
           "#E377C2",
           "#7F7F7F",
           "#BCBD22",
           "#17BECF"
          ],
          "font": {
           "color": "rgb(36,36,36)"
          },
          "geo": {
           "bgcolor": "white",
           "lakecolor": "white",
           "landcolor": "white",
           "showlakes": true,
           "showland": true,
           "subunitcolor": "white"
          },
          "hoverlabel": {
           "align": "left"
          },
          "hovermode": "closest",
          "mapbox": {
           "style": "light"
          },
          "paper_bgcolor": "white",
          "plot_bgcolor": "white",
          "polar": {
           "angularaxis": {
            "gridcolor": "rgb(232,232,232)",
            "linecolor": "rgb(36,36,36)",
            "showgrid": false,
            "showline": true,
            "ticks": "outside"
           },
           "bgcolor": "white",
           "radialaxis": {
            "gridcolor": "rgb(232,232,232)",
            "linecolor": "rgb(36,36,36)",
            "showgrid": false,
            "showline": true,
            "ticks": "outside"
           }
          },
          "scene": {
           "xaxis": {
            "backgroundcolor": "white",
            "gridcolor": "rgb(232,232,232)",
            "gridwidth": 2,
            "linecolor": "rgb(36,36,36)",
            "showbackground": true,
            "showgrid": false,
            "showline": true,
            "ticks": "outside",
            "zeroline": false,
            "zerolinecolor": "rgb(36,36,36)"
           },
           "yaxis": {
            "backgroundcolor": "white",
            "gridcolor": "rgb(232,232,232)",
            "gridwidth": 2,
            "linecolor": "rgb(36,36,36)",
            "showbackground": true,
            "showgrid": false,
            "showline": true,
            "ticks": "outside",
            "zeroline": false,
            "zerolinecolor": "rgb(36,36,36)"
           },
           "zaxis": {
            "backgroundcolor": "white",
            "gridcolor": "rgb(232,232,232)",
            "gridwidth": 2,
            "linecolor": "rgb(36,36,36)",
            "showbackground": true,
            "showgrid": false,
            "showline": true,
            "ticks": "outside",
            "zeroline": false,
            "zerolinecolor": "rgb(36,36,36)"
           }
          },
          "shapedefaults": {
           "fillcolor": "black",
           "line": {
            "width": 0
           },
           "opacity": 0.3
          },
          "ternary": {
           "aaxis": {
            "gridcolor": "rgb(232,232,232)",
            "linecolor": "rgb(36,36,36)",
            "showgrid": false,
            "showline": true,
            "ticks": "outside"
           },
           "baxis": {
            "gridcolor": "rgb(232,232,232)",
            "linecolor": "rgb(36,36,36)",
            "showgrid": false,
            "showline": true,
            "ticks": "outside"
           },
           "bgcolor": "white",
           "caxis": {
            "gridcolor": "rgb(232,232,232)",
            "linecolor": "rgb(36,36,36)",
            "showgrid": false,
            "showline": true,
            "ticks": "outside"
           }
          },
          "title": {
           "x": 0.05
          },
          "xaxis": {
           "automargin": true,
           "gridcolor": "rgb(232,232,232)",
           "linecolor": "rgb(36,36,36)",
           "showgrid": false,
           "showline": true,
           "ticks": "outside",
           "title": {
            "standoff": 15
           },
           "zeroline": false,
           "zerolinecolor": "rgb(36,36,36)"
          },
          "yaxis": {
           "automargin": true,
           "gridcolor": "rgb(232,232,232)",
           "linecolor": "rgb(36,36,36)",
           "showgrid": false,
           "showline": true,
           "ticks": "outside",
           "title": {
            "standoff": 15
           },
           "zeroline": false,
           "zerolinecolor": "rgb(36,36,36)"
          }
         }
        },
        "title": {
         "font": {
          "color": "Black",
          "size": 22
         },
         "text": "<b>Topic Probability Distribution</b>",
         "x": 0.5,
         "xanchor": "center",
         "y": 0.95,
         "yanchor": "top"
        },
        "width": 800,
        "xaxis": {
         "title": {
          "text": "Probability"
         }
        }
       }
      }
     },
     "metadata": {},
     "output_type": "display_data"
    }
   ],
   "source": [
    "# Visualize the topic-document distribution for a single document\n",
    "topic_model.visualize_distribution(topic_distr[abstract_id], custom_labels=True)\n"
   ]
  },
  {
   "cell_type": "code",
   "execution_count": null,
   "id": "2436f47c",
   "metadata": {},
   "outputs": [],
   "source": [
    "# Calculate the topic distributions on a token-level\n",
    "# topic_distr, topic_token_distr = topic_model.approximate_distribution(abstracts, use_embedding_model=True)\n",
    "\n",
    "# Visualize the token-level distributions\n",
    "# df = topic_model.visualize_approximate_distribution(abstracts[abstract_id], topic_token_distr[0])\n",
    "# df\n"
   ]
  },
  {
   "cell_type": "code",
   "execution_count": 42,
   "id": "94fdfa46",
   "metadata": {},
   "outputs": [
    {
     "name": "stderr",
     "output_type": "stream",
     "text": [
      "100%|██████████| 1/1 [00:02<00:00,  2.89s/it]\n"
     ]
    }
   ],
   "source": [
    "# Reduce outliers\n",
    "new_topics = topic_model.reduce_outliers(abstracts, topics)\n",
    "\n",
    "# Reduce outliers with pre-calculate embeddings instead\n",
    "new_topics = topic_model.reduce_outliers(abstracts, topics, strategy=\"embeddings\", embeddings=embeddings)\n"
   ]
  },
  {
   "cell_type": "code",
   "execution_count": 43,
   "id": "eb0eac1d",
   "metadata": {},
   "outputs": [
    {
     "name": "stderr",
     "output_type": "stream",
     "text": [
      "2025-05-21 08:41:51,380 - BERTopic - WARNING: Using a custom list of topic assignments may lead to errors if topic reduction techniques are used afterwards. Make sure that manually assigning topics is the last step in the pipeline.Note that topic embeddings will also be created through weightedc-TF-IDF embeddings instead of centroid embeddings.\n"
     ]
    }
   ],
   "source": [
    "topic_model.update_topics(abstracts, topics=new_topics)\n"
   ]
  },
  {
   "cell_type": "code",
   "execution_count": null,
   "id": "dfcc8999",
   "metadata": {},
   "outputs": [
    {
     "data": {
      "text/html": [
       "<div>\n",
       "<style scoped>\n",
       "    .dataframe tbody tr th:only-of-type {\n",
       "        vertical-align: middle;\n",
       "    }\n",
       "\n",
       "    .dataframe tbody tr th {\n",
       "        vertical-align: top;\n",
       "    }\n",
       "\n",
       "    .dataframe thead th {\n",
       "        text-align: right;\n",
       "    }\n",
       "</style>\n",
       "<table border=\"1\" class=\"dataframe\">\n",
       "  <thead>\n",
       "    <tr style=\"text-align: right;\">\n",
       "      <th></th>\n",
       "      <th>Topic</th>\n",
       "      <th>Count</th>\n",
       "      <th>Name</th>\n",
       "      <th>Representation</th>\n",
       "      <th>KeyBERT</th>\n",
       "      <th>Flan-t5</th>\n",
       "      <th>MMR</th>\n",
       "      <th>POS</th>\n",
       "      <th>Representative_Docs</th>\n",
       "    </tr>\n",
       "  </thead>\n",
       "  <tbody>\n",
       "    <tr>\n",
       "      <th>0</th>\n",
       "      <td>0</td>\n",
       "      <td>1077</td>\n",
       "      <td>0_the_of_and_to</td>\n",
       "      <td>[the, of, and, to, in, cancer, will, for, is, ...</td>\n",
       "      <td>[cancer cells, tumors, metastatic, tumour, can...</td>\n",
       "      <td>[IPSIRIUS, , , , , , , , , ]</td>\n",
       "      <td>[cancer, cells, patients, project, immune, res...</td>\n",
       "      <td>[cancer, cell, cells, tumor, treatment, patien...</td>\n",
       "      <td>[Novel cancer molecular-targeted therapies all...</td>\n",
       "    </tr>\n",
       "    <tr>\n",
       "      <th>1</th>\n",
       "      <td>1</td>\n",
       "      <td>378</td>\n",
       "      <td>1_and_the_of_to</td>\n",
       "      <td>[and, the, of, to, in, will, for, with, is, by]</td>\n",
       "      <td>[sars cov, sars, covid 19, viruses, antiviral,...</td>\n",
       "      <td>[Virus: Virus: Virus: Virus: Virus: Virus: Vir...</td>\n",
       "      <td>[vaccine, malaria, viruses, immune, vaccines, ...</td>\n",
       "      <td>[viral, virus, vaccine, malaria, viruses, infe...</td>\n",
       "      <td>[Lower respiratory tract infections resulting ...</td>\n",
       "    </tr>\n",
       "    <tr>\n",
       "      <th>2</th>\n",
       "      <td>2</td>\n",
       "      <td>204</td>\n",
       "      <td>2_the_of_and_in</td>\n",
       "      <td>[the, of, and, in, ad, to, brain, disease, wil...</td>\n",
       "      <td>[microglia, neuroinflammation, neurodegenerati...</td>\n",
       "      <td>[human microglia transduce toxicity to neurons...</td>\n",
       "      <td>[dementia, microglia, neurodegenerative, alzhe...</td>\n",
       "      <td>[disease, brain, dementia, protein, neurodegen...</td>\n",
       "      <td>[The recently approved drugs for Alzheimers di...</td>\n",
       "    </tr>\n",
       "    <tr>\n",
       "      <th>3</th>\n",
       "      <td>3</td>\n",
       "      <td>189</td>\n",
       "      <td>3_the_and_of_to</td>\n",
       "      <td>[the, and, of, to, in, heart, cardiac, for, is...</td>\n",
       "      <td>[cardiomyocytes, myocardial, cardiac, cardiova...</td>\n",
       "      <td>[novel bioprinting for cardiac fibrosis, , , ,...</td>\n",
       "      <td>[heart, cardiac, patients, cardiovascular, str...</td>\n",
       "      <td>[heart, cardiac, patients, clinical, cardiovas...</td>\n",
       "      <td>[Cardiovascular diseases (CVDs) are the leadin...</td>\n",
       "    </tr>\n",
       "    <tr>\n",
       "      <th>4</th>\n",
       "      <td>4</td>\n",
       "      <td>195</td>\n",
       "      <td>4_and_the_of_to</td>\n",
       "      <td>[and, the, of, to, in, on, social, health, wil...</td>\n",
       "      <td>[eu, europe, european, crises, 19 pandemic, pa...</td>\n",
       "      <td>[REGROUP: resiliency, , , , , , , , , ]</td>\n",
       "      <td>[social, project, research, policy, covid, wom...</td>\n",
       "      <td>[social, political, health, pandemic, project,...</td>\n",
       "      <td>[RECOVER-GEU presents an innovative gendered p...</td>\n",
       "    </tr>\n",
       "    <tr>\n",
       "      <th>5</th>\n",
       "      <td>5</td>\n",
       "      <td>135</td>\n",
       "      <td>5_the_of_and_to</td>\n",
       "      <td>[the, of, and, to, in, resistance, antibiotics...</td>\n",
       "      <td>[antimicrobial resistance, antibiotic resistan...</td>\n",
       "      <td>[Antimicrobial resistance, , , , , , , , , ]</td>\n",
       "      <td>[antibiotics, antibiotic, antimicrobial, bacte...</td>\n",
       "      <td>[antibiotics, resistance, antibiotic, antimicr...</td>\n",
       "      <td>[The emergence of Gram-negative bacterial resi...</td>\n",
       "    </tr>\n",
       "    <tr>\n",
       "      <th>6</th>\n",
       "      <td>6</td>\n",
       "      <td>187</td>\n",
       "      <td>6_the_and_of_to</td>\n",
       "      <td>[the, and, of, to, in, for, bone, is, will, with]</td>\n",
       "      <td>[bone regeneration, bioprinting, tissue engine...</td>\n",
       "      <td>[BioForceInk: bioactive reinforcing bioink, , ...</td>\n",
       "      <td>[bone, tissue, oa, implants, bioprinting, cart...</td>\n",
       "      <td>[bone, tissue, pain, mechanical, implants, bio...</td>\n",
       "      <td>[Bone fracture nonunion (FNU) is one of the le...</td>\n",
       "    </tr>\n",
       "    <tr>\n",
       "      <th>7</th>\n",
       "      <td>7</td>\n",
       "      <td>113</td>\n",
       "      <td>7_gut_the_and_of</td>\n",
       "      <td>[gut, the, and, of, in, to, microbiome, ibd, w...</td>\n",
       "      <td>[gut microbiome, gut microbiota, microbiome, m...</td>\n",
       "      <td>[Inflammatory Bowel Disease, , , , , , , , , ]</td>\n",
       "      <td>[gut, ibd, microbiota, intestinal, microbiome,...</td>\n",
       "      <td>[gut, microbiota, intestinal, microbiome, host...</td>\n",
       "      <td>[The human gut microbiota, the trillions of mi...</td>\n",
       "    </tr>\n",
       "    <tr>\n",
       "      <th>8</th>\n",
       "      <td>8</td>\n",
       "      <td>139</td>\n",
       "      <td>8_food_and_the_of</td>\n",
       "      <td>[food, and, the, of, to, in, will, for, sustai...</td>\n",
       "      <td>[food systems, sustainable food, food security...</td>\n",
       "      <td>[INCiTiS-FOOD, , , , , , , , , ]</td>\n",
       "      <td>[food, sustainable, protein, food systems, nut...</td>\n",
       "      <td>[food, sustainable, protein, production, nutri...</td>\n",
       "      <td>[The agri-food industry faces numerous challen...</td>\n",
       "    </tr>\n",
       "    <tr>\n",
       "      <th>9</th>\n",
       "      <td>9</td>\n",
       "      <td>146</td>\n",
       "      <td>9_the_of_and_to</td>\n",
       "      <td>[the, of, and, to, in, will, brain, for, this,...</td>\n",
       "      <td>[cortex, neural, neurons, neuronal, neuroscien...</td>\n",
       "      <td>[psychiatric, , , , , , , , , ]</td>\n",
       "      <td>[brain, neural, psychiatric, cognitive, anxiet...</td>\n",
       "      <td>[brain, neural, disorders, visual, sensory, ac...</td>\n",
       "      <td>[An organism’s survival depends on accurately ...</td>\n",
       "    </tr>\n",
       "    <tr>\n",
       "      <th>10</th>\n",
       "      <td>10</td>\n",
       "      <td>98</td>\n",
       "      <td>10_plant_the_of_and</td>\n",
       "      <td>[plant, the, of, and, to, in, plants, will, cr...</td>\n",
       "      <td>[arabidopsis, plant growth, plant, plants, cro...</td>\n",
       "      <td>[SL biosensors, , , , , , , , , ]</td>\n",
       "      <td>[plant, plants, crop, crops, drought, soil, ro...</td>\n",
       "      <td>[plant, plants, crop, crops, drought, climate,...</td>\n",
       "      <td>[Agronomy faces significant global challenges ...</td>\n",
       "    </tr>\n",
       "    <tr>\n",
       "      <th>11</th>\n",
       "      <td>11</td>\n",
       "      <td>150</td>\n",
       "      <td>11_the_brain_and_of</td>\n",
       "      <td>[the, brain, and, of, to, in, will, for, with,...</td>\n",
       "      <td>[brain stimulation, neuromodulation, electrica...</td>\n",
       "      <td>[neuromodulation, , , , , , , , , ]</td>\n",
       "      <td>[brain, stimulation, epilepsy, neural, neurolo...</td>\n",
       "      <td>[brain, stimulation, epilepsy, neural, spinal,...</td>\n",
       "      <td>[The pathological alterations of neurological ...</td>\n",
       "    </tr>\n",
       "    <tr>\n",
       "      <th>12</th>\n",
       "      <td>12</td>\n",
       "      <td>85</td>\n",
       "      <td>12_the_and_of_to</td>\n",
       "      <td>[the, and, of, to, in, diabetes, insulin, meta...</td>\n",
       "      <td>[glucagon, insulin, islets, t1d, t2d, diabetes...</td>\n",
       "      <td>[Glucose-orchestrated islet inflammation, , , ...</td>\n",
       "      <td>[diabetes, insulin, glucose, obesity, t2d, cel...</td>\n",
       "      <td>[diabetes, insulin, glucose, obesity, cell, me...</td>\n",
       "      <td>[Obesity and type 2 diabetes continuously prog...</td>\n",
       "    </tr>\n",
       "    <tr>\n",
       "      <th>13</th>\n",
       "      <td>13</td>\n",
       "      <td>128</td>\n",
       "      <td>13_the_of_and_to</td>\n",
       "      <td>[the, of, and, to, in, for, will, is, by, as]</td>\n",
       "      <td>[catalysis, enantiomers, catalysts, catalytic,...</td>\n",
       "      <td>[chiral molecules containing axes of chirality...</td>\n",
       "      <td>[synthesis, chiral, molecules, chemistry, reac...</td>\n",
       "      <td>[synthesis, chiral, molecules, chemistry, reac...</td>\n",
       "      <td>[Late-stage functionalization (LSF) is a rapid...</td>\n",
       "    </tr>\n",
       "    <tr>\n",
       "      <th>14</th>\n",
       "      <td>14</td>\n",
       "      <td>52</td>\n",
       "      <td>14_liver_the_in_of</td>\n",
       "      <td>[liver, the, in, of, and, to, nafld, disease, ...</td>\n",
       "      <td>[nafld, disease nafld, liver fibrosis, fatty l...</td>\n",
       "      <td>[nafld, fatty liver disease, , , , , , , , , ]</td>\n",
       "      <td>[liver, nafld, liver disease, metabolic, hepat...</td>\n",
       "      <td>[liver, disease, metabolic, hepatic, fibrosis,...</td>\n",
       "      <td>[Liver cirrhosis and liver cancer are common a...</td>\n",
       "    </tr>\n",
       "    <tr>\n",
       "      <th>15</th>\n",
       "      <td>15</td>\n",
       "      <td>132</td>\n",
       "      <td>15_and_the_data_of</td>\n",
       "      <td>[and, the, data, of, to, in, for, will, health...</td>\n",
       "      <td>[health data, digital health, european health,...</td>\n",
       "      <td>[ai, , , , , , , , , ]</td>\n",
       "      <td>[data, ai, privacy, healthcare, health data, h...</td>\n",
       "      <td>[data, health, privacy, healthcare, digital, m...</td>\n",
       "      <td>[Integrated, high-quality personal health data...</td>\n",
       "    </tr>\n",
       "    <tr>\n",
       "      <th>16</th>\n",
       "      <td>16</td>\n",
       "      <td>62</td>\n",
       "      <td>16_obesity_and_the_of</td>\n",
       "      <td>[obesity, and, the, of, health, to, in, for, w...</td>\n",
       "      <td>[childhood obesity, obesity, overweight obesit...</td>\n",
       "      <td>[Obesity in Europe disproportionately affects ...</td>\n",
       "      <td>[obesity, interventions, prevention, metabolic...</td>\n",
       "      <td>[obesity, health, weight, interventions, overw...</td>\n",
       "      <td>[Changemaker objective: To implement &amp; evaluat...</td>\n",
       "    </tr>\n",
       "    <tr>\n",
       "      <th>17</th>\n",
       "      <td>17</td>\n",
       "      <td>38</td>\n",
       "      <td>17_the_eye_of_retina</td>\n",
       "      <td>[the, eye, of, retina, and, retinal, in, for, ...</td>\n",
       "      <td>[retinal diseases, intraocular, retina, retina...</td>\n",
       "      <td>[VISIONSAFE, , , , , , , , , ]</td>\n",
       "      <td>[retinal, retina, ocular, blindness, glaucoma,...</td>\n",
       "      <td>[eye, retinal, retina, ocular, blindness, visi...</td>\n",
       "      <td>[Rare Eye Diseases (REDs) are a major cause of...</td>\n",
       "    </tr>\n",
       "  </tbody>\n",
       "</table>\n",
       "</div>"
      ],
      "text/plain": [
       "    Topic  Count                   Name  \\\n",
       "0       0   1077        0_the_of_and_to   \n",
       "1       1    378        1_and_the_of_to   \n",
       "2       2    204        2_the_of_and_in   \n",
       "3       3    189        3_the_and_of_to   \n",
       "4       4    195        4_and_the_of_to   \n",
       "5       5    135        5_the_of_and_to   \n",
       "6       6    187        6_the_and_of_to   \n",
       "7       7    113       7_gut_the_and_of   \n",
       "8       8    139      8_food_and_the_of   \n",
       "9       9    146        9_the_of_and_to   \n",
       "10     10     98    10_plant_the_of_and   \n",
       "11     11    150    11_the_brain_and_of   \n",
       "12     12     85       12_the_and_of_to   \n",
       "13     13    128       13_the_of_and_to   \n",
       "14     14     52     14_liver_the_in_of   \n",
       "15     15    132     15_and_the_data_of   \n",
       "16     16     62  16_obesity_and_the_of   \n",
       "17     17     38   17_the_eye_of_retina   \n",
       "\n",
       "                                       Representation  \\\n",
       "0   [the, of, and, to, in, cancer, will, for, is, ...   \n",
       "1     [and, the, of, to, in, will, for, with, is, by]   \n",
       "2   [the, of, and, in, ad, to, brain, disease, wil...   \n",
       "3   [the, and, of, to, in, heart, cardiac, for, is...   \n",
       "4   [and, the, of, to, in, on, social, health, wil...   \n",
       "5   [the, of, and, to, in, resistance, antibiotics...   \n",
       "6   [the, and, of, to, in, for, bone, is, will, with]   \n",
       "7   [gut, the, and, of, in, to, microbiome, ibd, w...   \n",
       "8   [food, and, the, of, to, in, will, for, sustai...   \n",
       "9   [the, of, and, to, in, will, brain, for, this,...   \n",
       "10  [plant, the, of, and, to, in, plants, will, cr...   \n",
       "11  [the, brain, and, of, to, in, will, for, with,...   \n",
       "12  [the, and, of, to, in, diabetes, insulin, meta...   \n",
       "13      [the, of, and, to, in, for, will, is, by, as]   \n",
       "14  [liver, the, in, of, and, to, nafld, disease, ...   \n",
       "15  [and, the, data, of, to, in, for, will, health...   \n",
       "16  [obesity, and, the, of, health, to, in, for, w...   \n",
       "17  [the, eye, of, retina, and, retinal, in, for, ...   \n",
       "\n",
       "                                              KeyBERT  \\\n",
       "0   [cancer cells, tumors, metastatic, tumour, can...   \n",
       "1   [sars cov, sars, covid 19, viruses, antiviral,...   \n",
       "2   [microglia, neuroinflammation, neurodegenerati...   \n",
       "3   [cardiomyocytes, myocardial, cardiac, cardiova...   \n",
       "4   [eu, europe, european, crises, 19 pandemic, pa...   \n",
       "5   [antimicrobial resistance, antibiotic resistan...   \n",
       "6   [bone regeneration, bioprinting, tissue engine...   \n",
       "7   [gut microbiome, gut microbiota, microbiome, m...   \n",
       "8   [food systems, sustainable food, food security...   \n",
       "9   [cortex, neural, neurons, neuronal, neuroscien...   \n",
       "10  [arabidopsis, plant growth, plant, plants, cro...   \n",
       "11  [brain stimulation, neuromodulation, electrica...   \n",
       "12  [glucagon, insulin, islets, t1d, t2d, diabetes...   \n",
       "13  [catalysis, enantiomers, catalysts, catalytic,...   \n",
       "14  [nafld, disease nafld, liver fibrosis, fatty l...   \n",
       "15  [health data, digital health, european health,...   \n",
       "16  [childhood obesity, obesity, overweight obesit...   \n",
       "17  [retinal diseases, intraocular, retina, retina...   \n",
       "\n",
       "                                              Flan-t5  \\\n",
       "0                        [IPSIRIUS, , , , , , , , , ]   \n",
       "1   [Virus: Virus: Virus: Virus: Virus: Virus: Vir...   \n",
       "2   [human microglia transduce toxicity to neurons...   \n",
       "3   [novel bioprinting for cardiac fibrosis, , , ,...   \n",
       "4             [REGROUP: resiliency, , , , , , , , , ]   \n",
       "5        [Antimicrobial resistance, , , , , , , , , ]   \n",
       "6   [BioForceInk: bioactive reinforcing bioink, , ...   \n",
       "7      [Inflammatory Bowel Disease, , , , , , , , , ]   \n",
       "8                    [INCiTiS-FOOD, , , , , , , , , ]   \n",
       "9                     [psychiatric, , , , , , , , , ]   \n",
       "10                  [SL biosensors, , , , , , , , , ]   \n",
       "11                [neuromodulation, , , , , , , , , ]   \n",
       "12  [Glucose-orchestrated islet inflammation, , , ...   \n",
       "13  [chiral molecules containing axes of chirality...   \n",
       "14     [nafld, fatty liver disease, , , , , , , , , ]   \n",
       "15                             [ai, , , , , , , , , ]   \n",
       "16  [Obesity in Europe disproportionately affects ...   \n",
       "17                     [VISIONSAFE, , , , , , , , , ]   \n",
       "\n",
       "                                                  MMR  \\\n",
       "0   [cancer, cells, patients, project, immune, res...   \n",
       "1   [vaccine, malaria, viruses, immune, vaccines, ...   \n",
       "2   [dementia, microglia, neurodegenerative, alzhe...   \n",
       "3   [heart, cardiac, patients, cardiovascular, str...   \n",
       "4   [social, project, research, policy, covid, wom...   \n",
       "5   [antibiotics, antibiotic, antimicrobial, bacte...   \n",
       "6   [bone, tissue, oa, implants, bioprinting, cart...   \n",
       "7   [gut, ibd, microbiota, intestinal, microbiome,...   \n",
       "8   [food, sustainable, protein, food systems, nut...   \n",
       "9   [brain, neural, psychiatric, cognitive, anxiet...   \n",
       "10  [plant, plants, crop, crops, drought, soil, ro...   \n",
       "11  [brain, stimulation, epilepsy, neural, neurolo...   \n",
       "12  [diabetes, insulin, glucose, obesity, t2d, cel...   \n",
       "13  [synthesis, chiral, molecules, chemistry, reac...   \n",
       "14  [liver, nafld, liver disease, metabolic, hepat...   \n",
       "15  [data, ai, privacy, healthcare, health data, h...   \n",
       "16  [obesity, interventions, prevention, metabolic...   \n",
       "17  [retinal, retina, ocular, blindness, glaucoma,...   \n",
       "\n",
       "                                                  POS  \\\n",
       "0   [cancer, cell, cells, tumor, treatment, patien...   \n",
       "1   [viral, virus, vaccine, malaria, viruses, infe...   \n",
       "2   [disease, brain, dementia, protein, neurodegen...   \n",
       "3   [heart, cardiac, patients, clinical, cardiovas...   \n",
       "4   [social, political, health, pandemic, project,...   \n",
       "5   [antibiotics, resistance, antibiotic, antimicr...   \n",
       "6   [bone, tissue, pain, mechanical, implants, bio...   \n",
       "7   [gut, microbiota, intestinal, microbiome, host...   \n",
       "8   [food, sustainable, protein, production, nutri...   \n",
       "9   [brain, neural, disorders, visual, sensory, ac...   \n",
       "10  [plant, plants, crop, crops, drought, climate,...   \n",
       "11  [brain, stimulation, epilepsy, neural, spinal,...   \n",
       "12  [diabetes, insulin, glucose, obesity, cell, me...   \n",
       "13  [synthesis, chiral, molecules, chemistry, reac...   \n",
       "14  [liver, disease, metabolic, hepatic, fibrosis,...   \n",
       "15  [data, health, privacy, healthcare, digital, m...   \n",
       "16  [obesity, health, weight, interventions, overw...   \n",
       "17  [eye, retinal, retina, ocular, blindness, visi...   \n",
       "\n",
       "                                  Representative_Docs  \n",
       "0   [Novel cancer molecular-targeted therapies all...  \n",
       "1   [Lower respiratory tract infections resulting ...  \n",
       "2   [The recently approved drugs for Alzheimers di...  \n",
       "3   [Cardiovascular diseases (CVDs) are the leadin...  \n",
       "4   [RECOVER-GEU presents an innovative gendered p...  \n",
       "5   [The emergence of Gram-negative bacterial resi...  \n",
       "6   [Bone fracture nonunion (FNU) is one of the le...  \n",
       "7   [The human gut microbiota, the trillions of mi...  \n",
       "8   [The agri-food industry faces numerous challen...  \n",
       "9   [An organism’s survival depends on accurately ...  \n",
       "10  [Agronomy faces significant global challenges ...  \n",
       "11  [The pathological alterations of neurological ...  \n",
       "12  [Obesity and type 2 diabetes continuously prog...  \n",
       "13  [Late-stage functionalization (LSF) is a rapid...  \n",
       "14  [Liver cirrhosis and liver cancer are common a...  \n",
       "15  [Integrated, high-quality personal health data...  \n",
       "16  [Changemaker objective: To implement & evaluat...  \n",
       "17  [Rare Eye Diseases (REDs) are a major cause of...  "
      ]
     },
     "execution_count": 44,
     "metadata": {},
     "output_type": "execute_result"
    }
   ],
   "source": [
    "topic_model.get_topic_info()\n"
   ]
  },
  {
   "cell_type": "code",
   "execution_count": null,
   "id": "5fae575d",
   "metadata": {},
   "outputs": [],
   "source": [
    "# Visualize topics and documents\n",
    "fig = topic_model.visualize_documents(\n",
    "    titles,\n",
    "    reduced_embeddings=reduced_embeddings,\n",
    "    width=1200,\n",
    "    hide_annotations=True\n",
    ")\n",
    "\n",
    "# Update fonts of legend for easier visualization\n",
    "fig.update_layout(font=dict(size=16))\n"
   ]
  },
  {
   "cell_type": "code",
   "execution_count": null,
   "id": "1b0f7a27",
   "metadata": {},
   "outputs": [],
   "source": [
    "# Visualize barchart with ranked keywords\n",
    "topic_model.visualize_barchart()\n"
   ]
  },
  {
   "cell_type": "code",
   "execution_count": null,
   "id": "eac24894",
   "metadata": {},
   "outputs": [],
   "source": [
    "# Visualize relationships between topics\n",
    "# topic_model.visualize_heatmap(n_clusters=30)\n"
   ]
  },
  {
   "cell_type": "code",
   "execution_count": null,
   "id": "75ce8878",
   "metadata": {},
   "outputs": [],
   "source": [
    "# Visualize the potential hierarchical structure of topics\n",
    "# topic_model.visualize_hierarchy()\n"
   ]
  },
  {
   "cell_type": "code",
   "execution_count": null,
   "id": "6a4ef221",
   "metadata": {},
   "outputs": [],
   "source": [
    "# Visualize topics and documents\n",
    "fig = topic_model.visualize_document_datamap(\n",
    "    titles,\n",
    "    topics=list(range(30)),\n",
    "    reduced_embeddings=reduced_embeddings,\n",
    "    width=1200\n",
    ")\n",
    "fig\n"
   ]
  }
 ],
 "metadata": {
  "kernelspec": {
   "display_name": ".venv",
   "language": "python",
   "name": "python3"
  },
  "language_info": {
   "codemirror_mode": {
    "name": "ipython",
    "version": 3
   },
   "file_extension": ".py",
   "mimetype": "text/x-python",
   "name": "python",
   "nbconvert_exporter": "python",
   "pygments_lexer": "ipython3",
   "version": "3.10.12"
  }
 },
 "nbformat": 4,
 "nbformat_minor": 5
}
